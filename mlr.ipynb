{
 "cells": [
  {
   "cell_type": "code",
   "execution_count": 1,
   "metadata": {},
   "outputs": [],
   "source": [
    "import pandas as pd\n",
    "import numpy as np\n",
    "import matplotlib.pyplot as plt\n",
    "import seaborn as sns\n",
    "from sklearn.linear_model import LinearRegression"
   ]
  },
  {
   "cell_type": "markdown",
   "metadata": {},
   "source": [
    "## SFF"
   ]
  },
  {
   "cell_type": "code",
   "execution_count": 2,
   "metadata": {},
   "outputs": [],
   "source": [
    "df1 = pd.read_csv(\"SFF.csv\")"
   ]
  },
  {
   "cell_type": "code",
   "execution_count": 12,
   "metadata": {},
   "outputs": [
    {
     "data": {
      "text/html": [
       "<div>\n",
       "<style scoped>\n",
       "    .dataframe tbody tr th:only-of-type {\n",
       "        vertical-align: middle;\n",
       "    }\n",
       "\n",
       "    .dataframe tbody tr th {\n",
       "        vertical-align: top;\n",
       "    }\n",
       "\n",
       "    .dataframe thead th {\n",
       "        text-align: right;\n",
       "    }\n",
       "</style>\n",
       "<table border=\"1\" class=\"dataframe\">\n",
       "  <thead>\n",
       "    <tr style=\"text-align: right;\">\n",
       "      <th></th>\n",
       "      <th>weathercode (wmo code)</th>\n",
       "      <th>temperature_2m (°C)</th>\n",
       "      <th>relativehumidity_2m (%)</th>\n",
       "      <th>dewpoint_2m (°C)</th>\n",
       "      <th>Yield (mt/ha)</th>\n",
       "    </tr>\n",
       "  </thead>\n",
       "  <tbody>\n",
       "    <tr>\n",
       "      <th>0</th>\n",
       "      <td>3.0</td>\n",
       "      <td>23.486279</td>\n",
       "      <td>86.200457</td>\n",
       "      <td>20.899235</td>\n",
       "      <td>0.452088</td>\n",
       "    </tr>\n",
       "    <tr>\n",
       "      <th>1</th>\n",
       "      <td>3.0</td>\n",
       "      <td>23.378607</td>\n",
       "      <td>86.403995</td>\n",
       "      <td>20.856210</td>\n",
       "      <td>0.493333</td>\n",
       "    </tr>\n",
       "    <tr>\n",
       "      <th>2</th>\n",
       "      <td>3.0</td>\n",
       "      <td>23.253153</td>\n",
       "      <td>86.111225</td>\n",
       "      <td>20.664014</td>\n",
       "      <td>0.625789</td>\n",
       "    </tr>\n",
       "    <tr>\n",
       "      <th>3</th>\n",
       "      <td>3.0</td>\n",
       "      <td>23.086187</td>\n",
       "      <td>88.171575</td>\n",
       "      <td>20.931313</td>\n",
       "      <td>0.641301</td>\n",
       "    </tr>\n",
       "    <tr>\n",
       "      <th>4</th>\n",
       "      <td>3.0</td>\n",
       "      <td>23.100217</td>\n",
       "      <td>88.401142</td>\n",
       "      <td>20.990674</td>\n",
       "      <td>0.669609</td>\n",
       "    </tr>\n",
       "    <tr>\n",
       "      <th>...</th>\n",
       "      <td>...</td>\n",
       "      <td>...</td>\n",
       "      <td>...</td>\n",
       "      <td>...</td>\n",
       "      <td>...</td>\n",
       "    </tr>\n",
       "    <tr>\n",
       "      <th>952</th>\n",
       "      <td>1.0</td>\n",
       "      <td>25.101781</td>\n",
       "      <td>81.959703</td>\n",
       "      <td>21.787637</td>\n",
       "      <td>0.000000</td>\n",
       "    </tr>\n",
       "    <tr>\n",
       "      <th>953</th>\n",
       "      <td>1.0</td>\n",
       "      <td>25.174361</td>\n",
       "      <td>81.307420</td>\n",
       "      <td>21.708082</td>\n",
       "      <td>0.000000</td>\n",
       "    </tr>\n",
       "    <tr>\n",
       "      <th>954</th>\n",
       "      <td>1.0</td>\n",
       "      <td>25.272291</td>\n",
       "      <td>80.921790</td>\n",
       "      <td>21.740745</td>\n",
       "      <td>0.000000</td>\n",
       "    </tr>\n",
       "    <tr>\n",
       "      <th>955</th>\n",
       "      <td>1.0</td>\n",
       "      <td>25.110696</td>\n",
       "      <td>81.587671</td>\n",
       "      <td>21.717591</td>\n",
       "      <td>0.000000</td>\n",
       "    </tr>\n",
       "    <tr>\n",
       "      <th>956</th>\n",
       "      <td>51.0</td>\n",
       "      <td>25.006564</td>\n",
       "      <td>81.811986</td>\n",
       "      <td>21.663824</td>\n",
       "      <td>0.000000</td>\n",
       "    </tr>\n",
       "  </tbody>\n",
       "</table>\n",
       "<p>957 rows × 5 columns</p>\n",
       "</div>"
      ],
      "text/plain": [
       "     weathercode (wmo code)  temperature_2m (°C)  relativehumidity_2m (%)  \\\n",
       "0                       3.0            23.486279                86.200457   \n",
       "1                       3.0            23.378607                86.403995   \n",
       "2                       3.0            23.253153                86.111225   \n",
       "3                       3.0            23.086187                88.171575   \n",
       "4                       3.0            23.100217                88.401142   \n",
       "..                      ...                  ...                      ...   \n",
       "952                     1.0            25.101781                81.959703   \n",
       "953                     1.0            25.174361                81.307420   \n",
       "954                     1.0            25.272291                80.921790   \n",
       "955                     1.0            25.110696                81.587671   \n",
       "956                    51.0            25.006564                81.811986   \n",
       "\n",
       "     dewpoint_2m (°C)  Yield (mt/ha)  \n",
       "0           20.899235       0.452088  \n",
       "1           20.856210       0.493333  \n",
       "2           20.664014       0.625789  \n",
       "3           20.931313       0.641301  \n",
       "4           20.990674       0.669609  \n",
       "..                ...            ...  \n",
       "952         21.787637       0.000000  \n",
       "953         21.708082       0.000000  \n",
       "954         21.740745       0.000000  \n",
       "955         21.717591       0.000000  \n",
       "956         21.663824       0.000000  \n",
       "\n",
       "[957 rows x 5 columns]"
      ]
     },
     "execution_count": 12,
     "metadata": {},
     "output_type": "execute_result"
    }
   ],
   "source": [
    "df1 = df1.drop(\"Unnamed: 0\", axis=1)\n",
    "df1"
   ]
  },
  {
   "cell_type": "code",
   "execution_count": 13,
   "metadata": {},
   "outputs": [
    {
     "name": "stderr",
     "output_type": "stream",
     "text": [
      "C:\\Users\\Darah Manayaga\\AppData\\Local\\Temp\\ipykernel_17900\\2279436022.py:1: FutureWarning: In a future version of pandas all arguments of DataFrame.drop except for the argument 'labels' will be keyword-only.\n",
      "  x = df1.drop('Yield (mt/ha)', 1)\n"
     ]
    }
   ],
   "source": [
    "x = df1.drop('Yield (mt/ha)', 1)\n",
    "y = df1['Yield (mt/ha)']"
   ]
  },
  {
   "cell_type": "code",
   "execution_count": 14,
   "metadata": {},
   "outputs": [],
   "source": [
    "from sklearn.model_selection import train_test_split\n",
    "X_train, X_test, y_train, y_test = train_test_split(x, y, test_size = 0.3, \n",
    "                 random_state = 100) "
   ]
  },
  {
   "cell_type": "code",
   "execution_count": 15,
   "metadata": {},
   "outputs": [],
   "source": [
    "mlr = LinearRegression()"
   ]
  },
  {
   "cell_type": "code",
   "execution_count": 16,
   "metadata": {},
   "outputs": [
    {
     "data": {
      "text/plain": [
       "LinearRegression()"
      ]
     },
     "execution_count": 16,
     "metadata": {},
     "output_type": "execute_result"
    }
   ],
   "source": [
    "mlr.fit(X_train, y_train)"
   ]
  },
  {
   "cell_type": "code",
   "execution_count": 17,
   "metadata": {},
   "outputs": [
    {
     "name": "stdout",
     "output_type": "stream",
     "text": [
      "Intercept:  -13.521891825955613\n",
      "Coefficients:\n"
     ]
    },
    {
     "data": {
      "text/plain": [
       "[('weathercode (wmo code)', -0.0038413865576585864),\n",
       " ('temperature_2m (°C)', 0.6596093883886169),\n",
       " ('relativehumidity_2m (%)', 0.1248371724288872),\n",
       " ('dewpoint_2m (°C)', -0.5798019268768502)]"
      ]
     },
     "execution_count": 17,
     "metadata": {},
     "output_type": "execute_result"
    }
   ],
   "source": [
    "print(\"Intercept: \", mlr.intercept_)\n",
    "print(\"Coefficients:\")\n",
    "list(zip(x, mlr.coef_))"
   ]
  },
  {
   "cell_type": "markdown",
   "metadata": {},
   "source": [
    "## VIF"
   ]
  },
  {
   "cell_type": "code",
   "execution_count": 18,
   "metadata": {},
   "outputs": [],
   "source": [
    "df2 = pd.read_csv(\"VIF.csv\")"
   ]
  },
  {
   "cell_type": "code",
   "execution_count": 20,
   "metadata": {},
   "outputs": [
    {
     "data": {
      "text/html": [
       "<div>\n",
       "<style scoped>\n",
       "    .dataframe tbody tr th:only-of-type {\n",
       "        vertical-align: middle;\n",
       "    }\n",
       "\n",
       "    .dataframe tbody tr th {\n",
       "        vertical-align: top;\n",
       "    }\n",
       "\n",
       "    .dataframe thead th {\n",
       "        text-align: right;\n",
       "    }\n",
       "</style>\n",
       "<table border=\"1\" class=\"dataframe\">\n",
       "  <thead>\n",
       "    <tr style=\"text-align: right;\">\n",
       "      <th></th>\n",
       "      <th>weathercode (wmo code)</th>\n",
       "      <th>rain (mm)</th>\n",
       "      <th>windspeed_10m (km/h)</th>\n",
       "      <th>Yield (mt/ha)</th>\n",
       "    </tr>\n",
       "  </thead>\n",
       "  <tbody>\n",
       "    <tr>\n",
       "      <th>0</th>\n",
       "      <td>3.0</td>\n",
       "      <td>0.365126</td>\n",
       "      <td>6.732808</td>\n",
       "      <td>0.452088</td>\n",
       "    </tr>\n",
       "    <tr>\n",
       "      <th>1</th>\n",
       "      <td>3.0</td>\n",
       "      <td>0.292443</td>\n",
       "      <td>6.505616</td>\n",
       "      <td>0.493333</td>\n",
       "    </tr>\n",
       "    <tr>\n",
       "      <th>2</th>\n",
       "      <td>3.0</td>\n",
       "      <td>0.320560</td>\n",
       "      <td>5.957605</td>\n",
       "      <td>0.625789</td>\n",
       "    </tr>\n",
       "    <tr>\n",
       "      <th>3</th>\n",
       "      <td>3.0</td>\n",
       "      <td>0.413082</td>\n",
       "      <td>5.702637</td>\n",
       "      <td>0.641301</td>\n",
       "    </tr>\n",
       "    <tr>\n",
       "      <th>4</th>\n",
       "      <td>3.0</td>\n",
       "      <td>0.391427</td>\n",
       "      <td>5.919954</td>\n",
       "      <td>0.669609</td>\n",
       "    </tr>\n",
       "    <tr>\n",
       "      <th>...</th>\n",
       "      <td>...</td>\n",
       "      <td>...</td>\n",
       "      <td>...</td>\n",
       "      <td>...</td>\n",
       "    </tr>\n",
       "    <tr>\n",
       "      <th>952</th>\n",
       "      <td>1.0</td>\n",
       "      <td>0.180468</td>\n",
       "      <td>13.415742</td>\n",
       "      <td>0.000000</td>\n",
       "    </tr>\n",
       "    <tr>\n",
       "      <th>953</th>\n",
       "      <td>1.0</td>\n",
       "      <td>0.107192</td>\n",
       "      <td>13.434920</td>\n",
       "      <td>0.000000</td>\n",
       "    </tr>\n",
       "    <tr>\n",
       "      <th>954</th>\n",
       "      <td>1.0</td>\n",
       "      <td>0.174499</td>\n",
       "      <td>12.067725</td>\n",
       "      <td>0.000000</td>\n",
       "    </tr>\n",
       "    <tr>\n",
       "      <th>955</th>\n",
       "      <td>1.0</td>\n",
       "      <td>0.244247</td>\n",
       "      <td>12.753904</td>\n",
       "      <td>0.000000</td>\n",
       "    </tr>\n",
       "    <tr>\n",
       "      <th>956</th>\n",
       "      <td>51.0</td>\n",
       "      <td>0.265457</td>\n",
       "      <td>11.906050</td>\n",
       "      <td>0.000000</td>\n",
       "    </tr>\n",
       "  </tbody>\n",
       "</table>\n",
       "<p>957 rows × 4 columns</p>\n",
       "</div>"
      ],
      "text/plain": [
       "     weathercode (wmo code)  rain (mm)  windspeed_10m (km/h)  Yield (mt/ha)\n",
       "0                       3.0   0.365126              6.732808       0.452088\n",
       "1                       3.0   0.292443              6.505616       0.493333\n",
       "2                       3.0   0.320560              5.957605       0.625789\n",
       "3                       3.0   0.413082              5.702637       0.641301\n",
       "4                       3.0   0.391427              5.919954       0.669609\n",
       "..                      ...        ...                   ...            ...\n",
       "952                     1.0   0.180468             13.415742       0.000000\n",
       "953                     1.0   0.107192             13.434920       0.000000\n",
       "954                     1.0   0.174499             12.067725       0.000000\n",
       "955                     1.0   0.244247             12.753904       0.000000\n",
       "956                    51.0   0.265457             11.906050       0.000000\n",
       "\n",
       "[957 rows x 4 columns]"
      ]
     },
     "execution_count": 20,
     "metadata": {},
     "output_type": "execute_result"
    }
   ],
   "source": [
    "df2 = df2.drop(\"Unnamed: 0\", axis=1)\n",
    "df2"
   ]
  },
  {
   "cell_type": "code",
   "execution_count": 21,
   "metadata": {},
   "outputs": [
    {
     "name": "stderr",
     "output_type": "stream",
     "text": [
      "C:\\Users\\Darah Manayaga\\AppData\\Local\\Temp\\ipykernel_17900\\845353122.py:1: FutureWarning: In a future version of pandas all arguments of DataFrame.drop except for the argument 'labels' will be keyword-only.\n",
      "  x = df2.drop('Yield (mt/ha)', 1)\n"
     ]
    }
   ],
   "source": [
    "x = df2.drop('Yield (mt/ha)', 1)\n",
    "y = df2['Yield (mt/ha)']"
   ]
  },
  {
   "cell_type": "code",
   "execution_count": 22,
   "metadata": {},
   "outputs": [],
   "source": [
    "from sklearn.model_selection import train_test_split\n",
    "X_train, X_test, y_train, y_test = train_test_split(x, y, test_size = 0.3, \n",
    "                 random_state = 100) "
   ]
  },
  {
   "cell_type": "code",
   "execution_count": 23,
   "metadata": {},
   "outputs": [],
   "source": [
    "mlr = LinearRegression()"
   ]
  },
  {
   "cell_type": "code",
   "execution_count": 24,
   "metadata": {},
   "outputs": [
    {
     "data": {
      "text/plain": [
       "LinearRegression()"
      ]
     },
     "execution_count": 24,
     "metadata": {},
     "output_type": "execute_result"
    }
   ],
   "source": [
    "mlr.fit(X_train, y_train)"
   ]
  },
  {
   "cell_type": "code",
   "execution_count": 25,
   "metadata": {},
   "outputs": [
    {
     "name": "stdout",
     "output_type": "stream",
     "text": [
      "Intercept:  1.28047411353508\n",
      "Coefficients:\n"
     ]
    },
    {
     "data": {
      "text/plain": [
       "[('weathercode (wmo code)', -0.0006136767881061544),\n",
       " ('rain (mm)', -1.6125825919075012),\n",
       " ('windspeed_10m (km/h)', -0.015472722063732736)]"
      ]
     },
     "execution_count": 25,
     "metadata": {},
     "output_type": "execute_result"
    }
   ],
   "source": [
    "print(\"Intercept: \", mlr.intercept_)\n",
    "print(\"Coefficients:\")\n",
    "list(zip(x, mlr.coef_))"
   ]
  },
  {
   "cell_type": "markdown",
   "metadata": {},
   "source": [
    "## Random Forest"
   ]
  },
  {
   "cell_type": "code",
   "execution_count": 26,
   "metadata": {},
   "outputs": [],
   "source": [
    "df3 = pd.read_csv(\"RandomForest.csv\")"
   ]
  },
  {
   "cell_type": "code",
   "execution_count": 27,
   "metadata": {},
   "outputs": [
    {
     "data": {
      "text/html": [
       "<div>\n",
       "<style scoped>\n",
       "    .dataframe tbody tr th:only-of-type {\n",
       "        vertical-align: middle;\n",
       "    }\n",
       "\n",
       "    .dataframe tbody tr th {\n",
       "        vertical-align: top;\n",
       "    }\n",
       "\n",
       "    .dataframe thead th {\n",
       "        text-align: right;\n",
       "    }\n",
       "</style>\n",
       "<table border=\"1\" class=\"dataframe\">\n",
       "  <thead>\n",
       "    <tr style=\"text-align: right;\">\n",
       "      <th></th>\n",
       "      <th>rain (mm)</th>\n",
       "      <th>dewpoint_2m (°C)</th>\n",
       "      <th>relativehumidity_2m (%)</th>\n",
       "      <th>soil_temperature_28_to_100cm (°C)</th>\n",
       "      <th>Yield (mt/ha)</th>\n",
       "    </tr>\n",
       "  </thead>\n",
       "  <tbody>\n",
       "    <tr>\n",
       "      <th>0</th>\n",
       "      <td>0.365126</td>\n",
       "      <td>20.899235</td>\n",
       "      <td>86.200457</td>\n",
       "      <td>25.227021</td>\n",
       "      <td>0.452088</td>\n",
       "    </tr>\n",
       "    <tr>\n",
       "      <th>1</th>\n",
       "      <td>0.292443</td>\n",
       "      <td>20.856210</td>\n",
       "      <td>86.403995</td>\n",
       "      <td>25.074669</td>\n",
       "      <td>0.493333</td>\n",
       "    </tr>\n",
       "    <tr>\n",
       "      <th>2</th>\n",
       "      <td>0.320560</td>\n",
       "      <td>20.664014</td>\n",
       "      <td>86.111225</td>\n",
       "      <td>25.086202</td>\n",
       "      <td>0.625789</td>\n",
       "    </tr>\n",
       "    <tr>\n",
       "      <th>3</th>\n",
       "      <td>0.413082</td>\n",
       "      <td>20.931313</td>\n",
       "      <td>88.171575</td>\n",
       "      <td>24.700765</td>\n",
       "      <td>0.641301</td>\n",
       "    </tr>\n",
       "    <tr>\n",
       "      <th>4</th>\n",
       "      <td>0.391427</td>\n",
       "      <td>20.990674</td>\n",
       "      <td>88.401142</td>\n",
       "      <td>24.679966</td>\n",
       "      <td>0.669609</td>\n",
       "    </tr>\n",
       "    <tr>\n",
       "      <th>...</th>\n",
       "      <td>...</td>\n",
       "      <td>...</td>\n",
       "      <td>...</td>\n",
       "      <td>...</td>\n",
       "      <td>...</td>\n",
       "    </tr>\n",
       "    <tr>\n",
       "      <th>952</th>\n",
       "      <td>0.180468</td>\n",
       "      <td>21.787637</td>\n",
       "      <td>81.959703</td>\n",
       "      <td>26.616324</td>\n",
       "      <td>0.000000</td>\n",
       "    </tr>\n",
       "    <tr>\n",
       "      <th>953</th>\n",
       "      <td>0.107192</td>\n",
       "      <td>21.708082</td>\n",
       "      <td>81.307420</td>\n",
       "      <td>26.571689</td>\n",
       "      <td>0.000000</td>\n",
       "    </tr>\n",
       "    <tr>\n",
       "      <th>954</th>\n",
       "      <td>0.174499</td>\n",
       "      <td>21.740745</td>\n",
       "      <td>80.921790</td>\n",
       "      <td>26.978802</td>\n",
       "      <td>0.000000</td>\n",
       "    </tr>\n",
       "    <tr>\n",
       "      <th>955</th>\n",
       "      <td>0.244247</td>\n",
       "      <td>21.717591</td>\n",
       "      <td>81.587671</td>\n",
       "      <td>26.899030</td>\n",
       "      <td>0.000000</td>\n",
       "    </tr>\n",
       "    <tr>\n",
       "      <th>956</th>\n",
       "      <td>0.265457</td>\n",
       "      <td>21.663824</td>\n",
       "      <td>81.811986</td>\n",
       "      <td>26.713881</td>\n",
       "      <td>0.000000</td>\n",
       "    </tr>\n",
       "  </tbody>\n",
       "</table>\n",
       "<p>957 rows × 5 columns</p>\n",
       "</div>"
      ],
      "text/plain": [
       "     rain (mm)  dewpoint_2m (°C)  relativehumidity_2m (%)  \\\n",
       "0     0.365126         20.899235                86.200457   \n",
       "1     0.292443         20.856210                86.403995   \n",
       "2     0.320560         20.664014                86.111225   \n",
       "3     0.413082         20.931313                88.171575   \n",
       "4     0.391427         20.990674                88.401142   \n",
       "..         ...               ...                      ...   \n",
       "952   0.180468         21.787637                81.959703   \n",
       "953   0.107192         21.708082                81.307420   \n",
       "954   0.174499         21.740745                80.921790   \n",
       "955   0.244247         21.717591                81.587671   \n",
       "956   0.265457         21.663824                81.811986   \n",
       "\n",
       "     soil_temperature_28_to_100cm (°C)  Yield (mt/ha)  \n",
       "0                            25.227021       0.452088  \n",
       "1                            25.074669       0.493333  \n",
       "2                            25.086202       0.625789  \n",
       "3                            24.700765       0.641301  \n",
       "4                            24.679966       0.669609  \n",
       "..                                 ...            ...  \n",
       "952                          26.616324       0.000000  \n",
       "953                          26.571689       0.000000  \n",
       "954                          26.978802       0.000000  \n",
       "955                          26.899030       0.000000  \n",
       "956                          26.713881       0.000000  \n",
       "\n",
       "[957 rows x 5 columns]"
      ]
     },
     "execution_count": 27,
     "metadata": {},
     "output_type": "execute_result"
    }
   ],
   "source": [
    "df3 = df3.drop(\"Unnamed: 0\", axis=1)\n",
    "df3"
   ]
  },
  {
   "cell_type": "code",
   "execution_count": 28,
   "metadata": {},
   "outputs": [
    {
     "name": "stderr",
     "output_type": "stream",
     "text": [
      "C:\\Users\\Darah Manayaga\\AppData\\Local\\Temp\\ipykernel_17900\\549672752.py:1: FutureWarning: In a future version of pandas all arguments of DataFrame.drop except for the argument 'labels' will be keyword-only.\n",
      "  x = df3.drop('Yield (mt/ha)', 1)\n"
     ]
    }
   ],
   "source": [
    "x = df3.drop('Yield (mt/ha)', 1)\n",
    "y = df3['Yield (mt/ha)']"
   ]
  },
  {
   "cell_type": "code",
   "execution_count": 29,
   "metadata": {},
   "outputs": [],
   "source": [
    "from sklearn.model_selection import train_test_split\n",
    "X_train, X_test, y_train, y_test = train_test_split(x, y, test_size = 0.3, \n",
    "                 random_state = 100) "
   ]
  },
  {
   "cell_type": "code",
   "execution_count": 30,
   "metadata": {},
   "outputs": [],
   "source": [
    "mlr = LinearRegression()"
   ]
  },
  {
   "cell_type": "code",
   "execution_count": 31,
   "metadata": {},
   "outputs": [
    {
     "data": {
      "text/plain": [
       "LinearRegression()"
      ]
     },
     "execution_count": 31,
     "metadata": {},
     "output_type": "execute_result"
    }
   ],
   "source": [
    "mlr.fit(X_train, y_train)"
   ]
  },
  {
   "cell_type": "code",
   "execution_count": 32,
   "metadata": {},
   "outputs": [
    {
     "name": "stdout",
     "output_type": "stream",
     "text": [
      "Intercept:  -4.991919969378721\n",
      "Coefficients:\n"
     ]
    },
    {
     "data": {
      "text/plain": [
       "[('rain (mm)', -1.34170512292003),\n",
       " ('dewpoint_2m (°C)', -0.0203493675235607),\n",
       " ('relativehumidity_2m (%)', 0.0421442638131999),\n",
       " ('soil_temperature_28_to_100cm (°C)', 0.11294947388884465)]"
      ]
     },
     "execution_count": 32,
     "metadata": {},
     "output_type": "execute_result"
    }
   ],
   "source": [
    "print(\"Intercept: \", mlr.intercept_)\n",
    "print(\"Coefficients:\")\n",
    "list(zip(x, mlr.coef_))"
   ]
  }
 ],
 "metadata": {
  "kernelspec": {
   "display_name": "Python 3",
   "language": "python",
   "name": "python3"
  },
  "language_info": {
   "codemirror_mode": {
    "name": "ipython",
    "version": 3
   },
   "file_extension": ".py",
   "mimetype": "text/x-python",
   "name": "python",
   "nbconvert_exporter": "python",
   "pygments_lexer": "ipython3",
   "version": "3.10.2"
  },
  "orig_nbformat": 4
 },
 "nbformat": 4,
 "nbformat_minor": 2
}
