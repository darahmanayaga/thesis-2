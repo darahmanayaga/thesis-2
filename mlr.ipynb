{
 "cells": [
  {
   "cell_type": "code",
   "execution_count": 1,
   "metadata": {},
   "outputs": [],
   "source": [
    "import pandas as pd\n",
    "import numpy as np\n",
    "import matplotlib.pyplot as plt\n",
    "import seaborn as sns\n",
    "from sklearn.linear_model import LinearRegression"
   ]
  },
  {
   "cell_type": "code",
   "execution_count": 2,
   "metadata": {},
   "outputs": [],
   "source": [
    "df = pd.read_csv(\"Without_Outliers.csv\")"
   ]
  },
  {
   "cell_type": "code",
   "execution_count": 4,
   "metadata": {},
   "outputs": [
    {
     "data": {
      "text/plain": [
       "Index(['Unnamed: 0', 'Year', 'Location', 'Production (mt)', 'Area (ha)',\n",
       "       'Yield (mt/ha)', 'weathercode (wmo code)', 'temperature_2m (°C)',\n",
       "       'relativehumidity_2m (%)', 'dewpoint_2m (°C)', 'rain (mm)',\n",
       "       'surface_pressure (hPa)', 'cloudcover (%)',\n",
       "       'et0_fao_evapotranspiration (mm)', 'vapor_pressure_deficit (kPa)',\n",
       "       'windspeed_10m (km/h)', 'winddirection_10m (°)', 'windgusts_10m (km/h)',\n",
       "       'soil_temperature_28_to_100cm (°C)',\n",
       "       'soil_moisture_28_to_100cm (m³/m³)', 'direct_radiation (W/m²)',\n",
       "       'diffuse_radiation (W/m²)'],\n",
       "      dtype='object')"
      ]
     },
     "execution_count": 4,
     "metadata": {},
     "output_type": "execute_result"
    }
   ],
   "source": [
    "df.columns"
   ]
  },
  {
   "cell_type": "code",
   "execution_count": 6,
   "metadata": {},
   "outputs": [],
   "source": [
    "df.at[852, 'weathercode (wmo code)']=51\n",
    "df.at[852, 'weathercode (wmo code)']\n",
    "df['weathercode (wmo code)'] = df['weathercode (wmo code)'].astype(float)\n",
    "df = df.drop(columns=['Unnamed: 0', 'Location', 'Year', 'Production (mt)', 'Area (ha)'])"
   ]
  },
  {
   "cell_type": "code",
   "execution_count": 7,
   "metadata": {},
   "outputs": [
    {
     "data": {
      "text/plain": [
       "Index(['Yield (mt/ha)', 'weathercode (wmo code)', 'temperature_2m (°C)',\n",
       "       'relativehumidity_2m (%)', 'dewpoint_2m (°C)', 'rain (mm)',\n",
       "       'surface_pressure (hPa)', 'cloudcover (%)',\n",
       "       'et0_fao_evapotranspiration (mm)', 'vapor_pressure_deficit (kPa)',\n",
       "       'windspeed_10m (km/h)', 'winddirection_10m (°)', 'windgusts_10m (km/h)',\n",
       "       'soil_temperature_28_to_100cm (°C)',\n",
       "       'soil_moisture_28_to_100cm (m³/m³)', 'direct_radiation (W/m²)',\n",
       "       'diffuse_radiation (W/m²)'],\n",
       "      dtype='object')"
      ]
     },
     "execution_count": 7,
     "metadata": {},
     "output_type": "execute_result"
    }
   ],
   "source": [
    "df.columns"
   ]
  },
  {
   "cell_type": "code",
   "execution_count": 8,
   "metadata": {},
   "outputs": [
    {
     "name": "stderr",
     "output_type": "stream",
     "text": [
      "C:\\Users\\Darah Manayaga\\AppData\\Local\\Temp\\ipykernel_14880\\2611590081.py:1: FutureWarning: In a future version of pandas all arguments of DataFrame.drop except for the argument 'labels' will be keyword-only.\n",
      "  x = df.drop('Yield (mt/ha)', 1)\n"
     ]
    }
   ],
   "source": [
    "x = df.drop('Yield (mt/ha)', 1)\n",
    "y = df['Yield (mt/ha)']"
   ]
  },
  {
   "cell_type": "code",
   "execution_count": 9,
   "metadata": {},
   "outputs": [],
   "source": [
    "from sklearn.model_selection import train_test_split\n",
    "X_train, X_test, y_train, y_test = train_test_split(x, y, test_size = 0.3, \n",
    "                 random_state = 100) "
   ]
  },
  {
   "cell_type": "code",
   "execution_count": 10,
   "metadata": {},
   "outputs": [],
   "source": [
    "mlr = LinearRegression()"
   ]
  },
  {
   "cell_type": "code",
   "execution_count": 11,
   "metadata": {},
   "outputs": [
    {
     "data": {
      "text/plain": [
       "LinearRegression()"
      ]
     },
     "execution_count": 11,
     "metadata": {},
     "output_type": "execute_result"
    }
   ],
   "source": [
    "mlr.fit(X_train, y_train)"
   ]
  },
  {
   "cell_type": "code",
   "execution_count": 12,
   "metadata": {},
   "outputs": [
    {
     "name": "stdout",
     "output_type": "stream",
     "text": [
      "Intercept:  8.9621764638472\n",
      "Coefficients:\n"
     ]
    },
    {
     "data": {
      "text/plain": [
       "[('weathercode (wmo code)', -0.0017329312394400388),\n",
       " ('temperature_2m (°C)', 0.6090530123862647),\n",
       " ('relativehumidity_2m (%)', -0.15618455642412885),\n",
       " ('dewpoint_2m (°C)', -0.42973188782691607),\n",
       " ('rain (mm)', -1.658923047905941),\n",
       " ('surface_pressure (hPa)', -0.0016699171516799671),\n",
       " ('cloudcover (%)', -0.0018331180444227657),\n",
       " ('et0_fao_evapotranspiration (mm)', 72.8413593161424),\n",
       " ('vapor_pressure_deficit (kPa)', -9.52512130812027),\n",
       " ('windspeed_10m (km/h)', -0.047809448599776434),\n",
       " ('winddirection_10m (°)', 0.0030388789790661563),\n",
       " ('windgusts_10m (km/h)', -0.01529066031927899),\n",
       " ('soil_temperature_28_to_100cm (°C)', 0.018329364081623292),\n",
       " ('soil_moisture_28_to_100cm (m³/m³)', 1.6850018265597766),\n",
       " ('direct_radiation (W/m²)', -0.034845384148116165),\n",
       " ('diffuse_radiation (W/m²)', -0.011370544271406019)]"
      ]
     },
     "execution_count": 12,
     "metadata": {},
     "output_type": "execute_result"
    }
   ],
   "source": [
    "print(\"Intercept: \", mlr.intercept_)\n",
    "print(\"Coefficients:\")\n",
    "list(zip(x, mlr.coef_))"
   ]
  },
  {
   "cell_type": "code",
   "execution_count": 13,
   "metadata": {},
   "outputs": [],
   "source": [
    "y_pred_mlr= mlr.predict(X_test)"
   ]
  },
  {
   "cell_type": "code",
   "execution_count": 14,
   "metadata": {},
   "outputs": [
    {
     "name": "stdout",
     "output_type": "stream",
     "text": [
      "Prediction for test set: [-0.21956122  0.58439671  0.47990574  0.87881109  0.8835712   0.12238567\n",
      "  0.76983082  0.39160635  0.74807062  0.47306996  1.11282555  0.73264066\n",
      "  0.57946612  1.02393415  0.7941532   0.73285328  0.56322034  1.00715524\n",
      "  0.50020751  0.16114245  0.70268827  0.7540586   0.83824194  0.28302353\n",
      "  0.77620116  1.02607488  0.3044999   1.30099302  0.63614549  0.7063378\n",
      "  0.9271723   1.20099512  0.68370221  0.30324965  0.74514603  0.62195141\n",
      "  0.64867694  0.58308226  0.63829498 -0.05758625  0.91768012  0.86393156\n",
      "  0.11117406  0.84187851  0.93940034  0.72106177  0.55261981 -0.18413216\n",
      "  0.90569356  0.69343957  0.51174422  1.14801172  1.12451859  0.61768374\n",
      "  0.70722583  0.4698292   0.15259686  0.42302909  0.6656711   0.70091576\n",
      "  0.15987909 -0.02504435  0.54195431  0.77544036  0.77131195  0.37485999\n",
      "  0.15988455  1.0545664   0.94879902  1.01438317  0.653977    0.87477198\n",
      "  0.95099363  1.15953406  0.9544729   0.23363233  0.67579273  1.13444513\n",
      "  0.2184966   0.40108418  0.54648347  0.98341171  1.00774321  0.16952232\n",
      "  0.89422716  0.22113117  0.5950393   0.6270105   0.82611872  0.54722696\n",
      "  0.88837668  0.61687883  0.36819556  0.93974237  1.25408597  0.33844956\n",
      "  0.55237577  0.68678074  0.73779712  1.14319807  0.54338691  0.9135252\n",
      "  0.58260182  0.66373741  0.91590451  0.62226868  0.66893562  0.25684246\n",
      "  1.19620828  0.79867961  0.83030436  0.64409346  1.01219784  0.97623643\n",
      "  0.79825887  0.88255986  0.68793337  0.38988342  1.16173924  0.56532862\n",
      "  0.66910388  0.75111553  0.31092492  0.5366247   0.50810297  0.69703155\n",
      "  0.88339534  0.72521695  1.07410925  0.07097493  1.1461211   0.37114943\n",
      "  0.17663962  0.81582965  0.31643914  0.09261928  0.85102272  0.29663355\n",
      "  0.8990819   0.74839924  0.19829077  1.11932081  0.88381684  0.35937546\n",
      "  1.05623073  0.08764874  0.66393584  0.98536868  1.19401821  1.32615234\n",
      "  0.70292616  0.70492151  1.04899714  0.54998898 -0.18700321  0.75255689\n",
      "  0.64557958  0.69864798  0.36924872  0.85274847  0.49493095  0.93385897\n",
      "  0.8834965   0.52073669  0.7710433   0.82440059  0.98542277  0.12853921\n",
      "  0.56031263  0.65172907  0.53318218  1.1719739   0.50017852  0.49287275\n",
      "  0.46148923  0.82936189  0.03209333  1.080785    0.04468077  0.8310091\n",
      "  0.46652397  0.78530169  0.39873719  0.94736884  0.38520762  0.80207024\n",
      "  0.77633131  1.06932145  1.2556702   0.88957158  0.69748185  0.77588634\n",
      "  0.56127045  0.21656841  0.56964826  0.73577866  0.51768647  0.92166821\n",
      "  0.41389132  0.77509728  0.71244994  0.64875741  0.03979071  0.6344897\n",
      "  0.33277796  0.52947513  0.80160329  0.53709782  0.59870777  0.81245191\n",
      "  0.77608582  1.00206402  0.57979177  0.29127464  0.95752342  0.76588202\n",
      "  0.7749268   0.93123705  0.71842477  0.78959815  0.65515016  0.4873265\n",
      "  0.29789579  0.29620358  0.30900574  0.89915002  0.77402089  0.58337943\n",
      "  0.68747925  0.65764864  0.61599361  0.299431    0.47719217  0.90199407\n",
      "  1.22807376  0.93945792  0.58109823  0.77147667  0.70519373  1.21367001\n",
      "  0.82048487  0.46166195  0.94024495  0.72626166  0.48311087  0.78454693\n",
      "  0.91861964  0.83978215  1.04985071  0.85692582  0.99304177  0.22190882\n",
      "  0.30775178  1.1637262   0.33653334  0.46291467  1.08991014  0.97428664\n",
      "  0.27728228  1.03667075  0.7830501   0.83766745  0.26565189  0.31848508\n",
      "  1.08049576  0.38999112  0.3691395   1.18928325  0.18702142  0.20680892\n",
      "  0.56524253  1.03477451  0.38037811  0.40030652  0.86296538  0.73333296\n",
      "  1.05233485  0.21535885  0.98053707  1.15766346  0.58700692  0.58850289\n",
      "  0.87826138  1.08980627  0.64457632  0.49755246  1.04409522  1.18383064]\n"
     ]
    }
   ],
   "source": [
    "print(\"Prediction for test set: {}\".format(y_pred_mlr))"
   ]
  },
  {
   "cell_type": "code",
   "execution_count": 15,
   "metadata": {},
   "outputs": [
    {
     "data": {
      "text/html": [
       "<div>\n",
       "<style scoped>\n",
       "    .dataframe tbody tr th:only-of-type {\n",
       "        vertical-align: middle;\n",
       "    }\n",
       "\n",
       "    .dataframe tbody tr th {\n",
       "        vertical-align: top;\n",
       "    }\n",
       "\n",
       "    .dataframe thead th {\n",
       "        text-align: right;\n",
       "    }\n",
       "</style>\n",
       "<table border=\"1\" class=\"dataframe\">\n",
       "  <thead>\n",
       "    <tr style=\"text-align: right;\">\n",
       "      <th></th>\n",
       "      <th>Actual value</th>\n",
       "      <th>Predicted value</th>\n",
       "    </tr>\n",
       "  </thead>\n",
       "  <tbody>\n",
       "    <tr>\n",
       "      <th>847</th>\n",
       "      <td>0.121450</td>\n",
       "      <td>-0.219561</td>\n",
       "    </tr>\n",
       "    <tr>\n",
       "      <th>450</th>\n",
       "      <td>0.841508</td>\n",
       "      <td>0.584397</td>\n",
       "    </tr>\n",
       "    <tr>\n",
       "      <th>217</th>\n",
       "      <td>0.286035</td>\n",
       "      <td>0.479906</td>\n",
       "    </tr>\n",
       "    <tr>\n",
       "      <th>378</th>\n",
       "      <td>1.103597</td>\n",
       "      <td>0.878811</td>\n",
       "    </tr>\n",
       "    <tr>\n",
       "      <th>580</th>\n",
       "      <td>1.089549</td>\n",
       "      <td>0.883571</td>\n",
       "    </tr>\n",
       "  </tbody>\n",
       "</table>\n",
       "</div>"
      ],
      "text/plain": [
       "     Actual value  Predicted value\n",
       "847      0.121450        -0.219561\n",
       "450      0.841508         0.584397\n",
       "217      0.286035         0.479906\n",
       "378      1.103597         0.878811\n",
       "580      1.089549         0.883571"
      ]
     },
     "execution_count": 15,
     "metadata": {},
     "output_type": "execute_result"
    }
   ],
   "source": [
    "mlr_diff = pd.DataFrame({'Actual value': y_test, \n",
    "                         'Predicted value': y_pred_mlr})\n",
    "mlr_diff.head()"
   ]
  }
 ],
 "metadata": {
  "kernelspec": {
   "display_name": "Python 3",
   "language": "python",
   "name": "python3"
  },
  "language_info": {
   "codemirror_mode": {
    "name": "ipython",
    "version": 3
   },
   "file_extension": ".py",
   "mimetype": "text/x-python",
   "name": "python",
   "nbconvert_exporter": "python",
   "pygments_lexer": "ipython3",
   "version": "3.10.2"
  },
  "orig_nbformat": 4
 },
 "nbformat": 4,
 "nbformat_minor": 2
}
