{
 "cells": [
  {
   "cell_type": "code",
   "execution_count": 1,
   "metadata": {},
   "outputs": [
    {
     "name": "stdout",
     "output_type": "stream",
     "text": [
      "Defaulting to user installation because normal site-packages is not writeable\n",
      "Requirement already satisfied: matplotlib in c:\\users\\arian\\appdata\\roaming\\python\\python311\\site-packages (3.8.0)\n",
      "Requirement already satisfied: contourpy>=1.0.1 in c:\\users\\arian\\appdata\\roaming\\python\\python311\\site-packages (from matplotlib) (1.1.1)\n",
      "Requirement already satisfied: cycler>=0.10 in c:\\users\\arian\\appdata\\roaming\\python\\python311\\site-packages (from matplotlib) (0.11.0)\n",
      "Requirement already satisfied: fonttools>=4.22.0 in c:\\users\\arian\\appdata\\roaming\\python\\python311\\site-packages (from matplotlib) (4.42.1)\n",
      "Requirement already satisfied: kiwisolver>=1.0.1 in c:\\users\\arian\\appdata\\roaming\\python\\python311\\site-packages (from matplotlib) (1.4.5)\n",
      "Requirement already satisfied: numpy<2,>=1.21 in c:\\users\\arian\\appdata\\roaming\\python\\python311\\site-packages (from matplotlib) (1.25.2)\n",
      "Requirement already satisfied: packaging>=20.0 in c:\\users\\arian\\appdata\\roaming\\python\\python311\\site-packages (from matplotlib) (23.1)\n",
      "Requirement already satisfied: pillow>=6.2.0 in c:\\users\\arian\\appdata\\roaming\\python\\python311\\site-packages (from matplotlib) (10.0.1)\n",
      "Requirement already satisfied: pyparsing>=2.3.1 in c:\\users\\arian\\appdata\\roaming\\python\\python311\\site-packages (from matplotlib) (3.1.1)\n",
      "Requirement already satisfied: python-dateutil>=2.7 in c:\\users\\arian\\appdata\\roaming\\python\\python311\\site-packages (from matplotlib) (2.8.2)\n",
      "Requirement already satisfied: six>=1.5 in c:\\users\\arian\\appdata\\roaming\\python\\python311\\site-packages (from python-dateutil>=2.7->matplotlib) (1.16.0)\n",
      "Note: you may need to restart the kernel to use updated packages.\n"
     ]
    },
    {
     "name": "stderr",
     "output_type": "stream",
     "text": [
      "\n",
      "[notice] A new release of pip is available: 23.0.1 -> 23.2.1\n",
      "[notice] To update, run: python.exe -m pip install --upgrade pip\n"
     ]
    }
   ],
   "source": [
    "pip install matplotlib"
   ]
  },
  {
   "cell_type": "code",
   "execution_count": 2,
   "metadata": {},
   "outputs": [
    {
     "name": "stdout",
     "output_type": "stream",
     "text": [
      "Defaulting to user installation because normal site-packages is not writeableNote: you may need to restart the kernel to use updated packages.\n",
      "\n",
      "Requirement already satisfied: seaborn in c:\\users\\arian\\appdata\\roaming\\python\\python311\\site-packages (0.12.2)\n",
      "Requirement already satisfied: numpy!=1.24.0,>=1.17 in c:\\users\\arian\\appdata\\roaming\\python\\python311\\site-packages (from seaborn) (1.25.2)\n",
      "Requirement already satisfied: pandas>=0.25 in c:\\users\\arian\\appdata\\roaming\\python\\python311\\site-packages (from seaborn) (2.0.3)\n",
      "Requirement already satisfied: matplotlib!=3.6.1,>=3.1 in c:\\users\\arian\\appdata\\roaming\\python\\python311\\site-packages (from seaborn) (3.8.0)\n",
      "Requirement already satisfied: contourpy>=1.0.1 in c:\\users\\arian\\appdata\\roaming\\python\\python311\\site-packages (from matplotlib!=3.6.1,>=3.1->seaborn) (1.1.1)\n",
      "Requirement already satisfied: cycler>=0.10 in c:\\users\\arian\\appdata\\roaming\\python\\python311\\site-packages (from matplotlib!=3.6.1,>=3.1->seaborn) (0.11.0)\n",
      "Requirement already satisfied: fonttools>=4.22.0 in c:\\users\\arian\\appdata\\roaming\\python\\python311\\site-packages (from matplotlib!=3.6.1,>=3.1->seaborn) (4.42.1)\n",
      "Requirement already satisfied: kiwisolver>=1.0.1 in c:\\users\\arian\\appdata\\roaming\\python\\python311\\site-packages (from matplotlib!=3.6.1,>=3.1->seaborn) (1.4.5)\n",
      "Requirement already satisfied: packaging>=20.0 in c:\\users\\arian\\appdata\\roaming\\python\\python311\\site-packages (from matplotlib!=3.6.1,>=3.1->seaborn) (23.1)\n",
      "Requirement already satisfied: pillow>=6.2.0 in c:\\users\\arian\\appdata\\roaming\\python\\python311\\site-packages (from matplotlib!=3.6.1,>=3.1->seaborn) (10.0.1)\n",
      "Requirement already satisfied: pyparsing>=2.3.1 in c:\\users\\arian\\appdata\\roaming\\python\\python311\\site-packages (from matplotlib!=3.6.1,>=3.1->seaborn) (3.1.1)\n",
      "Requirement already satisfied: python-dateutil>=2.7 in c:\\users\\arian\\appdata\\roaming\\python\\python311\\site-packages (from matplotlib!=3.6.1,>=3.1->seaborn) (2.8.2)\n",
      "Requirement already satisfied: pytz>=2020.1 in c:\\users\\arian\\appdata\\roaming\\python\\python311\\site-packages (from pandas>=0.25->seaborn) (2023.3)\n",
      "Requirement already satisfied: tzdata>=2022.1 in c:\\users\\arian\\appdata\\roaming\\python\\python311\\site-packages (from pandas>=0.25->seaborn) (2023.3)\n",
      "Requirement already satisfied: six>=1.5 in c:\\users\\arian\\appdata\\roaming\\python\\python311\\site-packages (from python-dateutil>=2.7->matplotlib!=3.6.1,>=3.1->seaborn) (1.16.0)\n"
     ]
    },
    {
     "name": "stderr",
     "output_type": "stream",
     "text": [
      "\n",
      "[notice] A new release of pip is available: 23.0.1 -> 23.2.1\n",
      "[notice] To update, run: python.exe -m pip install --upgrade pip\n"
     ]
    }
   ],
   "source": [
    "pip install seaborn"
   ]
  },
  {
   "cell_type": "code",
   "execution_count": 3,
   "metadata": {},
   "outputs": [],
   "source": [
    "import pandas as pd\n",
    "import numpy as np\n",
    "import matplotlib.pyplot as plt\n",
    "import seaborn as sns\n",
    "from sklearn.linear_model import LinearRegression"
   ]
  },
  {
   "cell_type": "code",
   "execution_count": 4,
   "metadata": {},
   "outputs": [],
   "source": [
    "dataset = pd.read_csv(r\"C:\\Users\\arian\\Documents\\THESIS 2\\Without_Outliers.csv\")"
   ]
  },
  {
   "cell_type": "code",
   "execution_count": 5,
   "metadata": {},
   "outputs": [
    {
     "data": {
      "text/html": [
       "<div>\n",
       "<style scoped>\n",
       "    .dataframe tbody tr th:only-of-type {\n",
       "        vertical-align: middle;\n",
       "    }\n",
       "\n",
       "    .dataframe tbody tr th {\n",
       "        vertical-align: top;\n",
       "    }\n",
       "\n",
       "    .dataframe thead th {\n",
       "        text-align: right;\n",
       "    }\n",
       "</style>\n",
       "<table border=\"1\" class=\"dataframe\">\n",
       "  <thead>\n",
       "    <tr style=\"text-align: right;\">\n",
       "      <th></th>\n",
       "      <th>Unnamed: 0</th>\n",
       "      <th>Year</th>\n",
       "      <th>Location</th>\n",
       "      <th>Production (mt)</th>\n",
       "      <th>Area (ha)</th>\n",
       "      <th>Yield (mt/ha)</th>\n",
       "      <th>weathercode (wmo code)</th>\n",
       "      <th>temperature_2m (°C)</th>\n",
       "      <th>relativehumidity_2m (%)</th>\n",
       "      <th>dewpoint_2m (°C)</th>\n",
       "      <th>...</th>\n",
       "      <th>cloudcover (%)</th>\n",
       "      <th>et0_fao_evapotranspiration (mm)</th>\n",
       "      <th>vapor_pressure_deficit (kPa)</th>\n",
       "      <th>windspeed_10m (km/h)</th>\n",
       "      <th>winddirection_10m (°)</th>\n",
       "      <th>windgusts_10m (km/h)</th>\n",
       "      <th>soil_temperature_28_to_100cm (°C)</th>\n",
       "      <th>soil_moisture_28_to_100cm (m³/m³)</th>\n",
       "      <th>direct_radiation (W/m²)</th>\n",
       "      <th>diffuse_radiation (W/m²)</th>\n",
       "    </tr>\n",
       "  </thead>\n",
       "  <tbody>\n",
       "    <tr>\n",
       "      <th>0</th>\n",
       "      <td>0</td>\n",
       "      <td>1990</td>\n",
       "      <td>ZAMBOANGA DEL NORTE</td>\n",
       "      <td>41.14</td>\n",
       "      <td>91.0</td>\n",
       "      <td>0.452088</td>\n",
       "      <td>3</td>\n",
       "      <td>23.486279</td>\n",
       "      <td>86.200457</td>\n",
       "      <td>20.899235</td>\n",
       "      <td>...</td>\n",
       "      <td>70.154680</td>\n",
       "      <td>0.153233</td>\n",
       "      <td>0.435739</td>\n",
       "      <td>6.732808</td>\n",
       "      <td>144.312329</td>\n",
       "      <td>19.894932</td>\n",
       "      <td>25.227021</td>\n",
       "      <td>0.401853</td>\n",
       "      <td>151.119064</td>\n",
       "      <td>70.720548</td>\n",
       "    </tr>\n",
       "    <tr>\n",
       "      <th>1</th>\n",
       "      <td>1</td>\n",
       "      <td>1991</td>\n",
       "      <td>ZAMBOANGA DEL NORTE</td>\n",
       "      <td>53.28</td>\n",
       "      <td>108.0</td>\n",
       "      <td>0.493333</td>\n",
       "      <td>3</td>\n",
       "      <td>23.378607</td>\n",
       "      <td>86.403995</td>\n",
       "      <td>20.856210</td>\n",
       "      <td>...</td>\n",
       "      <td>71.524658</td>\n",
       "      <td>0.153091</td>\n",
       "      <td>0.422427</td>\n",
       "      <td>6.505616</td>\n",
       "      <td>138.691096</td>\n",
       "      <td>19.141393</td>\n",
       "      <td>25.074669</td>\n",
       "      <td>0.404063</td>\n",
       "      <td>147.845890</td>\n",
       "      <td>75.080251</td>\n",
       "    </tr>\n",
       "    <tr>\n",
       "      <th>2</th>\n",
       "      <td>2</td>\n",
       "      <td>1992</td>\n",
       "      <td>ZAMBOANGA DEL NORTE</td>\n",
       "      <td>71.34</td>\n",
       "      <td>114.0</td>\n",
       "      <td>0.625789</td>\n",
       "      <td>3</td>\n",
       "      <td>23.253153</td>\n",
       "      <td>86.111225</td>\n",
       "      <td>20.664014</td>\n",
       "      <td>...</td>\n",
       "      <td>66.843010</td>\n",
       "      <td>0.154016</td>\n",
       "      <td>0.430523</td>\n",
       "      <td>5.957605</td>\n",
       "      <td>143.278233</td>\n",
       "      <td>18.114481</td>\n",
       "      <td>25.086202</td>\n",
       "      <td>0.399902</td>\n",
       "      <td>149.374203</td>\n",
       "      <td>74.632627</td>\n",
       "    </tr>\n",
       "    <tr>\n",
       "      <th>3</th>\n",
       "      <td>3</td>\n",
       "      <td>1993</td>\n",
       "      <td>ZAMBOANGA DEL NORTE</td>\n",
       "      <td>78.88</td>\n",
       "      <td>123.0</td>\n",
       "      <td>0.641301</td>\n",
       "      <td>3</td>\n",
       "      <td>23.086187</td>\n",
       "      <td>88.171575</td>\n",
       "      <td>20.931313</td>\n",
       "      <td>...</td>\n",
       "      <td>72.979110</td>\n",
       "      <td>0.147360</td>\n",
       "      <td>0.360022</td>\n",
       "      <td>5.702637</td>\n",
       "      <td>151.702854</td>\n",
       "      <td>17.351541</td>\n",
       "      <td>24.700765</td>\n",
       "      <td>0.450554</td>\n",
       "      <td>141.238014</td>\n",
       "      <td>75.799315</td>\n",
       "    </tr>\n",
       "    <tr>\n",
       "      <th>4</th>\n",
       "      <td>4</td>\n",
       "      <td>1994</td>\n",
       "      <td>ZAMBOANGA DEL NORTE</td>\n",
       "      <td>85.71</td>\n",
       "      <td>128.0</td>\n",
       "      <td>0.669609</td>\n",
       "      <td>3</td>\n",
       "      <td>23.100217</td>\n",
       "      <td>88.401142</td>\n",
       "      <td>20.990674</td>\n",
       "      <td>...</td>\n",
       "      <td>76.482534</td>\n",
       "      <td>0.144709</td>\n",
       "      <td>0.352926</td>\n",
       "      <td>5.919954</td>\n",
       "      <td>154.063813</td>\n",
       "      <td>18.403128</td>\n",
       "      <td>24.679966</td>\n",
       "      <td>0.438253</td>\n",
       "      <td>139.645320</td>\n",
       "      <td>73.633562</td>\n",
       "    </tr>\n",
       "  </tbody>\n",
       "</table>\n",
       "<p>5 rows × 22 columns</p>\n",
       "</div>"
      ],
      "text/plain": [
       "   Unnamed: 0  Year             Location  Production (mt)  Area (ha)  \\\n",
       "0           0  1990  ZAMBOANGA DEL NORTE            41.14       91.0   \n",
       "1           1  1991  ZAMBOANGA DEL NORTE            53.28      108.0   \n",
       "2           2  1992  ZAMBOANGA DEL NORTE            71.34      114.0   \n",
       "3           3  1993  ZAMBOANGA DEL NORTE            78.88      123.0   \n",
       "4           4  1994  ZAMBOANGA DEL NORTE            85.71      128.0   \n",
       "\n",
       "   Yield (mt/ha)  weathercode (wmo code)  temperature_2m (°C)  \\\n",
       "0       0.452088                       3            23.486279   \n",
       "1       0.493333                       3            23.378607   \n",
       "2       0.625789                       3            23.253153   \n",
       "3       0.641301                       3            23.086187   \n",
       "4       0.669609                       3            23.100217   \n",
       "\n",
       "   relativehumidity_2m (%)  dewpoint_2m (°C)  ...  cloudcover (%)  \\\n",
       "0                86.200457         20.899235  ...       70.154680   \n",
       "1                86.403995         20.856210  ...       71.524658   \n",
       "2                86.111225         20.664014  ...       66.843010   \n",
       "3                88.171575         20.931313  ...       72.979110   \n",
       "4                88.401142         20.990674  ...       76.482534   \n",
       "\n",
       "   et0_fao_evapotranspiration (mm)  vapor_pressure_deficit (kPa)  \\\n",
       "0                         0.153233                      0.435739   \n",
       "1                         0.153091                      0.422427   \n",
       "2                         0.154016                      0.430523   \n",
       "3                         0.147360                      0.360022   \n",
       "4                         0.144709                      0.352926   \n",
       "\n",
       "   windspeed_10m (km/h)  winddirection_10m (°)  windgusts_10m (km/h)  \\\n",
       "0              6.732808             144.312329             19.894932   \n",
       "1              6.505616             138.691096             19.141393   \n",
       "2              5.957605             143.278233             18.114481   \n",
       "3              5.702637             151.702854             17.351541   \n",
       "4              5.919954             154.063813             18.403128   \n",
       "\n",
       "   soil_temperature_28_to_100cm (°C)  soil_moisture_28_to_100cm (m³/m³)  \\\n",
       "0                          25.227021                           0.401853   \n",
       "1                          25.074669                           0.404063   \n",
       "2                          25.086202                           0.399902   \n",
       "3                          24.700765                           0.450554   \n",
       "4                          24.679966                           0.438253   \n",
       "\n",
       "   direct_radiation (W/m²)  diffuse_radiation (W/m²)  \n",
       "0               151.119064                 70.720548  \n",
       "1               147.845890                 75.080251  \n",
       "2               149.374203                 74.632627  \n",
       "3               141.238014                 75.799315  \n",
       "4               139.645320                 73.633562  \n",
       "\n",
       "[5 rows x 22 columns]"
      ]
     },
     "execution_count": 5,
     "metadata": {},
     "output_type": "execute_result"
    }
   ],
   "source": [
    "dataset.head()"
   ]
  },
  {
   "cell_type": "code",
   "execution_count": 6,
   "metadata": {},
   "outputs": [],
   "source": [
    "x = dataset [['Production (mt)', 'Area (ha)', 'Yield (mt/ha)']]\n",
    "y = dataset [['weathercode (wmo code)', 'temperature_2m (°C)',\n",
    "       'relativehumidity_2m (%)', 'dewpoint_2m (°C)', 'rain (mm)',\n",
    "       'surface_pressure (hPa)', 'cloudcover (%)',\n",
    "       'et0_fao_evapotranspiration (mm)', 'vapor_pressure_deficit (kPa)',\n",
    "       'windspeed_10m (km/h)', 'winddirection_10m (°)', 'windgusts_10m (km/h)',\n",
    "       'soil_temperature_28_to_100cm (°C)',\n",
    "       'soil_moisture_28_to_100cm (m³/m³)', 'direct_radiation (W/m²)',\n",
    "       'diffuse_radiation (W/m²)']]"
   ]
  },
  {
   "cell_type": "code",
   "execution_count": 7,
   "metadata": {},
   "outputs": [],
   "source": [
    "from sklearn.model_selection import train_test_split\n",
    "X_train, X_test, y_train, y_test = train_test_split(x, y, test_size = 0.3, \n",
    "                 random_state = 100) "
   ]
  },
  {
   "cell_type": "code",
   "execution_count": 8,
   "metadata": {},
   "outputs": [],
   "source": [
    "from sklearn.linear_model import LinearRegression"
   ]
  },
  {
   "cell_type": "code",
   "execution_count": 9,
   "metadata": {},
   "outputs": [],
   "source": [
    "mlr = LinearRegression()"
   ]
  },
  {
   "cell_type": "code",
   "execution_count": 10,
   "metadata": {},
   "outputs": [
    {
     "data": {
      "text/html": [
       "<style>#sk-container-id-1 {color: black;}#sk-container-id-1 pre{padding: 0;}#sk-container-id-1 div.sk-toggleable {background-color: white;}#sk-container-id-1 label.sk-toggleable__label {cursor: pointer;display: block;width: 100%;margin-bottom: 0;padding: 0.3em;box-sizing: border-box;text-align: center;}#sk-container-id-1 label.sk-toggleable__label-arrow:before {content: \"▸\";float: left;margin-right: 0.25em;color: #696969;}#sk-container-id-1 label.sk-toggleable__label-arrow:hover:before {color: black;}#sk-container-id-1 div.sk-estimator:hover label.sk-toggleable__label-arrow:before {color: black;}#sk-container-id-1 div.sk-toggleable__content {max-height: 0;max-width: 0;overflow: hidden;text-align: left;background-color: #f0f8ff;}#sk-container-id-1 div.sk-toggleable__content pre {margin: 0.2em;color: black;border-radius: 0.25em;background-color: #f0f8ff;}#sk-container-id-1 input.sk-toggleable__control:checked~div.sk-toggleable__content {max-height: 200px;max-width: 100%;overflow: auto;}#sk-container-id-1 input.sk-toggleable__control:checked~label.sk-toggleable__label-arrow:before {content: \"▾\";}#sk-container-id-1 div.sk-estimator input.sk-toggleable__control:checked~label.sk-toggleable__label {background-color: #d4ebff;}#sk-container-id-1 div.sk-label input.sk-toggleable__control:checked~label.sk-toggleable__label {background-color: #d4ebff;}#sk-container-id-1 input.sk-hidden--visually {border: 0;clip: rect(1px 1px 1px 1px);clip: rect(1px, 1px, 1px, 1px);height: 1px;margin: -1px;overflow: hidden;padding: 0;position: absolute;width: 1px;}#sk-container-id-1 div.sk-estimator {font-family: monospace;background-color: #f0f8ff;border: 1px dotted black;border-radius: 0.25em;box-sizing: border-box;margin-bottom: 0.5em;}#sk-container-id-1 div.sk-estimator:hover {background-color: #d4ebff;}#sk-container-id-1 div.sk-parallel-item::after {content: \"\";width: 100%;border-bottom: 1px solid gray;flex-grow: 1;}#sk-container-id-1 div.sk-label:hover label.sk-toggleable__label {background-color: #d4ebff;}#sk-container-id-1 div.sk-serial::before {content: \"\";position: absolute;border-left: 1px solid gray;box-sizing: border-box;top: 0;bottom: 0;left: 50%;z-index: 0;}#sk-container-id-1 div.sk-serial {display: flex;flex-direction: column;align-items: center;background-color: white;padding-right: 0.2em;padding-left: 0.2em;position: relative;}#sk-container-id-1 div.sk-item {position: relative;z-index: 1;}#sk-container-id-1 div.sk-parallel {display: flex;align-items: stretch;justify-content: center;background-color: white;position: relative;}#sk-container-id-1 div.sk-item::before, #sk-container-id-1 div.sk-parallel-item::before {content: \"\";position: absolute;border-left: 1px solid gray;box-sizing: border-box;top: 0;bottom: 0;left: 50%;z-index: -1;}#sk-container-id-1 div.sk-parallel-item {display: flex;flex-direction: column;z-index: 1;position: relative;background-color: white;}#sk-container-id-1 div.sk-parallel-item:first-child::after {align-self: flex-end;width: 50%;}#sk-container-id-1 div.sk-parallel-item:last-child::after {align-self: flex-start;width: 50%;}#sk-container-id-1 div.sk-parallel-item:only-child::after {width: 0;}#sk-container-id-1 div.sk-dashed-wrapped {border: 1px dashed gray;margin: 0 0.4em 0.5em 0.4em;box-sizing: border-box;padding-bottom: 0.4em;background-color: white;}#sk-container-id-1 div.sk-label label {font-family: monospace;font-weight: bold;display: inline-block;line-height: 1.2em;}#sk-container-id-1 div.sk-label-container {text-align: center;}#sk-container-id-1 div.sk-container {/* jupyter's `normalize.less` sets `[hidden] { display: none; }` but bootstrap.min.css set `[hidden] { display: none !important; }` so we also need the `!important` here to be able to override the default hidden behavior on the sphinx rendered scikit-learn.org. See: https://github.com/scikit-learn/scikit-learn/issues/21755 */display: inline-block !important;position: relative;}#sk-container-id-1 div.sk-text-repr-fallback {display: none;}</style><div id=\"sk-container-id-1\" class=\"sk-top-container\"><div class=\"sk-text-repr-fallback\"><pre>LinearRegression()</pre><b>In a Jupyter environment, please rerun this cell to show the HTML representation or trust the notebook. <br />On GitHub, the HTML representation is unable to render, please try loading this page with nbviewer.org.</b></div><div class=\"sk-container\" hidden><div class=\"sk-item\"><div class=\"sk-estimator sk-toggleable\"><input class=\"sk-toggleable__control sk-hidden--visually\" id=\"sk-estimator-id-1\" type=\"checkbox\" checked><label for=\"sk-estimator-id-1\" class=\"sk-toggleable__label sk-toggleable__label-arrow\">LinearRegression</label><div class=\"sk-toggleable__content\"><pre>LinearRegression()</pre></div></div></div></div></div>"
      ],
      "text/plain": [
       "LinearRegression()"
      ]
     },
     "execution_count": 10,
     "metadata": {},
     "output_type": "execute_result"
    }
   ],
   "source": [
    "mlr.fit(X_train, y_train)"
   ]
  },
  {
   "cell_type": "code",
   "execution_count": 11,
   "metadata": {},
   "outputs": [
    {
     "name": "stdout",
     "output_type": "stream",
     "text": [
      "Intercept:  [1.28343720e+01 2.48678421e+01 8.48570554e+01 2.20315769e+01\n",
      " 3.19391832e-01 9.68784742e+02 5.81795313e+01 1.51370207e-01\n",
      " 5.11804031e-01 7.64895245e+00 1.58275327e+02 1.91123847e+01\n",
      " 2.60148823e+01 3.71015163e-01 1.38642466e+02 7.30871335e+01]\n",
      "Coefficients:\n"
     ]
    },
    {
     "data": {
      "text/plain": [
       "[('Production (mt)',\n",
       "  array([ 5.33249034e-04,  2.40240334e-04, -6.78542763e+00])),\n",
       " ('Area (ha)', array([ 3.27481453e-04, -4.66743746e-04,  9.04395279e-01])),\n",
       " ('Yield (mt/ha)', array([-0.00061652,  0.00054279, -0.42805518]))]"
      ]
     },
     "execution_count": 11,
     "metadata": {},
     "output_type": "execute_result"
    }
   ],
   "source": [
    "print(\"Intercept: \", mlr.intercept_)\n",
    "print(\"Coefficients:\")\n",
    "list(zip(x, mlr.coef_))"
   ]
  },
  {
   "cell_type": "code",
   "execution_count": 12,
   "metadata": {},
   "outputs": [],
   "source": [
    "y_pred_mlr= mlr.predict(X_test)"
   ]
  },
  {
   "cell_type": "code",
   "execution_count": 13,
   "metadata": {},
   "outputs": [
    {
     "name": "stdout",
     "output_type": "stream",
     "text": [
      "Prediction for test set: [[ 12.74229001  23.95295017  85.92806599 ...   0.38978711 136.57441737\n",
      "   72.87212393]\n",
      " [  8.15232878  25.34367908  84.5326257  ...   0.37903173 140.69652139\n",
      "   72.75859119]\n",
      " [ 11.20850284  24.82732644  85.02850576 ...   0.37821488 139.02532633\n",
      "   72.87981222]\n",
      " ...\n",
      " [ 12.83437196  24.86784206  84.85705542 ...   0.37101516 138.64246577\n",
      "   73.08713346]\n",
      " [ 13.03857625  24.47110987  85.31842915 ...   0.37829269 137.72326665\n",
      "   73.00716467]\n",
      " [  3.10102055  26.17649016  84.21001252 ...   0.3837041  144.89621872\n",
      "   72.05349184]]\n"
     ]
    }
   ],
   "source": [
    "print(\"Prediction for test set: {}\".format(y_pred_mlr))"
   ]
  },
  {
   "cell_type": "code",
   "execution_count": 14,
   "metadata": {},
   "outputs": [
    {
     "ename": "ValueError",
     "evalue": "Per-column arrays must each be 1-dimensional",
     "output_type": "error",
     "traceback": [
      "\u001b[1;31m---------------------------------------------------------------------------\u001b[0m",
      "\u001b[1;31mValueError\u001b[0m                                Traceback (most recent call last)",
      "\u001b[1;32mc:\\Users\\arian\\Documents\\THESIS 2\\thesis-2\\thesis-2-1\\mlr.ipynb Cell 14\u001b[0m line \u001b[0;36m1\n\u001b[1;32m----> <a href='vscode-notebook-cell:/c%3A/Users/arian/Documents/THESIS%202/thesis-2/thesis-2-1/mlr.ipynb#X16sZmlsZQ%3D%3D?line=0'>1</a>\u001b[0m mlr_diff \u001b[39m=\u001b[39m pd\u001b[39m.\u001b[39;49mDataFrame({\u001b[39m'\u001b[39;49m\u001b[39mActual value\u001b[39;49m\u001b[39m'\u001b[39;49m: y_test, \n\u001b[0;32m      <a href='vscode-notebook-cell:/c%3A/Users/arian/Documents/THESIS%202/thesis-2/thesis-2-1/mlr.ipynb#X16sZmlsZQ%3D%3D?line=1'>2</a>\u001b[0m                          \u001b[39m'\u001b[39;49m\u001b[39mPredicted value\u001b[39;49m\u001b[39m'\u001b[39;49m: y_pred_mlr})\n\u001b[0;32m      <a href='vscode-notebook-cell:/c%3A/Users/arian/Documents/THESIS%202/thesis-2/thesis-2-1/mlr.ipynb#X16sZmlsZQ%3D%3D?line=2'>3</a>\u001b[0m mlr_diff\u001b[39m.\u001b[39mhead()\n",
      "File \u001b[1;32m~\\AppData\\Roaming\\Python\\Python311\\site-packages\\pandas\\core\\frame.py:709\u001b[0m, in \u001b[0;36mDataFrame.__init__\u001b[1;34m(self, data, index, columns, dtype, copy)\u001b[0m\n\u001b[0;32m    703\u001b[0m     mgr \u001b[39m=\u001b[39m \u001b[39mself\u001b[39m\u001b[39m.\u001b[39m_init_mgr(\n\u001b[0;32m    704\u001b[0m         data, axes\u001b[39m=\u001b[39m{\u001b[39m\"\u001b[39m\u001b[39mindex\u001b[39m\u001b[39m\"\u001b[39m: index, \u001b[39m\"\u001b[39m\u001b[39mcolumns\u001b[39m\u001b[39m\"\u001b[39m: columns}, dtype\u001b[39m=\u001b[39mdtype, copy\u001b[39m=\u001b[39mcopy\n\u001b[0;32m    705\u001b[0m     )\n\u001b[0;32m    707\u001b[0m \u001b[39melif\u001b[39;00m \u001b[39misinstance\u001b[39m(data, \u001b[39mdict\u001b[39m):\n\u001b[0;32m    708\u001b[0m     \u001b[39m# GH#38939 de facto copy defaults to False only in non-dict cases\u001b[39;00m\n\u001b[1;32m--> 709\u001b[0m     mgr \u001b[39m=\u001b[39m dict_to_mgr(data, index, columns, dtype\u001b[39m=\u001b[39;49mdtype, copy\u001b[39m=\u001b[39;49mcopy, typ\u001b[39m=\u001b[39;49mmanager)\n\u001b[0;32m    710\u001b[0m \u001b[39melif\u001b[39;00m \u001b[39misinstance\u001b[39m(data, ma\u001b[39m.\u001b[39mMaskedArray):\n\u001b[0;32m    711\u001b[0m     \u001b[39mfrom\u001b[39;00m \u001b[39mnumpy\u001b[39;00m\u001b[39m.\u001b[39;00m\u001b[39mma\u001b[39;00m \u001b[39mimport\u001b[39;00m mrecords\n",
      "File \u001b[1;32m~\\AppData\\Roaming\\Python\\Python311\\site-packages\\pandas\\core\\internals\\construction.py:481\u001b[0m, in \u001b[0;36mdict_to_mgr\u001b[1;34m(data, index, columns, dtype, typ, copy)\u001b[0m\n\u001b[0;32m    477\u001b[0m     \u001b[39melse\u001b[39;00m:\n\u001b[0;32m    478\u001b[0m         \u001b[39m# dtype check to exclude e.g. range objects, scalars\u001b[39;00m\n\u001b[0;32m    479\u001b[0m         arrays \u001b[39m=\u001b[39m [x\u001b[39m.\u001b[39mcopy() \u001b[39mif\u001b[39;00m \u001b[39mhasattr\u001b[39m(x, \u001b[39m\"\u001b[39m\u001b[39mdtype\u001b[39m\u001b[39m\"\u001b[39m) \u001b[39melse\u001b[39;00m x \u001b[39mfor\u001b[39;00m x \u001b[39min\u001b[39;00m arrays]\n\u001b[1;32m--> 481\u001b[0m \u001b[39mreturn\u001b[39;00m arrays_to_mgr(arrays, columns, index, dtype\u001b[39m=\u001b[39;49mdtype, typ\u001b[39m=\u001b[39;49mtyp, consolidate\u001b[39m=\u001b[39;49mcopy)\n",
      "File \u001b[1;32m~\\AppData\\Roaming\\Python\\Python311\\site-packages\\pandas\\core\\internals\\construction.py:115\u001b[0m, in \u001b[0;36marrays_to_mgr\u001b[1;34m(arrays, columns, index, dtype, verify_integrity, typ, consolidate)\u001b[0m\n\u001b[0;32m    112\u001b[0m \u001b[39mif\u001b[39;00m verify_integrity:\n\u001b[0;32m    113\u001b[0m     \u001b[39m# figure out the index, if necessary\u001b[39;00m\n\u001b[0;32m    114\u001b[0m     \u001b[39mif\u001b[39;00m index \u001b[39mis\u001b[39;00m \u001b[39mNone\u001b[39;00m:\n\u001b[1;32m--> 115\u001b[0m         index \u001b[39m=\u001b[39m _extract_index(arrays)\n\u001b[0;32m    116\u001b[0m     \u001b[39melse\u001b[39;00m:\n\u001b[0;32m    117\u001b[0m         index \u001b[39m=\u001b[39m ensure_index(index)\n",
      "File \u001b[1;32m~\\AppData\\Roaming\\Python\\Python311\\site-packages\\pandas\\core\\internals\\construction.py:642\u001b[0m, in \u001b[0;36m_extract_index\u001b[1;34m(data)\u001b[0m\n\u001b[0;32m    640\u001b[0m         raw_lengths\u001b[39m.\u001b[39mappend(\u001b[39mlen\u001b[39m(val))\n\u001b[0;32m    641\u001b[0m     \u001b[39melif\u001b[39;00m \u001b[39misinstance\u001b[39m(val, np\u001b[39m.\u001b[39mndarray) \u001b[39mand\u001b[39;00m val\u001b[39m.\u001b[39mndim \u001b[39m>\u001b[39m \u001b[39m1\u001b[39m:\n\u001b[1;32m--> 642\u001b[0m         \u001b[39mraise\u001b[39;00m \u001b[39mValueError\u001b[39;00m(\u001b[39m\"\u001b[39m\u001b[39mPer-column arrays must each be 1-dimensional\u001b[39m\u001b[39m\"\u001b[39m)\n\u001b[0;32m    644\u001b[0m \u001b[39mif\u001b[39;00m \u001b[39mnot\u001b[39;00m indexes \u001b[39mand\u001b[39;00m \u001b[39mnot\u001b[39;00m raw_lengths:\n\u001b[0;32m    645\u001b[0m     \u001b[39mraise\u001b[39;00m \u001b[39mValueError\u001b[39;00m(\u001b[39m\"\u001b[39m\u001b[39mIf using all scalar values, you must pass an index\u001b[39m\u001b[39m\"\u001b[39m)\n",
      "\u001b[1;31mValueError\u001b[0m: Per-column arrays must each be 1-dimensional"
     ]
    }
   ],
   "source": [
    "mlr_diff = pd.DataFrame({'Actual value': y_test, \n",
    "                         'Predicted value': y_pred_mlr})\n",
    "mlr_diff.head()"
   ]
  }
 ],
 "metadata": {
  "kernelspec": {
   "display_name": "Python 3",
   "language": "python",
   "name": "python3"
  },
  "language_info": {
   "codemirror_mode": {
    "name": "ipython",
    "version": 3
   },
   "file_extension": ".py",
   "mimetype": "text/x-python",
   "name": "python",
   "nbconvert_exporter": "python",
   "pygments_lexer": "ipython3",
   "version": "3.11.1"
  },
  "orig_nbformat": 4
 },
 "nbformat": 4,
 "nbformat_minor": 2
}
