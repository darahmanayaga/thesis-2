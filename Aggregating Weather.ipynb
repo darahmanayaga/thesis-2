{
 "cells": [
  {
   "cell_type": "markdown",
   "metadata": {},
   "source": [
    "# Importing Pandas "
   ]
  },
  {
   "cell_type": "code",
   "execution_count": 1,
   "metadata": {},
   "outputs": [],
   "source": [
    "import pandas as pd"
   ]
  },
  {
   "cell_type": "code",
   "execution_count": 2,
   "metadata": {},
   "outputs": [],
   "source": [
    "import scipy.stats as stats #for mode"
   ]
  },
  {
   "cell_type": "markdown",
   "metadata": {},
   "source": [
    "# Functions"
   ]
  },
  {
   "cell_type": "code",
   "execution_count": 4,
   "metadata": {},
   "outputs": [],
   "source": [
    "#extract year and date from time\n",
    "def extract_year_date(df): \n",
    "    df['time'] = pd.to_datetime(df['time'])\n",
    "    df['year'] =df['time'].dt.year\n",
    "    df['date']= df['time'].dt.date #used for aggregating weather parameters (resampling())\n",
    "    return df"
   ]
  },
  {
   "cell_type": "code",
   "execution_count": 5,
   "metadata": {},
   "outputs": [],
   "source": [
    "#convert degree to cardinal direction\n",
    "def degrees_to_cardinal(angle): \n",
    "    directions = ['N', 'NNE', 'NE', 'ENE', 'E', 'ESE', 'SE', 'SSE', 'S', 'SSW', 'SW', 'WSW', 'W', 'WNW', 'NW', 'NNW']\n",
    "    ix = int((angle + 11.25) /22.5) \n",
    "    return directions[ix%16]"
   ]
  },
  {
   "cell_type": "code",
   "execution_count": 6,
   "metadata": {},
   "outputs": [],
   "source": [
    "#aggregating wind direction\n",
    "def aggregate_wind_dir(df):\n",
    "    df['wind_dir_text'] = df['winddirection_10m (°)'].map(lambda x: degrees_to_cardinal(x)) #convert degrees to cardinal direction\n",
    "    wind_dir = df.groupby(\"year\")['wind_dir_text'].agg(lambda x:x.value_counts().index[0]) #get the most frequent direction per year\n",
    "    return wind_dir"
   ]
  },
  {
   "cell_type": "code",
   "execution_count": 7,
   "metadata": {},
   "outputs": [],
   "source": [
    "#get most frequent wind_speed\n",
    "def get_wind_speed(wind_speed,wind_dir): \n",
    "    windSpeed = []\n",
    "    for idx,val in enumerate(wind_dir): \n",
    "        windSpeed.append(wind_speed[(wind_speed['year']== wind_dir.index[idx]) & (wind_speed['wind_dir_text']==val)]['windspeed_10m (km/h)'].item())\n",
    "    return windSpeed"
   ]
  },
  {
   "cell_type": "code",
   "execution_count": 8,
   "metadata": {},
   "outputs": [],
   "source": [
    "#aggregating wind speed\n",
    "def aggregate_wind_speed(df,wind_dir):\n",
    "    #get the index of the most frequent speed per year&direction \n",
    "    wind_speed = df.groupby(['year','wind_dir_text'])['windspeed_10m (km/h)'].apply(lambda x: x.value_counts().idxmax()) \n",
    "    return get_wind_speed(wind_speed.reset_index(), wind_dir)"
   ]
  },
  {
   "cell_type": "code",
   "execution_count": 9,
   "metadata": {},
   "outputs": [],
   "source": [
    "#put aggregated wind speed and wind direction in a single dataframe\n",
    "def rescaled_wind(dir,speed):\n",
    "    wind = pd.DataFrame({'year':dir.index,'Wind_Direction': dir.values})\n",
    "    wind['Wind_Speed_(km/h)'] = speed\n",
    "    return wind"
   ]
  },
  {
   "cell_type": "markdown",
   "metadata": {},
   "source": [
    "### Aggregating remaining weather parameters"
   ]
  },
  {
   "cell_type": "code",
   "execution_count": 10,
   "metadata": {},
   "outputs": [],
   "source": [
    "def get_mean(df):\n",
    "    ave_cols = df[['date','temperature_2m (°C)', 'relativehumidity_2m (%)', 'dewpoint_2m (°C)','surface_pressure (hPa)','et0_fao_evapotranspiration (mm)', \n",
    "'vapor_pressure_deficit (kPa)','soil_temperature_28_to_100cm (°C)','soil_moisture_28_to_100cm (m³/m³)','direct_radiation (W/m²)','diffuse_radiation (W/m²)']]\n",
    "    ave_cols.set_index('date',inplace = True) #set index as date\n",
    "    ave_cols.index = pd.to_datetime(ave_cols.index)\n",
    "    ave_cols = ave_cols.resample('A').mean()\n",
    "    return ave_cols.round(2)"
   ]
  },
  {
   "cell_type": "code",
   "execution_count": 11,
   "metadata": {},
   "outputs": [],
   "source": [
    "def get_sum(df):\n",
    "    sum_cols = df[['date','rain (mm)']]\n",
    "    sum_cols.set_index('date',inplace = True) #set index as date\n",
    "    sum_cols.index = pd.to_datetime(sum_cols.index)\n",
    "    sum_cols = sum_cols.resample('A').sum()\n",
    "    return sum_cols.round(2) "
   ]
  },
  {
   "cell_type": "code",
   "execution_count": 12,
   "metadata": {},
   "outputs": [],
   "source": [
    "def get_mode(df): \n",
    "    mode_cols = df[['date','year','weathercode (wmo code)','windgusts_10m (km/h)', 'cloudcover (%)']]\n",
    "    mode_cols.set_index('date',inplace = True) \n",
    "    mode_cols.index = pd.to_datetime(mode_cols.index)\n",
    "    mode_cols = mode_cols.resample('A').apply(lambda x: stats.mode(x)[0])\n",
    "    return mode_cols"
   ]
  },
  {
   "cell_type": "markdown",
   "metadata": {},
   "source": [
    "### Aggregating data for regions with more farms > 1:  "
   ]
  },
  {
   "cell_type": "code",
   "execution_count": 13,
   "metadata": {},
   "outputs": [],
   "source": [
    "def region_mode(df):\n",
    "    annual_mode = df.groupby(\"year\")[['Wind_Direction','weathercode (wmo code)','windgusts_10m (km/h)', 'cloudcover (%)']].agg(lambda x:x.value_counts().index[0]) #get the most frequent direction per year\n",
    "    return annual_mode"
   ]
  },
  {
   "cell_type": "code",
   "execution_count": 14,
   "metadata": {},
   "outputs": [],
   "source": [
    "#aggregating wind speed for region\n",
    "def aggregate_region_windSpeed(df, region_mode): \n",
    "    wind_speed = df.groupby(['year','Wind_Direction'])['Wind_Speed_(km/h)'].apply(lambda x: x.value_counts().idxmax()) #get the most frequent speed per year&direction\n",
    "    wind_speed = region_wind_speed(wind_speed.reset_index(), region_mode)\n",
    "    region_mode['Wind_Speed_(km/h)'] = wind_speed\n",
    "    return region_mode.reset_index()"
   ]
  },
  {
   "cell_type": "code",
   "execution_count": 15,
   "metadata": {},
   "outputs": [],
   "source": [
    "#get the most frequent speed per year & most frequent direction\n",
    "def region_wind_speed(wind_speed,region_mode):\n",
    "    windSpeed  = []\n",
    "    for index,row in region_mode.iterrows(): \n",
    "        windSpeed.append(wind_speed[(wind_speed['year']== index) & (wind_speed['Wind_Direction']==row['Wind_Direction'])]['Wind_Speed_(km/h)'].item())\n",
    "    return windSpeed"
   ]
  },
  {
   "cell_type": "code",
   "execution_count": 16,
   "metadata": {},
   "outputs": [],
   "source": [
    "def region_mean(df):\n",
    "    annual_mean = df.groupby(\"year\")[['temperature_2m (°C)',\n",
    "       'relativehumidity_2m (%)', 'dewpoint_2m (°C)', 'surface_pressure (hPa)',\n",
    "       'et0_fao_evapotranspiration (mm)', 'vapor_pressure_deficit (kPa)',\n",
    "       'soil_temperature_28_to_100cm (°C)',\n",
    "       'soil_moisture_28_to_100cm (m³/m³)', 'direct_radiation (W/m²)',\n",
    "       'diffuse_radiation (W/m²)', 'rain (mm)']].mean() #get the most frequent direction per year\n",
    "    return annual_mean.reset_index()"
   ]
  },
  {
   "cell_type": "markdown",
   "metadata": {},
   "source": [
    "### Steps in aggregating\n",
    "1. Convert time column to datetime\n",
    "2. Extract year - used for aggregating wind parameters\n",
    "3. Extract date - used for aggregating non-wind parameters\n",
    "4. Aggregate wind direction \n",
    "    * convert direction in degrees to cardinal direction \n",
    "    * get the mode for each year  \n",
    "5. Aggregate wind speed \n",
    "    * Get the most frequent wind speed given the mode wind direction of that year. \n",
    "    Ex: get the most frequent wind speed for 1990 where the direction is the mode direction - Northeast (NE)\n",
    "6. Merge wind direction and speed dataframes to serve as the aggregate dataset for wind parameters\n",
    "7. Aggregate temperature, relative humdiity, dewpoint,surface pressure, evapotranspiration, vapor pressure, soil columns, and radiation columns using mean\n",
    "8. Aggregate rain using sum \n",
    "9. Aggregate weathercode, cloud cover, and wind gust using mode\n",
    "10. Merge all aggregated non-wind columns (including wind gusts) to serve as the aggregate dataset for non-wind parameters\n",
    "11. Merge wind and non-wind dataframe to serve as aggregate weather dataset for one location"
   ]
  },
  {
   "cell_type": "markdown",
   "metadata": {},
   "source": [
    "# Region 9 - Zamboanga Peninsula"
   ]
  },
  {
   "cell_type": "markdown",
   "metadata": {},
   "source": [
    "## Zamboanga del Norte"
   ]
  },
  {
   "cell_type": "markdown",
   "metadata": {},
   "source": [
    "#### Atoaa Coffee Farm"
   ]
  },
  {
   "cell_type": "code",
   "execution_count": 16,
   "metadata": {},
   "outputs": [],
   "source": [
    "zamboanga_norte_1 = pd.read_csv(r\"D:\\Thesis\\Datasets\\9-Zamboanga del Norte\\ATOAA Coffee Farm.csv\",header = 2) "
   ]
  },
  {
   "cell_type": "code",
   "execution_count": 17,
   "metadata": {},
   "outputs": [
    {
     "data": {
      "text/html": [
       "<div>\n",
       "<style scoped>\n",
       "    .dataframe tbody tr th:only-of-type {\n",
       "        vertical-align: middle;\n",
       "    }\n",
       "\n",
       "    .dataframe tbody tr th {\n",
       "        vertical-align: top;\n",
       "    }\n",
       "\n",
       "    .dataframe thead th {\n",
       "        text-align: right;\n",
       "    }\n",
       "</style>\n",
       "<table border=\"1\" class=\"dataframe\">\n",
       "  <thead>\n",
       "    <tr style=\"text-align: right;\">\n",
       "      <th></th>\n",
       "      <th>time</th>\n",
       "      <th>temperature_2m (°C)</th>\n",
       "      <th>relativehumidity_2m (%)</th>\n",
       "      <th>dewpoint_2m (°C)</th>\n",
       "      <th>rain (mm)</th>\n",
       "      <th>weathercode (wmo code)</th>\n",
       "      <th>surface_pressure (hPa)</th>\n",
       "      <th>cloudcover (%)</th>\n",
       "      <th>et0_fao_evapotranspiration (mm)</th>\n",
       "      <th>vapor_pressure_deficit (kPa)</th>\n",
       "      <th>windspeed_10m (km/h)</th>\n",
       "      <th>winddirection_10m (°)</th>\n",
       "      <th>windgusts_10m (km/h)</th>\n",
       "      <th>soil_temperature_28_to_100cm (°C)</th>\n",
       "      <th>soil_moisture_28_to_100cm (m³/m³)</th>\n",
       "      <th>direct_radiation (W/m²)</th>\n",
       "      <th>diffuse_radiation (W/m²)</th>\n",
       "    </tr>\n",
       "  </thead>\n",
       "  <tbody>\n",
       "    <tr>\n",
       "      <th>0</th>\n",
       "      <td>1990-01-01T00:00</td>\n",
       "      <td>24.7</td>\n",
       "      <td>82</td>\n",
       "      <td>21.5</td>\n",
       "      <td>0.0</td>\n",
       "      <td>2</td>\n",
       "      <td>1009.8</td>\n",
       "      <td>51</td>\n",
       "      <td>0.04</td>\n",
       "      <td>0.55</td>\n",
       "      <td>17.3</td>\n",
       "      <td>54</td>\n",
       "      <td>31.3</td>\n",
       "      <td>27.1</td>\n",
       "      <td>0.408</td>\n",
       "      <td>0.0</td>\n",
       "      <td>0.0</td>\n",
       "    </tr>\n",
       "    <tr>\n",
       "      <th>1</th>\n",
       "      <td>1990-01-01T01:00</td>\n",
       "      <td>24.5</td>\n",
       "      <td>84</td>\n",
       "      <td>21.6</td>\n",
       "      <td>0.1</td>\n",
       "      <td>51</td>\n",
       "      <td>1009.5</td>\n",
       "      <td>35</td>\n",
       "      <td>0.03</td>\n",
       "      <td>0.49</td>\n",
       "      <td>17.2</td>\n",
       "      <td>53</td>\n",
       "      <td>29.9</td>\n",
       "      <td>27.1</td>\n",
       "      <td>0.408</td>\n",
       "      <td>0.0</td>\n",
       "      <td>0.0</td>\n",
       "    </tr>\n",
       "    <tr>\n",
       "      <th>2</th>\n",
       "      <td>1990-01-01T02:00</td>\n",
       "      <td>24.3</td>\n",
       "      <td>85</td>\n",
       "      <td>21.7</td>\n",
       "      <td>0.2</td>\n",
       "      <td>51</td>\n",
       "      <td>1009.0</td>\n",
       "      <td>57</td>\n",
       "      <td>0.03</td>\n",
       "      <td>0.45</td>\n",
       "      <td>16.5</td>\n",
       "      <td>54</td>\n",
       "      <td>28.4</td>\n",
       "      <td>27.1</td>\n",
       "      <td>0.408</td>\n",
       "      <td>0.0</td>\n",
       "      <td>0.0</td>\n",
       "    </tr>\n",
       "    <tr>\n",
       "      <th>3</th>\n",
       "      <td>1990-01-01T03:00</td>\n",
       "      <td>24.5</td>\n",
       "      <td>85</td>\n",
       "      <td>21.7</td>\n",
       "      <td>0.2</td>\n",
       "      <td>51</td>\n",
       "      <td>1008.7</td>\n",
       "      <td>65</td>\n",
       "      <td>0.02</td>\n",
       "      <td>0.47</td>\n",
       "      <td>15.4</td>\n",
       "      <td>53</td>\n",
       "      <td>25.9</td>\n",
       "      <td>27.1</td>\n",
       "      <td>0.408</td>\n",
       "      <td>0.0</td>\n",
       "      <td>0.0</td>\n",
       "    </tr>\n",
       "    <tr>\n",
       "      <th>4</th>\n",
       "      <td>1990-01-01T04:00</td>\n",
       "      <td>24.3</td>\n",
       "      <td>86</td>\n",
       "      <td>21.8</td>\n",
       "      <td>0.3</td>\n",
       "      <td>51</td>\n",
       "      <td>1008.5</td>\n",
       "      <td>45</td>\n",
       "      <td>0.02</td>\n",
       "      <td>0.43</td>\n",
       "      <td>16.4</td>\n",
       "      <td>50</td>\n",
       "      <td>25.9</td>\n",
       "      <td>27.0</td>\n",
       "      <td>0.408</td>\n",
       "      <td>0.0</td>\n",
       "      <td>0.0</td>\n",
       "    </tr>\n",
       "  </tbody>\n",
       "</table>\n",
       "</div>"
      ],
      "text/plain": [
       "               time  temperature_2m (°C)  relativehumidity_2m (%)  \\\n",
       "0  1990-01-01T00:00                 24.7                       82   \n",
       "1  1990-01-01T01:00                 24.5                       84   \n",
       "2  1990-01-01T02:00                 24.3                       85   \n",
       "3  1990-01-01T03:00                 24.5                       85   \n",
       "4  1990-01-01T04:00                 24.3                       86   \n",
       "\n",
       "   dewpoint_2m (°C)  rain (mm)  weathercode (wmo code)  \\\n",
       "0              21.5        0.0                       2   \n",
       "1              21.6        0.1                      51   \n",
       "2              21.7        0.2                      51   \n",
       "3              21.7        0.2                      51   \n",
       "4              21.8        0.3                      51   \n",
       "\n",
       "   surface_pressure (hPa)  cloudcover (%)  et0_fao_evapotranspiration (mm)  \\\n",
       "0                  1009.8              51                             0.04   \n",
       "1                  1009.5              35                             0.03   \n",
       "2                  1009.0              57                             0.03   \n",
       "3                  1008.7              65                             0.02   \n",
       "4                  1008.5              45                             0.02   \n",
       "\n",
       "   vapor_pressure_deficit (kPa)  windspeed_10m (km/h)  winddirection_10m (°)  \\\n",
       "0                          0.55                  17.3                     54   \n",
       "1                          0.49                  17.2                     53   \n",
       "2                          0.45                  16.5                     54   \n",
       "3                          0.47                  15.4                     53   \n",
       "4                          0.43                  16.4                     50   \n",
       "\n",
       "   windgusts_10m (km/h)  soil_temperature_28_to_100cm (°C)  \\\n",
       "0                  31.3                               27.1   \n",
       "1                  29.9                               27.1   \n",
       "2                  28.4                               27.1   \n",
       "3                  25.9                               27.1   \n",
       "4                  25.9                               27.0   \n",
       "\n",
       "   soil_moisture_28_to_100cm (m³/m³)  direct_radiation (W/m²)  \\\n",
       "0                              0.408                      0.0   \n",
       "1                              0.408                      0.0   \n",
       "2                              0.408                      0.0   \n",
       "3                              0.408                      0.0   \n",
       "4                              0.408                      0.0   \n",
       "\n",
       "   diffuse_radiation (W/m²)  \n",
       "0                       0.0  \n",
       "1                       0.0  \n",
       "2                       0.0  \n",
       "3                       0.0  \n",
       "4                       0.0  "
      ]
     },
     "execution_count": 17,
     "metadata": {},
     "output_type": "execute_result"
    }
   ],
   "source": [
    "zamboanga_norte_1.head()"
   ]
  },
  {
   "cell_type": "code",
   "execution_count": 18,
   "metadata": {},
   "outputs": [],
   "source": [
    "zamboanga_norte_1 = extract_year_date(zamboanga_norte_1)"
   ]
  },
  {
   "cell_type": "markdown",
   "metadata": {},
   "source": [
    "#### Aggregate wind parameters"
   ]
  },
  {
   "cell_type": "code",
   "execution_count": 19,
   "metadata": {},
   "outputs": [],
   "source": [
    "zamboanga_norte_1_dir = aggregate_wind_dir(zamboanga_norte_1) "
   ]
  },
  {
   "cell_type": "code",
   "execution_count": 20,
   "metadata": {},
   "outputs": [],
   "source": [
    "zamboanga_norte_1_speed = aggregate_wind_speed(zamboanga_norte_1,zamboanga_norte_1_dir)"
   ]
  },
  {
   "cell_type": "code",
   "execution_count": 21,
   "metadata": {},
   "outputs": [],
   "source": [
    "zamboanga_norte_1_wind= rescaled_wind(zamboanga_norte_1_dir,zamboanga_norte_1_speed)"
   ]
  },
  {
   "cell_type": "markdown",
   "metadata": {},
   "source": [
    "#### Aggregating non wind parameters"
   ]
  },
  {
   "cell_type": "code",
   "execution_count": 22,
   "metadata": {},
   "outputs": [],
   "source": [
    "zamboanga_norte_1_ave = get_mean(zamboanga_norte_1)"
   ]
  },
  {
   "cell_type": "code",
   "execution_count": 23,
   "metadata": {},
   "outputs": [],
   "source": [
    "zamboanga_norte_1_sum = get_sum(zamboanga_norte_1)"
   ]
  },
  {
   "cell_type": "code",
   "execution_count": 24,
   "metadata": {},
   "outputs": [],
   "source": [
    "zamboanga_norte_1_mode = get_mode(zamboanga_norte_1)"
   ]
  },
  {
   "cell_type": "code",
   "execution_count": 25,
   "metadata": {},
   "outputs": [],
   "source": [
    "zamboanga_norte_1_not_wind = pd.concat([zamboanga_norte_1_ave, zamboanga_norte_1_sum,zamboanga_norte_1_mode],axis = 1)"
   ]
  },
  {
   "cell_type": "code",
   "execution_count": 26,
   "metadata": {},
   "outputs": [],
   "source": [
    "zamboanga_norte_1_final = zamboanga_norte_1_wind.merge(zamboanga_norte_1_not_wind , how='inner',on='year')"
   ]
  },
  {
   "cell_type": "markdown",
   "metadata": {},
   "source": [
    "#### Good Morning Farm"
   ]
  },
  {
   "cell_type": "code",
   "execution_count": 27,
   "metadata": {},
   "outputs": [],
   "source": [
    "zamboanga_norte_2 = pd.read_csv(r\"D:\\Thesis\\Datasets\\9-Zamboanga del Norte\\Good Morning Coffee.csv\",header = 2) "
   ]
  },
  {
   "cell_type": "code",
   "execution_count": 28,
   "metadata": {},
   "outputs": [],
   "source": [
    "zamboanga_norte_2 = extract_year_date(zamboanga_norte_2)"
   ]
  },
  {
   "cell_type": "code",
   "execution_count": 29,
   "metadata": {},
   "outputs": [],
   "source": [
    "zamboanga_norte_2_dir = aggregate_wind_dir(zamboanga_norte_2) "
   ]
  },
  {
   "cell_type": "code",
   "execution_count": 30,
   "metadata": {},
   "outputs": [],
   "source": [
    "zamboanga_norte_2_speed = aggregate_wind_speed(zamboanga_norte_2 ,zamboanga_norte_2_dir)"
   ]
  },
  {
   "cell_type": "code",
   "execution_count": 31,
   "metadata": {},
   "outputs": [],
   "source": [
    "zamboanga_norte_2_wind= rescaled_wind(zamboanga_norte_2_dir,zamboanga_norte_2_speed)"
   ]
  },
  {
   "cell_type": "code",
   "execution_count": 32,
   "metadata": {},
   "outputs": [],
   "source": [
    "zamboanga_norte_2_ave = get_mean(zamboanga_norte_2)"
   ]
  },
  {
   "cell_type": "code",
   "execution_count": 33,
   "metadata": {},
   "outputs": [],
   "source": [
    "zamboanga_norte_2_sum = get_sum(zamboanga_norte_2)"
   ]
  },
  {
   "cell_type": "code",
   "execution_count": 34,
   "metadata": {},
   "outputs": [],
   "source": [
    "zamboanga_norte_2_mode = get_mode(zamboanga_norte_2)"
   ]
  },
  {
   "cell_type": "code",
   "execution_count": 35,
   "metadata": {},
   "outputs": [],
   "source": [
    "zamboanga_norte_2_not_wind = pd.concat([zamboanga_norte_2_ave, zamboanga_norte_2_sum,zamboanga_norte_2_mode],axis = 1)"
   ]
  },
  {
   "cell_type": "code",
   "execution_count": 36,
   "metadata": {},
   "outputs": [],
   "source": [
    "zamboanga_norte_2_final = zamboanga_norte_2_wind.merge(zamboanga_norte_2_not_wind , how='inner',on='year')"
   ]
  },
  {
   "cell_type": "markdown",
   "metadata": {},
   "source": [
    "#### Get aggregate for Zamboanga del Norte given two locations"
   ]
  },
  {
   "cell_type": "code",
   "execution_count": 37,
   "metadata": {},
   "outputs": [],
   "source": [
    "zamboanga_norte = pd.concat([zamboanga_norte_1_final,zamboanga_norte_2_final],axis = 0)"
   ]
  },
  {
   "cell_type": "code",
   "execution_count": 114,
   "metadata": {},
   "outputs": [],
   "source": [
    "regional_mode = region_mode(zamboanga_norte)"
   ]
  },
  {
   "cell_type": "code",
   "execution_count": 116,
   "metadata": {},
   "outputs": [],
   "source": [
    "regional_mode = aggregate_region_windSpeed(zamboanga_norte,regional_mode)"
   ]
  },
  {
   "cell_type": "code",
   "execution_count": 127,
   "metadata": {},
   "outputs": [],
   "source": [
    "regional_mean = region_mean(zamboanga_norte)"
   ]
  },
  {
   "cell_type": "code",
   "execution_count": 128,
   "metadata": {},
   "outputs": [],
   "source": [
    "zamboanga_norte_annual = regional_mode.merge(regional_mean , how='inner',on='year')"
   ]
  },
  {
   "cell_type": "code",
   "execution_count": 129,
   "metadata": {},
   "outputs": [],
   "source": [
    "zamboanga_norte_annual.insert(loc = 1, column= \"Location\", value =\"ZAMBOANGA DEL NORTE\")"
   ]
  },
  {
   "cell_type": "code",
   "execution_count": 55,
   "metadata": {},
   "outputs": [],
   "source": [
    "zamboanga_norte_annual.to_csv('ZAMBOANGA DEL NORTE.csv')"
   ]
  },
  {
   "cell_type": "markdown",
   "metadata": {},
   "source": [
    "## Zamboanga del Sur "
   ]
  },
  {
   "cell_type": "markdown",
   "metadata": {},
   "source": [
    "#### Dumalinao"
   ]
  },
  {
   "cell_type": "code",
   "execution_count": 57,
   "metadata": {},
   "outputs": [],
   "source": [
    "zamboanga_sur_1 = pd.read_csv(r\"D:\\Thesis\\Datasets\\9 - Zamboanga del Sur\\Dumalinao, Zamboanga del Sur.csv\",header = 2) "
   ]
  },
  {
   "cell_type": "code",
   "execution_count": 59,
   "metadata": {},
   "outputs": [],
   "source": [
    "zamboanga_sur_1 = extract_year_date(zamboanga_sur_1)"
   ]
  },
  {
   "cell_type": "code",
   "execution_count": 60,
   "metadata": {},
   "outputs": [],
   "source": [
    "zamboanga_sur_1_dir = aggregate_wind_dir(zamboanga_sur_1) "
   ]
  },
  {
   "cell_type": "code",
   "execution_count": 61,
   "metadata": {},
   "outputs": [],
   "source": [
    "zamboanga_sur_1_speed = aggregate_wind_speed(zamboanga_sur_1,zamboanga_sur_1_dir)"
   ]
  },
  {
   "cell_type": "code",
   "execution_count": 62,
   "metadata": {},
   "outputs": [],
   "source": [
    "zamboanga_sur_1_wind = rescaled_wind(zamboanga_sur_1_dir,zamboanga_sur_1_speed)"
   ]
  },
  {
   "cell_type": "code",
   "execution_count": 63,
   "metadata": {},
   "outputs": [],
   "source": [
    "zamboanga_sur_1_ave = get_mean(zamboanga_sur_1)"
   ]
  },
  {
   "cell_type": "code",
   "execution_count": 64,
   "metadata": {},
   "outputs": [],
   "source": [
    "zamboanga_sur_1_sum = get_sum(zamboanga_sur_1)"
   ]
  },
  {
   "cell_type": "code",
   "execution_count": 65,
   "metadata": {},
   "outputs": [],
   "source": [
    "zamboanga_sur_1_mode = get_mode(zamboanga_sur_1)"
   ]
  },
  {
   "cell_type": "code",
   "execution_count": 69,
   "metadata": {},
   "outputs": [],
   "source": [
    "zamboanga_sur_1_not_wind = pd.concat([zamboanga_sur_1_ave,zamboanga_sur_1_sum,zamboanga_sur_1_mode],axis = 1)"
   ]
  },
  {
   "cell_type": "code",
   "execution_count": 71,
   "metadata": {},
   "outputs": [],
   "source": [
    "zamboanga_sur_1_final = zamboanga_sur_1_wind.merge(zamboanga_sur_1_not_wind, how = 'inner', on='year')"
   ]
  },
  {
   "cell_type": "markdown",
   "metadata": {},
   "source": [
    "#### Felicisimo Coffee"
   ]
  },
  {
   "cell_type": "code",
   "execution_count": 73,
   "metadata": {},
   "outputs": [],
   "source": [
    "zamboanga_sur_2 = pd.read_csv(r\"D:\\Thesis\\Datasets\\9 - Zamboanga del Sur\\Felicisimo Coffee.csv\",header = 2) "
   ]
  },
  {
   "cell_type": "code",
   "execution_count": 74,
   "metadata": {},
   "outputs": [],
   "source": [
    "zamboanga_sur_2= extract_year_date(zamboanga_sur_2)"
   ]
  },
  {
   "cell_type": "code",
   "execution_count": 75,
   "metadata": {},
   "outputs": [],
   "source": [
    "zamboanga_sur_2_dir = aggregate_wind_dir(zamboanga_sur_2) "
   ]
  },
  {
   "cell_type": "code",
   "execution_count": 76,
   "metadata": {},
   "outputs": [],
   "source": [
    "zamboanga_sur_2_speed = aggregate_wind_speed(zamboanga_sur_2,zamboanga_sur_2_dir)"
   ]
  },
  {
   "cell_type": "code",
   "execution_count": 77,
   "metadata": {},
   "outputs": [],
   "source": [
    "zamboanga_sur_2_wind = rescaled_wind(zamboanga_sur_2_dir,zamboanga_sur_2_speed)"
   ]
  },
  {
   "cell_type": "code",
   "execution_count": 78,
   "metadata": {},
   "outputs": [],
   "source": [
    "zamboanga_sur_2_ave = get_mean(zamboanga_sur_2)"
   ]
  },
  {
   "cell_type": "code",
   "execution_count": 79,
   "metadata": {},
   "outputs": [],
   "source": [
    "zamboanga_sur_2_sum = get_sum(zamboanga_sur_2)"
   ]
  },
  {
   "cell_type": "code",
   "execution_count": 80,
   "metadata": {},
   "outputs": [],
   "source": [
    "zamboanga_sur_2_mode = get_mode(zamboanga_sur_2)"
   ]
  },
  {
   "cell_type": "code",
   "execution_count": 81,
   "metadata": {},
   "outputs": [],
   "source": [
    "zamboanga_sur_2_not_wind = pd.concat([zamboanga_sur_2_ave,zamboanga_sur_2_sum,zamboanga_sur_2_mode],axis = 1)"
   ]
  },
  {
   "cell_type": "code",
   "execution_count": 82,
   "metadata": {},
   "outputs": [],
   "source": [
    "zamboanga_sur_2_final = zamboanga_sur_1_wind.merge(zamboanga_sur_2_not_wind, how='inner',on='year')"
   ]
  },
  {
   "cell_type": "markdown",
   "metadata": {},
   "source": [
    "#### For Zamboanga del Sur"
   ]
  },
  {
   "cell_type": "code",
   "execution_count": 87,
   "metadata": {},
   "outputs": [],
   "source": [
    "zamboanga_sur = pd.concat([zamboanga_sur_1_final,zamboanga_sur_2_final],axis = 0)"
   ]
  },
  {
   "cell_type": "code",
   "execution_count": 121,
   "metadata": {},
   "outputs": [],
   "source": [
    "regional_mode = region_mode(zamboanga_sur)"
   ]
  },
  {
   "cell_type": "code",
   "execution_count": 123,
   "metadata": {},
   "outputs": [],
   "source": [
    "regional_mode = aggregate_region_windSpeed(zamboanga_sur,regional_mode)"
   ]
  },
  {
   "cell_type": "code",
   "execution_count": 130,
   "metadata": {},
   "outputs": [],
   "source": [
    "regional_mean = region_mean(zamboanga_sur)"
   ]
  },
  {
   "cell_type": "code",
   "execution_count": 131,
   "metadata": {},
   "outputs": [],
   "source": [
    "zamboanga_sur_annual = regional_mode.merge(regional_mean , how='inner',on='year')"
   ]
  },
  {
   "cell_type": "code",
   "execution_count": 132,
   "metadata": {},
   "outputs": [],
   "source": [
    "zamboanga_sur_annual.insert(loc = 1, column= \"Location\", value = 'ZAMBOANGA DEL SUR')"
   ]
  },
  {
   "cell_type": "code",
   "execution_count": 133,
   "metadata": {},
   "outputs": [
    {
     "data": {
      "text/html": [
       "<div>\n",
       "<style scoped>\n",
       "    .dataframe tbody tr th:only-of-type {\n",
       "        vertical-align: middle;\n",
       "    }\n",
       "\n",
       "    .dataframe tbody tr th {\n",
       "        vertical-align: top;\n",
       "    }\n",
       "\n",
       "    .dataframe thead th {\n",
       "        text-align: right;\n",
       "    }\n",
       "</style>\n",
       "<table border=\"1\" class=\"dataframe\">\n",
       "  <thead>\n",
       "    <tr style=\"text-align: right;\">\n",
       "      <th></th>\n",
       "      <th>year</th>\n",
       "      <th>Location</th>\n",
       "      <th>Wind_Direction</th>\n",
       "      <th>weathercode (wmo code)</th>\n",
       "      <th>windgusts_10m (km/h)</th>\n",
       "      <th>cloudcover (%)</th>\n",
       "      <th>Wind_Speed_(km/h)</th>\n",
       "      <th>temperature_2m (°C)</th>\n",
       "      <th>relativehumidity_2m (%)</th>\n",
       "      <th>dewpoint_2m (°C)</th>\n",
       "      <th>surface_pressure (hPa)</th>\n",
       "      <th>et0_fao_evapotranspiration (mm)</th>\n",
       "      <th>vapor_pressure_deficit (kPa)</th>\n",
       "      <th>soil_temperature_28_to_100cm (°C)</th>\n",
       "      <th>soil_moisture_28_to_100cm (m³/m³)</th>\n",
       "      <th>direct_radiation (W/m²)</th>\n",
       "      <th>diffuse_radiation (W/m²)</th>\n",
       "      <th>rain (mm)</th>\n",
       "    </tr>\n",
       "  </thead>\n",
       "  <tbody>\n",
       "    <tr>\n",
       "      <th>0</th>\n",
       "      <td>1990</td>\n",
       "      <td>ZAMBOANGA DEL SUR</td>\n",
       "      <td>NNE</td>\n",
       "      <td>1</td>\n",
       "      <td>10.8</td>\n",
       "      <td>100</td>\n",
       "      <td>6.0</td>\n",
       "      <td>26.330</td>\n",
       "      <td>81.795</td>\n",
       "      <td>22.850</td>\n",
       "      <td>996.970</td>\n",
       "      <td>0.16</td>\n",
       "      <td>0.650</td>\n",
       "      <td>28.420</td>\n",
       "      <td>0.395</td>\n",
       "      <td>148.220</td>\n",
       "      <td>70.510</td>\n",
       "      <td>2353.10</td>\n",
       "    </tr>\n",
       "    <tr>\n",
       "      <th>1</th>\n",
       "      <td>1991</td>\n",
       "      <td>ZAMBOANGA DEL SUR</td>\n",
       "      <td>NNE</td>\n",
       "      <td>1</td>\n",
       "      <td>9.0</td>\n",
       "      <td>100</td>\n",
       "      <td>5.8</td>\n",
       "      <td>26.205</td>\n",
       "      <td>81.790</td>\n",
       "      <td>22.740</td>\n",
       "      <td>997.210</td>\n",
       "      <td>0.16</td>\n",
       "      <td>0.640</td>\n",
       "      <td>28.255</td>\n",
       "      <td>0.390</td>\n",
       "      <td>145.260</td>\n",
       "      <td>74.580</td>\n",
       "      <td>1834.60</td>\n",
       "    </tr>\n",
       "    <tr>\n",
       "      <th>2</th>\n",
       "      <td>1992</td>\n",
       "      <td>ZAMBOANGA DEL SUR</td>\n",
       "      <td>NNE</td>\n",
       "      <td>1</td>\n",
       "      <td>8.3</td>\n",
       "      <td>100</td>\n",
       "      <td>7.6</td>\n",
       "      <td>26.135</td>\n",
       "      <td>81.855</td>\n",
       "      <td>22.695</td>\n",
       "      <td>997.500</td>\n",
       "      <td>0.16</td>\n",
       "      <td>0.640</td>\n",
       "      <td>28.315</td>\n",
       "      <td>0.385</td>\n",
       "      <td>144.765</td>\n",
       "      <td>74.865</td>\n",
       "      <td>1927.00</td>\n",
       "    </tr>\n",
       "    <tr>\n",
       "      <th>3</th>\n",
       "      <td>1993</td>\n",
       "      <td>ZAMBOANGA DEL SUR</td>\n",
       "      <td>NNE</td>\n",
       "      <td>1</td>\n",
       "      <td>9.4</td>\n",
       "      <td>100</td>\n",
       "      <td>5.2</td>\n",
       "      <td>26.005</td>\n",
       "      <td>83.105</td>\n",
       "      <td>22.830</td>\n",
       "      <td>997.365</td>\n",
       "      <td>0.15</td>\n",
       "      <td>0.590</td>\n",
       "      <td>27.820</td>\n",
       "      <td>0.400</td>\n",
       "      <td>138.955</td>\n",
       "      <td>75.470</td>\n",
       "      <td>2235.85</td>\n",
       "    </tr>\n",
       "    <tr>\n",
       "      <th>4</th>\n",
       "      <td>1994</td>\n",
       "      <td>ZAMBOANGA DEL SUR</td>\n",
       "      <td>NNE</td>\n",
       "      <td>1</td>\n",
       "      <td>10.8</td>\n",
       "      <td>100</td>\n",
       "      <td>6.6</td>\n",
       "      <td>25.935</td>\n",
       "      <td>83.705</td>\n",
       "      <td>22.885</td>\n",
       "      <td>997.170</td>\n",
       "      <td>0.15</td>\n",
       "      <td>0.565</td>\n",
       "      <td>27.525</td>\n",
       "      <td>0.420</td>\n",
       "      <td>137.640</td>\n",
       "      <td>73.300</td>\n",
       "      <td>2392.85</td>\n",
       "    </tr>\n",
       "  </tbody>\n",
       "</table>\n",
       "</div>"
      ],
      "text/plain": [
       "   year           Location Wind_Direction  weathercode (wmo code)  \\\n",
       "0  1990  ZAMBOANGA DEL SUR            NNE                       1   \n",
       "1  1991  ZAMBOANGA DEL SUR            NNE                       1   \n",
       "2  1992  ZAMBOANGA DEL SUR            NNE                       1   \n",
       "3  1993  ZAMBOANGA DEL SUR            NNE                       1   \n",
       "4  1994  ZAMBOANGA DEL SUR            NNE                       1   \n",
       "\n",
       "   windgusts_10m (km/h)  cloudcover (%)  Wind_Speed_(km/h)  \\\n",
       "0                  10.8             100                6.0   \n",
       "1                   9.0             100                5.8   \n",
       "2                   8.3             100                7.6   \n",
       "3                   9.4             100                5.2   \n",
       "4                  10.8             100                6.6   \n",
       "\n",
       "   temperature_2m (°C)  relativehumidity_2m (%)  dewpoint_2m (°C)  \\\n",
       "0               26.330                   81.795            22.850   \n",
       "1               26.205                   81.790            22.740   \n",
       "2               26.135                   81.855            22.695   \n",
       "3               26.005                   83.105            22.830   \n",
       "4               25.935                   83.705            22.885   \n",
       "\n",
       "   surface_pressure (hPa)  et0_fao_evapotranspiration (mm)  \\\n",
       "0                 996.970                             0.16   \n",
       "1                 997.210                             0.16   \n",
       "2                 997.500                             0.16   \n",
       "3                 997.365                             0.15   \n",
       "4                 997.170                             0.15   \n",
       "\n",
       "   vapor_pressure_deficit (kPa)  soil_temperature_28_to_100cm (°C)  \\\n",
       "0                         0.650                             28.420   \n",
       "1                         0.640                             28.255   \n",
       "2                         0.640                             28.315   \n",
       "3                         0.590                             27.820   \n",
       "4                         0.565                             27.525   \n",
       "\n",
       "   soil_moisture_28_to_100cm (m³/m³)  direct_radiation (W/m²)  \\\n",
       "0                              0.395                  148.220   \n",
       "1                              0.390                  145.260   \n",
       "2                              0.385                  144.765   \n",
       "3                              0.400                  138.955   \n",
       "4                              0.420                  137.640   \n",
       "\n",
       "   diffuse_radiation (W/m²)  rain (mm)  \n",
       "0                    70.510    2353.10  \n",
       "1                    74.580    1834.60  \n",
       "2                    74.865    1927.00  \n",
       "3                    75.470    2235.85  \n",
       "4                    73.300    2392.85  "
      ]
     },
     "execution_count": 133,
     "metadata": {},
     "output_type": "execute_result"
    }
   ],
   "source": [
    "zamboanga_sur_annual.head()"
   ]
  },
  {
   "cell_type": "code",
   "execution_count": 134,
   "metadata": {},
   "outputs": [],
   "source": [
    "zamboanga_sur_annual.to_csv('ZAMBOANGA DEL SUR.csv')"
   ]
  },
  {
   "cell_type": "markdown",
   "metadata": {},
   "source": [
    "## Zamboanga Sibugay"
   ]
  },
  {
   "cell_type": "code",
   "execution_count": 135,
   "metadata": {},
   "outputs": [],
   "source": [
    "zamboanga_sibugay_1 = pd.read_csv(r\"D:\\Thesis\\Datasets\\9 - Zamboanga Sibugay\\Buug, Zamboanga Sibugay.csv\",header = 2) "
   ]
  },
  {
   "cell_type": "code",
   "execution_count": 136,
   "metadata": {},
   "outputs": [],
   "source": [
    "zamboanga_sibugay_1 = extract_year_date(zamboanga_sibugay_1)"
   ]
  },
  {
   "cell_type": "code",
   "execution_count": 137,
   "metadata": {},
   "outputs": [],
   "source": [
    "zamboanga_sibugay_1_dir = aggregate_wind_dir(zamboanga_sibugay_1)"
   ]
  },
  {
   "cell_type": "code",
   "execution_count": 139,
   "metadata": {},
   "outputs": [],
   "source": [
    "zamboanga_sibugay_1_speed = aggregate_wind_speed(zamboanga_sibugay_1,zamboanga_sibugay_1_dir)"
   ]
  },
  {
   "cell_type": "code",
   "execution_count": 140,
   "metadata": {},
   "outputs": [],
   "source": [
    "zamboanga_sibugay_1_wind= rescaled_wind(zamboanga_sibugay_1_dir,zamboanga_sibugay_1_speed )"
   ]
  },
  {
   "cell_type": "code",
   "execution_count": 141,
   "metadata": {},
   "outputs": [],
   "source": [
    "zamboanga_sibugay_1_ave = get_mean(zamboanga_sibugay_1)"
   ]
  },
  {
   "cell_type": "code",
   "execution_count": 142,
   "metadata": {},
   "outputs": [],
   "source": [
    "zamboanga_sibugay_1_sum = get_sum(zamboanga_sibugay_1)"
   ]
  },
  {
   "cell_type": "code",
   "execution_count": 143,
   "metadata": {},
   "outputs": [],
   "source": [
    "zamboanga_sibugay_1_mode = get_mode(zamboanga_sibugay_1)"
   ]
  },
  {
   "cell_type": "code",
   "execution_count": 144,
   "metadata": {},
   "outputs": [],
   "source": [
    "zamboanga_sibugay_1_not_wind = pd.concat([zamboanga_sibugay_1_ave,zamboanga_sibugay_1_sum,zamboanga_sibugay_1_mode ],axis = 1)"
   ]
  },
  {
   "cell_type": "code",
   "execution_count": 145,
   "metadata": {},
   "outputs": [],
   "source": [
    "zamboanga_sibugay_1_final = zamboanga_sibugay_1_wind.merge(zamboanga_sibugay_1_not_wind, how='inner',on='year')"
   ]
  },
  {
   "cell_type": "code",
   "execution_count": 147,
   "metadata": {},
   "outputs": [],
   "source": [
    "zamboanga_sibugay_1_final.insert(loc = 1, column= \"Location\", value = \"ZAMBOANGA SIBUGAY\")"
   ]
  },
  {
   "cell_type": "code",
   "execution_count": 150,
   "metadata": {},
   "outputs": [],
   "source": [
    "zamboanga_sibugay_1_final.to_csv(\"ZAMBOANGA SIBUGAY.csv\")"
   ]
  },
  {
   "cell_type": "markdown",
   "metadata": {},
   "source": [
    "## Zamboanga City"
   ]
  },
  {
   "cell_type": "markdown",
   "metadata": {},
   "source": [
    "# Region 10 \n"
   ]
  },
  {
   "cell_type": "markdown",
   "metadata": {},
   "source": [
    "## Bukidnon"
   ]
  },
  {
   "cell_type": "markdown",
   "metadata": {},
   "source": [
    "#### Bayanihan Millennim MultiPurpose"
   ]
  },
  {
   "cell_type": "code",
   "execution_count": 166,
   "metadata": {},
   "outputs": [],
   "source": [
    "bukidnon_1 = pd.read_csv(r\"D:\\Thesis\\Datasets\\10 - Bukidnon\\Bayanihan Millennim MultiPurpose.csv\",header = 2) "
   ]
  },
  {
   "cell_type": "code",
   "execution_count": 167,
   "metadata": {},
   "outputs": [],
   "source": [
    "bukidnon_1 = extract_year_date(bukidnon_1)"
   ]
  },
  {
   "cell_type": "code",
   "execution_count": 173,
   "metadata": {},
   "outputs": [],
   "source": [
    "bukidnon_1_dir = aggregate_wind_dir(bukidnon_1)"
   ]
  },
  {
   "cell_type": "code",
   "execution_count": 174,
   "metadata": {},
   "outputs": [],
   "source": [
    "bukidnon_1_speed = aggregate_wind_speed(bukidnon_1,bukidnon_1_dir)"
   ]
  },
  {
   "cell_type": "code",
   "execution_count": 175,
   "metadata": {},
   "outputs": [],
   "source": [
    "bukidnon_1_wind= rescaled_wind(bukidnon_1_dir,bukidnon_1_speed)"
   ]
  },
  {
   "cell_type": "code",
   "execution_count": 177,
   "metadata": {},
   "outputs": [],
   "source": [
    "bukidnon_1_ave = get_mean(bukidnon_1)"
   ]
  },
  {
   "cell_type": "code",
   "execution_count": 178,
   "metadata": {},
   "outputs": [],
   "source": [
    "bukidnon_1_sum = get_sum(bukidnon_1)"
   ]
  },
  {
   "cell_type": "code",
   "execution_count": 179,
   "metadata": {},
   "outputs": [],
   "source": [
    "bukdinon_1_mode = get_mode(bukidnon_1)"
   ]
  },
  {
   "cell_type": "code",
   "execution_count": 180,
   "metadata": {},
   "outputs": [],
   "source": [
    "bukidnon_1_not_wind = pd.concat([bukidnon_1_ave, bukidnon_1_sum,bukdinon_1_mode],axis = 1)"
   ]
  },
  {
   "cell_type": "code",
   "execution_count": 181,
   "metadata": {},
   "outputs": [],
   "source": [
    "bukidnon_1_final = bukidnon_1_wind.merge(bukidnon_1_not_wind , how='inner',on='year')"
   ]
  },
  {
   "cell_type": "markdown",
   "metadata": {},
   "source": [
    "#### Cora Llauderes Imdalsa"
   ]
  },
  {
   "cell_type": "code",
   "execution_count": 182,
   "metadata": {},
   "outputs": [],
   "source": [
    "bukidnon_2 = pd.read_csv(r\"D:\\Thesis\\Datasets\\10 - Bukidnon\\Cora Llauderes Imdalsa.csv\",header = 2) "
   ]
  },
  {
   "cell_type": "code",
   "execution_count": 183,
   "metadata": {},
   "outputs": [],
   "source": [
    "bukidnon_2 = extract_year_date(bukidnon_2)"
   ]
  },
  {
   "cell_type": "code",
   "execution_count": 184,
   "metadata": {},
   "outputs": [],
   "source": [
    "bukidnon_2_dir = aggregate_wind_dir(bukidnon_2)"
   ]
  },
  {
   "cell_type": "code",
   "execution_count": 191,
   "metadata": {},
   "outputs": [],
   "source": [
    "bukidnon_2_speed = aggregate_wind_speed(bukidnon_2,bukidnon_2_dir)"
   ]
  },
  {
   "cell_type": "code",
   "execution_count": 192,
   "metadata": {},
   "outputs": [],
   "source": [
    "bukidnon_2_wind= rescaled_wind(bukidnon_2_dir,bukidnon_2_speed)"
   ]
  },
  {
   "cell_type": "code",
   "execution_count": 195,
   "metadata": {},
   "outputs": [],
   "source": [
    "bukidnon_2_ave = get_mean(bukidnon_2)"
   ]
  },
  {
   "cell_type": "code",
   "execution_count": 194,
   "metadata": {},
   "outputs": [],
   "source": [
    "bukidnon_2_sum = get_sum(bukidnon_2)"
   ]
  },
  {
   "cell_type": "code",
   "execution_count": 196,
   "metadata": {},
   "outputs": [],
   "source": [
    "bukidnon_2_mode = get_mode(bukidnon_2)"
   ]
  },
  {
   "cell_type": "code",
   "execution_count": 197,
   "metadata": {},
   "outputs": [],
   "source": [
    "bukidnon_2_not_wind = pd.concat([bukidnon_2_ave, bukidnon_2_sum,bukidnon_2_mode],axis = 1)"
   ]
  },
  {
   "cell_type": "code",
   "execution_count": 198,
   "metadata": {},
   "outputs": [],
   "source": [
    "bukidnon_2_final = bukidnon_2_wind.merge(bukidnon_2_not_wind , how='inner',on='year')"
   ]
  },
  {
   "cell_type": "markdown",
   "metadata": {},
   "source": [
    "#### Kape Maramag"
   ]
  },
  {
   "cell_type": "code",
   "execution_count": 199,
   "metadata": {},
   "outputs": [],
   "source": [
    "bukidnon_3 = pd.read_csv(r\"D:\\Thesis\\Datasets\\10 - Bukidnon\\Kape Maramag.csv\",header = 2) "
   ]
  },
  {
   "cell_type": "code",
   "execution_count": 201,
   "metadata": {},
   "outputs": [],
   "source": [
    "bukidnon_3= extract_year_date(bukidnon_3)"
   ]
  },
  {
   "cell_type": "code",
   "execution_count": 202,
   "metadata": {},
   "outputs": [],
   "source": [
    "bukidnon_3_dir = aggregate_wind_dir(bukidnon_3)"
   ]
  },
  {
   "cell_type": "code",
   "execution_count": 203,
   "metadata": {},
   "outputs": [],
   "source": [
    "bukidnon_3_speed = aggregate_wind_speed(bukidnon_3,bukidnon_3_dir)"
   ]
  },
  {
   "cell_type": "code",
   "execution_count": 204,
   "metadata": {},
   "outputs": [],
   "source": [
    "bukidnon_3_wind= rescaled_wind(bukidnon_3_dir,bukidnon_3_speed)"
   ]
  },
  {
   "cell_type": "code",
   "execution_count": 205,
   "metadata": {},
   "outputs": [],
   "source": [
    "bukidnon_3_ave = get_mean(bukidnon_3)"
   ]
  },
  {
   "cell_type": "code",
   "execution_count": 206,
   "metadata": {},
   "outputs": [],
   "source": [
    "bukidnon_3_sum = get_sum(bukidnon_3)"
   ]
  },
  {
   "cell_type": "code",
   "execution_count": 207,
   "metadata": {},
   "outputs": [],
   "source": [
    "bukidnon_3_mode = get_mode(bukidnon_3)"
   ]
  },
  {
   "cell_type": "code",
   "execution_count": 208,
   "metadata": {},
   "outputs": [],
   "source": [
    "bukidnon_3_not_wind = pd.concat([bukidnon_3_ave, bukidnon_3_sum,bukidnon_3_mode],axis = 1)"
   ]
  },
  {
   "cell_type": "code",
   "execution_count": 209,
   "metadata": {},
   "outputs": [],
   "source": [
    "bukidnon_3_final = bukidnon_3_wind.merge(bukidnon_3_not_wind , how='inner',on='year')"
   ]
  },
  {
   "cell_type": "markdown",
   "metadata": {},
   "source": [
    "#### Imeldas Farm"
   ]
  },
  {
   "cell_type": "code",
   "execution_count": 220,
   "metadata": {},
   "outputs": [],
   "source": [
    "bukidnon_4 = pd.read_csv(r\"D:\\Thesis\\Datasets\\10 - Bukidnon\\Imeldas Farm.csv\",header = 2) "
   ]
  },
  {
   "cell_type": "code",
   "execution_count": 221,
   "metadata": {},
   "outputs": [],
   "source": [
    "bukidnon_4= extract_year_date(bukidnon_4)"
   ]
  },
  {
   "cell_type": "code",
   "execution_count": 222,
   "metadata": {},
   "outputs": [],
   "source": [
    "bukidnon_4_dir = aggregate_wind_dir(bukidnon_4)"
   ]
  },
  {
   "cell_type": "code",
   "execution_count": 223,
   "metadata": {},
   "outputs": [],
   "source": [
    "bukidnon_4_speed = aggregate_wind_speed(bukidnon_4,bukidnon_4_dir)"
   ]
  },
  {
   "cell_type": "code",
   "execution_count": 224,
   "metadata": {},
   "outputs": [],
   "source": [
    "bukidnon_4_wind= rescaled_wind(bukidnon_4_dir,bukidnon_4_speed)"
   ]
  },
  {
   "cell_type": "code",
   "execution_count": 225,
   "metadata": {},
   "outputs": [],
   "source": [
    "bukidnon_4_ave = get_mean(bukidnon_4)"
   ]
  },
  {
   "cell_type": "code",
   "execution_count": 226,
   "metadata": {},
   "outputs": [],
   "source": [
    "bukidnon_4_sum = get_sum(bukidnon_4)"
   ]
  },
  {
   "cell_type": "code",
   "execution_count": 227,
   "metadata": {},
   "outputs": [],
   "source": [
    "bukidnon_4_mode = get_mode(bukidnon_4)"
   ]
  },
  {
   "cell_type": "code",
   "execution_count": 228,
   "metadata": {},
   "outputs": [],
   "source": [
    "bukidnon_4_not_wind = pd.concat([bukidnon_4_ave, bukidnon_4_sum,bukidnon_4_mode],axis = 1)"
   ]
  },
  {
   "cell_type": "code",
   "execution_count": 229,
   "metadata": {},
   "outputs": [],
   "source": [
    "bukidnon_4_final = bukidnon_4_wind.merge(bukidnon_4_not_wind , how='inner',on='year')"
   ]
  },
  {
   "cell_type": "markdown",
   "metadata": {},
   "source": [
    "#### Kumaykay Riverfarm "
   ]
  },
  {
   "cell_type": "code",
   "execution_count": 230,
   "metadata": {},
   "outputs": [],
   "source": [
    "bukidnon_5 = pd.read_csv(r\"D:\\Thesis\\Datasets\\10 - Bukidnon\\Kumaykay Riverfarm.csv\",header = 2) "
   ]
  },
  {
   "cell_type": "code",
   "execution_count": 233,
   "metadata": {},
   "outputs": [],
   "source": [
    "bukidnon_5= extract_year_date(bukidnon_5)"
   ]
  },
  {
   "cell_type": "code",
   "execution_count": 234,
   "metadata": {},
   "outputs": [],
   "source": [
    "bukidnon_5_dir = aggregate_wind_dir(bukidnon_5)"
   ]
  },
  {
   "cell_type": "code",
   "execution_count": 235,
   "metadata": {},
   "outputs": [],
   "source": [
    "bukidnon_5_speed = aggregate_wind_speed(bukidnon_5,bukidnon_5_dir)"
   ]
  },
  {
   "cell_type": "code",
   "execution_count": 236,
   "metadata": {},
   "outputs": [],
   "source": [
    "bukidnon_5_wind= rescaled_wind(bukidnon_5_dir,bukidnon_5_speed)"
   ]
  },
  {
   "cell_type": "code",
   "execution_count": 237,
   "metadata": {},
   "outputs": [],
   "source": [
    "bukidnon_5_ave= get_mean(bukidnon_5)"
   ]
  },
  {
   "cell_type": "code",
   "execution_count": 238,
   "metadata": {},
   "outputs": [],
   "source": [
    "bukidnon_5_sum = get_sum(bukidnon_5)"
   ]
  },
  {
   "cell_type": "code",
   "execution_count": 239,
   "metadata": {},
   "outputs": [],
   "source": [
    "bukidnon_5_mode = get_mode(bukidnon_5)"
   ]
  },
  {
   "cell_type": "code",
   "execution_count": 240,
   "metadata": {},
   "outputs": [],
   "source": [
    "bukidnon_5_not_wind = pd.concat([bukidnon_5_ave, bukidnon_5_sum,bukidnon_5_mode],axis = 1)"
   ]
  },
  {
   "cell_type": "code",
   "execution_count": 241,
   "metadata": {},
   "outputs": [],
   "source": [
    "bukidnon_5_final = bukidnon_5_wind.merge(bukidnon_5_not_wind , how='inner',on='year')"
   ]
  },
  {
   "cell_type": "markdown",
   "metadata": {},
   "source": [
    "#### Zambranos Integrated Farm"
   ]
  },
  {
   "cell_type": "code",
   "execution_count": 242,
   "metadata": {},
   "outputs": [],
   "source": [
    "bukidnon_6 = pd.read_csv(r\"D:\\Thesis\\Datasets\\10 - Bukidnon\\Zambranos Integrated Farm.csv\",header = 2) "
   ]
  },
  {
   "cell_type": "code",
   "execution_count": 243,
   "metadata": {},
   "outputs": [],
   "source": [
    "bukidnon_6= extract_year_date(bukidnon_6)"
   ]
  },
  {
   "cell_type": "code",
   "execution_count": 244,
   "metadata": {},
   "outputs": [],
   "source": [
    "bukidnon_6_dir = aggregate_wind_dir(bukidnon_6)"
   ]
  },
  {
   "cell_type": "code",
   "execution_count": 245,
   "metadata": {},
   "outputs": [],
   "source": [
    "bukidnon_6_speed = aggregate_wind_speed(bukidnon_6,bukidnon_6_dir)"
   ]
  },
  {
   "cell_type": "code",
   "execution_count": 246,
   "metadata": {},
   "outputs": [],
   "source": [
    "bukidnon_6_wind= rescaled_wind(bukidnon_6_dir,bukidnon_6_speed)"
   ]
  },
  {
   "cell_type": "code",
   "execution_count": 247,
   "metadata": {},
   "outputs": [],
   "source": [
    "bukidnon_6_ave = get_mean(bukidnon_6)"
   ]
  },
  {
   "cell_type": "code",
   "execution_count": 248,
   "metadata": {},
   "outputs": [],
   "source": [
    "bukidnon_6_sum = get_sum(bukidnon_6)"
   ]
  },
  {
   "cell_type": "code",
   "execution_count": 249,
   "metadata": {},
   "outputs": [],
   "source": [
    "bukidnon_6_mode = get_mode(bukidnon_6)"
   ]
  },
  {
   "cell_type": "code",
   "execution_count": 250,
   "metadata": {},
   "outputs": [],
   "source": [
    "bukidnon_6_not_wind = pd.concat([bukidnon_6_ave, bukidnon_6_sum,bukidnon_6_mode],axis = 1)"
   ]
  },
  {
   "cell_type": "code",
   "execution_count": 251,
   "metadata": {},
   "outputs": [],
   "source": [
    "bukidnon_6_final = bukidnon_6_wind.merge(bukidnon_6_not_wind , how='inner',on='year')"
   ]
  },
  {
   "cell_type": "markdown",
   "metadata": {},
   "source": [
    "#### For Bukidnon"
   ]
  },
  {
   "cell_type": "code",
   "execution_count": 252,
   "metadata": {},
   "outputs": [],
   "source": [
    "bukidnon = pd.concat([bukidnon_1_final, bukidnon_2_final, bukidnon_3_final, bukidnon_4_final, \n",
    "                      bukidnon_5_final, bukidnon_6_final],axis = 0)"
   ]
  },
  {
   "cell_type": "code",
   "execution_count": 253,
   "metadata": {},
   "outputs": [],
   "source": [
    "regional_mode = region_mode(bukidnon)"
   ]
  },
  {
   "cell_type": "code",
   "execution_count": 254,
   "metadata": {},
   "outputs": [],
   "source": [
    "regional_mode = aggregate_region_windSpeed(bukidnon,regional_mode)"
   ]
  },
  {
   "cell_type": "code",
   "execution_count": 255,
   "metadata": {},
   "outputs": [],
   "source": [
    "regional_mean = region_mean(bukidnon)"
   ]
  },
  {
   "cell_type": "code",
   "execution_count": 256,
   "metadata": {},
   "outputs": [],
   "source": [
    "bukidnon_annual = regional_mode.merge(regional_mean , how='inner',on='year')"
   ]
  },
  {
   "cell_type": "code",
   "execution_count": 257,
   "metadata": {},
   "outputs": [],
   "source": [
    "bukidnon_annual.insert(loc = 1, column= \"Location\", value = 'BUKIDNON')"
   ]
  },
  {
   "cell_type": "code",
   "execution_count": 258,
   "metadata": {},
   "outputs": [],
   "source": [
    "bukidnon_annual.to_csv('BUKIDNON.csv')"
   ]
  },
  {
   "cell_type": "markdown",
   "metadata": {},
   "source": [
    "## Camiguin"
   ]
  },
  {
   "cell_type": "code",
   "execution_count": 266,
   "metadata": {},
   "outputs": [],
   "source": [
    "camiguin_1= pd.read_csv(r\"D:\\Thesis\\Datasets\\10 - Camiguin\\Alga,Catarman,Camiguin.csv\",header = 2) "
   ]
  },
  {
   "cell_type": "code",
   "execution_count": 268,
   "metadata": {},
   "outputs": [],
   "source": [
    "camiguin_1= extract_year_date(camiguin_1)"
   ]
  },
  {
   "cell_type": "code",
   "execution_count": 270,
   "metadata": {},
   "outputs": [],
   "source": [
    "camiguin_1_dir = aggregate_wind_dir(camiguin_1)"
   ]
  },
  {
   "cell_type": "code",
   "execution_count": 271,
   "metadata": {},
   "outputs": [],
   "source": [
    "camiguin_1_speed = aggregate_wind_speed(camiguin_1,camiguin_1_dir)"
   ]
  },
  {
   "cell_type": "code",
   "execution_count": 272,
   "metadata": {},
   "outputs": [],
   "source": [
    "camiguin_1_wind= rescaled_wind(camiguin_1_dir,camiguin_1_speed)"
   ]
  },
  {
   "cell_type": "code",
   "execution_count": 273,
   "metadata": {},
   "outputs": [],
   "source": [
    "camiguin_1_ave = get_mean(camiguin_1)"
   ]
  },
  {
   "cell_type": "code",
   "execution_count": 274,
   "metadata": {},
   "outputs": [],
   "source": [
    "camiguin_1_sum = get_sum(camiguin_1)"
   ]
  },
  {
   "cell_type": "code",
   "execution_count": 275,
   "metadata": {},
   "outputs": [],
   "source": [
    "camiguin_1_mode = get_mode(camiguin_1)"
   ]
  },
  {
   "cell_type": "code",
   "execution_count": 276,
   "metadata": {},
   "outputs": [],
   "source": [
    "camiguin_1_not_wind = pd.concat([camiguin_1_ave, camiguin_1_sum,camiguin_1_mode],axis = 1)"
   ]
  },
  {
   "cell_type": "code",
   "execution_count": 277,
   "metadata": {},
   "outputs": [],
   "source": [
    "camiguin_1_final = camiguin_1_wind.merge(camiguin_1_not_wind , how='inner',on='year')"
   ]
  },
  {
   "cell_type": "code",
   "execution_count": 278,
   "metadata": {},
   "outputs": [],
   "source": [
    "camiguin_1_final.insert(loc = 1, column= \"Location\", value = \"CAMIGUIN\")"
   ]
  },
  {
   "cell_type": "code",
   "execution_count": 279,
   "metadata": {},
   "outputs": [],
   "source": [
    "camiguin_1_final.to_csv(\"CAMIGUIN.csv\")"
   ]
  },
  {
   "cell_type": "markdown",
   "metadata": {},
   "source": [
    "## Lanao del Norte"
   ]
  },
  {
   "cell_type": "markdown",
   "metadata": {},
   "source": [
    "#### Sikyop Agriculture Cooperative (SAC)"
   ]
  },
  {
   "cell_type": "code",
   "execution_count": 386,
   "metadata": {},
   "outputs": [],
   "source": [
    "lanao_norte_1= pd.read_csv(r\"D:\\Thesis\\Datasets\\10 - Lanao del Norte\\Sikyop Agriculture Cooperative (SAC).csv\",header = 2) "
   ]
  },
  {
   "cell_type": "code",
   "execution_count": 387,
   "metadata": {},
   "outputs": [],
   "source": [
    "lanao_norte_1= extract_year_date(lanao_norte_1)"
   ]
  },
  {
   "cell_type": "code",
   "execution_count": 388,
   "metadata": {},
   "outputs": [],
   "source": [
    "lanao_norte_1_dir = aggregate_wind_dir(lanao_norte_1)"
   ]
  },
  {
   "cell_type": "code",
   "execution_count": 389,
   "metadata": {},
   "outputs": [],
   "source": [
    "lanao_norte_1_speed = aggregate_wind_speed(lanao_norte_1,lanao_norte_1_dir)"
   ]
  },
  {
   "cell_type": "code",
   "execution_count": 390,
   "metadata": {},
   "outputs": [],
   "source": [
    "lanao_norte_1_wind= rescaled_wind(lanao_norte_1_dir,lanao_norte_1_speed)"
   ]
  },
  {
   "cell_type": "code",
   "execution_count": 391,
   "metadata": {},
   "outputs": [],
   "source": [
    "lanao_norte_1_ave = get_mean(lanao_norte_1)"
   ]
  },
  {
   "cell_type": "code",
   "execution_count": 392,
   "metadata": {},
   "outputs": [],
   "source": [
    "lanao_norte_1_sum = get_sum(lanao_norte_1)"
   ]
  },
  {
   "cell_type": "code",
   "execution_count": 393,
   "metadata": {},
   "outputs": [],
   "source": [
    "lanao_norte_1_mode = get_mode(lanao_norte_1)"
   ]
  },
  {
   "cell_type": "code",
   "execution_count": 394,
   "metadata": {},
   "outputs": [],
   "source": [
    "lanao_norte_1_not_wind = pd.concat([lanao_norte_1_ave,lanao_norte_1_sum,lanao_norte_1_mode],axis = 1)"
   ]
  },
  {
   "cell_type": "code",
   "execution_count": 395,
   "metadata": {},
   "outputs": [],
   "source": [
    "lanao_norte_1_final = lanao_norte_1_wind.merge(lanao_norte_1_not_wind , how='inner',on='year')"
   ]
  },
  {
   "cell_type": "code",
   "execution_count": 396,
   "metadata": {},
   "outputs": [],
   "source": [
    "lanao_norte_1_final.insert(loc = 1, column= \"Location\", value = \"LANAO DEL NORTE\")"
   ]
  },
  {
   "cell_type": "code",
   "execution_count": 397,
   "metadata": {},
   "outputs": [],
   "source": [
    "lanao_norte_1_final.to_csv(\"LANAO DEL NORTE.csv\")"
   ]
  },
  {
   "cell_type": "markdown",
   "metadata": {},
   "source": [
    "## Misamis Occidental"
   ]
  },
  {
   "cell_type": "code",
   "execution_count": 92,
   "metadata": {},
   "outputs": [],
   "source": [
    "mis_oc_1= pd.read_csv(r\"D:\\Thesis\\Datasets\\10 - Misamis Occidental\\vimas_agriventure.csv\",header = 2) "
   ]
  },
  {
   "cell_type": "code",
   "execution_count": 93,
   "metadata": {},
   "outputs": [],
   "source": [
    "mis_oc_1= extract_year_date(mis_oc_1)"
   ]
  },
  {
   "cell_type": "code",
   "execution_count": 94,
   "metadata": {},
   "outputs": [],
   "source": [
    "mis_oc_1_dir = aggregate_wind_dir(mis_oc_1)"
   ]
  },
  {
   "cell_type": "code",
   "execution_count": 96,
   "metadata": {},
   "outputs": [],
   "source": [
    "mis_oc_1_speed = aggregate_wind_speed(mis_oc_1,mis_oc_1_dir )"
   ]
  },
  {
   "cell_type": "code",
   "execution_count": 97,
   "metadata": {},
   "outputs": [],
   "source": [
    "mis_oc_1_wind= rescaled_wind(mis_oc_1_dir,mis_oc_1_speed)"
   ]
  },
  {
   "cell_type": "code",
   "execution_count": 98,
   "metadata": {},
   "outputs": [],
   "source": [
    "mis_oc_1_ave = get_mean(mis_oc_1)"
   ]
  },
  {
   "cell_type": "code",
   "execution_count": 99,
   "metadata": {},
   "outputs": [],
   "source": [
    "mis_oc_1_sum = get_sum(mis_oc_1)"
   ]
  },
  {
   "cell_type": "code",
   "execution_count": 100,
   "metadata": {},
   "outputs": [],
   "source": [
    "mis_oc_1_mode = get_mode(mis_oc_1)"
   ]
  },
  {
   "cell_type": "code",
   "execution_count": 101,
   "metadata": {},
   "outputs": [],
   "source": [
    "mis_oc_1_not_wind = pd.concat([mis_oc_1_ave, mis_oc_1_sum,mis_oc_1_mode],axis = 1)"
   ]
  },
  {
   "cell_type": "code",
   "execution_count": 102,
   "metadata": {},
   "outputs": [],
   "source": [
    "mis_oc_1_final = mis_oc_1_wind.merge(mis_oc_1_not_wind , how='inner',on='year')"
   ]
  },
  {
   "cell_type": "code",
   "execution_count": 103,
   "metadata": {},
   "outputs": [],
   "source": [
    "mis_oc_1_final.insert(loc = 1, column= \"Location\", value = \"MISAMIS OCCIDENTAL\")"
   ]
  },
  {
   "cell_type": "code",
   "execution_count": 104,
   "metadata": {},
   "outputs": [],
   "source": [
    "mis_oc_1_final.to_csv(\"MISAMIS OCCIDENTAL.csv\")"
   ]
  },
  {
   "cell_type": "markdown",
   "metadata": {},
   "source": [
    "## Misamis Oriental"
   ]
  },
  {
   "cell_type": "markdown",
   "metadata": {},
   "source": [
    "#### Kape Mindanaw"
   ]
  },
  {
   "cell_type": "code",
   "execution_count": 295,
   "metadata": {},
   "outputs": [],
   "source": [
    "mis_or_1= pd.read_csv(r\"D:\\Thesis\\Datasets\\10 - Misamis Oriental\\KPMFIKAPE MINDANAW.csv\",header = 2) "
   ]
  },
  {
   "cell_type": "code",
   "execution_count": 296,
   "metadata": {},
   "outputs": [],
   "source": [
    "mis_or_1= extract_year_date(mis_or_1)"
   ]
  },
  {
   "cell_type": "code",
   "execution_count": 297,
   "metadata": {},
   "outputs": [],
   "source": [
    "mis_or_1_dir = aggregate_wind_dir(mis_or_1)"
   ]
  },
  {
   "cell_type": "code",
   "execution_count": 298,
   "metadata": {},
   "outputs": [],
   "source": [
    "mis_or_1_speed = aggregate_wind_speed(mis_or_1,mis_or_1_dir)"
   ]
  },
  {
   "cell_type": "code",
   "execution_count": 299,
   "metadata": {},
   "outputs": [],
   "source": [
    "mis_or_1_wind= rescaled_wind(mis_or_1_dir,mis_or_1_speed)"
   ]
  },
  {
   "cell_type": "code",
   "execution_count": 300,
   "metadata": {},
   "outputs": [],
   "source": [
    "mis_or_1_ave = get_mean(mis_or_1)"
   ]
  },
  {
   "cell_type": "code",
   "execution_count": 301,
   "metadata": {},
   "outputs": [],
   "source": [
    "mis_or_1_sum = get_sum(mis_or_1)"
   ]
  },
  {
   "cell_type": "code",
   "execution_count": 302,
   "metadata": {},
   "outputs": [],
   "source": [
    "mis_or_1_mode = get_mode(mis_or_1)"
   ]
  },
  {
   "cell_type": "code",
   "execution_count": 303,
   "metadata": {},
   "outputs": [],
   "source": [
    "mis_or_1_not_wind = pd.concat([mis_or_1_ave, mis_or_1_sum,mis_or_1_mode],axis = 1)"
   ]
  },
  {
   "cell_type": "code",
   "execution_count": 304,
   "metadata": {},
   "outputs": [],
   "source": [
    "mis_or_1_final = mis_or_1_wind.merge(mis_or_1_not_wind , how='inner',on='year')"
   ]
  },
  {
   "cell_type": "markdown",
   "metadata": {},
   "source": [
    "#### Kape Claveria Beverage Manufacturing"
   ]
  },
  {
   "cell_type": "code",
   "execution_count": 305,
   "metadata": {},
   "outputs": [],
   "source": [
    "mis_or_2= pd.read_csv(r\"D:\\Thesis\\Datasets\\10 - Misamis Oriental\\Kape Claveria Beverage Manufacturing.csv\",header = 2) "
   ]
  },
  {
   "cell_type": "code",
   "execution_count": 306,
   "metadata": {},
   "outputs": [],
   "source": [
    "mis_or_2= extract_year_date(mis_or_2)"
   ]
  },
  {
   "cell_type": "code",
   "execution_count": 307,
   "metadata": {},
   "outputs": [],
   "source": [
    "mis_or_2_dir = aggregate_wind_dir(mis_or_2)"
   ]
  },
  {
   "cell_type": "code",
   "execution_count": 308,
   "metadata": {},
   "outputs": [],
   "source": [
    "mis_or_2_speed = aggregate_wind_speed(mis_or_2,mis_or_2_dir)"
   ]
  },
  {
   "cell_type": "code",
   "execution_count": 309,
   "metadata": {},
   "outputs": [],
   "source": [
    "mis_or_2_wind= rescaled_wind(mis_or_2_dir,mis_or_2_speed)"
   ]
  },
  {
   "cell_type": "code",
   "execution_count": 310,
   "metadata": {},
   "outputs": [],
   "source": [
    "mis_or_2_ave = get_mean(mis_or_2)"
   ]
  },
  {
   "cell_type": "code",
   "execution_count": 311,
   "metadata": {},
   "outputs": [],
   "source": [
    "mis_or_2_sum = get_sum(mis_or_2)"
   ]
  },
  {
   "cell_type": "code",
   "execution_count": 312,
   "metadata": {},
   "outputs": [],
   "source": [
    "mis_or_2_mode = get_mode(mis_or_2)"
   ]
  },
  {
   "cell_type": "code",
   "execution_count": 313,
   "metadata": {},
   "outputs": [],
   "source": [
    "mis_or_2_not_wind = pd.concat([mis_or_2_ave,mis_or_2_sum,mis_or_2_mode],axis = 1)"
   ]
  },
  {
   "cell_type": "code",
   "execution_count": 314,
   "metadata": {},
   "outputs": [],
   "source": [
    "mis_or_2_final = mis_or_2_wind.merge(mis_or_2_not_wind , how='inner',on='year')"
   ]
  },
  {
   "cell_type": "markdown",
   "metadata": {},
   "source": [
    "#### For Misamis Oriental"
   ]
  },
  {
   "cell_type": "code",
   "execution_count": 315,
   "metadata": {},
   "outputs": [],
   "source": [
    "mis_or = pd.concat([mis_or_1_final,mis_or_2_final],axis = 0)"
   ]
  },
  {
   "cell_type": "code",
   "execution_count": 316,
   "metadata": {},
   "outputs": [],
   "source": [
    "regional_mode = region_mode(mis_or)"
   ]
  },
  {
   "cell_type": "code",
   "execution_count": 317,
   "metadata": {},
   "outputs": [],
   "source": [
    "regional_mode = aggregate_region_windSpeed(mis_or,regional_mode)"
   ]
  },
  {
   "cell_type": "code",
   "execution_count": 318,
   "metadata": {},
   "outputs": [],
   "source": [
    "regional_mean = region_mean(mis_or)"
   ]
  },
  {
   "cell_type": "code",
   "execution_count": 319,
   "metadata": {},
   "outputs": [],
   "source": [
    "mis_or_annual = regional_mode.merge(regional_mean , how='inner',on='year')"
   ]
  },
  {
   "cell_type": "code",
   "execution_count": 320,
   "metadata": {},
   "outputs": [],
   "source": [
    "mis_or_annual.insert(loc = 1, column= \"Location\", value = 'MISAMIS ORIENTAL')"
   ]
  },
  {
   "cell_type": "code",
   "execution_count": 321,
   "metadata": {},
   "outputs": [],
   "source": [
    "mis_or_annual.to_csv('MISAMIS ORIENTAL.csv')"
   ]
  },
  {
   "cell_type": "markdown",
   "metadata": {},
   "source": [
    "# Region 11"
   ]
  },
  {
   "cell_type": "markdown",
   "metadata": {},
   "source": [
    "## Davao del Sur"
   ]
  },
  {
   "cell_type": "markdown",
   "metadata": {},
   "source": [
    "#### Sergio-Loon Coffee Farm"
   ]
  },
  {
   "cell_type": "code",
   "execution_count": 323,
   "metadata": {},
   "outputs": [],
   "source": [
    "dvo_sur_1 = pd.read_csv(r\"D:\\Thesis\\Datasets\\11 - Davao del Sur\\Sergio-Loon Coffee Farm.csv\",header = 2) "
   ]
  },
  {
   "cell_type": "code",
   "execution_count": 324,
   "metadata": {},
   "outputs": [],
   "source": [
    "dvo_sur_1 = extract_year_date(dvo_sur_1)"
   ]
  },
  {
   "cell_type": "code",
   "execution_count": 325,
   "metadata": {},
   "outputs": [],
   "source": [
    "dvo_sur_1_dir = aggregate_wind_dir(dvo_sur_1)"
   ]
  },
  {
   "cell_type": "code",
   "execution_count": 326,
   "metadata": {},
   "outputs": [],
   "source": [
    "dvo_sur_1_speed = aggregate_wind_speed(dvo_sur_1,dvo_sur_1_dir)"
   ]
  },
  {
   "cell_type": "code",
   "execution_count": 327,
   "metadata": {},
   "outputs": [],
   "source": [
    "dvo_sur_1_wind= rescaled_wind(dvo_sur_1_dir,dvo_sur_1_speed)"
   ]
  },
  {
   "cell_type": "code",
   "execution_count": 328,
   "metadata": {},
   "outputs": [],
   "source": [
    "dvo_sur_1_ave = get_mean(dvo_sur_1)"
   ]
  },
  {
   "cell_type": "code",
   "execution_count": 329,
   "metadata": {},
   "outputs": [],
   "source": [
    "dvo_sur_1_sum = get_sum(dvo_sur_1)"
   ]
  },
  {
   "cell_type": "code",
   "execution_count": 330,
   "metadata": {},
   "outputs": [],
   "source": [
    "dvo_sur_1_mode= get_mode(dvo_sur_1)"
   ]
  },
  {
   "cell_type": "code",
   "execution_count": 331,
   "metadata": {},
   "outputs": [],
   "source": [
    "dvo_sur_1_not_wind = pd.concat([dvo_sur_1_ave, dvo_sur_1_sum,dvo_sur_1_mode],axis = 1)"
   ]
  },
  {
   "cell_type": "code",
   "execution_count": 332,
   "metadata": {},
   "outputs": [],
   "source": [
    "dvo_sur_1_final = dvo_sur_1_wind.merge(dvo_sur_1_not_wind , how='inner',on='year')"
   ]
  },
  {
   "cell_type": "markdown",
   "metadata": {},
   "source": [
    "#### Lendilou Loon Farm"
   ]
  },
  {
   "cell_type": "code",
   "execution_count": 333,
   "metadata": {},
   "outputs": [],
   "source": [
    "dvo_sur_2 = pd.read_csv(r\"D:\\Thesis\\Datasets\\11 - Davao del Sur\\Lendilou Loon Farm.csv\",header = 2) "
   ]
  },
  {
   "cell_type": "code",
   "execution_count": 336,
   "metadata": {},
   "outputs": [],
   "source": [
    "dvo_sur_2= extract_year_date(dvo_sur_2)"
   ]
  },
  {
   "cell_type": "code",
   "execution_count": 337,
   "metadata": {},
   "outputs": [],
   "source": [
    "dvo_sur_2_dir = aggregate_wind_dir(dvo_sur_2)"
   ]
  },
  {
   "cell_type": "code",
   "execution_count": 338,
   "metadata": {},
   "outputs": [],
   "source": [
    "dvo_sur_2_speed = aggregate_wind_speed(dvo_sur_2,dvo_sur_2_dir)"
   ]
  },
  {
   "cell_type": "code",
   "execution_count": 339,
   "metadata": {},
   "outputs": [],
   "source": [
    "dvo_sur_2_wind= rescaled_wind(dvo_sur_2_dir,dvo_sur_2_speed)"
   ]
  },
  {
   "cell_type": "code",
   "execution_count": 340,
   "metadata": {},
   "outputs": [],
   "source": [
    "dvo_sur_2_ave = get_mean(dvo_sur_2)"
   ]
  },
  {
   "cell_type": "code",
   "execution_count": 341,
   "metadata": {},
   "outputs": [],
   "source": [
    "dvo_sur_2_sum = get_sum(dvo_sur_2)"
   ]
  },
  {
   "cell_type": "code",
   "execution_count": 342,
   "metadata": {},
   "outputs": [],
   "source": [
    "dvo_sur_2_mode = get_mode(dvo_sur_2)"
   ]
  },
  {
   "cell_type": "code",
   "execution_count": 343,
   "metadata": {},
   "outputs": [],
   "source": [
    "dvo_sur_2_not_wind = pd.concat([dvo_sur_2_ave, dvo_sur_2_sum,dvo_sur_2_mode],axis = 1)"
   ]
  },
  {
   "cell_type": "code",
   "execution_count": 344,
   "metadata": {},
   "outputs": [],
   "source": [
    "dvo_sur_2_final = dvo_sur_2_wind.merge(dvo_sur_2_not_wind , how='inner',on='year')"
   ]
  },
  {
   "cell_type": "markdown",
   "metadata": {},
   "source": [
    "#### Payot Farm"
   ]
  },
  {
   "cell_type": "code",
   "execution_count": 345,
   "metadata": {},
   "outputs": [],
   "source": [
    "dvo_sur_3 = pd.read_csv(r\"D:\\Thesis\\Datasets\\11 - Davao del Sur\\Payot Farm.csv\",header = 2) "
   ]
  },
  {
   "cell_type": "code",
   "execution_count": 347,
   "metadata": {},
   "outputs": [],
   "source": [
    "dvo_sur_3= extract_year_date(dvo_sur_3)"
   ]
  },
  {
   "cell_type": "code",
   "execution_count": 348,
   "metadata": {},
   "outputs": [],
   "source": [
    "dvo_sur_3_dir = aggregate_wind_dir(dvo_sur_3)"
   ]
  },
  {
   "cell_type": "code",
   "execution_count": 349,
   "metadata": {},
   "outputs": [],
   "source": [
    "dvo_sur_3_speed = aggregate_wind_speed(dvo_sur_3,dvo_sur_3_dir)"
   ]
  },
  {
   "cell_type": "code",
   "execution_count": 350,
   "metadata": {},
   "outputs": [],
   "source": [
    "dvo_sur_3_wind= rescaled_wind(dvo_sur_3_dir,dvo_sur_3_speed)"
   ]
  },
  {
   "cell_type": "code",
   "execution_count": 351,
   "metadata": {},
   "outputs": [],
   "source": [
    "dvo_sur_3_ave = get_mean(dvo_sur_3)"
   ]
  },
  {
   "cell_type": "code",
   "execution_count": 352,
   "metadata": {},
   "outputs": [],
   "source": [
    "dvo_sur_3_sum = get_sum(dvo_sur_3)"
   ]
  },
  {
   "cell_type": "code",
   "execution_count": 353,
   "metadata": {},
   "outputs": [],
   "source": [
    "dvo_sur_3_mode = get_mode(dvo_sur_3)"
   ]
  },
  {
   "cell_type": "code",
   "execution_count": 354,
   "metadata": {},
   "outputs": [],
   "source": [
    "dvo_sur_3_not_wind = pd.concat([dvo_sur_3_ave, dvo_sur_3_sum,dvo_sur_3_mode],axis = 1)"
   ]
  },
  {
   "cell_type": "code",
   "execution_count": 355,
   "metadata": {},
   "outputs": [],
   "source": [
    "dvo_sur_3_final = dvo_sur_3_wind.merge(dvo_sur_3_not_wind , how='inner',on='year')"
   ]
  },
  {
   "cell_type": "markdown",
   "metadata": {},
   "source": [
    "#### Kim's Coffeee Farm"
   ]
  },
  {
   "cell_type": "code",
   "execution_count": 356,
   "metadata": {},
   "outputs": [],
   "source": [
    "dvo_sur_4 = pd.read_csv(r\"D:\\Thesis\\Datasets\\11 - Davao del Sur\\Kim's Coffee Farm.csv\",header = 2) "
   ]
  },
  {
   "cell_type": "code",
   "execution_count": 357,
   "metadata": {},
   "outputs": [],
   "source": [
    "dvo_sur_4 = extract_year_date(dvo_sur_4)"
   ]
  },
  {
   "cell_type": "code",
   "execution_count": 358,
   "metadata": {},
   "outputs": [],
   "source": [
    "dvo_sur_4_dir = aggregate_wind_dir(dvo_sur_4)"
   ]
  },
  {
   "cell_type": "code",
   "execution_count": 359,
   "metadata": {},
   "outputs": [],
   "source": [
    "dvo_sur_4_speed = aggregate_wind_speed(dvo_sur_4,dvo_sur_4_dir)"
   ]
  },
  {
   "cell_type": "code",
   "execution_count": 360,
   "metadata": {},
   "outputs": [],
   "source": [
    "dvo_sur_4_wind= rescaled_wind(dvo_sur_4_dir,dvo_sur_4_speed)"
   ]
  },
  {
   "cell_type": "code",
   "execution_count": 361,
   "metadata": {},
   "outputs": [],
   "source": [
    "dvo_sur_4_ave = get_mean(dvo_sur_4)"
   ]
  },
  {
   "cell_type": "code",
   "execution_count": 362,
   "metadata": {},
   "outputs": [],
   "source": [
    "dvo_sur_4_sum = get_sum(dvo_sur_4)"
   ]
  },
  {
   "cell_type": "code",
   "execution_count": 363,
   "metadata": {},
   "outputs": [],
   "source": [
    "dvo_sur_4_mode = get_mode(dvo_sur_4)"
   ]
  },
  {
   "cell_type": "code",
   "execution_count": 364,
   "metadata": {},
   "outputs": [],
   "source": [
    "dvo_sur_4_not_wind = pd.concat([dvo_sur_4_ave, dvo_sur_4_sum,dvo_sur_4_mode],axis = 1)"
   ]
  },
  {
   "cell_type": "code",
   "execution_count": 365,
   "metadata": {},
   "outputs": [],
   "source": [
    "dvo_sur_4_final = dvo_sur_4_wind.merge(dvo_sur_4_not_wind , how='inner',on='year')"
   ]
  },
  {
   "cell_type": "markdown",
   "metadata": {},
   "source": [
    "#### For Davao del Sur"
   ]
  },
  {
   "cell_type": "code",
   "execution_count": 366,
   "metadata": {},
   "outputs": [],
   "source": [
    "dvo_sur = pd.concat([dvo_sur_1_final, dvo_sur_2_final, dvo_sur_3_final, dvo_sur_4_final],axis = 0)"
   ]
  },
  {
   "cell_type": "code",
   "execution_count": 367,
   "metadata": {},
   "outputs": [],
   "source": [
    "regional_mode = region_mode(dvo_sur)"
   ]
  },
  {
   "cell_type": "code",
   "execution_count": 368,
   "metadata": {},
   "outputs": [],
   "source": [
    "regional_mode = aggregate_region_windSpeed(dvo_sur,regional_mode)"
   ]
  },
  {
   "cell_type": "code",
   "execution_count": 369,
   "metadata": {},
   "outputs": [],
   "source": [
    "regional_mean = region_mean(dvo_sur)"
   ]
  },
  {
   "cell_type": "code",
   "execution_count": 370,
   "metadata": {},
   "outputs": [],
   "source": [
    "dvo_sur_annual = regional_mode.merge(regional_mean , how='inner',on='year')"
   ]
  },
  {
   "cell_type": "code",
   "execution_count": 371,
   "metadata": {},
   "outputs": [],
   "source": [
    "dvo_sur_annual.insert(loc = 1, column= \"Location\", value = \"DAVAO DEL SUR\")"
   ]
  },
  {
   "cell_type": "code",
   "execution_count": 372,
   "metadata": {},
   "outputs": [],
   "source": [
    "dvo_sur_annual.to_csv(\"DAVAO DEL SUR.csv\")"
   ]
  },
  {
   "cell_type": "markdown",
   "metadata": {},
   "source": [
    "## Davao City"
   ]
  },
  {
   "cell_type": "code",
   "execution_count": 130,
   "metadata": {},
   "outputs": [],
   "source": [
    "dvo_city_1 = pd.read_csv(r\"D:\\Thesis\\Datasets\\11 - Davao City\\gualberto farm.csv\",header = 2) "
   ]
  },
  {
   "cell_type": "code",
   "execution_count": 131,
   "metadata": {},
   "outputs": [],
   "source": [
    "dvo_city_1  = extract_year_date(dvo_city_1)"
   ]
  },
  {
   "cell_type": "code",
   "execution_count": 132,
   "metadata": {},
   "outputs": [],
   "source": [
    "dvo_city_1_dir = aggregate_wind_dir(dvo_city_1)"
   ]
  },
  {
   "cell_type": "code",
   "execution_count": 133,
   "metadata": {},
   "outputs": [],
   "source": [
    "dvo_city_1_speed = aggregate_wind_speed(dvo_city_1,dvo_city_1_dir)"
   ]
  },
  {
   "cell_type": "code",
   "execution_count": 134,
   "metadata": {},
   "outputs": [],
   "source": [
    "dvo_city_1_wind= rescaled_wind(dvo_city_1_dir,dvo_city_1_speed)"
   ]
  },
  {
   "cell_type": "code",
   "execution_count": 135,
   "metadata": {},
   "outputs": [],
   "source": [
    "dvo_city_1_ave = get_mean(dvo_city_1)"
   ]
  },
  {
   "cell_type": "code",
   "execution_count": 136,
   "metadata": {},
   "outputs": [],
   "source": [
    "dvo_city_1_sum = get_sum(dvo_city_1)"
   ]
  },
  {
   "cell_type": "code",
   "execution_count": 137,
   "metadata": {},
   "outputs": [],
   "source": [
    "dvo_city_1_mode = get_mode(dvo_city_1)"
   ]
  },
  {
   "cell_type": "code",
   "execution_count": 138,
   "metadata": {},
   "outputs": [],
   "source": [
    "dvo_city_1_not_wind = pd.concat([dvo_city_1_ave, dvo_city_1_sum,dvo_city_1_mode],axis = 1)"
   ]
  },
  {
   "cell_type": "code",
   "execution_count": 139,
   "metadata": {},
   "outputs": [],
   "source": [
    "dvo_city_1_final = dvo_city_1_wind.merge(dvo_city_1_not_wind , how='inner',on='year')"
   ]
  },
  {
   "cell_type": "code",
   "execution_count": 140,
   "metadata": {},
   "outputs": [],
   "source": [
    "dvo_city_1_final.insert(loc = 1, column= \"Location\", value = \"DAVAO CITY\")"
   ]
  },
  {
   "cell_type": "code",
   "execution_count": 141,
   "metadata": {},
   "outputs": [],
   "source": [
    "dvo_city_1_final.to_csv('DAVAO CITY.csv')"
   ]
  },
  {
   "cell_type": "markdown",
   "metadata": {},
   "source": [
    "## Davao del Norte\n"
   ]
  },
  {
   "cell_type": "code",
   "execution_count": 17,
   "metadata": {},
   "outputs": [],
   "source": [
    "dvo_norte_1 = pd.read_csv(r\"D:\\Thesis\\Datasets\\11 - Davao del Norte\\talaingod.csv\",header = 2) "
   ]
  },
  {
   "cell_type": "code",
   "execution_count": 19,
   "metadata": {},
   "outputs": [],
   "source": [
    "dvo_norte_1  = extract_year_date(dvo_norte_1)"
   ]
  },
  {
   "cell_type": "code",
   "execution_count": 20,
   "metadata": {},
   "outputs": [],
   "source": [
    "dvo_norte_1_dir = aggregate_wind_dir(dvo_norte_1)"
   ]
  },
  {
   "cell_type": "code",
   "execution_count": 21,
   "metadata": {},
   "outputs": [],
   "source": [
    "dvo_norte_1_speed = aggregate_wind_speed(dvo_norte_1,dvo_norte_1_dir)"
   ]
  },
  {
   "cell_type": "code",
   "execution_count": 22,
   "metadata": {},
   "outputs": [],
   "source": [
    "dvo_norte_1_wind= rescaled_wind(dvo_norte_1_dir,dvo_norte_1_speed)"
   ]
  },
  {
   "cell_type": "code",
   "execution_count": 23,
   "metadata": {},
   "outputs": [],
   "source": [
    "dvo_norte_1_ave = get_mean(dvo_norte_1)"
   ]
  },
  {
   "cell_type": "code",
   "execution_count": 24,
   "metadata": {},
   "outputs": [],
   "source": [
    "dvo_norte_1_sum= get_sum(dvo_norte_1)"
   ]
  },
  {
   "cell_type": "code",
   "execution_count": 25,
   "metadata": {},
   "outputs": [],
   "source": [
    "dvo_norte_1_mode = get_mode(dvo_norte_1)"
   ]
  },
  {
   "cell_type": "code",
   "execution_count": 26,
   "metadata": {},
   "outputs": [],
   "source": [
    "dvo_norte_1_not_wind = pd.concat([dvo_norte_1_ave, dvo_norte_1_sum,dvo_norte_1_mode],axis = 1)"
   ]
  },
  {
   "cell_type": "code",
   "execution_count": 27,
   "metadata": {},
   "outputs": [],
   "source": [
    "dvo_norte_1_final = dvo_norte_1_wind.merge(dvo_norte_1_not_wind , how='inner',on='year')"
   ]
  },
  {
   "cell_type": "code",
   "execution_count": 28,
   "metadata": {},
   "outputs": [],
   "source": [
    "dvo_norte_1_final.insert(loc = 1, column= \"Location\", value = \"DAVAO DEL NORTE\")"
   ]
  },
  {
   "cell_type": "code",
   "execution_count": 29,
   "metadata": {},
   "outputs": [],
   "source": [
    "dvo_norte_1_final.to_csv('DAVAO DEL NORTE.csv')"
   ]
  },
  {
   "cell_type": "markdown",
   "metadata": {},
   "source": [
    "## Davao Oriental"
   ]
  },
  {
   "cell_type": "code",
   "execution_count": 30,
   "metadata": {},
   "outputs": [],
   "source": [
    "dvo_or_1 = pd.read_csv(r\"D:\\Thesis\\Datasets\\11 - Davao Oriental\\tarragona.csv\",header = 2) "
   ]
  },
  {
   "cell_type": "code",
   "execution_count": 31,
   "metadata": {},
   "outputs": [],
   "source": [
    "dvo_or_1 = extract_year_date(dvo_or_1)"
   ]
  },
  {
   "cell_type": "code",
   "execution_count": 32,
   "metadata": {},
   "outputs": [],
   "source": [
    "dvo_or_1_dir = aggregate_wind_dir(dvo_or_1)"
   ]
  },
  {
   "cell_type": "code",
   "execution_count": 33,
   "metadata": {},
   "outputs": [],
   "source": [
    "dvo_or_1_speed = aggregate_wind_speed(dvo_or_1,dvo_or_1_dir)"
   ]
  },
  {
   "cell_type": "code",
   "execution_count": 34,
   "metadata": {},
   "outputs": [],
   "source": [
    "dvo_or_1_wind= rescaled_wind(dvo_or_1_dir,dvo_or_1_speed)"
   ]
  },
  {
   "cell_type": "code",
   "execution_count": 35,
   "metadata": {},
   "outputs": [],
   "source": [
    "dvo_or_1_ave = get_mean(dvo_or_1)"
   ]
  },
  {
   "cell_type": "code",
   "execution_count": 36,
   "metadata": {},
   "outputs": [],
   "source": [
    "dvo_or_1_sum= get_sum(dvo_or_1)"
   ]
  },
  {
   "cell_type": "code",
   "execution_count": 37,
   "metadata": {},
   "outputs": [],
   "source": [
    "dvo_or_1_mode = get_mode(dvo_or_1)"
   ]
  },
  {
   "cell_type": "code",
   "execution_count": 38,
   "metadata": {},
   "outputs": [],
   "source": [
    "dvo_or_1_not_wind = pd.concat([dvo_or_1_ave, dvo_or_1_sum,dvo_or_1_mode ],axis = 1)\n"
   ]
  },
  {
   "cell_type": "code",
   "execution_count": 39,
   "metadata": {},
   "outputs": [],
   "source": [
    "dvo_or_1_final = dvo_or_1_wind.merge(dvo_or_1_not_wind , how='inner',on='year')"
   ]
  },
  {
   "cell_type": "code",
   "execution_count": 40,
   "metadata": {},
   "outputs": [],
   "source": [
    "dvo_or_1_final.insert(loc = 1, column= \"Location\", value = \"DAVAO ORIENTAL\")"
   ]
  },
  {
   "cell_type": "code",
   "execution_count": 41,
   "metadata": {},
   "outputs": [],
   "source": [
    "dvo_or_1_final.to_csv(\"DAVAO ORIENTAL.csv\")"
   ]
  },
  {
   "cell_type": "markdown",
   "metadata": {},
   "source": [
    "## Davao de Oro"
   ]
  },
  {
   "cell_type": "code",
   "execution_count": 42,
   "metadata": {},
   "outputs": [],
   "source": [
    "dvo_de_oro_1 = pd.read_csv(r\"D:\\Thesis\\Datasets\\11- Davao de Oro\\delio cezar.csv\",header = 2) "
   ]
  },
  {
   "cell_type": "code",
   "execution_count": 43,
   "metadata": {},
   "outputs": [],
   "source": [
    "dvo_de_oro_1 = extract_year_date(dvo_de_oro_1)"
   ]
  },
  {
   "cell_type": "code",
   "execution_count": 44,
   "metadata": {},
   "outputs": [],
   "source": [
    "dvo_de_oro_1_dir = aggregate_wind_dir(dvo_de_oro_1)"
   ]
  },
  {
   "cell_type": "code",
   "execution_count": 45,
   "metadata": {},
   "outputs": [],
   "source": [
    "dvo_de_oro_1_speed = aggregate_wind_speed(dvo_de_oro_1,dvo_de_oro_1_dir)"
   ]
  },
  {
   "cell_type": "code",
   "execution_count": 46,
   "metadata": {},
   "outputs": [],
   "source": [
    "dvo_de_oro_1_wind= rescaled_wind(dvo_de_oro_1_dir,dvo_de_oro_1_speed)"
   ]
  },
  {
   "cell_type": "code",
   "execution_count": 47,
   "metadata": {},
   "outputs": [],
   "source": [
    "dvo_de_oro_1_ave = get_mean(dvo_de_oro_1)"
   ]
  },
  {
   "cell_type": "code",
   "execution_count": 48,
   "metadata": {},
   "outputs": [],
   "source": [
    "dvo_de_oro_1_sum= get_sum(dvo_de_oro_1)"
   ]
  },
  {
   "cell_type": "code",
   "execution_count": 49,
   "metadata": {},
   "outputs": [],
   "source": [
    "dvo_de_oro_1_mode= get_mode(dvo_de_oro_1)"
   ]
  },
  {
   "cell_type": "code",
   "execution_count": 50,
   "metadata": {},
   "outputs": [],
   "source": [
    "dvo_de_oro_1_not_wind = pd.concat([dvo_de_oro_1_ave, dvo_de_oro_1_sum,dvo_de_oro_1_mode],axis = 1)"
   ]
  },
  {
   "cell_type": "code",
   "execution_count": 51,
   "metadata": {},
   "outputs": [],
   "source": [
    "dvo_de_oro_1_final = dvo_de_oro_1_wind.merge(dvo_de_oro_1_not_wind , how='inner',on='year')"
   ]
  },
  {
   "cell_type": "code",
   "execution_count": 52,
   "metadata": {},
   "outputs": [],
   "source": [
    "dvo_de_oro_1_final.insert(loc = 1, column= \"Location\", value =\"DAVAO DE ORO\")"
   ]
  },
  {
   "cell_type": "code",
   "execution_count": 53,
   "metadata": {},
   "outputs": [],
   "source": [
    "dvo_de_oro_1_final.to_csv(\"DAVAO DE ORO.csv\")"
   ]
  },
  {
   "cell_type": "markdown",
   "metadata": {},
   "source": [
    "# Region 12"
   ]
  },
  {
   "cell_type": "markdown",
   "metadata": {},
   "source": [
    "## Cotabato"
   ]
  },
  {
   "cell_type": "markdown",
   "metadata": {},
   "source": [
    "#### Shiela Livera Leong"
   ]
  },
  {
   "cell_type": "code",
   "execution_count": 399,
   "metadata": {},
   "outputs": [],
   "source": [
    "cotabato_1 = pd.read_csv(r\"D:\\Thesis\\Datasets\\12 - Cotabato\\Sheila Livera Leong.csv\",header = 2) "
   ]
  },
  {
   "cell_type": "code",
   "execution_count": 400,
   "metadata": {},
   "outputs": [],
   "source": [
    "cotabato_1 = extract_year_date(cotabato_1)"
   ]
  },
  {
   "cell_type": "code",
   "execution_count": 401,
   "metadata": {},
   "outputs": [],
   "source": [
    "cotabato_1_dir = aggregate_wind_dir(cotabato_1)"
   ]
  },
  {
   "cell_type": "code",
   "execution_count": 402,
   "metadata": {},
   "outputs": [],
   "source": [
    "cotabato_1_speed = aggregate_wind_speed(cotabato_1,cotabato_1_dir)"
   ]
  },
  {
   "cell_type": "code",
   "execution_count": 403,
   "metadata": {},
   "outputs": [],
   "source": [
    "cotabato_1_wind= rescaled_wind(cotabato_1_dir,cotabato_1_speed)"
   ]
  },
  {
   "cell_type": "code",
   "execution_count": 404,
   "metadata": {},
   "outputs": [],
   "source": [
    "cotabato_1_ave = get_mean(cotabato_1)"
   ]
  },
  {
   "cell_type": "code",
   "execution_count": 405,
   "metadata": {},
   "outputs": [],
   "source": [
    "cotabato_1_sum = get_sum(cotabato_1)"
   ]
  },
  {
   "cell_type": "code",
   "execution_count": 406,
   "metadata": {},
   "outputs": [],
   "source": [
    "cotabato_1_mode = get_mode(cotabato_1)"
   ]
  },
  {
   "cell_type": "code",
   "execution_count": 407,
   "metadata": {},
   "outputs": [],
   "source": [
    "cotabato_1_not_wind = pd.concat([cotabato_1_ave, cotabato_1_sum,cotabato_1_mode],axis = 1)"
   ]
  },
  {
   "cell_type": "code",
   "execution_count": 408,
   "metadata": {},
   "outputs": [],
   "source": [
    "cotabato_1_final = cotabato_1_wind.merge(cotabato_1_not_wind , how='inner',on='year')"
   ]
  },
  {
   "cell_type": "markdown",
   "metadata": {},
   "source": [
    "#### Heaven's Bounty Farm"
   ]
  },
  {
   "cell_type": "code",
   "execution_count": 409,
   "metadata": {},
   "outputs": [],
   "source": [
    "cotabato_2 = pd.read_csv(r\"D:\\Thesis\\Datasets\\12 - Cotabato\\Heaven_s Bounty Farm.csv\",header = 2) "
   ]
  },
  {
   "cell_type": "code",
   "execution_count": 410,
   "metadata": {},
   "outputs": [],
   "source": [
    "cotabato_2 = extract_year_date(cotabato_2)"
   ]
  },
  {
   "cell_type": "code",
   "execution_count": 411,
   "metadata": {},
   "outputs": [],
   "source": [
    "cotabato_2_dir = aggregate_wind_dir(cotabato_2)"
   ]
  },
  {
   "cell_type": "code",
   "execution_count": 412,
   "metadata": {},
   "outputs": [],
   "source": [
    "cotabato_2_speed = aggregate_wind_speed(cotabato_2 ,cotabato_2_dir)"
   ]
  },
  {
   "cell_type": "code",
   "execution_count": 413,
   "metadata": {},
   "outputs": [],
   "source": [
    "cotabato_2_wind= rescaled_wind(cotabato_2_dir,cotabato_2_speed)"
   ]
  },
  {
   "cell_type": "code",
   "execution_count": 414,
   "metadata": {},
   "outputs": [],
   "source": [
    "cotabato_2_ave = get_mean(cotabato_2)"
   ]
  },
  {
   "cell_type": "code",
   "execution_count": 415,
   "metadata": {},
   "outputs": [],
   "source": [
    "cotabato_2_sum = get_sum(cotabato_2)"
   ]
  },
  {
   "cell_type": "code",
   "execution_count": 416,
   "metadata": {},
   "outputs": [],
   "source": [
    "cotabato_2_mode = get_mode(cotabato_2)"
   ]
  },
  {
   "cell_type": "code",
   "execution_count": 417,
   "metadata": {},
   "outputs": [],
   "source": [
    "cotabato_2_not_wind = pd.concat([cotabato_2_ave, cotabato_2_sum,cotabato_2_mode],axis = 1)"
   ]
  },
  {
   "cell_type": "code",
   "execution_count": 418,
   "metadata": {},
   "outputs": [],
   "source": [
    "cotabato_2_final = cotabato_2_wind.merge(cotabato_2_not_wind , how='inner',on='year')"
   ]
  },
  {
   "cell_type": "markdown",
   "metadata": {},
   "source": [
    "#### Kuvi Integrated Farm"
   ]
  },
  {
   "cell_type": "code",
   "execution_count": 419,
   "metadata": {},
   "outputs": [],
   "source": [
    "cotabato_3 = pd.read_csv(r\"D:\\Thesis\\Datasets\\12 - Cotabato\\Kuvi Integrated Farm.csv\",header = 2) "
   ]
  },
  {
   "cell_type": "code",
   "execution_count": 420,
   "metadata": {},
   "outputs": [],
   "source": [
    "cotabato_3  = extract_year_date(cotabato_3)"
   ]
  },
  {
   "cell_type": "code",
   "execution_count": 421,
   "metadata": {},
   "outputs": [],
   "source": [
    "cotabato_3_dir = aggregate_wind_dir(cotabato_3)"
   ]
  },
  {
   "cell_type": "code",
   "execution_count": 422,
   "metadata": {},
   "outputs": [],
   "source": [
    "cotabato_3_speed = aggregate_wind_speed(cotabato_3,cotabato_3_dir)"
   ]
  },
  {
   "cell_type": "code",
   "execution_count": 423,
   "metadata": {},
   "outputs": [],
   "source": [
    "cotabato_3_wind= rescaled_wind(cotabato_3_dir,cotabato_3_speed)"
   ]
  },
  {
   "cell_type": "code",
   "execution_count": 424,
   "metadata": {},
   "outputs": [],
   "source": [
    "cotabato_3_ave = get_mean(cotabato_3)"
   ]
  },
  {
   "cell_type": "code",
   "execution_count": 425,
   "metadata": {},
   "outputs": [],
   "source": [
    "cotabato_3_sum = get_sum(cotabato_3)"
   ]
  },
  {
   "cell_type": "code",
   "execution_count": 426,
   "metadata": {},
   "outputs": [],
   "source": [
    "cotabato_3_mode = get_mode(cotabato_3)"
   ]
  },
  {
   "cell_type": "code",
   "execution_count": 427,
   "metadata": {},
   "outputs": [],
   "source": [
    "cotabato_3_not_wind = pd.concat([cotabato_3_ave, cotabato_3_sum,cotabato_3_mode],axis = 1)"
   ]
  },
  {
   "cell_type": "code",
   "execution_count": 428,
   "metadata": {},
   "outputs": [],
   "source": [
    "cotabato_3_final = cotabato_3_wind.merge(cotabato_3_not_wind , how='inner',on='year')"
   ]
  },
  {
   "cell_type": "markdown",
   "metadata": {},
   "source": [
    "#### Sobee-It Farm"
   ]
  },
  {
   "cell_type": "code",
   "execution_count": 429,
   "metadata": {},
   "outputs": [],
   "source": [
    "cotabato_4 = pd.read_csv(r\"D:\\Thesis\\Datasets\\12 - Cotabato\\Sobee-It Farm.csv\",header = 2) "
   ]
  },
  {
   "cell_type": "code",
   "execution_count": 430,
   "metadata": {},
   "outputs": [],
   "source": [
    "cotabato_4  = extract_year_date(cotabato_4)"
   ]
  },
  {
   "cell_type": "code",
   "execution_count": 431,
   "metadata": {},
   "outputs": [],
   "source": [
    "cotabato_4_dir = aggregate_wind_dir(cotabato_4)"
   ]
  },
  {
   "cell_type": "code",
   "execution_count": 432,
   "metadata": {},
   "outputs": [],
   "source": [
    "cotabato_4_speed = aggregate_wind_speed(cotabato_4,cotabato_4_dir)"
   ]
  },
  {
   "cell_type": "code",
   "execution_count": 433,
   "metadata": {},
   "outputs": [],
   "source": [
    "cotabato_4_wind= rescaled_wind(cotabato_4_dir,cotabato_4_speed)"
   ]
  },
  {
   "cell_type": "code",
   "execution_count": 434,
   "metadata": {},
   "outputs": [],
   "source": [
    "cotabato_4_ave = get_mean(cotabato_4)"
   ]
  },
  {
   "cell_type": "code",
   "execution_count": 435,
   "metadata": {},
   "outputs": [],
   "source": [
    "cotabato_4_sum = get_sum(cotabato_4)"
   ]
  },
  {
   "cell_type": "code",
   "execution_count": 436,
   "metadata": {},
   "outputs": [],
   "source": [
    "cotabato_4_mode = get_mode(cotabato_4)"
   ]
  },
  {
   "cell_type": "code",
   "execution_count": 437,
   "metadata": {},
   "outputs": [],
   "source": [
    "cotabato_4_not_wind = pd.concat([cotabato_4_ave, cotabato_4_sum,cotabato_4_mode],axis = 1)"
   ]
  },
  {
   "cell_type": "code",
   "execution_count": 438,
   "metadata": {},
   "outputs": [],
   "source": [
    "cotabato_4_final = cotabato_4_wind.merge(cotabato_4_not_wind , how='inner',on='year')"
   ]
  },
  {
   "cell_type": "markdown",
   "metadata": {},
   "source": [
    "#### For Cotabato "
   ]
  },
  {
   "cell_type": "code",
   "execution_count": 439,
   "metadata": {},
   "outputs": [],
   "source": [
    "cotabato = pd.concat([cotabato_1_final,cotabato_2_final,cotabato_3_final,cotabato_4_final ],axis = 0)"
   ]
  },
  {
   "cell_type": "code",
   "execution_count": 440,
   "metadata": {},
   "outputs": [],
   "source": [
    "regional_mode = region_mode(cotabato)"
   ]
  },
  {
   "cell_type": "code",
   "execution_count": 441,
   "metadata": {},
   "outputs": [],
   "source": [
    "regional_mode = aggregate_region_windSpeed(cotabato,regional_mode)"
   ]
  },
  {
   "cell_type": "code",
   "execution_count": 442,
   "metadata": {},
   "outputs": [],
   "source": [
    "regional_mean = region_mean(cotabato)"
   ]
  },
  {
   "cell_type": "code",
   "execution_count": 443,
   "metadata": {},
   "outputs": [],
   "source": [
    "cotabato_annual = regional_mode.merge(regional_mean , how='inner',on='year')"
   ]
  },
  {
   "cell_type": "code",
   "execution_count": 444,
   "metadata": {},
   "outputs": [],
   "source": [
    "cotabato_annual.insert(loc = 1, column= \"Location\", value = \"COTABATO\")"
   ]
  },
  {
   "cell_type": "code",
   "execution_count": 445,
   "metadata": {},
   "outputs": [],
   "source": [
    "cotabato_annual.to_csv(\"COTABATO.csv\")"
   ]
  },
  {
   "cell_type": "markdown",
   "metadata": {},
   "source": [
    "## South Cotabato "
   ]
  },
  {
   "cell_type": "markdown",
   "metadata": {},
   "source": [
    "#### Ava Odal/Tucogai"
   ]
  },
  {
   "cell_type": "code",
   "execution_count": 446,
   "metadata": {},
   "outputs": [],
   "source": [
    "south_cot_1 = pd.read_csv(r\"D:\\Thesis\\Datasets\\12 - South Cotabato\\Ava OdalTucogai.csv\",header = 2) "
   ]
  },
  {
   "cell_type": "code",
   "execution_count": 447,
   "metadata": {},
   "outputs": [],
   "source": [
    "south_cot_1 = extract_year_date(south_cot_1)"
   ]
  },
  {
   "cell_type": "code",
   "execution_count": 448,
   "metadata": {},
   "outputs": [],
   "source": [
    "south_cot_1_dir = aggregate_wind_dir(south_cot_1)"
   ]
  },
  {
   "cell_type": "code",
   "execution_count": 449,
   "metadata": {},
   "outputs": [],
   "source": [
    "south_cot_1_speed = aggregate_wind_speed(south_cot_1,south_cot_1_dir)"
   ]
  },
  {
   "cell_type": "code",
   "execution_count": 450,
   "metadata": {},
   "outputs": [],
   "source": [
    "south_cot_1_wind= rescaled_wind(south_cot_1_dir,south_cot_1_speed)"
   ]
  },
  {
   "cell_type": "code",
   "execution_count": 451,
   "metadata": {},
   "outputs": [],
   "source": [
    "south_cot_1_ave = get_mean(south_cot_1)"
   ]
  },
  {
   "cell_type": "code",
   "execution_count": 452,
   "metadata": {},
   "outputs": [],
   "source": [
    "south_cot_1_sum = get_sum(south_cot_1)"
   ]
  },
  {
   "cell_type": "code",
   "execution_count": 453,
   "metadata": {},
   "outputs": [],
   "source": [
    "south_cot_1_mode = get_mode(south_cot_1)"
   ]
  },
  {
   "cell_type": "code",
   "execution_count": 454,
   "metadata": {},
   "outputs": [],
   "source": [
    "south_cot_1_not_wind = pd.concat([south_cot_1_ave, south_cot_1_sum,south_cot_1_mode],axis = 1)"
   ]
  },
  {
   "cell_type": "code",
   "execution_count": 455,
   "metadata": {},
   "outputs": [],
   "source": [
    "south_cot_1_final = south_cot_1_wind.merge(south_cot_1_not_wind , how='inner',on='year')"
   ]
  },
  {
   "cell_type": "markdown",
   "metadata": {},
   "source": [
    "#### Salcedo Farms"
   ]
  },
  {
   "cell_type": "code",
   "execution_count": 456,
   "metadata": {},
   "outputs": [],
   "source": [
    "south_cot_2 = pd.read_csv(r\"D:\\Thesis\\Datasets\\12 - South Cotabato\\SALCEDO FARMS.csv\",header = 2) "
   ]
  },
  {
   "cell_type": "code",
   "execution_count": 457,
   "metadata": {},
   "outputs": [],
   "source": [
    "south_cot_2 = extract_year_date(south_cot_2)"
   ]
  },
  {
   "cell_type": "code",
   "execution_count": 458,
   "metadata": {},
   "outputs": [],
   "source": [
    "south_cot_2_dir = aggregate_wind_dir(south_cot_2)"
   ]
  },
  {
   "cell_type": "code",
   "execution_count": 459,
   "metadata": {},
   "outputs": [],
   "source": [
    "south_cot_2_speed = aggregate_wind_speed(south_cot_2,south_cot_2_dir)"
   ]
  },
  {
   "cell_type": "code",
   "execution_count": 460,
   "metadata": {},
   "outputs": [],
   "source": [
    "south_cot_2_wind= rescaled_wind(south_cot_2_dir,south_cot_2_speed)\n"
   ]
  },
  {
   "cell_type": "code",
   "execution_count": 461,
   "metadata": {},
   "outputs": [],
   "source": [
    "south_cot_2_ave = get_mean(south_cot_2)"
   ]
  },
  {
   "cell_type": "code",
   "execution_count": 462,
   "metadata": {},
   "outputs": [],
   "source": [
    "south_cot_2_sum = get_sum(south_cot_2)"
   ]
  },
  {
   "cell_type": "code",
   "execution_count": 463,
   "metadata": {},
   "outputs": [],
   "source": [
    "south_cot_2_mode = get_mode(south_cot_2)"
   ]
  },
  {
   "cell_type": "code",
   "execution_count": 464,
   "metadata": {},
   "outputs": [],
   "source": [
    "south_cot_2_not_wind = pd.concat([south_cot_2_ave, south_cot_2_sum,south_cot_2_mode],axis = 1)"
   ]
  },
  {
   "cell_type": "code",
   "execution_count": 465,
   "metadata": {},
   "outputs": [],
   "source": [
    "south_cot_2_final = south_cot_2_wind.merge(south_cot_2_not_wind , how='inner',on='year')"
   ]
  },
  {
   "cell_type": "markdown",
   "metadata": {},
   "source": [
    "#### For South Cotabato"
   ]
  },
  {
   "cell_type": "code",
   "execution_count": 467,
   "metadata": {},
   "outputs": [],
   "source": [
    "south_cot = pd.concat([south_cot_1_final, south_cot_2_final],axis = 0)"
   ]
  },
  {
   "cell_type": "code",
   "execution_count": 468,
   "metadata": {},
   "outputs": [],
   "source": [
    "regional_mode = region_mode(south_cot)\n"
   ]
  },
  {
   "cell_type": "code",
   "execution_count": 469,
   "metadata": {},
   "outputs": [],
   "source": [
    "regional_mode = aggregate_region_windSpeed(south_cot,regional_mode)"
   ]
  },
  {
   "cell_type": "code",
   "execution_count": 470,
   "metadata": {},
   "outputs": [],
   "source": [
    "regional_mean = region_mean(south_cot)"
   ]
  },
  {
   "cell_type": "code",
   "execution_count": 471,
   "metadata": {},
   "outputs": [],
   "source": [
    "south_cot_annual = regional_mode.merge(regional_mean , how='inner',on='year')"
   ]
  },
  {
   "cell_type": "code",
   "execution_count": 472,
   "metadata": {},
   "outputs": [],
   "source": [
    "south_cot_annual.insert(loc = 1, column= \"Location\", value = \"SOUTH COTABATO\")"
   ]
  },
  {
   "cell_type": "code",
   "execution_count": 474,
   "metadata": {},
   "outputs": [],
   "source": [
    "south_cot_annual.to_csv(\"SOUTH COTABATO.csv\")"
   ]
  },
  {
   "cell_type": "markdown",
   "metadata": {},
   "source": [
    "## Sultan Kudarat"
   ]
  },
  {
   "cell_type": "markdown",
   "metadata": {},
   "source": [
    "#### Carlo Posadas"
   ]
  },
  {
   "cell_type": "code",
   "execution_count": 476,
   "metadata": {},
   "outputs": [],
   "source": [
    "sultan_kudarat_1 = pd.read_csv(r\"D:\\Thesis\\Datasets\\12 - Sultan Kudarat\\Carlo Posadas.csv\",header = 2) "
   ]
  },
  {
   "cell_type": "code",
   "execution_count": 477,
   "metadata": {},
   "outputs": [],
   "source": [
    "sultan_kudarat_1 = extract_year_date(sultan_kudarat_1)"
   ]
  },
  {
   "cell_type": "code",
   "execution_count": 478,
   "metadata": {},
   "outputs": [],
   "source": [
    "sultan_kudarat_1_dir = aggregate_wind_dir(sultan_kudarat_1)"
   ]
  },
  {
   "cell_type": "code",
   "execution_count": 479,
   "metadata": {},
   "outputs": [],
   "source": [
    "sultan_kudarat_1_speed = aggregate_wind_speed(sultan_kudarat_1,sultan_kudarat_1_dir)"
   ]
  },
  {
   "cell_type": "code",
   "execution_count": 480,
   "metadata": {},
   "outputs": [],
   "source": [
    "sultan_kudarat_1_wind= rescaled_wind(sultan_kudarat_1_dir,sultan_kudarat_1_speed)"
   ]
  },
  {
   "cell_type": "code",
   "execution_count": 481,
   "metadata": {},
   "outputs": [],
   "source": [
    "sultan_kudarat_1_ave = get_mean(sultan_kudarat_1)"
   ]
  },
  {
   "cell_type": "code",
   "execution_count": 482,
   "metadata": {},
   "outputs": [],
   "source": [
    "sultan_kudarat_1_sum = get_sum(sultan_kudarat_1)"
   ]
  },
  {
   "cell_type": "code",
   "execution_count": 483,
   "metadata": {},
   "outputs": [],
   "source": [
    "sultan_kudarat_1_mode = get_mode(sultan_kudarat_1)"
   ]
  },
  {
   "cell_type": "code",
   "execution_count": 484,
   "metadata": {},
   "outputs": [],
   "source": [
    "sultan_kudarat_1_not_wind = pd.concat([sultan_kudarat_1_ave, sultan_kudarat_1_sum,sultan_kudarat_1_mode],axis = 1)"
   ]
  },
  {
   "cell_type": "code",
   "execution_count": 485,
   "metadata": {},
   "outputs": [],
   "source": [
    "sultan_kudarat_1_final = sultan_kudarat_1_wind.merge(sultan_kudarat_1_not_wind , how='inner',on='year')"
   ]
  },
  {
   "cell_type": "markdown",
   "metadata": {},
   "source": [
    "#### Kape Dulangan - SKVCI"
   ]
  },
  {
   "cell_type": "code",
   "execution_count": 486,
   "metadata": {},
   "outputs": [],
   "source": [
    "sultan_kudarat_2 = pd.read_csv(r\"D:\\Thesis\\Datasets\\12 - Sultan Kudarat\\Kape Dulangan - SKCVI.csv\",header = 2) "
   ]
  },
  {
   "cell_type": "code",
   "execution_count": 487,
   "metadata": {},
   "outputs": [],
   "source": [
    "sultan_kudarat_2 = extract_year_date(sultan_kudarat_2)"
   ]
  },
  {
   "cell_type": "code",
   "execution_count": 488,
   "metadata": {},
   "outputs": [],
   "source": [
    "sultan_kudarat_2_dir = aggregate_wind_dir(sultan_kudarat_2)"
   ]
  },
  {
   "cell_type": "code",
   "execution_count": 489,
   "metadata": {},
   "outputs": [],
   "source": [
    "sultan_kudarat_2_speed = aggregate_wind_speed(sultan_kudarat_2,sultan_kudarat_2_dir)"
   ]
  },
  {
   "cell_type": "code",
   "execution_count": 490,
   "metadata": {},
   "outputs": [],
   "source": [
    "sultan_kudarat_2_wind= rescaled_wind(sultan_kudarat_2_dir,sultan_kudarat_2_speed)"
   ]
  },
  {
   "cell_type": "code",
   "execution_count": 491,
   "metadata": {},
   "outputs": [],
   "source": [
    "sultan_kudarat_2_ave = get_mean(sultan_kudarat_2)"
   ]
  },
  {
   "cell_type": "code",
   "execution_count": 492,
   "metadata": {},
   "outputs": [],
   "source": [
    "sultan_kudarat_2_sum = get_sum(sultan_kudarat_2)"
   ]
  },
  {
   "cell_type": "code",
   "execution_count": 493,
   "metadata": {},
   "outputs": [],
   "source": [
    "sultan_kudarat_2_mode = get_mode(sultan_kudarat_2)"
   ]
  },
  {
   "cell_type": "code",
   "execution_count": 494,
   "metadata": {},
   "outputs": [],
   "source": [
    "sultan_kudarat_2_not_wind = pd.concat([sultan_kudarat_2_ave, sultan_kudarat_2_sum,sultan_kudarat_2_mode],axis = 1)"
   ]
  },
  {
   "cell_type": "code",
   "execution_count": 495,
   "metadata": {},
   "outputs": [],
   "source": [
    "sultan_kudarat_2_final = sultan_kudarat_2_wind.merge(sultan_kudarat_2_not_wind , how='inner',on='year')"
   ]
  },
  {
   "cell_type": "markdown",
   "metadata": {},
   "source": [
    "#### Jennifer Farillon"
   ]
  },
  {
   "cell_type": "code",
   "execution_count": 496,
   "metadata": {},
   "outputs": [],
   "source": [
    "sultan_kudarat_3 = pd.read_csv(r\"D:\\Thesis\\Datasets\\12 - Sultan Kudarat\\Jennifer Farillon.csv\",header = 2) "
   ]
  },
  {
   "cell_type": "code",
   "execution_count": 497,
   "metadata": {},
   "outputs": [],
   "source": [
    "sultan_kudarat_3 = extract_year_date(sultan_kudarat_3)"
   ]
  },
  {
   "cell_type": "code",
   "execution_count": 498,
   "metadata": {},
   "outputs": [],
   "source": [
    "sultan_kudarat_3_dir = aggregate_wind_dir(sultan_kudarat_3)"
   ]
  },
  {
   "cell_type": "code",
   "execution_count": 499,
   "metadata": {},
   "outputs": [],
   "source": [
    "sultan_kudarat_3_speed = aggregate_wind_speed(sultan_kudarat_3,sultan_kudarat_3_dir)"
   ]
  },
  {
   "cell_type": "code",
   "execution_count": 500,
   "metadata": {},
   "outputs": [],
   "source": [
    "sultan_kudarat_3_wind= rescaled_wind(sultan_kudarat_3_dir,sultan_kudarat_3_speed)"
   ]
  },
  {
   "cell_type": "code",
   "execution_count": 501,
   "metadata": {},
   "outputs": [],
   "source": [
    "sultan_kudarat_3_ave = get_mean(sultan_kudarat_3)"
   ]
  },
  {
   "cell_type": "code",
   "execution_count": 502,
   "metadata": {},
   "outputs": [],
   "source": [
    "sultan_kudarat_3_sum= get_sum(sultan_kudarat_3)"
   ]
  },
  {
   "cell_type": "code",
   "execution_count": 503,
   "metadata": {},
   "outputs": [],
   "source": [
    "sultan_kudarat_3_mode= get_mode(sultan_kudarat_3)"
   ]
  },
  {
   "cell_type": "code",
   "execution_count": 504,
   "metadata": {},
   "outputs": [],
   "source": [
    "sultan_kudarat_3_not_wind = pd.concat([sultan_kudarat_3_ave, sultan_kudarat_3_sum,sultan_kudarat_3_mode],axis = 1)"
   ]
  },
  {
   "cell_type": "code",
   "execution_count": 505,
   "metadata": {},
   "outputs": [],
   "source": [
    "sultan_kudarat_3_final = sultan_kudarat_3_wind.merge(sultan_kudarat_3_not_wind , how='inner',on='year')"
   ]
  },
  {
   "cell_type": "markdown",
   "metadata": {},
   "source": [
    "#### Kalanawan Rainforest Coffee"
   ]
  },
  {
   "cell_type": "code",
   "execution_count": 507,
   "metadata": {},
   "outputs": [],
   "source": [
    "sultan_kudarat_4 = pd.read_csv(r\"D:\\Thesis\\Datasets\\12 - Sultan Kudarat\\Kalanawan Rainforest Coffee.csv\",header = 2) "
   ]
  },
  {
   "cell_type": "code",
   "execution_count": 508,
   "metadata": {},
   "outputs": [],
   "source": [
    "sultan_kudarat_4 = extract_year_date(sultan_kudarat_4)"
   ]
  },
  {
   "cell_type": "code",
   "execution_count": 509,
   "metadata": {},
   "outputs": [],
   "source": [
    "sultan_kudarat_4_dir = aggregate_wind_dir(sultan_kudarat_4)"
   ]
  },
  {
   "cell_type": "code",
   "execution_count": 510,
   "metadata": {},
   "outputs": [],
   "source": [
    "sultan_kudarat_4_speed = aggregate_wind_speed(sultan_kudarat_4,sultan_kudarat_4_dir)"
   ]
  },
  {
   "cell_type": "code",
   "execution_count": 511,
   "metadata": {},
   "outputs": [],
   "source": [
    "sultan_kudarat_4_wind= rescaled_wind(sultan_kudarat_4_dir,sultan_kudarat_4_speed)\n"
   ]
  },
  {
   "cell_type": "code",
   "execution_count": 512,
   "metadata": {},
   "outputs": [],
   "source": [
    "sultan_kudarat_4_ave = get_mean(sultan_kudarat_4)"
   ]
  },
  {
   "cell_type": "code",
   "execution_count": 513,
   "metadata": {},
   "outputs": [],
   "source": [
    "sultan_kudarat_4_sum= get_sum(sultan_kudarat_4)"
   ]
  },
  {
   "cell_type": "code",
   "execution_count": 514,
   "metadata": {},
   "outputs": [],
   "source": [
    "sultan_kudarat_4_mode= get_mode(sultan_kudarat_4)"
   ]
  },
  {
   "cell_type": "code",
   "execution_count": 515,
   "metadata": {},
   "outputs": [],
   "source": [
    "sultan_kudarat_4_not_wind = pd.concat([sultan_kudarat_4_ave, sultan_kudarat_4_sum,sultan_kudarat_4_mode],axis = 1)"
   ]
  },
  {
   "cell_type": "code",
   "execution_count": 516,
   "metadata": {},
   "outputs": [],
   "source": [
    "sultan_kudarat_4_final = sultan_kudarat_4_wind.merge(sultan_kudarat_4_not_wind , how='inner',on='year')"
   ]
  },
  {
   "cell_type": "markdown",
   "metadata": {},
   "source": [
    "#### For Sultan Kudarat"
   ]
  },
  {
   "cell_type": "code",
   "execution_count": 518,
   "metadata": {},
   "outputs": [],
   "source": [
    "sultan_kudarat = pd.concat([sultan_kudarat_1_final,sultan_kudarat_2_final, sultan_kudarat_3_final, sultan_kudarat_4_final],axis = 0)"
   ]
  },
  {
   "cell_type": "code",
   "execution_count": 519,
   "metadata": {},
   "outputs": [],
   "source": [
    "regional_mode = region_mode(sultan_kudarat)"
   ]
  },
  {
   "cell_type": "code",
   "execution_count": 520,
   "metadata": {},
   "outputs": [],
   "source": [
    "regional_mode = aggregate_region_windSpeed(sultan_kudarat,regional_mode)"
   ]
  },
  {
   "cell_type": "code",
   "execution_count": 521,
   "metadata": {},
   "outputs": [],
   "source": [
    "regional_mean = region_mean(sultan_kudarat)"
   ]
  },
  {
   "cell_type": "code",
   "execution_count": 522,
   "metadata": {},
   "outputs": [],
   "source": [
    "sultan_kudarat_annual = regional_mode.merge(regional_mean , how='inner',on='year')"
   ]
  },
  {
   "cell_type": "code",
   "execution_count": 523,
   "metadata": {},
   "outputs": [],
   "source": [
    "sultan_kudarat_annual.insert(loc = 1, column= \"Location\", value = \"SULTAN KUDARAT\")"
   ]
  },
  {
   "cell_type": "code",
   "execution_count": 524,
   "metadata": {},
   "outputs": [],
   "source": [
    "sultan_kudarat_annual.to_csv('SULTAN KUDARAT.csv')"
   ]
  },
  {
   "cell_type": "markdown",
   "metadata": {},
   "source": [
    "## Sarangani "
   ]
  },
  {
   "cell_type": "markdown",
   "metadata": {},
   "source": [
    "### Malalag Cogon"
   ]
  },
  {
   "cell_type": "code",
   "execution_count": 54,
   "metadata": {},
   "outputs": [],
   "source": [
    "sarangani_1 = pd.read_csv(r\"D:\\Thesis\\Datasets\\12 - Sarangani\\malalag cogon.csv\",header = 2) "
   ]
  },
  {
   "cell_type": "code",
   "execution_count": 55,
   "metadata": {},
   "outputs": [],
   "source": [
    "sarangani_1 = extract_year_date(sarangani_1 )"
   ]
  },
  {
   "cell_type": "code",
   "execution_count": 56,
   "metadata": {},
   "outputs": [],
   "source": [
    "sarangani_1_dir = aggregate_wind_dir(sarangani_1 )"
   ]
  },
  {
   "cell_type": "code",
   "execution_count": 57,
   "metadata": {},
   "outputs": [],
   "source": [
    "sarangani_1_speed = aggregate_wind_speed(sarangani_1,sarangani_1_dir)"
   ]
  },
  {
   "cell_type": "code",
   "execution_count": 58,
   "metadata": {},
   "outputs": [],
   "source": [
    "sarangani_1_wind= rescaled_wind(sarangani_1_dir,sarangani_1_speed)"
   ]
  },
  {
   "cell_type": "code",
   "execution_count": 60,
   "metadata": {},
   "outputs": [],
   "source": [
    "sarangani_1_ave = get_mean(sarangani_1)"
   ]
  },
  {
   "cell_type": "code",
   "execution_count": 61,
   "metadata": {},
   "outputs": [],
   "source": [
    "sarangani_1_sum = get_sum(sarangani_1)"
   ]
  },
  {
   "cell_type": "code",
   "execution_count": 70,
   "metadata": {},
   "outputs": [],
   "source": [
    "sarangani_1_mode= get_mode(sarangani_1)"
   ]
  },
  {
   "cell_type": "code",
   "execution_count": 71,
   "metadata": {},
   "outputs": [],
   "source": [
    "sarangani_1_not_wind = pd.concat([sarangani_1_ave, sarangani_1_sum,sarangani_1_mode],axis = 1)"
   ]
  },
  {
   "cell_type": "code",
   "execution_count": 74,
   "metadata": {},
   "outputs": [],
   "source": [
    "sarangani_1_final = sarangani_1_wind.merge(sarangani_1_not_wind , how='inner',on='year')"
   ]
  },
  {
   "cell_type": "markdown",
   "metadata": {},
   "source": [
    "### Lower Mainit"
   ]
  },
  {
   "cell_type": "code",
   "execution_count": 75,
   "metadata": {},
   "outputs": [],
   "source": [
    "sarangani_2 = pd.read_csv(r\"D:\\Thesis\\Datasets\\12 - Sarangani\\lower mainit.csv\",header = 2) "
   ]
  },
  {
   "cell_type": "code",
   "execution_count": 76,
   "metadata": {},
   "outputs": [],
   "source": [
    "sarangani_2 = extract_year_date(sarangani_2)"
   ]
  },
  {
   "cell_type": "code",
   "execution_count": 77,
   "metadata": {},
   "outputs": [],
   "source": [
    "sarangani_2_dir = aggregate_wind_dir(sarangani_2)"
   ]
  },
  {
   "cell_type": "code",
   "execution_count": 78,
   "metadata": {},
   "outputs": [],
   "source": [
    "sarangani_2_speed = aggregate_wind_speed(sarangani_2,sarangani_2_dir)"
   ]
  },
  {
   "cell_type": "code",
   "execution_count": 79,
   "metadata": {},
   "outputs": [],
   "source": [
    "sarangani_2_wind= rescaled_wind(sarangani_2_dir,sarangani_2_speed)"
   ]
  },
  {
   "cell_type": "code",
   "execution_count": 80,
   "metadata": {},
   "outputs": [],
   "source": [
    "sarangani_2_ave = get_mean(sarangani_2)"
   ]
  },
  {
   "cell_type": "code",
   "execution_count": 81,
   "metadata": {},
   "outputs": [],
   "source": [
    "sarangani_2_sum = get_sum(sarangani_2)"
   ]
  },
  {
   "cell_type": "code",
   "execution_count": 82,
   "metadata": {},
   "outputs": [],
   "source": [
    "sarangani_2_mode = get_mode(sarangani_2)"
   ]
  },
  {
   "cell_type": "code",
   "execution_count": 83,
   "metadata": {},
   "outputs": [],
   "source": [
    "sarangani_2_not_wind = pd.concat([sarangani_2_ave, sarangani_2_sum,sarangani_2_mode],axis = 1)"
   ]
  },
  {
   "cell_type": "code",
   "execution_count": 84,
   "metadata": {},
   "outputs": [],
   "source": [
    "sarangani_2_final = sarangani_2_wind.merge(sarangani_2_not_wind , how='inner',on='year')"
   ]
  },
  {
   "cell_type": "markdown",
   "metadata": {},
   "source": [
    "### For Sarangani"
   ]
  },
  {
   "cell_type": "code",
   "execution_count": 85,
   "metadata": {},
   "outputs": [],
   "source": [
    "sarangani = pd.concat([sarangani_1_final,sarangani_2_final],axis = 0)"
   ]
  },
  {
   "cell_type": "code",
   "execution_count": 86,
   "metadata": {},
   "outputs": [],
   "source": [
    "regional_mode = region_mode(sarangani)"
   ]
  },
  {
   "cell_type": "code",
   "execution_count": 87,
   "metadata": {},
   "outputs": [],
   "source": [
    "regional_mode = aggregate_region_windSpeed(sarangani,regional_mode)"
   ]
  },
  {
   "cell_type": "code",
   "execution_count": 88,
   "metadata": {},
   "outputs": [],
   "source": [
    "regional_mean = region_mean(sarangani)"
   ]
  },
  {
   "cell_type": "code",
   "execution_count": 89,
   "metadata": {},
   "outputs": [],
   "source": [
    "sarangani_annual = regional_mode.merge(regional_mean , how='inner',on='year')"
   ]
  },
  {
   "cell_type": "code",
   "execution_count": 90,
   "metadata": {},
   "outputs": [],
   "source": [
    "sarangani_annual.insert(loc = 1, column= \"Location\", value = \"SARANGANI\")"
   ]
  },
  {
   "cell_type": "code",
   "execution_count": 91,
   "metadata": {},
   "outputs": [],
   "source": [
    "sarangani_annual.to_csv('SARANGANI.csv')"
   ]
  },
  {
   "cell_type": "markdown",
   "metadata": {},
   "source": [
    "# Region 13"
   ]
  },
  {
   "cell_type": "markdown",
   "metadata": {},
   "source": [
    "## Agusan del Norte"
   ]
  },
  {
   "cell_type": "code",
   "execution_count": 525,
   "metadata": {},
   "outputs": [],
   "source": [
    "agusan_norte_1 = pd.read_csv(r\"D:\\Thesis\\Datasets\\13 - Agusan del Norte\\Casiklan, Las Nieves.csv\",header = 2) "
   ]
  },
  {
   "cell_type": "code",
   "execution_count": 526,
   "metadata": {},
   "outputs": [],
   "source": [
    "agusan_norte_1 = extract_year_date(agusan_norte_1)"
   ]
  },
  {
   "cell_type": "code",
   "execution_count": 527,
   "metadata": {},
   "outputs": [],
   "source": [
    "agusan_norte_1_dir = aggregate_wind_dir(agusan_norte_1)"
   ]
  },
  {
   "cell_type": "code",
   "execution_count": 528,
   "metadata": {},
   "outputs": [],
   "source": [
    "agusan_norte_1_speed = aggregate_wind_speed(agusan_norte_1,agusan_norte_1_dir)"
   ]
  },
  {
   "cell_type": "code",
   "execution_count": 529,
   "metadata": {},
   "outputs": [],
   "source": [
    "agusan_norte_1_wind= rescaled_wind(agusan_norte_1_dir,agusan_norte_1_speed)"
   ]
  },
  {
   "cell_type": "code",
   "execution_count": 530,
   "metadata": {},
   "outputs": [],
   "source": [
    "agusan_norte_1_ave = get_mean(agusan_norte_1)"
   ]
  },
  {
   "cell_type": "code",
   "execution_count": 531,
   "metadata": {},
   "outputs": [],
   "source": [
    "agusan_norte_1_sum = get_sum(agusan_norte_1)"
   ]
  },
  {
   "cell_type": "code",
   "execution_count": 532,
   "metadata": {},
   "outputs": [],
   "source": [
    "agusan_norte_1_mode = get_mode(agusan_norte_1)"
   ]
  },
  {
   "cell_type": "code",
   "execution_count": 533,
   "metadata": {},
   "outputs": [],
   "source": [
    "agusan_norte_1_not_wind = pd.concat([agusan_norte_1_ave, agusan_norte_1_sum,agusan_norte_1_mode],axis = 1)"
   ]
  },
  {
   "cell_type": "code",
   "execution_count": 534,
   "metadata": {},
   "outputs": [],
   "source": [
    "agusan_norte_1_final = agusan_norte_1_wind.merge(agusan_norte_1_not_wind , how='inner',on='year')"
   ]
  },
  {
   "cell_type": "code",
   "execution_count": 535,
   "metadata": {},
   "outputs": [],
   "source": [
    "agusan_norte_1_final.insert(loc = 1, column= \"Location\", value = 'AGUSAN DEL NORTE')"
   ]
  },
  {
   "cell_type": "code",
   "execution_count": 536,
   "metadata": {},
   "outputs": [],
   "source": [
    "agusan_norte_1_final.to_csv(\"AGUSAN DEL NORTE.csv\")"
   ]
  },
  {
   "cell_type": "markdown",
   "metadata": {},
   "source": [
    "## Agusan del Sur"
   ]
  },
  {
   "cell_type": "code",
   "execution_count": 537,
   "metadata": {},
   "outputs": [],
   "source": [
    "agusan_sur_1 = pd.read_csv(r\"D:\\Thesis\\Datasets\\13 - Agusan del Sur\\Rankert's Coffee Farm.csv\",header = 2) "
   ]
  },
  {
   "cell_type": "code",
   "execution_count": 538,
   "metadata": {},
   "outputs": [],
   "source": [
    "agusan_sur_1 = extract_year_date(agusan_sur_1)"
   ]
  },
  {
   "cell_type": "code",
   "execution_count": 539,
   "metadata": {},
   "outputs": [],
   "source": [
    "agusan_sur_1_dir = aggregate_wind_dir(agusan_sur_1)"
   ]
  },
  {
   "cell_type": "code",
   "execution_count": 540,
   "metadata": {},
   "outputs": [],
   "source": [
    "agusan_sur_1_speed = aggregate_wind_speed(agusan_sur_1,agusan_sur_1_dir)"
   ]
  },
  {
   "cell_type": "code",
   "execution_count": 541,
   "metadata": {},
   "outputs": [],
   "source": [
    "agusan_sur_1_wind= rescaled_wind(agusan_sur_1_dir,agusan_sur_1_speed)"
   ]
  },
  {
   "cell_type": "code",
   "execution_count": 542,
   "metadata": {},
   "outputs": [],
   "source": [
    "agusan_sur_1_ave = get_mean(agusan_sur_1)"
   ]
  },
  {
   "cell_type": "code",
   "execution_count": 543,
   "metadata": {},
   "outputs": [],
   "source": [
    "agusan_sur_1_sum = get_sum(agusan_sur_1)"
   ]
  },
  {
   "cell_type": "code",
   "execution_count": 544,
   "metadata": {},
   "outputs": [],
   "source": [
    "agusan_sur_1_mode = get_mode(agusan_sur_1)"
   ]
  },
  {
   "cell_type": "code",
   "execution_count": 545,
   "metadata": {},
   "outputs": [],
   "source": [
    "agusan_sur_1_not_wind = pd.concat([agusan_sur_1_ave, agusan_sur_1_sum,agusan_sur_1_mode],axis = 1)"
   ]
  },
  {
   "cell_type": "code",
   "execution_count": 546,
   "metadata": {},
   "outputs": [],
   "source": [
    "agusan_sur_1_final = agusan_sur_1_wind.merge(agusan_sur_1_not_wind , how='inner',on='year')"
   ]
  },
  {
   "cell_type": "code",
   "execution_count": 547,
   "metadata": {},
   "outputs": [],
   "source": [
    "agusan_sur_1_final.insert(loc = 1, column= \"Location\", value = \"AGUSAN DEL SUR\")"
   ]
  },
  {
   "cell_type": "code",
   "execution_count": 548,
   "metadata": {},
   "outputs": [],
   "source": [
    "agusan_sur_1_final.to_csv(\"AGUSAN DEL SUR.csv\")"
   ]
  },
  {
   "cell_type": "markdown",
   "metadata": {},
   "source": [
    "## Surigao del Sur"
   ]
  },
  {
   "cell_type": "code",
   "execution_count": 105,
   "metadata": {},
   "outputs": [],
   "source": [
    "surigao_sur_1 = pd.read_csv(r\"D:\\Thesis\\Datasets\\13 - Surigao del Sur\\Amparitas Integrated Natural Farm.csv\",header = 2) "
   ]
  },
  {
   "cell_type": "code",
   "execution_count": 106,
   "metadata": {},
   "outputs": [],
   "source": [
    "surigao_sur_1= extract_year_date(surigao_sur_1)"
   ]
  },
  {
   "cell_type": "code",
   "execution_count": 107,
   "metadata": {},
   "outputs": [],
   "source": [
    "surigao_sur_1_dir = aggregate_wind_dir(surigao_sur_1)"
   ]
  },
  {
   "cell_type": "code",
   "execution_count": 108,
   "metadata": {},
   "outputs": [],
   "source": [
    "surigao_sur_1_speed = aggregate_wind_speed(surigao_sur_1,surigao_sur_1_dir)"
   ]
  },
  {
   "cell_type": "code",
   "execution_count": 109,
   "metadata": {},
   "outputs": [],
   "source": [
    "surigao_sur_1_wind= rescaled_wind(surigao_sur_1_dir,surigao_sur_1_speed)"
   ]
  },
  {
   "cell_type": "code",
   "execution_count": 110,
   "metadata": {},
   "outputs": [],
   "source": [
    "surigao_sur_1_ave = get_mean(surigao_sur_1)\n"
   ]
  },
  {
   "cell_type": "code",
   "execution_count": 111,
   "metadata": {},
   "outputs": [],
   "source": [
    "surigao_sur_1_sum = get_sum(surigao_sur_1)"
   ]
  },
  {
   "cell_type": "code",
   "execution_count": 112,
   "metadata": {},
   "outputs": [],
   "source": [
    "surigao_sur_1_mode = get_mode(surigao_sur_1)"
   ]
  },
  {
   "cell_type": "code",
   "execution_count": 113,
   "metadata": {},
   "outputs": [],
   "source": [
    "surigao_sur_1_not_wind = pd.concat([surigao_sur_1_ave, surigao_sur_1_sum,surigao_sur_1_mode],axis = 1)"
   ]
  },
  {
   "cell_type": "code",
   "execution_count": 114,
   "metadata": {},
   "outputs": [],
   "source": [
    "surigao_sur_1_final = surigao_sur_1_wind.merge(surigao_sur_1_not_wind , how='inner',on='year')"
   ]
  },
  {
   "cell_type": "code",
   "execution_count": 115,
   "metadata": {},
   "outputs": [],
   "source": [
    "surigao_sur_1_final.insert(loc = 1, column= \"Location\", value = \"SURIGAO DEL SUR\")"
   ]
  },
  {
   "cell_type": "code",
   "execution_count": 116,
   "metadata": {},
   "outputs": [],
   "source": [
    "surigao_sur_1_final.to_csv(\"SURIGAO DEL SUR.csv\")"
   ]
  },
  {
   "cell_type": "markdown",
   "metadata": {},
   "source": [
    "# BARMM"
   ]
  },
  {
   "cell_type": "markdown",
   "metadata": {},
   "source": [
    "## Basilan"
   ]
  },
  {
   "cell_type": "code",
   "execution_count": 118,
   "metadata": {},
   "outputs": [],
   "source": [
    "basilan_1 = pd.read_csv(r\"D:\\Thesis\\Datasets\\BARMM - Basilan\\isabela.csv\",header = 2) "
   ]
  },
  {
   "cell_type": "code",
   "execution_count": 119,
   "metadata": {},
   "outputs": [],
   "source": [
    "basilan_1= extract_year_date(basilan_1)"
   ]
  },
  {
   "cell_type": "code",
   "execution_count": 120,
   "metadata": {},
   "outputs": [],
   "source": [
    "basilan_1_dir = aggregate_wind_dir(basilan_1)"
   ]
  },
  {
   "cell_type": "code",
   "execution_count": 121,
   "metadata": {},
   "outputs": [],
   "source": [
    "basilan_1_speed = aggregate_wind_speed(basilan_1,basilan_1_dir)"
   ]
  },
  {
   "cell_type": "code",
   "execution_count": 122,
   "metadata": {},
   "outputs": [],
   "source": [
    "basilan_1_wind= rescaled_wind(basilan_1_dir,basilan_1_speed)"
   ]
  },
  {
   "cell_type": "code",
   "execution_count": 123,
   "metadata": {},
   "outputs": [],
   "source": [
    "basilan_1_ave = get_mean(basilan_1)"
   ]
  },
  {
   "cell_type": "code",
   "execution_count": 124,
   "metadata": {},
   "outputs": [],
   "source": [
    "basilan_1_sum = get_sum(basilan_1)"
   ]
  },
  {
   "cell_type": "code",
   "execution_count": 125,
   "metadata": {},
   "outputs": [],
   "source": [
    "basilan_1_mode = get_mode(basilan_1)"
   ]
  },
  {
   "cell_type": "code",
   "execution_count": 126,
   "metadata": {},
   "outputs": [],
   "source": [
    "basilan_1_not_wind = pd.concat([basilan_1_ave, basilan_1_sum,basilan_1_mode],axis = 1)"
   ]
  },
  {
   "cell_type": "code",
   "execution_count": 127,
   "metadata": {},
   "outputs": [],
   "source": [
    "basilan_1_final = basilan_1_wind.merge(basilan_1_not_wind , how='inner',on='year')\n"
   ]
  },
  {
   "cell_type": "code",
   "execution_count": 128,
   "metadata": {},
   "outputs": [],
   "source": [
    "basilan_1_final.insert(loc = 1, column= \"Location\", value = 'BASILAN')"
   ]
  },
  {
   "cell_type": "code",
   "execution_count": 129,
   "metadata": {},
   "outputs": [],
   "source": [
    "basilan_1_final.to_csv(\"BASILAN.csv\")"
   ]
  },
  {
   "cell_type": "markdown",
   "metadata": {},
   "source": [
    "## Lanao del Sur"
   ]
  },
  {
   "cell_type": "code",
   "execution_count": 9,
   "metadata": {},
   "outputs": [],
   "source": [
    "lanao_sur_1 = pd.read_csv(r\"D:\\Thesis\\Datasets\\BARMM - Lanao del Sur\\TOCAO Agri-farm.csv\",header = 2) "
   ]
  },
  {
   "cell_type": "code",
   "execution_count": 11,
   "metadata": {},
   "outputs": [],
   "source": [
    "lanao_sur_1 = extract_year_date(lanao_sur_1)"
   ]
  },
  {
   "cell_type": "code",
   "execution_count": 12,
   "metadata": {},
   "outputs": [],
   "source": [
    "lanao_sur_1_dir = aggregate_wind_dir(lanao_sur_1)"
   ]
  },
  {
   "cell_type": "code",
   "execution_count": 13,
   "metadata": {},
   "outputs": [],
   "source": [
    "lanao_sur_1_speed = aggregate_wind_speed(lanao_sur_1,lanao_sur_1_dir)"
   ]
  },
  {
   "cell_type": "code",
   "execution_count": 14,
   "metadata": {},
   "outputs": [],
   "source": [
    "lanao_sur_1_wind= rescaled_wind(lanao_sur_1_dir,lanao_sur_1_speed)"
   ]
  },
  {
   "cell_type": "code",
   "execution_count": 23,
   "metadata": {},
   "outputs": [],
   "source": [
    "lanao_sur_1_ave = get_mean(lanao_sur_1)"
   ]
  },
  {
   "cell_type": "code",
   "execution_count": 24,
   "metadata": {},
   "outputs": [],
   "source": [
    "lanao_sur_1_sum = get_sum(lanao_sur_1)"
   ]
  },
  {
   "cell_type": "code",
   "execution_count": 25,
   "metadata": {},
   "outputs": [],
   "source": [
    "lanao_sur_1_mode = get_mode(lanao_sur_1)"
   ]
  },
  {
   "cell_type": "code",
   "execution_count": 26,
   "metadata": {},
   "outputs": [],
   "source": [
    "lanao_sur_1_not_wind = pd.concat([lanao_sur_1_ave, lanao_sur_1_sum,lanao_sur_1_mode],axis = 1)"
   ]
  },
  {
   "cell_type": "code",
   "execution_count": 27,
   "metadata": {},
   "outputs": [],
   "source": [
    "lanao_sur_1_final = lanao_sur_1_wind.merge(lanao_sur_1_not_wind , how='inner',on='year')"
   ]
  },
  {
   "cell_type": "code",
   "execution_count": 28,
   "metadata": {},
   "outputs": [],
   "source": [
    "lanao_sur_1_final.insert(loc = 1, column= \"Location\", value = \"LANAO DEL SUR\")"
   ]
  },
  {
   "cell_type": "code",
   "execution_count": 29,
   "metadata": {},
   "outputs": [],
   "source": [
    "lanao_sur_1_final.to_csv('LANAO DEL SUR.csv')"
   ]
  },
  {
   "cell_type": "markdown",
   "metadata": {},
   "source": [
    "## Maguindanao "
   ]
  },
  {
   "cell_type": "code",
   "execution_count": 30,
   "metadata": {},
   "outputs": [],
   "source": [
    "maguindanao_1 = pd.read_csv(r\"D:\\Thesis\\Datasets\\BARMM - Maguindanao\\South Upi, Maguindanao.csv\",header = 2) "
   ]
  },
  {
   "cell_type": "code",
   "execution_count": 31,
   "metadata": {},
   "outputs": [],
   "source": [
    "maguindanao_1 = extract_year_date(maguindanao_1)"
   ]
  },
  {
   "cell_type": "code",
   "execution_count": 32,
   "metadata": {},
   "outputs": [],
   "source": [
    "maguindanao_1_dir = aggregate_wind_dir(maguindanao_1)"
   ]
  },
  {
   "cell_type": "code",
   "execution_count": 33,
   "metadata": {},
   "outputs": [],
   "source": [
    "maguindanao_1_speed = aggregate_wind_speed(maguindanao_1,maguindanao_1_dir)"
   ]
  },
  {
   "cell_type": "code",
   "execution_count": 34,
   "metadata": {},
   "outputs": [],
   "source": [
    "maguindanao_1_wind= rescaled_wind(maguindanao_1_dir,maguindanao_1_speed)"
   ]
  },
  {
   "cell_type": "code",
   "execution_count": 35,
   "metadata": {},
   "outputs": [],
   "source": [
    "maguindanao_1_ave = get_mean(maguindanao_1)"
   ]
  },
  {
   "cell_type": "code",
   "execution_count": 36,
   "metadata": {},
   "outputs": [],
   "source": [
    "maguindanao_1_sum = get_sum(maguindanao_1)"
   ]
  },
  {
   "cell_type": "code",
   "execution_count": 37,
   "metadata": {},
   "outputs": [],
   "source": [
    "maguindanao_1_mode = get_mode(maguindanao_1)"
   ]
  },
  {
   "cell_type": "code",
   "execution_count": 38,
   "metadata": {},
   "outputs": [],
   "source": [
    "maguindanao_1_not_wind = pd.concat([maguindanao_1_ave, maguindanao_1_sum,maguindanao_1_mode],axis = 1)"
   ]
  },
  {
   "cell_type": "code",
   "execution_count": 39,
   "metadata": {},
   "outputs": [],
   "source": [
    "maguindanao_1_final = maguindanao_1_wind.merge(maguindanao_1_not_wind , how='inner',on='year')"
   ]
  },
  {
   "cell_type": "code",
   "execution_count": 40,
   "metadata": {},
   "outputs": [],
   "source": [
    "maguindanao_1_final.insert(loc = 1, column= \"Location\", value = \"MAGUINDANAO\")"
   ]
  },
  {
   "cell_type": "markdown",
   "metadata": {},
   "source": [
    "## Sulu"
   ]
  },
  {
   "cell_type": "code",
   "execution_count": 42,
   "metadata": {},
   "outputs": [],
   "source": [
    "sulu_1 = pd.read_csv(r\"D:\\Thesis\\Datasets\\BARMM - Sulu\\Dennis Coffee.csv\",header = 2) "
   ]
  },
  {
   "cell_type": "code",
   "execution_count": 43,
   "metadata": {},
   "outputs": [],
   "source": [
    "sulu_1= extract_year_date(sulu_1)"
   ]
  },
  {
   "cell_type": "code",
   "execution_count": 44,
   "metadata": {},
   "outputs": [],
   "source": [
    "sulu_1_dir = aggregate_wind_dir(sulu_1)"
   ]
  },
  {
   "cell_type": "code",
   "execution_count": 45,
   "metadata": {},
   "outputs": [],
   "source": [
    "sulu_1_speed = aggregate_wind_speed(sulu_1,sulu_1_dir )"
   ]
  },
  {
   "cell_type": "code",
   "execution_count": 46,
   "metadata": {},
   "outputs": [],
   "source": [
    "sulu_1_wind= rescaled_wind(sulu_1_dir,sulu_1_speed)"
   ]
  },
  {
   "cell_type": "code",
   "execution_count": 47,
   "metadata": {},
   "outputs": [],
   "source": [
    "sulu_1_ave = get_mean(sulu_1)"
   ]
  },
  {
   "cell_type": "code",
   "execution_count": 48,
   "metadata": {},
   "outputs": [],
   "source": [
    "sulu_1_sum = get_sum(sulu_1)"
   ]
  },
  {
   "cell_type": "code",
   "execution_count": 49,
   "metadata": {},
   "outputs": [],
   "source": [
    "sulu_1_mode = get_mode(sulu_1)"
   ]
  },
  {
   "cell_type": "code",
   "execution_count": 50,
   "metadata": {},
   "outputs": [],
   "source": [
    "sulu_1_not_wind = pd.concat([sulu_1_ave, sulu_1_sum,sulu_1_mode],axis = 1)"
   ]
  },
  {
   "cell_type": "code",
   "execution_count": 51,
   "metadata": {},
   "outputs": [],
   "source": [
    "sulu_1_final = sulu_1_wind.merge(sulu_1_not_wind , how='inner',on='year')"
   ]
  },
  {
   "cell_type": "code",
   "execution_count": 52,
   "metadata": {},
   "outputs": [],
   "source": [
    "sulu_1_final.insert(loc = 1, column= \"Location\", value = \"SULU\")"
   ]
  },
  {
   "cell_type": "code",
   "execution_count": 53,
   "metadata": {},
   "outputs": [],
   "source": [
    "sulu_1_final.to_csv(\"SULU.csv\")"
   ]
  }
 ],
 "metadata": {
  "kernelspec": {
   "display_name": "Python 3",
   "language": "python",
   "name": "python3"
  },
  "language_info": {
   "codemirror_mode": {
    "name": "ipython",
    "version": 3
   },
   "file_extension": ".py",
   "mimetype": "text/x-python",
   "name": "python",
   "nbconvert_exporter": "python",
   "pygments_lexer": "ipython3",
   "version": "3.11.4"
  },
  "orig_nbformat": 4
 },
 "nbformat": 4,
 "nbformat_minor": 2
}
