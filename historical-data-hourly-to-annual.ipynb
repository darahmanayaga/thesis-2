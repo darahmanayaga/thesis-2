{
 "cells": [
  {
   "cell_type": "code",
   "execution_count": 1,
   "metadata": {},
   "outputs": [],
   "source": [
    "import pandas as pd\n",
    "import datetime as dt"
   ]
  },
  {
   "cell_type": "code",
   "execution_count": null,
   "metadata": {},
   "outputs": [],
   "source": [
    "frames = [zamboanga_norte_annual, zamboanga_sur_annual, zamboanga_sibugay_annual,\n",
    "        zamboanga_city_annual, bukidnon_annual,camiguin_annual, lanao_del_norte_annual,\n",
    "        misamis_occidental_annual, misamis_oriental_annual, davao_de_oro_annual,\n",
    "        davao_del_norte_annual, davao_del_sur_annual, davao_occidental_annual,\n",
    "        davao_oriental_annual, davao_city_annual, cotabato_annual, sarangani_annual, \n",
    "        sultan_kudarat_annual, south_cotabato_annual, agusan_norte_annual, agusan_sur_annual,\n",
    "        dinagat_annual, surigao_norte_annual, surigao_sur_annual, basilan_annual,\n",
    "        lanao_sur_annual, maguindanao_annual, sulu_annual, tawi2_annual]\n",
    "result = pd.concat(frames)\n",
    "print(result)"
   ]
  },
  {
   "cell_type": "code",
   "execution_count": 225,
   "metadata": {},
   "outputs": [],
   "source": [
    "result.to_csv('Merged Historical Weather Annual Data.csv')"
   ]
  },
  {
   "cell_type": "markdown",
   "metadata": {},
   "source": [
    "# Region 9 (Zamboanga Peninsula)"
   ]
  },
  {
   "cell_type": "markdown",
   "metadata": {},
   "source": [
    "### Zamboanga del Norte"
   ]
  },
  {
   "cell_type": "code",
   "execution_count": 114,
   "metadata": {},
   "outputs": [],
   "source": [
    "zamboanga_norte = pd.read_csv(r\"csv-files/Region 9 - Zamboanga del Norte.csv\", header = 2)"
   ]
  },
  {
   "cell_type": "code",
   "execution_count": 115,
   "metadata": {},
   "outputs": [],
   "source": [
    "zamboanga_norte['time'] = pd.to_datetime(zamboanga_norte['time'])"
   ]
  },
  {
   "cell_type": "code",
   "execution_count": 116,
   "metadata": {},
   "outputs": [],
   "source": [
    "zamboanga_norte['year'] = zamboanga_norte['time'].dt.year"
   ]
  },
  {
   "cell_type": "code",
   "execution_count": 117,
   "metadata": {},
   "outputs": [],
   "source": [
    "zamboanga_norte_annual = zamboanga_norte.groupby(\"year\")[['temperature_2m (°C)', 'relativehumidity_2m (%)',\n",
    "       'dewpoint_2m (°C)', 'rain (mm)',\n",
    "       'surface_pressure (hPa)', 'cloudcover (%)',\n",
    "       'et0_fao_evapotranspiration (mm)', 'vapor_pressure_deficit (kPa)',\n",
    "       'windspeed_10m (km/h)', 'winddirection_10m (°)', 'windgusts_10m (km/h)',\n",
    "       'soil_temperature_28_to_100cm (°C)',\n",
    "       'soil_moisture_28_to_100cm (m³/m³)', 'direct_radiation (W/m²)',\n",
    "       'diffuse_radiation (W/m²)']].mean()"
   ]
  },
  {
   "cell_type": "code",
   "execution_count": 119,
   "metadata": {},
   "outputs": [],
   "source": [
    "zamboanga_norte_annual['weathercode (wmo code)'] = zamboanga_norte.groupby(['year'])['weathercode (wmo code)'].agg(pd.Series.mode)"
   ]
  },
  {
   "cell_type": "code",
   "execution_count": 120,
   "metadata": {},
   "outputs": [],
   "source": [
    "zamboanga_norte_annual['location'] = 'Zamboanga del Norte'"
   ]
  },
  {
   "cell_type": "code",
   "execution_count": 121,
   "metadata": {},
   "outputs": [],
   "source": [
    "zamboanga_norte_annual = zamboanga_norte_annual.loc[:,['location', 'weathercode (wmo code)', 'temperature_2m (°C)', 'relativehumidity_2m (%)',\n",
    "       'dewpoint_2m (°C)', 'rain (mm)',\n",
    "       'surface_pressure (hPa)', 'cloudcover (%)',\n",
    "       'et0_fao_evapotranspiration (mm)', 'vapor_pressure_deficit (kPa)',\n",
    "       'windspeed_10m (km/h)', 'winddirection_10m (°)', 'windgusts_10m (km/h)',\n",
    "       'soil_temperature_28_to_100cm (°C)',\n",
    "       'soil_moisture_28_to_100cm (m³/m³)', 'direct_radiation (W/m²)',\n",
    "       'diffuse_radiation (W/m²)']]"
   ]
  },
  {
   "cell_type": "code",
   "execution_count": null,
   "metadata": {},
   "outputs": [],
   "source": [
    "zamboanga_norte_annual"
   ]
  },
  {
   "cell_type": "markdown",
   "metadata": {},
   "source": [
    "### Zamboanga del Sur"
   ]
  },
  {
   "cell_type": "code",
   "execution_count": 122,
   "metadata": {},
   "outputs": [],
   "source": [
    "zamboanga_sur = pd.read_csv(r\"csv-files/Region 9 - Zamboanga del Sur.csv\", header = 2)"
   ]
  },
  {
   "cell_type": "code",
   "execution_count": 123,
   "metadata": {},
   "outputs": [],
   "source": [
    "zamboanga_sur['time'] = pd.to_datetime(zamboanga_sur['time'])"
   ]
  },
  {
   "cell_type": "code",
   "execution_count": 124,
   "metadata": {},
   "outputs": [],
   "source": [
    "zamboanga_sur['year'] = zamboanga_sur['time'].dt.year"
   ]
  },
  {
   "cell_type": "code",
   "execution_count": 125,
   "metadata": {},
   "outputs": [],
   "source": [
    "zamboanga_sur_annual = zamboanga_sur.groupby(\"year\")[['temperature_2m (°C)', 'relativehumidity_2m (%)',\n",
    "       'dewpoint_2m (°C)', 'rain (mm)',\n",
    "       'surface_pressure (hPa)', 'cloudcover (%)',\n",
    "       'et0_fao_evapotranspiration (mm)', 'vapor_pressure_deficit (kPa)',\n",
    "       'windspeed_10m (km/h)', 'winddirection_10m (°)', 'windgusts_10m (km/h)',\n",
    "       'soil_temperature_28_to_100cm (°C)',\n",
    "       'soil_moisture_28_to_100cm (m³/m³)', 'direct_radiation (W/m²)',\n",
    "       'diffuse_radiation (W/m²)']].mean()"
   ]
  },
  {
   "cell_type": "code",
   "execution_count": 126,
   "metadata": {},
   "outputs": [],
   "source": [
    "zamboanga_sur_annual['weathercode (wmo code)'] = zamboanga_sur.groupby(['year'])['weathercode (wmo code)'].agg(pd.Series.mode)"
   ]
  },
  {
   "cell_type": "code",
   "execution_count": 127,
   "metadata": {},
   "outputs": [],
   "source": [
    "zamboanga_sur_annual['location'] = ' Zamboanga del Sur'"
   ]
  },
  {
   "cell_type": "code",
   "execution_count": 128,
   "metadata": {},
   "outputs": [],
   "source": [
    "zamboanga_sur_annual = zamboanga_sur_annual.loc[:,['location', 'weathercode (wmo code)', 'temperature_2m (°C)', 'relativehumidity_2m (%)',\n",
    "       'dewpoint_2m (°C)', 'rain (mm)',\n",
    "       'surface_pressure (hPa)', 'cloudcover (%)',\n",
    "       'et0_fao_evapotranspiration (mm)', 'vapor_pressure_deficit (kPa)',\n",
    "       'windspeed_10m (km/h)', 'winddirection_10m (°)', 'windgusts_10m (km/h)',\n",
    "       'soil_temperature_28_to_100cm (°C)',\n",
    "       'soil_moisture_28_to_100cm (m³/m³)', 'direct_radiation (W/m²)',\n",
    "       'diffuse_radiation (W/m²)']]"
   ]
  },
  {
   "cell_type": "code",
   "execution_count": null,
   "metadata": {},
   "outputs": [],
   "source": [
    "zamboanga_sur_annual"
   ]
  },
  {
   "cell_type": "markdown",
   "metadata": {},
   "source": [
    "### Zamboanga Sibugay"
   ]
  },
  {
   "cell_type": "code",
   "execution_count": 129,
   "metadata": {},
   "outputs": [],
   "source": [
    "zamboanga_sibugay = pd.read_csv(r\"csv-files/Region 9 - Zamboanga Sibugay.csv\", header = 2)"
   ]
  },
  {
   "cell_type": "code",
   "execution_count": 130,
   "metadata": {},
   "outputs": [],
   "source": [
    "zamboanga_sibugay['time'] = pd.to_datetime(zamboanga_sibugay['time'])"
   ]
  },
  {
   "cell_type": "code",
   "execution_count": 131,
   "metadata": {},
   "outputs": [],
   "source": [
    "zamboanga_sibugay['year'] = zamboanga_sibugay['time'].dt.year"
   ]
  },
  {
   "cell_type": "code",
   "execution_count": 132,
   "metadata": {},
   "outputs": [],
   "source": [
    "zamboanga_sibugay_annual = zamboanga_sibugay.groupby(\"year\")[['temperature_2m (°C)', 'relativehumidity_2m (%)',\n",
    "       'dewpoint_2m (°C)', 'rain (mm)',\n",
    "       'surface_pressure (hPa)', 'cloudcover (%)',\n",
    "       'et0_fao_evapotranspiration (mm)', 'vapor_pressure_deficit (kPa)',\n",
    "       'windspeed_10m (km/h)', 'winddirection_10m (°)', 'windgusts_10m (km/h)',\n",
    "       'soil_temperature_28_to_100cm (°C)',\n",
    "       'soil_moisture_28_to_100cm (m³/m³)', 'direct_radiation (W/m²)',\n",
    "       'diffuse_radiation (W/m²)']].mean()"
   ]
  },
  {
   "cell_type": "code",
   "execution_count": 133,
   "metadata": {},
   "outputs": [],
   "source": [
    "zamboanga_sibugay_annual['weathercode (wmo code)'] = zamboanga_sibugay.groupby(['year'])['weathercode (wmo code)'].agg(pd.Series.mode)"
   ]
  },
  {
   "cell_type": "code",
   "execution_count": 134,
   "metadata": {},
   "outputs": [],
   "source": [
    "zamboanga_sibugay_annual['location'] = ' Zamboanga Sibugay'"
   ]
  },
  {
   "cell_type": "code",
   "execution_count": 135,
   "metadata": {},
   "outputs": [],
   "source": [
    "zamboanga_sibugay_annual = zamboanga_sibugay_annual.loc[:,['location', 'weathercode (wmo code)', 'temperature_2m (°C)', 'relativehumidity_2m (%)',\n",
    "       'dewpoint_2m (°C)', 'rain (mm)',\n",
    "       'surface_pressure (hPa)', 'cloudcover (%)',\n",
    "       'et0_fao_evapotranspiration (mm)', 'vapor_pressure_deficit (kPa)',\n",
    "       'windspeed_10m (km/h)', 'winddirection_10m (°)', 'windgusts_10m (km/h)',\n",
    "       'soil_temperature_28_to_100cm (°C)',\n",
    "       'soil_moisture_28_to_100cm (m³/m³)', 'direct_radiation (W/m²)',\n",
    "       'diffuse_radiation (W/m²)']]"
   ]
  },
  {
   "cell_type": "code",
   "execution_count": null,
   "metadata": {},
   "outputs": [],
   "source": [
    "zamboanga_sibugay_annual"
   ]
  },
  {
   "cell_type": "markdown",
   "metadata": {},
   "source": [
    "### Zamboanga City"
   ]
  },
  {
   "cell_type": "code",
   "execution_count": 136,
   "metadata": {},
   "outputs": [],
   "source": [
    "zamboanga_city = pd.read_csv(r\"csv-files/Region 9 - Zamboanga City.csv\", header = 2)"
   ]
  },
  {
   "cell_type": "code",
   "execution_count": 137,
   "metadata": {},
   "outputs": [],
   "source": [
    "zamboanga_city['time'] = pd.to_datetime(zamboanga_city['time'])"
   ]
  },
  {
   "cell_type": "code",
   "execution_count": 138,
   "metadata": {},
   "outputs": [],
   "source": [
    "zamboanga_city['year'] = zamboanga_city['time'].dt.year"
   ]
  },
  {
   "cell_type": "code",
   "execution_count": 139,
   "metadata": {},
   "outputs": [],
   "source": [
    "zamboanga_city_annual = zamboanga_city.groupby(\"year\")[['temperature_2m (°C)', 'relativehumidity_2m (%)',\n",
    "       'dewpoint_2m (°C)', 'rain (mm)',\n",
    "       'surface_pressure (hPa)', 'cloudcover (%)',\n",
    "       'et0_fao_evapotranspiration (mm)', 'vapor_pressure_deficit (kPa)',\n",
    "       'windspeed_10m (km/h)', 'winddirection_10m (°)', 'windgusts_10m (km/h)',\n",
    "       'soil_temperature_28_to_100cm (°C)',\n",
    "       'soil_moisture_28_to_100cm (m³/m³)', 'direct_radiation (W/m²)',\n",
    "       'diffuse_radiation (W/m²)']].mean()"
   ]
  },
  {
   "cell_type": "code",
   "execution_count": 140,
   "metadata": {},
   "outputs": [],
   "source": [
    "zamboanga_city_annual['weathercode (wmo code)'] = zamboanga_city.groupby(['year'])['weathercode (wmo code)'].agg(pd.Series.mode)"
   ]
  },
  {
   "cell_type": "code",
   "execution_count": 141,
   "metadata": {},
   "outputs": [],
   "source": [
    "zamboanga_city_annual['location'] = ' Zamboanga City'"
   ]
  },
  {
   "cell_type": "code",
   "execution_count": 142,
   "metadata": {},
   "outputs": [],
   "source": [
    "zamboanga_city_annual = zamboanga_sibugay_annual.loc[:,['location', 'weathercode (wmo code)', 'temperature_2m (°C)', 'relativehumidity_2m (%)',\n",
    "       'dewpoint_2m (°C)', 'rain (mm)',\n",
    "       'surface_pressure (hPa)', 'cloudcover (%)',\n",
    "       'et0_fao_evapotranspiration (mm)', 'vapor_pressure_deficit (kPa)',\n",
    "       'windspeed_10m (km/h)', 'winddirection_10m (°)', 'windgusts_10m (km/h)',\n",
    "       'soil_temperature_28_to_100cm (°C)',\n",
    "       'soil_moisture_28_to_100cm (m³/m³)', 'direct_radiation (W/m²)',\n",
    "       'diffuse_radiation (W/m²)']]"
   ]
  },
  {
   "cell_type": "code",
   "execution_count": null,
   "metadata": {},
   "outputs": [],
   "source": [
    "zamboanga_city_annual"
   ]
  },
  {
   "cell_type": "markdown",
   "metadata": {},
   "source": [
    "# Region 10 (Northern Mindanao)"
   ]
  },
  {
   "cell_type": "markdown",
   "metadata": {},
   "source": [
    "### Bukidnon"
   ]
  },
  {
   "cell_type": "code",
   "execution_count": 143,
   "metadata": {},
   "outputs": [],
   "source": [
    "bukidnon = pd.read_csv(r\"csv-files/Region 10 - Bukidnon.csv\", header = 2)"
   ]
  },
  {
   "cell_type": "code",
   "execution_count": 144,
   "metadata": {},
   "outputs": [],
   "source": [
    "bukidnon['time'] = pd.to_datetime(bukidnon['time'])"
   ]
  },
  {
   "cell_type": "code",
   "execution_count": 145,
   "metadata": {},
   "outputs": [],
   "source": [
    "bukidnon['year'] = bukidnon['time'].dt.year"
   ]
  },
  {
   "cell_type": "code",
   "execution_count": 146,
   "metadata": {},
   "outputs": [],
   "source": [
    "bukidnon_annual = bukidnon.groupby(\"year\")[['temperature_2m (°C)', 'relativehumidity_2m (%)',\n",
    "       'dewpoint_2m (°C)', 'rain (mm)',\n",
    "       'surface_pressure (hPa)', 'cloudcover (%)',\n",
    "       'et0_fao_evapotranspiration (mm)', 'vapor_pressure_deficit (kPa)',\n",
    "       'windspeed_10m (km/h)', 'winddirection_10m (°)', 'windgusts_10m (km/h)',\n",
    "       'soil_temperature_28_to_100cm (°C)',\n",
    "       'soil_moisture_28_to_100cm (m³/m³)', 'direct_radiation (W/m²)',\n",
    "       'diffuse_radiation (W/m²)']].mean()"
   ]
  },
  {
   "cell_type": "code",
   "execution_count": 147,
   "metadata": {},
   "outputs": [],
   "source": [
    "bukidnon_annual['weathercode (wmo code)'] = bukidnon.groupby(['year'])['weathercode (wmo code)'].agg(pd.Series.mode)"
   ]
  },
  {
   "cell_type": "code",
   "execution_count": 148,
   "metadata": {},
   "outputs": [],
   "source": [
    "bukidnon_annual['location'] = ' Bukidnon'"
   ]
  },
  {
   "cell_type": "code",
   "execution_count": 149,
   "metadata": {},
   "outputs": [],
   "source": [
    "bukidnon_annual = bukidnon_annual.loc[:,['location', 'weathercode (wmo code)', 'temperature_2m (°C)', 'relativehumidity_2m (%)',\n",
    "       'dewpoint_2m (°C)', 'rain (mm)',\n",
    "       'surface_pressure (hPa)', 'cloudcover (%)',\n",
    "       'et0_fao_evapotranspiration (mm)', 'vapor_pressure_deficit (kPa)',\n",
    "       'windspeed_10m (km/h)', 'winddirection_10m (°)', 'windgusts_10m (km/h)',\n",
    "       'soil_temperature_28_to_100cm (°C)',\n",
    "       'soil_moisture_28_to_100cm (m³/m³)', 'direct_radiation (W/m²)',\n",
    "       'diffuse_radiation (W/m²)']]"
   ]
  },
  {
   "cell_type": "code",
   "execution_count": null,
   "metadata": {},
   "outputs": [],
   "source": [
    "bukidnon_annual"
   ]
  },
  {
   "cell_type": "markdown",
   "metadata": {},
   "source": [
    "### Camiguin"
   ]
  },
  {
   "cell_type": "code",
   "execution_count": 150,
   "metadata": {},
   "outputs": [],
   "source": [
    "camiguin = pd.read_csv(r\"csv-files/Region 10 - Camiguin.csv\", header = 2)"
   ]
  },
  {
   "cell_type": "code",
   "execution_count": 151,
   "metadata": {},
   "outputs": [],
   "source": [
    "camiguin['time'] = pd.to_datetime(camiguin['time'])"
   ]
  },
  {
   "cell_type": "code",
   "execution_count": 152,
   "metadata": {},
   "outputs": [],
   "source": [
    "camiguin['year'] = camiguin['time'].dt.year"
   ]
  },
  {
   "cell_type": "code",
   "execution_count": 153,
   "metadata": {},
   "outputs": [],
   "source": [
    "camiguin_annual = camiguin.groupby(\"year\")[['temperature_2m (°C)', 'relativehumidity_2m (%)',\n",
    "       'dewpoint_2m (°C)', 'rain (mm)',\n",
    "       'surface_pressure (hPa)', 'cloudcover (%)',\n",
    "       'et0_fao_evapotranspiration (mm)', 'vapor_pressure_deficit (kPa)',\n",
    "       'windspeed_10m (km/h)', 'winddirection_10m (°)', 'windgusts_10m (km/h)',\n",
    "       'soil_temperature_28_to_100cm (°C)',\n",
    "       'soil_moisture_28_to_100cm (m³/m³)', 'direct_radiation (W/m²)',\n",
    "       'diffuse_radiation (W/m²)']].mean()"
   ]
  },
  {
   "cell_type": "code",
   "execution_count": 154,
   "metadata": {},
   "outputs": [],
   "source": [
    "camiguin_annual['weathercode (wmo code)'] = camiguin.groupby(['year'])['weathercode (wmo code)'].agg(pd.Series.mode)"
   ]
  },
  {
   "cell_type": "code",
   "execution_count": 155,
   "metadata": {},
   "outputs": [],
   "source": [
    "camiguin_annual['location'] = ' Camiguin'"
   ]
  },
  {
   "cell_type": "code",
   "execution_count": 156,
   "metadata": {},
   "outputs": [],
   "source": [
    "camiguin_annual = camiguin_annual.loc[:,['location', 'weathercode (wmo code)', 'temperature_2m (°C)', 'relativehumidity_2m (%)',\n",
    "       'dewpoint_2m (°C)', 'rain (mm)',\n",
    "       'surface_pressure (hPa)', 'cloudcover (%)',\n",
    "       'et0_fao_evapotranspiration (mm)', 'vapor_pressure_deficit (kPa)',\n",
    "       'windspeed_10m (km/h)', 'winddirection_10m (°)', 'windgusts_10m (km/h)',\n",
    "       'soil_temperature_28_to_100cm (°C)',\n",
    "       'soil_moisture_28_to_100cm (m³/m³)', 'direct_radiation (W/m²)',\n",
    "       'diffuse_radiation (W/m²)']]"
   ]
  },
  {
   "cell_type": "code",
   "execution_count": null,
   "metadata": {},
   "outputs": [],
   "source": [
    "camiguin_annual"
   ]
  },
  {
   "cell_type": "markdown",
   "metadata": {},
   "source": [
    "### Lanao del Norte"
   ]
  },
  {
   "cell_type": "code",
   "execution_count": 158,
   "metadata": {},
   "outputs": [],
   "source": [
    "lanao_del_norte = pd.read_csv(r\"csv-files/Region 10 - Lanao del Norte.csv\", header = 2)"
   ]
  },
  {
   "cell_type": "code",
   "execution_count": 159,
   "metadata": {},
   "outputs": [],
   "source": [
    "lanao_del_norte['time'] = pd.to_datetime(lanao_del_norte['time'])"
   ]
  },
  {
   "cell_type": "code",
   "execution_count": 160,
   "metadata": {},
   "outputs": [],
   "source": [
    "lanao_del_norte['year'] = lanao_del_norte['time'].dt.year"
   ]
  },
  {
   "cell_type": "code",
   "execution_count": 161,
   "metadata": {},
   "outputs": [],
   "source": [
    "lanao_del_norte_annual = lanao_del_norte.groupby(\"year\")[['temperature_2m (°C)', 'relativehumidity_2m (%)',\n",
    "       'dewpoint_2m (°C)', 'rain (mm)',\n",
    "       'surface_pressure (hPa)', 'cloudcover (%)',\n",
    "       'et0_fao_evapotranspiration (mm)', 'vapor_pressure_deficit (kPa)',\n",
    "       'windspeed_10m (km/h)', 'winddirection_10m (°)', 'windgusts_10m (km/h)',\n",
    "       'soil_temperature_28_to_100cm (°C)',\n",
    "       'soil_moisture_28_to_100cm (m³/m³)', 'direct_radiation (W/m²)',\n",
    "       'diffuse_radiation (W/m²)']].mean()"
   ]
  },
  {
   "cell_type": "code",
   "execution_count": 162,
   "metadata": {},
   "outputs": [],
   "source": [
    "lanao_del_norte_annual['weathercode (wmo code)'] = lanao_del_norte.groupby(['year'])['weathercode (wmo code)'].agg(pd.Series.mode)"
   ]
  },
  {
   "cell_type": "code",
   "execution_count": 163,
   "metadata": {},
   "outputs": [],
   "source": [
    "lanao_del_norte_annual['location'] = ' Lanao del Norte'"
   ]
  },
  {
   "cell_type": "code",
   "execution_count": 164,
   "metadata": {},
   "outputs": [],
   "source": [
    "lanao_del_norte_annual = lanao_del_norte_annual.loc[:,['location', 'weathercode (wmo code)', 'temperature_2m (°C)', 'relativehumidity_2m (%)',\n",
    "       'dewpoint_2m (°C)', 'rain (mm)',\n",
    "       'surface_pressure (hPa)', 'cloudcover (%)',\n",
    "       'et0_fao_evapotranspiration (mm)', 'vapor_pressure_deficit (kPa)',\n",
    "       'windspeed_10m (km/h)', 'winddirection_10m (°)', 'windgusts_10m (km/h)',\n",
    "       'soil_temperature_28_to_100cm (°C)',\n",
    "       'soil_moisture_28_to_100cm (m³/m³)', 'direct_radiation (W/m²)',\n",
    "       'diffuse_radiation (W/m²)']]"
   ]
  },
  {
   "cell_type": "code",
   "execution_count": null,
   "metadata": {},
   "outputs": [],
   "source": [
    "lanao_del_norte_annual"
   ]
  },
  {
   "cell_type": "markdown",
   "metadata": {},
   "source": [
    "### Misamis Occidental"
   ]
  },
  {
   "cell_type": "code",
   "execution_count": 165,
   "metadata": {},
   "outputs": [],
   "source": [
    "misamis_occidental = pd.read_csv(r\"csv-files/Region 10 - Misamis Occidental.csv\", header = 2)"
   ]
  },
  {
   "cell_type": "code",
   "execution_count": 166,
   "metadata": {},
   "outputs": [],
   "source": [
    "misamis_occidental['time'] = pd.to_datetime(misamis_occidental['time'])"
   ]
  },
  {
   "cell_type": "code",
   "execution_count": 167,
   "metadata": {},
   "outputs": [],
   "source": [
    "misamis_occidental['year'] = misamis_occidental['time'].dt.year"
   ]
  },
  {
   "cell_type": "code",
   "execution_count": 168,
   "metadata": {},
   "outputs": [],
   "source": [
    "misamis_occidental_annual = misamis_occidental.groupby(\"year\")[['temperature_2m (°C)', 'relativehumidity_2m (%)',\n",
    "       'dewpoint_2m (°C)', 'rain (mm)',\n",
    "       'surface_pressure (hPa)', 'cloudcover (%)',\n",
    "       'et0_fao_evapotranspiration (mm)', 'vapor_pressure_deficit (kPa)',\n",
    "       'windspeed_10m (km/h)', 'winddirection_10m (°)', 'windgusts_10m (km/h)',\n",
    "       'soil_temperature_28_to_100cm (°C)',\n",
    "       'soil_moisture_28_to_100cm (m³/m³)', 'direct_radiation (W/m²)',\n",
    "       'diffuse_radiation (W/m²)']].mean()"
   ]
  },
  {
   "cell_type": "code",
   "execution_count": 169,
   "metadata": {},
   "outputs": [],
   "source": [
    "misamis_occidental_annual['weathercode (wmo code)'] = misamis_occidental.groupby(['year'])['weathercode (wmo code)'].agg(pd.Series.mode)"
   ]
  },
  {
   "cell_type": "code",
   "execution_count": 170,
   "metadata": {},
   "outputs": [],
   "source": [
    "misamis_occidental_annual['location'] = ' Misamis Occidental'"
   ]
  },
  {
   "cell_type": "code",
   "execution_count": 171,
   "metadata": {},
   "outputs": [],
   "source": [
    "misamis_occidental_annual = misamis_occidental_annual.loc[:,['location', 'weathercode (wmo code)', 'temperature_2m (°C)', 'relativehumidity_2m (%)',\n",
    "       'dewpoint_2m (°C)', 'rain (mm)',\n",
    "       'surface_pressure (hPa)', 'cloudcover (%)',\n",
    "       'et0_fao_evapotranspiration (mm)', 'vapor_pressure_deficit (kPa)',\n",
    "       'windspeed_10m (km/h)', 'winddirection_10m (°)', 'windgusts_10m (km/h)',\n",
    "       'soil_temperature_28_to_100cm (°C)',\n",
    "       'soil_moisture_28_to_100cm (m³/m³)', 'direct_radiation (W/m²)',\n",
    "       'diffuse_radiation (W/m²)']]"
   ]
  },
  {
   "cell_type": "code",
   "execution_count": null,
   "metadata": {},
   "outputs": [],
   "source": [
    "misamis_occidental_annual"
   ]
  },
  {
   "cell_type": "markdown",
   "metadata": {},
   "source": [
    "### Misamis Oriental"
   ]
  },
  {
   "cell_type": "code",
   "execution_count": 172,
   "metadata": {},
   "outputs": [],
   "source": [
    "misamis_oriental = pd.read_csv(r\"csv-files/Region 10 - Misamis Oriental.csv\", header = 2)"
   ]
  },
  {
   "cell_type": "code",
   "execution_count": 173,
   "metadata": {},
   "outputs": [],
   "source": [
    "misamis_oriental['time'] = pd.to_datetime(misamis_oriental['time'])"
   ]
  },
  {
   "cell_type": "code",
   "execution_count": 174,
   "metadata": {},
   "outputs": [],
   "source": [
    "misamis_oriental['year'] = misamis_oriental['time'].dt.year"
   ]
  },
  {
   "cell_type": "code",
   "execution_count": 175,
   "metadata": {},
   "outputs": [],
   "source": [
    "misamis_oriental_annual = misamis_oriental.groupby(\"year\")[['temperature_2m (°C)', 'relativehumidity_2m (%)',\n",
    "       'dewpoint_2m (°C)', 'rain (mm)',\n",
    "       'surface_pressure (hPa)', 'cloudcover (%)',\n",
    "       'et0_fao_evapotranspiration (mm)', 'vapor_pressure_deficit (kPa)',\n",
    "       'windspeed_10m (km/h)', 'winddirection_10m (°)', 'windgusts_10m (km/h)',\n",
    "       'soil_temperature_28_to_100cm (°C)',\n",
    "       'soil_moisture_28_to_100cm (m³/m³)', 'direct_radiation (W/m²)',\n",
    "       'diffuse_radiation (W/m²)']].mean()"
   ]
  },
  {
   "cell_type": "code",
   "execution_count": 176,
   "metadata": {},
   "outputs": [],
   "source": [
    "misamis_oriental_annual['weathercode (wmo code)'] = misamis_oriental.groupby(['year'])['weathercode (wmo code)'].agg(pd.Series.mode)"
   ]
  },
  {
   "cell_type": "code",
   "execution_count": 177,
   "metadata": {},
   "outputs": [],
   "source": [
    "misamis_oriental_annual['location'] = ' Misamis Oriental'"
   ]
  },
  {
   "cell_type": "code",
   "execution_count": 178,
   "metadata": {},
   "outputs": [],
   "source": [
    "misamis_oriental_annual = misamis_oriental_annual.loc[:,['location', 'weathercode (wmo code)', 'temperature_2m (°C)', 'relativehumidity_2m (%)',\n",
    "       'dewpoint_2m (°C)', 'rain (mm)',\n",
    "       'surface_pressure (hPa)', 'cloudcover (%)',\n",
    "       'et0_fao_evapotranspiration (mm)', 'vapor_pressure_deficit (kPa)',\n",
    "       'windspeed_10m (km/h)', 'winddirection_10m (°)', 'windgusts_10m (km/h)',\n",
    "       'soil_temperature_28_to_100cm (°C)',\n",
    "       'soil_moisture_28_to_100cm (m³/m³)', 'direct_radiation (W/m²)',\n",
    "       'diffuse_radiation (W/m²)']]"
   ]
  },
  {
   "cell_type": "code",
   "execution_count": null,
   "metadata": {},
   "outputs": [],
   "source": [
    "misamis_oriental_annual"
   ]
  },
  {
   "cell_type": "markdown",
   "metadata": {},
   "source": [
    "# Region 11 (Davao Region)"
   ]
  },
  {
   "cell_type": "markdown",
   "metadata": {},
   "source": [
    "### Davao de Oro"
   ]
  },
  {
   "cell_type": "code",
   "execution_count": 179,
   "metadata": {},
   "outputs": [],
   "source": [
    "davao_de_oro = pd.read_csv(r\"csv-files/REGION XI - Davao de Oro.csv\", header = 2)"
   ]
  },
  {
   "cell_type": "code",
   "execution_count": 180,
   "metadata": {},
   "outputs": [],
   "source": [
    "davao_de_oro['time'] = pd.to_datetime(davao_de_oro['time'])"
   ]
  },
  {
   "cell_type": "code",
   "execution_count": 181,
   "metadata": {},
   "outputs": [],
   "source": [
    "davao_de_oro['year'] = davao_de_oro['time'].dt.year"
   ]
  },
  {
   "cell_type": "code",
   "execution_count": 182,
   "metadata": {},
   "outputs": [],
   "source": [
    "davao_de_oro_annual = davao_de_oro.groupby(\"year\")[['temperature_2m (°C)', 'relativehumidity_2m (%)',\n",
    "       'dewpoint_2m (°C)', 'rain (mm)',\n",
    "       'surface_pressure (hPa)', 'cloudcover (%)',\n",
    "       'et0_fao_evapotranspiration (mm)', 'vapor_pressure_deficit (kPa)',\n",
    "       'windspeed_10m (km/h)', 'winddirection_10m (°)', 'windgusts_10m (km/h)',\n",
    "       'soil_temperature_28_to_100cm (°C)',\n",
    "       'soil_moisture_28_to_100cm (m³/m³)', 'direct_radiation (W/m²)',\n",
    "       'diffuse_radiation (W/m²)']].mean()"
   ]
  },
  {
   "cell_type": "code",
   "execution_count": 183,
   "metadata": {},
   "outputs": [],
   "source": [
    "davao_de_oro_annual['weathercode (wmo code)'] = davao_de_oro.groupby(['year'])['weathercode (wmo code)'].agg(pd.Series.mode)"
   ]
  },
  {
   "cell_type": "code",
   "execution_count": 184,
   "metadata": {},
   "outputs": [],
   "source": [
    "davao_de_oro_annual['location'] = ' Davao de Oro'"
   ]
  },
  {
   "cell_type": "code",
   "execution_count": 185,
   "metadata": {},
   "outputs": [],
   "source": [
    "davao_de_oro_annual = davao_de_oro_annual.loc[:,['location', 'weathercode (wmo code)', 'temperature_2m (°C)', 'relativehumidity_2m (%)',\n",
    "       'dewpoint_2m (°C)', 'rain (mm)',\n",
    "       'surface_pressure (hPa)', 'cloudcover (%)',\n",
    "       'et0_fao_evapotranspiration (mm)', 'vapor_pressure_deficit (kPa)',\n",
    "       'windspeed_10m (km/h)', 'winddirection_10m (°)', 'windgusts_10m (km/h)',\n",
    "       'soil_temperature_28_to_100cm (°C)',\n",
    "       'soil_moisture_28_to_100cm (m³/m³)', 'direct_radiation (W/m²)',\n",
    "       'diffuse_radiation (W/m²)']]"
   ]
  },
  {
   "cell_type": "code",
   "execution_count": null,
   "metadata": {},
   "outputs": [],
   "source": [
    "davao_de_oro_annual"
   ]
  },
  {
   "cell_type": "markdown",
   "metadata": {},
   "source": [
    "### Davao del Norte"
   ]
  },
  {
   "cell_type": "code",
   "execution_count": 186,
   "metadata": {},
   "outputs": [],
   "source": [
    "davao_del_norte = pd.read_csv(r\"csv-files/REGION XI - Davao del Norte.csv\", header = 2)"
   ]
  },
  {
   "cell_type": "code",
   "execution_count": 187,
   "metadata": {},
   "outputs": [],
   "source": [
    "davao_del_norte['time'] = pd.to_datetime(davao_del_norte['time'])"
   ]
  },
  {
   "cell_type": "code",
   "execution_count": 188,
   "metadata": {},
   "outputs": [],
   "source": [
    "davao_del_norte['year'] = davao_del_norte['time'].dt.year"
   ]
  },
  {
   "cell_type": "code",
   "execution_count": 189,
   "metadata": {},
   "outputs": [],
   "source": [
    "davao_del_norte_annual = davao_del_norte.groupby(\"year\")[['temperature_2m (°C)', 'relativehumidity_2m (%)',\n",
    "       'dewpoint_2m (°C)', 'rain (mm)',\n",
    "       'surface_pressure (hPa)', 'cloudcover (%)',\n",
    "       'et0_fao_evapotranspiration (mm)', 'vapor_pressure_deficit (kPa)',\n",
    "       'windspeed_10m (km/h)', 'winddirection_10m (°)', 'windgusts_10m (km/h)',\n",
    "       'soil_temperature_28_to_100cm (°C)',\n",
    "       'soil_moisture_28_to_100cm (m³/m³)', 'direct_radiation (W/m²)',\n",
    "       'diffuse_radiation (W/m²)']].mean()"
   ]
  },
  {
   "cell_type": "code",
   "execution_count": 190,
   "metadata": {},
   "outputs": [],
   "source": [
    "davao_del_norte_annual['weathercode (wmo code)'] = davao_del_norte.groupby(['year'])['weathercode (wmo code)'].agg(pd.Series.mode)"
   ]
  },
  {
   "cell_type": "code",
   "execution_count": 191,
   "metadata": {},
   "outputs": [],
   "source": [
    "davao_del_norte_annual['location'] = ' Davao del Norte'"
   ]
  },
  {
   "cell_type": "code",
   "execution_count": 192,
   "metadata": {},
   "outputs": [],
   "source": [
    "davao_del_norte_annual = davao_del_norte_annual.loc[:,['location', 'weathercode (wmo code)', 'temperature_2m (°C)', 'relativehumidity_2m (%)',\n",
    "       'dewpoint_2m (°C)', 'rain (mm)',\n",
    "       'surface_pressure (hPa)', 'cloudcover (%)',\n",
    "       'et0_fao_evapotranspiration (mm)', 'vapor_pressure_deficit (kPa)',\n",
    "       'windspeed_10m (km/h)', 'winddirection_10m (°)', 'windgusts_10m (km/h)',\n",
    "       'soil_temperature_28_to_100cm (°C)',\n",
    "       'soil_moisture_28_to_100cm (m³/m³)', 'direct_radiation (W/m²)',\n",
    "       'diffuse_radiation (W/m²)']]"
   ]
  },
  {
   "cell_type": "code",
   "execution_count": null,
   "metadata": {},
   "outputs": [],
   "source": [
    "davao_del_norte_annual"
   ]
  },
  {
   "cell_type": "markdown",
   "metadata": {},
   "source": [
    "### Davao del Sur"
   ]
  },
  {
   "cell_type": "code",
   "execution_count": 193,
   "metadata": {},
   "outputs": [],
   "source": [
    "davao_del_sur = pd.read_csv(r\"csv-files/REGION XI - Davao del Sur.csv\", header = 2)"
   ]
  },
  {
   "cell_type": "code",
   "execution_count": 194,
   "metadata": {},
   "outputs": [],
   "source": [
    "davao_del_sur['time'] = pd.to_datetime(davao_del_sur['time'])"
   ]
  },
  {
   "cell_type": "code",
   "execution_count": 195,
   "metadata": {},
   "outputs": [],
   "source": [
    "davao_del_sur['year'] = davao_del_sur['time'].dt.year"
   ]
  },
  {
   "cell_type": "code",
   "execution_count": 196,
   "metadata": {},
   "outputs": [],
   "source": [
    "davao_del_sur_annual = davao_del_sur.groupby(\"year\")[['temperature_2m (°C)', 'relativehumidity_2m (%)',\n",
    "       'dewpoint_2m (°C)', 'rain (mm)',\n",
    "       'surface_pressure (hPa)', 'cloudcover (%)',\n",
    "       'et0_fao_evapotranspiration (mm)', 'vapor_pressure_deficit (kPa)',\n",
    "       'windspeed_10m (km/h)', 'winddirection_10m (°)', 'windgusts_10m (km/h)',\n",
    "       'soil_temperature_28_to_100cm (°C)',\n",
    "       'soil_moisture_28_to_100cm (m³/m³)', 'direct_radiation (W/m²)',\n",
    "       'diffuse_radiation (W/m²)']].mean()"
   ]
  },
  {
   "cell_type": "code",
   "execution_count": 197,
   "metadata": {},
   "outputs": [],
   "source": [
    "davao_del_sur_annual['weathercode (wmo code)'] = davao_del_sur.groupby(['year'])['weathercode (wmo code)'].agg(pd.Series.mode)"
   ]
  },
  {
   "cell_type": "code",
   "execution_count": 198,
   "metadata": {},
   "outputs": [],
   "source": [
    "davao_del_sur_annual['location'] = ' Davao del Sur'"
   ]
  },
  {
   "cell_type": "code",
   "execution_count": 199,
   "metadata": {},
   "outputs": [],
   "source": [
    "davao_del_sur_annual = davao_del_sur_annual.loc[:,['location', 'weathercode (wmo code)', 'temperature_2m (°C)', 'relativehumidity_2m (%)',\n",
    "       'dewpoint_2m (°C)', 'rain (mm)',\n",
    "       'surface_pressure (hPa)', 'cloudcover (%)',\n",
    "       'et0_fao_evapotranspiration (mm)', 'vapor_pressure_deficit (kPa)',\n",
    "       'windspeed_10m (km/h)', 'winddirection_10m (°)', 'windgusts_10m (km/h)',\n",
    "       'soil_temperature_28_to_100cm (°C)',\n",
    "       'soil_moisture_28_to_100cm (m³/m³)', 'direct_radiation (W/m²)',\n",
    "       'diffuse_radiation (W/m²)']]"
   ]
  },
  {
   "cell_type": "code",
   "execution_count": null,
   "metadata": {},
   "outputs": [],
   "source": [
    "davao_del_sur_annual"
   ]
  },
  {
   "cell_type": "markdown",
   "metadata": {},
   "source": [
    "### Davao Occidental"
   ]
  },
  {
   "cell_type": "code",
   "execution_count": 200,
   "metadata": {},
   "outputs": [],
   "source": [
    "davao_occidental = pd.read_csv(r\"csv-files/REGION XI - Davao Occidental.csv\", header = 2)"
   ]
  },
  {
   "cell_type": "code",
   "execution_count": 201,
   "metadata": {},
   "outputs": [],
   "source": [
    "davao_occidental['time'] = pd.to_datetime(davao_occidental['time'])"
   ]
  },
  {
   "cell_type": "code",
   "execution_count": 202,
   "metadata": {},
   "outputs": [],
   "source": [
    "davao_occidental['year'] = davao_occidental['time'].dt.year"
   ]
  },
  {
   "cell_type": "code",
   "execution_count": 203,
   "metadata": {},
   "outputs": [],
   "source": [
    "davao_occidental_annual = davao_occidental.groupby(\"year\")[['temperature_2m (°C)', 'relativehumidity_2m (%)',\n",
    "       'dewpoint_2m (°C)', 'rain (mm)',\n",
    "       'surface_pressure (hPa)', 'cloudcover (%)',\n",
    "       'et0_fao_evapotranspiration (mm)', 'vapor_pressure_deficit (kPa)',\n",
    "       'windspeed_10m (km/h)', 'winddirection_10m (°)', 'windgusts_10m (km/h)',\n",
    "       'soil_temperature_28_to_100cm (°C)',\n",
    "       'soil_moisture_28_to_100cm (m³/m³)', 'direct_radiation (W/m²)',\n",
    "       'diffuse_radiation (W/m²)']].mean()"
   ]
  },
  {
   "cell_type": "code",
   "execution_count": 204,
   "metadata": {},
   "outputs": [],
   "source": [
    "davao_occidental_annual['weathercode (wmo code)'] = davao_occidental.groupby(['year'])['weathercode (wmo code)'].agg(pd.Series.mode)"
   ]
  },
  {
   "cell_type": "code",
   "execution_count": 205,
   "metadata": {},
   "outputs": [],
   "source": [
    "davao_occidental_annual['location'] = ' Davao Occidental'"
   ]
  },
  {
   "cell_type": "code",
   "execution_count": 206,
   "metadata": {},
   "outputs": [],
   "source": [
    "davao_occidental_annual = davao_occidental_annual.loc[:,['location', 'weathercode (wmo code)', 'temperature_2m (°C)', 'relativehumidity_2m (%)',\n",
    "       'dewpoint_2m (°C)', 'rain (mm)',\n",
    "       'surface_pressure (hPa)', 'cloudcover (%)',\n",
    "       'et0_fao_evapotranspiration (mm)', 'vapor_pressure_deficit (kPa)',\n",
    "       'windspeed_10m (km/h)', 'winddirection_10m (°)', 'windgusts_10m (km/h)',\n",
    "       'soil_temperature_28_to_100cm (°C)',\n",
    "       'soil_moisture_28_to_100cm (m³/m³)', 'direct_radiation (W/m²)',\n",
    "       'diffuse_radiation (W/m²)']]"
   ]
  },
  {
   "cell_type": "code",
   "execution_count": null,
   "metadata": {},
   "outputs": [],
   "source": [
    "davao_occidental_annual"
   ]
  },
  {
   "cell_type": "markdown",
   "metadata": {},
   "source": [
    "### Davao Oriental"
   ]
  },
  {
   "cell_type": "code",
   "execution_count": 207,
   "metadata": {},
   "outputs": [],
   "source": [
    "davao_oriental = pd.read_csv(r\"csv-files/REGION XI - Davao Oriental.csv\", header = 2)"
   ]
  },
  {
   "cell_type": "code",
   "execution_count": 208,
   "metadata": {},
   "outputs": [],
   "source": [
    "davao_oriental['time'] = pd.to_datetime(davao_oriental['time'])"
   ]
  },
  {
   "cell_type": "code",
   "execution_count": 209,
   "metadata": {},
   "outputs": [],
   "source": [
    "davao_oriental['year'] = davao_oriental['time'].dt.year"
   ]
  },
  {
   "cell_type": "code",
   "execution_count": 210,
   "metadata": {},
   "outputs": [],
   "source": [
    "davao_oriental_annual = davao_oriental.groupby(\"year\")[['temperature_2m (°C)', 'relativehumidity_2m (%)',\n",
    "       'dewpoint_2m (°C)', 'rain (mm)',\n",
    "       'surface_pressure (hPa)', 'cloudcover (%)',\n",
    "       'et0_fao_evapotranspiration (mm)', 'vapor_pressure_deficit (kPa)',\n",
    "       'windspeed_10m (km/h)', 'winddirection_10m (°)', 'windgusts_10m (km/h)',\n",
    "       'soil_temperature_28_to_100cm (°C)',\n",
    "       'soil_moisture_28_to_100cm (m³/m³)', 'direct_radiation (W/m²)',\n",
    "       'diffuse_radiation (W/m²)']].mean()"
   ]
  },
  {
   "cell_type": "code",
   "execution_count": 211,
   "metadata": {},
   "outputs": [],
   "source": [
    "davao_oriental_annual['weathercode (wmo code)'] = davao_oriental.groupby(['year'])['weathercode (wmo code)'].agg(pd.Series.mode)"
   ]
  },
  {
   "cell_type": "code",
   "execution_count": 212,
   "metadata": {},
   "outputs": [],
   "source": [
    "davao_oriental_annual['location'] = ' Davao Oriental'"
   ]
  },
  {
   "cell_type": "code",
   "execution_count": 213,
   "metadata": {},
   "outputs": [],
   "source": [
    "davao_oriental_annual = davao_oriental_annual.loc[:,['location', 'weathercode (wmo code)', 'temperature_2m (°C)', 'relativehumidity_2m (%)',\n",
    "       'dewpoint_2m (°C)', 'rain (mm)',\n",
    "       'surface_pressure (hPa)', 'cloudcover (%)',\n",
    "       'et0_fao_evapotranspiration (mm)', 'vapor_pressure_deficit (kPa)',\n",
    "       'windspeed_10m (km/h)', 'winddirection_10m (°)', 'windgusts_10m (km/h)',\n",
    "       'soil_temperature_28_to_100cm (°C)',\n",
    "       'soil_moisture_28_to_100cm (m³/m³)', 'direct_radiation (W/m²)',\n",
    "       'diffuse_radiation (W/m²)']]"
   ]
  },
  {
   "cell_type": "code",
   "execution_count": null,
   "metadata": {},
   "outputs": [],
   "source": [
    "davao_oriental_annual"
   ]
  },
  {
   "cell_type": "markdown",
   "metadata": {},
   "source": [
    "### Davao City"
   ]
  },
  {
   "cell_type": "code",
   "execution_count": 214,
   "metadata": {},
   "outputs": [],
   "source": [
    "davao_city = pd.read_csv(r\"csv-files/REGION XI - Davao City.csv\", header = 2)"
   ]
  },
  {
   "cell_type": "code",
   "execution_count": 215,
   "metadata": {},
   "outputs": [],
   "source": [
    "davao_city['time'] = pd.to_datetime(davao_city['time'])"
   ]
  },
  {
   "cell_type": "code",
   "execution_count": 216,
   "metadata": {},
   "outputs": [],
   "source": [
    "davao_city['year'] = davao_city['time'].dt.year"
   ]
  },
  {
   "cell_type": "code",
   "execution_count": 217,
   "metadata": {},
   "outputs": [],
   "source": [
    "davao_city_annual = davao_city.groupby(\"year\")[['temperature_2m (°C)', 'relativehumidity_2m (%)',\n",
    "       'dewpoint_2m (°C)', 'rain (mm)',\n",
    "       'surface_pressure (hPa)', 'cloudcover (%)',\n",
    "       'et0_fao_evapotranspiration (mm)', 'vapor_pressure_deficit (kPa)',\n",
    "       'windspeed_10m (km/h)', 'winddirection_10m (°)', 'windgusts_10m (km/h)',\n",
    "       'soil_temperature_28_to_100cm (°C)',\n",
    "       'soil_moisture_28_to_100cm (m³/m³)', 'direct_radiation (W/m²)',\n",
    "       'diffuse_radiation (W/m²)']].mean()"
   ]
  },
  {
   "cell_type": "code",
   "execution_count": 218,
   "metadata": {},
   "outputs": [],
   "source": [
    "davao_city_annual['weathercode (wmo code)'] = davao_city.groupby(['year'])['weathercode (wmo code)'].agg(pd.Series.mode)"
   ]
  },
  {
   "cell_type": "code",
   "execution_count": 219,
   "metadata": {},
   "outputs": [],
   "source": [
    "davao_city_annual['location'] = ' Davao City'"
   ]
  },
  {
   "cell_type": "code",
   "execution_count": 220,
   "metadata": {},
   "outputs": [],
   "source": [
    "davao_city_annual = davao_city_annual.loc[:,['location', 'weathercode (wmo code)', 'temperature_2m (°C)', 'relativehumidity_2m (%)',\n",
    "       'dewpoint_2m (°C)', 'rain (mm)',\n",
    "       'surface_pressure (hPa)', 'cloudcover (%)',\n",
    "       'et0_fao_evapotranspiration (mm)', 'vapor_pressure_deficit (kPa)',\n",
    "       'windspeed_10m (km/h)', 'winddirection_10m (°)', 'windgusts_10m (km/h)',\n",
    "       'soil_temperature_28_to_100cm (°C)',\n",
    "       'soil_moisture_28_to_100cm (m³/m³)', 'direct_radiation (W/m²)',\n",
    "       'diffuse_radiation (W/m²)']]"
   ]
  },
  {
   "cell_type": "code",
   "execution_count": null,
   "metadata": {},
   "outputs": [],
   "source": [
    "davao_city_annual"
   ]
  },
  {
   "cell_type": "markdown",
   "metadata": {},
   "source": [
    "# Region 12 (SOCCSKSARGEN)"
   ]
  },
  {
   "cell_type": "markdown",
   "metadata": {},
   "source": [
    "### Cotabato"
   ]
  },
  {
   "cell_type": "code",
   "execution_count": 2,
   "metadata": {},
   "outputs": [],
   "source": [
    "cotabato = pd.read_csv(r\"csv-files/REGION XII - Cotabato.csv\", header = 2)"
   ]
  },
  {
   "cell_type": "code",
   "execution_count": 3,
   "metadata": {},
   "outputs": [],
   "source": [
    "cotabato['time'] = pd.to_datetime(cotabato['time'])"
   ]
  },
  {
   "cell_type": "code",
   "execution_count": 4,
   "metadata": {},
   "outputs": [],
   "source": [
    "cotabato['year'] = cotabato['time'].dt.year"
   ]
  },
  {
   "cell_type": "code",
   "execution_count": 5,
   "metadata": {},
   "outputs": [],
   "source": [
    "cotabato_annual = cotabato.groupby(\"year\")[['temperature_2m (°C)', 'relativehumidity_2m (%)',\n",
    "       'dewpoint_2m (°C)', 'rain (mm)',\n",
    "       'surface_pressure (hPa)', 'cloudcover (%)',\n",
    "       'et0_fao_evapotranspiration (mm)', 'vapor_pressure_deficit (kPa)',\n",
    "       'windspeed_10m (km/h)', 'winddirection_10m (°)', 'windgusts_10m (km/h)',\n",
    "       'soil_temperature_28_to_100cm (°C)',\n",
    "       'soil_moisture_28_to_100cm (m³/m³)', 'direct_radiation (W/m²)',\n",
    "       'diffuse_radiation (W/m²)']].mean()"
   ]
  },
  {
   "cell_type": "code",
   "execution_count": 6,
   "metadata": {},
   "outputs": [],
   "source": [
    "cotabato_annual['weathercode (wmo code)'] = cotabato.groupby(['year'])['weathercode (wmo code)'].agg(pd.Series.mode)"
   ]
  },
  {
   "cell_type": "code",
   "execution_count": 7,
   "metadata": {},
   "outputs": [],
   "source": [
    "cotabato_annual['location'] = ' Cotabato'"
   ]
  },
  {
   "cell_type": "code",
   "execution_count": 8,
   "metadata": {},
   "outputs": [],
   "source": [
    "cotabato_annual = cotabato_annual.loc[:,['location', 'weathercode (wmo code)', 'temperature_2m (°C)', 'relativehumidity_2m (%)',\n",
    "       'dewpoint_2m (°C)', 'rain (mm)',\n",
    "       'surface_pressure (hPa)', 'cloudcover (%)',\n",
    "       'et0_fao_evapotranspiration (mm)', 'vapor_pressure_deficit (kPa)',\n",
    "       'windspeed_10m (km/h)', 'winddirection_10m (°)', 'windgusts_10m (km/h)',\n",
    "       'soil_temperature_28_to_100cm (°C)',\n",
    "       'soil_moisture_28_to_100cm (m³/m³)', 'direct_radiation (W/m²)',\n",
    "       'diffuse_radiation (W/m²)']]"
   ]
  },
  {
   "cell_type": "code",
   "execution_count": null,
   "metadata": {},
   "outputs": [],
   "source": [
    "cotabato_annual"
   ]
  },
  {
   "cell_type": "markdown",
   "metadata": {},
   "source": [
    "### Sarangani"
   ]
  },
  {
   "cell_type": "code",
   "execution_count": 10,
   "metadata": {},
   "outputs": [],
   "source": [
    "sarangani = pd.read_csv(r\"csv-files/REGION XII - Sarangani.csv\", header = 2)"
   ]
  },
  {
   "cell_type": "code",
   "execution_count": 11,
   "metadata": {},
   "outputs": [],
   "source": [
    "sarangani['time'] = pd.to_datetime(sarangani['time'])"
   ]
  },
  {
   "cell_type": "code",
   "execution_count": 12,
   "metadata": {},
   "outputs": [],
   "source": [
    "sarangani['year'] = sarangani['time'].dt.year"
   ]
  },
  {
   "cell_type": "code",
   "execution_count": 13,
   "metadata": {},
   "outputs": [],
   "source": [
    "sarangani_annual = sarangani.groupby(\"year\")[['temperature_2m (°C)', 'relativehumidity_2m (%)',\n",
    "       'dewpoint_2m (°C)', 'rain (mm)',\n",
    "       'surface_pressure (hPa)', 'cloudcover (%)',\n",
    "       'et0_fao_evapotranspiration (mm)', 'vapor_pressure_deficit (kPa)',\n",
    "       'windspeed_10m (km/h)', 'winddirection_10m (°)', 'windgusts_10m (km/h)',\n",
    "       'soil_temperature_28_to_100cm (°C)',\n",
    "       'soil_moisture_28_to_100cm (m³/m³)', 'direct_radiation (W/m²)',\n",
    "       'diffuse_radiation (W/m²)']].mean()"
   ]
  },
  {
   "cell_type": "code",
   "execution_count": 14,
   "metadata": {},
   "outputs": [],
   "source": [
    "sarangani_annual['weathercode (wmo code)'] = sarangani.groupby(['year'])['weathercode (wmo code)'].agg(pd.Series.mode)"
   ]
  },
  {
   "cell_type": "code",
   "execution_count": 15,
   "metadata": {},
   "outputs": [],
   "source": [
    "sarangani_annual['location'] = ' Sarangani'"
   ]
  },
  {
   "cell_type": "code",
   "execution_count": 16,
   "metadata": {},
   "outputs": [],
   "source": [
    "sarangani_annual = sarangani_annual.loc[:,['location', 'weathercode (wmo code)', 'temperature_2m (°C)', 'relativehumidity_2m (%)',\n",
    "       'dewpoint_2m (°C)', 'rain (mm)',\n",
    "       'surface_pressure (hPa)', 'cloudcover (%)',\n",
    "       'et0_fao_evapotranspiration (mm)', 'vapor_pressure_deficit (kPa)',\n",
    "       'windspeed_10m (km/h)', 'winddirection_10m (°)', 'windgusts_10m (km/h)',\n",
    "       'soil_temperature_28_to_100cm (°C)',\n",
    "       'soil_moisture_28_to_100cm (m³/m³)', 'direct_radiation (W/m²)',\n",
    "       'diffuse_radiation (W/m²)']]"
   ]
  },
  {
   "cell_type": "code",
   "execution_count": null,
   "metadata": {},
   "outputs": [],
   "source": [
    "sarangani_annual"
   ]
  },
  {
   "cell_type": "markdown",
   "metadata": {},
   "source": [
    "### Sultan Kudarat"
   ]
  },
  {
   "cell_type": "code",
   "execution_count": 18,
   "metadata": {},
   "outputs": [],
   "source": [
    "sultan_kudarat = pd.read_csv(r\"csv-files/REGION XII - Sultan Kudarat.csv\", header = 2)"
   ]
  },
  {
   "cell_type": "code",
   "execution_count": 19,
   "metadata": {},
   "outputs": [],
   "source": [
    "sultan_kudarat['time'] = pd.to_datetime(sultan_kudarat['time'])"
   ]
  },
  {
   "cell_type": "code",
   "execution_count": 20,
   "metadata": {},
   "outputs": [],
   "source": [
    "sultan_kudarat['year'] = sultan_kudarat['time'].dt.year"
   ]
  },
  {
   "cell_type": "code",
   "execution_count": 21,
   "metadata": {},
   "outputs": [],
   "source": [
    "sultan_kudarat_annual = sultan_kudarat.groupby(\"year\")[['temperature_2m (°C)', 'relativehumidity_2m (%)',\n",
    "       'dewpoint_2m (°C)', 'rain (mm)',\n",
    "       'surface_pressure (hPa)', 'cloudcover (%)',\n",
    "       'et0_fao_evapotranspiration (mm)', 'vapor_pressure_deficit (kPa)',\n",
    "       'windspeed_10m (km/h)', 'winddirection_10m (°)', 'windgusts_10m (km/h)',\n",
    "       'soil_temperature_28_to_100cm (°C)',\n",
    "       'soil_moisture_28_to_100cm (m³/m³)', 'direct_radiation (W/m²)',\n",
    "       'diffuse_radiation (W/m²)']].mean()"
   ]
  },
  {
   "cell_type": "code",
   "execution_count": 22,
   "metadata": {},
   "outputs": [],
   "source": [
    "sultan_kudarat_annual['weathercode (wmo code)'] = sultan_kudarat.groupby(['year'])['weathercode (wmo code)'].agg(pd.Series.mode)"
   ]
  },
  {
   "cell_type": "code",
   "execution_count": 23,
   "metadata": {},
   "outputs": [],
   "source": [
    "sultan_kudarat_annual['location'] = ' Sultan Kudarat'"
   ]
  },
  {
   "cell_type": "code",
   "execution_count": 24,
   "metadata": {},
   "outputs": [],
   "source": [
    "sultan_kudarat_annual = sultan_kudarat_annual.loc[:,['location', 'weathercode (wmo code)', 'temperature_2m (°C)', 'relativehumidity_2m (%)',\n",
    "       'dewpoint_2m (°C)', 'rain (mm)',\n",
    "       'surface_pressure (hPa)', 'cloudcover (%)',\n",
    "       'et0_fao_evapotranspiration (mm)', 'vapor_pressure_deficit (kPa)',\n",
    "       'windspeed_10m (km/h)', 'winddirection_10m (°)', 'windgusts_10m (km/h)',\n",
    "       'soil_temperature_28_to_100cm (°C)',\n",
    "       'soil_moisture_28_to_100cm (m³/m³)', 'direct_radiation (W/m²)',\n",
    "       'diffuse_radiation (W/m²)']]"
   ]
  },
  {
   "cell_type": "code",
   "execution_count": null,
   "metadata": {},
   "outputs": [],
   "source": [
    "sultan_kudarat_annual"
   ]
  },
  {
   "cell_type": "markdown",
   "metadata": {},
   "source": [
    "### South Cotabato"
   ]
  },
  {
   "cell_type": "code",
   "execution_count": 26,
   "metadata": {},
   "outputs": [],
   "source": [
    "south_cotabato = pd.read_csv(r\"csv-files/REGION XII - South Cotabato.csv\", header = 2)"
   ]
  },
  {
   "cell_type": "code",
   "execution_count": 27,
   "metadata": {},
   "outputs": [],
   "source": [
    "south_cotabato['time'] = pd.to_datetime(south_cotabato['time'])"
   ]
  },
  {
   "cell_type": "code",
   "execution_count": 28,
   "metadata": {},
   "outputs": [],
   "source": [
    "south_cotabato['year'] = south_cotabato['time'].dt.year"
   ]
  },
  {
   "cell_type": "code",
   "execution_count": 29,
   "metadata": {},
   "outputs": [],
   "source": [
    "south_cotabato_annual = south_cotabato.groupby(\"year\")[['temperature_2m (°C)', 'relativehumidity_2m (%)',\n",
    "       'dewpoint_2m (°C)', 'rain (mm)',\n",
    "       'surface_pressure (hPa)', 'cloudcover (%)',\n",
    "       'et0_fao_evapotranspiration (mm)', 'vapor_pressure_deficit (kPa)',\n",
    "       'windspeed_10m (km/h)', 'winddirection_10m (°)', 'windgusts_10m (km/h)',\n",
    "       'soil_temperature_28_to_100cm (°C)',\n",
    "       'soil_moisture_28_to_100cm (m³/m³)', 'direct_radiation (W/m²)',\n",
    "       'diffuse_radiation (W/m²)']].mean()"
   ]
  },
  {
   "cell_type": "code",
   "execution_count": 30,
   "metadata": {},
   "outputs": [],
   "source": [
    "south_cotabato_annual['weathercode (wmo code)'] = south_cotabato.groupby(['year'])['weathercode (wmo code)'].agg(pd.Series.mode)"
   ]
  },
  {
   "cell_type": "code",
   "execution_count": 31,
   "metadata": {},
   "outputs": [],
   "source": [
    "south_cotabato_annual['location'] = ' South Cotabato'"
   ]
  },
  {
   "cell_type": "code",
   "execution_count": 32,
   "metadata": {},
   "outputs": [],
   "source": [
    "south_cotabato_annual = south_cotabato_annual.loc[:,['location', 'weathercode (wmo code)', 'temperature_2m (°C)', 'relativehumidity_2m (%)',\n",
    "       'dewpoint_2m (°C)', 'rain (mm)',\n",
    "       'surface_pressure (hPa)', 'cloudcover (%)',\n",
    "       'et0_fao_evapotranspiration (mm)', 'vapor_pressure_deficit (kPa)',\n",
    "       'windspeed_10m (km/h)', 'winddirection_10m (°)', 'windgusts_10m (km/h)',\n",
    "       'soil_temperature_28_to_100cm (°C)',\n",
    "       'soil_moisture_28_to_100cm (m³/m³)', 'direct_radiation (W/m²)',\n",
    "       'diffuse_radiation (W/m²)']]"
   ]
  },
  {
   "cell_type": "code",
   "execution_count": null,
   "metadata": {},
   "outputs": [],
   "source": [
    "south_cotabato_annual"
   ]
  },
  {
   "cell_type": "markdown",
   "metadata": {},
   "source": [
    "# Region 13 (CARAGA)"
   ]
  },
  {
   "cell_type": "markdown",
   "metadata": {},
   "source": [
    "### Agusan del Norte"
   ]
  },
  {
   "cell_type": "code",
   "execution_count": 34,
   "metadata": {},
   "outputs": [],
   "source": [
    "agusan_norte = pd.read_csv(r\"csv-files/Region 13 - Agusan del Norte.csv\", header = 2)"
   ]
  },
  {
   "cell_type": "code",
   "execution_count": 35,
   "metadata": {},
   "outputs": [],
   "source": [
    "agusan_norte['time'] = pd.to_datetime(agusan_norte['time'])"
   ]
  },
  {
   "cell_type": "code",
   "execution_count": 36,
   "metadata": {},
   "outputs": [],
   "source": [
    "agusan_norte['year'] = agusan_norte['time'].dt.year"
   ]
  },
  {
   "cell_type": "code",
   "execution_count": 37,
   "metadata": {},
   "outputs": [],
   "source": [
    "agusan_norte_annual = agusan_norte.groupby(\"year\")[['temperature_2m (°C)', 'relativehumidity_2m (%)',\n",
    "       'dewpoint_2m (°C)', 'rain (mm)',\n",
    "       'surface_pressure (hPa)', 'cloudcover (%)',\n",
    "       'et0_fao_evapotranspiration (mm)', 'vapor_pressure_deficit (kPa)',\n",
    "       'windspeed_10m (km/h)', 'winddirection_10m (°)', 'windgusts_10m (km/h)',\n",
    "       'soil_temperature_28_to_100cm (°C)',\n",
    "       'soil_moisture_28_to_100cm (m³/m³)', 'direct_radiation (W/m²)',\n",
    "       'diffuse_radiation (W/m²)']].mean()"
   ]
  },
  {
   "cell_type": "code",
   "execution_count": 38,
   "metadata": {},
   "outputs": [],
   "source": [
    "agusan_norte_annual['weathercode (wmo code)'] = agusan_norte.groupby(['year'])['weathercode (wmo code)'].agg(pd.Series.mode)"
   ]
  },
  {
   "cell_type": "code",
   "execution_count": 39,
   "metadata": {},
   "outputs": [],
   "source": [
    "agusan_norte_annual['location'] = ' Agusan del Norte'"
   ]
  },
  {
   "cell_type": "code",
   "execution_count": 40,
   "metadata": {},
   "outputs": [],
   "source": [
    "agusan_norte_annual = agusan_norte_annual.loc[:,['location', 'weathercode (wmo code)', 'temperature_2m (°C)', 'relativehumidity_2m (%)',\n",
    "       'dewpoint_2m (°C)', 'rain (mm)',\n",
    "       'surface_pressure (hPa)', 'cloudcover (%)',\n",
    "       'et0_fao_evapotranspiration (mm)', 'vapor_pressure_deficit (kPa)',\n",
    "       'windspeed_10m (km/h)', 'winddirection_10m (°)', 'windgusts_10m (km/h)',\n",
    "       'soil_temperature_28_to_100cm (°C)',\n",
    "       'soil_moisture_28_to_100cm (m³/m³)', 'direct_radiation (W/m²)',\n",
    "       'diffuse_radiation (W/m²)']]"
   ]
  },
  {
   "cell_type": "code",
   "execution_count": null,
   "metadata": {},
   "outputs": [],
   "source": [
    "agusan_norte_annual"
   ]
  },
  {
   "cell_type": "markdown",
   "metadata": {},
   "source": [
    "### Agusan del Sur"
   ]
  },
  {
   "cell_type": "code",
   "execution_count": 42,
   "metadata": {},
   "outputs": [],
   "source": [
    "agusan_sur = pd.read_csv(r\"csv-files/Region 13 - Agusan-del-Sur.csv\", header = 2)"
   ]
  },
  {
   "cell_type": "code",
   "execution_count": 43,
   "metadata": {},
   "outputs": [],
   "source": [
    "agusan_sur['time'] = pd.to_datetime(agusan_sur['time'])"
   ]
  },
  {
   "cell_type": "code",
   "execution_count": 44,
   "metadata": {},
   "outputs": [],
   "source": [
    "agusan_sur['year'] = agusan_sur['time'].dt.year"
   ]
  },
  {
   "cell_type": "code",
   "execution_count": 45,
   "metadata": {},
   "outputs": [],
   "source": [
    "agusan_sur_annual = agusan_sur.groupby(\"year\")[['temperature_2m (°C)', 'relativehumidity_2m (%)',\n",
    "       'dewpoint_2m (°C)', 'rain (mm)',\n",
    "       'surface_pressure (hPa)', 'cloudcover (%)',\n",
    "       'et0_fao_evapotranspiration (mm)', 'vapor_pressure_deficit (kPa)',\n",
    "       'windspeed_10m (km/h)', 'winddirection_10m (°)', 'windgusts_10m (km/h)',\n",
    "       'soil_temperature_28_to_100cm (°C)',\n",
    "       'soil_moisture_28_to_100cm (m³/m³)', 'direct_radiation (W/m²)',\n",
    "       'diffuse_radiation (W/m²)']].mean()"
   ]
  },
  {
   "cell_type": "code",
   "execution_count": 46,
   "metadata": {},
   "outputs": [],
   "source": [
    "agusan_sur_annual['weathercode (wmo code)'] = agusan_sur.groupby(['year'])['weathercode (wmo code)'].agg(pd.Series.mode)"
   ]
  },
  {
   "cell_type": "code",
   "execution_count": 47,
   "metadata": {},
   "outputs": [],
   "source": [
    "agusan_sur_annual['location'] = ' Agusan del Sur'"
   ]
  },
  {
   "cell_type": "code",
   "execution_count": 48,
   "metadata": {},
   "outputs": [],
   "source": [
    "agusan_sur_annual = agusan_sur_annual.loc[:,['location', 'weathercode (wmo code)', 'temperature_2m (°C)', 'relativehumidity_2m (%)',\n",
    "       'dewpoint_2m (°C)', 'rain (mm)',\n",
    "       'surface_pressure (hPa)', 'cloudcover (%)',\n",
    "       'et0_fao_evapotranspiration (mm)', 'vapor_pressure_deficit (kPa)',\n",
    "       'windspeed_10m (km/h)', 'winddirection_10m (°)', 'windgusts_10m (km/h)',\n",
    "       'soil_temperature_28_to_100cm (°C)',\n",
    "       'soil_moisture_28_to_100cm (m³/m³)', 'direct_radiation (W/m²)',\n",
    "       'diffuse_radiation (W/m²)']]"
   ]
  },
  {
   "cell_type": "code",
   "execution_count": null,
   "metadata": {},
   "outputs": [],
   "source": [
    "agusan_sur_annual"
   ]
  },
  {
   "cell_type": "markdown",
   "metadata": {},
   "source": [
    "### Dinagat Islands"
   ]
  },
  {
   "cell_type": "code",
   "execution_count": 50,
   "metadata": {},
   "outputs": [],
   "source": [
    "dinagat = pd.read_csv(r\"csv-files/Region 13 - Dinagat Islands.csv\", header = 2)"
   ]
  },
  {
   "cell_type": "code",
   "execution_count": 51,
   "metadata": {},
   "outputs": [],
   "source": [
    "dinagat['time'] = pd.to_datetime(dinagat['time'])"
   ]
  },
  {
   "cell_type": "code",
   "execution_count": 52,
   "metadata": {},
   "outputs": [],
   "source": [
    "dinagat['year'] = dinagat['time'].dt.year"
   ]
  },
  {
   "cell_type": "code",
   "execution_count": 53,
   "metadata": {},
   "outputs": [],
   "source": [
    "dinagat_annual = dinagat.groupby(\"year\")[['temperature_2m (°C)', 'relativehumidity_2m (%)',\n",
    "       'dewpoint_2m (°C)', 'rain (mm)',\n",
    "       'surface_pressure (hPa)', 'cloudcover (%)',\n",
    "       'et0_fao_evapotranspiration (mm)', 'vapor_pressure_deficit (kPa)',\n",
    "       'windspeed_10m (km/h)', 'winddirection_10m (°)', 'windgusts_10m (km/h)',\n",
    "       'soil_temperature_28_to_100cm (°C)',\n",
    "       'soil_moisture_28_to_100cm (m³/m³)', 'direct_radiation (W/m²)',\n",
    "       'diffuse_radiation (W/m²)']].mean()"
   ]
  },
  {
   "cell_type": "code",
   "execution_count": 54,
   "metadata": {},
   "outputs": [],
   "source": [
    "dinagat_annual['weathercode (wmo code)'] = dinagat.groupby(['year'])['weathercode (wmo code)'].agg(pd.Series.mode)"
   ]
  },
  {
   "cell_type": "code",
   "execution_count": 55,
   "metadata": {},
   "outputs": [],
   "source": [
    "dinagat_annual['location'] = ' Dinagat Islands'"
   ]
  },
  {
   "cell_type": "code",
   "execution_count": 56,
   "metadata": {},
   "outputs": [],
   "source": [
    "dinagat_annual = dinagat_annual.loc[:,['location', 'weathercode (wmo code)', 'temperature_2m (°C)', 'relativehumidity_2m (%)',\n",
    "       'dewpoint_2m (°C)', 'rain (mm)',\n",
    "       'surface_pressure (hPa)', 'cloudcover (%)',\n",
    "       'et0_fao_evapotranspiration (mm)', 'vapor_pressure_deficit (kPa)',\n",
    "       'windspeed_10m (km/h)', 'winddirection_10m (°)', 'windgusts_10m (km/h)',\n",
    "       'soil_temperature_28_to_100cm (°C)',\n",
    "       'soil_moisture_28_to_100cm (m³/m³)', 'direct_radiation (W/m²)',\n",
    "       'diffuse_radiation (W/m²)']]"
   ]
  },
  {
   "cell_type": "code",
   "execution_count": null,
   "metadata": {},
   "outputs": [],
   "source": [
    "dinagat_annual"
   ]
  },
  {
   "cell_type": "markdown",
   "metadata": {},
   "source": [
    "### Surigao del Norte"
   ]
  },
  {
   "cell_type": "code",
   "execution_count": 58,
   "metadata": {},
   "outputs": [],
   "source": [
    "surigao_norte = pd.read_csv(r\"csv-files/Region 13 - Surigao del Norte.csv\", header = 2)"
   ]
  },
  {
   "cell_type": "code",
   "execution_count": 59,
   "metadata": {},
   "outputs": [],
   "source": [
    "surigao_norte['time'] = pd.to_datetime(surigao_norte['time'])"
   ]
  },
  {
   "cell_type": "code",
   "execution_count": 60,
   "metadata": {},
   "outputs": [],
   "source": [
    "surigao_norte['year'] = surigao_norte['time'].dt.year"
   ]
  },
  {
   "cell_type": "code",
   "execution_count": 61,
   "metadata": {},
   "outputs": [],
   "source": [
    "surigao_norte_annual = surigao_norte.groupby(\"year\")[['temperature_2m (°C)', 'relativehumidity_2m (%)',\n",
    "       'dewpoint_2m (°C)', 'rain (mm)',\n",
    "       'surface_pressure (hPa)', 'cloudcover (%)',\n",
    "       'et0_fao_evapotranspiration (mm)', 'vapor_pressure_deficit (kPa)',\n",
    "       'windspeed_10m (km/h)', 'winddirection_10m (°)', 'windgusts_10m (km/h)',\n",
    "       'soil_temperature_28_to_100cm (°C)',\n",
    "       'soil_moisture_28_to_100cm (m³/m³)', 'direct_radiation (W/m²)',\n",
    "       'diffuse_radiation (W/m²)']].mean()"
   ]
  },
  {
   "cell_type": "code",
   "execution_count": 62,
   "metadata": {},
   "outputs": [],
   "source": [
    "surigao_norte_annual['weathercode (wmo code)'] = surigao_norte.groupby(['year'])['weathercode (wmo code)'].agg(pd.Series.mode)"
   ]
  },
  {
   "cell_type": "code",
   "execution_count": 63,
   "metadata": {},
   "outputs": [],
   "source": [
    "surigao_norte_annual['location'] = ' Surigao del Norte'"
   ]
  },
  {
   "cell_type": "code",
   "execution_count": 64,
   "metadata": {},
   "outputs": [],
   "source": [
    "surigao_norte_annual = surigao_norte_annual.loc[:,['location', 'weathercode (wmo code)', 'temperature_2m (°C)', 'relativehumidity_2m (%)',\n",
    "       'dewpoint_2m (°C)', 'rain (mm)',\n",
    "       'surface_pressure (hPa)', 'cloudcover (%)',\n",
    "       'et0_fao_evapotranspiration (mm)', 'vapor_pressure_deficit (kPa)',\n",
    "       'windspeed_10m (km/h)', 'winddirection_10m (°)', 'windgusts_10m (km/h)',\n",
    "       'soil_temperature_28_to_100cm (°C)',\n",
    "       'soil_moisture_28_to_100cm (m³/m³)', 'direct_radiation (W/m²)',\n",
    "       'diffuse_radiation (W/m²)']]"
   ]
  },
  {
   "cell_type": "code",
   "execution_count": null,
   "metadata": {},
   "outputs": [],
   "source": [
    "surigao_norte_annual"
   ]
  },
  {
   "cell_type": "markdown",
   "metadata": {},
   "source": [
    "### Surigao del Sur"
   ]
  },
  {
   "cell_type": "code",
   "execution_count": 66,
   "metadata": {},
   "outputs": [],
   "source": [
    "surigao_sur = pd.read_csv(r\"csv-files/Region 13 - Surigao del Sur.csv\", header = 2)"
   ]
  },
  {
   "cell_type": "code",
   "execution_count": 67,
   "metadata": {},
   "outputs": [],
   "source": [
    "surigao_sur['time'] = pd.to_datetime(surigao_sur['time'])"
   ]
  },
  {
   "cell_type": "code",
   "execution_count": 68,
   "metadata": {},
   "outputs": [],
   "source": [
    "surigao_sur['year'] = surigao_sur['time'].dt.year"
   ]
  },
  {
   "cell_type": "code",
   "execution_count": 69,
   "metadata": {},
   "outputs": [],
   "source": [
    "surigao_sur_annual = surigao_sur.groupby(\"year\")[['temperature_2m (°C)', 'relativehumidity_2m (%)',\n",
    "       'dewpoint_2m (°C)', 'rain (mm)',\n",
    "       'surface_pressure (hPa)', 'cloudcover (%)',\n",
    "       'et0_fao_evapotranspiration (mm)', 'vapor_pressure_deficit (kPa)',\n",
    "       'windspeed_10m (km/h)', 'winddirection_10m (°)', 'windgusts_10m (km/h)',\n",
    "       'soil_temperature_28_to_100cm (°C)',\n",
    "       'soil_moisture_28_to_100cm (m³/m³)', 'direct_radiation (W/m²)',\n",
    "       'diffuse_radiation (W/m²)']].mean()"
   ]
  },
  {
   "cell_type": "code",
   "execution_count": 70,
   "metadata": {},
   "outputs": [],
   "source": [
    "surigao_sur_annual['weathercode (wmo code)'] = surigao_sur.groupby(['year'])['weathercode (wmo code)'].agg(pd.Series.mode)"
   ]
  },
  {
   "cell_type": "code",
   "execution_count": 71,
   "metadata": {},
   "outputs": [],
   "source": [
    "surigao_sur_annual['location'] = ' Surigao del Sur'"
   ]
  },
  {
   "cell_type": "code",
   "execution_count": 72,
   "metadata": {},
   "outputs": [],
   "source": [
    "surigao_sur_annual = surigao_sur_annual.loc[:,['location', 'weathercode (wmo code)', 'temperature_2m (°C)', 'relativehumidity_2m (%)',\n",
    "       'dewpoint_2m (°C)', 'rain (mm)',\n",
    "       'surface_pressure (hPa)', 'cloudcover (%)',\n",
    "       'et0_fao_evapotranspiration (mm)', 'vapor_pressure_deficit (kPa)',\n",
    "       'windspeed_10m (km/h)', 'winddirection_10m (°)', 'windgusts_10m (km/h)',\n",
    "       'soil_temperature_28_to_100cm (°C)',\n",
    "       'soil_moisture_28_to_100cm (m³/m³)', 'direct_radiation (W/m²)',\n",
    "       'diffuse_radiation (W/m²)']]"
   ]
  },
  {
   "cell_type": "code",
   "execution_count": null,
   "metadata": {},
   "outputs": [],
   "source": [
    "surigao_sur_annual"
   ]
  },
  {
   "cell_type": "markdown",
   "metadata": {},
   "source": [
    "# Bangsmoro Autonomous Region in Muslim Mindanao (BARMM)"
   ]
  },
  {
   "cell_type": "markdown",
   "metadata": {},
   "source": [
    "### Basilan"
   ]
  },
  {
   "cell_type": "code",
   "execution_count": 74,
   "metadata": {},
   "outputs": [],
   "source": [
    "basilan = pd.read_csv(r\"csv-files/BARMM - Basilan.csv\", header = 2)"
   ]
  },
  {
   "cell_type": "code",
   "execution_count": 75,
   "metadata": {},
   "outputs": [],
   "source": [
    "basilan['time'] = pd.to_datetime(basilan['time'])"
   ]
  },
  {
   "cell_type": "code",
   "execution_count": 76,
   "metadata": {},
   "outputs": [],
   "source": [
    "basilan['year'] = basilan['time'].dt.year"
   ]
  },
  {
   "cell_type": "code",
   "execution_count": 77,
   "metadata": {},
   "outputs": [],
   "source": [
    "basilan_annual = basilan.groupby(\"year\")[['temperature_2m (°C)', 'relativehumidity_2m (%)',\n",
    "       'dewpoint_2m (°C)', 'rain (mm)',\n",
    "       'surface_pressure (hPa)', 'cloudcover (%)',\n",
    "       'et0_fao_evapotranspiration (mm)', 'vapor_pressure_deficit (kPa)',\n",
    "       'windspeed_10m (km/h)', 'winddirection_10m (°)', 'windgusts_10m (km/h)',\n",
    "       'soil_temperature_28_to_100cm (°C)',\n",
    "       'soil_moisture_28_to_100cm (m³/m³)', 'direct_radiation (W/m²)',\n",
    "       'diffuse_radiation (W/m²)']].mean()"
   ]
  },
  {
   "cell_type": "code",
   "execution_count": 78,
   "metadata": {},
   "outputs": [],
   "source": [
    "basilan_annual['weathercode (wmo code)'] = basilan.groupby(['year'])['weathercode (wmo code)'].agg(pd.Series.mode)"
   ]
  },
  {
   "cell_type": "code",
   "execution_count": 79,
   "metadata": {},
   "outputs": [],
   "source": [
    "basilan_annual['location'] = ' Basilan'"
   ]
  },
  {
   "cell_type": "code",
   "execution_count": 80,
   "metadata": {},
   "outputs": [],
   "source": [
    "basilan_annual = basilan_annual.loc[:,['location', 'weathercode (wmo code)', 'temperature_2m (°C)', 'relativehumidity_2m (%)',\n",
    "       'dewpoint_2m (°C)', 'rain (mm)',\n",
    "       'surface_pressure (hPa)', 'cloudcover (%)',\n",
    "       'et0_fao_evapotranspiration (mm)', 'vapor_pressure_deficit (kPa)',\n",
    "       'windspeed_10m (km/h)', 'winddirection_10m (°)', 'windgusts_10m (km/h)',\n",
    "       'soil_temperature_28_to_100cm (°C)',\n",
    "       'soil_moisture_28_to_100cm (m³/m³)', 'direct_radiation (W/m²)',\n",
    "       'diffuse_radiation (W/m²)']]"
   ]
  },
  {
   "cell_type": "code",
   "execution_count": null,
   "metadata": {},
   "outputs": [],
   "source": [
    "basilan_annual"
   ]
  },
  {
   "cell_type": "markdown",
   "metadata": {},
   "source": [
    "### Lanao del Sur"
   ]
  },
  {
   "cell_type": "code",
   "execution_count": 82,
   "metadata": {},
   "outputs": [],
   "source": [
    "lanao_sur = pd.read_csv(r\"csv-files/BARMM - Lanao del Sur.csv\", header = 2)"
   ]
  },
  {
   "cell_type": "code",
   "execution_count": 83,
   "metadata": {},
   "outputs": [],
   "source": [
    "lanao_sur['time'] = pd.to_datetime(lanao_sur['time'])"
   ]
  },
  {
   "cell_type": "code",
   "execution_count": 84,
   "metadata": {},
   "outputs": [],
   "source": [
    "lanao_sur['year'] = lanao_sur['time'].dt.year"
   ]
  },
  {
   "cell_type": "code",
   "execution_count": 85,
   "metadata": {},
   "outputs": [],
   "source": [
    "lanao_sur_annual = lanao_sur.groupby(\"year\")[['temperature_2m (°C)', 'relativehumidity_2m (%)',\n",
    "       'dewpoint_2m (°C)', 'rain (mm)',\n",
    "       'surface_pressure (hPa)', 'cloudcover (%)',\n",
    "       'et0_fao_evapotranspiration (mm)', 'vapor_pressure_deficit (kPa)',\n",
    "       'windspeed_10m (km/h)', 'winddirection_10m (°)', 'windgusts_10m (km/h)',\n",
    "       'soil_temperature_28_to_100cm (°C)',\n",
    "       'soil_moisture_28_to_100cm (m³/m³)', 'direct_radiation (W/m²)',\n",
    "       'diffuse_radiation (W/m²)']].mean()"
   ]
  },
  {
   "cell_type": "code",
   "execution_count": 86,
   "metadata": {},
   "outputs": [],
   "source": [
    "lanao_sur_annual['weathercode (wmo code)'] = lanao_sur.groupby(['year'])['weathercode (wmo code)'].agg(pd.Series.mode)"
   ]
  },
  {
   "cell_type": "code",
   "execution_count": 87,
   "metadata": {},
   "outputs": [],
   "source": [
    "lanao_sur_annual['location'] = ' Lanao del Sur'"
   ]
  },
  {
   "cell_type": "code",
   "execution_count": 88,
   "metadata": {},
   "outputs": [],
   "source": [
    "lanao_sur_annual = lanao_sur_annual.loc[:,['location', 'weathercode (wmo code)', 'temperature_2m (°C)', 'relativehumidity_2m (%)',\n",
    "       'dewpoint_2m (°C)', 'rain (mm)',\n",
    "       'surface_pressure (hPa)', 'cloudcover (%)',\n",
    "       'et0_fao_evapotranspiration (mm)', 'vapor_pressure_deficit (kPa)',\n",
    "       'windspeed_10m (km/h)', 'winddirection_10m (°)', 'windgusts_10m (km/h)',\n",
    "       'soil_temperature_28_to_100cm (°C)',\n",
    "       'soil_moisture_28_to_100cm (m³/m³)', 'direct_radiation (W/m²)',\n",
    "       'diffuse_radiation (W/m²)']]"
   ]
  },
  {
   "cell_type": "code",
   "execution_count": null,
   "metadata": {},
   "outputs": [],
   "source": [
    "lanao_sur_annual"
   ]
  },
  {
   "cell_type": "markdown",
   "metadata": {},
   "source": [
    "### Maguindanao"
   ]
  },
  {
   "cell_type": "code",
   "execution_count": 90,
   "metadata": {},
   "outputs": [],
   "source": [
    "maguindanao = pd.read_csv(r\"csv-files/BARMM - Maguindanao.csv\", header = 2)"
   ]
  },
  {
   "cell_type": "code",
   "execution_count": 91,
   "metadata": {},
   "outputs": [],
   "source": [
    "maguindanao['time'] = pd.to_datetime(maguindanao['time'])"
   ]
  },
  {
   "cell_type": "code",
   "execution_count": 92,
   "metadata": {},
   "outputs": [],
   "source": [
    "maguindanao['year'] = maguindanao['time'].dt.year"
   ]
  },
  {
   "cell_type": "code",
   "execution_count": 93,
   "metadata": {},
   "outputs": [],
   "source": [
    "maguindanao_annual = maguindanao.groupby(\"year\")[['temperature_2m (°C)', 'relativehumidity_2m (%)',\n",
    "       'dewpoint_2m (°C)', 'rain (mm)',\n",
    "       'surface_pressure (hPa)', 'cloudcover (%)',\n",
    "       'et0_fao_evapotranspiration (mm)', 'vapor_pressure_deficit (kPa)',\n",
    "       'windspeed_10m (km/h)', 'winddirection_10m (°)', 'windgusts_10m (km/h)',\n",
    "       'soil_temperature_28_to_100cm (°C)',\n",
    "       'soil_moisture_28_to_100cm (m³/m³)', 'direct_radiation (W/m²)',\n",
    "       'diffuse_radiation (W/m²)']].mean()"
   ]
  },
  {
   "cell_type": "code",
   "execution_count": 94,
   "metadata": {},
   "outputs": [],
   "source": [
    "maguindanao_annual['weathercode (wmo code)'] = maguindanao.groupby(['year'])['weathercode (wmo code)'].agg(pd.Series.mode)"
   ]
  },
  {
   "cell_type": "code",
   "execution_count": 95,
   "metadata": {},
   "outputs": [],
   "source": [
    "maguindanao_annual['location'] = ' Maguindanao'"
   ]
  },
  {
   "cell_type": "code",
   "execution_count": 96,
   "metadata": {},
   "outputs": [],
   "source": [
    "maguindanao_annual = maguindanao_annual.loc[:,['location', 'weathercode (wmo code)', 'temperature_2m (°C)', 'relativehumidity_2m (%)',\n",
    "       'dewpoint_2m (°C)', 'rain (mm)',\n",
    "       'surface_pressure (hPa)', 'cloudcover (%)',\n",
    "       'et0_fao_evapotranspiration (mm)', 'vapor_pressure_deficit (kPa)',\n",
    "       'windspeed_10m (km/h)', 'winddirection_10m (°)', 'windgusts_10m (km/h)',\n",
    "       'soil_temperature_28_to_100cm (°C)',\n",
    "       'soil_moisture_28_to_100cm (m³/m³)', 'direct_radiation (W/m²)',\n",
    "       'diffuse_radiation (W/m²)']]"
   ]
  },
  {
   "cell_type": "code",
   "execution_count": null,
   "metadata": {},
   "outputs": [],
   "source": [
    "maguindanao_annual"
   ]
  },
  {
   "cell_type": "markdown",
   "metadata": {},
   "source": [
    "### Sulu"
   ]
  },
  {
   "cell_type": "code",
   "execution_count": 98,
   "metadata": {},
   "outputs": [],
   "source": [
    "sulu = pd.read_csv(r\"csv-files/BARMM - Sulu.csv\", header = 2)"
   ]
  },
  {
   "cell_type": "code",
   "execution_count": 99,
   "metadata": {},
   "outputs": [],
   "source": [
    "sulu['time'] = pd.to_datetime(sulu['time'])"
   ]
  },
  {
   "cell_type": "code",
   "execution_count": 100,
   "metadata": {},
   "outputs": [],
   "source": [
    "sulu['year'] = sulu['time'].dt.year"
   ]
  },
  {
   "cell_type": "code",
   "execution_count": 101,
   "metadata": {},
   "outputs": [],
   "source": [
    "sulu_annual = sulu.groupby(\"year\")[['temperature_2m (°C)', 'relativehumidity_2m (%)',\n",
    "       'dewpoint_2m (°C)', 'rain (mm)',\n",
    "       'surface_pressure (hPa)', 'cloudcover (%)',\n",
    "       'et0_fao_evapotranspiration (mm)', 'vapor_pressure_deficit (kPa)',\n",
    "       'windspeed_10m (km/h)', 'winddirection_10m (°)', 'windgusts_10m (km/h)',\n",
    "       'soil_temperature_28_to_100cm (°C)',\n",
    "       'soil_moisture_28_to_100cm (m³/m³)', 'direct_radiation (W/m²)',\n",
    "       'diffuse_radiation (W/m²)']].mean()"
   ]
  },
  {
   "cell_type": "code",
   "execution_count": 102,
   "metadata": {},
   "outputs": [],
   "source": [
    "sulu_annual['weathercode (wmo code)'] = sulu.groupby(['year'])['weathercode (wmo code)'].agg(pd.Series.mode)"
   ]
  },
  {
   "cell_type": "code",
   "execution_count": 103,
   "metadata": {},
   "outputs": [],
   "source": [
    "sulu_annual['location'] = ' Sulu'"
   ]
  },
  {
   "cell_type": "code",
   "execution_count": 104,
   "metadata": {},
   "outputs": [],
   "source": [
    "sulu_annual = sulu_annual.loc[:,['location', 'weathercode (wmo code)', 'temperature_2m (°C)', 'relativehumidity_2m (%)',\n",
    "       'dewpoint_2m (°C)', 'rain (mm)',\n",
    "       'surface_pressure (hPa)', 'cloudcover (%)',\n",
    "       'et0_fao_evapotranspiration (mm)', 'vapor_pressure_deficit (kPa)',\n",
    "       'windspeed_10m (km/h)', 'winddirection_10m (°)', 'windgusts_10m (km/h)',\n",
    "       'soil_temperature_28_to_100cm (°C)',\n",
    "       'soil_moisture_28_to_100cm (m³/m³)', 'direct_radiation (W/m²)',\n",
    "       'diffuse_radiation (W/m²)']]"
   ]
  },
  {
   "cell_type": "code",
   "execution_count": null,
   "metadata": {},
   "outputs": [],
   "source": [
    "sulu_annual"
   ]
  },
  {
   "cell_type": "markdown",
   "metadata": {},
   "source": [
    "### Tawi-tawi"
   ]
  },
  {
   "cell_type": "code",
   "execution_count": 106,
   "metadata": {},
   "outputs": [],
   "source": [
    "tawi2 = pd.read_csv(r\"csv-files/BARMM - Tawi-tawi.csv\", header = 2)"
   ]
  },
  {
   "cell_type": "code",
   "execution_count": 107,
   "metadata": {},
   "outputs": [],
   "source": [
    "tawi2['time'] = pd.to_datetime(tawi2['time'])"
   ]
  },
  {
   "cell_type": "code",
   "execution_count": 108,
   "metadata": {},
   "outputs": [],
   "source": [
    "tawi2['year'] = tawi2['time'].dt.year"
   ]
  },
  {
   "cell_type": "code",
   "execution_count": 109,
   "metadata": {},
   "outputs": [],
   "source": [
    "tawi2_annual = tawi2.groupby(\"year\")[['temperature_2m (°C)', 'relativehumidity_2m (%)',\n",
    "       'dewpoint_2m (°C)', 'rain (mm)',\n",
    "       'surface_pressure (hPa)', 'cloudcover (%)',\n",
    "       'et0_fao_evapotranspiration (mm)', 'vapor_pressure_deficit (kPa)',\n",
    "       'windspeed_10m (km/h)', 'winddirection_10m (°)', 'windgusts_10m (km/h)',\n",
    "       'soil_temperature_28_to_100cm (°C)',\n",
    "       'soil_moisture_28_to_100cm (m³/m³)', 'direct_radiation (W/m²)',\n",
    "       'diffuse_radiation (W/m²)']].mean()"
   ]
  },
  {
   "cell_type": "code",
   "execution_count": 110,
   "metadata": {},
   "outputs": [],
   "source": [
    "tawi2_annual['weathercode (wmo code)'] = tawi2.groupby(['year'])['weathercode (wmo code)'].agg(pd.Series.mode)"
   ]
  },
  {
   "cell_type": "code",
   "execution_count": 111,
   "metadata": {},
   "outputs": [],
   "source": [
    "tawi2_annual['location'] = ' Tawi-tawi'"
   ]
  },
  {
   "cell_type": "code",
   "execution_count": 112,
   "metadata": {},
   "outputs": [],
   "source": [
    "tawi2_annual = tawi2_annual.loc[:,['location', 'weathercode (wmo code)', 'temperature_2m (°C)', 'relativehumidity_2m (%)',\n",
    "       'dewpoint_2m (°C)', 'rain (mm)',\n",
    "       'surface_pressure (hPa)', 'cloudcover (%)',\n",
    "       'et0_fao_evapotranspiration (mm)', 'vapor_pressure_deficit (kPa)',\n",
    "       'windspeed_10m (km/h)', 'winddirection_10m (°)', 'windgusts_10m (km/h)',\n",
    "       'soil_temperature_28_to_100cm (°C)',\n",
    "       'soil_moisture_28_to_100cm (m³/m³)', 'direct_radiation (W/m²)',\n",
    "       'diffuse_radiation (W/m²)']]"
   ]
  },
  {
   "cell_type": "code",
   "execution_count": null,
   "metadata": {},
   "outputs": [],
   "source": [
    "tawi2_annual"
   ]
  }
 ],
 "metadata": {
  "kernelspec": {
   "display_name": "base",
   "language": "python",
   "name": "python3"
  },
  "language_info": {
   "codemirror_mode": {
    "name": "ipython",
    "version": 3
   },
   "file_extension": ".py",
   "mimetype": "text/x-python",
   "name": "python",
   "nbconvert_exporter": "python",
   "pygments_lexer": "ipython3",
   "version": "3.10.2"
  },
  "orig_nbformat": 4
 },
 "nbformat": 4,
 "nbformat_minor": 2
}
