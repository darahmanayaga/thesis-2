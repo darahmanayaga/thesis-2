{
 "cells": [
  {
   "cell_type": "code",
   "execution_count": 1,
   "metadata": {},
   "outputs": [],
   "source": [
    "import pandas as pd\n",
    "import numpy as np\n",
    "import tensorflow as tf\n",
    "from tensorflow import keras\n",
    "from keras.models import Sequential\n",
    "from keras.layers import Input, Dense\n",
    "from tensorflow.keras import layers\n",
    "from sklearn.model_selection import KFold\n",
    "%matplotlib inline\n",
    "import matplotlib.pyplot as plt\n",
    "from keras import metrics\n",
    "from sklearn.metrics import mean_absolute_error,r2_score, mean_squared_error\n",
    "import time\n",
    "import statistics #for mean computation of metrics\n"
   ]
  },
  {
   "cell_type": "code",
   "execution_count": 2,
   "metadata": {},
   "outputs": [],
   "source": [
    "from sklearn.preprocessing import MinMaxScaler"
   ]
  },
  {
   "cell_type": "markdown",
   "metadata": {},
   "source": [
    "### Import data "
   ]
  },
  {
   "cell_type": "code",
   "execution_count": 3,
   "metadata": {},
   "outputs": [],
   "source": [
    "rf_data = pd.read_csv(r\"D:\\Thesis\\Modelling and Deployment\\RandomForest(rawData).csv\")"
   ]
  },
  {
   "cell_type": "code",
   "execution_count": 5,
   "metadata": {},
   "outputs": [],
   "source": [
    "sff_data = pd.read_csv(r\"D:\\Thesis\\Modelling and Deployment\\SFF(rawData).csv\")"
   ]
  },
  {
   "cell_type": "code",
   "execution_count": 6,
   "metadata": {},
   "outputs": [],
   "source": [
    "vif_data = pd.read_csv(r\"D:\\Thesis\\Modelling and Deployment\\VIF(rawData).csv\")"
   ]
  },
  {
   "cell_type": "markdown",
   "metadata": {},
   "source": [
    "### Define features and target"
   ]
  },
  {
   "cell_type": "code",
   "execution_count": 4,
   "metadata": {},
   "outputs": [],
   "source": [
    "rf_data_X = rf_data.iloc[:,1:5]\n",
    "rf_data_y = rf_data.iloc[:,-1]"
   ]
  },
  {
   "cell_type": "code",
   "execution_count": 8,
   "metadata": {},
   "outputs": [],
   "source": [
    "sff_data_X =sff_data.iloc[:,1:5]\n",
    "sff_data_y = sff_data.iloc[:,-1]"
   ]
  },
  {
   "cell_type": "code",
   "execution_count": 9,
   "metadata": {},
   "outputs": [],
   "source": [
    "vif_data_X =vif_data.iloc[:,1:5]\n",
    "vif_data_y = vif_data.iloc[:,-1]"
   ]
  },
  {
   "cell_type": "markdown",
   "metadata": {},
   "source": [
    "### MLR ANN Model"
   ]
  },
  {
   "cell_type": "code",
   "execution_count": 14,
   "metadata": {},
   "outputs": [],
   "source": [
    "from sklearn.linear_model import LinearRegression\n",
    "def MLR_Model(X_train,y_train):\n",
    "    mlr = LinearRegression()\n",
    "    mlr.fit(X_train,y_train)\n",
    "    return mlr"
   ]
  },
  {
   "cell_type": "code",
   "execution_count": 15,
   "metadata": {},
   "outputs": [],
   "source": [
    "def ANN_Model (initial_weights,bias,neurons = 1,learning_rate=0.01, input_shape=16, activation='relu'): \n",
    "    model = Sequential()\n",
    "    model.add(Input(shape = X_train.shape[1])) # number of input features \n",
    "    model.add(Dense(neurons, activation = activation, name = 'hidden')) # one neuron in hidden layer, relu activation\n",
    "    model.add(Dense(1,activation = 'linear',name='output')) # one neuron in output layer, linear activation\n",
    "\n",
    "\n",
    "    #initialize weights and bias in hidden layer\n",
    "    hidden_layer = model.get_layer('hidden')\n",
    "    #layer.set_weights([weights_array, bias_array])\n",
    "    hidden_layer.set_weights([np.array([initial_weights]).reshape((4, 1)), np.array([bias])])\n",
    "\n",
    "\n",
    "    #compile \n",
    "    model.compile(loss='mean_absolute_error',optimizer=tf.keras.optimizers.Adam(learning_rate=learning_rate),metrics = [metrics.mean_absolute_error,tf.keras.metrics.RootMeanSquaredError()])\n",
    "    return model"
   ]
  },
  {
   "cell_type": "markdown",
   "metadata": {},
   "source": [
    "## Cross Validation"
   ]
  },
  {
   "cell_type": "markdown",
   "metadata": {},
   "source": [
    "### Hybrid Model"
   ]
  },
  {
   "cell_type": "markdown",
   "metadata": {},
   "source": [
    "### RF Data"
   ]
  },
  {
   "cell_type": "code",
   "execution_count": 18,
   "metadata": {},
   "outputs": [],
   "source": [
    "r2_all=[]\n",
    "mae_all=[]\n",
    "rmse_all = []\n",
    "exec_time =[]"
   ]
  },
  {
   "cell_type": "code",
   "execution_count": null,
   "metadata": {},
   "outputs": [],
   "source": [
    "start_time = time.time()\n",
    "\n",
    "#initializing KFold object\n",
    "kfold = KFold(n_splits=10,shuffle=True, random_state=42) #random_state is for reproducability\n",
    "r2=[]\n",
    "mae=[]\n",
    "rmse = []\n",
    "\n",
    "for train_index, test_index in kfold.split(rf_data_X):\n",
    "    X_train, X_test = rf_data_X.iloc[train_index], rf_data_X.iloc[test_index]  # Predictors for train & test\n",
    "    y_train, y_test = rf_data_y.iloc[train_index], rf_data_y.iloc[test_index]  # Target for train, test\n",
    "\n",
    "    # scaling feature sets \n",
    "    scaler = MinMaxScaler()\n",
    "    X_train = scaler.fit_transform(X_train)\n",
    "    X_test = scaler.transform(X_test)\n",
    "\n",
    "    \n",
    "    mlr_model = MLR_Model(X_train,y_train) #perform MLR\n",
    "    rf_ann_model = ANN_Model(mlr_model.coef_,mlr_model.intercept_) #Intercept and coeff of MLR will be initailzied as ANN weights\n",
    "    rf_ann_model.fit(X_train, y_train, epochs=500, batch_size=32, verbose=0) #fit ann model to data\n",
    "    y_pred = rf_ann_model.predict(X_test) #use ann model to predict test set\n",
    "    mae.append(mean_absolute_error(y_test, y_pred))  #measure mean absolute value\n",
    "    r2.append(r2_score(y_test,y_pred))#measure R-squared value\n",
    "    rmse.append(np.sqrt(mean_squared_error(y_test, y_pred)))\n",
    "\n",
    "end_time = time.time()\n",
    "execution_time = end_time - start_time\n",
    "exec_time.append(execution_time)\n",
    "r2_all.append(\"{:.2f}\".format(statistics.mean(r2)))\n",
    "mae_all.append((\"{:.2f}\".format(statistics.mean(mae))))\n",
    "rmse_all.append((\"{:.2f}\".format(statistics.mean(rmse))))\n",
    "print(f\" R-squared: {statistics.mean(r2):.2f}, MAE: {statistics.mean(mae):.2f}, RMSE: {statistics.mean(rmse):.2f}\")\n",
    "print(f\"Execution time: {execution_time} seconds\")\n"
   ]
  },
  {
   "cell_type": "markdown",
   "metadata": {},
   "source": [
    "### SFF Data"
   ]
  },
  {
   "cell_type": "code",
   "execution_count": null,
   "metadata": {},
   "outputs": [],
   "source": [
    "start_time = time.time()\n",
    "\n",
    "#initializing KFold object\n",
    "kfold = KFold(n_splits=10,shuffle=True, random_state=42) #random_state is for reproducability\n",
    "r2=[]\n",
    "mae=[]\n",
    "rmse = []\n",
    "\n",
    "for train_index, test_index in kfold.split(sff_data_X):\n",
    "    X_train, X_test = sff_data_X.iloc[train_index], sff_data_X.iloc[test_index]  # Predictors for train & test\n",
    "    y_train, y_test = sff_data_y.iloc[train_index], sff_data_y.iloc[test_index]  # Target for train, test\n",
    "\n",
    "    # scaling feature sets \n",
    "    scaler = MinMaxScaler()\n",
    "    X_train = scaler.fit_transform(X_train)\n",
    "    X_test = scaler.transform(X_test)\n",
    "\n",
    "    \n",
    "    mlr_model = MLR_Model(X_train,y_train) #perform MLR\n",
    "    sff_ann_model = ANN_Model(mlr_model.coef_,mlr_model.intercept_) #Intercept and coeff of MLR will be initailzied as ANN weights\n",
    "    sff_ann_model.fit(X_train, y_train, epochs=500, batch_size=32, verbose=0) #fit ann model to data\n",
    "    y_pred = sff_ann_model.predict(X_test) #use ann model to predict test set\n",
    "    mae.append(mean_absolute_error(y_test, y_pred))  #measure mean absolute value\n",
    "    r2.append(r2_score(y_test,y_pred))#measure R-squared value\n",
    "    rmse.append(np.sqrt(mean_squared_error(y_test, y_pred)))\n",
    "\n",
    "end_time = time.time()\n",
    "execution_time = end_time - start_time\n",
    "exec_time.append(execution_time)\n",
    "r2_all.append(\"{:.2f}\".format(statistics.mean(r2)))\n",
    "mae_all.append((\"{:.2f}\".format(statistics.mean(mae))))\n",
    "rmse_all.append((\"{:.2f}\".format(statistics.mean(rmse))))\n",
    "print(f\" R-squared: {statistics.mean(r2):.2f}, MAE: {statistics.mean(mae):.2f}, RMSE: {statistics.mean(rmse):.2f}\")\n",
    "print(f\"Execution time: {execution_time} seconds\")\n"
   ]
  },
  {
   "cell_type": "markdown",
   "metadata": {},
   "source": [
    "### VIF Data"
   ]
  },
  {
   "cell_type": "code",
   "execution_count": 183,
   "metadata": {},
   "outputs": [
    {
     "name": "stdout",
     "output_type": "stream",
     "text": [
      "3/3 [==============================] - 0s 0s/step\n",
      "3/3 [==============================] - 0s 5ms/step\n",
      "3/3 [==============================] - 0s 0s/step\n",
      "3/3 [==============================] - 0s 0s/step\n",
      "3/3 [==============================] - 0s 830us/step\n",
      "3/3 [==============================] - 0s 0s/step\n",
      "3/3 [==============================] - 0s 0s/step\n",
      "3/3 [==============================] - 0s 355us/step\n",
      "3/3 [==============================] - 0s 0s/step\n",
      "3/3 [==============================] - 0s 0s/step\n",
      " R-squared: 0.06, MAE: 0.36, RMSE: 0.49\n",
      "Execution time: 231.25638580322266 seconds\n"
     ]
    }
   ],
   "source": [
    "start_time = time.time()\n",
    "\n",
    "#initializing KFold object\n",
    "kfold = KFold(n_splits=10,shuffle=True, random_state=42) #random_state is for reproducability\n",
    "r2=[]\n",
    "mae=[]\n",
    "rmse = []\n",
    "\n",
    "for train_index, test_index in kfold.split(vif_data_X):\n",
    "    X_train, X_test = vif_data_X.iloc[train_index], vif_data_X.iloc[test_index]  # Predictors for train & test\n",
    "    y_train, y_test = vif_data_y.iloc[train_index], vif_data_y.iloc[test_index]  # Target for train, test\n",
    "\n",
    "    # scaling feature sets \n",
    "    scaler = MinMaxScaler()\n",
    "    X_train = scaler.fit_transform(X_train)\n",
    "    X_test = scaler.transform(X_test)\n",
    "\n",
    "\n",
    "    mlr_model = MLR_Model(X_train,y_train) #perform MLR\n",
    "    vif_ann_model = ANN_Model(mlr_model.coef_,mlr_model.intercept_) #Intercept and coeff of MLR will be initailzied as ANN weights\n",
    "    vif_ann_model.fit(X_train, y_train, epochs=500, batch_size=32, verbose=0) #fit ann model to data\n",
    "    y_pred = vif_ann_model.predict(X_test) #use ann model to predict test set\n",
    "    mae.append(mean_absolute_error(y_test, y_pred))  #measure mean absolute value\n",
    "    r2.append(r2_score(y_test,y_pred))#measure R-squared value\n",
    "    rmse.append(np.sqrt(mean_squared_error(y_test, y_pred)))\n",
    "\n",
    "end_time = time.time()\n",
    "execution_time = end_time - start_time\n",
    "exec_time.append(execution_time)\n",
    "r2_all.append(\"{:.2f}\".format(statistics.mean(r2)))\n",
    "mae_all.append((\"{:.2f}\".format(statistics.mean(mae))))\n",
    "rmse_all.append((\"{:.2f}\".format(statistics.mean(rmse))))\n",
    "print(f\" R-squared: {statistics.mean(r2):.2f}, MAE: {statistics.mean(mae):.2f}, RMSE: {statistics.mean(rmse):.2f}\")\n",
    "print(f\"Execution time: {execution_time} seconds\")\n"
   ]
  },
  {
   "cell_type": "markdown",
   "metadata": {},
   "source": [
    "## Traditional ANN"
   ]
  },
  {
   "cell_type": "markdown",
   "metadata": {},
   "source": [
    "### Traditional ANN Model"
   ]
  },
  {
   "cell_type": "code",
   "execution_count": 181,
   "metadata": {},
   "outputs": [],
   "source": [
    "def Trad_ANN_Model (units = 1,learning_rate = 0.01,activation = 'relu'): \n",
    "    model = Sequential()\n",
    "    model.add(Input(shape = (X_train.shape[1],))) # number of input features \n",
    "    model.add(Dense(units=units, activation = activation)) # one neuron in hidden layer, relu activation\n",
    "    model.add(Dense(1,activation = 'linear')) # one neuron in output layer, linear activation\n",
    "\n",
    "    model.compile(loss='mean_absolute_error',optimizer=tf.keras.optimizers.Adam(learning_rate=learning_rate),metrics = [metrics.mean_absolute_error,tf.keras.metrics.RootMeanSquaredError()])\n",
    "    return model"
   ]
  },
  {
   "cell_type": "markdown",
   "metadata": {},
   "source": [
    "### RF Data"
   ]
  },
  {
   "cell_type": "code",
   "execution_count": null,
   "metadata": {},
   "outputs": [],
   "source": [
    "start_time = time.time()\n",
    "\n",
    "#initializing KFold object\n",
    "kfold = KFold(n_splits=10,shuffle=True, random_state=42) #random_state is for reproducability\n",
    "r2 =[]\n",
    "mae =[]\n",
    "rmse = []\n",
    "weights=[]\n",
    "bias =[]\n",
    "\n",
    "\n",
    "for train_index, test_index in kfold.split(rf_data_X):\n",
    "    X_train, X_test = rf_data_X.iloc[train_index], rf_data_X.iloc[test_index]  # Predictors for train & test\n",
    "    y_train, y_test = rf_data_y.iloc[train_index], rf_data_y.iloc[test_index]  # Target for train, test\n",
    "\n",
    "    # scaling fetaure sets \n",
    "    scaler = MinMaxScaler()\n",
    "    X_train = scaler.fit_transform(X_train)\n",
    "    X_test = scaler.transform(X_test)\n",
    "\n",
    "    rf_trad_ann_model = Trad_ANN_Model()\n",
    "    rf_trad_ann_model.fit(X_train, y_train, epochs=500, batch_size=32, verbose=0) #fit ann model to data\n",
    "    y_pred = rf_trad_ann_model.predict(X_test) #use ann model to predict test set\n",
    "    mae.append(mean_absolute_error(y_test, y_pred))  #measure mean absolute value\n",
    "    r2.append(r2_score(y_test,y_pred))#measure R-squared value\n",
    "    rmse.append(np.sqrt(mean_squared_error(y_test, y_pred)))\n",
    "    weights.append(trad_ann_model.get_weights()[0])\n",
    "    bias.append(trad_ann_model.get_weights()[1])\n",
    "\n",
    "end_time = time.time()\n",
    "execution_time = end_time - start_time\n",
    "exec_time.append(execution_time)\n",
    "r2_all.append(\"{:.2f}\".format(statistics.mean(r2)))\n",
    "mae_all.append((\"{:.2f}\".format(statistics.mean(mae))))\n",
    "rmse_all.append((\"{:.2f}\".format(statistics.mean(rmse))))\n",
    "print(f\" R-squared: {statistics.mean(r2):.2f}, MAE: {statistics.mean(mae):.2f}, RMSE: {statistics.mean(rmse):.2f}\")\n",
    "print(f\"Execution time: {execution_time} seconds\")\n"
   ]
  },
  {
   "cell_type": "markdown",
   "metadata": {},
   "source": [
    "### SFF Data"
   ]
  },
  {
   "cell_type": "code",
   "execution_count": null,
   "metadata": {},
   "outputs": [],
   "source": [
    "start_time = time.time()\n",
    "\n",
    "#initializing KFold object\n",
    "kfold = KFold(n_splits=10,shuffle=True, random_state=42) #random_state is for reproducability\n",
    "r2 =[]\n",
    "mae =[]\n",
    "rmse = []\n",
    "\n",
    "for train_index, test_index in kfold.split(sff_data_X):\n",
    "    X_train, X_test = sff_data_X.iloc[train_index], sff_data_X.iloc[test_index]  # Predictors for train & test\n",
    "    y_train, y_test = sff_data_y.iloc[train_index], sff_data_y.iloc[test_index]  # Target for train, test\n",
    "\n",
    "    # scaling fetaure sets \n",
    "    scaler = MinMaxScaler()\n",
    "    X_train = scaler.fit_transform(X_train)\n",
    "    X_test = scaler.transform(X_test)\n",
    "\n",
    "\n",
    "    sff_trad_ann_model = Trad_ANN_Model()\n",
    "    sff_trad_ann_model.fit(X_train, y_train, epochs=500, batch_size=32, verbose=0) #fit ann model to data\n",
    "    y_pred = sff_trad_ann_model.predict(X_test) #use ann model to predict test set\n",
    "    mae.append(mean_absolute_error(y_test, y_pred))  #measure mean absolute value\n",
    "    r2.append(r2_score(y_test,y_pred))#measure R-squared value\n",
    "    rmse.append(np.sqrt(mean_squared_error(y_test, y_pred)))\n",
    "\n",
    "end_time = time.time()\n",
    "execution_time = end_time - start_time\n",
    "exec_time.append(execution_time)\n",
    "r2_all.append(\"{:.2f}\".format(statistics.mean(r2)))\n",
    "mae_all.append((\"{:.2f}\".format(statistics.mean(mae))))\n",
    "rmse_all.append((\"{:.2f}\".format(statistics.mean(rmse))))\n",
    "print(f\" R-squared: {statistics.mean(r2):.2f}, MAE: {statistics.mean(mae):.2f}, RMSE: {statistics.mean(rmse):.2f}\")\n",
    "print(f\"Execution time: {execution_time} seconds\")\n"
   ]
  },
  {
   "cell_type": "markdown",
   "metadata": {},
   "source": [
    "### VIF Data"
   ]
  },
  {
   "cell_type": "code",
   "execution_count": null,
   "metadata": {},
   "outputs": [],
   "source": [
    "start_time = time.time()\n",
    "\n",
    "#initializing KFold object\n",
    "kfold = KFold(n_splits=10,shuffle=True, random_state=42) #random_state is for reproducability\n",
    "r2 =[]\n",
    "mae =[]\n",
    "rmse = []\n",
    "\n",
    "for train_index, test_index in kfold.split(vif_data_X):\n",
    "    X_train, X_test = vif_data_X.iloc[train_index], vif_data_X.iloc[test_index]  # Predictors for train & test\n",
    "    y_train, y_test = vif_data_y.iloc[train_index], vif_data_y.iloc[test_index]  # Target for train, test\n",
    "\n",
    "    # scaling fetaure sets \n",
    "    scaler = MinMaxScaler()\n",
    "    X_train = scaler.fit_transform(X_train)\n",
    "    X_test = scaler.transform(X_test)\n",
    "\n",
    "\n",
    "    vif_trad_ann_model = Trad_ANN_Model()\n",
    "    vif_trad_ann_model.fit(X_train, y_train, epochs=500, batch_size=32, verbose=0) #fit ann model to data\n",
    "    y_pred = vif_trad_ann_model.predict(X_test) #use ann model to predict test set\n",
    "    mae.append(mean_absolute_error(y_test, y_pred))  #measure mean absolute value\n",
    "    r2.append(r2_score(y_test,y_pred))#measure R-squared value\n",
    "    rmse.append(np.sqrt(mean_squared_error(y_test, y_pred)))\n",
    "\n",
    "end_time = time.time()\n",
    "execution_time = end_time - start_time\n",
    "exec_time.append(execution_time)\n",
    "r2_all.append(\"{:.2f}\".format(statistics.mean(r2)))\n",
    "mae_all.append((\"{:.2f}\".format(statistics.mean(mae))))\n",
    "rmse_all.append((\"{:.2f}\".format(statistics.mean(rmse))))\n",
    "print(f\" R-squared: {statistics.mean(r2):.2f}, MAE: {statistics.mean(mae):.2f}, RMSE: {statistics.mean(rmse):.2f}\")\n",
    "print(f\"Execution time: {execution_time} seconds\")\n"
   ]
  },
  {
   "cell_type": "markdown",
   "metadata": {},
   "source": [
    "## Visualization"
   ]
  },
  {
   "cell_type": "code",
   "execution_count": 308,
   "metadata": {},
   "outputs": [],
   "source": [
    "fs_methods=['RF','SFF','VIF', 'RF','SFF','VIF']\n",
    "model = ['MLR - ANN', 'MLR - ANN','MLR - ANN', 'ANN','ANN','ANN']"
   ]
  },
  {
   "cell_type": "code",
   "execution_count": 309,
   "metadata": {},
   "outputs": [],
   "source": [
    "metrics_df = pd.DataFrame({'FS Method': fs_methods, 'Model': model, 'R2' : r2_all, 'MAE': mae_all,'RMSE': rmse_all, 'Exec Time': exec_time})"
   ]
  },
  {
   "cell_type": "code",
   "execution_count": 310,
   "metadata": {},
   "outputs": [
    {
     "data": {
      "text/html": [
       "<div>\n",
       "<style scoped>\n",
       "    .dataframe tbody tr th:only-of-type {\n",
       "        vertical-align: middle;\n",
       "    }\n",
       "\n",
       "    .dataframe tbody tr th {\n",
       "        vertical-align: top;\n",
       "    }\n",
       "\n",
       "    .dataframe thead th {\n",
       "        text-align: right;\n",
       "    }\n",
       "</style>\n",
       "<table border=\"1\" class=\"dataframe\">\n",
       "  <thead>\n",
       "    <tr style=\"text-align: right;\">\n",
       "      <th></th>\n",
       "      <th>FS Method</th>\n",
       "      <th>Model</th>\n",
       "      <th>R2</th>\n",
       "      <th>MAE</th>\n",
       "      <th>RMSE</th>\n",
       "      <th>Exec Time</th>\n",
       "    </tr>\n",
       "  </thead>\n",
       "  <tbody>\n",
       "    <tr>\n",
       "      <th>0</th>\n",
       "      <td>RF</td>\n",
       "      <td>MLR - ANN</td>\n",
       "      <td>0.12</td>\n",
       "      <td>0.36</td>\n",
       "      <td>0.48</td>\n",
       "      <td>235.40</td>\n",
       "    </tr>\n",
       "    <tr>\n",
       "      <th>1</th>\n",
       "      <td>SFF</td>\n",
       "      <td>MLR - ANN</td>\n",
       "      <td>0.06</td>\n",
       "      <td>0.37</td>\n",
       "      <td>0.50</td>\n",
       "      <td>231.01</td>\n",
       "    </tr>\n",
       "    <tr>\n",
       "      <th>2</th>\n",
       "      <td>VIF</td>\n",
       "      <td>MLR - ANN</td>\n",
       "      <td>0.09</td>\n",
       "      <td>0.35</td>\n",
       "      <td>0.49</td>\n",
       "      <td>227.77</td>\n",
       "    </tr>\n",
       "    <tr>\n",
       "      <th>3</th>\n",
       "      <td>RF</td>\n",
       "      <td>ANN</td>\n",
       "      <td>0.07</td>\n",
       "      <td>0.36</td>\n",
       "      <td>0.49</td>\n",
       "      <td>242.24</td>\n",
       "    </tr>\n",
       "    <tr>\n",
       "      <th>4</th>\n",
       "      <td>SFF</td>\n",
       "      <td>ANN</td>\n",
       "      <td>0.03</td>\n",
       "      <td>0.37</td>\n",
       "      <td>0.50</td>\n",
       "      <td>232.03</td>\n",
       "    </tr>\n",
       "    <tr>\n",
       "      <th>5</th>\n",
       "      <td>VIF</td>\n",
       "      <td>ANN</td>\n",
       "      <td>0.06</td>\n",
       "      <td>0.36</td>\n",
       "      <td>0.49</td>\n",
       "      <td>229.39</td>\n",
       "    </tr>\n",
       "  </tbody>\n",
       "</table>\n",
       "</div>"
      ],
      "text/plain": [
       "  FS Method      Model    R2   MAE  RMSE Exec Time\n",
       "0        RF  MLR - ANN  0.12  0.36  0.48    235.40\n",
       "1       SFF  MLR - ANN  0.06  0.37  0.50    231.01\n",
       "2       VIF  MLR - ANN  0.09  0.35  0.49    227.77\n",
       "3        RF        ANN  0.07  0.36  0.49    242.24\n",
       "4       SFF        ANN  0.03  0.37  0.50    232.03\n",
       "5       VIF        ANN  0.06  0.36  0.49    229.39"
      ]
     },
     "execution_count": 310,
     "metadata": {},
     "output_type": "execute_result"
    }
   ],
   "source": [
    "metrics_df"
   ]
  },
  {
   "cell_type": "code",
   "execution_count": 219,
   "metadata": {},
   "outputs": [
    {
     "name": "stdout",
     "output_type": "stream",
     "text": [
      "<class 'pandas.core.frame.DataFrame'>\n",
      "RangeIndex: 6 entries, 0 to 5\n",
      "Data columns (total 5 columns):\n",
      " #   Column     Non-Null Count  Dtype \n",
      "---  ------     --------------  ----- \n",
      " 0   FS Method  6 non-null      object\n",
      " 1   Model      6 non-null      object\n",
      " 2   R2         6 non-null      object\n",
      " 3   MAE        6 non-null      object\n",
      " 4   RMSE       6 non-null      object\n",
      "dtypes: object(5)\n",
      "memory usage: 372.0+ bytes\n"
     ]
    }
   ],
   "source": [
    "metrics_df.info()"
   ]
  },
  {
   "cell_type": "code",
   "execution_count": 311,
   "metadata": {},
   "outputs": [],
   "source": [
    "metrics_df['R2'] = metrics_df['R2'].astype(float)\n",
    "metrics_df['MAE'] = metrics_df['MAE'].astype(float)\n",
    "metrics_df['RMSE'] = metrics_df['RMSE'].astype(float)\n",
    "metrics_df['Exec Time'] = metrics_df['Exec Time'].astype(float)"
   ]
  },
  {
   "cell_type": "code",
   "execution_count": 214,
   "metadata": {},
   "outputs": [],
   "source": [
    "import seaborn as sns"
   ]
  },
  {
   "cell_type": "code",
   "execution_count": 229,
   "metadata": {},
   "outputs": [
    {
     "data": {
      "image/png": "[encoded data removed]",
      "text/plain": [
       "<Figure size 640x480 with 1 Axes>"
      ]
     },
     "metadata": {},
     "output_type": "display_data"
    }
   ],
   "source": [
    "sns.barplot(x=metrics_df['FS Method'], y = metrics_df['R2'],hue = metrics_df['Model'],\n",
    "            palette = ['#44b7c2', '#ffae49'])\n",
    "\n",
    "plt.xlabel(\"Feature Selection\")\n",
    "plt.ylabel('R' + '\\u00b2' )\n",
    "plt.show()"
   ]
  },
  {
   "cell_type": "code",
   "execution_count": 230,
   "metadata": {},
   "outputs": [
    {
     "data": {
      "image/png": "[encoded data removed]",
      "text/plain": [
       "<Figure size 640x480 with 1 Axes>"
      ]
     },
     "metadata": {},
     "output_type": "display_data"
    }
   ],
   "source": [
    "sns.barplot(x=metrics_df['FS Method'], y = metrics_df['MAE'],hue = metrics_df['Model'],\n",
    "            palette = ['#44b7c2', '#ffae49'])\n",
    "\n",
    "plt.xlabel(\"Feature Selection\")\n",
    "plt.ylabel('MAE')\n",
    "plt.show()"
   ]
  },
  {
   "cell_type": "code",
   "execution_count": 232,
   "metadata": {},
   "outputs": [
    {
     "data": {
      "image/png": "[encoded data removed]",
      "text/plain": [
       "<Figure size 640x480 with 1 Axes>"
      ]
     },
     "metadata": {},
     "output_type": "display_data"
    }
   ],
   "source": [
    "sns.barplot(x=metrics_df['FS Method'], y = metrics_df['RMSE'],hue = metrics_df['Model'],\n",
    "            palette = ['#44b7c2', '#ffae49'])\n",
    "\n",
    "plt.xlabel(\"Feature Selection\")\n",
    "plt.ylabel('RMSE')\n",
    "plt.show()"
   ]
  },
  {
   "cell_type": "code",
   "execution_count": 312,
   "metadata": {},
   "outputs": [
    {
     "data": {
      "image/png": "[encoded data removed]",
      "text/plain": [
       "<Figure size 640x480 with 1 Axes>"
      ]
     },
     "metadata": {},
     "output_type": "display_data"
    }
   ],
   "source": [
    "sns.barplot(x=metrics_df['FS Method'], y = metrics_df['Exec Time'],hue = metrics_df['Model'],\n",
    "            palette = ['#44b7c2', '#ffae49'])\n",
    "\n",
    "plt.xlabel(\"Feature Selection\")\n",
    "plt.ylabel('Execution Time (s)')\n",
    "plt.show()"
   ]
  },
  {
   "cell_type": "markdown",
   "metadata": {},
   "source": [
    "## Best Model (RF) "
   ]
  },
  {
   "cell_type": "markdown",
   "metadata": {},
   "source": [
    "### Hyperparameter Tuning"
   ]
  },
  {
   "cell_type": "code",
   "execution_count": 275,
   "metadata": {},
   "outputs": [
    {
     "name": "stdout",
     "output_type": "stream",
     "text": [
      "Defaulting to user installation because normal site-packages is not writeable\n",
      "Requirement already satisfied: scikeras in c:\\users\\user\\appdata\\roaming\\python\\python311\\site-packages (0.12.0)\n",
      "Requirement already satisfied: packaging>=0.21 in c:\\users\\user\\appdata\\roaming\\python\\python311\\site-packages (from scikeras) (23.1)\n",
      "Requirement already satisfied: scikit-learn>=1.0.0 in c:\\users\\user\\appdata\\roaming\\python\\python311\\site-packages (from scikeras) (1.3.2)\n",
      "Requirement already satisfied: tensorflow-io-gcs-filesystem<0.32,>=0.23.1 in c:\\users\\user\\appdata\\roaming\\python\\python311\\site-packages (from scikeras) (0.31.0)\n",
      "Requirement already satisfied: numpy<2.0,>=1.17.3 in c:\\users\\user\\appdata\\roaming\\python\\python311\\site-packages (from scikit-learn>=1.0.0->scikeras) (1.24.3)\n",
      "Requirement already satisfied: scipy>=1.5.0 in c:\\users\\user\\appdata\\roaming\\python\\python311\\site-packages (from scikit-learn>=1.0.0->scikeras) (1.11.1)\n",
      "Requirement already satisfied: joblib>=1.1.1 in c:\\users\\user\\appdata\\roaming\\python\\python311\\site-packages (from scikit-learn>=1.0.0->scikeras) (1.3.1)\n",
      "Requirement already satisfied: threadpoolctl>=2.0.0 in c:\\users\\user\\appdata\\roaming\\python\\python311\\site-packages (from scikit-learn>=1.0.0->scikeras) (3.2.0)\n",
      "Note: you may need to restart the kernel to use updated packages.\n"
     ]
    },
    {
     "name": "stderr",
     "output_type": "stream",
     "text": [
      "\n",
      "[notice] A new release of pip is available: 23.1.2 -> 23.3.1\n",
      "[notice] To update, run: python.exe -m pip install --upgrade pip\n"
     ]
    }
   ],
   "source": [
    "pip install scikeras"
   ]
  },
  {
   "cell_type": "code",
   "execution_count": 5,
   "metadata": {},
   "outputs": [],
   "source": [
    "from scikeras.wrappers import KerasRegressor\n",
    "from sklearn.model_selection import GridSearchCV"
   ]
  },
  {
   "cell_type": "code",
   "execution_count": 6,
   "metadata": {},
   "outputs": [],
   "source": [
    "scaler = MinMaxScaler()\n",
    "features = scaler.fit_transform(rf_data_X)\n",
    "target = rf_data_y"
   ]
  },
  {
   "cell_type": "code",
   "execution_count": 21,
   "metadata": {},
   "outputs": [],
   "source": [
    "reg = KerasRegressor(model= ANN_Model,\n",
    "                        model__initial_weights = mlr_model.coef_,\n",
    "                        model__bias = mlr_model.intercept_,\n",
    "                        loss = 'mean_absolute_error', \n",
    "                        optimizer='adam',\n",
    "                        model__neurons =1,\n",
    "                        model__activation= 'relu',\n",
    "                        metrics = ['mean_absolute_error',tf.keras.metrics.RootMeanSquaredError()],\n",
    "                        model__learning_rate = 0.01, \n",
    "                        verbose = False)"
   ]
  },
  {
   "cell_type": "code",
   "execution_count": 22,
   "metadata": {},
   "outputs": [],
   "source": [
    "param_grid = {'model__activation':['relu','tanh'],\n",
    "              'model__learning_rate':[0.1,0.01,0.001,0.0001]}"
   ]
  },
  {
   "cell_type": "code",
   "execution_count": 23,
   "metadata": {},
   "outputs": [],
   "source": [
    "gs = GridSearchCV(reg, param_grid, scoring='r2', cv = 10, n_jobs=-1, verbose=True)"
   ]
  },
  {
   "cell_type": "code",
   "execution_count": 56,
   "metadata": {},
   "outputs": [
    {
     "name": "stdout",
     "output_type": "stream",
     "text": [
      "Fitting 10 folds for each of 8 candidates, totalling 80 fits\n"
     ]
    },
    {
     "name": "stderr",
     "output_type": "stream",
     "text": [
      "C:\\Users\\User\\AppData\\Roaming\\Python\\Python311\\site-packages\\joblib\\externals\\loky\\process_executor.py:752: UserWarning: A worker stopped while some jobs were given to the executor. This can be caused by a too short worker timeout or by a memory leak.\n",
      "  warnings.warn(\n"
     ]
    },
    {
     "data": {
      "text/html": [
       "<style>#sk-container-id-17 {color: black;}#sk-container-id-17 pre{padding: 0;}#sk-container-id-17 div.sk-toggleable {background-color: white;}#sk-container-id-17 label.sk-toggleable__label {cursor: pointer;display: block;width: 100%;margin-bottom: 0;padding: 0.3em;box-sizing: border-box;text-align: center;}#sk-container-id-17 label.sk-toggleable__label-arrow:before {content: \"▸\";float: left;margin-right: 0.25em;color: #696969;}#sk-container-id-17 label.sk-toggleable__label-arrow:hover:before {color: black;}#sk-container-id-17 div.sk-estimator:hover label.sk-toggleable__label-arrow:before {color: black;}#sk-container-id-17 div.sk-toggleable__content {max-height: 0;max-width: 0;overflow: hidden;text-align: left;background-color: #f0f8ff;}#sk-container-id-17 div.sk-toggleable__content pre {margin: 0.2em;color: black;border-radius: 0.25em;background-color: #f0f8ff;}#sk-container-id-17 input.sk-toggleable__control:checked~div.sk-toggleable__content {max-height: 200px;max-width: 100%;overflow: auto;}#sk-container-id-17 input.sk-toggleable__control:checked~label.sk-toggleable__label-arrow:before {content: \"▾\";}#sk-container-id-17 div.sk-estimator input.sk-toggleable__control:checked~label.sk-toggleable__label {background-color: #d4ebff;}#sk-container-id-17 div.sk-label input.sk-toggleable__control:checked~label.sk-toggleable__label {background-color: #d4ebff;}#sk-container-id-17 input.sk-hidden--visually {border: 0;clip: rect(1px 1px 1px 1px);clip: rect(1px, 1px, 1px, 1px);height: 1px;margin: -1px;overflow: hidden;padding: 0;position: absolute;width: 1px;}#sk-container-id-17 div.sk-estimator {font-family: monospace;background-color: #f0f8ff;border: 1px dotted black;border-radius: 0.25em;box-sizing: border-box;margin-bottom: 0.5em;}#sk-container-id-17 div.sk-estimator:hover {background-color: #d4ebff;}#sk-container-id-17 div.sk-parallel-item::after {content: \"\";width: 100%;border-bottom: 1px solid gray;flex-grow: 1;}#sk-container-id-17 div.sk-label:hover label.sk-toggleable__label {background-color: #d4ebff;}#sk-container-id-17 div.sk-serial::before {content: \"\";position: absolute;border-left: 1px solid gray;box-sizing: border-box;top: 0;bottom: 0;left: 50%;z-index: 0;}#sk-container-id-17 div.sk-serial {display: flex;flex-direction: column;align-items: center;background-color: white;padding-right: 0.2em;padding-left: 0.2em;position: relative;}#sk-container-id-17 div.sk-item {position: relative;z-index: 1;}#sk-container-id-17 div.sk-parallel {display: flex;align-items: stretch;justify-content: center;background-color: white;position: relative;}#sk-container-id-17 div.sk-item::before, #sk-container-id-17 div.sk-parallel-item::before {content: \"\";position: absolute;border-left: 1px solid gray;box-sizing: border-box;top: 0;bottom: 0;left: 50%;z-index: -1;}#sk-container-id-17 div.sk-parallel-item {display: flex;flex-direction: column;z-index: 1;position: relative;background-color: white;}#sk-container-id-17 div.sk-parallel-item:first-child::after {align-self: flex-end;width: 50%;}#sk-container-id-17 div.sk-parallel-item:last-child::after {align-self: flex-start;width: 50%;}#sk-container-id-17 div.sk-parallel-item:only-child::after {width: 0;}#sk-container-id-17 div.sk-dashed-wrapped {border: 1px dashed gray;margin: 0 0.4em 0.5em 0.4em;box-sizing: border-box;padding-bottom: 0.4em;background-color: white;}#sk-container-id-17 div.sk-label label {font-family: monospace;font-weight: bold;display: inline-block;line-height: 1.2em;}#sk-container-id-17 div.sk-label-container {text-align: center;}#sk-container-id-17 div.sk-container {/* jupyter's `normalize.less` sets `[hidden] { display: none; }` but bootstrap.min.css set `[hidden] { display: none !important; }` so we also need the `!important` here to be able to override the default hidden behavior on the sphinx rendered scikit-learn.org. See: https://github.com/scikit-learn/scikit-learn/issues/21755 */display: inline-block !important;position: relative;}#sk-container-id-17 div.sk-text-repr-fallback {display: none;}</style><div id=\"sk-container-id-17\" class=\"sk-top-container\"><div class=\"sk-text-repr-fallback\"><pre>GridSearchCV(cv=10,\n",
       "             estimator=KerasRegressor(loss=&#x27;mean_absolute_error&#x27;, metrics=[&#x27;mean_absolute_error&#x27;, &lt;keras.metrics.regression_metrics.RootMeanSquaredError object at 0x0000028490777550&gt;], model=&lt;function ANN_Model at 0x000002848228ED40&gt;, model__activation=&#x27;relu&#x27;, model__bias=1.6774577975751908, model__initial_weights=array([-1.30060332, -0.58594462,  0.19824069, -0.18466727]), model__learning_rate=0.01, model__neurons=1, optimizer=&#x27;adam&#x27;, verbose=False),\n",
       "             n_jobs=-1,\n",
       "             param_grid={&#x27;model__activation&#x27;: [&#x27;relu&#x27;, &#x27;tanh&#x27;],\n",
       "                         &#x27;model__learning_rate&#x27;: [0.1, 0.01, 0.001, 0.0001]},\n",
       "             scoring=&#x27;r2&#x27;, verbose=True)</pre><b>In a Jupyter environment, please rerun this cell to show the HTML representation or trust the notebook. <br />On GitHub, the HTML representation is unable to render, please try loading this page with nbviewer.org.</b></div><div class=\"sk-container\" hidden><div class=\"sk-item sk-dashed-wrapped\"><div class=\"sk-label-container\"><div class=\"sk-label sk-toggleable\"><input class=\"sk-toggleable__control sk-hidden--visually\" id=\"sk-estimator-id-49\" type=\"checkbox\" ><label for=\"sk-estimator-id-49\" class=\"sk-toggleable__label sk-toggleable__label-arrow\">GridSearchCV</label><div class=\"sk-toggleable__content\"><pre>GridSearchCV(cv=10,\n",
       "             estimator=KerasRegressor(loss=&#x27;mean_absolute_error&#x27;, metrics=[&#x27;mean_absolute_error&#x27;, &lt;keras.metrics.regression_metrics.RootMeanSquaredError object at 0x0000028490777550&gt;], model=&lt;function ANN_Model at 0x000002848228ED40&gt;, model__activation=&#x27;relu&#x27;, model__bias=1.6774577975751908, model__initial_weights=array([-1.30060332, -0.58594462,  0.19824069, -0.18466727]), model__learning_rate=0.01, model__neurons=1, optimizer=&#x27;adam&#x27;, verbose=False),\n",
       "             n_jobs=-1,\n",
       "             param_grid={&#x27;model__activation&#x27;: [&#x27;relu&#x27;, &#x27;tanh&#x27;],\n",
       "                         &#x27;model__learning_rate&#x27;: [0.1, 0.01, 0.001, 0.0001]},\n",
       "             scoring=&#x27;r2&#x27;, verbose=True)</pre></div></div></div><div class=\"sk-parallel\"><div class=\"sk-parallel-item\"><div class=\"sk-item\"><div class=\"sk-label-container\"><div class=\"sk-label sk-toggleable\"><input class=\"sk-toggleable__control sk-hidden--visually\" id=\"sk-estimator-id-50\" type=\"checkbox\" ><label for=\"sk-estimator-id-50\" class=\"sk-toggleable__label sk-toggleable__label-arrow\">estimator: KerasRegressor</label><div class=\"sk-toggleable__content\"><pre>KerasRegressor(\n",
       "\tmodel=&lt;function ANN_Model at 0x000002848228ED40&gt;\n",
       "\tbuild_fn=None\n",
       "\twarm_start=False\n",
       "\trandom_state=None\n",
       "\toptimizer=adam\n",
       "\tloss=mean_absolute_error\n",
       "\tmetrics=[&#x27;mean_absolute_error&#x27;, &lt;keras.metrics.regression_metrics.RootMeanSquaredError object at 0x0000028490777550&gt;]\n",
       "\tbatch_size=None\n",
       "\tvalidation_batch_size=None\n",
       "\tverbose=False\n",
       "\tcallbacks=None\n",
       "\tvalidation_split=0.0\n",
       "\tshuffle=True\n",
       "\trun_eagerly=False\n",
       "\tepochs=1\n",
       "\tmodel__initial_weights=[-1.30060332 -0.58594462  0.19824069 -0.18466727]\n",
       "\tmodel__bias=1.6774577975751908\n",
       "\tmodel__neurons=1\n",
       "\tmodel__activation=relu\n",
       "\tmodel__learning_rate=0.01\n",
       ")</pre></div></div></div><div class=\"sk-serial\"><div class=\"sk-item\"><div class=\"sk-estimator sk-toggleable\"><input class=\"sk-toggleable__control sk-hidden--visually\" id=\"sk-estimator-id-51\" type=\"checkbox\" ><label for=\"sk-estimator-id-51\" class=\"sk-toggleable__label sk-toggleable__label-arrow\">KerasRegressor</label><div class=\"sk-toggleable__content\"><pre>KerasRegressor(\n",
       "\tmodel=&lt;function ANN_Model at 0x000002848228ED40&gt;\n",
       "\tbuild_fn=None\n",
       "\twarm_start=False\n",
       "\trandom_state=None\n",
       "\toptimizer=adam\n",
       "\tloss=mean_absolute_error\n",
       "\tmetrics=[&#x27;mean_absolute_error&#x27;, &lt;keras.metrics.regression_metrics.RootMeanSquaredError object at 0x0000028490777550&gt;]\n",
       "\tbatch_size=None\n",
       "\tvalidation_batch_size=None\n",
       "\tverbose=False\n",
       "\tcallbacks=None\n",
       "\tvalidation_split=0.0\n",
       "\tshuffle=True\n",
       "\trun_eagerly=False\n",
       "\tepochs=1\n",
       "\tmodel__initial_weights=[-1.30060332 -0.58594462  0.19824069 -0.18466727]\n",
       "\tmodel__bias=1.6774577975751908\n",
       "\tmodel__neurons=1\n",
       "\tmodel__activation=relu\n",
       "\tmodel__learning_rate=0.01\n",
       ")</pre></div></div></div></div></div></div></div></div></div></div>"
      ],
      "text/plain": [
       "GridSearchCV(cv=10,\n",
       "             estimator=KerasRegressor(loss='mean_absolute_error', metrics=['mean_absolute_error', <keras.metrics.regression_metrics.RootMeanSquaredError object at 0x0000028490777550>], model=<function ANN_Model at 0x000002848228ED40>, model__activation='relu', model__bias=1.6774577975751908, model__initial_weights=array([-1.30060332, -0.58594462,  0.19824069, -0.18466727]), model__learning_rate=0.01, model__neurons=1, optimizer='adam', verbose=False),\n",
       "             n_jobs=-1,\n",
       "             param_grid={'model__activation': ['relu', 'tanh'],\n",
       "                         'model__learning_rate': [0.1, 0.01, 0.001, 0.0001]},\n",
       "             scoring='r2', verbose=True)"
      ]
     },
     "execution_count": 56,
     "metadata": {},
     "output_type": "execute_result"
    }
   ],
   "source": [
    "gs.fit(features,target)"
   ]
  },
  {
   "cell_type": "code",
   "execution_count": 43,
   "metadata": {},
   "outputs": [
    {
     "data": {
      "text/plain": [
       "0.11674741452083426"
      ]
     },
     "execution_count": 43,
     "metadata": {},
     "output_type": "execute_result"
    }
   ],
   "source": [
    "gs.score(features,target)"
   ]
  },
  {
   "cell_type": "code",
   "execution_count": null,
   "metadata": {},
   "outputs": [],
   "source": [
    "gs.best_params_"
   ]
  },
  {
   "cell_type": "markdown",
   "metadata": {},
   "source": [
    "### Final Model with Train Test Split"
   ]
  },
  {
   "cell_type": "code",
   "execution_count": 76,
   "metadata": {},
   "outputs": [],
   "source": [
    "from sklearn.model_selection import train_test_split "
   ]
  },
  {
   "cell_type": "code",
   "execution_count": 77,
   "metadata": {},
   "outputs": [],
   "source": [
    "X_train, X_test, y_train, y_test = train_test_split(rf_data_X,rf_data_y , \n",
    "                                   random_state=42,  \n",
    "                                   test_size=0.25,  \n",
    "                                   shuffle=True) "
   ]
  },
  {
   "cell_type": "code",
   "execution_count": 80,
   "metadata": {},
   "outputs": [],
   "source": [
    "scaler = MinMaxScaler()\n",
    "X_train = scaler.fit_transform(X_train)\n",
    "X_test = scaler.transform(X_test)"
   ]
  },
  {
   "cell_type": "code",
   "execution_count": 89,
   "metadata": {},
   "outputs": [],
   "source": [
    "def ANN_Model (initial_weights,bias,neurons =1,learning_rate=0.1, input_shape=16, activation='relu'): \n",
    "    model = Sequential()\n",
    "    model.add(Input(shape = X_train.shape[1])) # number of input features \n",
    "    model.add(Dense(neurons, activation = activation, name = 'hidden')) # one neuron in hidden layer, relu activation\n",
    "    model.add(Dense(1,activation = 'linear',name='output')) # one neuron in output layer, linear activation\n",
    "\n",
    "\n",
    "    #initialize weights and bias in hidden layer\n",
    "    hidden_layer = model.get_layer('hidden')\n",
    "    #layer.set_weights([weights_array, bias_array])\n",
    "    hidden_layer.set_weights([np.array([initial_weights]).reshape((4, 1)), np.array([bias])])\n",
    "\n",
    "\n",
    "    #compile \n",
    "    model.compile(loss='mean_absolute_error',optimizer=tf.keras.optimizers.Adam(learning_rate=learning_rate),metrics = [metrics.mean_absolute_error,tf.keras.metrics.RootMeanSquaredError()])\n",
    "    return model"
   ]
  },
  {
   "cell_type": "code",
   "execution_count": 90,
   "metadata": {},
   "outputs": [
    {
     "name": "stdout",
     "output_type": "stream",
     "text": [
      "6/6 [==============================] - 0s 2ms/step\n",
      "R2: 0.2334542608393626\n",
      "MAE: 0.36260057905741233\n",
      "RMSE: 0.45848646123582637\n"
     ]
    }
   ],
   "source": [
    "mlr_model = MLR_Model(X_train,y_train)\n",
    "rf_ann_model = ANN_Model(mlr_model.coef_,mlr_model.intercept_)\n",
    "rf_ann_model.fit(X_train, y_train, epochs=500, batch_size=32, verbose=0) #fit ann model to data\n",
    "y_pred = rf_ann_model.predict(X_test)\n",
    "print(f\"R2: {r2_score(y_test,y_pred)}\")\n",
    "print(f\"MAE: {mean_absolute_error(y_test, y_pred)}\")\n",
    "print(f\"RMSE: {np.sqrt(mean_squared_error(y_test, y_pred))}\")"
   ]
  },
  {
   "cell_type": "code",
   "execution_count": 96,
   "metadata": {},
   "outputs": [
    {
     "name": "stdout",
     "output_type": "stream",
     "text": [
      "6/6 [==============================] - 1s 5ms/step\n",
      "R2: 0.2056745045457068\n",
      "MAE: 0.36020203853064986\n",
      "RMSE: 0.4667203419601244\n"
     ]
    }
   ],
   "source": [
    "mlr_model = MLR_Model(X_train,y_train)\n",
    "rf_ann_model = ANN_Model(mlr_model.coef_,mlr_model.intercept_)\n",
    "rf_ann_model.fit(X_train, y_train, epochs=500, batch_size=32, verbose=0) #fit ann model to data\n",
    "y_pred = rf_ann_model.predict(X_test)\n",
    "print(f\"R2: {r2_score(y_test,y_pred)}\")\n",
    "print(f\"MAE: {mean_absolute_error(y_test, y_pred)}\")\n",
    "print(f\"RMSE: {np.sqrt(mean_squared_error(y_test, y_pred))}\")"
   ]
  },
  {
   "cell_type": "code",
   "execution_count": 97,
   "metadata": {},
   "outputs": [
    {
     "data": {
      "text/plain": [
       "array([-1.26734227, -0.5256133 ,  0.2061351 , -0.16826823])"
      ]
     },
     "execution_count": 97,
     "metadata": {},
     "output_type": "execute_result"
    }
   ],
   "source": [
    "mlr_model.coef_"
   ]
  },
  {
   "cell_type": "code",
   "execution_count": 98,
   "metadata": {},
   "outputs": [
    {
     "data": {
      "text/plain": [
       "1.592927674700734"
      ]
     },
     "execution_count": 98,
     "metadata": {},
     "output_type": "execute_result"
    }
   ],
   "source": [
    "mlr_model.intercept_"
   ]
  },
  {
   "cell_type": "code",
   "execution_count": 100,
   "metadata": {},
   "outputs": [
    {
     "name": "stdout",
     "output_type": "stream",
     "text": [
      "Final Weights: [-12.5384, -6.4382, 6.6707, -1.2248, 0.858]\n",
      "Final bias: [2.463, 0.7131]\n"
     ]
    }
   ],
   "source": [
    "final_weights = []\n",
    "final_bias = []\n",
    "\n",
    "for layer in rf_ann_model.layers:\n",
    "    for i in range(len(layer .get_weights()[0])):\n",
    "        final_weights.append(round(float(layer.get_weights()[0][i]),4))\n",
    "    for i in range(len(layer.get_weights()[1])):\n",
    "        final_bias.append(round(float(layer.get_weights()[1][i]),4))\n",
    "\n",
    "print(f\"Final Weights: {final_weights}\")\n",
    "print(f\"Final bias: {final_bias}\")\n"
   ]
  },
  {
   "cell_type": "markdown",
   "metadata": {},
   "source": [
    "### Model Saving"
   ]
  },
  {
   "cell_type": "code",
   "execution_count": 102,
   "metadata": {},
   "outputs": [],
   "source": [
    "import pickle"
   ]
  },
  {
   "cell_type": "code",
   "execution_count": 103,
   "metadata": {},
   "outputs": [
    {
     "name": "stderr",
     "output_type": "stream",
     "text": [
      "WARNING:absl:Found untraced functions such as _update_step_xla while saving (showing 1 of 1). These functions will not be directly callable after loading.\n"
     ]
    },
    {
     "name": "stdout",
     "output_type": "stream",
     "text": [
      "INFO:tensorflow:Assets written to: C:\\Users\\User\\AppData\\Local\\Temp\\tmp4vtc_204\\assets\n"
     ]
    },
    {
     "name": "stderr",
     "output_type": "stream",
     "text": [
      "INFO:tensorflow:Assets written to: C:\\Users\\User\\AppData\\Local\\Temp\\tmp4vtc_204\\assets\n"
     ]
    }
   ],
   "source": [
    "# save the model\n",
    "pickle.dump(rf_ann_model, open('model.sav', 'wb'))\n",
    "# save the scaler\n",
    "pickle.dump(scaler, open('scaler.sav', 'wb'))"
   ]
  },
  {
   "cell_type": "code",
   "execution_count": 105,
   "metadata": {},
   "outputs": [],
   "source": [
    "# load the model\n",
    "model = pickle.load(open('model.sav', 'rb'))\n",
    "# load the scaler\n",
    "scaler = pickle.load(open('scaler.sav', 'rb'))"
   ]
  },
  {
   "cell_type": "code",
   "execution_count": 115,
   "metadata": {},
   "outputs": [],
   "source": [
    "input_data =(1701,975.3,20.88,78.36)"
   ]
  },
  {
   "cell_type": "code",
   "execution_count": 112,
   "metadata": {},
   "outputs": [
    {
     "data": {
      "text/html": [
       "<div>\n",
       "<style scoped>\n",
       "    .dataframe tbody tr th:only-of-type {\n",
       "        vertical-align: middle;\n",
       "    }\n",
       "\n",
       "    .dataframe tbody tr th {\n",
       "        vertical-align: top;\n",
       "    }\n",
       "\n",
       "    .dataframe thead th {\n",
       "        text-align: right;\n",
       "    }\n",
       "</style>\n",
       "<table border=\"1\" class=\"dataframe\">\n",
       "  <thead>\n",
       "    <tr style=\"text-align: right;\">\n",
       "      <th></th>\n",
       "      <th>rain (mm)</th>\n",
       "      <th>surface_pressure (hPa)</th>\n",
       "      <th>dewpoint_2m (°C)</th>\n",
       "      <th>relativehumidity_2m (%)</th>\n",
       "    </tr>\n",
       "  </thead>\n",
       "  <tbody>\n",
       "    <tr>\n",
       "      <th>0</th>\n",
       "      <td>1701.0</td>\n",
       "      <td>975.3</td>\n",
       "      <td>20.88</td>\n",
       "      <td>78.36</td>\n",
       "    </tr>\n",
       "  </tbody>\n",
       "</table>\n",
       "</div>"
      ],
      "text/plain": [
       "   rain (mm)  surface_pressure (hPa)  dewpoint_2m (°C)  \\\n",
       "0     1701.0                   975.3             20.88   \n",
       "\n",
       "   relativehumidity_2m (%)  \n",
       "0                    78.36  "
      ]
     },
     "execution_count": 112,
     "metadata": {},
     "output_type": "execute_result"
    }
   ],
   "source": [
    "rf_data_X.head(1)"
   ]
  },
  {
   "cell_type": "code",
   "execution_count": 116,
   "metadata": {},
   "outputs": [
    {
     "name": "stdout",
     "output_type": "stream",
     "text": [
      "1/1 [==============================] - 0s 50ms/step\n",
      "Predicted output: [[0.7130559]]\n"
     ]
    }
   ],
   "source": [
    "input_data_as_numpy_array = np.asarray(input_data)\n",
    "input_data_reshaped = input_data_as_numpy_array.reshape(1,-1)\n",
    "scaled = scaler.transform(input_data_reshaped)\n",
    "prediction = model.predict(scaled)\n",
    "print(f\"Predicted output: {prediction}\")"
   ]
  }
 ],
 "metadata": {
  "kernelspec": {
   "display_name": "Python 3",
   "language": "python",
   "name": "python3"
  },
  "language_info": {
   "codemirror_mode": {
    "name": "ipython",
    "version": 3
   },
   "file_extension": ".py",
   "mimetype": "text/x-python",
   "name": "python",
   "nbconvert_exporter": "python",
   "pygments_lexer": "ipython3",
   "version": "3.11.4"
  }
 },
 "nbformat": 4,
 "nbformat_minor": 2
}
