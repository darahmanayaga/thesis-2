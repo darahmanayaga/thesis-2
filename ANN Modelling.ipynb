{
 "cells": [
  {
   "cell_type": "markdown",
   "metadata": {},
   "source": [
    "### Import libraries"
   ]
  },
  {
   "cell_type": "code",
   "execution_count": 1,
   "metadata": {},
   "outputs": [],
   "source": [
    "import pandas as pd\n",
    "import numpy as np\n",
    "import tensorflow as tf\n",
    "from tensorflow import keras\n",
    "from sklearn.preprocessing import StandardScaler\n",
    "from numpy import loadtxt\n",
    "from tensorflow import keras\n",
    "from keras.models import Sequential\n",
    "from keras.layers import Input, Dense\n",
    "from tensorflow.keras import layers\n",
    "from sklearn.model_selection import KFold"
   ]
  },
  {
   "cell_type": "code",
   "execution_count": 2,
   "metadata": {},
   "outputs": [],
   "source": [
    "from keras import metrics"
   ]
  },
  {
   "cell_type": "code",
   "execution_count": 3,
   "metadata": {},
   "outputs": [],
   "source": [
    "from sklearn.metrics import mean_absolute_error,r2_score, mean_squared_error"
   ]
  },
  {
   "cell_type": "code",
   "execution_count": 4,
   "metadata": {},
   "outputs": [],
   "source": [
    "import time"
   ]
  },
  {
   "cell_type": "markdown",
   "metadata": {},
   "source": [
    "### Import dataset"
   ]
  },
  {
   "cell_type": "code",
   "execution_count": 9,
   "metadata": {},
   "outputs": [],
   "source": [
    "whole_data = pd.read_csv(\"Without_Outliers2.csv\") "
   ]
  },
  {
   "cell_type": "code",
   "execution_count": 10,
   "metadata": {},
   "outputs": [
    {
     "data": {
      "text/html": [
       "<div>\n",
       "<style scoped>\n",
       "    .dataframe tbody tr th:only-of-type {\n",
       "        vertical-align: middle;\n",
       "    }\n",
       "\n",
       "    .dataframe tbody tr th {\n",
       "        vertical-align: top;\n",
       "    }\n",
       "\n",
       "    .dataframe thead th {\n",
       "        text-align: right;\n",
       "    }\n",
       "</style>\n",
       "<table border=\"1\" class=\"dataframe\">\n",
       "  <thead>\n",
       "    <tr style=\"text-align: right;\">\n",
       "      <th></th>\n",
       "      <th>Unnamed: 0</th>\n",
       "      <th>Year</th>\n",
       "      <th>Location</th>\n",
       "      <th>Wind_Direction</th>\n",
       "      <th>Wind_Speed</th>\n",
       "      <th>temperature_2m</th>\n",
       "      <th>relativehumidity_2m</th>\n",
       "      <th>dewpoint_2m</th>\n",
       "      <th>surface_pressure</th>\n",
       "      <th>et0_fao_evapotranspiration</th>\n",
       "      <th>...</th>\n",
       "      <th>soil_moisture_28_to_100cm</th>\n",
       "      <th>direct_radiation</th>\n",
       "      <th>diffuse_radiation</th>\n",
       "      <th>rain</th>\n",
       "      <th>weathercode</th>\n",
       "      <th>windgusts_10m</th>\n",
       "      <th>cloudcover</th>\n",
       "      <th>Production</th>\n",
       "      <th>Area</th>\n",
       "      <th>Yield</th>\n",
       "    </tr>\n",
       "  </thead>\n",
       "  <tbody>\n",
       "    <tr>\n",
       "      <th>0</th>\n",
       "      <td>0</td>\n",
       "      <td>1990</td>\n",
       "      <td>AGUSAN DEL NORTE</td>\n",
       "      <td>6</td>\n",
       "      <td>4.1</td>\n",
       "      <td>25.15</td>\n",
       "      <td>78.360000</td>\n",
       "      <td>20.88</td>\n",
       "      <td>975.30</td>\n",
       "      <td>0.16</td>\n",
       "      <td>...</td>\n",
       "      <td>0.28</td>\n",
       "      <td>140.02</td>\n",
       "      <td>70.89</td>\n",
       "      <td>1701.0</td>\n",
       "      <td>1</td>\n",
       "      <td>9.4</td>\n",
       "      <td>100.0</td>\n",
       "      <td>226.68</td>\n",
       "      <td>200.0</td>\n",
       "      <td>1.133400</td>\n",
       "    </tr>\n",
       "    <tr>\n",
       "      <th>1</th>\n",
       "      <td>1</td>\n",
       "      <td>1991</td>\n",
       "      <td>AGUSAN DEL NORTE</td>\n",
       "      <td>8</td>\n",
       "      <td>3.1</td>\n",
       "      <td>25.06</td>\n",
       "      <td>77.990000</td>\n",
       "      <td>20.73</td>\n",
       "      <td>975.55</td>\n",
       "      <td>0.16</td>\n",
       "      <td>...</td>\n",
       "      <td>0.27</td>\n",
       "      <td>138.79</td>\n",
       "      <td>73.80</td>\n",
       "      <td>1634.2</td>\n",
       "      <td>1</td>\n",
       "      <td>11.5</td>\n",
       "      <td>100.0</td>\n",
       "      <td>231.68</td>\n",
       "      <td>204.0</td>\n",
       "      <td>1.135686</td>\n",
       "    </tr>\n",
       "    <tr>\n",
       "      <th>2</th>\n",
       "      <td>2</td>\n",
       "      <td>1992</td>\n",
       "      <td>AGUSAN DEL NORTE</td>\n",
       "      <td>8</td>\n",
       "      <td>3.1</td>\n",
       "      <td>25.39</td>\n",
       "      <td>77.139973</td>\n",
       "      <td>20.11</td>\n",
       "      <td>975.90</td>\n",
       "      <td>0.17</td>\n",
       "      <td>...</td>\n",
       "      <td>0.21</td>\n",
       "      <td>144.62</td>\n",
       "      <td>73.53</td>\n",
       "      <td>1433.2</td>\n",
       "      <td>1</td>\n",
       "      <td>7.9</td>\n",
       "      <td>100.0</td>\n",
       "      <td>219.08</td>\n",
       "      <td>199.0</td>\n",
       "      <td>1.100905</td>\n",
       "    </tr>\n",
       "    <tr>\n",
       "      <th>3</th>\n",
       "      <td>3</td>\n",
       "      <td>1993</td>\n",
       "      <td>AGUSAN DEL NORTE</td>\n",
       "      <td>8</td>\n",
       "      <td>3.6</td>\n",
       "      <td>24.92</td>\n",
       "      <td>79.600000</td>\n",
       "      <td>20.94</td>\n",
       "      <td>975.66</td>\n",
       "      <td>0.15</td>\n",
       "      <td>...</td>\n",
       "      <td>0.28</td>\n",
       "      <td>136.18</td>\n",
       "      <td>72.02</td>\n",
       "      <td>2017.8</td>\n",
       "      <td>1</td>\n",
       "      <td>8.3</td>\n",
       "      <td>100.0</td>\n",
       "      <td>231.47</td>\n",
       "      <td>203.0</td>\n",
       "      <td>1.140246</td>\n",
       "    </tr>\n",
       "    <tr>\n",
       "      <th>4</th>\n",
       "      <td>4</td>\n",
       "      <td>1994</td>\n",
       "      <td>AGUSAN DEL NORTE</td>\n",
       "      <td>6</td>\n",
       "      <td>3.6</td>\n",
       "      <td>24.96</td>\n",
       "      <td>79.450000</td>\n",
       "      <td>20.96</td>\n",
       "      <td>975.32</td>\n",
       "      <td>0.15</td>\n",
       "      <td>...</td>\n",
       "      <td>0.29</td>\n",
       "      <td>137.68</td>\n",
       "      <td>71.24</td>\n",
       "      <td>1722.0</td>\n",
       "      <td>1</td>\n",
       "      <td>8.6</td>\n",
       "      <td>100.0</td>\n",
       "      <td>238.09</td>\n",
       "      <td>208.0</td>\n",
       "      <td>1.144663</td>\n",
       "    </tr>\n",
       "  </tbody>\n",
       "</table>\n",
       "<p>5 rows × 22 columns</p>\n",
       "</div>"
      ],
      "text/plain": [
       "   Unnamed: 0  Year          Location  Wind_Direction  Wind_Speed  \\\n",
       "0           0  1990  AGUSAN DEL NORTE               6         4.1   \n",
       "1           1  1991  AGUSAN DEL NORTE               8         3.1   \n",
       "2           2  1992  AGUSAN DEL NORTE               8         3.1   \n",
       "3           3  1993  AGUSAN DEL NORTE               8         3.6   \n",
       "4           4  1994  AGUSAN DEL NORTE               6         3.6   \n",
       "\n",
       "   temperature_2m  relativehumidity_2m  dewpoint_2m  surface_pressure  \\\n",
       "0           25.15            78.360000        20.88            975.30   \n",
       "1           25.06            77.990000        20.73            975.55   \n",
       "2           25.39            77.139973        20.11            975.90   \n",
       "3           24.92            79.600000        20.94            975.66   \n",
       "4           24.96            79.450000        20.96            975.32   \n",
       "\n",
       "   et0_fao_evapotranspiration  ...  soil_moisture_28_to_100cm  \\\n",
       "0                        0.16  ...                       0.28   \n",
       "1                        0.16  ...                       0.27   \n",
       "2                        0.17  ...                       0.21   \n",
       "3                        0.15  ...                       0.28   \n",
       "4                        0.15  ...                       0.29   \n",
       "\n",
       "   direct_radiation  diffuse_radiation    rain  weathercode  windgusts_10m  \\\n",
       "0            140.02              70.89  1701.0            1            9.4   \n",
       "1            138.79              73.80  1634.2            1           11.5   \n",
       "2            144.62              73.53  1433.2            1            7.9   \n",
       "3            136.18              72.02  2017.8            1            8.3   \n",
       "4            137.68              71.24  1722.0            1            8.6   \n",
       "\n",
       "   cloudcover  Production   Area     Yield  \n",
       "0       100.0      226.68  200.0  1.133400  \n",
       "1       100.0      231.68  204.0  1.135686  \n",
       "2       100.0      219.08  199.0  1.100905  \n",
       "3       100.0      231.47  203.0  1.140246  \n",
       "4       100.0      238.09  208.0  1.144663  \n",
       "\n",
       "[5 rows x 22 columns]"
      ]
     },
     "execution_count": 10,
     "metadata": {},
     "output_type": "execute_result"
    }
   ],
   "source": [
    "whole_data.head()"
   ]
  },
  {
   "cell_type": "code",
   "execution_count": 11,
   "metadata": {},
   "outputs": [
    {
     "data": {
      "text/plain": [
       "Index(['Unnamed: 0', 'Year', 'Location', 'Wind_Direction', 'Wind_Speed',\n",
       "       'temperature_2m', 'relativehumidity_2m', 'dewpoint_2m',\n",
       "       'surface_pressure', 'et0_fao_evapotranspiration',\n",
       "       'vapor_pressure_deficit', 'soil_temperature_28_to_100cm',\n",
       "       'soil_moisture_28_to_100cm', 'direct_radiation', 'diffuse_radiation',\n",
       "       'rain', 'weathercode', 'windgusts_10m', 'cloudcover', 'Production',\n",
       "       'Area', 'Yield'],\n",
       "      dtype='object')"
      ]
     },
     "execution_count": 11,
     "metadata": {},
     "output_type": "execute_result"
    }
   ],
   "source": [
    "whole_data.columns"
   ]
  },
  {
   "cell_type": "markdown",
   "metadata": {},
   "source": [
    "### Define features and target"
   ]
  },
  {
   "cell_type": "code",
   "execution_count": 12,
   "metadata": {},
   "outputs": [],
   "source": [
    "#define target and predictors \n",
    "\n",
    "X = whole_data[['weathercode', 'temperature_2m',\n",
    "       'relativehumidity_2m', 'dewpoint_2m', 'rain',\n",
    "       'surface_pressure', 'cloudcover',\n",
    "       'et0_fao_evapotranspiration', 'vapor_pressure_deficit',\n",
    "       'Wind_Direction', 'Wind_Speed', 'windgusts_10m',\n",
    "       'soil_temperature_28_to_100cm',\n",
    "       'soil_moisture_28_to_100cm', 'direct_radiation',\n",
    "       'diffuse_radiation']]"
   ]
  },
  {
   "cell_type": "code",
   "execution_count": 13,
   "metadata": {},
   "outputs": [
    {
     "data": {
      "text/plain": [
       "Index(['weathercode', 'temperature_2m', 'relativehumidity_2m', 'dewpoint_2m',\n",
       "       'rain', 'surface_pressure', 'cloudcover', 'et0_fao_evapotranspiration',\n",
       "       'vapor_pressure_deficit', 'Wind_Direction', 'Wind_Speed',\n",
       "       'windgusts_10m', 'soil_temperature_28_to_100cm',\n",
       "       'soil_moisture_28_to_100cm', 'direct_radiation', 'diffuse_radiation'],\n",
       "      dtype='object')"
      ]
     },
     "execution_count": 13,
     "metadata": {},
     "output_type": "execute_result"
    }
   ],
   "source": [
    "X.columns"
   ]
  },
  {
   "cell_type": "code",
   "execution_count": 8,
   "metadata": {},
   "outputs": [],
   "source": [
    "y = whole_data['Yield (mt/ha)']"
   ]
  },
  {
   "cell_type": "markdown",
   "metadata": {},
   "source": [
    "### MLR Model"
   ]
  },
  {
   "cell_type": "code",
   "execution_count": 9,
   "metadata": {},
   "outputs": [],
   "source": [
    "from sklearn.linear_model import LinearRegression"
   ]
  },
  {
   "cell_type": "code",
   "execution_count": 10,
   "metadata": {},
   "outputs": [],
   "source": [
    "from sklearn.linear_model import LinearRegression\n",
    "def MLR_Model(X_train,y_train):\n",
    "    mlr = LinearRegression()\n",
    "    mlr.fit(X_train,y_train)\n",
    "    return mlr"
   ]
  },
  {
   "cell_type": "markdown",
   "metadata": {},
   "source": [
    "#### Create ANN Model"
   ]
  },
  {
   "cell_type": "code",
   "execution_count": 11,
   "metadata": {},
   "outputs": [],
   "source": [
    "from tensorflow.keras import activations"
   ]
  },
  {
   "cell_type": "code",
   "execution_count": 12,
   "metadata": {},
   "outputs": [],
   "source": [
    "def ANN_Model (initial_weights,bias,neurons = 1,learning_rate=0.01, input_shape=16, activation=activations.relu): \n",
    "    model = Sequential()\n",
    "    model.add(Input(shape = X_train.shape[1])) # number of input features \n",
    "    model.add(Dense(neurons, activation = activation, name = 'hidden')) # one neuron in hidden layer, relu activation\n",
    "    model.add(Dense(1,activation = 'linear')) # one neuron in output layer, linear activation\n",
    "\n",
    "\n",
    "    #initialize weights and bias in hidden layer\n",
    "    hidden_layer = model.get_layer('hidden')\n",
    "    #layer.set_weights([weights_array, bias_array])\n",
    "    hidden_layer.set_weights([np.array([initial_weights]).reshape((16, 1)), np.array([bias])])\n",
    "\n",
    "\n",
    "    #compile \n",
    "    model.compile(loss='mean_absolute_error',optimizer=tf.keras.optimizers.Adam(learning_rate=learning_rate),metrics = [metrics.mean_absolute_error,tf.keras.metrics.RootMeanSquaredError()])\n",
    "    return model\n",
    "\n"
   ]
  },
  {
   "cell_type": "markdown",
   "metadata": {},
   "source": [
    "### Hybrid Model Cross Validation "
   ]
  },
  {
   "cell_type": "code",
   "execution_count": 13,
   "metadata": {},
   "outputs": [
    {
     "name": "stdout",
     "output_type": "stream",
     "text": [
      "[[-0.41033963  0.08986576 -2.52535882 ... -1.83998537 -0.03583865\n",
      "  -0.410207  ]\n",
      " [-0.41033963  0.04069794 -2.67391028 ... -2.00010087 -0.12189875\n",
      "   0.52507965]\n",
      " [-0.41033963  0.22097996 -3.01518787 ... -2.96079389  0.28601212\n",
      "   0.43830047]\n",
      " ...\n",
      " [-0.41033963  0.54330236 -0.14853549 ...  0.56174717  0.3524813\n",
      "   0.51865156]\n",
      " [-0.41033963  0.60339636  0.09637367 ...  0.72186267 -0.37798001\n",
      "   0.63757117]\n",
      " [-0.41033963  0.42311434  0.89132471 ...  1.36232468 -1.4072028\n",
      "   1.96497111]]\n",
      "[array([[ 0.23050131],\n",
      "       [-0.5589194 ],\n",
      "       [-0.99432224],\n",
      "       [ 0.37249658],\n",
      "       [-0.85521823],\n",
      "       [-0.53018796],\n",
      "       [-0.35795632],\n",
      "       [ 0.09096181],\n",
      "       [-0.8764771 ],\n",
      "       [-0.23161574],\n",
      "       [ 0.2166952 ],\n",
      "       [ 0.2510235 ],\n",
      "       [ 0.29725218],\n",
      "       [-0.11424324],\n",
      "       [-0.24520785],\n",
      "       [ 0.54139066]], dtype=float32), array([2.3570635], dtype=float32), array([[0.25202137]], dtype=float32), array([0.11905321], dtype=float32)]\n",
      "3/3 [==============================] - 0s 1000us/step\n",
      "MAE: 0.276765342045355\n",
      "R2: 0.15762339560995897\n",
      "RMSE: 0.365155638614802\n",
      "Intercept: 0.7947303437178834\n",
      "Coefficients: [(0.05313095918327563,), (-0.5476592649181083,), (-0.6118874643581755,), (0.5202472072796342,), (-0.22289618143232243,), (-0.16708470806131032,), (-0.05758581371176064,), (0.13190280510446623,), (-0.5155230783302881,), (-0.03155879655941272,), (0.041296735574203526,), (0.05083741480405847,), (0.1752598375244269,), (-0.01387942756371478,), (-0.06662433276261981,), (0.17177365826470026,)]\n",
      "[[-0.38765552  0.08823412 -2.54893575 ... -1.83355538 -0.04790306\n",
      "  -0.41549863]\n",
      " [-0.38765552  0.03890835 -2.69831669 ... -1.99197525 -0.13478709\n",
      "   0.52384709]\n",
      " [-0.38765552 -0.03782063 -2.04830774 ... -1.83355538 -0.31915076\n",
      "  -0.05073551]\n",
      " ...\n",
      " [-0.38765552  0.54312735 -0.15884073 ...  0.54274267  0.34413464\n",
      "   0.51739111]\n",
      " [-0.38765552  0.60341441  0.08743595 ...  0.70116254 -0.39332006\n",
      "   0.63682682]\n",
      " [-0.38765552  0.42255324  0.88682584 ...  1.33484202 -1.43239655\n",
      "   1.96998758]]\n",
      "[array([[-0.40521455],\n",
      "       [ 0.22019768],\n",
      "       [-0.94481295],\n",
      "       [ 1.560781  ],\n",
      "       [ 0.7327927 ],\n",
      "       [ 0.631858  ],\n",
      "       [ 0.14904347],\n",
      "       [-0.04126734],\n",
      "       [-0.8686606 ],\n",
      "       [ 0.48950416],\n",
      "       [-0.15842393],\n",
      "       [-0.2856853 ],\n",
      "       [-1.1046941 ],\n",
      "       [ 0.34186786],\n",
      "       [ 0.48683265],\n",
      "       [-0.3797673 ]], dtype=float32), array([0.43978232], dtype=float32), array([[-0.21980293]], dtype=float32), array([0.9594435], dtype=float32)]\n",
      "3/3 [==============================] - 0s 0s/step\n",
      "MAE: 0.34296435787918966\n",
      "R2: 0.24056651596637257\n",
      "RMSE: 0.464565318815089\n",
      "Intercept: 0.7921671186406988\n",
      "Coefficients: [(0.041636293634991946,), (-0.5939554316899129,), (-0.5653681469865406,), (0.4998583658575604,), (-0.19360555742001143,), (-0.16052695321309812,), (-0.051852551180919346,), (0.08392060338577534,), (-0.4417155460891803,), (-0.04185246902350044,), (0.04497328821013516,), (0.033749729152003645,), (0.23378844412277464,), (-0.020994866812323234,), (-0.043718626281568376,), (0.16523079276822616,)]\n",
      "[[-0.40041711  0.07642574 -2.56624363 ... -1.82480838 -0.04485514\n",
      "  -0.41467054]\n",
      " [-0.40041711  0.02691917 -2.7171735  ... -1.98274336 -0.13187646\n",
      "   0.52338605]\n",
      " [-0.40041711  0.20844329 -3.0639152  ... -2.93035326  0.28059046\n",
      "   0.43634987]\n",
      " ...\n",
      " [-0.40041711  0.43397325  0.68486754 ...  1.17595629 -0.09437947\n",
      "   0.78127103]\n",
      " [-0.40041711  0.53298641 -0.15136557 ...  0.54421636  0.34780205\n",
      "   0.51693893]\n",
      " [-0.40041711  0.41197033  0.90514358 ...  1.33389128 -1.43153637\n",
      "   1.96754191]]\n",
      "[array([[ 0.27562127],\n",
      "       [-0.04248045],\n",
      "       [-0.65605044],\n",
      "       [-0.09785749],\n",
      "       [-0.844454  ],\n",
      "       [-0.41432783],\n",
      "       [-0.38643372],\n",
      "       [ 0.08961992],\n",
      "       [-0.6503417 ],\n",
      "       [-0.19349787],\n",
      "       [ 0.23737389],\n",
      "       [ 0.23922974],\n",
      "       [ 0.27186173],\n",
      "       [-0.1456997 ],\n",
      "       [-0.26196298],\n",
      "       [ 0.49349028]], dtype=float32), array([2.4143057], dtype=float32), array([[0.24609253]], dtype=float32), array([0.11621233], dtype=float32)]\n",
      "3/3 [==============================] - 0s 2ms/step\n",
      "MAE: 0.3974090138260724\n",
      "R2: 0.1291638740805363\n",
      "RMSE: 0.5471220609433817\n",
      "Intercept: 0.7787810598844942\n",
      "Coefficients: [(0.06461674844760558,), (-0.04263834429967017,), (-0.5394960525488869,), (0.12102853153008926,), (-0.22504355900327222,), (-0.16048125623908543,), (-0.06624571852217306,), (0.1379262694931904,), (-0.5931419017033923,), (-0.033681984553767114,), (0.031813835380975757,), (0.04919223275261664,), (0.1280111686874417,), (-0.01247101151317622,), (-0.09796256823536277,), (0.15467886917586687,)]\n",
      "[[-0.38522162  0.07015126 -2.51416252 ... -1.79507289 -0.06430238\n",
      "  -0.38963319]\n",
      " [-0.38522162  0.02088231 -2.66198679 ... -1.95161267 -0.15067884\n",
      "   0.54112155]\n",
      " [-0.38522162  0.20153512 -3.00159377 ... -2.89085139  0.25873156\n",
      "   0.45476286]\n",
      " ...\n",
      " [-0.38522162  0.52452045 -0.14897416 ...  0.5530239   0.3254451\n",
      "   0.53472461]\n",
      " [-0.38522162  0.58473805  0.09473613 ...  0.70956369 -0.4077015\n",
      "   0.653068  ]\n",
      " [-0.38522162  0.40408524  0.88579575 ...  1.33572283 -1.44070787\n",
      "   1.97403606]]\n",
      "[array([[ 0.2496607 ],\n",
      "       [-0.07907624],\n",
      "       [-0.8605376 ],\n",
      "       [ 0.00761554],\n",
      "       [-0.75014234],\n",
      "       [-0.43964663],\n",
      "       [-0.30661228],\n",
      "       [ 0.14693668],\n",
      "       [-0.87015873],\n",
      "       [-0.29839417],\n",
      "       [ 0.16443382],\n",
      "       [ 0.24432158],\n",
      "       [ 0.33192965],\n",
      "       [-0.07444903],\n",
      "       [-0.18224691],\n",
      "       [ 0.5589693 ]], dtype=float32), array([2.4110792], dtype=float32), array([[0.2557284]], dtype=float32), array([0.13493237], dtype=float32)]\n",
      "3/3 [==============================] - 0s 1000us/step\n",
      "MAE: 0.2846771930264256\n",
      "R2: 0.37352775143430994\n",
      "RMSE: 0.39318356283317174\n",
      "Intercept: 0.7832437195546447\n",
      "Coefficients: [(0.05962429400962498,), (-0.10791652326523493,), (-0.5992678790721037,), (0.13420429551655913,), (-0.2187563079605977,), (-0.16775847651370404,), (-0.05464964870954046,), (0.10001745417909541,), (-0.6355917948938045,), (-0.037779148924185005,), (0.026521919933500608,), (0.04528712479096956,), (0.2206034954227644,), (0.0023664498913117263,), (-0.05549282544298211,), (0.16228689597873655,)]\n",
      "[[-0.40489911  0.02638071 -2.68551383 ... -1.92806568 -0.1491209\n",
      "   0.53447181]\n",
      " [-0.40489911  0.20960286 -3.02736545 ... -2.8616569   0.26854985\n",
      "   0.44606339]\n",
      " [-0.40489911 -0.0513499  -2.03802699 ... -1.77246714 -0.33610557\n",
      "  -0.04836885]\n",
      " ...\n",
      " [-0.40489911  0.43724251  0.6685484  ...  1.18390505 -0.11115083\n",
      "   0.79642266]\n",
      " [-0.40489911  0.53718187 -0.15589135 ...  0.56151091  0.3366094\n",
      "   0.52792304]\n",
      " [-0.40489911  0.59825592  0.08942975 ...  0.71710944 -0.41132929\n",
      "   0.64907531]]\n",
      "[array([[ 0.2975519 ],\n",
      "       [-0.5854901 ],\n",
      "       [-0.5095081 ],\n",
      "       [ 0.13812171],\n",
      "       [-0.8443272 ],\n",
      "       [-0.3500122 ],\n",
      "       [-0.38288882],\n",
      "       [ 0.01448215],\n",
      "       [-0.41141996],\n",
      "       [-0.26997465],\n",
      "       [ 0.22083417],\n",
      "       [ 0.23529944],\n",
      "       [ 0.39924452],\n",
      "       [-0.19834703],\n",
      "       [-0.17856249],\n",
      "       [ 0.5110147 ]], dtype=float32), array([2.4457686], dtype=float32), array([[0.22499955]], dtype=float32), array([0.10707484], dtype=float32)]\n",
      "WARNING:tensorflow:5 out of the last 13 calls to <function Model.make_predict_function.<locals>.predict_function at 0x0000023436804180> triggered tf.function retracing. Tracing is expensive and the excessive number of tracings could be due to (1) creating @tf.function repeatedly in a loop, (2) passing tensors with different shapes, (3) passing Python objects instead of tensors. For (1), please define your @tf.function outside of the loop. For (2), @tf.function has reduce_retracing=True option that can avoid unnecessary retracing. For (3), please refer to https://www.tensorflow.org/guide/function#controlling_retracing and https://www.tensorflow.org/api_docs/python/tf/function for  more details.\n",
      "3/3 [==============================] - 0s 2ms/step\n",
      "MAE: 0.3391350699722973\n",
      "R2: 0.1638546114103876\n",
      "RMSE: 0.443114173756748\n",
      "Intercept: 0.785783542878088\n",
      "Coefficients: [(0.05836156892842692,), (-0.41310892279588024,), (-0.5426222523228035,), (0.35519185579945994,), (-0.2160929123539268,), (-0.16249985305176717,), (-0.06261956960022572,), (0.08651170118232969,), (-0.48134508557335237,), (-0.03891473035730819,), (0.03251615678814089,), (0.04699756769735254,), (0.22043289872244784,), (-0.0171545287814143,), (-0.04963827568509629,), (0.15155289453238277,)]\n",
      "[[-0.40786882  0.09390168 -2.59568606 ... -1.80935019 -0.0598793\n",
      "  -0.40720863]\n",
      " [-0.40786882  0.0456229  -2.74670549 ... -1.96602015 -0.1446776\n",
      "   0.51658271]\n",
      " [-0.40786882  0.22264512 -3.09365293 ... -2.90603987  0.25725255\n",
      "   0.43087011]\n",
      " ...\n",
      " [-0.40786882  0.5391394  -0.17937511 ...  0.54069912  0.32274717\n",
      "   0.51023363]\n",
      " [-0.40786882  0.5981468   0.06960287 ...  0.69736907 -0.39700424\n",
      "   0.62769163]\n",
      " [-0.40786882  0.42112458  0.87776093 ...  1.32404889 -1.41113673\n",
      "   1.93877693]]\n",
      "[array([[ 0.21681601],\n",
      "       [-0.25159442],\n",
      "       [-0.9310108 ],\n",
      "       [ 0.08411989],\n",
      "       [-0.85097617],\n",
      "       [-0.46518564],\n",
      "       [-0.34756765],\n",
      "       [ 0.08096398],\n",
      "       [-0.9742455 ],\n",
      "       [-0.2795412 ],\n",
      "       [ 0.22949192],\n",
      "       [ 0.2268045 ],\n",
      "       [ 0.4476865 ],\n",
      "       [-0.07391564],\n",
      "       [-0.23326795],\n",
      "       [ 0.5389501 ]], dtype=float32), array([2.4294913], dtype=float32), array([[0.25942186]], dtype=float32), array([0.12143243], dtype=float32)]\n",
      "WARNING:tensorflow:5 out of the last 13 calls to <function Model.make_predict_function.<locals>.predict_function at 0x000002343505A160> triggered tf.function retracing. Tracing is expensive and the excessive number of tracings could be due to (1) creating @tf.function repeatedly in a loop, (2) passing tensors with different shapes, (3) passing Python objects instead of tensors. For (1), please define your @tf.function outside of the loop. For (2), @tf.function has reduce_retracing=True option that can avoid unnecessary retracing. For (3), please refer to https://www.tensorflow.org/guide/function#controlling_retracing and https://www.tensorflow.org/api_docs/python/tf/function for  more details.\n",
      "3/3 [==============================] - 0s 4ms/step\n",
      "MAE: 0.3026753210238742\n",
      "R2: 0.27515321368780465\n",
      "RMSE: 0.39721290696347444\n",
      "Intercept: 0.7832752688573161\n",
      "Coefficients: [(0.04925283527007469,), (-0.28234090449719257,), (-0.6726627537721821,), (0.29787579103085543,), (-0.20722345435063574,), (-0.1723573619525866,), (-0.060882237998730736,), (0.1299771386036065,), (-0.6743392701617706,), (-0.04458112973381141,), (0.03858031429917812,), (0.04005851195955211,), (0.2309974566932231,), (0.00421270536722477,), (-0.08833832966171595,), (0.15312451111199066,)]\n",
      "[[-0.40965438  0.07834379 -2.57543393 ... -1.78449606 -0.03469645\n",
      "  -0.4267075 ]\n",
      " [-0.40965438  0.02944924 -2.72672375 ... -1.94095358 -0.1215001\n",
      "   0.52044359]\n",
      " [-0.40965438  0.20872927 -3.07429238 ... -2.87969873  0.28993508\n",
      "   0.43256359]\n",
      " ...\n",
      " [-0.40965438  0.52926023 -0.15479678 ...  0.5623668   0.35697854\n",
      "   0.51393396]\n",
      " [-0.40965438  0.58902024  0.09462698 ...  0.71882432 -0.37979388\n",
      "   0.6343621 ]\n",
      " [-0.40965438  0.40974021  0.90423197 ...  1.34465442 -1.41790905\n",
      "   1.97860058]]\n",
      "[array([[ 0.26239824],\n",
      "       [-0.46495238],\n",
      "       [-0.96755075],\n",
      "       [ 0.17717986],\n",
      "       [-0.708859  ],\n",
      "       [-0.3713515 ],\n",
      "       [-0.297151  ],\n",
      "       [ 0.0387621 ],\n",
      "       [-0.8940318 ],\n",
      "       [-0.35803872],\n",
      "       [ 0.29658094],\n",
      "       [ 0.13453202],\n",
      "       [ 0.42996526],\n",
      "       [-0.18716355],\n",
      "       [-0.13011707],\n",
      "       [ 0.6304845 ]], dtype=float32), array([2.3484168], dtype=float32), array([[0.25874257]], dtype=float32), array([0.11452453], dtype=float32)]\n",
      "3/3 [==============================] - 0s 0s/step\n",
      "MAE: 0.3517781845814969\n",
      "R2: 0.32163371936457363\n",
      "RMSE: 0.44972792551480534\n",
      "Intercept: 0.7858883367994505\n",
      "Coefficients: [(0.044301259212598344,), (-0.41018529104504486,), (-0.6343887819587045,), (0.3607091333361311,), (-0.19974277924170275,), (-0.14942649316763135,), (-0.05218904808371319,), (0.10558852943571315,), (-0.5914929159548937,), (-0.05253494757686549,), (0.030875192152995952,), (0.031309133537699416,), (0.24654242377988084,), (-0.011420676158474516,), (-0.057795797624617354,), (0.16769524827187443,)]\n",
      "[[-0.38481878  0.06037491 -2.52013005 ... -1.76962704 -0.05014597\n",
      "  -0.4077225 ]\n",
      " [-0.38481878  0.01009823 -2.66927699 ... -1.925124   -0.13652921\n",
      "   0.51754675]\n",
      " [-0.38481878  0.19444607 -3.01192263 ... -2.85810578  0.27291332\n",
      "   0.43169702]\n",
      " ...\n",
      " [-0.38481878  0.52403768 -0.13377893 ...  0.56282739  0.33963208\n",
      "   0.51118751]\n",
      " [-0.38481878  0.58548696  0.11211198 ...  0.71832435 -0.39357203\n",
      "   0.62883343]\n",
      " [-0.38481878  0.40113912  0.91024968 ...  1.3403122  -1.42665944\n",
      "   1.94201625]]\n",
      "[array([[ 0.22567324],\n",
      "       [-0.06356855],\n",
      "       [-0.9030124 ],\n",
      "       [-0.18819596],\n",
      "       [-0.71817064],\n",
      "       [-0.4442863 ],\n",
      "       [-0.33021265],\n",
      "       [ 0.06928618],\n",
      "       [-0.9517625 ],\n",
      "       [-0.3131365 ],\n",
      "       [ 0.26175204],\n",
      "       [ 0.2140078 ],\n",
      "       [ 0.33783516],\n",
      "       [-0.14553691],\n",
      "       [-0.12067337],\n",
      "       [ 0.58727926]], dtype=float32), array([2.3911934], dtype=float32), array([[0.26281872]], dtype=float32), array([0.1342221], dtype=float32)]\n",
      "3/3 [==============================] - 0s 838us/step\n",
      "MAE: 0.2987460363068069\n",
      "R2: 0.2950440729899988\n",
      "RMSE: 0.4156367807699405\n",
      "Intercept: 0.7830683148068712\n",
      "Coefficients: [(0.04733994828744196,), (-0.08106674597664869,), (-0.6149532603397752,), (0.1017292540028717,), (-0.20644897656761987,), (-0.1437115443003225,), (-0.06147285625835552,), (0.10251449649812426,), (-0.664820522959311,), (-0.04791261109892852,), (0.02067925721924956,), (0.04852363910176082,), (0.21410954677058638,), (2.0874965279397582e-05,), (-0.050969652339113644,), (0.16420115693509238,)]\n",
      "[[-0.39742282  0.08706956 -2.5781651  ... -1.78774202 -0.0568993\n",
      "  -0.411673  ]\n",
      " [-0.39742282  0.03786491 -2.72987138 ... -1.94288143 -0.14288012\n",
      "   0.53241897]\n",
      " [-0.39742282  0.21828196 -3.07839675 ... -2.87371787  0.264655\n",
      "   0.44482281]\n",
      " ...\n",
      " [-0.39742282  0.44243648  0.68967009 ...  1.15990672 -0.10583147\n",
      "   0.79196315]\n",
      " [-0.39742282  0.60098479  0.09924566 ...  0.6944885  -0.39872549\n",
      "   0.64596955]\n",
      " [-0.39742282  0.42056774  0.91107925 ...  1.31504613 -1.4270002\n",
      "   1.9858664 ]]\n",
      "[array([[ 0.2311191 ],\n",
      "       [ 0.00858506],\n",
      "       [-0.748856  ],\n",
      "       [-0.10385425],\n",
      "       [-0.6734532 ],\n",
      "       [-0.3518082 ],\n",
      "       [-0.31021595],\n",
      "       [ 0.18673164],\n",
      "       [-0.7337977 ],\n",
      "       [-0.21208785],\n",
      "       [ 0.17079967],\n",
      "       [ 0.3225204 ],\n",
      "       [ 0.1918407 ],\n",
      "       [-0.05564637],\n",
      "       [-0.27182367],\n",
      "       [ 0.45726538]], dtype=float32), array([2.1496837], dtype=float32), array([[0.30005]], dtype=float32), array([0.13329893], dtype=float32)]\n",
      "3/3 [==============================] - 0s 1ms/step\n",
      "MAE: 0.33338364385767666\n",
      "R2: 0.16167447138666613\n",
      "RMSE: 0.4588851564900083\n",
      "Intercept: 0.7884443717336972\n",
      "Coefficients: [(0.044186508527251776,), (-0.0741111774302251,), (-0.6039556806912656,), (0.0967306621943344,), (-0.21336931669290513,), (-0.16595863347618556,), (-0.06121835426864837,), (0.14797696998876278,), (-0.6706682719581558,), (-0.03287515289856336,), (0.02845993085586455,), (0.053550231600552896,), (0.21857833594157092,), (0.002014319310997216,), (-0.10080652336329683,), (0.15550110528205735,)]\n",
      "[[-0.4097891   0.0891454  -2.57597848 ... -1.83065863 -0.03783108\n",
      "  -0.40487492]\n",
      " [-0.4097891   0.21796738 -3.07502381 ... -2.93637113  0.28316188\n",
      "   0.4278408 ]\n",
      " [-0.4097891  -0.03430899 -2.06876318 ... -1.83065863 -0.30579042\n",
      "  -0.04844736]\n",
      " ...\n",
      " [-0.4097891   0.53465475 -0.15443447 ...  0.53872529  0.34945391\n",
      "   0.50669646]\n",
      " [-0.4097891   0.59369815  0.09508273 ...  0.69668422 -0.37906056\n",
      "   0.62340283]\n",
      " [-0.4097891   0.41656793  0.90499103 ...  1.32851993 -1.40554023\n",
      "   1.92609826]]\n",
      "[array([[-0.33603653],\n",
      "       [ 0.74706095],\n",
      "       [-0.8419345 ],\n",
      "       [ 1.3125603 ],\n",
      "       [ 0.8288757 ],\n",
      "       [ 0.7261672 ],\n",
      "       [ 0.17896777],\n",
      "       [-0.22191915],\n",
      "       [-0.7275602 ],\n",
      "       [ 0.47748327],\n",
      "       [-0.25601497],\n",
      "       [-0.3410085 ],\n",
      "       [-1.2591636 ],\n",
      "       [ 0.2683625 ],\n",
      "       [ 0.74130434],\n",
      "       [-0.31215882]], dtype=float32), array([0.4209601], dtype=float32), array([[-0.2165324]], dtype=float32), array([0.96404654], dtype=float32)]\n",
      "3/3 [==============================] - 0s 1000us/step\n",
      "MAE: 0.31337700887562003\n",
      "R2: 0.08806735170287527\n",
      "RMSE: 0.4185394750609532\n",
      "Intercept: 0.7993110238195139\n",
      "Coefficients: [(0.05018389015835058,), (-0.10249660433211853,), (-0.5562857951613983,), (0.12515262158510468,), (-0.22716082834136941,), (-0.17227118332856944,), (-0.0535581597864824,), (0.13100838353423772,), (-0.6143075391915873,), (-0.03345969300742442,), (0.03507779046620661,), (0.045441785962000505,), (0.20311380273188095,), (-0.011221081512600359,), (-0.08390886440088624,), (0.1618567795347193,)]\n",
      "Execution time: 82.69835019111633 seconds\n"
     ]
    }
   ],
   "source": [
    "start_time = time.time()\n",
    "\n",
    "#initializing KFold object\n",
    "kfold = KFold(n_splits=10,shuffle=True, random_state=42)\n",
    "mae_scores = []\n",
    "r2_scores = []\n",
    "\n",
    "for train_index, test_index in kfold.split(X):\n",
    "    X_train, X_test = X.iloc[train_index], X.iloc[test_index]  # Predictors for train & test\n",
    "    y_train, y_test = y.iloc[train_index], y.iloc[test_index]  # Target for train, test\n",
    "\n",
    "    # scaling fetaure sets \n",
    "    scaler = StandardScaler()\n",
    "    X_train = scaler.fit_transform(X_train)\n",
    "    X_test = scaler.transform(X_test)\n",
    "\n",
    "    mlr_model = MLR_Model(X_train,y_train) #perform MLR\n",
    "    ann_model = ANN_Model(mlr_model.coef_,mlr_model.intercept_) #Intercept and coeff of MLR will be initailzied as ANN weights\n",
    "    ann_model.fit(X_train, y_train, epochs=500, batch_size=32, verbose=0) #fit ann model to data\n",
    "    print(X_train)\n",
    "    print(ann_model.get_weights())\n",
    "    y_pred = ann_model.predict(X_test) #use ann model to predict test set\n",
    "    print(f\"MAE: { mean_absolute_error(y_test, y_pred)}\")  #measure mean absolute value\n",
    "    print(f\"R2: {r2_score(y_test,y_pred)}\")#measure R-squared value\n",
    "    print(f\"RMSE: {np.sqrt(mean_squared_error(y_test, y_pred))}\")\n",
    "    print(f\"Intercept: {mlr_model.intercept_}\")\n",
    "    print(f\"Coefficients: {list(zip(mlr_model.coef_))}\")\n",
    "\n",
    "end_time = time.time()\n",
    "execution_time = end_time - start_time\n",
    "print(f\"Execution time: {execution_time} seconds\")\n"
   ]
  },
  {
   "cell_type": "markdown",
   "metadata": {},
   "source": [
    "### saving the model"
   ]
  },
  {
   "cell_type": "code",
   "execution_count": 14,
   "metadata": {},
   "outputs": [],
   "source": [
    "import pickle"
   ]
  },
  {
   "cell_type": "code",
   "execution_count": 15,
   "metadata": {},
   "outputs": [],
   "source": [
    "filename = 'trained_hybrid_model.sav'"
   ]
  },
  {
   "cell_type": "code",
   "execution_count": 16,
   "metadata": {},
   "outputs": [],
   "source": [
    "pickle.dump(ann_model, open(filename, 'wb'))"
   ]
  },
  {
   "cell_type": "code",
   "execution_count": 17,
   "metadata": {},
   "outputs": [],
   "source": [
    "loaded_model = pickle.load(open('trained_hybrid_model.sav', 'rb'))"
   ]
  },
  {
   "cell_type": "markdown",
   "metadata": {},
   "source": [
    "### Attempt 1\n",
    "\n",
    "This is the first entry in the dataset. "
   ]
  },
  {
   "cell_type": "code",
   "execution_count": 127,
   "metadata": {},
   "outputs": [],
   "source": [
    "input_data = (1.00, 25.15,28.36,20.88,1701.00,975.30,100.00,0.16,0.75,6.00,4.10,9.40,26.01,0.28,140.02, 70.89)"
   ]
  },
  {
   "cell_type": "code",
   "execution_count": 128,
   "metadata": {},
   "outputs": [],
   "source": [
    "input_data_as_numpy_array = np.asarray(input_data)"
   ]
  },
  {
   "cell_type": "code",
   "execution_count": 129,
   "metadata": {},
   "outputs": [],
   "source": [
    "input_data_reshaped = input_data_as_numpy_array.reshape(1,-1)"
   ]
  },
  {
   "cell_type": "code",
   "execution_count": 131,
   "metadata": {},
   "outputs": [
    {
     "name": "stdout",
     "output_type": "stream",
     "text": [
      "1/1 [==============================] - 0s 64ms/step\n",
      "Predicted output: [[0.1334619]]\n"
     ]
    }
   ],
   "source": [
    "prediction = loaded_model.predict(input_data_reshaped)\n",
    "print(f\"Predicted output: {prediction}\")"
   ]
  },
  {
   "cell_type": "code",
   "execution_count": 122,
   "metadata": {},
   "outputs": [
    {
     "name": "stdout",
     "output_type": "stream",
     "text": [
      "Actual output: 1.1334\n"
     ]
    }
   ],
   "source": [
    "print(f\"Actual output: {y.iloc[0]}\")"
   ]
  },
  {
   "cell_type": "markdown",
   "metadata": {},
   "source": [
    "### Attempt 2 \n",
    "\n",
    "The input data is based from the dataset but the values are rounded to the nearest whole number"
   ]
  },
  {
   "cell_type": "code",
   "execution_count": 116,
   "metadata": {},
   "outputs": [],
   "source": [
    "input_data_2 = (1, 25,28,21,1701,975,100,0.16,0.75,6.00,4,9,26,0.28,140, 71)"
   ]
  },
  {
   "cell_type": "code",
   "execution_count": 117,
   "metadata": {},
   "outputs": [],
   "source": [
    "input_data_as_numpy_array_2 = np.asarray(input_data_2)"
   ]
  },
  {
   "cell_type": "code",
   "execution_count": 118,
   "metadata": {},
   "outputs": [],
   "source": [
    "input_data_reshaped_2 = input_data_as_numpy_array_2.reshape(1,-1)"
   ]
  },
  {
   "cell_type": "code",
   "execution_count": 120,
   "metadata": {},
   "outputs": [
    {
     "name": "stdout",
     "output_type": "stream",
     "text": [
      "1/1 [==============================] - 0s 50ms/step\n",
      "Predicted output: [[0.1334619]]\n"
     ]
    }
   ],
   "source": [
    "prediction = loaded_model.predict(input_data_reshaped_2)\n",
    "print(f\"Predicted output: {prediction}\")"
   ]
  },
  {
   "cell_type": "code",
   "execution_count": 121,
   "metadata": {},
   "outputs": [
    {
     "name": "stdout",
     "output_type": "stream",
     "text": [
      "Actual output: 1.1334\n"
     ]
    }
   ],
   "source": [
    "print(f\"Actual output: {y.iloc[0]}\")"
   ]
  },
  {
   "cell_type": "markdown",
   "metadata": {},
   "source": [
    "# Dont mind this section (wala pa nahuman)"
   ]
  },
  {
   "cell_type": "markdown",
   "metadata": {},
   "source": [
    "### Leave one out\n",
    "\n",
    "This is working pero dugay siya because k = number of data points. \n",
    "* R2 is not showing (Error: UndefinedMetricWarning: R^2 score is not well-defined with less than two samples.)"
   ]
  },
  {
   "cell_type": "code",
   "execution_count": 65,
   "metadata": {},
   "outputs": [],
   "source": [
    "import time\n",
    "from sklearn.model_selection import LeaveOneOut"
   ]
  },
  {
   "cell_type": "code",
   "execution_count": 68,
   "metadata": {},
   "outputs": [
    {
     "name": "stdout",
     "output_type": "stream",
     "text": [
      "24/24 [==============================] - 2s 4ms/step - loss: 0.3634 - mean_absolute_error: 0.3634 - root_mean_squared_error: 0.4527\n",
      "1/1 [==============================] - 0s 89ms/step\n",
      "MAE: 0.1897932657241821\n",
      "R2: nan\n",
      "RMSE: 0.1897932657241821\n",
      "Intercept: 0.7870085949035477\n",
      "Coefficients: [(0.05132091500095425,), (-0.2669382047324648,), (-0.5922470067350075,), (0.26248723596115053,), (-0.21303378314670382,), (-0.16216237421957952,), (-0.05836887977094923,), (0.11550343385336188,), (-0.5872222794647664,), (-0.03968618408762144,), (0.03321198908115678,), (0.044475828372272326,), (0.20906991531596894,), (-0.007694453003741271,), (-0.06917070404647602,), (0.1610333627880207,)]\n"
     ]
    },
    {
     "name": "stderr",
     "output_type": "stream",
     "text": [
      "C:\\Users\\User\\AppData\\Roaming\\Python\\Python311\\site-packages\\sklearn\\metrics\\_regression.py:996: UndefinedMetricWarning: R^2 score is not well-defined with less than two samples.\n",
      "  warnings.warn(msg, UndefinedMetricWarning)\n"
     ]
    },
    {
     "name": "stdout",
     "output_type": "stream",
     "text": [
      "24/24 [==============================] - 1s 4ms/step - loss: 1.0805 - mean_absolute_error: 1.0805 - root_mean_squared_error: 1.2548\n",
      "1/1 [==============================] - 0s 104ms/step\n",
      "MAE: 1.318401616448784\n",
      "R2: nan\n",
      "RMSE: 1.318401616448784\n",
      "Intercept: 0.787005538386169\n",
      "Coefficients: [(0.051170082446475924,), (-0.25671789576490134,), (-0.592782069124299,), (0.2552215744379957,), (-0.2130908595666721,), (-0.1622081360112782,), (-0.058302166811070755,), (0.11620431138894044,), (-0.590291187878203,), (-0.039519107708693504,), (0.03326814787228202,), (0.04446726457735031,), (0.2071771166546249,), (-0.00816981883270756,), (-0.06974064016790059,), (0.16139771578721532,)]\n"
     ]
    },
    {
     "name": "stderr",
     "output_type": "stream",
     "text": [
      "C:\\Users\\User\\AppData\\Roaming\\Python\\Python311\\site-packages\\sklearn\\metrics\\_regression.py:996: UndefinedMetricWarning: R^2 score is not well-defined with less than two samples.\n",
      "  warnings.warn(msg, UndefinedMetricWarning)\n"
     ]
    },
    {
     "name": "stdout",
     "output_type": "stream",
     "text": [
      "24/24 [==============================] - 1s 4ms/step - loss: 0.5591 - mean_absolute_error: 0.5591 - root_mean_squared_error: 0.7212\n",
      "1/1 [==============================] - 0s 88ms/step\n",
      "MAE: 0.36607593165325936\n",
      "R2: nan\n",
      "RMSE: 0.36607593165325936\n",
      "Intercept: 0.7870520380546138\n",
      "Coefficients: [(0.051586643658591516,), (-0.3348994612032508,), (-0.6027896373998187,), (0.32527970863649414,), (-0.21360603569079684,), (-0.16451642474973843,), (-0.05828022438266153,), (0.11533928430588489,), (-0.576507460793761,), (-0.03991720075036912,), (0.03240476565686133,), (0.04456180617946013,), (0.2092894107099519,), (-0.006957808547095334,), (-0.06956817384942085,), (0.1604094271371959,)]\n"
     ]
    },
    {
     "name": "stderr",
     "output_type": "stream",
     "text": [
      "C:\\Users\\User\\AppData\\Roaming\\Python\\Python311\\site-packages\\sklearn\\metrics\\_regression.py:996: UndefinedMetricWarning: R^2 score is not well-defined with less than two samples.\n",
      "  warnings.warn(msg, UndefinedMetricWarning)\n"
     ]
    },
    {
     "name": "stdout",
     "output_type": "stream",
     "text": [
      "24/24 [==============================] - 1s 4ms/step - loss: 0.3980 - mean_absolute_error: 0.3980 - root_mean_squared_error: 0.5003\n",
      "1/1 [==============================] - 0s 96ms/step\n",
      "MAE: 0.43402055216949464\n",
      "R2: nan\n",
      "RMSE: 0.43402055216949464\n",
      "Intercept: 0.7869994420893736\n",
      "Coefficients: [(0.05149261895002705,), (-0.2741585647584869,), (-0.5938214334964328,), (0.267553467697237,), (-0.21292811451623644,), (-0.1619575465904375,), (-0.05834399878301341,), (0.11689290516696747,), (-0.5875518148169754,), (-0.03984499050400646,), (0.032956497282375485,), (0.04474916062462784,), (0.21061248769792223,), (-0.007010671987771906,), (-0.06995806742537461,), (0.16059786064194143,)]\n"
     ]
    },
    {
     "name": "stderr",
     "output_type": "stream",
     "text": [
      "C:\\Users\\User\\AppData\\Roaming\\Python\\Python311\\site-packages\\sklearn\\metrics\\_regression.py:996: UndefinedMetricWarning: R^2 score is not well-defined with less than two samples.\n",
      "  warnings.warn(msg, UndefinedMetricWarning)\n"
     ]
    },
    {
     "name": "stdout",
     "output_type": "stream",
     "text": [
      "24/24 [==============================] - 1s 3ms/step - loss: 1.6195 - mean_absolute_error: 1.6195 - root_mean_squared_error: 1.8282\n",
      "1/1 [==============================] - 0s 88ms/step\n",
      "MAE: 1.867595979528534\n",
      "R2: nan\n",
      "RMSE: 1.867595979528534\n",
      "Intercept: 0.7869935367992703\n",
      "Coefficients: [(0.05137406954137275,), (-0.2738790787932746,), (-0.5928573429705928,), (0.2671779780861112,), (-0.2126615950812746,), (-0.16188153399569052,), (-0.05837236486671862,), (0.11654600827054494,), (-0.5861318510318007,), (-0.03964730933226292,), (0.03329208363883694,), (0.04458150562811695,), (0.20998950819866355,), (-0.007404993919759607,), (-0.06969360223442511,), (0.16089933393433895,)]\n"
     ]
    },
    {
     "name": "stderr",
     "output_type": "stream",
     "text": [
      "C:\\Users\\User\\AppData\\Roaming\\Python\\Python311\\site-packages\\sklearn\\metrics\\_regression.py:996: UndefinedMetricWarning: R^2 score is not well-defined with less than two samples.\n",
      "  warnings.warn(msg, UndefinedMetricWarning)\n"
     ]
    },
    {
     "name": "stdout",
     "output_type": "stream",
     "text": [
      "24/24 [==============================] - 1s 3ms/step - loss: 1.6617 - mean_absolute_error: 1.6617 - root_mean_squared_error: 1.8572\n",
      "1/1 [==============================] - 0s 96ms/step\n",
      "MAE: 1.6437879499570618\n",
      "R2: nan\n",
      "RMSE: 1.6437879499570618\n",
      "Intercept: 0.7869804465399113\n",
      "Coefficients: [(0.051528502863925164,), (-0.2827167998957415,), (-0.5924792881101607,), (0.27470952872857096,), (-0.21270381233129884,), (-0.16128362886561984,), (-0.05840112276107543,), (0.11592112217122451,), (-0.5826244372811241,), (-0.039977198832375785,), (0.033267117151019786,), (0.04470080362479075,), (0.20895589061738484,), (-0.0069928175528159485,), (-0.06798014076531733,), (0.16175052732451384,)]\n"
     ]
    },
    {
     "name": "stderr",
     "output_type": "stream",
     "text": [
      "C:\\Users\\User\\AppData\\Roaming\\Python\\Python311\\site-packages\\sklearn\\metrics\\_regression.py:996: UndefinedMetricWarning: R^2 score is not well-defined with less than two samples.\n",
      "  warnings.warn(msg, UndefinedMetricWarning)\n"
     ]
    },
    {
     "name": "stdout",
     "output_type": "stream",
     "text": [
      "24/24 [==============================] - 1s 6ms/step - loss: 0.7680 - mean_absolute_error: 0.7680 - root_mean_squared_error: 0.9330\n",
      "1/1 [==============================] - 0s 91ms/step\n",
      "MAE: 0.9347163764203643\n",
      "R2: nan\n",
      "RMSE: 0.9347163764203643\n",
      "Intercept: 0.7869543293821571\n",
      "Coefficients: [(0.04904314478942195,), (-0.27062507546909487,), (-0.5939623798357089,), (0.2604511459347265,), (-0.21165287902310584,), (-0.15997788997552734,), (-0.058219836416234336,), (0.11833574438328782,), (-0.588821808514733,), (-0.03984333001305264,), (0.03384916993526774,), (0.04463201900907191,), (0.21134295170339754,), (-0.007139124441851193,), (-0.06947361635001129,), (0.16198744255183675,)]\n"
     ]
    },
    {
     "name": "stderr",
     "output_type": "stream",
     "text": [
      "C:\\Users\\User\\AppData\\Roaming\\Python\\Python311\\site-packages\\sklearn\\metrics\\_regression.py:996: UndefinedMetricWarning: R^2 score is not well-defined with less than two samples.\n",
      "  warnings.warn(msg, UndefinedMetricWarning)\n"
     ]
    },
    {
     "name": "stdout",
     "output_type": "stream",
     "text": [
      "24/24 [==============================] - 1s 4ms/step - loss: 1.4703 - mean_absolute_error: 1.4703 - root_mean_squared_error: 1.7003\n",
      "1/1 [==============================] - 0s 96ms/step\n",
      "MAE: 1.4518442205748139\n",
      "R2: nan\n",
      "RMSE: 1.4518442205748139\n",
      "Intercept: 0.7869181894810862\n",
      "Coefficients: [(0.05142673274924675,), (-0.2806552171374399,), (-0.5923450531762542,), (0.26955518396847666,), (-0.21178857108945173,), (-0.16066803115238654,), (-0.058378926983140254,), (0.1182160961405144,), (-0.584682848934992,), (-0.03967363223775776,), (0.033751898854568876,), (0.0449931936868779,), (0.21212222775634407,), (-0.006739822961737412,), (-0.06957740518960027,), (0.16205660910212227,)]\n"
     ]
    },
    {
     "name": "stderr",
     "output_type": "stream",
     "text": [
      "C:\\Users\\User\\AppData\\Roaming\\Python\\Python311\\site-packages\\sklearn\\metrics\\_regression.py:996: UndefinedMetricWarning: R^2 score is not well-defined with less than two samples.\n",
      "  warnings.warn(msg, UndefinedMetricWarning)\n"
     ]
    },
    {
     "name": "stdout",
     "output_type": "stream",
     "text": [
      "24/24 [==============================] - 1s 4ms/step - loss: 0.3771 - mean_absolute_error: 0.3771 - root_mean_squared_error: 0.5162\n",
      "1/1 [==============================] - 0s 88ms/step\n",
      "MAE: 0.4416804260165099\n",
      "R2: nan\n",
      "RMSE: 0.4416804260165099\n",
      "Intercept: 0.7868788315840269\n",
      "Coefficients: [(0.05185916476759301,), (-0.4459098246565747,), (-0.6229235836429181,), (0.42868475511690624,), (-0.21459935139109287,), (-0.16594772557049894,), (-0.05825206080617422,), (0.1136796757211466,), (-0.5634314047666668,), (-0.04107403631940598,), (0.029973381170399428,), (0.04545998184187767,), (0.20788553485107733,), (-0.005021162626625771,), (-0.06637015842511707,), (0.16232278838334596,)]\n"
     ]
    },
    {
     "name": "stderr",
     "output_type": "stream",
     "text": [
      "C:\\Users\\User\\AppData\\Roaming\\Python\\Python311\\site-packages\\sklearn\\metrics\\_regression.py:996: UndefinedMetricWarning: R^2 score is not well-defined with less than two samples.\n",
      "  warnings.warn(msg, UndefinedMetricWarning)\n"
     ]
    },
    {
     "name": "stdout",
     "output_type": "stream",
     "text": [
      "24/24 [==============================] - 1s 5ms/step - loss: 0.3354 - mean_absolute_error: 0.3354 - root_mean_squared_error: 0.4300\n",
      "1/1 [==============================] - 0s 128ms/step\n",
      "MAE: 0.3369773888892822\n",
      "R2: nan\n",
      "RMSE: 0.3369773888892822\n",
      "Intercept: 0.7869957354543492\n",
      "Coefficients: [(0.05169556599509925,), (-0.2864464368277125,), (-0.5917014832736507,), (0.27562300973572296,), (-0.21238796274858907,), (-0.16143485958562637,), (-0.05829965987433165,), (0.11537288451439927,), (-0.5793942492535098,), (-0.040013876919640555,), (0.033793760452170626,), (0.04421972609701852,), (0.2101905405694926,), (-0.007430794126799195,), (-0.06704241184952864,), (0.16189009616081287,)]\n"
     ]
    },
    {
     "name": "stderr",
     "output_type": "stream",
     "text": [
      "C:\\Users\\User\\AppData\\Roaming\\Python\\Python311\\site-packages\\sklearn\\metrics\\_regression.py:996: UndefinedMetricWarning: R^2 score is not well-defined with less than two samples.\n",
      "  warnings.warn(msg, UndefinedMetricWarning)\n"
     ]
    },
    {
     "name": "stdout",
     "output_type": "stream",
     "text": [
      "24/24 [==============================] - 1s 4ms/step - loss: 0.4520 - mean_absolute_error: 0.4520 - root_mean_squared_error: 0.6121\n",
      "1/1 [==============================] - 0s 88ms/step\n",
      "MAE: 0.5707373803330993\n",
      "R2: nan\n",
      "RMSE: 0.5707373803330993\n",
      "Intercept: 0.7868572729984663\n",
      "Coefficients: [(0.05167017531533317,), (-0.2824279323485977,), (-0.5918061815749748,), (0.27010075837107284,), (-0.21204497877290818,), (-0.1610746505480648,), (-0.058222106178567386,), (0.11757911696353891,), (-0.5826734308039475,), (-0.04009327352490878,), (0.03370195360445162,), (0.04451034599397072,), (0.2126421926366101,), (-0.007063387530386916,), (-0.06895866538191768,), (0.16111352212073782,)]\n"
     ]
    },
    {
     "name": "stderr",
     "output_type": "stream",
     "text": [
      "C:\\Users\\User\\AppData\\Roaming\\Python\\Python311\\site-packages\\sklearn\\metrics\\_regression.py:996: UndefinedMetricWarning: R^2 score is not well-defined with less than two samples.\n",
      "  warnings.warn(msg, UndefinedMetricWarning)\n"
     ]
    },
    {
     "name": "stdout",
     "output_type": "stream",
     "text": [
      "24/24 [==============================] - 2s 6ms/step - loss: 0.8191 - mean_absolute_error: 0.8191 - root_mean_squared_error: 0.9902\n",
      "1/1 [==============================] - 0s 104ms/step\n",
      "MAE: 1.0651621231738893\n",
      "R2: nan\n",
      "RMSE: 1.0651621231738893\n",
      "Intercept: 0.7868423422177174\n",
      "Coefficients: [(0.05147875518642051,), (-0.2817102477077967,), (-0.5891975399379226,), (0.27020874246153037,), (-0.21245353880131024,), (-0.16135666211944297,), (-0.058448807757789184,), (0.11297127063462732,), (-0.578272030721076,), (-0.0397079120316826,), (0.033918351196036374,), (0.04433457668816115,), (0.21163762643391465,), (-0.007546281212937904,), (-0.06579673963165646,), (0.16209569449865946,)]\n"
     ]
    },
    {
     "name": "stderr",
     "output_type": "stream",
     "text": [
      "C:\\Users\\User\\AppData\\Roaming\\Python\\Python311\\site-packages\\sklearn\\metrics\\_regression.py:996: UndefinedMetricWarning: R^2 score is not well-defined with less than two samples.\n",
      "  warnings.warn(msg, UndefinedMetricWarning)\n"
     ]
    },
    {
     "name": "stdout",
     "output_type": "stream",
     "text": [
      "24/24 [==============================] - 2s 8ms/step - loss: 0.3433 - mean_absolute_error: 0.3433 - root_mean_squared_error: 0.4403\n",
      "1/1 [==============================] - 0s 128ms/step\n",
      "MAE: 0.48623969450750737\n",
      "R2: nan\n",
      "RMSE: 0.48623969450750737\n",
      "Intercept: 0.7868192276187881\n",
      "Coefficients: [(0.05136721078645541,), (-0.2845161500164467,), (-0.5896237054053253,), (0.27088457712176633,), (-0.21158830575427592,), (-0.16070175038492793,), (-0.058438558317254787,), (0.11557887374466112,), (-0.5794733985479735,), (-0.03966100702045569,), (0.03402274417313541,), (0.044628956953608204,), (0.2131568844483909,), (-0.0070863846631092995,), (-0.0676299694834695,), (0.16207228306222726,)]\n"
     ]
    },
    {
     "name": "stderr",
     "output_type": "stream",
     "text": [
      "C:\\Users\\User\\AppData\\Roaming\\Python\\Python311\\site-packages\\sklearn\\metrics\\_regression.py:996: UndefinedMetricWarning: R^2 score is not well-defined with less than two samples.\n",
      "  warnings.warn(msg, UndefinedMetricWarning)\n"
     ]
    },
    {
     "name": "stdout",
     "output_type": "stream",
     "text": [
      "24/24 [==============================] - 1s 4ms/step - loss: 1.4638 - mean_absolute_error: 1.4638 - root_mean_squared_error: 1.6585\n",
      "1/1 [==============================] - 0s 96ms/step\n",
      "MAE: 1.639612411301361\n",
      "R2: nan\n",
      "RMSE: 1.639612411301361\n",
      "Intercept: 0.7868880229971305\n",
      "Coefficients: [(0.05159235941341609,), (-0.27848433360165303,), (-0.5934975273100705,), (0.26967335077934973,), (-0.21226733337948947,), (-0.16109009156951096,), (-0.05828712704858105,), (0.11818676729001264,), (-0.585586057813587,), (-0.03963812521684712,), (0.033135136487208894,), (0.04483593524546516,), (0.21047023117683672,), (-0.0065087062853752455,), (-0.06964514164872634,), (0.16090960608285054,)]\n"
     ]
    },
    {
     "name": "stderr",
     "output_type": "stream",
     "text": [
      "C:\\Users\\User\\AppData\\Roaming\\Python\\Python311\\site-packages\\sklearn\\metrics\\_regression.py:996: UndefinedMetricWarning: R^2 score is not well-defined with less than two samples.\n",
      "  warnings.warn(msg, UndefinedMetricWarning)\n"
     ]
    },
    {
     "name": "stdout",
     "output_type": "stream",
     "text": [
      "24/24 [==============================] - 1s 4ms/step - loss: 0.3313 - mean_absolute_error: 0.3313 - root_mean_squared_error: 0.4274\n",
      "1/1 [==============================] - 0s 88ms/step\n",
      "MAE: 0.38140918431048587\n",
      "R2: nan\n",
      "RMSE: 0.38140918431048587\n",
      "Intercept: 0.7868504250813549\n",
      "Coefficients: [(0.05130738751271456,), (-0.27550138360925913,), (-0.5926528275254717,), (0.26672422952509733,), (-0.2118760090592646,), (-0.1611342987381613,), (-0.058393421220573845,), (0.11760799110833664,), (-0.5858563866917361,), (-0.03965933686279388,), (0.03338668250422181,), (0.04476393088629234,), (0.21113836126062502,), (-0.007045141464115072,), (-0.07015064374004258,), (0.16089336925369757,)]\n"
     ]
    },
    {
     "name": "stderr",
     "output_type": "stream",
     "text": [
      "C:\\Users\\User\\AppData\\Roaming\\Python\\Python311\\site-packages\\sklearn\\metrics\\_regression.py:996: UndefinedMetricWarning: R^2 score is not well-defined with less than two samples.\n",
      "  warnings.warn(msg, UndefinedMetricWarning)\n"
     ]
    },
    {
     "name": "stdout",
     "output_type": "stream",
     "text": [
      "24/24 [==============================] - 1s 4ms/step - loss: 0.7031 - mean_absolute_error: 0.7031 - root_mean_squared_error: 0.8631\n",
      "1/1 [==============================] - 0s 78ms/step\n",
      "MAE: 0.8138308078945007\n",
      "R2: nan\n",
      "RMSE: 0.8138308078945007\n",
      "Intercept: 0.7869691701254728\n",
      "Coefficients: [(0.051562064777678746,), (-0.27692665064890376,), (-0.5920495679677187,), (0.26986747107980713,), (-0.2129595014808282,), (-0.1614126241962724,), (-0.05839509824869788,), (0.11600415637273753,), (-0.584180979034643,), (-0.03965969912114798,), (0.033159954903483946,), (0.04480261575368319,), (0.20921297733404087,), (-0.006747615551504134,), (-0.06829126314462465,), (0.1614840715962692,)]\n"
     ]
    },
    {
     "name": "stderr",
     "output_type": "stream",
     "text": [
      "C:\\Users\\User\\AppData\\Roaming\\Python\\Python311\\site-packages\\sklearn\\metrics\\_regression.py:996: UndefinedMetricWarning: R^2 score is not well-defined with less than two samples.\n",
      "  warnings.warn(msg, UndefinedMetricWarning)\n"
     ]
    },
    {
     "name": "stdout",
     "output_type": "stream",
     "text": [
      "24/24 [==============================] - 1s 4ms/step - loss: 1.7286 - mean_absolute_error: 1.7286 - root_mean_squared_error: 1.9791\n",
      "1/1 [==============================] - 0s 88ms/step\n",
      "MAE: 2.1554673059241334\n",
      "R2: nan\n",
      "RMSE: 2.1554673059241334\n",
      "Intercept: 0.7868796561949926\n",
      "Coefficients: [(0.05135625526900482,), (-0.27914950702187935,), (-0.590726137351682,), (0.2686013210834156,), (-0.2120520609776571,), (-0.16081762485509585,), (-0.05841151661671167,), (0.1160524284789741,), (-0.5825945180148522,), (-0.040045516068423395,), (0.0334793302320263,), (0.04474472549589263,), (0.21148175752812998,), (-0.007235170499356815,), (-0.06830783312245095,), (0.16156388932931115,)]\n"
     ]
    },
    {
     "name": "stderr",
     "output_type": "stream",
     "text": [
      "C:\\Users\\User\\AppData\\Roaming\\Python\\Python311\\site-packages\\sklearn\\metrics\\_regression.py:996: UndefinedMetricWarning: R^2 score is not well-defined with less than two samples.\n",
      "  warnings.warn(msg, UndefinedMetricWarning)\n"
     ]
    },
    {
     "name": "stdout",
     "output_type": "stream",
     "text": [
      "24/24 [==============================] - 1s 4ms/step - loss: 0.3309 - mean_absolute_error: 0.3309 - root_mean_squared_error: 0.4230\n",
      "1/1 [==============================] - 0s 110ms/step\n",
      "MAE: 0.5474776378350525\n",
      "R2: nan\n",
      "RMSE: 0.5474776378350525\n",
      "Intercept: 0.7866943956348278\n",
      "Coefficients: [(0.051711161946717335,), (-0.2750078156616733,), (-0.590049170505463,), (0.2654004648125847,), (-0.2128203102047275,), (-0.1603753908668127,), (-0.058401782839342685,), (0.11408911903450927,), (-0.5829079104826519,), (-0.040310961683985166,), (0.03291351263717032,), (0.04477989631795222,), (0.2112481808084284,), (-0.006113043596297549,), (-0.0655057822787993,), (0.1622077708598963,)]\n"
     ]
    },
    {
     "name": "stderr",
     "output_type": "stream",
     "text": [
      "C:\\Users\\User\\AppData\\Roaming\\Python\\Python311\\site-packages\\sklearn\\metrics\\_regression.py:996: UndefinedMetricWarning: R^2 score is not well-defined with less than two samples.\n",
      "  warnings.warn(msg, UndefinedMetricWarning)\n"
     ]
    },
    {
     "name": "stdout",
     "output_type": "stream",
     "text": [
      "24/24 [==============================] - 1s 4ms/step - loss: 1.2779 - mean_absolute_error: 1.2779 - root_mean_squared_error: 1.4572\n",
      "1/1 [==============================] - 0s 88ms/step\n",
      "MAE: 1.7757959789554596\n",
      "R2: nan\n",
      "RMSE: 1.7757959789554596\n",
      "Intercept: 0.7864223250840269\n",
      "Coefficients: [(0.05189965840865785,), (-0.29203119579163883,), (-0.5856894278606862,), (0.27489148010008435,), (-0.21264123419498615,), (-0.16095772537383723,), (-0.058435715943204534,), (0.11036941257702129,), (-0.5724979539418293,), (-0.04043153685072591,), (0.03394489956856768,), (0.04415395437666117,), (0.21550026769892378,), (-0.0067473101612114126,), (-0.06256254030617761,), (0.16263996920496682,)]\n"
     ]
    },
    {
     "name": "stderr",
     "output_type": "stream",
     "text": [
      "C:\\Users\\User\\AppData\\Roaming\\Python\\Python311\\site-packages\\sklearn\\metrics\\_regression.py:996: UndefinedMetricWarning: R^2 score is not well-defined with less than two samples.\n",
      "  warnings.warn(msg, UndefinedMetricWarning)\n"
     ]
    },
    {
     "name": "stdout",
     "output_type": "stream",
     "text": [
      "24/24 [==============================] - 1s 4ms/step - loss: 0.3829 - mean_absolute_error: 0.3829 - root_mean_squared_error: 0.5157\n",
      "1/1 [==============================] - 0s 92ms/step\n",
      "MAE: 0.16254751682281499\n",
      "R2: nan\n",
      "RMSE: 0.16254751682281499\n",
      "Intercept: 0.7875880066682527\n",
      "Coefficients: [(0.051298686356849976,), (-0.26484181513030214,), (-0.5940942146172259,), (0.26099514038345273,), (-0.21318206973318304,), (-0.16222431901952084,), (-0.058350988669780564,), (0.1156455054139134,), (-0.589053294693356,), (-0.03967580346571373,), (0.033237719686417734,), (0.04443121737627682,), (0.2088751528894024,), (-0.0077831866570318535,), (-0.06936306375183604,), (0.16099516956904084,)]\n"
     ]
    },
    {
     "name": "stderr",
     "output_type": "stream",
     "text": [
      "C:\\Users\\User\\AppData\\Roaming\\Python\\Python311\\site-packages\\sklearn\\metrics\\_regression.py:996: UndefinedMetricWarning: R^2 score is not well-defined with less than two samples.\n",
      "  warnings.warn(msg, UndefinedMetricWarning)\n"
     ]
    },
    {
     "name": "stdout",
     "output_type": "stream",
     "text": [
      "24/24 [==============================] - 1s 5ms/step - loss: 0.3954 - mean_absolute_error: 0.3954 - root_mean_squared_error: 0.5373\n",
      "1/1 [==============================] - 0s 88ms/step\n",
      "MAE: 0.24285434133166506\n",
      "R2: nan\n",
      "RMSE: 0.24285434133166506\n",
      "Intercept: 0.787753069057291\n",
      "Coefficients: [(0.051297810325937075,), (-0.26292568890350054,), (-0.593625683651072,), (0.2608927633364226,), (-0.21361801166106992,), (-0.16315714659156705,), (-0.05836790213484078,), (0.11451278125067951,), (-0.5882068571946093,), (-0.039360399342602645,), (0.033120006521602165,), (0.04448163334589486,), (0.20806594926263813,), (-0.008163107937565693,), (-0.06928992358201735,), (0.1605475355841775,)]\n"
     ]
    },
    {
     "name": "stderr",
     "output_type": "stream",
     "text": [
      "C:\\Users\\User\\AppData\\Roaming\\Python\\Python311\\site-packages\\sklearn\\metrics\\_regression.py:996: UndefinedMetricWarning: R^2 score is not well-defined with less than two samples.\n",
      "  warnings.warn(msg, UndefinedMetricWarning)\n"
     ]
    },
    {
     "name": "stdout",
     "output_type": "stream",
     "text": [
      "24/24 [==============================] - 1s 7ms/step - loss: 1.2622 - mean_absolute_error: 1.2622 - root_mean_squared_error: 1.4624\n",
      "1/1 [==============================] - 0s 98ms/step\n",
      "MAE: 0.6408348119890137\n",
      "R2: nan\n",
      "RMSE: 0.6408348119890137\n",
      "Intercept: 0.788098077969054\n",
      "Coefficients: [(0.05062634935369313,), (-0.2514311028679222,), (-0.6020256707984674,), (0.2545861060595036,), (-0.2131028284475031,), (-0.16318470813111963,), (-0.058340985939185006,), (0.1196629548591836,), (-0.6021287985490125,), (-0.039269341987654374,), (0.033641553563678935,), (0.04349201964226633,), (0.20688497514608722,), (-0.008761796323670634,), (-0.07491334154794584,), (0.1596189041056265,)]\n"
     ]
    },
    {
     "name": "stderr",
     "output_type": "stream",
     "text": [
      "C:\\Users\\User\\AppData\\Roaming\\Python\\Python311\\site-packages\\sklearn\\metrics\\_regression.py:996: UndefinedMetricWarning: R^2 score is not well-defined with less than two samples.\n",
      "  warnings.warn(msg, UndefinedMetricWarning)\n"
     ]
    },
    {
     "name": "stdout",
     "output_type": "stream",
     "text": [
      "24/24 [==============================] - 1s 5ms/step - loss: 0.5137 - mean_absolute_error: 0.5137 - root_mean_squared_error: 0.6766\n",
      "1/1 [==============================] - 0s 89ms/step\n",
      "MAE: 0.43110662361468505\n",
      "R2: nan\n",
      "RMSE: 0.43110662361468505\n",
      "Intercept: 0.7882513992043493\n",
      "Coefficients: [(0.05103974431351652,), (-0.23347069084409397,), (-0.6047665111300247,), (0.24495688394533047,), (-0.21465235866611343,), (-0.1649017313308391,), (-0.05814614425888553,), (0.11944889168990358,), (-0.6090377082698096,), (-0.038921593983856945,), (0.03268935830440317,), (0.04337441723407662,), (0.2035601991319249,), (-0.0084162899102164,), (-0.0753601050544158,), (0.15870025316033237,)]\n"
     ]
    },
    {
     "name": "stderr",
     "output_type": "stream",
     "text": [
      "C:\\Users\\User\\AppData\\Roaming\\Python\\Python311\\site-packages\\sklearn\\metrics\\_regression.py:996: UndefinedMetricWarning: R^2 score is not well-defined with less than two samples.\n",
      "  warnings.warn(msg, UndefinedMetricWarning)\n"
     ]
    },
    {
     "name": "stdout",
     "output_type": "stream",
     "text": [
      "24/24 [==============================] - 1s 4ms/step - loss: 1.2022 - mean_absolute_error: 1.2022 - root_mean_squared_error: 1.3807\n",
      "1/1 [==============================] - 0s 80ms/step\n",
      "MAE: 0.1691420822674942\n",
      "R2: nan\n",
      "RMSE: 0.1691420822674942\n",
      "Intercept: 0.7883076459129044\n",
      "Coefficients: [(0.05091785066940651,), (-0.2414700585949646,), (-0.5962728106833665,), (0.2469827313763515,), (-0.2144234769944362,), (-0.1638087673244899,), (-0.05856490480379028,), (0.11221236777200425,), (-0.5957367043382541,), (-0.03900562782509902,), (0.03273220172022948,), (0.044915911467232186,), (0.20520613724937667,), (-0.008624250779061652,), (-0.06925912151394194,), (0.16066642138656564,)]\n"
     ]
    },
    {
     "name": "stderr",
     "output_type": "stream",
     "text": [
      "C:\\Users\\User\\AppData\\Roaming\\Python\\Python311\\site-packages\\sklearn\\metrics\\_regression.py:996: UndefinedMetricWarning: R^2 score is not well-defined with less than two samples.\n",
      "  warnings.warn(msg, UndefinedMetricWarning)\n"
     ]
    },
    {
     "name": "stdout",
     "output_type": "stream",
     "text": [
      "24/24 [==============================] - 1s 4ms/step - loss: 0.4036 - mean_absolute_error: 0.4036 - root_mean_squared_error: 0.5457\n",
      "1/1 [==============================] - 0s 100ms/step\n",
      "MAE: 0.4773214196498108\n",
      "R2: nan\n",
      "RMSE: 0.4773214196498108\n",
      "Intercept: 0.7882854797230652\n",
      "Coefficients: [(0.050776361589604954,), (-0.26088397782226247,), (-0.5984853935112986,), (0.26094474882249064,), (-0.21279016701385636,), (-0.16314342727504563,), (-0.05843519221455796,), (0.11764342148749485,), (-0.5945489726513153,), (-0.039587362207765,), (0.03371326081298213,), (0.04374641269953795,), (0.20712497367373334,), (-0.008884846476193328,), (-0.0732558565747734,), (0.15947565457144997,)]\n"
     ]
    },
    {
     "name": "stderr",
     "output_type": "stream",
     "text": [
      "C:\\Users\\User\\AppData\\Roaming\\Python\\Python311\\site-packages\\sklearn\\metrics\\_regression.py:996: UndefinedMetricWarning: R^2 score is not well-defined with less than two samples.\n",
      "  warnings.warn(msg, UndefinedMetricWarning)\n"
     ]
    },
    {
     "name": "stdout",
     "output_type": "stream",
     "text": [
      "24/24 [==============================] - 1s 4ms/step - loss: 1.5746 - mean_absolute_error: 1.5746 - root_mean_squared_error: 1.8295\n",
      "1/1 [==============================] - 0s 88ms/step\n",
      "MAE: 0.3032623504603348\n",
      "R2: nan\n",
      "RMSE: 0.3032623504603348\n",
      "Intercept: 0.78825184945435\n",
      "Coefficients: [(0.051199753180373335,), (-0.24304663389835923,), (-0.5977787369348352,), (0.2476099056495492,), (-0.21437313153628113,), (-0.16406097735328734,), (-0.05825668392176589,), (0.11543596230912113,), (-0.5989566901898512,), (-0.03965373341327004,), (0.03258498474162535,), (0.04370171497385202,), (0.2070067861426104,), (-0.008419607763832765,), (-0.07144399552778045,), (0.1587105934603251,)]\n"
     ]
    },
    {
     "name": "stderr",
     "output_type": "stream",
     "text": [
      "C:\\Users\\User\\AppData\\Roaming\\Python\\Python311\\site-packages\\sklearn\\metrics\\_regression.py:996: UndefinedMetricWarning: R^2 score is not well-defined with less than two samples.\n",
      "  warnings.warn(msg, UndefinedMetricWarning)\n"
     ]
    },
    {
     "name": "stdout",
     "output_type": "stream",
     "text": [
      "24/24 [==============================] - 1s 4ms/step - loss: 1.7186 - mean_absolute_error: 1.7186 - root_mean_squared_error: 1.9667\n",
      "1/1 [==============================] - 0s 80ms/step\n",
      "MAE: 0.7520385906376343\n",
      "R2: nan\n",
      "RMSE: 0.7520385906376343\n",
      "Intercept: 0.7882340546655774\n",
      "Coefficients: [(0.05103529627137607,), (-0.2529961214895716,), (-0.5919776358451805,), (0.2519847546851217,), (-0.21252708286383787,), (-0.16462444976894025,), (-0.05821546266365724,), (0.1179166783361006,), (-0.5871154952483583,), (-0.03801993905923654,), (0.0344723156559181,), (0.04410490427077103,), (0.2073376010829215,), (-0.009415058701959817,), (-0.07334968708576996,), (0.16024049586195432,)]\n"
     ]
    },
    {
     "name": "stderr",
     "output_type": "stream",
     "text": [
      "C:\\Users\\User\\AppData\\Roaming\\Python\\Python311\\site-packages\\sklearn\\metrics\\_regression.py:996: UndefinedMetricWarning: R^2 score is not well-defined with less than two samples.\n",
      "  warnings.warn(msg, UndefinedMetricWarning)\n"
     ]
    },
    {
     "name": "stdout",
     "output_type": "stream",
     "text": [
      "24/24 [==============================] - 1s 4ms/step - loss: 1.5741 - mean_absolute_error: 1.5741 - root_mean_squared_error: 1.7979\n",
      "1/1 [==============================] - 0s 100ms/step\n",
      "MAE: 0.6816023756105651\n",
      "R2: nan\n",
      "RMSE: 0.6816023756105651\n",
      "Intercept: 0.7882499344102304\n",
      "Coefficients: [(0.050941496789788654,), (-0.2623364276269736,), (-0.6031892521157112,), (0.2663090345069237,), (-0.2144952541872183,), (-0.16510042325501761,), (-0.05838972742873305,), (0.11768826364727968,), (-0.5989856221815517,), (-0.03887765644619248,), (0.03307429130076839,), (0.0438174291552814,), (0.20676470594810364,), (-0.008837288715417375,), (-0.07481584075827921,), (0.1590012689271241,)]\n"
     ]
    },
    {
     "name": "stderr",
     "output_type": "stream",
     "text": [
      "C:\\Users\\User\\AppData\\Roaming\\Python\\Python311\\site-packages\\sklearn\\metrics\\_regression.py:996: UndefinedMetricWarning: R^2 score is not well-defined with less than two samples.\n",
      "  warnings.warn(msg, UndefinedMetricWarning)\n"
     ]
    },
    {
     "name": "stdout",
     "output_type": "stream",
     "text": [
      "24/24 [==============================] - 1s 4ms/step - loss: 1.7506 - mean_absolute_error: 1.7506 - root_mean_squared_error: 1.9703\n",
      "1/1 [==============================] - 0s 96ms/step\n",
      "MAE: 1.0870134552734985\n",
      "R2: nan\n",
      "RMSE: 1.0870134552734985\n",
      "Intercept: 0.7882619338888414\n",
      "Coefficients: [(0.05115799944958337,), (-0.2488118736380754,), (-0.5974620347628805,), (0.25578933174679436,), (-0.21474046043978484,), (-0.164978945752484,), (-0.05829275779051085,), (0.11234013496712511,), (-0.5935223820432635,), (-0.03953000633737168,), (0.03347586605803522,), (0.04318944683671143,), (0.20288332346065507,), (-0.009331178684483772,), (-0.06847305786080052,), (0.16104866915302166,)]\n"
     ]
    },
    {
     "name": "stderr",
     "output_type": "stream",
     "text": [
      "C:\\Users\\User\\AppData\\Roaming\\Python\\Python311\\site-packages\\sklearn\\metrics\\_regression.py:996: UndefinedMetricWarning: R^2 score is not well-defined with less than two samples.\n",
      "  warnings.warn(msg, UndefinedMetricWarning)\n"
     ]
    },
    {
     "name": "stdout",
     "output_type": "stream",
     "text": [
      "24/24 [==============================] - 2s 6ms/step - loss: 0.6650 - mean_absolute_error: 0.6650 - root_mean_squared_error: 0.8290\n",
      "1/1 [==============================] - 0s 144ms/step\n",
      "MAE: 0.14253687140481566\n",
      "R2: nan\n",
      "RMSE: 0.14253687140481566\n",
      "Intercept: 0.7882291309677157\n",
      "Coefficients: [(0.05100625041791113,), (-0.24016704107702805,), (-0.5933285813152555,), (0.24428935955463993,), (-0.2134772732165228,), (-0.16503640751638304,), (-0.05807243580849975,), (0.11705455311938268,), (-0.5922511892580044,), (-0.03822446660542986,), (0.03464410322162454,), (0.04313013057652737,), (0.2045952526854908,), (-0.010123788549908662,), (-0.07264183644001601,), (0.16048296770482756,)]\n"
     ]
    },
    {
     "name": "stderr",
     "output_type": "stream",
     "text": [
      "C:\\Users\\User\\AppData\\Roaming\\Python\\Python311\\site-packages\\sklearn\\metrics\\_regression.py:996: UndefinedMetricWarning: R^2 score is not well-defined with less than two samples.\n",
      "  warnings.warn(msg, UndefinedMetricWarning)\n"
     ]
    },
    {
     "name": "stdout",
     "output_type": "stream",
     "text": [
      "24/24 [==============================] - 2s 11ms/step - loss: 1.0668 - mean_absolute_error: 1.0668 - root_mean_squared_error: 1.2532\n",
      "1/1 [==============================] - 0s 376ms/step\n",
      "MAE: 0.33664619086961367\n",
      "R2: nan\n",
      "RMSE: 0.33664619086961367\n",
      "Intercept: 0.7881147124222654\n",
      "Coefficients: [(0.05097644434475537,), (-0.25386434088414395,), (-0.5927095857773265,), (0.2528317202863307,), (-0.21371291730539949,), (-0.1655532946922871,), (-0.05832508210817328,), (0.11345874441947579,), (-0.588519920881769,), (-0.038529303817133834,), (0.0346171418817277,), (0.04312249213891463,), (0.21008547254947801,), (-0.01001979008347872,), (-0.07126481805519402,), (0.16010626827010474,)]\n"
     ]
    },
    {
     "name": "stderr",
     "output_type": "stream",
     "text": [
      "C:\\Users\\User\\AppData\\Roaming\\Python\\Python311\\site-packages\\sklearn\\metrics\\_regression.py:996: UndefinedMetricWarning: R^2 score is not well-defined with less than two samples.\n",
      "  warnings.warn(msg, UndefinedMetricWarning)\n"
     ]
    },
    {
     "name": "stdout",
     "output_type": "stream",
     "text": [
      "24/24 [==============================] - 2s 6ms/step - loss: 0.3237 - mean_absolute_error: 0.3237 - root_mean_squared_error: 0.4149\n",
      "1/1 [==============================] - 0s 117ms/step\n",
      "MAE: 0.3210859100671387\n",
      "R2: nan\n",
      "RMSE: 0.3210859100671387\n",
      "Intercept: 0.7882126616615679\n",
      "Coefficients: [(0.05117177269452857,), (-0.2588052840504027,), (-0.5976272439941178,), (0.2593585438880447,), (-0.21359000032919,), (-0.16332289726862537,), (-0.05845159551636486,), (0.11426052689806619,), (-0.5932172288571782,), (-0.039362907820047394,), (0.032431654132549906,), (0.04446413016035179,), (0.20795837724808924,), (-0.007859704839913387,), (-0.06978150687828406,), (0.1602806909330567,)]\n"
     ]
    },
    {
     "name": "stderr",
     "output_type": "stream",
     "text": [
      "C:\\Users\\User\\AppData\\Roaming\\Python\\Python311\\site-packages\\sklearn\\metrics\\_regression.py:996: UndefinedMetricWarning: R^2 score is not well-defined with less than two samples.\n",
      "  warnings.warn(msg, UndefinedMetricWarning)\n"
     ]
    },
    {
     "name": "stdout",
     "output_type": "stream",
     "text": [
      "24/24 [==============================] - 2s 7ms/step - loss: 0.5299 - mean_absolute_error: 0.5299 - root_mean_squared_error: 0.6949\n",
      "1/1 [==============================] - 0s 112ms/step\n",
      "MAE: 0.4865101624787598\n",
      "R2: nan\n",
      "RMSE: 0.4865101624787598\n",
      "Intercept: 0.7871160230746707\n",
      "Coefficients: [(0.05096345192450539,), (-0.2646663115358607,), (-0.5949643502312425,), (0.25990150699634734,), (-0.21264395251174104,), (-0.16276128191042422,), (-0.058255671179714995,), (0.1180633592797751,), (-0.5927828650426622,), (-0.04013996552175082,), (0.034211266796123595,), (0.04403201909516617,), (0.2112298880152887,), (-0.008698519891478775,), (-0.07162734933130763,), (0.16091919044945183,)]\n"
     ]
    },
    {
     "name": "stderr",
     "output_type": "stream",
     "text": [
      "C:\\Users\\User\\AppData\\Roaming\\Python\\Python311\\site-packages\\sklearn\\metrics\\_regression.py:996: UndefinedMetricWarning: R^2 score is not well-defined with less than two samples.\n",
      "  warnings.warn(msg, UndefinedMetricWarning)\n"
     ]
    },
    {
     "name": "stdout",
     "output_type": "stream",
     "text": [
      "24/24 [==============================] - 2s 5ms/step - loss: 0.3390 - mean_absolute_error: 0.3390 - root_mean_squared_error: 0.4486\n",
      "1/1 [==============================] - 0s 104ms/step\n",
      "MAE: 0.04066750741979985\n",
      "R2: nan\n",
      "RMSE: 0.04066750741979985\n",
      "Intercept: 0.7873437652925853\n",
      "Coefficients: [(0.051299800315611314,), (-0.2639839628385106,), (-0.593115301512433,), (0.2604330628650898,), (-0.21301104767395657,), (-0.16224852567197584,), (-0.058340999211625166,), (0.11598258075564127,), (-0.588479618267655,), (-0.039724117724159166,), (0.033112014216063884,), (0.04446514830174048,), (0.20925252208149853,), (-0.007817665950143491,), (-0.06979224881753189,), (0.16078340839654492,)]\n"
     ]
    },
    {
     "name": "stderr",
     "output_type": "stream",
     "text": [
      "C:\\Users\\User\\AppData\\Roaming\\Python\\Python311\\site-packages\\sklearn\\metrics\\_regression.py:996: UndefinedMetricWarning: R^2 score is not well-defined with less than two samples.\n",
      "  warnings.warn(msg, UndefinedMetricWarning)\n"
     ]
    },
    {
     "name": "stdout",
     "output_type": "stream",
     "text": [
      "24/24 [==============================] - 1s 5ms/step - loss: 0.3751 - mean_absolute_error: 0.3751 - root_mean_squared_error: 0.4802\n",
      "1/1 [==============================] - 0s 88ms/step\n",
      "MAE: 0.2981113035375671\n",
      "R2: nan\n",
      "RMSE: 0.2981113035375671\n",
      "Intercept: 0.7874251846655766\n",
      "Coefficients: [(0.05121835443344562,), (-0.21338782362131412,), (-0.5848050465109289,), (0.21447466397007303,), (-0.2126517147289579,), (-0.1603994419035032,), (-0.058376679441382494,), (0.1150726180064626,), (-0.5946240224568936,), (-0.039550902495433915,), (0.0333182616159637,), (0.04459778938651974,), (0.20884459373981937,), (-0.007592921010770996,), (-0.06872245999436262,), (0.16126527342339397,)]\n"
     ]
    },
    {
     "name": "stderr",
     "output_type": "stream",
     "text": [
      "C:\\Users\\User\\AppData\\Roaming\\Python\\Python311\\site-packages\\sklearn\\metrics\\_regression.py:996: UndefinedMetricWarning: R^2 score is not well-defined with less than two samples.\n",
      "  warnings.warn(msg, UndefinedMetricWarning)\n"
     ]
    },
    {
     "name": "stdout",
     "output_type": "stream",
     "text": [
      "24/24 [==============================] - 1s 4ms/step - loss: 0.5394 - mean_absolute_error: 0.5394 - root_mean_squared_error: 0.7113\n",
      "1/1 [==============================] - 0s 91ms/step\n",
      "MAE: 0.5378468000184327\n",
      "R2: nan\n",
      "RMSE: 0.5378468000184327\n",
      "Intercept: 0.7870975231749378\n",
      "Coefficients: [(0.05122256058460132,), (-0.2520132507680209,), (-0.5956597453172915,), (0.2494791328367782,), (-0.21346827149445102,), (-0.16325422730641034,), (-0.058224539901297265,), (0.1160577477738856,), (-0.5968939710297504,), (-0.04019067613414386,), (0.03347227482231876,), (0.0435595781258031,), (0.2125245165866707,), (-0.00829946913999638,), (-0.07031346545385093,), (0.16068964039512962,)]\n"
     ]
    },
    {
     "name": "stderr",
     "output_type": "stream",
     "text": [
      "C:\\Users\\User\\AppData\\Roaming\\Python\\Python311\\site-packages\\sklearn\\metrics\\_regression.py:996: UndefinedMetricWarning: R^2 score is not well-defined with less than two samples.\n",
      "  warnings.warn(msg, UndefinedMetricWarning)\n"
     ]
    },
    {
     "name": "stdout",
     "output_type": "stream",
     "text": [
      "24/24 [==============================] - 1s 4ms/step - loss: 0.8249 - mean_absolute_error: 0.8249 - root_mean_squared_error: 0.9892\n",
      "1/1 [==============================] - 0s 88ms/step\n",
      "MAE: 0.6780309656231766\n",
      "R2: nan\n",
      "RMSE: 0.6780309656231766\n",
      "Intercept: 0.7873173737297483\n",
      "Coefficients: [(0.05129293598134168,), (-0.2562585998678455,), (-0.594908281447516,), (0.25388664170223485,), (-0.21346998114635596,), (-0.16254398120337527,), (-0.058311681197837355,), (0.11548474411432158,), (-0.5937305757195925,), (-0.040133670944805494,), (0.032421655213046685,), (0.044618649709456885,), (0.21072800916304116,), (-0.008035148216110795,), (-0.06943135487970814,), (0.1609082256626206,)]\n"
     ]
    },
    {
     "name": "stderr",
     "output_type": "stream",
     "text": [
      "C:\\Users\\User\\AppData\\Roaming\\Python\\Python311\\site-packages\\sklearn\\metrics\\_regression.py:996: UndefinedMetricWarning: R^2 score is not well-defined with less than two samples.\n",
      "  warnings.warn(msg, UndefinedMetricWarning)\n"
     ]
    },
    {
     "name": "stdout",
     "output_type": "stream",
     "text": [
      "24/24 [==============================] - 1s 5ms/step - loss: 0.3294 - mean_absolute_error: 0.3294 - root_mean_squared_error: 0.4185\n",
      "1/1 [==============================] - 0s 88ms/step\n",
      "MAE: 0.5044723316944733\n",
      "R2: nan\n",
      "RMSE: 0.5044723316944733\n",
      "Intercept: 0.7873433232605002\n",
      "Coefficients: [(0.051240270315223525,), (-0.25218102170715484,), (-0.5942296474214429,), (0.2507593193125697,), (-0.2138820850950623,), (-0.16270116363840242,), (-0.05828751757302186,), (0.11334510967652509,), (-0.5936296198109694,), (-0.040721796388965004,), (0.03332176303628867,), (0.04410322182020345,), (0.2095758610829975,), (-0.00858332631963755,), (-0.06693332448535261,), (0.16242814278915713,)]\n"
     ]
    },
    {
     "name": "stderr",
     "output_type": "stream",
     "text": [
      "C:\\Users\\User\\AppData\\Roaming\\Python\\Python311\\site-packages\\sklearn\\metrics\\_regression.py:996: UndefinedMetricWarning: R^2 score is not well-defined with less than two samples.\n",
      "  warnings.warn(msg, UndefinedMetricWarning)\n"
     ]
    },
    {
     "name": "stdout",
     "output_type": "stream",
     "text": [
      "24/24 [==============================] - 1s 4ms/step - loss: 0.4806 - mean_absolute_error: 0.4806 - root_mean_squared_error: 0.6467\n",
      "1/1 [==============================] - 0s 97ms/step\n",
      "MAE: 0.289324989173645\n",
      "R2: nan\n",
      "RMSE: 0.289324989173645\n",
      "Intercept: 0.7874936937417804\n",
      "Coefficients: [(0.04914294830697971,), (-0.25817417036197615,), (-0.5946852781770408,), (0.25317798860603935,), (-0.21304058642207233,), (-0.16179717578964034,), (-0.05821534211052988,), (0.11458974806568786,), (-0.5921846012349438,), (-0.04056970577507785,), (0.03356889774116249,), (0.04442619095146565,), (0.21004631690734543,), (-0.008769257155930455,), (-0.06749556185631922,), (0.16268331695015448,)]\n"
     ]
    },
    {
     "name": "stderr",
     "output_type": "stream",
     "text": [
      "C:\\Users\\User\\AppData\\Roaming\\Python\\Python311\\site-packages\\sklearn\\metrics\\_regression.py:996: UndefinedMetricWarning: R^2 score is not well-defined with less than two samples.\n",
      "  warnings.warn(msg, UndefinedMetricWarning)\n"
     ]
    },
    {
     "name": "stdout",
     "output_type": "stream",
     "text": [
      "24/24 [==============================] - 1s 4ms/step - loss: 1.4104 - mean_absolute_error: 1.4104 - root_mean_squared_error: 1.6247\n",
      "1/1 [==============================] - 0s 88ms/step\n",
      "MAE: 0.792435919736679\n",
      "R2: nan\n",
      "RMSE: 0.792435919736679\n",
      "Intercept: 0.7873399139770773\n",
      "Coefficients: [(0.05108796721587864,), (-0.2680124269018766,), (-0.5941012079664404,), (0.26163538403772685,), (-0.21261407198120974,), (-0.16233177816134467,), (-0.05834944621151642,), (0.11513590958295164,), (-0.5889038999841847,), (-0.04011802444702496,), (0.033756485430110506,), (0.04443408863174415,), (0.21132810515731132,), (-0.00833130176203097,), (-0.0682015450532325,), (0.1624343688497555,)]\n"
     ]
    },
    {
     "name": "stderr",
     "output_type": "stream",
     "text": [
      "C:\\Users\\User\\AppData\\Roaming\\Python\\Python311\\site-packages\\sklearn\\metrics\\_regression.py:996: UndefinedMetricWarning: R^2 score is not well-defined with less than two samples.\n",
      "  warnings.warn(msg, UndefinedMetricWarning)\n"
     ]
    },
    {
     "name": "stdout",
     "output_type": "stream",
     "text": [
      "24/24 [==============================] - 2s 4ms/step - loss: 1.7371 - mean_absolute_error: 1.7371 - root_mean_squared_error: 1.9726\n",
      "1/1 [==============================] - 0s 88ms/step\n",
      "MAE: 1.169556183280945\n",
      "R2: nan\n",
      "RMSE: 1.169556183280945\n",
      "Intercept: 0.787893568165577\n",
      "Coefficients: [(0.05133414473787126,), (-0.25247018882085676,), (-0.5897042811490514,), (0.2496583820892717,), (-0.21294355671379503,), (-0.16182531802931904,), (-0.058348324584266906,), (0.11547765926564406,), (-0.587785351384337,), (-0.039460898859968535,), (0.03320838533271794,), (0.04449413239031411,), (0.20927575834996676,), (-0.007542121635547024,), (-0.0694067950204657,), (0.16017679820539593,)]\n"
     ]
    },
    {
     "name": "stderr",
     "output_type": "stream",
     "text": [
      "C:\\Users\\User\\AppData\\Roaming\\Python\\Python311\\site-packages\\sklearn\\metrics\\_regression.py:996: UndefinedMetricWarning: R^2 score is not well-defined with less than two samples.\n",
      "  warnings.warn(msg, UndefinedMetricWarning)\n"
     ]
    },
    {
     "name": "stdout",
     "output_type": "stream",
     "text": [
      "24/24 [==============================] - 1s 4ms/step - loss: 1.5974 - mean_absolute_error: 1.5974 - root_mean_squared_error: 1.8081\n",
      "1/1 [==============================] - 0s 96ms/step\n",
      "MAE: 0.62278315908432\n",
      "R2: nan\n",
      "RMSE: 0.62278315908432\n",
      "Intercept: 0.7878990761869681\n",
      "Coefficients: [(0.05131025118270821,), (-0.2649613773046352,), (-0.5949068476138304,), (0.2610713048671664,), (-0.21320119320553083,), (-0.16218362458268631,), (-0.058345976452973076,), (0.11554998735819938,), (-0.5893187687490353,), (-0.03970543932984265,), (0.033274080368848734,), (0.0444143839714932,), (0.2089041663839428,), (-0.007847645772641328,), (-0.06915977187591592,), (0.16108875577432646,)]\n"
     ]
    },
    {
     "name": "stderr",
     "output_type": "stream",
     "text": [
      "C:\\Users\\User\\AppData\\Roaming\\Python\\Python311\\site-packages\\sklearn\\metrics\\_regression.py:996: UndefinedMetricWarning: R^2 score is not well-defined with less than two samples.\n",
      "  warnings.warn(msg, UndefinedMetricWarning)\n"
     ]
    },
    {
     "name": "stdout",
     "output_type": "stream",
     "text": [
      "24/24 [==============================] - 1s 4ms/step - loss: 1.6150 - mean_absolute_error: 1.6150 - root_mean_squared_error: 1.8707\n",
      "1/1 [==============================] - 0s 88ms/step\n",
      "MAE: 0.40047127832643126\n",
      "R2: nan\n",
      "RMSE: 0.40047127832643126\n",
      "Intercept: 0.7881710695479316\n",
      "Coefficients: [(0.05113821967523596,), (-0.264025571953291,), (-0.5949106248669481,), (0.2611653605400977,), (-0.21279786903053158,), (-0.16146943592775892,), (-0.05844511090339089,), (0.11688057621244546,), (-0.5890572890792795,), (-0.039345115360128385,), (0.03367996178982921,), (0.04448212466223856,), (0.20703342772921735,), (-0.007556402453317897,), (-0.07075704656739319,), (0.16048541112870376,)]\n"
     ]
    },
    {
     "name": "stderr",
     "output_type": "stream",
     "text": [
      "C:\\Users\\User\\AppData\\Roaming\\Python\\Python311\\site-packages\\sklearn\\metrics\\_regression.py:996: UndefinedMetricWarning: R^2 score is not well-defined with less than two samples.\n",
      "  warnings.warn(msg, UndefinedMetricWarning)\n"
     ]
    },
    {
     "name": "stdout",
     "output_type": "stream",
     "text": [
      "24/24 [==============================] - 1s 4ms/step - loss: 0.9675 - mean_absolute_error: 0.9675 - root_mean_squared_error: 1.1363\n",
      "1/1 [==============================] - 0s 88ms/step\n",
      "MAE: 0.10750489673015595\n",
      "R2: nan\n",
      "RMSE: 0.10750489673015595\n",
      "Intercept: 0.788179302998467\n",
      "Coefficients: [(0.05134490624286659,), (-0.26121606644211454,), (-0.5962137153630765,), (0.26052883030595825,), (-0.2134574687272765,), (-0.16183708613047781,), (-0.05843354373339663,), (0.11569938767311597,), (-0.5909061983285394,), (-0.03944474561295165,), (0.032692548604012175,), (0.04466227167939745,), (0.20677526038968186,), (-0.007178037677981906,), (-0.06984707663880306,), (0.16040350886595714,)]\n"
     ]
    },
    {
     "name": "stderr",
     "output_type": "stream",
     "text": [
      "C:\\Users\\User\\AppData\\Roaming\\Python\\Python311\\site-packages\\sklearn\\metrics\\_regression.py:996: UndefinedMetricWarning: R^2 score is not well-defined with less than two samples.\n",
      "  warnings.warn(msg, UndefinedMetricWarning)\n"
     ]
    },
    {
     "name": "stdout",
     "output_type": "stream",
     "text": [
      "24/24 [==============================] - 1s 4ms/step - loss: 0.8007 - mean_absolute_error: 0.8007 - root_mean_squared_error: 0.9644\n",
      "1/1 [==============================] - 0s 104ms/step\n",
      "MAE: 0.03951896013850403\n",
      "R2: nan\n",
      "RMSE: 0.03951896013850403\n",
      "Intercept: 0.7881821956161115\n",
      "Coefficients: [(0.051480816949812616,), (-0.2699197201256268,), (-0.5966205472035179,), (0.2684958403869571,), (-0.21333189168106037,), (-0.16205731371189974,), (-0.05834151947624645,), (0.11770639009985007,), (-0.5888064222608523,), (-0.03930040293468086,), (0.032761290734079455,), (0.04456061185644839,), (0.20594203645252973,), (-0.007177905073928287,), (-0.07139536709596533,), (0.15950566027453528,)]\n"
     ]
    },
    {
     "name": "stderr",
     "output_type": "stream",
     "text": [
      "C:\\Users\\User\\AppData\\Roaming\\Python\\Python311\\site-packages\\sklearn\\metrics\\_regression.py:996: UndefinedMetricWarning: R^2 score is not well-defined with less than two samples.\n",
      "  warnings.warn(msg, UndefinedMetricWarning)\n"
     ]
    },
    {
     "name": "stdout",
     "output_type": "stream",
     "text": [
      "24/24 [==============================] - 1s 6ms/step - loss: 0.3681 - mean_absolute_error: 0.3681 - root_mean_squared_error: 0.4640\n",
      "1/1 [==============================] - 0s 121ms/step\n",
      "MAE: 0.3742004826587829\n",
      "R2: nan\n",
      "RMSE: 0.3742004826587829\n",
      "Intercept: 0.7882199706936538\n",
      "Coefficients: [(0.05125166834470327,), (-0.2636602355204014,), (-0.5945081277262046,), (0.26138403159674445,), (-0.21319269925367634,), (-0.161724898712875,), (-0.05847220103116616,), (0.11549550898227712,), (-0.5877284088779968,), (-0.03917176437817984,), (0.033612195642606174,), (0.044230017694001186,), (0.20697020192129587,), (-0.007365782607477634,), (-0.07001940469122078,), (0.1605411823595847,)]\n"
     ]
    },
    {
     "name": "stderr",
     "output_type": "stream",
     "text": [
      "C:\\Users\\User\\AppData\\Roaming\\Python\\Python311\\site-packages\\sklearn\\metrics\\_regression.py:996: UndefinedMetricWarning: R^2 score is not well-defined with less than two samples.\n",
      "  warnings.warn(msg, UndefinedMetricWarning)\n"
     ]
    },
    {
     "name": "stdout",
     "output_type": "stream",
     "text": [
      "24/24 [==============================] - 1s 4ms/step - loss: 1.5703 - mean_absolute_error: 1.5703 - root_mean_squared_error: 1.7685\n",
      "1/1 [==============================] - 0s 87ms/step\n",
      "MAE: 0.19558535338430785\n",
      "R2: nan\n",
      "RMSE: 0.19558535338430785\n",
      "Intercept: 0.7882300014824236\n",
      "Coefficients: [(0.05156209846571901,), (-0.2710244687068533,), (-0.5944994405993909,), (0.2694705551362898,), (-0.21335669285496858,), (-0.16198561469236553,), (-0.058369237655249914,), (0.11591295968871433,), (-0.584829684484508,), (-0.0391988307436813,), (0.03317661595951254,), (0.04414383915179838,), (0.20488951200174366,), (-0.0072859383278471275,), (-0.069480495224041,), (0.16031142005976828,)]\n"
     ]
    },
    {
     "name": "stderr",
     "output_type": "stream",
     "text": [
      "C:\\Users\\User\\AppData\\Roaming\\Python\\Python311\\site-packages\\sklearn\\metrics\\_regression.py:996: UndefinedMetricWarning: R^2 score is not well-defined with less than two samples.\n",
      "  warnings.warn(msg, UndefinedMetricWarning)\n"
     ]
    },
    {
     "name": "stdout",
     "output_type": "stream",
     "text": [
      "24/24 [==============================] - 1s 4ms/step - loss: 1.2803 - mean_absolute_error: 1.2803 - root_mean_squared_error: 1.4637\n",
      "1/1 [==============================] - 0s 88ms/step\n",
      "MAE: 0.23897358711242675\n",
      "R2: nan\n",
      "RMSE: 0.23897358711242675\n",
      "Intercept: 0.7881968569356329\n",
      "Coefficients: [(0.051223370895072826,), (-0.27621513206413384,), (-0.5938586975092076,), (0.2701963416940018,), (-0.2122922820021334,), (-0.16168503874679016,), (-0.05837818117841458,), (0.11736032788277317,), (-0.5838161455995636,), (-0.03921884900876614,), (0.03395492531315953,), (0.04418919109758595,), (0.20809563206750442,), (-0.007523048697577844,), (-0.07091618115342245,), (0.1601510088231417,)]\n"
     ]
    },
    {
     "name": "stderr",
     "output_type": "stream",
     "text": [
      "C:\\Users\\User\\AppData\\Roaming\\Python\\Python311\\site-packages\\sklearn\\metrics\\_regression.py:996: UndefinedMetricWarning: R^2 score is not well-defined with less than two samples.\n",
      "  warnings.warn(msg, UndefinedMetricWarning)\n"
     ]
    },
    {
     "name": "stdout",
     "output_type": "stream",
     "text": [
      "24/24 [==============================] - 1s 4ms/step - loss: 0.8753 - mean_absolute_error: 0.8753 - root_mean_squared_error: 1.0406\n",
      "1/1 [==============================] - 0s 88ms/step\n",
      "MAE: 0.05030273135071564\n",
      "R2: nan\n",
      "RMSE: 0.05030273135071564\n",
      "Intercept: 0.7882095931214634\n",
      "Coefficients: [(0.05150012834807214,), (-0.2645657255652455,), (-0.5974271709176284,), (0.2649498234227289,), (-0.21334463535165868,), (-0.1620092115527933,), (-0.05832491981626449,), (0.11836957708380101,), (-0.5910821844694171,), (-0.03921974523385162,), (0.03271133453048582,), (0.04448662219262811,), (0.20517508621216457,), (-0.006990967860936257,), (-0.07197513761348812,), (0.15946708376191826,)]\n"
     ]
    },
    {
     "name": "stderr",
     "output_type": "stream",
     "text": [
      "C:\\Users\\User\\AppData\\Roaming\\Python\\Python311\\site-packages\\sklearn\\metrics\\_regression.py:996: UndefinedMetricWarning: R^2 score is not well-defined with less than two samples.\n",
      "  warnings.warn(msg, UndefinedMetricWarning)\n"
     ]
    },
    {
     "name": "stdout",
     "output_type": "stream",
     "text": [
      "24/24 [==============================] - 1s 4ms/step - loss: 0.8662 - mean_absolute_error: 0.8662 - root_mean_squared_error: 1.0336\n",
      "1/1 [==============================] - 0s 89ms/step\n",
      "MAE: 0.04052703973851013\n",
      "R2: nan\n",
      "RMSE: 0.04052703973851013\n",
      "Intercept: 0.788199764023869\n",
      "Coefficients: [(0.051376218528753154,), (-0.26966207375851553,), (-0.593434595583381,), (0.26645646292051506,), (-0.21329146559939965,), (-0.1619822363583557,), (-0.0584870725478899,), (0.11381965396699378,), (-0.5843990936072386,), (-0.039401039979350454,), (0.03306338353164319,), (0.04453079616549451,), (0.20712344944507638,), (-0.007538759582984125,), (-0.06818323746327368,), (0.16089307429256502,)]\n"
     ]
    },
    {
     "name": "stderr",
     "output_type": "stream",
     "text": [
      "C:\\Users\\User\\AppData\\Roaming\\Python\\Python311\\site-packages\\sklearn\\metrics\\_regression.py:996: UndefinedMetricWarning: R^2 score is not well-defined with less than two samples.\n",
      "  warnings.warn(msg, UndefinedMetricWarning)\n"
     ]
    },
    {
     "name": "stdout",
     "output_type": "stream",
     "text": [
      "24/24 [==============================] - 1s 6ms/step - loss: 0.3727 - mean_absolute_error: 0.3727 - root_mean_squared_error: 0.5043\n",
      "1/1 [==============================] - 0s 112ms/step\n",
      "MAE: 0.3259658050897522\n",
      "R2: nan\n",
      "RMSE: 0.3259658050897522\n",
      "Intercept: 0.7881890045185187\n",
      "Coefficients: [(0.05131469668605469,), (-0.2637408960671286,), (-0.5945956938949837,), (0.2612524411059193,), (-0.21315199261671533,), (-0.1615391924938156,), (-0.058470296584557366,), (0.11518435536163091,), (-0.5881579348070278,), (-0.0392241223254408,), (0.032833566391763644,), (0.04490809952971423,), (0.20723751435533175,), (-0.007105091817278851,), (-0.06901913490253259,), (0.16086482401747082,)]\n"
     ]
    },
    {
     "name": "stderr",
     "output_type": "stream",
     "text": [
      "C:\\Users\\User\\AppData\\Roaming\\Python\\Python311\\site-packages\\sklearn\\metrics\\_regression.py:996: UndefinedMetricWarning: R^2 score is not well-defined with less than two samples.\n",
      "  warnings.warn(msg, UndefinedMetricWarning)\n"
     ]
    },
    {
     "name": "stdout",
     "output_type": "stream",
     "text": [
      "24/24 [==============================] - 1s 7ms/step - loss: 0.3451 - mean_absolute_error: 0.3451 - root_mean_squared_error: 0.4373\n",
      "1/1 [==============================] - 0s 128ms/step\n",
      "MAE: 0.04485620589750672\n",
      "R2: nan\n",
      "RMSE: 0.04485620589750672\n",
      "Intercept: 0.7882034760987346\n",
      "Coefficients: [(0.051291698185114004,), (-0.27055659170695195,), (-0.5934990117361086,), (0.26599222290617675,), (-0.21293861591729663,), (-0.16198018957281932,), (-0.0584509068458447,), (0.11534203041122698,), (-0.585093584515265,), (-0.03945634145027592,), (0.03332589405243777,), (0.044555634601520726,), (0.20819592821753125,), (-0.007758296843711069,), (-0.069412550318056,), (0.16069009244498653,)]\n"
     ]
    },
    {
     "name": "stderr",
     "output_type": "stream",
     "text": [
      "C:\\Users\\User\\AppData\\Roaming\\Python\\Python311\\site-packages\\sklearn\\metrics\\_regression.py:996: UndefinedMetricWarning: R^2 score is not well-defined with less than two samples.\n",
      "  warnings.warn(msg, UndefinedMetricWarning)\n"
     ]
    },
    {
     "name": "stdout",
     "output_type": "stream",
     "text": [
      "24/24 [==============================] - 3s 5ms/step - loss: 0.4573 - mean_absolute_error: 0.4573 - root_mean_squared_error: 0.6156\n",
      "1/1 [==============================] - 0s 88ms/step\n",
      "MAE: 0.32916991756939695\n",
      "R2: nan\n",
      "RMSE: 0.32916991756939695\n",
      "Intercept: 0.7882445314316222\n",
      "Coefficients: [(0.05145947771488511,), (-0.27107398556584283,), (-0.5947915185494064,), (0.26755475306223864,), (-0.21309602095910918,), (-0.16217064177222917,), (-0.05837751905360827,), (0.11619872900266198,), (-0.5862661753728541,), (-0.039120954480875894,), (0.03298220510393111,), (0.044589402791131834,), (0.2078105411064246,), (-0.00712842418298887,), (-0.07001007738330328,), (0.15993682012599006,)]\n"
     ]
    },
    {
     "name": "stderr",
     "output_type": "stream",
     "text": [
      "C:\\Users\\User\\AppData\\Roaming\\Python\\Python311\\site-packages\\sklearn\\metrics\\_regression.py:996: UndefinedMetricWarning: R^2 score is not well-defined with less than two samples.\n",
      "  warnings.warn(msg, UndefinedMetricWarning)\n"
     ]
    },
    {
     "name": "stdout",
     "output_type": "stream",
     "text": [
      "24/24 [==============================] - 1s 5ms/step - loss: 1.2057 - mean_absolute_error: 1.2057 - root_mean_squared_error: 1.3878\n",
      "1/1 [==============================] - 0s 88ms/step\n",
      "MAE: 0.057284256703613284\n",
      "R2: nan\n",
      "RMSE: 0.057284256703613284\n",
      "Intercept: 0.788306757473064\n",
      "Coefficients: [(0.05103534190753268,), (-0.2554469184270484,), (-0.5962617076984632,), (0.2548259413271827,), (-0.2130345989023304,), (-0.16120802582910893,), (-0.05854557080063419,), (0.11511927118891041,), (-0.5932611725321246,), (-0.03954864534826444,), (0.0328229031492326,), (0.04470844160974072,), (0.20755591682073993,), (-0.007295534794219471,), (-0.06976469372228647,), (0.1607648504185652,)]\n"
     ]
    },
    {
     "name": "stderr",
     "output_type": "stream",
     "text": [
      "C:\\Users\\User\\AppData\\Roaming\\Python\\Python311\\site-packages\\sklearn\\metrics\\_regression.py:996: UndefinedMetricWarning: R^2 score is not well-defined with less than two samples.\n",
      "  warnings.warn(msg, UndefinedMetricWarning)\n"
     ]
    },
    {
     "name": "stdout",
     "output_type": "stream",
     "text": [
      "24/24 [==============================] - 1s 5ms/step - loss: 1.7957 - mean_absolute_error: 1.7957 - root_mean_squared_error: 2.0252\n",
      "1/1 [==============================] - 0s 88ms/step\n",
      "MAE: 0.11523534073355102\n",
      "R2: nan\n",
      "RMSE: 0.11523534073355102\n",
      "Intercept: 0.7883150765559546\n",
      "Coefficients: [(0.05154184180676096,), (-0.2641810948065487,), (-0.5950776755300922,), (0.2640194711004665,), (-0.2139411407187954,), (-0.16229716394655133,), (-0.05848429442157534,), (0.11328103531822457,), (-0.5872940602506684,), (-0.03926016616458245,), (0.03264224645323923,), (0.04461031553117364,), (0.2060160354908262,), (-0.006878648878381849,), (-0.06806393032585509,), (0.16040712376979385,)]\n"
     ]
    },
    {
     "name": "stderr",
     "output_type": "stream",
     "text": [
      "C:\\Users\\User\\AppData\\Roaming\\Python\\Python311\\site-packages\\sklearn\\metrics\\_regression.py:996: UndefinedMetricWarning: R^2 score is not well-defined with less than two samples.\n",
      "  warnings.warn(msg, UndefinedMetricWarning)\n"
     ]
    },
    {
     "name": "stdout",
     "output_type": "stream",
     "text": [
      "24/24 [==============================] - 1s 6ms/step - loss: 0.3954 - mean_absolute_error: 0.3954 - root_mean_squared_error: 0.5322\n",
      "1/1 [==============================] - 0s 97ms/step\n",
      "MAE: 0.4716190657866516\n",
      "R2: nan\n",
      "RMSE: 0.4716190657866516\n",
      "Intercept: 0.7884664042337609\n",
      "Coefficients: [(0.05130264636303791,), (-0.27007095925025243,), (-0.59614121100297,), (0.2674816472930487,), (-0.2129642363803097,), (-0.16160286509049365,), (-0.058491233828897635,), (0.1162047240266168,), (-0.5879200812985559,), (-0.03932260247189128,), (0.03284347073509551,), (0.04457922564826201,), (0.20692606658380047,), (-0.007052426167818949,), (-0.07032473621689642,), (0.16007457142117026,)]\n"
     ]
    },
    {
     "name": "stderr",
     "output_type": "stream",
     "text": [
      "C:\\Users\\User\\AppData\\Roaming\\Python\\Python311\\site-packages\\sklearn\\metrics\\_regression.py:996: UndefinedMetricWarning: R^2 score is not well-defined with less than two samples.\n",
      "  warnings.warn(msg, UndefinedMetricWarning)\n"
     ]
    },
    {
     "name": "stdout",
     "output_type": "stream",
     "text": [
      "24/24 [==============================] - 1s 6ms/step - loss: 1.3668 - mean_absolute_error: 1.3668 - root_mean_squared_error: 1.5575\n",
      "1/1 [==============================] - 0s 97ms/step\n",
      "MAE: 0.2141917197149582\n",
      "R2: nan\n",
      "RMSE: 0.2141917197149582\n",
      "Intercept: 0.7884903227538138\n",
      "Coefficients: [(0.051188129307013636,), (-0.26389155260933916,), (-0.5945913842334641,), (0.2601559491372237,), (-0.21260206978951118,), (-0.1618123714112424,), (-0.05842998467096776,), (0.11552026989087603,), (-0.5890240268742244,), (-0.03958868430306913,), (0.03344407605375296,), (0.04439035373917334,), (0.20858963549044277,), (-0.007731941500184355,), (-0.06954832188924823,), (0.16072540710558827,)]\n"
     ]
    },
    {
     "name": "stderr",
     "output_type": "stream",
     "text": [
      "C:\\Users\\User\\AppData\\Roaming\\Python\\Python311\\site-packages\\sklearn\\metrics\\_regression.py:996: UndefinedMetricWarning: R^2 score is not well-defined with less than two samples.\n",
      "  warnings.warn(msg, UndefinedMetricWarning)\n"
     ]
    },
    {
     "name": "stdout",
     "output_type": "stream",
     "text": [
      "24/24 [==============================] - 2s 10ms/step - loss: 0.3265 - mean_absolute_error: 0.3265 - root_mean_squared_error: 0.4209\n",
      "1/1 [==============================] - 0s 139ms/step\n",
      "MAE: 0.2625192323112488\n",
      "R2: nan\n",
      "RMSE: 0.2625192323112488\n",
      "Intercept: 0.7884884612137073\n",
      "Coefficients: [(0.051447332202898426,), (-0.2695718650316732,), (-0.5949758902576983,), (0.2665605893033634,), (-0.21298673744943453,), (-0.16188657687936792,), (-0.05838199477223807,), (0.11701608017217091,), (-0.5871914408619118,), (-0.03931304241950852,), (0.032796111442214115,), (0.044533461007893405,), (0.20729863900546838,), (-0.00718526220256838,), (-0.07091223717696893,), (0.15897291578491507,)]\n"
     ]
    },
    {
     "name": "stderr",
     "output_type": "stream",
     "text": [
      "C:\\Users\\User\\AppData\\Roaming\\Python\\Python311\\site-packages\\sklearn\\metrics\\_regression.py:996: UndefinedMetricWarning: R^2 score is not well-defined with less than two samples.\n",
      "  warnings.warn(msg, UndefinedMetricWarning)\n"
     ]
    },
    {
     "name": "stdout",
     "output_type": "stream",
     "text": [
      "24/24 [==============================] - 1s 5ms/step - loss: 0.5001 - mean_absolute_error: 0.5001 - root_mean_squared_error: 0.6618\n",
      "1/1 [==============================] - 0s 152ms/step\n",
      "MAE: 0.5787098160589295\n",
      "R2: nan\n",
      "RMSE: 0.5787098160589295\n",
      "Intercept: 0.7884963400011422\n",
      "Coefficients: [(0.051760885542149436,), (-0.30649626923749157,), (-0.5873686826918686,), (0.29412320237930084,), (-0.2123131163539265,), (-0.1618088068858394,), (-0.05863250150863844,), (0.11124689795366144,), (-0.5629352198648916,), (-0.03864919708844224,), (0.03339530646322866,), (0.045077077968673517,), (0.20775602235256474,), (-0.00668290914776836,), (-0.06503835780973904,), (0.1615261965433504,)]\n"
     ]
    },
    {
     "name": "stderr",
     "output_type": "stream",
     "text": [
      "C:\\Users\\User\\AppData\\Roaming\\Python\\Python311\\site-packages\\sklearn\\metrics\\_regression.py:996: UndefinedMetricWarning: R^2 score is not well-defined with less than two samples.\n",
      "  warnings.warn(msg, UndefinedMetricWarning)\n"
     ]
    },
    {
     "name": "stdout",
     "output_type": "stream",
     "text": [
      "24/24 [==============================] - 2s 6ms/step - loss: 1.3847 - mean_absolute_error: 1.3847 - root_mean_squared_error: 1.5697\n",
      "1/1 [==============================] - 0s 199ms/step\n",
      "MAE: 0.06707055846214295\n",
      "R2: nan\n",
      "RMSE: 0.06707055846214295\n",
      "Intercept: 0.7884398248500699\n",
      "Coefficients: [(0.05134076994870557,), (-0.26745208905827,), (-0.5962279709289374,), (0.2657453126535144,), (-0.21358427895564622,), (-0.161956964322023,), (-0.05859518826613428,), (0.11338772159547271,), (-0.5885615037577655,), (-0.03946478788814044,), (0.03213381522840067,), (0.044947710496740755,), (0.20774583701277577,), (-0.007068826703661241,), (-0.06857974418286353,), (0.16060578599442743,)]\n"
     ]
    },
    {
     "name": "stderr",
     "output_type": "stream",
     "text": [
      "C:\\Users\\User\\AppData\\Roaming\\Python\\Python311\\site-packages\\sklearn\\metrics\\_regression.py:996: UndefinedMetricWarning: R^2 score is not well-defined with less than two samples.\n",
      "  warnings.warn(msg, UndefinedMetricWarning)\n"
     ]
    },
    {
     "name": "stdout",
     "output_type": "stream",
     "text": [
      "24/24 [==============================] - 2s 7ms/step - loss: 0.3258 - mean_absolute_error: 0.3258 - root_mean_squared_error: 0.4188\n",
      "1/1 [==============================] - 0s 152ms/step\n",
      "MAE: 0.5454336272966308\n",
      "R2: nan\n",
      "RMSE: 0.5454336272966308\n",
      "Intercept: 0.7884420530145092\n",
      "Coefficients: [(0.051294315344975944,), (-0.30978898021963563,), (-0.5918877452929596,), (0.2985103179152313,), (-0.2115513370866692,), (-0.16213671936186536,), (-0.05843378419163699,), (0.11675407449434079,), (-0.568423973730296,), (-0.038471749825305254,), (0.03648807020233648,), (0.04308635761066374,), (0.2054504763708667,), (-0.007702069806741833,), (-0.06991225300211801,), (0.16085158864512558,)]\n"
     ]
    },
    {
     "name": "stderr",
     "output_type": "stream",
     "text": [
      "C:\\Users\\User\\AppData\\Roaming\\Python\\Python311\\site-packages\\sklearn\\metrics\\_regression.py:996: UndefinedMetricWarning: R^2 score is not well-defined with less than two samples.\n",
      "  warnings.warn(msg, UndefinedMetricWarning)\n"
     ]
    },
    {
     "name": "stdout",
     "output_type": "stream",
     "text": [
      "24/24 [==============================] - 2s 5ms/step - loss: 0.9761 - mean_absolute_error: 0.9761 - root_mean_squared_error: 1.1513\n",
      "1/1 [==============================] - 0s 96ms/step\n",
      "MAE: 0.00922188313627624\n",
      "R2: nan\n",
      "RMSE: 0.00922188313627624\n",
      "Intercept: 0.7884362599048812\n",
      "Coefficients: [(0.051802565362516484,), (-0.2856508549174455,), (-0.5935464932344001,), (0.281006846587866,), (-0.21193410104496677,), (-0.16145600423448309,), (-0.05826650311557936,), (0.12050213686611339,), (-0.5776127734826366,), (-0.038365589672523376,), (0.03318758018578004,), (0.04491228959563393,), (0.20362189340289993,), (-0.006355671391850528,), (-0.0726160186360986,), (0.15954496701946147,)]\n"
     ]
    },
    {
     "name": "stderr",
     "output_type": "stream",
     "text": [
      "C:\\Users\\User\\AppData\\Roaming\\Python\\Python311\\site-packages\\sklearn\\metrics\\_regression.py:996: UndefinedMetricWarning: R^2 score is not well-defined with less than two samples.\n",
      "  warnings.warn(msg, UndefinedMetricWarning)\n"
     ]
    },
    {
     "name": "stdout",
     "output_type": "stream",
     "text": [
      "24/24 [==============================] - 1s 5ms/step - loss: 0.8905 - mean_absolute_error: 0.8905 - root_mean_squared_error: 1.0518\n",
      "1/1 [==============================] - 0s 96ms/step\n",
      "MAE: 0.1391948365129776\n",
      "R2: nan\n",
      "RMSE: 0.1391948365129776\n",
      "Intercept: 0.7884326542711961\n",
      "Coefficients: [(0.051673864620846555,), (-0.30477945105994975,), (-0.5936387442657889,), (0.29483846400820923,), (-0.21259171654508613,), (-0.16297491979006573,), (-0.058472103412707505,), (0.11696314350859349,), (-0.5725508444216744,), (-0.03796711592826288,), (0.033593014029397184,), (0.04481248924012972,), (0.2085101798897015,), (-0.006991083753271072,), (-0.07157093954191103,), (0.15952991561414448,)]\n"
     ]
    },
    {
     "name": "stderr",
     "output_type": "stream",
     "text": [
      "C:\\Users\\User\\AppData\\Roaming\\Python\\Python311\\site-packages\\sklearn\\metrics\\_regression.py:996: UndefinedMetricWarning: R^2 score is not well-defined with less than two samples.\n",
      "  warnings.warn(msg, UndefinedMetricWarning)\n"
     ]
    },
    {
     "name": "stdout",
     "output_type": "stream",
     "text": [
      "24/24 [==============================] - 1s 5ms/step - loss: 0.3460 - mean_absolute_error: 0.3460 - root_mean_squared_error: 0.4399\n",
      "1/1 [==============================] - 0s 96ms/step\n",
      "MAE: 0.14723600110183716\n",
      "R2: nan\n",
      "RMSE: 0.14723600110183716\n",
      "Intercept: 0.7884332706856327\n",
      "Coefficients: [(0.05126364045405399,), (-0.27026147919066673,), (-0.595677732254866,), (0.26645256395046285,), (-0.21262869563071113,), (-0.1618932776758708,), (-0.0584392919783476,), (0.11625870103817335,), (-0.5877192673098734,), (-0.039441612726036857,), (0.03326730201546764,), (0.044337352865388,), (0.20814106827088188,), (-0.007395254460276757,), (-0.07018841148265073,), (0.16031636812256522,)]\n"
     ]
    },
    {
     "name": "stderr",
     "output_type": "stream",
     "text": [
      "C:\\Users\\User\\AppData\\Roaming\\Python\\Python311\\site-packages\\sklearn\\metrics\\_regression.py:996: UndefinedMetricWarning: R^2 score is not well-defined with less than two samples.\n",
      "  warnings.warn(msg, UndefinedMetricWarning)\n"
     ]
    },
    {
     "name": "stdout",
     "output_type": "stream",
     "text": [
      "24/24 [==============================] - 1s 5ms/step - loss: 0.4071 - mean_absolute_error: 0.4071 - root_mean_squared_error: 0.5473\n",
      "1/1 [==============================] - 0s 120ms/step\n",
      "MAE: 0.3012989780203247\n",
      "R2: nan\n",
      "RMSE: 0.3012989780203247\n",
      "Intercept: 0.7879477215947229\n",
      "Coefficients: [(0.051511572555383765,), (-0.27832124002758013,), (-0.5949986830265616,), (0.27205092501245964,), (-0.21300435558474748,), (-0.16226839546405702,), (-0.05804338213070326,), (0.11836803505315623,), (-0.5865879498549157,), (-0.03870109524919117,), (0.032563939794237606,), (0.044620921618762494,), (0.2093734187628974,), (-0.008524240618912693,), (-0.07096508651246854,), (0.15994803392313348,)]\n"
     ]
    },
    {
     "name": "stderr",
     "output_type": "stream",
     "text": [
      "C:\\Users\\User\\AppData\\Roaming\\Python\\Python311\\site-packages\\sklearn\\metrics\\_regression.py:996: UndefinedMetricWarning: R^2 score is not well-defined with less than two samples.\n",
      "  warnings.warn(msg, UndefinedMetricWarning)\n"
     ]
    },
    {
     "name": "stdout",
     "output_type": "stream",
     "text": [
      "24/24 [==============================] - 1s 4ms/step - loss: 1.5395 - mean_absolute_error: 1.5395 - root_mean_squared_error: 1.7178\n",
      "1/1 [==============================] - 0s 96ms/step\n",
      "MAE: 1.128248279506073\n",
      "R2: nan\n",
      "RMSE: 1.128248279506073\n",
      "Intercept: 0.7879076875038153\n",
      "Coefficients: [(0.051357494534925385,), (-0.3130493041189633,), (-0.5878127629704614,), (0.29862681074938363,), (-0.21187995578745522,), (-0.16085262172555034,), (-0.05793157734495166,), (0.11514648088936004,), (-0.5644880485502817,), (-0.038209424169383985,), (0.03435971760471247,), (0.044650723282131335,), (0.2056607101440689,), (-0.010612908809148362,), (-0.06462906774833921,), (0.16504277769773482,)]\n"
     ]
    },
    {
     "name": "stderr",
     "output_type": "stream",
     "text": [
      "C:\\Users\\User\\AppData\\Roaming\\Python\\Python311\\site-packages\\sklearn\\metrics\\_regression.py:996: UndefinedMetricWarning: R^2 score is not well-defined with less than two samples.\n",
      "  warnings.warn(msg, UndefinedMetricWarning)\n"
     ]
    },
    {
     "name": "stdout",
     "output_type": "stream",
     "text": [
      "24/24 [==============================] - 1s 6ms/step - loss: 1.1310 - mean_absolute_error: 1.1310 - root_mean_squared_error: 1.3162\n",
      "1/1 [==============================] - 0s 120ms/step\n",
      "MAE: 0.6983062360794983\n",
      "R2: nan\n",
      "RMSE: 0.6983062360794983\n",
      "Intercept: 0.7879362694075569\n",
      "Coefficients: [(0.051156762568728274,), (-0.3263816786013119,), (-0.5874432042282083,), (0.30637528983624873,), (-0.21084425672110513,), (-0.15914216143678328,), (-0.057983320543430125,), (0.11640100821302495,), (-0.5604805932153826,), (-0.03797719279674187,), (0.033599318357957514,), (0.0450044948313306,), (0.20765955902701655,), (-0.010422958472455593,), (-0.06434342547284783,), (0.1663611067168275,)]\n"
     ]
    },
    {
     "name": "stderr",
     "output_type": "stream",
     "text": [
      "C:\\Users\\User\\AppData\\Roaming\\Python\\Python311\\site-packages\\sklearn\\metrics\\_regression.py:996: UndefinedMetricWarning: R^2 score is not well-defined with less than two samples.\n",
      "  warnings.warn(msg, UndefinedMetricWarning)\n"
     ]
    },
    {
     "name": "stdout",
     "output_type": "stream",
     "text": [
      "24/24 [==============================] - 1s 5ms/step - loss: 0.3294 - mean_absolute_error: 0.3294 - root_mean_squared_error: 0.4283\n",
      "1/1 [==============================] - 0s 91ms/step\n",
      "MAE: 0.47428161378741457\n",
      "R2: nan\n",
      "RMSE: 0.47428161378741457\n",
      "Intercept: 0.7879619635225301\n",
      "Coefficients: [(0.05119473577257906,), (-0.2776041919609707,), (-0.5975944826978705,), (0.2745716611214835,), (-0.21210763487459328,), (-0.15958984951652885,), (-0.05778827373632408,), (0.12194147117889824,), (-0.5898353188683491,), (-0.04037627703696145,), (0.031123135955703554,), (0.045110359722762526,), (0.20352639873736272,), (-0.010143950200196167,), (-0.07069272493011611,), (0.16260706321280177,)]\n"
     ]
    },
    {
     "name": "stderr",
     "output_type": "stream",
     "text": [
      "C:\\Users\\User\\AppData\\Roaming\\Python\\Python311\\site-packages\\sklearn\\metrics\\_regression.py:996: UndefinedMetricWarning: R^2 score is not well-defined with less than two samples.\n",
      "  warnings.warn(msg, UndefinedMetricWarning)\n"
     ]
    },
    {
     "name": "stdout",
     "output_type": "stream",
     "text": [
      "24/24 [==============================] - 2s 4ms/step - loss: 0.3297 - mean_absolute_error: 0.3297 - root_mean_squared_error: 0.4231\n",
      "1/1 [==============================] - 0s 176ms/step\n",
      "MAE: 0.297938186291626\n",
      "R2: nan\n",
      "RMSE: 0.297938186291626\n",
      "Intercept: 0.7879660515586263\n",
      "Coefficients: [(0.05137004161058178,), (-0.2907849546668445,), (-0.5910659939290754,), (0.282688727077964,), (-0.21289106113457776,), (-0.16145814978538897,), (-0.05824688842825581,), (0.11367463241711073,), (-0.5756875853036073,), (-0.03883005749548382,), (0.033296542971537856,), (0.04465373506914292,), (0.20636661871309048,), (-0.009235393219510958,), (-0.06568953177140394,), (0.1629512109219434,)]\n"
     ]
    },
    {
     "name": "stderr",
     "output_type": "stream",
     "text": [
      "C:\\Users\\User\\AppData\\Roaming\\Python\\Python311\\site-packages\\sklearn\\metrics\\_regression.py:996: UndefinedMetricWarning: R^2 score is not well-defined with less than two samples.\n",
      "  warnings.warn(msg, UndefinedMetricWarning)\n"
     ]
    },
    {
     "ename": "KeyboardInterrupt",
     "evalue": "",
     "output_type": "error",
     "traceback": [
      "\u001b[1;31m---------------------------------------------------------------------------\u001b[0m",
      "\u001b[1;31mKeyboardInterrupt\u001b[0m                         Traceback (most recent call last)",
      "\u001b[1;32md:\\Thesis\\ANN Modelling.ipynb Cell 21\u001b[0m line \u001b[0;36m1\n\u001b[0;32m     <a href='vscode-notebook-cell:/d%3A/Thesis/ANN%20Modelling.ipynb#X62sZmlsZQ%3D%3D?line=16'>17</a>\u001b[0m mlr_model \u001b[39m=\u001b[39m MLR_Model(X_train,y_train) \u001b[39m#perform MLR\u001b[39;00m\n\u001b[0;32m     <a href='vscode-notebook-cell:/d%3A/Thesis/ANN%20Modelling.ipynb#X62sZmlsZQ%3D%3D?line=17'>18</a>\u001b[0m ann_model \u001b[39m=\u001b[39m ANN_Model(mlr_model\u001b[39m.\u001b[39mcoef_,mlr_model\u001b[39m.\u001b[39mintercept_) \u001b[39m#Intercept and coeff of MLR will be initailzied as ANN weights\u001b[39;00m\n\u001b[1;32m---> <a href='vscode-notebook-cell:/d%3A/Thesis/ANN%20Modelling.ipynb#X62sZmlsZQ%3D%3D?line=18'>19</a>\u001b[0m ann_model\u001b[39m.\u001b[39;49mfit(X_train, y_train) \u001b[39m#fit ann model to data\u001b[39;00m\n\u001b[0;32m     <a href='vscode-notebook-cell:/d%3A/Thesis/ANN%20Modelling.ipynb#X62sZmlsZQ%3D%3D?line=19'>20</a>\u001b[0m y_pred \u001b[39m=\u001b[39m ann_model\u001b[39m.\u001b[39mpredict(X_test) \u001b[39m#use ann model to predict test set\u001b[39;00m\n\u001b[0;32m     <a href='vscode-notebook-cell:/d%3A/Thesis/ANN%20Modelling.ipynb#X62sZmlsZQ%3D%3D?line=20'>21</a>\u001b[0m \u001b[39mprint\u001b[39m(\u001b[39mf\u001b[39m\u001b[39m\"\u001b[39m\u001b[39mMAE: \u001b[39m\u001b[39m{\u001b[39;00m\u001b[39m \u001b[39mmean_absolute_error(y_test,\u001b[39m \u001b[39my_pred)\u001b[39m}\u001b[39;00m\u001b[39m\"\u001b[39m)  \u001b[39m#measure mean absolute value\u001b[39;00m\n",
      "File \u001b[1;32m~\\AppData\\Roaming\\Python\\Python311\\site-packages\\keras\\src\\utils\\traceback_utils.py:65\u001b[0m, in \u001b[0;36mfilter_traceback.<locals>.error_handler\u001b[1;34m(*args, **kwargs)\u001b[0m\n\u001b[0;32m     63\u001b[0m filtered_tb \u001b[39m=\u001b[39m \u001b[39mNone\u001b[39;00m\n\u001b[0;32m     64\u001b[0m \u001b[39mtry\u001b[39;00m:\n\u001b[1;32m---> 65\u001b[0m     \u001b[39mreturn\u001b[39;00m fn(\u001b[39m*\u001b[39;49margs, \u001b[39m*\u001b[39;49m\u001b[39m*\u001b[39;49mkwargs)\n\u001b[0;32m     66\u001b[0m \u001b[39mexcept\u001b[39;00m \u001b[39mException\u001b[39;00m \u001b[39mas\u001b[39;00m e:\n\u001b[0;32m     67\u001b[0m     filtered_tb \u001b[39m=\u001b[39m _process_traceback_frames(e\u001b[39m.\u001b[39m__traceback__)\n",
      "File \u001b[1;32m~\\AppData\\Roaming\\Python\\Python311\\site-packages\\keras\\src\\engine\\training.py:1783\u001b[0m, in \u001b[0;36mModel.fit\u001b[1;34m(self, x, y, batch_size, epochs, verbose, callbacks, validation_split, validation_data, shuffle, class_weight, sample_weight, initial_epoch, steps_per_epoch, validation_steps, validation_batch_size, validation_freq, max_queue_size, workers, use_multiprocessing)\u001b[0m\n\u001b[0;32m   1775\u001b[0m \u001b[39mwith\u001b[39;00m tf\u001b[39m.\u001b[39mprofiler\u001b[39m.\u001b[39mexperimental\u001b[39m.\u001b[39mTrace(\n\u001b[0;32m   1776\u001b[0m     \u001b[39m\"\u001b[39m\u001b[39mtrain\u001b[39m\u001b[39m\"\u001b[39m,\n\u001b[0;32m   1777\u001b[0m     epoch_num\u001b[39m=\u001b[39mepoch,\n\u001b[1;32m   (...)\u001b[0m\n\u001b[0;32m   1780\u001b[0m     _r\u001b[39m=\u001b[39m\u001b[39m1\u001b[39m,\n\u001b[0;32m   1781\u001b[0m ):\n\u001b[0;32m   1782\u001b[0m     callbacks\u001b[39m.\u001b[39mon_train_batch_begin(step)\n\u001b[1;32m-> 1783\u001b[0m     tmp_logs \u001b[39m=\u001b[39m \u001b[39mself\u001b[39;49m\u001b[39m.\u001b[39;49mtrain_function(iterator)\n\u001b[0;32m   1784\u001b[0m     \u001b[39mif\u001b[39;00m data_handler\u001b[39m.\u001b[39mshould_sync:\n\u001b[0;32m   1785\u001b[0m         context\u001b[39m.\u001b[39masync_wait()\n",
      "File \u001b[1;32m~\\AppData\\Roaming\\Python\\Python311\\site-packages\\tensorflow\\python\\util\\traceback_utils.py:150\u001b[0m, in \u001b[0;36mfilter_traceback.<locals>.error_handler\u001b[1;34m(*args, **kwargs)\u001b[0m\n\u001b[0;32m    148\u001b[0m filtered_tb \u001b[39m=\u001b[39m \u001b[39mNone\u001b[39;00m\n\u001b[0;32m    149\u001b[0m \u001b[39mtry\u001b[39;00m:\n\u001b[1;32m--> 150\u001b[0m   \u001b[39mreturn\u001b[39;00m fn(\u001b[39m*\u001b[39;49margs, \u001b[39m*\u001b[39;49m\u001b[39m*\u001b[39;49mkwargs)\n\u001b[0;32m    151\u001b[0m \u001b[39mexcept\u001b[39;00m \u001b[39mException\u001b[39;00m \u001b[39mas\u001b[39;00m e:\n\u001b[0;32m    152\u001b[0m   filtered_tb \u001b[39m=\u001b[39m _process_traceback_frames(e\u001b[39m.\u001b[39m__traceback__)\n",
      "File \u001b[1;32m~\\AppData\\Roaming\\Python\\Python311\\site-packages\\tensorflow\\python\\eager\\polymorphic_function\\polymorphic_function.py:831\u001b[0m, in \u001b[0;36mFunction.__call__\u001b[1;34m(self, *args, **kwds)\u001b[0m\n\u001b[0;32m    828\u001b[0m compiler \u001b[39m=\u001b[39m \u001b[39m\"\u001b[39m\u001b[39mxla\u001b[39m\u001b[39m\"\u001b[39m \u001b[39mif\u001b[39;00m \u001b[39mself\u001b[39m\u001b[39m.\u001b[39m_jit_compile \u001b[39melse\u001b[39;00m \u001b[39m\"\u001b[39m\u001b[39mnonXla\u001b[39m\u001b[39m\"\u001b[39m\n\u001b[0;32m    830\u001b[0m \u001b[39mwith\u001b[39;00m OptionalXlaContext(\u001b[39mself\u001b[39m\u001b[39m.\u001b[39m_jit_compile):\n\u001b[1;32m--> 831\u001b[0m   result \u001b[39m=\u001b[39m \u001b[39mself\u001b[39;49m\u001b[39m.\u001b[39;49m_call(\u001b[39m*\u001b[39;49margs, \u001b[39m*\u001b[39;49m\u001b[39m*\u001b[39;49mkwds)\n\u001b[0;32m    833\u001b[0m new_tracing_count \u001b[39m=\u001b[39m \u001b[39mself\u001b[39m\u001b[39m.\u001b[39mexperimental_get_tracing_count()\n\u001b[0;32m    834\u001b[0m without_tracing \u001b[39m=\u001b[39m (tracing_count \u001b[39m==\u001b[39m new_tracing_count)\n",
      "File \u001b[1;32m~\\AppData\\Roaming\\Python\\Python311\\site-packages\\tensorflow\\python\\eager\\polymorphic_function\\polymorphic_function.py:904\u001b[0m, in \u001b[0;36mFunction._call\u001b[1;34m(self, *args, **kwds)\u001b[0m\n\u001b[0;32m    900\u001b[0m     \u001b[39mpass\u001b[39;00m  \u001b[39m# Fall through to cond-based initialization.\u001b[39;00m\n\u001b[0;32m    901\u001b[0m   \u001b[39melse\u001b[39;00m:\n\u001b[0;32m    902\u001b[0m     \u001b[39m# Lifting succeeded, so variables are initialized and we can run the\u001b[39;00m\n\u001b[0;32m    903\u001b[0m     \u001b[39m# no_variable_creation function.\u001b[39;00m\n\u001b[1;32m--> 904\u001b[0m     \u001b[39mreturn\u001b[39;00m tracing_compilation\u001b[39m.\u001b[39;49mcall_function(\n\u001b[0;32m    905\u001b[0m         args, kwds, \u001b[39mself\u001b[39;49m\u001b[39m.\u001b[39;49m_no_variable_creation_config\n\u001b[0;32m    906\u001b[0m     )\n\u001b[0;32m    907\u001b[0m \u001b[39melse\u001b[39;00m:\n\u001b[0;32m    908\u001b[0m   bound_args \u001b[39m=\u001b[39m \u001b[39mself\u001b[39m\u001b[39m.\u001b[39m_concrete_variable_creation_fn\u001b[39m.\u001b[39mfunction_type\u001b[39m.\u001b[39mbind(\n\u001b[0;32m    909\u001b[0m       \u001b[39m*\u001b[39margs, \u001b[39m*\u001b[39m\u001b[39m*\u001b[39mkwds\n\u001b[0;32m    910\u001b[0m   )\n",
      "File \u001b[1;32m~\\AppData\\Roaming\\Python\\Python311\\site-packages\\tensorflow\\python\\eager\\polymorphic_function\\tracing_compilation.py:132\u001b[0m, in \u001b[0;36mcall_function\u001b[1;34m(args, kwargs, tracing_options)\u001b[0m\n\u001b[0;32m    130\u001b[0m args \u001b[39m=\u001b[39m args \u001b[39mif\u001b[39;00m args \u001b[39melse\u001b[39;00m ()\n\u001b[0;32m    131\u001b[0m kwargs \u001b[39m=\u001b[39m kwargs \u001b[39mif\u001b[39;00m kwargs \u001b[39melse\u001b[39;00m {}\n\u001b[1;32m--> 132\u001b[0m function \u001b[39m=\u001b[39m trace_function(\n\u001b[0;32m    133\u001b[0m     args\u001b[39m=\u001b[39;49margs, kwargs\u001b[39m=\u001b[39;49mkwargs, tracing_options\u001b[39m=\u001b[39;49mtracing_options\n\u001b[0;32m    134\u001b[0m )\n\u001b[0;32m    136\u001b[0m \u001b[39m# Bind it ourselves to skip unnecessary canonicalization of default call.\u001b[39;00m\n\u001b[0;32m    137\u001b[0m bound_args \u001b[39m=\u001b[39m function\u001b[39m.\u001b[39mfunction_type\u001b[39m.\u001b[39mbind(\u001b[39m*\u001b[39margs, \u001b[39m*\u001b[39m\u001b[39m*\u001b[39mkwargs)\n",
      "File \u001b[1;32m~\\AppData\\Roaming\\Python\\Python311\\site-packages\\tensorflow\\python\\eager\\polymorphic_function\\tracing_compilation.py:178\u001b[0m, in \u001b[0;36mtrace_function\u001b[1;34m(args, kwargs, tracing_options)\u001b[0m\n\u001b[0;32m    175\u001b[0m     args \u001b[39m=\u001b[39m tracing_options\u001b[39m.\u001b[39minput_signature\n\u001b[0;32m    176\u001b[0m     kwargs \u001b[39m=\u001b[39m {}\n\u001b[1;32m--> 178\u001b[0m   concrete_function \u001b[39m=\u001b[39m _maybe_define_function(\n\u001b[0;32m    179\u001b[0m       args, kwargs, tracing_options\n\u001b[0;32m    180\u001b[0m   )\n\u001b[0;32m    181\u001b[0m   _set_arg_keywords(concrete_function)\n\u001b[0;32m    183\u001b[0m \u001b[39mif\u001b[39;00m \u001b[39mnot\u001b[39;00m tracing_options\u001b[39m.\u001b[39mbind_graph_to_function:\n",
      "File \u001b[1;32m~\\AppData\\Roaming\\Python\\Python311\\site-packages\\tensorflow\\python\\eager\\polymorphic_function\\tracing_compilation.py:284\u001b[0m, in \u001b[0;36m_maybe_define_function\u001b[1;34m(args, kwargs, tracing_options)\u001b[0m\n\u001b[0;32m    282\u001b[0m \u001b[39melse\u001b[39;00m:\n\u001b[0;32m    283\u001b[0m   target_func_type \u001b[39m=\u001b[39m lookup_func_type\n\u001b[1;32m--> 284\u001b[0m concrete_function \u001b[39m=\u001b[39m _create_concrete_function(\n\u001b[0;32m    285\u001b[0m     target_func_type, lookup_func_context, func_graph, tracing_options\n\u001b[0;32m    286\u001b[0m )\n\u001b[0;32m    288\u001b[0m \u001b[39mif\u001b[39;00m tracing_options\u001b[39m.\u001b[39mfunction_cache \u001b[39mis\u001b[39;00m \u001b[39mnot\u001b[39;00m \u001b[39mNone\u001b[39;00m:\n\u001b[0;32m    289\u001b[0m   tracing_options\u001b[39m.\u001b[39mfunction_cache\u001b[39m.\u001b[39madd(\n\u001b[0;32m    290\u001b[0m       concrete_function, current_func_context\n\u001b[0;32m    291\u001b[0m   )\n",
      "File \u001b[1;32m~\\AppData\\Roaming\\Python\\Python311\\site-packages\\tensorflow\\python\\eager\\polymorphic_function\\tracing_compilation.py:308\u001b[0m, in \u001b[0;36m_create_concrete_function\u001b[1;34m(function_type, type_context, func_graph, tracing_options)\u001b[0m\n\u001b[0;32m    303\u001b[0m \u001b[39mwith\u001b[39;00m func_graph\u001b[39m.\u001b[39mas_default():\n\u001b[0;32m    304\u001b[0m   placeholder_bound_args \u001b[39m=\u001b[39m function_type\u001b[39m.\u001b[39mplaceholder_arguments(\n\u001b[0;32m    305\u001b[0m       placeholder_context\n\u001b[0;32m    306\u001b[0m   )\n\u001b[1;32m--> 308\u001b[0m traced_func_graph \u001b[39m=\u001b[39m func_graph_module\u001b[39m.\u001b[39;49mfunc_graph_from_py_func(\n\u001b[0;32m    309\u001b[0m     tracing_options\u001b[39m.\u001b[39;49mname,\n\u001b[0;32m    310\u001b[0m     tracing_options\u001b[39m.\u001b[39;49mpython_function,\n\u001b[0;32m    311\u001b[0m     placeholder_bound_args\u001b[39m.\u001b[39;49margs,\n\u001b[0;32m    312\u001b[0m     placeholder_bound_args\u001b[39m.\u001b[39;49mkwargs,\n\u001b[0;32m    313\u001b[0m     \u001b[39mNone\u001b[39;49;00m,\n\u001b[0;32m    314\u001b[0m     func_graph\u001b[39m=\u001b[39;49mfunc_graph,\n\u001b[0;32m    315\u001b[0m     arg_names\u001b[39m=\u001b[39;49mfunction_type_utils\u001b[39m.\u001b[39;49mto_arg_names(function_type),\n\u001b[0;32m    316\u001b[0m     create_placeholders\u001b[39m=\u001b[39;49m\u001b[39mFalse\u001b[39;49;00m,\n\u001b[0;32m    317\u001b[0m )\n\u001b[0;32m    319\u001b[0m transform\u001b[39m.\u001b[39mapply_func_graph_transforms(traced_func_graph)\n\u001b[0;32m    321\u001b[0m graph_capture_container \u001b[39m=\u001b[39m traced_func_graph\u001b[39m.\u001b[39mfunction_captures\n",
      "File \u001b[1;32m~\\AppData\\Roaming\\Python\\Python311\\site-packages\\tensorflow\\python\\framework\\func_graph.py:1059\u001b[0m, in \u001b[0;36mfunc_graph_from_py_func\u001b[1;34m(name, python_func, args, kwargs, signature, func_graph, add_control_dependencies, arg_names, op_return_value, collections, capture_by_value, create_placeholders)\u001b[0m\n\u001b[0;32m   1056\u001b[0m   \u001b[39mreturn\u001b[39;00m x\n\u001b[0;32m   1058\u001b[0m _, original_func \u001b[39m=\u001b[39m tf_decorator\u001b[39m.\u001b[39munwrap(python_func)\n\u001b[1;32m-> 1059\u001b[0m func_outputs \u001b[39m=\u001b[39m python_func(\u001b[39m*\u001b[39;49mfunc_args, \u001b[39m*\u001b[39;49m\u001b[39m*\u001b[39;49mfunc_kwargs)\n\u001b[0;32m   1061\u001b[0m \u001b[39m# invariant: `func_outputs` contains only Tensors, CompositeTensors,\u001b[39;00m\n\u001b[0;32m   1062\u001b[0m \u001b[39m# TensorArrays and `None`s.\u001b[39;00m\n\u001b[0;32m   1063\u001b[0m func_outputs \u001b[39m=\u001b[39m variable_utils\u001b[39m.\u001b[39mconvert_variables_to_tensors(func_outputs)\n",
      "File \u001b[1;32m~\\AppData\\Roaming\\Python\\Python311\\site-packages\\tensorflow\\python\\eager\\polymorphic_function\\polymorphic_function.py:597\u001b[0m, in \u001b[0;36mFunction._generate_scoped_tracing_options.<locals>.wrapped_fn\u001b[1;34m(*args, **kwds)\u001b[0m\n\u001b[0;32m    593\u001b[0m \u001b[39mwith\u001b[39;00m default_graph\u001b[39m.\u001b[39m_variable_creator_scope(scope, priority\u001b[39m=\u001b[39m\u001b[39m50\u001b[39m):  \u001b[39m# pylint: disable=protected-access\u001b[39;00m\n\u001b[0;32m    594\u001b[0m   \u001b[39m# __wrapped__ allows AutoGraph to swap in a converted function. We give\u001b[39;00m\n\u001b[0;32m    595\u001b[0m   \u001b[39m# the function a weak reference to itself to avoid a reference cycle.\u001b[39;00m\n\u001b[0;32m    596\u001b[0m   \u001b[39mwith\u001b[39;00m OptionalXlaContext(compile_with_xla):\n\u001b[1;32m--> 597\u001b[0m     out \u001b[39m=\u001b[39m weak_wrapped_fn()\u001b[39m.\u001b[39;49m__wrapped__(\u001b[39m*\u001b[39;49margs, \u001b[39m*\u001b[39;49m\u001b[39m*\u001b[39;49mkwds)\n\u001b[0;32m    598\u001b[0m   \u001b[39mreturn\u001b[39;00m out\n",
      "File \u001b[1;32m~\\AppData\\Roaming\\Python\\Python311\\site-packages\\tensorflow\\python\\eager\\polymorphic_function\\autograph_util.py:41\u001b[0m, in \u001b[0;36mpy_func_from_autograph.<locals>.autograph_handler\u001b[1;34m(*args, **kwargs)\u001b[0m\n\u001b[0;32m     39\u001b[0m \u001b[39m\u001b[39m\u001b[39m\"\"\"Calls a converted version of original_func.\"\"\"\u001b[39;00m\n\u001b[0;32m     40\u001b[0m \u001b[39mtry\u001b[39;00m:\n\u001b[1;32m---> 41\u001b[0m   \u001b[39mreturn\u001b[39;00m api\u001b[39m.\u001b[39;49mconverted_call(\n\u001b[0;32m     42\u001b[0m       original_func,\n\u001b[0;32m     43\u001b[0m       args,\n\u001b[0;32m     44\u001b[0m       kwargs,\n\u001b[0;32m     45\u001b[0m       options\u001b[39m=\u001b[39;49mconverter\u001b[39m.\u001b[39;49mConversionOptions(\n\u001b[0;32m     46\u001b[0m           recursive\u001b[39m=\u001b[39;49m\u001b[39mTrue\u001b[39;49;00m,\n\u001b[0;32m     47\u001b[0m           optional_features\u001b[39m=\u001b[39;49mautograph_options,\n\u001b[0;32m     48\u001b[0m           user_requested\u001b[39m=\u001b[39;49m\u001b[39mTrue\u001b[39;49;00m,\n\u001b[0;32m     49\u001b[0m       ))\n\u001b[0;32m     50\u001b[0m \u001b[39mexcept\u001b[39;00m \u001b[39mException\u001b[39;00m \u001b[39mas\u001b[39;00m e:  \u001b[39m# pylint:disable=broad-except\u001b[39;00m\n\u001b[0;32m     51\u001b[0m   \u001b[39mif\u001b[39;00m \u001b[39mhasattr\u001b[39m(e, \u001b[39m\"\u001b[39m\u001b[39mag_error_metadata\u001b[39m\u001b[39m\"\u001b[39m):\n",
      "File \u001b[1;32m~\\AppData\\Roaming\\Python\\Python311\\site-packages\\tensorflow\\python\\autograph\\impl\\api.py:439\u001b[0m, in \u001b[0;36mconverted_call\u001b[1;34m(f, args, kwargs, caller_fn_scope, options)\u001b[0m\n\u001b[0;32m    437\u001b[0m \u001b[39mtry\u001b[39;00m:\n\u001b[0;32m    438\u001b[0m   \u001b[39mif\u001b[39;00m kwargs \u001b[39mis\u001b[39;00m \u001b[39mnot\u001b[39;00m \u001b[39mNone\u001b[39;00m:\n\u001b[1;32m--> 439\u001b[0m     result \u001b[39m=\u001b[39m converted_f(\u001b[39m*\u001b[39;49meffective_args, \u001b[39m*\u001b[39;49m\u001b[39m*\u001b[39;49mkwargs)\n\u001b[0;32m    440\u001b[0m   \u001b[39melse\u001b[39;00m:\n\u001b[0;32m    441\u001b[0m     result \u001b[39m=\u001b[39m converted_f(\u001b[39m*\u001b[39meffective_args)\n",
      "File \u001b[1;32m~\\AppData\\Local\\Temp\\__autograph_generated_filez07ddpt4.py:15\u001b[0m, in \u001b[0;36mouter_factory.<locals>.inner_factory.<locals>.tf__train_function\u001b[1;34m(iterator)\u001b[0m\n\u001b[0;32m     13\u001b[0m \u001b[39mtry\u001b[39;00m:\n\u001b[0;32m     14\u001b[0m     do_return \u001b[39m=\u001b[39m \u001b[39mTrue\u001b[39;00m\n\u001b[1;32m---> 15\u001b[0m     retval_ \u001b[39m=\u001b[39m ag__\u001b[39m.\u001b[39;49mconverted_call(ag__\u001b[39m.\u001b[39;49mld(step_function), (ag__\u001b[39m.\u001b[39;49mld(\u001b[39mself\u001b[39;49m), ag__\u001b[39m.\u001b[39;49mld(iterator)), \u001b[39mNone\u001b[39;49;00m, fscope)\n\u001b[0;32m     16\u001b[0m \u001b[39mexcept\u001b[39;00m:\n\u001b[0;32m     17\u001b[0m     do_return \u001b[39m=\u001b[39m \u001b[39mFalse\u001b[39;00m\n",
      "File \u001b[1;32m~\\AppData\\Roaming\\Python\\Python311\\site-packages\\tensorflow\\python\\autograph\\impl\\api.py:331\u001b[0m, in \u001b[0;36mconverted_call\u001b[1;34m(f, args, kwargs, caller_fn_scope, options)\u001b[0m\n\u001b[0;32m    329\u001b[0m \u001b[39mif\u001b[39;00m conversion\u001b[39m.\u001b[39mis_in_allowlist_cache(f, options):\n\u001b[0;32m    330\u001b[0m   logging\u001b[39m.\u001b[39mlog(\u001b[39m2\u001b[39m, \u001b[39m'\u001b[39m\u001b[39mAllowlisted \u001b[39m\u001b[39m%s\u001b[39;00m\u001b[39m: from cache\u001b[39m\u001b[39m'\u001b[39m, f)\n\u001b[1;32m--> 331\u001b[0m   \u001b[39mreturn\u001b[39;00m _call_unconverted(f, args, kwargs, options, \u001b[39mFalse\u001b[39;49;00m)\n\u001b[0;32m    333\u001b[0m \u001b[39mif\u001b[39;00m ag_ctx\u001b[39m.\u001b[39mcontrol_status_ctx()\u001b[39m.\u001b[39mstatus \u001b[39m==\u001b[39m ag_ctx\u001b[39m.\u001b[39mStatus\u001b[39m.\u001b[39mDISABLED:\n\u001b[0;32m    334\u001b[0m   logging\u001b[39m.\u001b[39mlog(\u001b[39m2\u001b[39m, \u001b[39m'\u001b[39m\u001b[39mAllowlisted: \u001b[39m\u001b[39m%s\u001b[39;00m\u001b[39m: AutoGraph is disabled in context\u001b[39m\u001b[39m'\u001b[39m, f)\n",
      "File \u001b[1;32m~\\AppData\\Roaming\\Python\\Python311\\site-packages\\tensorflow\\python\\autograph\\impl\\api.py:460\u001b[0m, in \u001b[0;36m_call_unconverted\u001b[1;34m(f, args, kwargs, options, update_cache)\u001b[0m\n\u001b[0;32m    458\u001b[0m \u001b[39mif\u001b[39;00m kwargs \u001b[39mis\u001b[39;00m \u001b[39mnot\u001b[39;00m \u001b[39mNone\u001b[39;00m:\n\u001b[0;32m    459\u001b[0m   \u001b[39mreturn\u001b[39;00m f(\u001b[39m*\u001b[39margs, \u001b[39m*\u001b[39m\u001b[39m*\u001b[39mkwargs)\n\u001b[1;32m--> 460\u001b[0m \u001b[39mreturn\u001b[39;00m f(\u001b[39m*\u001b[39;49margs)\n",
      "File \u001b[1;32m~\\AppData\\Roaming\\Python\\Python311\\site-packages\\keras\\src\\engine\\training.py:1360\u001b[0m, in \u001b[0;36mModel.make_train_function.<locals>.step_function\u001b[1;34m(model, iterator)\u001b[0m\n\u001b[0;32m   1356\u001b[0m     run_step \u001b[39m=\u001b[39m tf\u001b[39m.\u001b[39mfunction(\n\u001b[0;32m   1357\u001b[0m         run_step, jit_compile\u001b[39m=\u001b[39m\u001b[39mTrue\u001b[39;00m, reduce_retracing\u001b[39m=\u001b[39m\u001b[39mTrue\u001b[39;00m\n\u001b[0;32m   1358\u001b[0m     )\n\u001b[0;32m   1359\u001b[0m data \u001b[39m=\u001b[39m \u001b[39mnext\u001b[39m(iterator)\n\u001b[1;32m-> 1360\u001b[0m outputs \u001b[39m=\u001b[39m model\u001b[39m.\u001b[39;49mdistribute_strategy\u001b[39m.\u001b[39;49mrun(run_step, args\u001b[39m=\u001b[39;49m(data,))\n\u001b[0;32m   1361\u001b[0m outputs \u001b[39m=\u001b[39m reduce_per_replica(\n\u001b[0;32m   1362\u001b[0m     outputs,\n\u001b[0;32m   1363\u001b[0m     \u001b[39mself\u001b[39m\u001b[39m.\u001b[39mdistribute_strategy,\n\u001b[0;32m   1364\u001b[0m     reduction\u001b[39m=\u001b[39m\u001b[39mself\u001b[39m\u001b[39m.\u001b[39mdistribute_reduction_method,\n\u001b[0;32m   1365\u001b[0m )\n\u001b[0;32m   1366\u001b[0m \u001b[39mreturn\u001b[39;00m outputs\n",
      "File \u001b[1;32m~\\AppData\\Roaming\\Python\\Python311\\site-packages\\tensorflow\\python\\distribute\\distribute_lib.py:1679\u001b[0m, in \u001b[0;36mStrategyBase.run\u001b[1;34m(***failed resolving arguments***)\u001b[0m\n\u001b[0;32m   1674\u001b[0m \u001b[39mwith\u001b[39;00m \u001b[39mself\u001b[39m\u001b[39m.\u001b[39mscope():\n\u001b[0;32m   1675\u001b[0m   \u001b[39m# tf.distribute supports Eager functions, so AutoGraph should not be\u001b[39;00m\n\u001b[0;32m   1676\u001b[0m   \u001b[39m# applied when the caller is also in Eager mode.\u001b[39;00m\n\u001b[0;32m   1677\u001b[0m   fn \u001b[39m=\u001b[39m autograph\u001b[39m.\u001b[39mtf_convert(\n\u001b[0;32m   1678\u001b[0m       fn, autograph_ctx\u001b[39m.\u001b[39mcontrol_status_ctx(), convert_by_default\u001b[39m=\u001b[39m\u001b[39mFalse\u001b[39;00m)\n\u001b[1;32m-> 1679\u001b[0m   \u001b[39mreturn\u001b[39;00m \u001b[39mself\u001b[39;49m\u001b[39m.\u001b[39;49m_extended\u001b[39m.\u001b[39;49mcall_for_each_replica(fn, args\u001b[39m=\u001b[39;49margs, kwargs\u001b[39m=\u001b[39;49mkwargs)\n",
      "File \u001b[1;32m~\\AppData\\Roaming\\Python\\Python311\\site-packages\\tensorflow\\python\\distribute\\distribute_lib.py:3269\u001b[0m, in \u001b[0;36mStrategyExtendedV1.call_for_each_replica\u001b[1;34m(self, fn, args, kwargs)\u001b[0m\n\u001b[0;32m   3267\u001b[0m   kwargs \u001b[39m=\u001b[39m {}\n\u001b[0;32m   3268\u001b[0m \u001b[39mwith\u001b[39;00m \u001b[39mself\u001b[39m\u001b[39m.\u001b[39m_container_strategy()\u001b[39m.\u001b[39mscope():\n\u001b[1;32m-> 3269\u001b[0m   \u001b[39mreturn\u001b[39;00m \u001b[39mself\u001b[39;49m\u001b[39m.\u001b[39;49m_call_for_each_replica(fn, args, kwargs)\n",
      "File \u001b[1;32m~\\AppData\\Roaming\\Python\\Python311\\site-packages\\tensorflow\\python\\distribute\\distribute_lib.py:4067\u001b[0m, in \u001b[0;36m_DefaultDistributionExtended._call_for_each_replica\u001b[1;34m(self, fn, args, kwargs)\u001b[0m\n\u001b[0;32m   4065\u001b[0m \u001b[39mdef\u001b[39;00m \u001b[39m_call_for_each_replica\u001b[39m(\u001b[39mself\u001b[39m, fn, args, kwargs):\n\u001b[0;32m   4066\u001b[0m   \u001b[39mwith\u001b[39;00m ReplicaContext(\u001b[39mself\u001b[39m\u001b[39m.\u001b[39m_container_strategy(), replica_id_in_sync_group\u001b[39m=\u001b[39m\u001b[39m0\u001b[39m):\n\u001b[1;32m-> 4067\u001b[0m     \u001b[39mreturn\u001b[39;00m fn(\u001b[39m*\u001b[39;49margs, \u001b[39m*\u001b[39;49m\u001b[39m*\u001b[39;49mkwargs)\n",
      "File \u001b[1;32m~\\AppData\\Roaming\\Python\\Python311\\site-packages\\tensorflow\\python\\autograph\\impl\\api.py:690\u001b[0m, in \u001b[0;36mconvert.<locals>.decorator.<locals>.wrapper\u001b[1;34m(*args, **kwargs)\u001b[0m\n\u001b[0;32m    688\u001b[0m \u001b[39mtry\u001b[39;00m:\n\u001b[0;32m    689\u001b[0m   \u001b[39mwith\u001b[39;00m conversion_ctx:\n\u001b[1;32m--> 690\u001b[0m     \u001b[39mreturn\u001b[39;00m converted_call(f, args, kwargs, options\u001b[39m=\u001b[39;49moptions)\n\u001b[0;32m    691\u001b[0m \u001b[39mexcept\u001b[39;00m \u001b[39mException\u001b[39;00m \u001b[39mas\u001b[39;00m e:  \u001b[39m# pylint:disable=broad-except\u001b[39;00m\n\u001b[0;32m    692\u001b[0m   \u001b[39mif\u001b[39;00m \u001b[39mhasattr\u001b[39m(e, \u001b[39m'\u001b[39m\u001b[39mag_error_metadata\u001b[39m\u001b[39m'\u001b[39m):\n",
      "File \u001b[1;32m~\\AppData\\Roaming\\Python\\Python311\\site-packages\\tensorflow\\python\\autograph\\impl\\api.py:377\u001b[0m, in \u001b[0;36mconverted_call\u001b[1;34m(f, args, kwargs, caller_fn_scope, options)\u001b[0m\n\u001b[0;32m    374\u001b[0m   \u001b[39mreturn\u001b[39;00m _call_unconverted(f, args, kwargs, options)\n\u001b[0;32m    376\u001b[0m \u001b[39mif\u001b[39;00m \u001b[39mnot\u001b[39;00m options\u001b[39m.\u001b[39muser_requested \u001b[39mand\u001b[39;00m conversion\u001b[39m.\u001b[39mis_allowlisted(f):\n\u001b[1;32m--> 377\u001b[0m   \u001b[39mreturn\u001b[39;00m _call_unconverted(f, args, kwargs, options)\n\u001b[0;32m    379\u001b[0m \u001b[39m# internal_convert_user_code is for example turned off when issuing a dynamic\u001b[39;00m\n\u001b[0;32m    380\u001b[0m \u001b[39m# call conversion from generated code while in nonrecursive mode. In that\u001b[39;00m\n\u001b[0;32m    381\u001b[0m \u001b[39m# case we evidently don't want to recurse, but we still have to convert\u001b[39;00m\n\u001b[0;32m    382\u001b[0m \u001b[39m# things like builtins.\u001b[39;00m\n\u001b[0;32m    383\u001b[0m \u001b[39mif\u001b[39;00m \u001b[39mnot\u001b[39;00m options\u001b[39m.\u001b[39minternal_convert_user_code:\n",
      "File \u001b[1;32m~\\AppData\\Roaming\\Python\\Python311\\site-packages\\tensorflow\\python\\autograph\\impl\\api.py:459\u001b[0m, in \u001b[0;36m_call_unconverted\u001b[1;34m(f, args, kwargs, options, update_cache)\u001b[0m\n\u001b[0;32m    456\u001b[0m   \u001b[39mreturn\u001b[39;00m f\u001b[39m.\u001b[39m\u001b[39m__self__\u001b[39m\u001b[39m.\u001b[39mcall(args, kwargs)\n\u001b[0;32m    458\u001b[0m \u001b[39mif\u001b[39;00m kwargs \u001b[39mis\u001b[39;00m \u001b[39mnot\u001b[39;00m \u001b[39mNone\u001b[39;00m:\n\u001b[1;32m--> 459\u001b[0m   \u001b[39mreturn\u001b[39;00m f(\u001b[39m*\u001b[39;49margs, \u001b[39m*\u001b[39;49m\u001b[39m*\u001b[39;49mkwargs)\n\u001b[0;32m    460\u001b[0m \u001b[39mreturn\u001b[39;00m f(\u001b[39m*\u001b[39margs)\n",
      "File \u001b[1;32m~\\AppData\\Roaming\\Python\\Python311\\site-packages\\keras\\src\\engine\\training.py:1349\u001b[0m, in \u001b[0;36mModel.make_train_function.<locals>.step_function.<locals>.run_step\u001b[1;34m(data)\u001b[0m\n\u001b[0;32m   1348\u001b[0m \u001b[39mdef\u001b[39;00m \u001b[39mrun_step\u001b[39m(data):\n\u001b[1;32m-> 1349\u001b[0m     outputs \u001b[39m=\u001b[39m model\u001b[39m.\u001b[39;49mtrain_step(data)\n\u001b[0;32m   1350\u001b[0m     \u001b[39m# Ensure counter is updated only if `train_step` succeeds.\u001b[39;00m\n\u001b[0;32m   1351\u001b[0m     \u001b[39mwith\u001b[39;00m tf\u001b[39m.\u001b[39mcontrol_dependencies(_minimum_control_deps(outputs)):\n",
      "File \u001b[1;32m~\\AppData\\Roaming\\Python\\Python311\\site-packages\\keras\\src\\engine\\training.py:1130\u001b[0m, in \u001b[0;36mModel.train_step\u001b[1;34m(self, data)\u001b[0m\n\u001b[0;32m   1128\u001b[0m \u001b[39mself\u001b[39m\u001b[39m.\u001b[39m_validate_target_and_loss(y, loss)\n\u001b[0;32m   1129\u001b[0m \u001b[39m# Run backwards pass.\u001b[39;00m\n\u001b[1;32m-> 1130\u001b[0m \u001b[39mself\u001b[39;49m\u001b[39m.\u001b[39;49moptimizer\u001b[39m.\u001b[39;49mminimize(loss, \u001b[39mself\u001b[39;49m\u001b[39m.\u001b[39;49mtrainable_variables, tape\u001b[39m=\u001b[39;49mtape)\n\u001b[0;32m   1131\u001b[0m \u001b[39mreturn\u001b[39;00m \u001b[39mself\u001b[39m\u001b[39m.\u001b[39mcompute_metrics(x, y, y_pred, sample_weight)\n",
      "File \u001b[1;32m~\\AppData\\Roaming\\Python\\Python311\\site-packages\\keras\\src\\optimizers\\optimizer.py:543\u001b[0m, in \u001b[0;36m_BaseOptimizer.minimize\u001b[1;34m(self, loss, var_list, tape)\u001b[0m\n\u001b[0;32m    522\u001b[0m \u001b[39mdef\u001b[39;00m \u001b[39mminimize\u001b[39m(\u001b[39mself\u001b[39m, loss, var_list, tape\u001b[39m=\u001b[39m\u001b[39mNone\u001b[39;00m):\n\u001b[0;32m    523\u001b[0m \u001b[39m    \u001b[39m\u001b[39m\"\"\"Minimize `loss` by updating `var_list`.\u001b[39;00m\n\u001b[0;32m    524\u001b[0m \n\u001b[0;32m    525\u001b[0m \u001b[39m    This method simply computes gradient using `tf.GradientTape` and calls\u001b[39;00m\n\u001b[1;32m   (...)\u001b[0m\n\u001b[0;32m    541\u001b[0m \u001b[39m      None\u001b[39;00m\n\u001b[0;32m    542\u001b[0m \u001b[39m    \"\"\"\u001b[39;00m\n\u001b[1;32m--> 543\u001b[0m     grads_and_vars \u001b[39m=\u001b[39m \u001b[39mself\u001b[39;49m\u001b[39m.\u001b[39;49mcompute_gradients(loss, var_list, tape)\n\u001b[0;32m    544\u001b[0m     \u001b[39mself\u001b[39m\u001b[39m.\u001b[39mapply_gradients(grads_and_vars)\n",
      "File \u001b[1;32m~\\AppData\\Roaming\\Python\\Python311\\site-packages\\keras\\src\\optimizers\\optimizer.py:276\u001b[0m, in \u001b[0;36m_BaseOptimizer.compute_gradients\u001b[1;34m(self, loss, var_list, tape)\u001b[0m\n\u001b[0;32m    273\u001b[0m         \u001b[39mif\u001b[39;00m \u001b[39mcallable\u001b[39m(var_list):\n\u001b[0;32m    274\u001b[0m             var_list \u001b[39m=\u001b[39m var_list()\n\u001b[1;32m--> 276\u001b[0m grads \u001b[39m=\u001b[39m tape\u001b[39m.\u001b[39;49mgradient(loss, var_list)\n\u001b[0;32m    277\u001b[0m \u001b[39mreturn\u001b[39;00m \u001b[39mlist\u001b[39m(\u001b[39mzip\u001b[39m(grads, var_list))\n",
      "File \u001b[1;32m~\\AppData\\Roaming\\Python\\Python311\\site-packages\\tensorflow\\python\\eager\\backprop.py:1065\u001b[0m, in \u001b[0;36mGradientTape.gradient\u001b[1;34m(self, target, sources, output_gradients, unconnected_gradients)\u001b[0m\n\u001b[0;32m   1059\u001b[0m   output_gradients \u001b[39m=\u001b[39m (\n\u001b[0;32m   1060\u001b[0m       composite_tensor_gradient\u001b[39m.\u001b[39mget_flat_tensors_for_gradients(\n\u001b[0;32m   1061\u001b[0m           output_gradients))\n\u001b[0;32m   1062\u001b[0m   output_gradients \u001b[39m=\u001b[39m [\u001b[39mNone\u001b[39;00m \u001b[39mif\u001b[39;00m x \u001b[39mis\u001b[39;00m \u001b[39mNone\u001b[39;00m \u001b[39melse\u001b[39;00m ops\u001b[39m.\u001b[39mconvert_to_tensor(x)\n\u001b[0;32m   1063\u001b[0m                       \u001b[39mfor\u001b[39;00m x \u001b[39min\u001b[39;00m output_gradients]\n\u001b[1;32m-> 1065\u001b[0m flat_grad \u001b[39m=\u001b[39m imperative_grad\u001b[39m.\u001b[39;49mimperative_grad(\n\u001b[0;32m   1066\u001b[0m     \u001b[39mself\u001b[39;49m\u001b[39m.\u001b[39;49m_tape,\n\u001b[0;32m   1067\u001b[0m     flat_targets,\n\u001b[0;32m   1068\u001b[0m     flat_sources,\n\u001b[0;32m   1069\u001b[0m     output_gradients\u001b[39m=\u001b[39;49moutput_gradients,\n\u001b[0;32m   1070\u001b[0m     sources_raw\u001b[39m=\u001b[39;49mflat_sources_raw,\n\u001b[0;32m   1071\u001b[0m     unconnected_gradients\u001b[39m=\u001b[39;49munconnected_gradients)\n\u001b[0;32m   1073\u001b[0m \u001b[39mif\u001b[39;00m \u001b[39mnot\u001b[39;00m \u001b[39mself\u001b[39m\u001b[39m.\u001b[39m_persistent:\n\u001b[0;32m   1074\u001b[0m   \u001b[39m# Keep track of watched variables before setting tape to None\u001b[39;00m\n\u001b[0;32m   1075\u001b[0m   \u001b[39mself\u001b[39m\u001b[39m.\u001b[39m_watched_variables \u001b[39m=\u001b[39m \u001b[39mself\u001b[39m\u001b[39m.\u001b[39m_tape\u001b[39m.\u001b[39mwatched_variables()\n",
      "File \u001b[1;32m~\\AppData\\Roaming\\Python\\Python311\\site-packages\\tensorflow\\python\\eager\\imperative_grad.py:67\u001b[0m, in \u001b[0;36mimperative_grad\u001b[1;34m(tape, target, sources, output_gradients, sources_raw, unconnected_gradients)\u001b[0m\n\u001b[0;32m     63\u001b[0m \u001b[39mexcept\u001b[39;00m \u001b[39mValueError\u001b[39;00m:\n\u001b[0;32m     64\u001b[0m   \u001b[39mraise\u001b[39;00m \u001b[39mValueError\u001b[39;00m(\n\u001b[0;32m     65\u001b[0m       \u001b[39m\"\u001b[39m\u001b[39mUnknown value for unconnected_gradients: \u001b[39m\u001b[39m%r\u001b[39;00m\u001b[39m\"\u001b[39m \u001b[39m%\u001b[39m unconnected_gradients)\n\u001b[1;32m---> 67\u001b[0m \u001b[39mreturn\u001b[39;00m pywrap_tfe\u001b[39m.\u001b[39;49mTFE_Py_TapeGradient(\n\u001b[0;32m     68\u001b[0m     tape\u001b[39m.\u001b[39;49m_tape,  \u001b[39m# pylint: disable=protected-access\u001b[39;49;00m\n\u001b[0;32m     69\u001b[0m     target,\n\u001b[0;32m     70\u001b[0m     sources,\n\u001b[0;32m     71\u001b[0m     output_gradients,\n\u001b[0;32m     72\u001b[0m     sources_raw,\n\u001b[0;32m     73\u001b[0m     compat\u001b[39m.\u001b[39;49mas_str(unconnected_gradients\u001b[39m.\u001b[39;49mvalue))\n",
      "File \u001b[1;32m~\\AppData\\Roaming\\Python\\Python311\\site-packages\\tensorflow\\python\\eager\\backprop.py:147\u001b[0m, in \u001b[0;36m_gradient_function\u001b[1;34m(op_name, attr_tuple, num_inputs, inputs, outputs, out_grads, skip_input_indices, forward_pass_name_scope)\u001b[0m\n\u001b[0;32m    145\u001b[0m     gradient_name_scope \u001b[39m+\u001b[39m\u001b[39m=\u001b[39m forward_pass_name_scope \u001b[39m+\u001b[39m \u001b[39m\"\u001b[39m\u001b[39m/\u001b[39m\u001b[39m\"\u001b[39m\n\u001b[0;32m    146\u001b[0m   \u001b[39mwith\u001b[39;00m ops\u001b[39m.\u001b[39mname_scope(gradient_name_scope):\n\u001b[1;32m--> 147\u001b[0m     \u001b[39mreturn\u001b[39;00m grad_fn(mock_op, \u001b[39m*\u001b[39;49mout_grads)\n\u001b[0;32m    148\u001b[0m \u001b[39melse\u001b[39;00m:\n\u001b[0;32m    149\u001b[0m   \u001b[39mreturn\u001b[39;00m grad_fn(mock_op, \u001b[39m*\u001b[39mout_grads)\n",
      "File \u001b[1;32m~\\AppData\\Roaming\\Python\\Python311\\site-packages\\tensorflow\\python\\ops\\math_grad.py:262\u001b[0m, in \u001b[0;36m_MeanGrad\u001b[1;34m(op, grad)\u001b[0m\n\u001b[0;32m    260\u001b[0m   input_rank \u001b[39m=\u001b[39m array_ops\u001b[39m.\u001b[39msize(input_shape)\n\u001b[0;32m    261\u001b[0m   axes \u001b[39m=\u001b[39m (op\u001b[39m.\u001b[39minputs[\u001b[39m1\u001b[39m] \u001b[39m+\u001b[39m input_rank) \u001b[39m%\u001b[39m input_rank\n\u001b[1;32m--> 262\u001b[0m   factor \u001b[39m=\u001b[39m math_ops\u001b[39m.\u001b[39;49mreduce_prod(array_ops\u001b[39m.\u001b[39;49mgather(input_shape, axes))\n\u001b[0;32m    263\u001b[0m \u001b[39mreturn\u001b[39;00m math_ops\u001b[39m.\u001b[39mtruediv(sum_grad, math_ops\u001b[39m.\u001b[39mcast(factor, sum_grad\u001b[39m.\u001b[39mdtype)), \u001b[39mNone\u001b[39;00m\n",
      "File \u001b[1;32m~\\AppData\\Roaming\\Python\\Python311\\site-packages\\tensorflow\\python\\util\\traceback_utils.py:150\u001b[0m, in \u001b[0;36mfilter_traceback.<locals>.error_handler\u001b[1;34m(*args, **kwargs)\u001b[0m\n\u001b[0;32m    148\u001b[0m filtered_tb \u001b[39m=\u001b[39m \u001b[39mNone\u001b[39;00m\n\u001b[0;32m    149\u001b[0m \u001b[39mtry\u001b[39;00m:\n\u001b[1;32m--> 150\u001b[0m   \u001b[39mreturn\u001b[39;00m fn(\u001b[39m*\u001b[39;49margs, \u001b[39m*\u001b[39;49m\u001b[39m*\u001b[39;49mkwargs)\n\u001b[0;32m    151\u001b[0m \u001b[39mexcept\u001b[39;00m \u001b[39mException\u001b[39;00m \u001b[39mas\u001b[39;00m e:\n\u001b[0;32m    152\u001b[0m   filtered_tb \u001b[39m=\u001b[39m _process_traceback_frames(e\u001b[39m.\u001b[39m__traceback__)\n",
      "File \u001b[1;32m~\\AppData\\Roaming\\Python\\Python311\\site-packages\\tensorflow\\python\\util\\dispatch.py:1260\u001b[0m, in \u001b[0;36madd_dispatch_support.<locals>.decorator.<locals>.op_dispatch_handler\u001b[1;34m(*args, **kwargs)\u001b[0m\n\u001b[0;32m   1258\u001b[0m \u001b[39m# Fallback dispatch system (dispatch v1):\u001b[39;00m\n\u001b[0;32m   1259\u001b[0m \u001b[39mtry\u001b[39;00m:\n\u001b[1;32m-> 1260\u001b[0m   \u001b[39mreturn\u001b[39;00m dispatch_target(\u001b[39m*\u001b[39;49margs, \u001b[39m*\u001b[39;49m\u001b[39m*\u001b[39;49mkwargs)\n\u001b[0;32m   1261\u001b[0m \u001b[39mexcept\u001b[39;00m (\u001b[39mTypeError\u001b[39;00m, \u001b[39mValueError\u001b[39;00m):\n\u001b[0;32m   1262\u001b[0m   \u001b[39m# Note: convert_to_eager_tensor currently raises a ValueError, not a\u001b[39;00m\n\u001b[0;32m   1263\u001b[0m   \u001b[39m# TypeError, when given unexpected types.  So we need to catch both.\u001b[39;00m\n\u001b[0;32m   1264\u001b[0m   result \u001b[39m=\u001b[39m dispatch(op_dispatch_handler, args, kwargs)\n",
      "File \u001b[1;32m~\\AppData\\Roaming\\Python\\Python311\\site-packages\\tensorflow\\python\\ops\\math_ops.py:2929\u001b[0m, in \u001b[0;36mreduce_prod\u001b[1;34m(input_tensor, axis, keepdims, name)\u001b[0m\n\u001b[0;32m   2887\u001b[0m \u001b[39m\u001b[39m\u001b[39m\"\"\"Computes `tf.math.multiply` of elements across dimensions of a tensor.\u001b[39;00m\n\u001b[0;32m   2888\u001b[0m \n\u001b[0;32m   2889\u001b[0m \u001b[39mThis is the reduction operation for the elementwise `tf.math.multiply` op.\u001b[39;00m\n\u001b[1;32m   (...)\u001b[0m\n\u001b[0;32m   2923\u001b[0m \u001b[39m@end_compatibility\u001b[39;00m\n\u001b[0;32m   2924\u001b[0m \u001b[39m\"\"\"\u001b[39;00m\n\u001b[0;32m   2925\u001b[0m keepdims \u001b[39m=\u001b[39m \u001b[39mFalse\u001b[39;00m \u001b[39mif\u001b[39;00m keepdims \u001b[39mis\u001b[39;00m \u001b[39mNone\u001b[39;00m \u001b[39melse\u001b[39;00m \u001b[39mbool\u001b[39m(keepdims)\n\u001b[0;32m   2926\u001b[0m \u001b[39mreturn\u001b[39;00m _may_reduce_to_scalar(\n\u001b[0;32m   2927\u001b[0m     keepdims, axis,\n\u001b[0;32m   2928\u001b[0m     gen_math_ops\u001b[39m.\u001b[39mprod(\n\u001b[1;32m-> 2929\u001b[0m         input_tensor, _ReductionDims(input_tensor, axis), keepdims,\n\u001b[0;32m   2930\u001b[0m         name\u001b[39m=\u001b[39mname))\n",
      "File \u001b[1;32m~\\AppData\\Roaming\\Python\\Python311\\site-packages\\tensorflow\\python\\ops\\math_ops.py:2270\u001b[0m, in \u001b[0;36m_ReductionDims\u001b[1;34m(x, axis)\u001b[0m\n\u001b[0;32m   2267\u001b[0m   \u001b[39mreturn\u001b[39;00m constant_op\u001b[39m.\u001b[39mconstant(np\u001b[39m.\u001b[39marange(x_rank, dtype\u001b[39m=\u001b[39mnp\u001b[39m.\u001b[39mint32))\n\u001b[0;32m   2268\u001b[0m \u001b[39melse\u001b[39;00m:\n\u001b[0;32m   2269\u001b[0m   \u001b[39m# Otherwise, we rely on Range and Rank to do the right thing at run-time.\u001b[39;00m\n\u001b[1;32m-> 2270\u001b[0m   \u001b[39mreturn\u001b[39;00m \u001b[39mrange\u001b[39m(\u001b[39m0\u001b[39m, array_ops\u001b[39m.\u001b[39;49mrank(x))\n",
      "File \u001b[1;32m~\\AppData\\Roaming\\Python\\Python311\\site-packages\\tensorflow\\python\\util\\traceback_utils.py:150\u001b[0m, in \u001b[0;36mfilter_traceback.<locals>.error_handler\u001b[1;34m(*args, **kwargs)\u001b[0m\n\u001b[0;32m    148\u001b[0m filtered_tb \u001b[39m=\u001b[39m \u001b[39mNone\u001b[39;00m\n\u001b[0;32m    149\u001b[0m \u001b[39mtry\u001b[39;00m:\n\u001b[1;32m--> 150\u001b[0m   \u001b[39mreturn\u001b[39;00m fn(\u001b[39m*\u001b[39;49margs, \u001b[39m*\u001b[39;49m\u001b[39m*\u001b[39;49mkwargs)\n\u001b[0;32m    151\u001b[0m \u001b[39mexcept\u001b[39;00m \u001b[39mException\u001b[39;00m \u001b[39mas\u001b[39;00m e:\n\u001b[0;32m    152\u001b[0m   filtered_tb \u001b[39m=\u001b[39m _process_traceback_frames(e\u001b[39m.\u001b[39m__traceback__)\n",
      "File \u001b[1;32m~\\AppData\\Roaming\\Python\\Python311\\site-packages\\tensorflow\\python\\util\\dispatch.py:1260\u001b[0m, in \u001b[0;36madd_dispatch_support.<locals>.decorator.<locals>.op_dispatch_handler\u001b[1;34m(*args, **kwargs)\u001b[0m\n\u001b[0;32m   1258\u001b[0m \u001b[39m# Fallback dispatch system (dispatch v1):\u001b[39;00m\n\u001b[0;32m   1259\u001b[0m \u001b[39mtry\u001b[39;00m:\n\u001b[1;32m-> 1260\u001b[0m   \u001b[39mreturn\u001b[39;00m dispatch_target(\u001b[39m*\u001b[39;49margs, \u001b[39m*\u001b[39;49m\u001b[39m*\u001b[39;49mkwargs)\n\u001b[0;32m   1261\u001b[0m \u001b[39mexcept\u001b[39;00m (\u001b[39mTypeError\u001b[39;00m, \u001b[39mValueError\u001b[39;00m):\n\u001b[0;32m   1262\u001b[0m   \u001b[39m# Note: convert_to_eager_tensor currently raises a ValueError, not a\u001b[39;00m\n\u001b[0;32m   1263\u001b[0m   \u001b[39m# TypeError, when given unexpected types.  So we need to catch both.\u001b[39;00m\n\u001b[0;32m   1264\u001b[0m   result \u001b[39m=\u001b[39m dispatch(op_dispatch_handler, args, kwargs)\n",
      "File \u001b[1;32m~\\AppData\\Roaming\\Python\\Python311\\site-packages\\tensorflow\\python\\ops\\array_ops.py:921\u001b[0m, in \u001b[0;36mrank\u001b[1;34m(input, name)\u001b[0m\n\u001b[0;32m    888\u001b[0m \u001b[39m@tf_export\u001b[39m(\u001b[39m\"\u001b[39m\u001b[39mrank\u001b[39m\u001b[39m\"\u001b[39m)\n\u001b[0;32m    889\u001b[0m \u001b[39m@dispatch\u001b[39m\u001b[39m.\u001b[39madd_dispatch_support\n\u001b[0;32m    890\u001b[0m \u001b[39mdef\u001b[39;00m \u001b[39mrank\u001b[39m(\u001b[39minput\u001b[39m, name\u001b[39m=\u001b[39m\u001b[39mNone\u001b[39;00m):\n\u001b[0;32m    891\u001b[0m   \u001b[39m# pylint: disable=redefined-builtin\u001b[39;00m\n\u001b[0;32m    892\u001b[0m \u001b[39m  \u001b[39m\u001b[39m\"\"\"Returns the rank of a tensor.\u001b[39;00m\n\u001b[0;32m    893\u001b[0m \n\u001b[0;32m    894\u001b[0m \u001b[39m  See also `tf.shape`.\u001b[39;00m\n\u001b[1;32m   (...)\u001b[0m\n\u001b[0;32m    919\u001b[0m \u001b[39m  @end_compatibility\u001b[39;00m\n\u001b[0;32m    920\u001b[0m \u001b[39m  \"\"\"\u001b[39;00m\n\u001b[1;32m--> 921\u001b[0m   \u001b[39mreturn\u001b[39;00m rank_internal(\u001b[39minput\u001b[39;49m, name, optimize\u001b[39m=\u001b[39;49m\u001b[39mTrue\u001b[39;49;00m)\n",
      "File \u001b[1;32m~\\AppData\\Roaming\\Python\\Python311\\site-packages\\tensorflow\\python\\ops\\array_ops.py:944\u001b[0m, in \u001b[0;36mrank_internal\u001b[1;34m(input, name, optimize)\u001b[0m\n\u001b[0;32m    942\u001b[0m input_shape \u001b[39m=\u001b[39m \u001b[39minput\u001b[39m\u001b[39m.\u001b[39mget_shape()\n\u001b[0;32m    943\u001b[0m \u001b[39mif\u001b[39;00m optimize \u001b[39mand\u001b[39;00m input_shape\u001b[39m.\u001b[39mndims \u001b[39mis\u001b[39;00m \u001b[39mnot\u001b[39;00m \u001b[39mNone\u001b[39;00m:\n\u001b[1;32m--> 944\u001b[0m   \u001b[39mreturn\u001b[39;00m constant(input_shape\u001b[39m.\u001b[39;49mndims, dtypes\u001b[39m.\u001b[39;49mint32, name\u001b[39m=\u001b[39;49mname)\n\u001b[0;32m    945\u001b[0m \u001b[39mreturn\u001b[39;00m gen_array_ops\u001b[39m.\u001b[39mrank(\u001b[39minput\u001b[39m, name\u001b[39m=\u001b[39mname)\n",
      "File \u001b[1;32m~\\AppData\\Roaming\\Python\\Python311\\site-packages\\tensorflow\\python\\framework\\constant_op.py:267\u001b[0m, in \u001b[0;36mconstant\u001b[1;34m(value, dtype, shape, name)\u001b[0m\n\u001b[0;32m    170\u001b[0m \u001b[39m@tf_export\u001b[39m(\u001b[39m\"\u001b[39m\u001b[39mconstant\u001b[39m\u001b[39m\"\u001b[39m, v1\u001b[39m=\u001b[39m[])\n\u001b[0;32m    171\u001b[0m \u001b[39mdef\u001b[39;00m \u001b[39mconstant\u001b[39m(value, dtype\u001b[39m=\u001b[39m\u001b[39mNone\u001b[39;00m, shape\u001b[39m=\u001b[39m\u001b[39mNone\u001b[39;00m, name\u001b[39m=\u001b[39m\u001b[39m\"\u001b[39m\u001b[39mConst\u001b[39m\u001b[39m\"\u001b[39m):\n\u001b[0;32m    172\u001b[0m \u001b[39m  \u001b[39m\u001b[39m\"\"\"Creates a constant tensor from a tensor-like object.\u001b[39;00m\n\u001b[0;32m    173\u001b[0m \n\u001b[0;32m    174\u001b[0m \u001b[39m  Note: All eager `tf.Tensor` values are immutable (in contrast to\u001b[39;00m\n\u001b[1;32m   (...)\u001b[0m\n\u001b[0;32m    265\u001b[0m \u001b[39m    ValueError: if called on a symbolic tensor.\u001b[39;00m\n\u001b[0;32m    266\u001b[0m \u001b[39m  \"\"\"\u001b[39;00m\n\u001b[1;32m--> 267\u001b[0m   \u001b[39mreturn\u001b[39;00m _constant_impl(value, dtype, shape, name, verify_shape\u001b[39m=\u001b[39;49m\u001b[39mFalse\u001b[39;49;00m,\n\u001b[0;32m    268\u001b[0m                         allow_broadcast\u001b[39m=\u001b[39;49m\u001b[39mTrue\u001b[39;49;00m)\n",
      "File \u001b[1;32m~\\AppData\\Roaming\\Python\\Python311\\site-packages\\tensorflow\\python\\framework\\constant_op.py:281\u001b[0m, in \u001b[0;36m_constant_impl\u001b[1;34m(value, dtype, shape, name, verify_shape, allow_broadcast)\u001b[0m\n\u001b[0;32m    278\u001b[0m       \u001b[39mreturn\u001b[39;00m _constant_eager_impl(ctx, value, dtype, shape, verify_shape)\n\u001b[0;32m    279\u001b[0m   \u001b[39mreturn\u001b[39;00m _constant_eager_impl(ctx, value, dtype, shape, verify_shape)\n\u001b[1;32m--> 281\u001b[0m const_tensor \u001b[39m=\u001b[39m ops\u001b[39m.\u001b[39;49m_create_graph_constant(  \u001b[39m# pylint: disable=protected-access\u001b[39;49;00m\n\u001b[0;32m    282\u001b[0m     value, dtype, shape, name, verify_shape, allow_broadcast\n\u001b[0;32m    283\u001b[0m )\n\u001b[0;32m    284\u001b[0m \u001b[39mreturn\u001b[39;00m const_tensor\n",
      "File \u001b[1;32m~\\AppData\\Roaming\\Python\\Python311\\site-packages\\tensorflow\\python\\framework\\ops.py:270\u001b[0m, in \u001b[0;36m_create_graph_constant\u001b[1;34m(value, dtype, shape, name, verify_shape, allow_broadcast)\u001b[0m\n\u001b[0;32m    268\u001b[0m dtype_value \u001b[39m=\u001b[39m attr_value_pb2\u001b[39m.\u001b[39mAttrValue(\u001b[39mtype\u001b[39m\u001b[39m=\u001b[39mtensor_value\u001b[39m.\u001b[39mtensor\u001b[39m.\u001b[39mdtype)\n\u001b[0;32m    269\u001b[0m attrs \u001b[39m=\u001b[39m {\u001b[39m\"\u001b[39m\u001b[39mvalue\u001b[39m\u001b[39m\"\u001b[39m: tensor_value, \u001b[39m\"\u001b[39m\u001b[39mdtype\u001b[39m\u001b[39m\"\u001b[39m: dtype_value}\n\u001b[1;32m--> 270\u001b[0m const_tensor \u001b[39m=\u001b[39m g\u001b[39m.\u001b[39;49m_create_op_internal(  \u001b[39m# pylint: disable=protected-access\u001b[39;49;00m\n\u001b[0;32m    271\u001b[0m     \u001b[39m\"\u001b[39;49m\u001b[39mConst\u001b[39;49m\u001b[39m\"\u001b[39;49m, [], [dtype_value\u001b[39m.\u001b[39;49mtype], attrs\u001b[39m=\u001b[39;49mattrs, name\u001b[39m=\u001b[39;49mname)\u001b[39m.\u001b[39moutputs[\u001b[39m0\u001b[39m]\n\u001b[0;32m    273\u001b[0m \u001b[39mif\u001b[39;00m op_callbacks\u001b[39m.\u001b[39mshould_invoke_op_callbacks():\n\u001b[0;32m    274\u001b[0m   \u001b[39m# TODO(b/147670703): Once the special-op creation code paths\u001b[39;00m\n\u001b[0;32m    275\u001b[0m   \u001b[39m# are unified. Remove this `if` block.\u001b[39;00m\n\u001b[0;32m    276\u001b[0m   callback_outputs \u001b[39m=\u001b[39m op_callbacks\u001b[39m.\u001b[39minvoke_op_callbacks(\n\u001b[0;32m    277\u001b[0m       \u001b[39m\"\u001b[39m\u001b[39mConst\u001b[39m\u001b[39m\"\u001b[39m, \u001b[39mtuple\u001b[39m(), attrs, (const_tensor,), op_name\u001b[39m=\u001b[39mname, graph\u001b[39m=\u001b[39mg)\n",
      "File \u001b[1;32m~\\AppData\\Roaming\\Python\\Python311\\site-packages\\tensorflow\\python\\framework\\func_graph.py:670\u001b[0m, in \u001b[0;36mFuncGraph._create_op_internal\u001b[1;34m(self, op_type, inputs, dtypes, input_types, name, attrs, op_def, compute_device)\u001b[0m\n\u001b[0;32m    668\u001b[0m   inp \u001b[39m=\u001b[39m \u001b[39mself\u001b[39m\u001b[39m.\u001b[39mcapture(inp)\n\u001b[0;32m    669\u001b[0m   captured_inputs\u001b[39m.\u001b[39mappend(inp)\n\u001b[1;32m--> 670\u001b[0m \u001b[39mreturn\u001b[39;00m \u001b[39msuper\u001b[39;49m()\u001b[39m.\u001b[39;49m_create_op_internal(  \u001b[39m# pylint: disable=protected-access\u001b[39;49;00m\n\u001b[0;32m    671\u001b[0m     op_type, captured_inputs, dtypes, input_types, name, attrs, op_def,\n\u001b[0;32m    672\u001b[0m     compute_device)\n",
      "File \u001b[1;32m~\\AppData\\Roaming\\Python\\Python311\\site-packages\\tensorflow\\python\\framework\\ops.py:2657\u001b[0m, in \u001b[0;36mGraph._create_op_internal\u001b[1;34m(self, op_type, inputs, dtypes, input_types, name, attrs, op_def, compute_device)\u001b[0m\n\u001b[0;32m   2654\u001b[0m \u001b[39m# _create_op_helper mutates the new Operation. `_mutation_lock` ensures a\u001b[39;00m\n\u001b[0;32m   2655\u001b[0m \u001b[39m# Session.run call cannot occur between creating and mutating the op.\u001b[39;00m\n\u001b[0;32m   2656\u001b[0m \u001b[39mwith\u001b[39;00m \u001b[39mself\u001b[39m\u001b[39m.\u001b[39m_mutation_lock():\n\u001b[1;32m-> 2657\u001b[0m   ret \u001b[39m=\u001b[39m Operation\u001b[39m.\u001b[39;49mfrom_node_def(\n\u001b[0;32m   2658\u001b[0m       node_def,\n\u001b[0;32m   2659\u001b[0m       \u001b[39mself\u001b[39;49m,\n\u001b[0;32m   2660\u001b[0m       inputs\u001b[39m=\u001b[39;49minputs,\n\u001b[0;32m   2661\u001b[0m       output_types\u001b[39m=\u001b[39;49mdtypes,\n\u001b[0;32m   2662\u001b[0m       control_inputs\u001b[39m=\u001b[39;49mcontrol_inputs,\n\u001b[0;32m   2663\u001b[0m       input_types\u001b[39m=\u001b[39;49minput_types,\n\u001b[0;32m   2664\u001b[0m       original_op\u001b[39m=\u001b[39;49m\u001b[39mself\u001b[39;49m\u001b[39m.\u001b[39;49m_default_original_op,\n\u001b[0;32m   2665\u001b[0m       op_def\u001b[39m=\u001b[39;49mop_def,\n\u001b[0;32m   2666\u001b[0m   )\n\u001b[0;32m   2667\u001b[0m   \u001b[39mself\u001b[39m\u001b[39m.\u001b[39m_create_op_helper(ret, compute_device\u001b[39m=\u001b[39mcompute_device)\n\u001b[0;32m   2668\u001b[0m \u001b[39mreturn\u001b[39;00m ret\n",
      "File \u001b[1;32m~\\AppData\\Roaming\\Python\\Python311\\site-packages\\tensorflow\\python\\framework\\ops.py:1161\u001b[0m, in \u001b[0;36mOperation.from_node_def\u001b[1;34m(***failed resolving arguments***)\u001b[0m\n\u001b[0;32m   1158\u001b[0m     control_input_ops\u001b[39m.\u001b[39mappend(control_op)\n\u001b[0;32m   1160\u001b[0m \u001b[39m# Initialize c_op from node_def and other inputs\u001b[39;00m\n\u001b[1;32m-> 1161\u001b[0m c_op \u001b[39m=\u001b[39m _create_c_op(g, node_def, inputs, control_input_ops, op_def\u001b[39m=\u001b[39;49mop_def)\n\u001b[0;32m   1162\u001b[0m \u001b[39mself\u001b[39m \u001b[39m=\u001b[39m Operation(c_op, SymbolicTensor)\n\u001b[0;32m   1163\u001b[0m \u001b[39mself\u001b[39m\u001b[39m.\u001b[39m_init(g)\n",
      "File \u001b[1;32m~\\AppData\\Roaming\\Python\\Python311\\site-packages\\tensorflow\\python\\util\\traceback_utils.py:150\u001b[0m, in \u001b[0;36mfilter_traceback.<locals>.error_handler\u001b[1;34m(*args, **kwargs)\u001b[0m\n\u001b[0;32m    148\u001b[0m filtered_tb \u001b[39m=\u001b[39m \u001b[39mNone\u001b[39;00m\n\u001b[0;32m    149\u001b[0m \u001b[39mtry\u001b[39;00m:\n\u001b[1;32m--> 150\u001b[0m   \u001b[39mreturn\u001b[39;00m fn(\u001b[39m*\u001b[39;49margs, \u001b[39m*\u001b[39;49m\u001b[39m*\u001b[39;49mkwargs)\n\u001b[0;32m    151\u001b[0m \u001b[39mexcept\u001b[39;00m \u001b[39mException\u001b[39;00m \u001b[39mas\u001b[39;00m e:\n\u001b[0;32m    152\u001b[0m   filtered_tb \u001b[39m=\u001b[39m _process_traceback_frames(e\u001b[39m.\u001b[39m__traceback__)\n",
      "File \u001b[1;32m~\\AppData\\Roaming\\Python\\Python311\\site-packages\\tensorflow\\python\\framework\\ops.py:991\u001b[0m, in \u001b[0;36m_create_c_op\u001b[1;34m(graph, node_def, inputs, control_inputs, op_def, extract_traceback)\u001b[0m\n\u001b[0;32m    989\u001b[0m \u001b[39m# pylint: disable=protected-access\u001b[39;00m\n\u001b[0;32m    990\u001b[0m \u001b[39mwith\u001b[39;00m graph\u001b[39m.\u001b[39m_c_graph\u001b[39m.\u001b[39mget() \u001b[39mas\u001b[39;00m c_graph:\n\u001b[1;32m--> 991\u001b[0m   op_desc \u001b[39m=\u001b[39m pywrap_tf_session\u001b[39m.\u001b[39;49mTF_NewOperation(c_graph,\n\u001b[0;32m    992\u001b[0m                                               compat\u001b[39m.\u001b[39;49mas_str(node_def\u001b[39m.\u001b[39;49mop),\n\u001b[0;32m    993\u001b[0m                                               compat\u001b[39m.\u001b[39;49mas_str(node_def\u001b[39m.\u001b[39;49mname))\n\u001b[0;32m    994\u001b[0m \u001b[39mif\u001b[39;00m node_def\u001b[39m.\u001b[39mdevice:\n\u001b[0;32m    995\u001b[0m   pywrap_tf_session\u001b[39m.\u001b[39mTF_SetDevice(op_desc, compat\u001b[39m.\u001b[39mas_str(node_def\u001b[39m.\u001b[39mdevice))\n",
      "\u001b[1;31mKeyboardInterrupt\u001b[0m: "
     ]
    }
   ],
   "source": [
    "start_time = time.time()\n",
    "\n",
    "#initializing KFold object\n",
    "loo = LeaveOneOut()\n",
    "mae_scores = []\n",
    "r2_scores = []\n",
    "\n",
    "for train_index, test_index in loo.split(X):\n",
    "    X_train, X_test = X.iloc[train_index], X.iloc[test_index]  # Predictors for train & test\n",
    "    y_train, y_test = y.iloc[train_index], y.iloc[test_index]  # Target for train, test\n",
    "\n",
    "    # scaling fetaure sets \n",
    "    scaler = StandardScaler()\n",
    "    X_train = scaler.fit_transform(X_train)\n",
    "    X_test = scaler.transform(X_test)\n",
    "\n",
    "    mlr_model = MLR_Model(X_train,y_train) #perform MLR\n",
    "    ann_model = ANN_Model(mlr_model.coef_,mlr_model.intercept_) #Intercept and coeff of MLR will be initailzied as ANN weights\n",
    "    ann_model.fit(X_train, y_train, epochs=500, batch_size=32, verbose=0) #fit ann model to data\n",
    "    y_pred = ann_model.predict(X_test) #use ann model to predict test set\n",
    "    print(f\"MAE: { mean_absolute_error(y_test, y_pred)}\")  #measure mean absolute value\n",
    "    print(f\"R2: {r2_score(y_test,y_pred)}\")#measure R-squared value\n",
    "    print(f\"RMSE: {np.sqrt(mean_squared_error(y_test, y_pred))}\")\n",
    "    print(f\"Intercept: {mlr_model.intercept_}\")\n",
    "    print(f\"Coefficients: {list(zip(mlr_model.coef_))}\")\n",
    "\n",
    "end_time = time.time()\n",
    "execution_time = end_time - start_time\n",
    "print(f\"Execution time: {execution_time} seconds\")"
   ]
  },
  {
   "cell_type": "markdown",
   "metadata": {},
   "source": [
    "### Tuning"
   ]
  },
  {
   "cell_type": "code",
   "execution_count": 75,
   "metadata": {},
   "outputs": [],
   "source": [
    "from sklearn.model_selection import GridSearchCV"
   ]
  },
  {
   "cell_type": "code",
   "execution_count": 76,
   "metadata": {},
   "outputs": [
    {
     "name": "stdout",
     "output_type": "stream",
     "text": [
      "Defaulting to user installation because normal site-packages is not writeable\n",
      "Requirement already satisfied: scikeras[tensorflow] in c:\\users\\user\\appdata\\roaming\\python\\python311\\site-packages (0.12.0)\n",
      "Requirement already satisfied: packaging>=0.21 in c:\\users\\user\\appdata\\roaming\\python\\python311\\site-packages (from scikeras[tensorflow]) (23.1)\n",
      "Requirement already satisfied: scikit-learn>=1.0.0 in c:\\users\\user\\appdata\\roaming\\python\\python311\\site-packages (from scikeras[tensorflow]) (1.3.2)\n",
      "Collecting tensorflow<2.13.0,>=2.12.0 (from scikeras[tensorflow])\n",
      "  Using cached tensorflow-2.12.1-cp311-cp311-win_amd64.whl (1.9 kB)\n",
      "Requirement already satisfied: tensorflow-io-gcs-filesystem<0.32,>=0.23.1 in c:\\users\\user\\appdata\\roaming\\python\\python311\\site-packages (from scikeras[tensorflow]) (0.31.0)\n",
      "Requirement already satisfied: numpy<2.0,>=1.17.3 in c:\\users\\user\\appdata\\roaming\\python\\python311\\site-packages (from scikit-learn>=1.0.0->scikeras[tensorflow]) (1.24.3)\n",
      "Requirement already satisfied: scipy>=1.5.0 in c:\\users\\user\\appdata\\roaming\\python\\python311\\site-packages (from scikit-learn>=1.0.0->scikeras[tensorflow]) (1.11.1)\n",
      "Requirement already satisfied: joblib>=1.1.1 in c:\\users\\user\\appdata\\roaming\\python\\python311\\site-packages (from scikit-learn>=1.0.0->scikeras[tensorflow]) (1.3.1)\n",
      "Requirement already satisfied: threadpoolctl>=2.0.0 in c:\\users\\user\\appdata\\roaming\\python\\python311\\site-packages (from scikit-learn>=1.0.0->scikeras[tensorflow]) (3.2.0)\n",
      "Collecting tensorflow-intel==2.12.1 (from tensorflow<2.13.0,>=2.12.0->scikeras[tensorflow])\n",
      "  Using cached tensorflow_intel-2.12.1-cp311-cp311-win_amd64.whl (272.9 MB)\n",
      "Requirement already satisfied: absl-py>=1.0.0 in c:\\users\\user\\appdata\\roaming\\python\\python311\\site-packages (from tensorflow-intel==2.12.1->tensorflow<2.13.0,>=2.12.0->scikeras[tensorflow]) (2.0.0)\n",
      "Requirement already satisfied: astunparse>=1.6.0 in c:\\users\\user\\appdata\\roaming\\python\\python311\\site-packages (from tensorflow-intel==2.12.1->tensorflow<2.13.0,>=2.12.0->scikeras[tensorflow]) (1.6.3)\n",
      "Requirement already satisfied: flatbuffers>=2.0 in c:\\users\\user\\appdata\\roaming\\python\\python311\\site-packages (from tensorflow-intel==2.12.1->tensorflow<2.13.0,>=2.12.0->scikeras[tensorflow]) (23.5.26)\n",
      "Collecting gast<=0.4.0,>=0.2.1 (from tensorflow-intel==2.12.1->tensorflow<2.13.0,>=2.12.0->scikeras[tensorflow])\n",
      "  Using cached gast-0.4.0-py3-none-any.whl (9.8 kB)\n",
      "Requirement already satisfied: google-pasta>=0.1.1 in c:\\users\\user\\appdata\\roaming\\python\\python311\\site-packages (from tensorflow-intel==2.12.1->tensorflow<2.13.0,>=2.12.0->scikeras[tensorflow]) (0.2.0)\n",
      "Requirement already satisfied: h5py>=2.9.0 in c:\\users\\user\\appdata\\roaming\\python\\python311\\site-packages (from tensorflow-intel==2.12.1->tensorflow<2.13.0,>=2.12.0->scikeras[tensorflow]) (3.10.0)\n",
      "Collecting jax>=0.3.15 (from tensorflow-intel==2.12.1->tensorflow<2.13.0,>=2.12.0->scikeras[tensorflow])\n",
      "  Downloading jax-0.4.20-py3-none-any.whl (1.7 MB)\n",
      "                                              0.0/1.7 MB ? eta -:--:--\n",
      "                                              0.0/1.7 MB 991.0 kB/s eta 0:00:02\n",
      "     -                                        0.1/1.7 MB 919.0 kB/s eta 0:00:02\n",
      "     -                                        0.1/1.7 MB 919.0 kB/s eta 0:00:02\n",
      "     ---                                      0.1/1.7 MB 711.9 kB/s eta 0:00:03\n",
      "     -----                                    0.2/1.7 MB 919.0 kB/s eta 0:00:02\n",
      "     ------                                   0.3/1.7 MB 874.6 kB/s eta 0:00:02\n",
      "     --------                                 0.4/1.7 MB 1.1 MB/s eta 0:00:02\n",
      "     --------                                 0.4/1.7 MB 998.3 kB/s eta 0:00:02\n",
      "     --------                                 0.4/1.7 MB 998.3 kB/s eta 0:00:02\n",
      "     -----------                              0.5/1.7 MB 1.1 MB/s eta 0:00:02\n",
      "     ----------------                         0.7/1.7 MB 1.3 MB/s eta 0:00:01\n",
      "     -------------------                      0.8/1.7 MB 1.5 MB/s eta 0:00:01\n",
      "     ----------------------                   1.0/1.7 MB 1.5 MB/s eta 0:00:01\n",
      "     ------------------------                 1.0/1.7 MB 1.6 MB/s eta 0:00:01\n",
      "     --------------------------               1.1/1.7 MB 1.6 MB/s eta 0:00:01\n",
      "     ---------------------------------        1.4/1.7 MB 1.9 MB/s eta 0:00:01\n",
      "     ---------------------------------------  1.7/1.7 MB 2.1 MB/s eta 0:00:01\n",
      "     ---------------------------------------- 1.7/1.7 MB 2.0 MB/s eta 0:00:00\n",
      "Requirement already satisfied: libclang>=13.0.0 in c:\\users\\user\\appdata\\roaming\\python\\python311\\site-packages (from tensorflow-intel==2.12.1->tensorflow<2.13.0,>=2.12.0->scikeras[tensorflow]) (16.0.6)\n",
      "Requirement already satisfied: opt-einsum>=2.3.2 in c:\\users\\user\\appdata\\roaming\\python\\python311\\site-packages (from tensorflow-intel==2.12.1->tensorflow<2.13.0,>=2.12.0->scikeras[tensorflow]) (3.3.0)\n",
      "Requirement already satisfied: protobuf!=4.21.0,!=4.21.1,!=4.21.2,!=4.21.3,!=4.21.4,!=4.21.5,<5.0.0dev,>=3.20.3 in c:\\users\\user\\appdata\\roaming\\python\\python311\\site-packages (from tensorflow-intel==2.12.1->tensorflow<2.13.0,>=2.12.0->scikeras[tensorflow]) (4.24.4)\n",
      "Requirement already satisfied: setuptools in c:\\program files\\python311\\lib\\site-packages (from tensorflow-intel==2.12.1->tensorflow<2.13.0,>=2.12.0->scikeras[tensorflow]) (65.5.0)\n",
      "Requirement already satisfied: six>=1.12.0 in c:\\users\\user\\appdata\\roaming\\python\\python311\\site-packages (from tensorflow-intel==2.12.1->tensorflow<2.13.0,>=2.12.0->scikeras[tensorflow]) (1.16.0)\n",
      "Requirement already satisfied: termcolor>=1.1.0 in c:\\users\\user\\appdata\\roaming\\python\\python311\\site-packages (from tensorflow-intel==2.12.1->tensorflow<2.13.0,>=2.12.0->scikeras[tensorflow]) (2.3.0)\n",
      "Requirement already satisfied: typing-extensions<4.6.0,>=3.6.6 in c:\\users\\user\\appdata\\roaming\\python\\python311\\site-packages (from tensorflow-intel==2.12.1->tensorflow<2.13.0,>=2.12.0->scikeras[tensorflow]) (4.5.0)\n",
      "Requirement already satisfied: wrapt<1.15,>=1.11.0 in c:\\users\\user\\appdata\\roaming\\python\\python311\\site-packages (from tensorflow-intel==2.12.1->tensorflow<2.13.0,>=2.12.0->scikeras[tensorflow]) (1.14.1)\n",
      "Requirement already satisfied: grpcio<2.0,>=1.24.3 in c:\\users\\user\\appdata\\roaming\\python\\python311\\site-packages (from tensorflow-intel==2.12.1->tensorflow<2.13.0,>=2.12.0->scikeras[tensorflow]) (1.59.0)\n",
      "Collecting tensorboard<2.13,>=2.12 (from tensorflow-intel==2.12.1->tensorflow<2.13.0,>=2.12.0->scikeras[tensorflow])\n",
      "  Using cached tensorboard-2.12.3-py3-none-any.whl (5.6 MB)\n",
      "Requirement already satisfied: tensorflow-estimator<2.13,>=2.12.0 in c:\\users\\user\\appdata\\roaming\\python\\python311\\site-packages (from tensorflow-intel==2.12.1->tensorflow<2.13.0,>=2.12.0->scikeras[tensorflow]) (2.12.0)\n",
      "Collecting keras<2.13,>=2.12.0 (from tensorflow-intel==2.12.1->tensorflow<2.13.0,>=2.12.0->scikeras[tensorflow])\n",
      "  Using cached keras-2.12.0-py2.py3-none-any.whl (1.7 MB)\n",
      "Requirement already satisfied: wheel<1.0,>=0.23.0 in c:\\users\\user\\appdata\\roaming\\python\\python311\\site-packages (from astunparse>=1.6.0->tensorflow-intel==2.12.1->tensorflow<2.13.0,>=2.12.0->scikeras[tensorflow]) (0.41.2)\n",
      "Requirement already satisfied: ml-dtypes>=0.2.0 in c:\\users\\user\\appdata\\roaming\\python\\python311\\site-packages (from jax>=0.3.15->tensorflow-intel==2.12.1->tensorflow<2.13.0,>=2.12.0->scikeras[tensorflow]) (0.2.0)\n",
      "Requirement already satisfied: google-auth<3,>=1.6.3 in c:\\users\\user\\appdata\\roaming\\python\\python311\\site-packages (from tensorboard<2.13,>=2.12->tensorflow-intel==2.12.1->tensorflow<2.13.0,>=2.12.0->scikeras[tensorflow]) (2.23.3)\n",
      "Requirement already satisfied: google-auth-oauthlib<1.1,>=0.5 in c:\\users\\user\\appdata\\roaming\\python\\python311\\site-packages (from tensorboard<2.13,>=2.12->tensorflow-intel==2.12.1->tensorflow<2.13.0,>=2.12.0->scikeras[tensorflow]) (1.0.0)\n",
      "Requirement already satisfied: markdown>=2.6.8 in c:\\users\\user\\appdata\\roaming\\python\\python311\\site-packages (from tensorboard<2.13,>=2.12->tensorflow-intel==2.12.1->tensorflow<2.13.0,>=2.12.0->scikeras[tensorflow]) (3.5)\n",
      "Requirement already satisfied: requests<3,>=2.21.0 in c:\\users\\user\\appdata\\roaming\\python\\python311\\site-packages (from tensorboard<2.13,>=2.12->tensorflow-intel==2.12.1->tensorflow<2.13.0,>=2.12.0->scikeras[tensorflow]) (2.31.0)\n",
      "Requirement already satisfied: tensorboard-data-server<0.8.0,>=0.7.0 in c:\\users\\user\\appdata\\roaming\\python\\python311\\site-packages (from tensorboard<2.13,>=2.12->tensorflow-intel==2.12.1->tensorflow<2.13.0,>=2.12.0->scikeras[tensorflow]) (0.7.1)\n",
      "Requirement already satisfied: werkzeug>=1.0.1 in c:\\users\\user\\appdata\\roaming\\python\\python311\\site-packages (from tensorboard<2.13,>=2.12->tensorflow-intel==2.12.1->tensorflow<2.13.0,>=2.12.0->scikeras[tensorflow]) (3.0.0)\n",
      "Requirement already satisfied: cachetools<6.0,>=2.0.0 in c:\\users\\user\\appdata\\roaming\\python\\python311\\site-packages (from google-auth<3,>=1.6.3->tensorboard<2.13,>=2.12->tensorflow-intel==2.12.1->tensorflow<2.13.0,>=2.12.0->scikeras[tensorflow]) (5.3.1)\n",
      "Requirement already satisfied: pyasn1-modules>=0.2.1 in c:\\users\\user\\appdata\\roaming\\python\\python311\\site-packages (from google-auth<3,>=1.6.3->tensorboard<2.13,>=2.12->tensorflow-intel==2.12.1->tensorflow<2.13.0,>=2.12.0->scikeras[tensorflow]) (0.3.0)\n",
      "Requirement already satisfied: rsa<5,>=3.1.4 in c:\\users\\user\\appdata\\roaming\\python\\python311\\site-packages (from google-auth<3,>=1.6.3->tensorboard<2.13,>=2.12->tensorflow-intel==2.12.1->tensorflow<2.13.0,>=2.12.0->scikeras[tensorflow]) (4.9)\n",
      "Requirement already satisfied: requests-oauthlib>=0.7.0 in c:\\users\\user\\appdata\\roaming\\python\\python311\\site-packages (from google-auth-oauthlib<1.1,>=0.5->tensorboard<2.13,>=2.12->tensorflow-intel==2.12.1->tensorflow<2.13.0,>=2.12.0->scikeras[tensorflow]) (1.3.1)\n",
      "Requirement already satisfied: charset-normalizer<4,>=2 in c:\\users\\user\\appdata\\roaming\\python\\python311\\site-packages (from requests<3,>=2.21.0->tensorboard<2.13,>=2.12->tensorflow-intel==2.12.1->tensorflow<2.13.0,>=2.12.0->scikeras[tensorflow]) (3.2.0)\n",
      "Requirement already satisfied: idna<4,>=2.5 in c:\\users\\user\\appdata\\roaming\\python\\python311\\site-packages (from requests<3,>=2.21.0->tensorboard<2.13,>=2.12->tensorflow-intel==2.12.1->tensorflow<2.13.0,>=2.12.0->scikeras[tensorflow]) (3.4)\n",
      "Requirement already satisfied: urllib3<3,>=1.21.1 in c:\\users\\user\\appdata\\roaming\\python\\python311\\site-packages (from requests<3,>=2.21.0->tensorboard<2.13,>=2.12->tensorflow-intel==2.12.1->tensorflow<2.13.0,>=2.12.0->scikeras[tensorflow]) (2.0.4)\n",
      "Requirement already satisfied: certifi>=2017.4.17 in c:\\users\\user\\appdata\\roaming\\python\\python311\\site-packages (from requests<3,>=2.21.0->tensorboard<2.13,>=2.12->tensorflow-intel==2.12.1->tensorflow<2.13.0,>=2.12.0->scikeras[tensorflow]) (2023.7.22)\n",
      "Requirement already satisfied: MarkupSafe>=2.1.1 in c:\\users\\user\\appdata\\roaming\\python\\python311\\site-packages (from werkzeug>=1.0.1->tensorboard<2.13,>=2.12->tensorflow-intel==2.12.1->tensorflow<2.13.0,>=2.12.0->scikeras[tensorflow]) (2.1.3)\n",
      "Requirement already satisfied: pyasn1<0.6.0,>=0.4.6 in c:\\users\\user\\appdata\\roaming\\python\\python311\\site-packages (from pyasn1-modules>=0.2.1->google-auth<3,>=1.6.3->tensorboard<2.13,>=2.12->tensorflow-intel==2.12.1->tensorflow<2.13.0,>=2.12.0->scikeras[tensorflow]) (0.5.0)\n",
      "Requirement already satisfied: oauthlib>=3.0.0 in c:\\users\\user\\appdata\\roaming\\python\\python311\\site-packages (from requests-oauthlib>=0.7.0->google-auth-oauthlib<1.1,>=0.5->tensorboard<2.13,>=2.12->tensorflow-intel==2.12.1->tensorflow<2.13.0,>=2.12.0->scikeras[tensorflow]) (3.2.2)\n",
      "Installing collected packages: keras, gast, jax, tensorboard, tensorflow-intel, tensorflow\n",
      "  Attempting uninstall: keras\n",
      "    Found existing installation: keras 2.14.0\n",
      "    Uninstalling keras-2.14.0:\n",
      "      Successfully uninstalled keras-2.14.0\n",
      "  Attempting uninstall: gast\n",
      "    Found existing installation: gast 0.5.4\n",
      "    Uninstalling gast-0.5.4:\n",
      "      Successfully uninstalled gast-0.5.4\n",
      "  Attempting uninstall: tensorboard\n",
      "    Found existing installation: tensorboard 2.14.1\n",
      "    Uninstalling tensorboard-2.14.1:\n",
      "      Successfully uninstalled tensorboard-2.14.1\n",
      "  Attempting uninstall: tensorflow-intel\n",
      "    Found existing installation: tensorflow-intel 2.14.0\n",
      "    Uninstalling tensorflow-intel-2.14.0:\n",
      "      Successfully uninstalled tensorflow-intel-2.14.0\n",
      "Note: you may need to restart the kernel to use updated packages.\n"
     ]
    },
    {
     "name": "stderr",
     "output_type": "stream",
     "text": [
      "ERROR: Could not install packages due to an OSError: [WinError 5] Access is denied: 'C:\\\\Users\\\\User\\\\AppData\\\\Roaming\\\\Python\\\\Python311\\\\site-packages\\\\~ensorflow\\\\compiler\\\\tf2tensorrt\\\\_pywrap_py_utils.pyd'\n",
      "Check the permissions.\n",
      "\n",
      "\n",
      "[notice] A new release of pip is available: 23.1.2 -> 23.3.1\n",
      "[notice] To update, run: python.exe -m pip install --upgrade pip\n"
     ]
    }
   ],
   "source": [
    "pip install scikeras[tensorflow]"
   ]
  },
  {
   "cell_type": "code",
   "execution_count": 58,
   "metadata": {},
   "outputs": [],
   "source": [
    "from scikeras.wrappers import KerasRegressor"
   ]
  },
  {
   "cell_type": "code",
   "execution_count": null,
   "metadata": {},
   "outputs": [],
   "source": [
    "import numpy as np"
   ]
  },
  {
   "cell_type": "code",
   "execution_count": null,
   "metadata": {},
   "outputs": [],
   "source": [
    "from sklearn.pipeline import Pipeline"
   ]
  },
  {
   "cell_type": "code",
   "execution_count": 59,
   "metadata": {},
   "outputs": [],
   "source": [
    "start_time = time.time()\n",
    "\n",
    "#initializing KFold object\n",
    "kfold = KFold(n_splits=10,shuffle=True, random_state=42)\n",
    "cv_inner = KFold(n_splits=3, shuffle=True, random_state=1)\n",
    "\n",
    "#param_grid\n",
    "#neuron = (1,3,5,7,9)\n",
    "#lr=  (0.001, 0.01, 0.1, 0.2, 0.3)\n",
    "#activation_func= [activations.relu,activations.tanh,activations.linear]\n",
    "#param_grid= dict(neurons= neurons, learning_rate=lr,activation = activation_func)\n",
    "#units = list(np.arange(1,5))\n",
    "\n",
    "param_grid = {'model__units': list(np.arange(1,5)),\n",
    "              'optimizer__lr' : list(np.arange(0.01,0.05)),\n",
    "              'activation' :['relu','tanh','linear']}"
   ]
  },
  {
   "cell_type": "code",
   "execution_count": 67,
   "metadata": {},
   "outputs": [],
   "source": [
    "import os"
   ]
  },
  {
   "cell_type": "code",
   "execution_count": 68,
   "metadata": {},
   "outputs": [],
   "source": [
    "path_checkpoint = \"training_1/cp.ckpt\"\n",
    "directory_checkpoint = os.path.dirname(path_checkpoint)\n",
    "\n",
    "callback = tf.keras.callbacks.ModelCheckpoint(filepath=path_checkpoint,\n",
    "                                                 save_weights_only=True,\n",
    "                                                 verbose=1)"
   ]
  },
  {
   "cell_type": "code",
   "execution_count": 70,
   "metadata": {},
   "outputs": [
    {
     "name": "stdout",
     "output_type": "stream",
     "text": [
      "INFO:tensorflow:Assets written to: C:\\Users\\User\\AppData\\Local\\Temp\\tmpnrwg0asy\\assets\n"
     ]
    },
    {
     "name": "stderr",
     "output_type": "stream",
     "text": [
      "INFO:tensorflow:Assets written to: C:\\Users\\User\\AppData\\Local\\Temp\\tmpnrwg0asy\\assets\n"
     ]
    },
    {
     "name": "stdout",
     "output_type": "stream",
     "text": [
      "Fitting 3 folds for each of 12 candidates, totalling 36 fits\n",
      "INFO:tensorflow:Assets written to: C:\\Users\\User\\AppData\\Local\\Temp\\tmpyeo65pll\\assets\n"
     ]
    },
    {
     "name": "stderr",
     "output_type": "stream",
     "text": [
      "INFO:tensorflow:Assets written to: C:\\Users\\User\\AppData\\Local\\Temp\\tmpyeo65pll\\assets\n"
     ]
    },
    {
     "name": "stdout",
     "output_type": "stream",
     "text": [
      "INFO:tensorflow:Assets written to: C:\\Users\\User\\AppData\\Local\\Temp\\tmpva3y3r9f\\assets\n"
     ]
    },
    {
     "name": "stderr",
     "output_type": "stream",
     "text": [
      "INFO:tensorflow:Assets written to: C:\\Users\\User\\AppData\\Local\\Temp\\tmpva3y3r9f\\assets\n"
     ]
    },
    {
     "name": "stdout",
     "output_type": "stream",
     "text": [
      "INFO:tensorflow:Assets written to: C:\\Users\\User\\AppData\\Local\\Temp\\tmp2v_7j0yc\\assets\n"
     ]
    },
    {
     "name": "stderr",
     "output_type": "stream",
     "text": [
      "INFO:tensorflow:Assets written to: C:\\Users\\User\\AppData\\Local\\Temp\\tmp2v_7j0yc\\assets\n"
     ]
    },
    {
     "name": "stdout",
     "output_type": "stream",
     "text": [
      "INFO:tensorflow:Assets written to: C:\\Users\\User\\AppData\\Local\\Temp\\tmpt7achnt9\\assets\n"
     ]
    },
    {
     "name": "stderr",
     "output_type": "stream",
     "text": [
      "INFO:tensorflow:Assets written to: C:\\Users\\User\\AppData\\Local\\Temp\\tmpt7achnt9\\assets\n"
     ]
    },
    {
     "name": "stdout",
     "output_type": "stream",
     "text": [
      "WARNING:tensorflow:Detecting that an object or model or tf.train.Checkpoint is being deleted with unrestored values. See the following logs for the specific values in question. To silence these warnings, use `status.expect_partial()`. See https://www.tensorflow.org/api_docs/python/tf/train/Checkpoint#restorefor details about the status object returned by the restore function.\n"
     ]
    },
    {
     "name": "stderr",
     "output_type": "stream",
     "text": [
      "WARNING:tensorflow:Detecting that an object or model or tf.train.Checkpoint is being deleted with unrestored values. See the following logs for the specific values in question. To silence these warnings, use `status.expect_partial()`. See https://www.tensorflow.org/api_docs/python/tf/train/Checkpoint#restorefor details about the status object returned by the restore function.\n"
     ]
    },
    {
     "name": "stdout",
     "output_type": "stream",
     "text": [
      "WARNING:tensorflow:Value in checkpoint could not be found in the restored object: (root).keras_api.metrics.0.total\n"
     ]
    },
    {
     "name": "stderr",
     "output_type": "stream",
     "text": [
      "WARNING:tensorflow:Value in checkpoint could not be found in the restored object: (root).keras_api.metrics.0.total\n"
     ]
    },
    {
     "name": "stdout",
     "output_type": "stream",
     "text": [
      "WARNING:tensorflow:Value in checkpoint could not be found in the restored object: (root).keras_api.metrics.0.count\n"
     ]
    },
    {
     "name": "stderr",
     "output_type": "stream",
     "text": [
      "WARNING:tensorflow:Value in checkpoint could not be found in the restored object: (root).keras_api.metrics.0.count\n"
     ]
    },
    {
     "name": "stdout",
     "output_type": "stream",
     "text": [
      "WARNING:tensorflow:Value in checkpoint could not be found in the restored object: (root).keras_api.metrics.1.total\n"
     ]
    },
    {
     "name": "stderr",
     "output_type": "stream",
     "text": [
      "WARNING:tensorflow:Value in checkpoint could not be found in the restored object: (root).keras_api.metrics.1.total\n"
     ]
    },
    {
     "name": "stdout",
     "output_type": "stream",
     "text": [
      "WARNING:tensorflow:Value in checkpoint could not be found in the restored object: (root).keras_api.metrics.1.count\n"
     ]
    },
    {
     "name": "stderr",
     "output_type": "stream",
     "text": [
      "WARNING:tensorflow:Value in checkpoint could not be found in the restored object: (root).keras_api.metrics.1.count\n"
     ]
    },
    {
     "name": "stdout",
     "output_type": "stream",
     "text": [
      "WARNING:tensorflow:Value in checkpoint could not be found in the restored object: (root).keras_api.metrics.2.total\n"
     ]
    },
    {
     "name": "stderr",
     "output_type": "stream",
     "text": [
      "WARNING:tensorflow:Value in checkpoint could not be found in the restored object: (root).keras_api.metrics.2.total\n"
     ]
    },
    {
     "name": "stdout",
     "output_type": "stream",
     "text": [
      "WARNING:tensorflow:Value in checkpoint could not be found in the restored object: (root).keras_api.metrics.2.count\n"
     ]
    },
    {
     "name": "stderr",
     "output_type": "stream",
     "text": [
      "WARNING:tensorflow:Value in checkpoint could not be found in the restored object: (root).keras_api.metrics.2.count\n"
     ]
    },
    {
     "name": "stdout",
     "output_type": "stream",
     "text": [
      "WARNING:tensorflow:Detecting that an object or model or tf.train.Checkpoint is being deleted with unrestored values. See the following logs for the specific values in question. To silence these warnings, use `status.expect_partial()`. See https://www.tensorflow.org/api_docs/python/tf/train/Checkpoint#restorefor details about the status object returned by the restore function.\n"
     ]
    },
    {
     "name": "stderr",
     "output_type": "stream",
     "text": [
      "WARNING:tensorflow:Detecting that an object or model or tf.train.Checkpoint is being deleted with unrestored values. See the following logs for the specific values in question. To silence these warnings, use `status.expect_partial()`. See https://www.tensorflow.org/api_docs/python/tf/train/Checkpoint#restorefor details about the status object returned by the restore function.\n"
     ]
    },
    {
     "name": "stdout",
     "output_type": "stream",
     "text": [
      "WARNING:tensorflow:Value in checkpoint could not be found in the restored object: (root).keras_api.metrics.0.total\n"
     ]
    },
    {
     "name": "stderr",
     "output_type": "stream",
     "text": [
      "WARNING:tensorflow:Value in checkpoint could not be found in the restored object: (root).keras_api.metrics.0.total\n"
     ]
    },
    {
     "name": "stdout",
     "output_type": "stream",
     "text": [
      "WARNING:tensorflow:Value in checkpoint could not be found in the restored object: (root).keras_api.metrics.0.count\n"
     ]
    },
    {
     "name": "stderr",
     "output_type": "stream",
     "text": [
      "WARNING:tensorflow:Value in checkpoint could not be found in the restored object: (root).keras_api.metrics.0.count\n"
     ]
    },
    {
     "name": "stdout",
     "output_type": "stream",
     "text": [
      "WARNING:tensorflow:Value in checkpoint could not be found in the restored object: (root).keras_api.metrics.1.total\n"
     ]
    },
    {
     "name": "stderr",
     "output_type": "stream",
     "text": [
      "WARNING:tensorflow:Value in checkpoint could not be found in the restored object: (root).keras_api.metrics.1.total\n"
     ]
    },
    {
     "name": "stdout",
     "output_type": "stream",
     "text": [
      "WARNING:tensorflow:Value in checkpoint could not be found in the restored object: (root).keras_api.metrics.1.count\n"
     ]
    },
    {
     "name": "stderr",
     "output_type": "stream",
     "text": [
      "WARNING:tensorflow:Value in checkpoint could not be found in the restored object: (root).keras_api.metrics.1.count\n"
     ]
    },
    {
     "name": "stdout",
     "output_type": "stream",
     "text": [
      "WARNING:tensorflow:Value in checkpoint could not be found in the restored object: (root).keras_api.metrics.2.total\n"
     ]
    },
    {
     "name": "stderr",
     "output_type": "stream",
     "text": [
      "WARNING:tensorflow:Value in checkpoint could not be found in the restored object: (root).keras_api.metrics.2.total\n"
     ]
    },
    {
     "name": "stdout",
     "output_type": "stream",
     "text": [
      "WARNING:tensorflow:Value in checkpoint could not be found in the restored object: (root).keras_api.metrics.2.count\n"
     ]
    },
    {
     "name": "stderr",
     "output_type": "stream",
     "text": [
      "WARNING:tensorflow:Value in checkpoint could not be found in the restored object: (root).keras_api.metrics.2.count\n"
     ]
    },
    {
     "name": "stdout",
     "output_type": "stream",
     "text": [
      "WARNING:tensorflow:Detecting that an object or model or tf.train.Checkpoint is being deleted with unrestored values. See the following logs for the specific values in question. To silence these warnings, use `status.expect_partial()`. See https://www.tensorflow.org/api_docs/python/tf/train/Checkpoint#restorefor details about the status object returned by the restore function.\n"
     ]
    },
    {
     "name": "stderr",
     "output_type": "stream",
     "text": [
      "WARNING:tensorflow:Detecting that an object or model or tf.train.Checkpoint is being deleted with unrestored values. See the following logs for the specific values in question. To silence these warnings, use `status.expect_partial()`. See https://www.tensorflow.org/api_docs/python/tf/train/Checkpoint#restorefor details about the status object returned by the restore function.\n"
     ]
    },
    {
     "name": "stdout",
     "output_type": "stream",
     "text": [
      "WARNING:tensorflow:Value in checkpoint could not be found in the restored object: (root).keras_api.metrics.0.total\n"
     ]
    },
    {
     "name": "stderr",
     "output_type": "stream",
     "text": [
      "WARNING:tensorflow:Value in checkpoint could not be found in the restored object: (root).keras_api.metrics.0.total\n"
     ]
    },
    {
     "name": "stdout",
     "output_type": "stream",
     "text": [
      "WARNING:tensorflow:Value in checkpoint could not be found in the restored object: (root).keras_api.metrics.0.count\n"
     ]
    },
    {
     "name": "stderr",
     "output_type": "stream",
     "text": [
      "WARNING:tensorflow:Value in checkpoint could not be found in the restored object: (root).keras_api.metrics.0.count\n"
     ]
    },
    {
     "name": "stdout",
     "output_type": "stream",
     "text": [
      "WARNING:tensorflow:Value in checkpoint could not be found in the restored object: (root).keras_api.metrics.1.total\n"
     ]
    },
    {
     "name": "stderr",
     "output_type": "stream",
     "text": [
      "WARNING:tensorflow:Value in checkpoint could not be found in the restored object: (root).keras_api.metrics.1.total\n"
     ]
    },
    {
     "name": "stdout",
     "output_type": "stream",
     "text": [
      "WARNING:tensorflow:Value in checkpoint could not be found in the restored object: (root).keras_api.metrics.1.count\n"
     ]
    },
    {
     "name": "stderr",
     "output_type": "stream",
     "text": [
      "WARNING:tensorflow:Value in checkpoint could not be found in the restored object: (root).keras_api.metrics.1.count\n"
     ]
    },
    {
     "name": "stdout",
     "output_type": "stream",
     "text": [
      "WARNING:tensorflow:Value in checkpoint could not be found in the restored object: (root).keras_api.metrics.2.total\n"
     ]
    },
    {
     "name": "stderr",
     "output_type": "stream",
     "text": [
      "WARNING:tensorflow:Value in checkpoint could not be found in the restored object: (root).keras_api.metrics.2.total\n"
     ]
    },
    {
     "name": "stdout",
     "output_type": "stream",
     "text": [
      "WARNING:tensorflow:Value in checkpoint could not be found in the restored object: (root).keras_api.metrics.2.count\n"
     ]
    },
    {
     "name": "stderr",
     "output_type": "stream",
     "text": [
      "WARNING:tensorflow:Value in checkpoint could not be found in the restored object: (root).keras_api.metrics.2.count\n"
     ]
    },
    {
     "name": "stdout",
     "output_type": "stream",
     "text": [
      "WARNING:tensorflow:Detecting that an object or model or tf.train.Checkpoint is being deleted with unrestored values. See the following logs for the specific values in question. To silence these warnings, use `status.expect_partial()`. See https://www.tensorflow.org/api_docs/python/tf/train/Checkpoint#restorefor details about the status object returned by the restore function.\n"
     ]
    },
    {
     "name": "stderr",
     "output_type": "stream",
     "text": [
      "WARNING:tensorflow:Detecting that an object or model or tf.train.Checkpoint is being deleted with unrestored values. See the following logs for the specific values in question. To silence these warnings, use `status.expect_partial()`. See https://www.tensorflow.org/api_docs/python/tf/train/Checkpoint#restorefor details about the status object returned by the restore function.\n"
     ]
    },
    {
     "name": "stdout",
     "output_type": "stream",
     "text": [
      "WARNING:tensorflow:Value in checkpoint could not be found in the restored object: (root).keras_api.metrics.0.total\n"
     ]
    },
    {
     "name": "stderr",
     "output_type": "stream",
     "text": [
      "WARNING:tensorflow:Value in checkpoint could not be found in the restored object: (root).keras_api.metrics.0.total\n"
     ]
    },
    {
     "name": "stdout",
     "output_type": "stream",
     "text": [
      "WARNING:tensorflow:Value in checkpoint could not be found in the restored object: (root).keras_api.metrics.0.count\n"
     ]
    },
    {
     "name": "stderr",
     "output_type": "stream",
     "text": [
      "WARNING:tensorflow:Value in checkpoint could not be found in the restored object: (root).keras_api.metrics.0.count\n"
     ]
    },
    {
     "name": "stdout",
     "output_type": "stream",
     "text": [
      "WARNING:tensorflow:Value in checkpoint could not be found in the restored object: (root).keras_api.metrics.1.total\n"
     ]
    },
    {
     "name": "stderr",
     "output_type": "stream",
     "text": [
      "WARNING:tensorflow:Value in checkpoint could not be found in the restored object: (root).keras_api.metrics.1.total\n"
     ]
    },
    {
     "name": "stdout",
     "output_type": "stream",
     "text": [
      "WARNING:tensorflow:Value in checkpoint could not be found in the restored object: (root).keras_api.metrics.1.count\n"
     ]
    },
    {
     "name": "stderr",
     "output_type": "stream",
     "text": [
      "WARNING:tensorflow:Value in checkpoint could not be found in the restored object: (root).keras_api.metrics.1.count\n"
     ]
    },
    {
     "name": "stdout",
     "output_type": "stream",
     "text": [
      "WARNING:tensorflow:Value in checkpoint could not be found in the restored object: (root).keras_api.metrics.2.total\n"
     ]
    },
    {
     "name": "stderr",
     "output_type": "stream",
     "text": [
      "WARNING:tensorflow:Value in checkpoint could not be found in the restored object: (root).keras_api.metrics.2.total\n"
     ]
    },
    {
     "name": "stdout",
     "output_type": "stream",
     "text": [
      "WARNING:tensorflow:Value in checkpoint could not be found in the restored object: (root).keras_api.metrics.2.count\n"
     ]
    },
    {
     "name": "stderr",
     "output_type": "stream",
     "text": [
      "WARNING:tensorflow:Value in checkpoint could not be found in the restored object: (root).keras_api.metrics.2.count\n"
     ]
    },
    {
     "name": "stdout",
     "output_type": "stream",
     "text": [
      "INFO:tensorflow:Assets written to: C:\\Users\\User\\AppData\\Local\\Temp\\tmpr9poc7zd\\assets\n"
     ]
    },
    {
     "name": "stderr",
     "output_type": "stream",
     "text": [
      "INFO:tensorflow:Assets written to: C:\\Users\\User\\AppData\\Local\\Temp\\tmpr9poc7zd\\assets\n"
     ]
    },
    {
     "name": "stdout",
     "output_type": "stream",
     "text": [
      "INFO:tensorflow:Assets written to: C:\\Users\\User\\AppData\\Local\\Temp\\tmpt0y_g9l1\\assets\n"
     ]
    },
    {
     "name": "stderr",
     "output_type": "stream",
     "text": [
      "INFO:tensorflow:Assets written to: C:\\Users\\User\\AppData\\Local\\Temp\\tmpt0y_g9l1\\assets\n"
     ]
    },
    {
     "name": "stdout",
     "output_type": "stream",
     "text": [
      "INFO:tensorflow:Assets written to: C:\\Users\\User\\AppData\\Local\\Temp\\tmpt6l4rjtn\\assets\n"
     ]
    },
    {
     "name": "stderr",
     "output_type": "stream",
     "text": [
      "INFO:tensorflow:Assets written to: C:\\Users\\User\\AppData\\Local\\Temp\\tmpt6l4rjtn\\assets\n"
     ]
    },
    {
     "name": "stdout",
     "output_type": "stream",
     "text": [
      "INFO:tensorflow:Assets written to: C:\\Users\\User\\AppData\\Local\\Temp\\tmp7qa_dv0i\\assets\n"
     ]
    },
    {
     "name": "stderr",
     "output_type": "stream",
     "text": [
      "INFO:tensorflow:Assets written to: C:\\Users\\User\\AppData\\Local\\Temp\\tmp7qa_dv0i\\assets\n"
     ]
    },
    {
     "name": "stdout",
     "output_type": "stream",
     "text": [
      "INFO:tensorflow:Assets written to: C:\\Users\\User\\AppData\\Local\\Temp\\tmps29gq23d\\assets\n"
     ]
    },
    {
     "name": "stderr",
     "output_type": "stream",
     "text": [
      "INFO:tensorflow:Assets written to: C:\\Users\\User\\AppData\\Local\\Temp\\tmps29gq23d\\assets\n"
     ]
    },
    {
     "name": "stdout",
     "output_type": "stream",
     "text": [
      "INFO:tensorflow:Assets written to: C:\\Users\\User\\AppData\\Local\\Temp\\tmpsqr2kc_4\\assets\n"
     ]
    },
    {
     "name": "stderr",
     "output_type": "stream",
     "text": [
      "INFO:tensorflow:Assets written to: C:\\Users\\User\\AppData\\Local\\Temp\\tmpsqr2kc_4\\assets\n"
     ]
    },
    {
     "name": "stdout",
     "output_type": "stream",
     "text": [
      "INFO:tensorflow:Assets written to: C:\\Users\\User\\AppData\\Local\\Temp\\tmp5z57y1dm\\assets\n"
     ]
    },
    {
     "name": "stderr",
     "output_type": "stream",
     "text": [
      "INFO:tensorflow:Assets written to: C:\\Users\\User\\AppData\\Local\\Temp\\tmp5z57y1dm\\assets\n"
     ]
    },
    {
     "name": "stdout",
     "output_type": "stream",
     "text": [
      "INFO:tensorflow:Assets written to: C:\\Users\\User\\AppData\\Local\\Temp\\tmp7aquaveu\\assets\n"
     ]
    },
    {
     "name": "stderr",
     "output_type": "stream",
     "text": [
      "INFO:tensorflow:Assets written to: C:\\Users\\User\\AppData\\Local\\Temp\\tmp7aquaveu\\assets\n"
     ]
    },
    {
     "name": "stdout",
     "output_type": "stream",
     "text": [
      "INFO:tensorflow:Assets written to: C:\\Users\\User\\AppData\\Local\\Temp\\tmpaumsm7lw\\assets\n"
     ]
    },
    {
     "name": "stderr",
     "output_type": "stream",
     "text": [
      "INFO:tensorflow:Assets written to: C:\\Users\\User\\AppData\\Local\\Temp\\tmpaumsm7lw\\assets\n"
     ]
    },
    {
     "name": "stdout",
     "output_type": "stream",
     "text": [
      "INFO:tensorflow:Assets written to: C:\\Users\\User\\AppData\\Local\\Temp\\tmpbbo2wbkx\\assets\n"
     ]
    },
    {
     "name": "stderr",
     "output_type": "stream",
     "text": [
      "INFO:tensorflow:Assets written to: C:\\Users\\User\\AppData\\Local\\Temp\\tmpbbo2wbkx\\assets\n"
     ]
    },
    {
     "name": "stdout",
     "output_type": "stream",
     "text": [
      "INFO:tensorflow:Assets written to: C:\\Users\\User\\AppData\\Local\\Temp\\tmpy5zvyp6w\\assets\n"
     ]
    },
    {
     "name": "stderr",
     "output_type": "stream",
     "text": [
      "INFO:tensorflow:Assets written to: C:\\Users\\User\\AppData\\Local\\Temp\\tmpy5zvyp6w\\assets\n"
     ]
    },
    {
     "name": "stdout",
     "output_type": "stream",
     "text": [
      "INFO:tensorflow:Assets written to: C:\\Users\\User\\AppData\\Local\\Temp\\tmpitofw5mg\\assets\n"
     ]
    },
    {
     "name": "stderr",
     "output_type": "stream",
     "text": [
      "INFO:tensorflow:Assets written to: C:\\Users\\User\\AppData\\Local\\Temp\\tmpitofw5mg\\assets\n"
     ]
    },
    {
     "name": "stdout",
     "output_type": "stream",
     "text": [
      "INFO:tensorflow:Assets written to: C:\\Users\\User\\AppData\\Local\\Temp\\tmpidth96a2\\assets\n"
     ]
    },
    {
     "name": "stderr",
     "output_type": "stream",
     "text": [
      "INFO:tensorflow:Assets written to: C:\\Users\\User\\AppData\\Local\\Temp\\tmpidth96a2\\assets\n"
     ]
    },
    {
     "name": "stdout",
     "output_type": "stream",
     "text": [
      "INFO:tensorflow:Assets written to: C:\\Users\\User\\AppData\\Local\\Temp\\tmpbgdrnq_r\\assets\n"
     ]
    },
    {
     "name": "stderr",
     "output_type": "stream",
     "text": [
      "INFO:tensorflow:Assets written to: C:\\Users\\User\\AppData\\Local\\Temp\\tmpbgdrnq_r\\assets\n"
     ]
    },
    {
     "name": "stdout",
     "output_type": "stream",
     "text": [
      "INFO:tensorflow:Assets written to: C:\\Users\\User\\AppData\\Local\\Temp\\tmpxz7941we\\assets\n"
     ]
    },
    {
     "name": "stderr",
     "output_type": "stream",
     "text": [
      "INFO:tensorflow:Assets written to: C:\\Users\\User\\AppData\\Local\\Temp\\tmpxz7941we\\assets\n"
     ]
    },
    {
     "name": "stdout",
     "output_type": "stream",
     "text": [
      "INFO:tensorflow:Assets written to: C:\\Users\\User\\AppData\\Local\\Temp\\tmppjoh3afx\\assets\n"
     ]
    },
    {
     "name": "stderr",
     "output_type": "stream",
     "text": [
      "INFO:tensorflow:Assets written to: C:\\Users\\User\\AppData\\Local\\Temp\\tmppjoh3afx\\assets\n"
     ]
    },
    {
     "name": "stdout",
     "output_type": "stream",
     "text": [
      "INFO:tensorflow:Assets written to: C:\\Users\\User\\AppData\\Local\\Temp\\tmpp1y6yhyi\\assets\n"
     ]
    },
    {
     "name": "stderr",
     "output_type": "stream",
     "text": [
      "INFO:tensorflow:Assets written to: C:\\Users\\User\\AppData\\Local\\Temp\\tmpp1y6yhyi\\assets\n"
     ]
    },
    {
     "name": "stdout",
     "output_type": "stream",
     "text": [
      "INFO:tensorflow:Assets written to: C:\\Users\\User\\AppData\\Local\\Temp\\tmp4h8_i92e\\assets\n"
     ]
    },
    {
     "name": "stderr",
     "output_type": "stream",
     "text": [
      "INFO:tensorflow:Assets written to: C:\\Users\\User\\AppData\\Local\\Temp\\tmp4h8_i92e\\assets\n"
     ]
    },
    {
     "name": "stdout",
     "output_type": "stream",
     "text": [
      "INFO:tensorflow:Assets written to: C:\\Users\\User\\AppData\\Local\\Temp\\tmpgtb3slgp\\assets\n"
     ]
    },
    {
     "name": "stderr",
     "output_type": "stream",
     "text": [
      "INFO:tensorflow:Assets written to: C:\\Users\\User\\AppData\\Local\\Temp\\tmpgtb3slgp\\assets\n"
     ]
    },
    {
     "name": "stdout",
     "output_type": "stream",
     "text": [
      "WARNING:tensorflow:Detecting that an object or model or tf.train.Checkpoint is being deleted with unrestored values. See the following logs for the specific values in question. To silence these warnings, use `status.expect_partial()`. See https://www.tensorflow.org/api_docs/python/tf/train/Checkpoint#restorefor details about the status object returned by the restore function.\n"
     ]
    },
    {
     "name": "stderr",
     "output_type": "stream",
     "text": [
      "WARNING:tensorflow:Detecting that an object or model or tf.train.Checkpoint is being deleted with unrestored values. See the following logs for the specific values in question. To silence these warnings, use `status.expect_partial()`. See https://www.tensorflow.org/api_docs/python/tf/train/Checkpoint#restorefor details about the status object returned by the restore function.\n"
     ]
    },
    {
     "name": "stdout",
     "output_type": "stream",
     "text": [
      "WARNING:tensorflow:Value in checkpoint could not be found in the restored object: (root).keras_api.metrics.0.total\n"
     ]
    },
    {
     "name": "stderr",
     "output_type": "stream",
     "text": [
      "WARNING:tensorflow:Value in checkpoint could not be found in the restored object: (root).keras_api.metrics.0.total\n"
     ]
    },
    {
     "name": "stdout",
     "output_type": "stream",
     "text": [
      "WARNING:tensorflow:Value in checkpoint could not be found in the restored object: (root).keras_api.metrics.0.count\n"
     ]
    },
    {
     "name": "stderr",
     "output_type": "stream",
     "text": [
      "WARNING:tensorflow:Value in checkpoint could not be found in the restored object: (root).keras_api.metrics.0.count\n"
     ]
    },
    {
     "name": "stdout",
     "output_type": "stream",
     "text": [
      "WARNING:tensorflow:Value in checkpoint could not be found in the restored object: (root).keras_api.metrics.1.total\n"
     ]
    },
    {
     "name": "stderr",
     "output_type": "stream",
     "text": [
      "WARNING:tensorflow:Value in checkpoint could not be found in the restored object: (root).keras_api.metrics.1.total\n"
     ]
    },
    {
     "name": "stdout",
     "output_type": "stream",
     "text": [
      "WARNING:tensorflow:Value in checkpoint could not be found in the restored object: (root).keras_api.metrics.1.count\n"
     ]
    },
    {
     "name": "stderr",
     "output_type": "stream",
     "text": [
      "WARNING:tensorflow:Value in checkpoint could not be found in the restored object: (root).keras_api.metrics.1.count\n"
     ]
    },
    {
     "name": "stdout",
     "output_type": "stream",
     "text": [
      "WARNING:tensorflow:Value in checkpoint could not be found in the restored object: (root).keras_api.metrics.2.total\n"
     ]
    },
    {
     "name": "stderr",
     "output_type": "stream",
     "text": [
      "WARNING:tensorflow:Value in checkpoint could not be found in the restored object: (root).keras_api.metrics.2.total\n"
     ]
    },
    {
     "name": "stdout",
     "output_type": "stream",
     "text": [
      "WARNING:tensorflow:Value in checkpoint could not be found in the restored object: (root).keras_api.metrics.2.count\n"
     ]
    },
    {
     "name": "stderr",
     "output_type": "stream",
     "text": [
      "WARNING:tensorflow:Value in checkpoint could not be found in the restored object: (root).keras_api.metrics.2.count\n"
     ]
    },
    {
     "name": "stdout",
     "output_type": "stream",
     "text": [
      "WARNING:tensorflow:Detecting that an object or model or tf.train.Checkpoint is being deleted with unrestored values. See the following logs for the specific values in question. To silence these warnings, use `status.expect_partial()`. See https://www.tensorflow.org/api_docs/python/tf/train/Checkpoint#restorefor details about the status object returned by the restore function.\n"
     ]
    },
    {
     "name": "stderr",
     "output_type": "stream",
     "text": [
      "WARNING:tensorflow:Detecting that an object or model or tf.train.Checkpoint is being deleted with unrestored values. See the following logs for the specific values in question. To silence these warnings, use `status.expect_partial()`. See https://www.tensorflow.org/api_docs/python/tf/train/Checkpoint#restorefor details about the status object returned by the restore function.\n"
     ]
    },
    {
     "name": "stdout",
     "output_type": "stream",
     "text": [
      "WARNING:tensorflow:Value in checkpoint could not be found in the restored object: (root).keras_api.metrics.0.total\n"
     ]
    },
    {
     "name": "stderr",
     "output_type": "stream",
     "text": [
      "WARNING:tensorflow:Value in checkpoint could not be found in the restored object: (root).keras_api.metrics.0.total\n"
     ]
    },
    {
     "name": "stdout",
     "output_type": "stream",
     "text": [
      "WARNING:tensorflow:Value in checkpoint could not be found in the restored object: (root).keras_api.metrics.0.count\n"
     ]
    },
    {
     "name": "stderr",
     "output_type": "stream",
     "text": [
      "WARNING:tensorflow:Value in checkpoint could not be found in the restored object: (root).keras_api.metrics.0.count\n"
     ]
    },
    {
     "name": "stdout",
     "output_type": "stream",
     "text": [
      "WARNING:tensorflow:Value in checkpoint could not be found in the restored object: (root).keras_api.metrics.1.total\n"
     ]
    },
    {
     "name": "stderr",
     "output_type": "stream",
     "text": [
      "WARNING:tensorflow:Value in checkpoint could not be found in the restored object: (root).keras_api.metrics.1.total\n"
     ]
    },
    {
     "name": "stdout",
     "output_type": "stream",
     "text": [
      "WARNING:tensorflow:Value in checkpoint could not be found in the restored object: (root).keras_api.metrics.1.count\n"
     ]
    },
    {
     "name": "stderr",
     "output_type": "stream",
     "text": [
      "WARNING:tensorflow:Value in checkpoint could not be found in the restored object: (root).keras_api.metrics.1.count\n"
     ]
    },
    {
     "name": "stdout",
     "output_type": "stream",
     "text": [
      "WARNING:tensorflow:Value in checkpoint could not be found in the restored object: (root).keras_api.metrics.2.total\n"
     ]
    },
    {
     "name": "stderr",
     "output_type": "stream",
     "text": [
      "WARNING:tensorflow:Value in checkpoint could not be found in the restored object: (root).keras_api.metrics.2.total\n"
     ]
    },
    {
     "name": "stdout",
     "output_type": "stream",
     "text": [
      "WARNING:tensorflow:Value in checkpoint could not be found in the restored object: (root).keras_api.metrics.2.count\n"
     ]
    },
    {
     "name": "stderr",
     "output_type": "stream",
     "text": [
      "WARNING:tensorflow:Value in checkpoint could not be found in the restored object: (root).keras_api.metrics.2.count\n"
     ]
    },
    {
     "name": "stdout",
     "output_type": "stream",
     "text": [
      "INFO:tensorflow:Assets written to: C:\\Users\\User\\AppData\\Local\\Temp\\tmpeln7nyhw\\assets\n",
      "INFO:tensorflow:Assets written to: C:\\Users\\User\\AppData\\Local\\Temp\\tmpbnx_zhor\\assets\n"
     ]
    },
    {
     "name": "stderr",
     "output_type": "stream",
     "text": [
      "INFO:tensorflow:Assets written to: C:\\Users\\User\\AppData\\Local\\Temp\\tmpeln7nyhw\\assets\n",
      "INFO:tensorflow:Assets written to: C:\\Users\\User\\AppData\\Local\\Temp\\tmpbnx_zhor\\assets\n"
     ]
    },
    {
     "name": "stdout",
     "output_type": "stream",
     "text": [
      "INFO:tensorflow:Assets written to: C:\\Users\\User\\AppData\\Local\\Temp\\tmp5a7kjce7\\assets\n"
     ]
    },
    {
     "name": "stderr",
     "output_type": "stream",
     "text": [
      "INFO:tensorflow:Assets written to: C:\\Users\\User\\AppData\\Local\\Temp\\tmp5a7kjce7\\assets\n"
     ]
    },
    {
     "name": "stdout",
     "output_type": "stream",
     "text": [
      "INFO:tensorflow:Assets written to: C:\\Users\\User\\AppData\\Local\\Temp\\tmpe08lnn1c\\assets\n"
     ]
    },
    {
     "name": "stderr",
     "output_type": "stream",
     "text": [
      "INFO:tensorflow:Assets written to: C:\\Users\\User\\AppData\\Local\\Temp\\tmpe08lnn1c\\assets\n"
     ]
    },
    {
     "name": "stdout",
     "output_type": "stream",
     "text": [
      "INFO:tensorflow:Assets written to: C:\\Users\\User\\AppData\\Local\\Temp\\tmpoyilqjy0\\assets\n"
     ]
    },
    {
     "name": "stderr",
     "output_type": "stream",
     "text": [
      "INFO:tensorflow:Assets written to: C:\\Users\\User\\AppData\\Local\\Temp\\tmpoyilqjy0\\assets\n"
     ]
    },
    {
     "ename": "KeyboardInterrupt",
     "evalue": "",
     "output_type": "error",
     "traceback": [
      "\u001b[1;31m---------------------------------------------------------------------------\u001b[0m",
      "\u001b[1;31mKeyboardInterrupt\u001b[0m                         Traceback (most recent call last)",
      "\u001b[1;32md:\\Thesis\\ANN Modelling.ipynb Cell 26\u001b[0m line \u001b[0;36m4\n\u001b[0;32m     <a href='vscode-notebook-cell:/d%3A/Thesis/ANN%20Modelling.ipynb#X31sZmlsZQ%3D%3D?line=37'>38</a>\u001b[0m callback \u001b[39m=\u001b[39m tf\u001b[39m.\u001b[39mkeras\u001b[39m.\u001b[39mcallbacks\u001b[39m.\u001b[39mModelCheckpoint(filepath\u001b[39m=\u001b[39mpath_checkpoint,\n\u001b[0;32m     <a href='vscode-notebook-cell:/d%3A/Thesis/ANN%20Modelling.ipynb#X31sZmlsZQ%3D%3D?line=38'>39</a>\u001b[0m                                              save_weights_only\u001b[39m=\u001b[39m\u001b[39mTrue\u001b[39;00m,\n\u001b[0;32m     <a href='vscode-notebook-cell:/d%3A/Thesis/ANN%20Modelling.ipynb#X31sZmlsZQ%3D%3D?line=39'>40</a>\u001b[0m                                              verbose\u001b[39m=\u001b[39m\u001b[39m1\u001b[39m)\n\u001b[0;32m     <a href='vscode-notebook-cell:/d%3A/Thesis/ANN%20Modelling.ipynb#X31sZmlsZQ%3D%3D?line=40'>41</a>\u001b[0m \u001b[39m#execute search\u001b[39;00m\n\u001b[1;32m---> <a href='vscode-notebook-cell:/d%3A/Thesis/ANN%20Modelling.ipynb#X31sZmlsZQ%3D%3D?line=41'>42</a>\u001b[0m gs\u001b[39m.\u001b[39;49mfit(X_train, y_train) \u001b[39m#fit ann model to data\u001b[39;00m\n\u001b[0;32m     <a href='vscode-notebook-cell:/d%3A/Thesis/ANN%20Modelling.ipynb#X31sZmlsZQ%3D%3D?line=42'>43</a>\u001b[0m \u001b[39mprint\u001b[39m(gs\u001b[39m.\u001b[39mbest_score_, gs\u001b[39m.\u001b[39mbest_params_)\n\u001b[0;32m     <a href='vscode-notebook-cell:/d%3A/Thesis/ANN%20Modelling.ipynb#X31sZmlsZQ%3D%3D?line=45'>46</a>\u001b[0m \u001b[39m# get the best performing model fit on the whole training set\u001b[39;00m\n",
      "File \u001b[1;32m~\\AppData\\Roaming\\Python\\Python311\\site-packages\\sklearn\\base.py:1152\u001b[0m, in \u001b[0;36m_fit_context.<locals>.decorator.<locals>.wrapper\u001b[1;34m(estimator, *args, **kwargs)\u001b[0m\n\u001b[0;32m   1145\u001b[0m     estimator\u001b[39m.\u001b[39m_validate_params()\n\u001b[0;32m   1147\u001b[0m \u001b[39mwith\u001b[39;00m config_context(\n\u001b[0;32m   1148\u001b[0m     skip_parameter_validation\u001b[39m=\u001b[39m(\n\u001b[0;32m   1149\u001b[0m         prefer_skip_nested_validation \u001b[39mor\u001b[39;00m global_skip_validation\n\u001b[0;32m   1150\u001b[0m     )\n\u001b[0;32m   1151\u001b[0m ):\n\u001b[1;32m-> 1152\u001b[0m     \u001b[39mreturn\u001b[39;00m fit_method(estimator, \u001b[39m*\u001b[39;49margs, \u001b[39m*\u001b[39;49m\u001b[39m*\u001b[39;49mkwargs)\n",
      "File \u001b[1;32m~\\AppData\\Roaming\\Python\\Python311\\site-packages\\sklearn\\model_selection\\_search.py:898\u001b[0m, in \u001b[0;36mBaseSearchCV.fit\u001b[1;34m(self, X, y, groups, **fit_params)\u001b[0m\n\u001b[0;32m    892\u001b[0m     results \u001b[39m=\u001b[39m \u001b[39mself\u001b[39m\u001b[39m.\u001b[39m_format_results(\n\u001b[0;32m    893\u001b[0m         all_candidate_params, n_splits, all_out, all_more_results\n\u001b[0;32m    894\u001b[0m     )\n\u001b[0;32m    896\u001b[0m     \u001b[39mreturn\u001b[39;00m results\n\u001b[1;32m--> 898\u001b[0m \u001b[39mself\u001b[39;49m\u001b[39m.\u001b[39;49m_run_search(evaluate_candidates)\n\u001b[0;32m    900\u001b[0m \u001b[39m# multimetric is determined here because in the case of a callable\u001b[39;00m\n\u001b[0;32m    901\u001b[0m \u001b[39m# self.scoring the return type is only known after calling\u001b[39;00m\n\u001b[0;32m    902\u001b[0m first_test_score \u001b[39m=\u001b[39m all_out[\u001b[39m0\u001b[39m][\u001b[39m\"\u001b[39m\u001b[39mtest_scores\u001b[39m\u001b[39m\"\u001b[39m]\n",
      "File \u001b[1;32m~\\AppData\\Roaming\\Python\\Python311\\site-packages\\sklearn\\model_selection\\_search.py:1422\u001b[0m, in \u001b[0;36mGridSearchCV._run_search\u001b[1;34m(self, evaluate_candidates)\u001b[0m\n\u001b[0;32m   1420\u001b[0m \u001b[39mdef\u001b[39;00m \u001b[39m_run_search\u001b[39m(\u001b[39mself\u001b[39m, evaluate_candidates):\n\u001b[0;32m   1421\u001b[0m \u001b[39m    \u001b[39m\u001b[39m\"\"\"Search all candidates in param_grid\"\"\"\u001b[39;00m\n\u001b[1;32m-> 1422\u001b[0m     evaluate_candidates(ParameterGrid(\u001b[39mself\u001b[39;49m\u001b[39m.\u001b[39;49mparam_grid))\n",
      "File \u001b[1;32m~\\AppData\\Roaming\\Python\\Python311\\site-packages\\sklearn\\model_selection\\_search.py:845\u001b[0m, in \u001b[0;36mBaseSearchCV.fit.<locals>.evaluate_candidates\u001b[1;34m(candidate_params, cv, more_results)\u001b[0m\n\u001b[0;32m    837\u001b[0m \u001b[39mif\u001b[39;00m \u001b[39mself\u001b[39m\u001b[39m.\u001b[39mverbose \u001b[39m>\u001b[39m \u001b[39m0\u001b[39m:\n\u001b[0;32m    838\u001b[0m     \u001b[39mprint\u001b[39m(\n\u001b[0;32m    839\u001b[0m         \u001b[39m\"\u001b[39m\u001b[39mFitting \u001b[39m\u001b[39m{0}\u001b[39;00m\u001b[39m folds for each of \u001b[39m\u001b[39m{1}\u001b[39;00m\u001b[39m candidates,\u001b[39m\u001b[39m\"\u001b[39m\n\u001b[0;32m    840\u001b[0m         \u001b[39m\"\u001b[39m\u001b[39m totalling \u001b[39m\u001b[39m{2}\u001b[39;00m\u001b[39m fits\u001b[39m\u001b[39m\"\u001b[39m\u001b[39m.\u001b[39mformat(\n\u001b[0;32m    841\u001b[0m             n_splits, n_candidates, n_candidates \u001b[39m*\u001b[39m n_splits\n\u001b[0;32m    842\u001b[0m         )\n\u001b[0;32m    843\u001b[0m     )\n\u001b[1;32m--> 845\u001b[0m out \u001b[39m=\u001b[39m parallel(\n\u001b[0;32m    846\u001b[0m     delayed(_fit_and_score)(\n\u001b[0;32m    847\u001b[0m         clone(base_estimator),\n\u001b[0;32m    848\u001b[0m         X,\n\u001b[0;32m    849\u001b[0m         y,\n\u001b[0;32m    850\u001b[0m         train\u001b[39m=\u001b[39;49mtrain,\n\u001b[0;32m    851\u001b[0m         test\u001b[39m=\u001b[39;49mtest,\n\u001b[0;32m    852\u001b[0m         parameters\u001b[39m=\u001b[39;49mparameters,\n\u001b[0;32m    853\u001b[0m         split_progress\u001b[39m=\u001b[39;49m(split_idx, n_splits),\n\u001b[0;32m    854\u001b[0m         candidate_progress\u001b[39m=\u001b[39;49m(cand_idx, n_candidates),\n\u001b[0;32m    855\u001b[0m         \u001b[39m*\u001b[39;49m\u001b[39m*\u001b[39;49mfit_and_score_kwargs,\n\u001b[0;32m    856\u001b[0m     )\n\u001b[0;32m    857\u001b[0m     \u001b[39mfor\u001b[39;49;00m (cand_idx, parameters), (split_idx, (train, test)) \u001b[39min\u001b[39;49;00m product(\n\u001b[0;32m    858\u001b[0m         \u001b[39menumerate\u001b[39;49m(candidate_params), \u001b[39menumerate\u001b[39;49m(cv\u001b[39m.\u001b[39;49msplit(X, y, groups))\n\u001b[0;32m    859\u001b[0m     )\n\u001b[0;32m    860\u001b[0m )\n\u001b[0;32m    862\u001b[0m \u001b[39mif\u001b[39;00m \u001b[39mlen\u001b[39m(out) \u001b[39m<\u001b[39m \u001b[39m1\u001b[39m:\n\u001b[0;32m    863\u001b[0m     \u001b[39mraise\u001b[39;00m \u001b[39mValueError\u001b[39;00m(\n\u001b[0;32m    864\u001b[0m         \u001b[39m\"\u001b[39m\u001b[39mNo fits were performed. \u001b[39m\u001b[39m\"\u001b[39m\n\u001b[0;32m    865\u001b[0m         \u001b[39m\"\u001b[39m\u001b[39mWas the CV iterator empty? \u001b[39m\u001b[39m\"\u001b[39m\n\u001b[0;32m    866\u001b[0m         \u001b[39m\"\u001b[39m\u001b[39mWere there no candidates?\u001b[39m\u001b[39m\"\u001b[39m\n\u001b[0;32m    867\u001b[0m     )\n",
      "File \u001b[1;32m~\\AppData\\Roaming\\Python\\Python311\\site-packages\\sklearn\\utils\\parallel.py:65\u001b[0m, in \u001b[0;36mParallel.__call__\u001b[1;34m(self, iterable)\u001b[0m\n\u001b[0;32m     60\u001b[0m config \u001b[39m=\u001b[39m get_config()\n\u001b[0;32m     61\u001b[0m iterable_with_config \u001b[39m=\u001b[39m (\n\u001b[0;32m     62\u001b[0m     (_with_config(delayed_func, config), args, kwargs)\n\u001b[0;32m     63\u001b[0m     \u001b[39mfor\u001b[39;00m delayed_func, args, kwargs \u001b[39min\u001b[39;00m iterable\n\u001b[0;32m     64\u001b[0m )\n\u001b[1;32m---> 65\u001b[0m \u001b[39mreturn\u001b[39;00m \u001b[39msuper\u001b[39;49m()\u001b[39m.\u001b[39;49m\u001b[39m__call__\u001b[39;49m(iterable_with_config)\n",
      "File \u001b[1;32m~\\AppData\\Roaming\\Python\\Python311\\site-packages\\joblib\\parallel.py:1944\u001b[0m, in \u001b[0;36mParallel.__call__\u001b[1;34m(self, iterable)\u001b[0m\n\u001b[0;32m   1938\u001b[0m \u001b[39m# The first item from the output is blank, but it makes the interpreter\u001b[39;00m\n\u001b[0;32m   1939\u001b[0m \u001b[39m# progress until it enters the Try/Except block of the generator and\u001b[39;00m\n\u001b[0;32m   1940\u001b[0m \u001b[39m# reach the first `yield` statement. This starts the aynchronous\u001b[39;00m\n\u001b[0;32m   1941\u001b[0m \u001b[39m# dispatch of the tasks to the workers.\u001b[39;00m\n\u001b[0;32m   1942\u001b[0m \u001b[39mnext\u001b[39m(output)\n\u001b[1;32m-> 1944\u001b[0m \u001b[39mreturn\u001b[39;00m output \u001b[39mif\u001b[39;00m \u001b[39mself\u001b[39m\u001b[39m.\u001b[39mreturn_generator \u001b[39melse\u001b[39;00m \u001b[39mlist\u001b[39m(output)\n",
      "File \u001b[1;32m~\\AppData\\Roaming\\Python\\Python311\\site-packages\\joblib\\parallel.py:1587\u001b[0m, in \u001b[0;36mParallel._get_outputs\u001b[1;34m(self, iterator, pre_dispatch)\u001b[0m\n\u001b[0;32m   1584\u001b[0m     \u001b[39myield\u001b[39;00m\n\u001b[0;32m   1586\u001b[0m     \u001b[39mwith\u001b[39;00m \u001b[39mself\u001b[39m\u001b[39m.\u001b[39m_backend\u001b[39m.\u001b[39mretrieval_context():\n\u001b[1;32m-> 1587\u001b[0m         \u001b[39myield from\u001b[39;00m \u001b[39mself\u001b[39m\u001b[39m.\u001b[39m_retrieve()\n\u001b[0;32m   1589\u001b[0m \u001b[39mexcept\u001b[39;00m \u001b[39mGeneratorExit\u001b[39;00m:\n\u001b[0;32m   1590\u001b[0m     \u001b[39m# The generator has been garbage collected before being fully\u001b[39;00m\n\u001b[0;32m   1591\u001b[0m     \u001b[39m# consumed. This aborts the remaining tasks if possible and warn\u001b[39;00m\n\u001b[0;32m   1592\u001b[0m     \u001b[39m# the user if necessary.\u001b[39;00m\n\u001b[0;32m   1593\u001b[0m     \u001b[39mself\u001b[39m\u001b[39m.\u001b[39m_exception \u001b[39m=\u001b[39m \u001b[39mTrue\u001b[39;00m\n",
      "File \u001b[1;32m~\\AppData\\Roaming\\Python\\Python311\\site-packages\\joblib\\parallel.py:1706\u001b[0m, in \u001b[0;36mParallel._retrieve\u001b[1;34m(self)\u001b[0m\n\u001b[0;32m   1702\u001b[0m \u001b[39m# We need to be careful: the job list can be filling up as\u001b[39;00m\n\u001b[0;32m   1703\u001b[0m \u001b[39m# we empty it and Python list are not thread-safe by\u001b[39;00m\n\u001b[0;32m   1704\u001b[0m \u001b[39m# default hence the use of the lock\u001b[39;00m\n\u001b[0;32m   1705\u001b[0m \u001b[39mwith\u001b[39;00m \u001b[39mself\u001b[39m\u001b[39m.\u001b[39m_lock:\n\u001b[1;32m-> 1706\u001b[0m     batched_results \u001b[39m=\u001b[39m \u001b[39mself\u001b[39m\u001b[39m.\u001b[39m_jobs\u001b[39m.\u001b[39mpopleft()\n\u001b[0;32m   1708\u001b[0m \u001b[39m# Flatten the batched results to output one output at a time\u001b[39;00m\n\u001b[0;32m   1709\u001b[0m batched_results \u001b[39m=\u001b[39m batched_results\u001b[39m.\u001b[39mget_result(\u001b[39mself\u001b[39m\u001b[39m.\u001b[39mtimeout)\n",
      "\u001b[1;31mKeyboardInterrupt\u001b[0m: "
     ]
    },
    {
     "name": "stdout",
     "output_type": "stream",
     "text": [
      "INFO:tensorflow:Assets written to: C:\\Users\\User\\AppData\\Local\\Temp\\tmp1u3obzt5\\assets\n"
     ]
    },
    {
     "name": "stderr",
     "output_type": "stream",
     "text": [
      "INFO:tensorflow:Assets written to: C:\\Users\\User\\AppData\\Local\\Temp\\tmp1u3obzt5\\assets\n"
     ]
    }
   ],
   "source": [
    "\n",
    "for train_index, test_index in kfold.split(X):\n",
    "    # split data\n",
    "\n",
    "    X_train, X_test = X.iloc[train_index], X.iloc[test_index]  # Predictors for train & test\n",
    "    y_train, y_test = y.iloc[train_index], y.iloc[test_index]  # Target for train, test\n",
    "\n",
    "    # scaling fetaure sets \n",
    "    scaler = StandardScaler()\n",
    "    X_train = scaler.fit_transform(X_train)\n",
    "    X_test = scaler.transform(X_test)\n",
    "\n",
    "    # configure the cross-validation procedure\n",
    "\n",
    "    #define model \n",
    "    mlr_model = MLR_Model(X_train,y_train) #perform MLR model \n",
    "    #vector = np.vectorize(np.int_)\n",
    "    #coef = vector(np.array(mlr_model.coef_))\n",
    "    ann_model = ANN_Model(list(mlr_model.coef_),mlr_model.intercept_) #Intercept and coeff of MLR will be initailzied as ANN weights\n",
    "    model = KerasRegressor(model=ann_model,\n",
    "                loss = 'mean_absolute_error',\n",
    "                optimizer= 'adam',\n",
    "                optimizer__lr=0.01,\n",
    "                model__units=(1,),\n",
    "                activation= 'relu',\n",
    "                epochs=500, \n",
    "                batch_size=32, \n",
    "                verbose=False)\n",
    "\n",
    "\n",
    "    \n",
    "    #define search \n",
    "    \n",
    "    gs=GridSearchCV(estimator = model, param_grid = param_grid,cv=cv_inner,n_jobs = -1,scoring  = 'r2',verbose =True) \n",
    "    \n",
    "    path_checkpoint = \"training_1/cp.ckpt\"\n",
    "    directory_checkpoint = os.path.dirname(path_checkpoint)\n",
    "\n",
    "    callback = tf.keras.callbacks.ModelCheckpoint(filepath=path_checkpoint,\n",
    "                                                 save_weights_only=True,\n",
    "                                                 verbose=1)\n",
    "    #execute search\n",
    "    gs.fit(X_train, y_train) #fit ann model to data\n",
    "    print(gs.best_score_, gs.best_params_)\n",
    "\n",
    "    \n",
    "    # get the best performing model fit on the whole training set\n",
    "    '''\n",
    "    print(f\"R2: {r2_score(y_test,y_pred)}\")#measure R-squared value\n",
    "    print(\"Best: %f using %s\" % (grid_result.best_score_, grid_result.best_params_))\n",
    "    '''\n"
   ]
  },
  {
   "cell_type": "code",
   "execution_count": null,
   "metadata": {},
   "outputs": [],
   "source": [
    "import sklearn"
   ]
  },
  {
   "cell_type": "code",
   "execution_count": null,
   "metadata": {},
   "outputs": [],
   "source": [
    "print('The scikit-learn version is {}.'.format(sklearn.__version__))"
   ]
  },
  {
   "cell_type": "code",
   "execution_count": null,
   "metadata": {},
   "outputs": [],
   "source": [
    "pip install keras==2.12.0"
   ]
  },
  {
   "cell_type": "code",
   "execution_count": 19,
   "metadata": {},
   "outputs": [
    {
     "name": "stdout",
     "output_type": "stream",
     "text": [
      "Defaulting to user installation because normal site-packages is not writeable\n",
      "Collecting scikeras\n",
      "  Downloading scikeras-0.12.0-py3-none-any.whl (27 kB)\n",
      "Requirement already satisfied: packaging>=0.21 in c:\\users\\user\\appdata\\roaming\\python\\python311\\site-packages (from scikeras) (23.1)\n",
      "Requirement already satisfied: scikit-learn>=1.0.0 in c:\\users\\user\\appdata\\roaming\\python\\python311\\site-packages (from scikeras) (1.3.2)\n",
      "Requirement already satisfied: tensorflow-io-gcs-filesystem<0.32,>=0.23.1 in c:\\users\\user\\appdata\\roaming\\python\\python311\\site-packages (from scikeras) (0.31.0)\n",
      "Requirement already satisfied: numpy<2.0,>=1.17.3 in c:\\users\\user\\appdata\\roaming\\python\\python311\\site-packages (from scikit-learn>=1.0.0->scikeras) (1.25.1)\n",
      "Requirement already satisfied: scipy>=1.5.0 in c:\\users\\user\\appdata\\roaming\\python\\python311\\site-packages (from scikit-learn>=1.0.0->scikeras) (1.11.1)\n",
      "Requirement already satisfied: joblib>=1.1.1 in c:\\users\\user\\appdata\\roaming\\python\\python311\\site-packages (from scikit-learn>=1.0.0->scikeras) (1.3.1)\n",
      "Requirement already satisfied: threadpoolctl>=2.0.0 in c:\\users\\user\\appdata\\roaming\\python\\python311\\site-packages (from scikit-learn>=1.0.0->scikeras) (3.2.0)\n",
      "Installing collected packages: scikeras\n",
      "Successfully installed scikeras-0.12.0\n",
      "Note: you may need to restart the kernel to use updated packages.\n"
     ]
    },
    {
     "name": "stderr",
     "output_type": "stream",
     "text": [
      "\n",
      "[notice] A new release of pip is available: 23.1.2 -> 23.3.1\n",
      "[notice] To update, run: python.exe -m pip install --upgrade pip\n"
     ]
    }
   ],
   "source": [
    "pip install scikeras"
   ]
  },
  {
   "cell_type": "code",
   "execution_count": null,
   "metadata": {},
   "outputs": [],
   "source": [
    "pip install --user -U scikit-learn==0.21.2"
   ]
  },
  {
   "cell_type": "markdown",
   "metadata": {},
   "source": [
    "### Traditional ANN\n",
    "This is working (no problems encountered sana oil)"
   ]
  },
  {
   "cell_type": "code",
   "execution_count": 71,
   "metadata": {},
   "outputs": [],
   "source": [
    "def Trad_ANN_Model (units = 1,learning_rate = 0.01,activation = 'relu'): \n",
    "    model = Sequential()\n",
    "    model.add(Input(shape = (X_train.shape[1],))) # number of input features \n",
    "    model.add(Dense(units=units, activation = activation)) # one neuron in hidden layer, relu activation\n",
    "    model.add(Dense(1,activation = 'linear')) # one neuron in output layer, linear activation\n",
    "\n",
    "    model.compile(loss='mean_absolute_error',optimizer=tf.keras.optimizers.Adam(learning_rate=learning_rate),metrics = [metrics.mean_absolute_error,tf.keras.metrics.RootMeanSquaredError()])\n",
    "    return model"
   ]
  },
  {
   "cell_type": "code",
   "execution_count": 74,
   "metadata": {},
   "outputs": [
    {
     "name": "stdout",
     "output_type": "stream",
     "text": [
      "3/3 [==============================] - 0s 4ms/step\n",
      "MAE: 0.3027212316654919\n",
      "R2: 0.1018365788484219\n",
      "RMSE: 0.3770531253363837\n",
      "Weights:[array([[-0.26072642],\n",
      "       [ 0.7375939 ],\n",
      "       [-2.3246753 ],\n",
      "       [ 1.0522021 ],\n",
      "       [-1.066334  ],\n",
      "       [-0.8947814 ],\n",
      "       [ 0.1784551 ],\n",
      "       [-0.22856286],\n",
      "       [-2.359577  ],\n",
      "       [-0.05769231],\n",
      "       [ 0.04867163],\n",
      "       [ 0.14839718],\n",
      "       [-0.16484109],\n",
      "       [-0.04613088],\n",
      "       [-0.14418076],\n",
      "       [ 0.16685432]], dtype=float32), array([-0.9466471], dtype=float32), array([[0.8673335]], dtype=float32), array([0.7078924], dtype=float32)]\n",
      "Intercept: 0.7947303437178834\n",
      "Coefficients: [(0.05313095918327541,), (-0.5476592649180987,), (-0.6118874643581756,), (0.5202472072796256,), (-0.22289618143232243,), (-0.1670847080613103,), (-0.057585813711760366,), (0.1319028051044666,), (-0.5155230783302909,), (-0.03155879655941255,), (0.04129673557420371,), (0.050837414804058415,), (0.1752598375244271,), (-0.013879427563714727,), (-0.06662433276261995,), (0.17177365826470045,)]\n",
      "3/3 [==============================] - 0s 0s/step\n",
      "MAE: 0.34432542235963687\n",
      "R2: 0.3524688418531565\n",
      "RMSE: 0.42897526370725414\n",
      "Weights:[array([[-0.31048515],\n",
      "       [ 0.00671655],\n",
      "       [-2.4617767 ],\n",
      "       [ 1.6095529 ],\n",
      "       [-0.82665575],\n",
      "       [-0.70064473],\n",
      "       [ 0.23992959],\n",
      "       [-0.08016597],\n",
      "       [-2.5219324 ],\n",
      "       [-0.11540672],\n",
      "       [ 0.06181201],\n",
      "       [ 0.03009498],\n",
      "       [-0.10372223],\n",
      "       [-0.05686684],\n",
      "       [-0.30300716],\n",
      "       [ 0.02979248]], dtype=float32), array([-0.7723428], dtype=float32), array([[1.1753508]], dtype=float32), array([0.6957918], dtype=float32)]\n",
      "Intercept: 0.7921671186406988\n",
      "Coefficients: [(0.041636293634991814,), (-0.5939554316899117,), (-0.5653681469865415,), (0.49985836585755916,), (-0.19360555742001145,), (-0.16052695321309846,), (-0.051852551180919054,), (0.08392060338577531,), (-0.4417155460891814,), (-0.04185246902350035,), (0.0449732882101354,), (0.03374972915200331,), (0.23378844412277475,), (-0.020994866812323515,), (-0.04371862628156871,), (0.16523079276822603,)]\n",
      "3/3 [==============================] - 0s 8ms/step\n",
      "MAE: 0.40355442561002003\n",
      "R2: 0.04059253267399632\n",
      "RMSE: 0.5742718857121574\n",
      "Weights:[array([[-0.3247262 ],\n",
      "       [ 0.6975556 ],\n",
      "       [ 0.76082295],\n",
      "       [ 1.30186   ],\n",
      "       [ 0.6421133 ],\n",
      "       [ 0.2839565 ],\n",
      "       [ 0.24271616],\n",
      "       [ 0.11896894],\n",
      "       [ 0.46282881],\n",
      "       [ 0.18107016],\n",
      "       [ 0.16287446],\n",
      "       [-0.16851181],\n",
      "       [-2.186578  ],\n",
      "       [-0.20492494],\n",
      "       [ 0.9849127 ],\n",
      "       [ 0.15856098]], dtype=float32), array([-0.3717827], dtype=float32), array([[-0.32935834]], dtype=float32), array([0.8857138], dtype=float32)]\n",
      "Intercept: 0.7787810598844942\n",
      "Coefficients: [(0.06461674844760547,), (-0.042638344299689726,), (-0.5394960525488881,), (0.12102853153010587,), (-0.2250435590032723,), (-0.16048125623908566,), (-0.06624571852217283,), (0.13792626949319026,), (-0.5931419017033882,), (-0.03368198455376672,), (0.03181383538097587,), (0.049192232752616756,), (0.12801116868744278,), (-0.012471011513176158,), (-0.09796256823536276,), (0.15467886917586687,)]\n",
      "3/3 [==============================] - 0s 4ms/step\n",
      "MAE: 0.3119685434364683\n",
      "R2: 0.34737433310801424\n",
      "RMSE: 0.40130679192303736\n",
      "Weights:[array([[ 4.1520555e-02],\n",
      "       [ 9.5393890e-01],\n",
      "       [-2.5709887e+00],\n",
      "       [ 1.0716258e+00],\n",
      "       [-8.8625777e-01],\n",
      "       [-1.2390594e+00],\n",
      "       [ 2.1480420e-01],\n",
      "       [-2.3907246e-01],\n",
      "       [-2.6666226e+00],\n",
      "       [-3.3592671e-02],\n",
      "       [ 6.5068882e-03],\n",
      "       [ 2.1982269e-01],\n",
      "       [ 1.4778620e-01],\n",
      "       [ 1.6885716e-04],\n",
      "       [-4.6873640e-02],\n",
      "       [ 4.9448609e-02]], dtype=float32), array([-0.99161667], dtype=float32), array([[1.0667262]], dtype=float32), array([0.7244626], dtype=float32)]\n",
      "Intercept: 0.7832437195546447\n",
      "Coefficients: [(0.059624294009625343,), (-0.10791652326523199,), (-0.5992678790721023,), (0.13420429551655494,), (-0.2187563079605974,), (-0.16775847651370374,), (-0.05464964870954053,), (0.10001745417909522,), (-0.6355917948938031,), (-0.03777914892418486,), (0.02652191993350093,), (0.04528712479096941,), (0.2206034954227648,), (0.002366449891311828,), (-0.05549282544298184,), (0.1622868959787362,)]\n",
      "3/3 [==============================] - 0s 0s/step\n",
      "MAE: 0.29140135970170555\n",
      "R2: 0.48349262862820297\n",
      "RMSE: 0.3482675449237224\n",
      "Weights:[array([[ 0.03670497],\n",
      "       [ 0.7237771 ],\n",
      "       [-2.0974407 ],\n",
      "       [ 0.25936836],\n",
      "       [-1.5160862 ],\n",
      "       [-0.94258773],\n",
      "       [-0.05059309],\n",
      "       [ 0.03206686],\n",
      "       [-2.7964735 ],\n",
      "       [ 0.15557891],\n",
      "       [ 0.03259607],\n",
      "       [ 0.07134965],\n",
      "       [ 0.69838154],\n",
      "       [-0.01751135],\n",
      "       [-0.5490129 ],\n",
      "       [-0.05976082]], dtype=float32), array([-1.0325038], dtype=float32), array([[1.0670521]], dtype=float32), array([0.7027385], dtype=float32)]\n",
      "Intercept: 0.785783542878088\n",
      "Coefficients: [(0.058361568928427095,), (-0.41310892279588307,), (-0.5426222523228036,), (0.35519185579946216,), (-0.21609291235392658,), (-0.1624998530517678,), (-0.06261956960022569,), (0.08651170118233029,), (-0.481345085573352,), (-0.038914730357308275,), (0.03251615678814056,), (0.04699756769735271,), (0.22043289872244853,), (-0.017154528781414085,), (-0.04963827568509663,), (0.15155289453238263,)]\n",
      "3/3 [==============================] - 0s 4ms/step\n",
      "MAE: 0.2882095907883026\n",
      "R2: 0.42145129750822363\n",
      "RMSE: 0.3548707505354486\n",
      "Weights:[array([[-0.26463687],\n",
      "       [ 0.6497524 ],\n",
      "       [-2.4329276 ],\n",
      "       [ 1.0589572 ],\n",
      "       [-0.71447426],\n",
      "       [-1.0178732 ],\n",
      "       [ 0.2310131 ],\n",
      "       [-0.16341257],\n",
      "       [-2.5126326 ],\n",
      "       [-0.04139403],\n",
      "       [ 0.05878726],\n",
      "       [ 0.17106853],\n",
      "       [ 0.12945472],\n",
      "       [ 0.00909807],\n",
      "       [-0.07623904],\n",
      "       [ 0.11963282]], dtype=float32), array([-0.92954093], dtype=float32), array([[1.0814909]], dtype=float32), array([0.7149685], dtype=float32)]\n",
      "Intercept: 0.7832752688573161\n",
      "Coefficients: [(0.04925283527007514,), (-0.28234090449718224,), (-0.6726627537721801,), (0.2978757910308459,), (-0.2072234543506355,), (-0.1723573619525859,), (-0.06088223799873116,), (0.1299771386036059,), (-0.6743392701617714,), (-0.04458112973381156,), (0.038580314299177895,), (0.040058511959552366,), (0.2309974566932225,), (0.004212705367224813,), (-0.08833832966171477,), (0.1531245111119911,)]\n",
      "3/3 [==============================] - 0s 4ms/step\n",
      "MAE: 0.3746107114319602\n",
      "R2: 0.12033095864343224\n",
      "RMSE: 0.5121266584003875\n",
      "Weights:[array([[ 0.18438417],\n",
      "       [-0.48914957],\n",
      "       [-0.93834126],\n",
      "       [ 0.22079426],\n",
      "       [-0.67467695],\n",
      "       [-0.43693915],\n",
      "       [ 2.4043715 ],\n",
      "       [ 0.0385847 ],\n",
      "       [-0.91801524],\n",
      "       [-0.36703026],\n",
      "       [ 0.248224  ],\n",
      "       [ 0.19845757],\n",
      "       [ 0.41950607],\n",
      "       [-0.15772274],\n",
      "       [-0.14097215],\n",
      "       [ 0.5682982 ]], dtype=float32), array([2.1797318], dtype=float32), array([[0.25865048]], dtype=float32), array([0.13480298], dtype=float32)]\n",
      "Intercept: 0.7858883367994505\n",
      "Coefficients: [(0.04430125921259815,), (-0.4101852910450203,), (-0.6343887819587025,), (0.36070913333610966,), (-0.19974277924170286,), (-0.14942649316763051,), (-0.052189048083713205,), (0.10558852943571365,), (-0.5914929159548987,), (-0.052534947576865415,), (0.030875192152996125,), (0.031309133537699256,), (0.24654242377988023,), (-0.011420676158475071,), (-0.057795797624617916,), (0.1676952482718742,)]\n",
      "3/3 [==============================] - 0s 4ms/step\n",
      "MAE: 0.3174838130948887\n",
      "R2: 0.18297240350844035\n",
      "RMSE: 0.4474570470181739\n",
      "Weights:[array([[-2.0518208 ],\n",
      "       [ 0.225852  ],\n",
      "       [-0.25253123],\n",
      "       [-0.025976  ],\n",
      "       [ 0.67640287],\n",
      "       [-0.333306  ],\n",
      "       [ 0.2753093 ],\n",
      "       [-0.12972295],\n",
      "       [-0.47124007],\n",
      "       [ 0.39347947],\n",
      "       [ 0.32622683],\n",
      "       [-0.59889907],\n",
      "       [ 0.36773568],\n",
      "       [ 0.53957534],\n",
      "       [-0.39581233],\n",
      "       [-1.3434677 ]], dtype=float32), array([0.18634455], dtype=float32), array([[-0.21315463]], dtype=float32), array([0.93834394], dtype=float32)]\n",
      "Intercept: 0.7830683148068712\n",
      "Coefficients: [(0.0473399482874415,), (-0.08106674597665338,), (-0.6149532603397763,), (0.10172925400287613,), (-0.20644897656761987,), (-0.14371154430032287,), (-0.06147285625835581,), (0.10251449649812484,), (-0.6648205229593109,), (-0.047912611098928366,), (0.020679257219249465,), (0.04852363910176107,), (0.21410954677058647,), (2.0874965279443335e-05,), (-0.050969652339114546,), (0.16420115693509177,)]\n",
      "3/3 [==============================] - 0s 0s/step\n",
      "MAE: 0.3275307013264813\n",
      "R2: 0.1285994954810704\n",
      "RMSE: 0.46784992871253933\n",
      "Weights:[array([[-0.19769469],\n",
      "       [ 0.5579971 ],\n",
      "       [-0.94581646],\n",
      "       [ 0.9525959 ],\n",
      "       [ 0.80774856],\n",
      "       [ 1.131884  ],\n",
      "       [ 0.13296463],\n",
      "       [-0.3808517 ],\n",
      "       [-0.7925866 ],\n",
      "       [ 0.39908078],\n",
      "       [-0.38542414],\n",
      "       [-0.43429103],\n",
      "       [-1.1144611 ],\n",
      "       [ 0.3376929 ],\n",
      "       [ 1.0905807 ],\n",
      "       [-0.18634556]], dtype=float32), array([0.4850257], dtype=float32), array([[-0.19166574]], dtype=float32), array([0.9156463], dtype=float32)]\n",
      "Intercept: 0.7884443717336972\n",
      "Coefficients: [(0.04418650852725227,), (-0.07411117743022766,), (-0.6039556806912658,), (0.09673066219433751,), (-0.21336931669290535,), (-0.1659586334761853,), (-0.06121835426864825,), (0.14797696998876256,), (-0.6706682719581559,), (-0.03287515289856359,), (0.028459930855864464,), (0.05355023160055283,), (0.21857833594157092,), (0.0020143193109976735,), (-0.10080652336329692,), (0.15550110528205707,)]\n",
      "3/3 [==============================] - 0s 4ms/step\n",
      "MAE: 0.28970071609012704\n",
      "R2: 0.3022137204975561\n",
      "RMSE: 0.36611393223680905\n",
      "Weights:[array([[ 0.17271002],\n",
      "       [ 0.03996569],\n",
      "       [-0.49926373],\n",
      "       [-0.4004718 ],\n",
      "       [-0.7922072 ],\n",
      "       [-0.49351692],\n",
      "       [-0.27061942],\n",
      "       [ 0.1264679 ],\n",
      "       [-0.6424495 ],\n",
      "       [-0.2115979 ],\n",
      "       [ 0.3305099 ],\n",
      "       [ 0.27492884],\n",
      "       [ 0.46325523],\n",
      "       [-0.04306565],\n",
      "       [-0.24145357],\n",
      "       [ 0.5852123 ]], dtype=float32), array([2.3632994], dtype=float32), array([[0.26722777]], dtype=float32), array([0.11743782], dtype=float32)]\n",
      "Intercept: 0.7993110238195139\n",
      "Coefficients: [(0.050183890158351084,), (-0.10249660433211438,), (-0.5562857951613975,), (0.12515262158510204,), (-0.22716082834136964,), (-0.17227118332856978,), (-0.05355815978648256,), (0.13100838353423738,), (-0.6143075391915879,), (-0.03345969300742491,), (0.03507779046620633,), (0.045441785962000575,), (0.2031138027318804,), (-0.011221081512600359,), (-0.08390886440088595,), (0.1618567795347195,)]\n",
      "Execution time: 286.14505529403687 seconds\n"
     ]
    }
   ],
   "source": [
    "start_time = time.time()\n",
    "\n",
    "#initializing KFold object\n",
    "kfold = KFold(n_splits=10,shuffle=True, random_state=42)\n",
    "mae_scores = []\n",
    "r2_scores = []\n",
    "\n",
    "for train_index, test_index in kfold.split(X):\n",
    "    X_train, X_test = X.iloc[train_index], X.iloc[test_index]  # Predictors for train & test\n",
    "    y_train, y_test = y.iloc[train_index], y.iloc[test_index]  # Target for train, test\n",
    "\n",
    "    # scaling fetaure sets \n",
    "    scaler = StandardScaler()\n",
    "    X_train = scaler.fit_transform(X_train)\n",
    "    X_test = scaler.transform(X_test)\n",
    "\n",
    "    mlr_model = MLR_Model(X_train,y_train) #perform MLR\n",
    "    ann_model = Trad_ANN_Model() #Intercept and coeff of MLR will be initailzied as ANN weights\n",
    "    ann_model.fit(X_train, y_train, epochs=500, batch_size=32, verbose=0) #fit ann model to data\n",
    "    y_pred = ann_model.predict(X_test) #use ann model to predict test set\n",
    "    print(f\"MAE: { mean_absolute_error(y_test, y_pred)}\")  #measure mean absolute value\n",
    "    print(f\"R2: {r2_score(y_test,y_pred)}\")#measure R-squared value\n",
    "    print(f\"RMSE: {np.sqrt(mean_squared_error(y_test, y_pred))}\")\n",
    "    print(f\"Weights:{ann_model.get_weights()}\")\n",
    "    print(f\"Intercept: {mlr_model.intercept_}\")\n",
    "    print(f\"Coefficients: {list(zip(mlr_model.coef_))}\")\n",
    "\n",
    "end_time = time.time()\n",
    "execution_time = end_time - start_time\n",
    "print(f\"Execution time: {execution_time} seconds\")"
   ]
  }
 ],
 "metadata": {
  "kernelspec": {
   "display_name": "Python 3",
   "language": "python",
   "name": "python3"
  },
  "language_info": {
   "codemirror_mode": {
    "name": "ipython",
    "version": 3
   },
   "file_extension": ".py",
   "mimetype": "text/x-python",
   "name": "python",
   "nbconvert_exporter": "python",
   "pygments_lexer": "ipython3",
   "version": "3.11.6"
  }
 },
 "nbformat": 4,
 "nbformat_minor": 2
}
