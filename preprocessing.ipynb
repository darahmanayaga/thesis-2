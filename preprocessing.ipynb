{
 "cells": [
  {
   "cell_type": "markdown",
   "metadata": {},
   "source": [
    "## Test for Normality\n",
    "\n",
    "- Automatically not normal since there is a categorical data type column (weathercode (wmo code))"
   ]
  },
  {
   "cell_type": "code",
   "execution_count": 1,
   "metadata": {},
   "outputs": [],
   "source": [
    "import numpy as np\n",
    "import pandas as pd\n",
    "import matplotlib.pyplot as plt\n",
    "import seaborn as sns"
   ]
  },
  {
   "cell_type": "code",
   "execution_count": 2,
   "metadata": {},
   "outputs": [],
   "source": [
    "df = pd.read_csv('Yield_Weather.csv')\n",
    "df = df.drop(columns=['Unnamed: 0'])"
   ]
  },
  {
   "cell_type": "code",
   "execution_count": 3,
   "metadata": {},
   "outputs": [
    {
     "data": {
      "text/html": [
       "<div>\n",
       "<style scoped>\n",
       "    .dataframe tbody tr th:only-of-type {\n",
       "        vertical-align: middle;\n",
       "    }\n",
       "\n",
       "    .dataframe tbody tr th {\n",
       "        vertical-align: top;\n",
       "    }\n",
       "\n",
       "    .dataframe thead th {\n",
       "        text-align: right;\n",
       "    }\n",
       "</style>\n",
       "<table border=\"1\" class=\"dataframe\">\n",
       "  <thead>\n",
       "    <tr style=\"text-align: right;\">\n",
       "      <th></th>\n",
       "      <th>Year</th>\n",
       "      <th>Location</th>\n",
       "      <th>Production (mt)</th>\n",
       "      <th>Area (ha)</th>\n",
       "      <th>Yield (mt/ha)</th>\n",
       "      <th>weathercode (wmo code)</th>\n",
       "      <th>temperature_2m (°C)</th>\n",
       "      <th>relativehumidity_2m (%)</th>\n",
       "      <th>dewpoint_2m (°C)</th>\n",
       "      <th>rain (mm)</th>\n",
       "      <th>...</th>\n",
       "      <th>cloudcover (%)</th>\n",
       "      <th>et0_fao_evapotranspiration (mm)</th>\n",
       "      <th>vapor_pressure_deficit (kPa)</th>\n",
       "      <th>windspeed_10m (km/h)</th>\n",
       "      <th>winddirection_10m (°)</th>\n",
       "      <th>windgusts_10m (km/h)</th>\n",
       "      <th>soil_temperature_28_to_100cm (°C)</th>\n",
       "      <th>soil_moisture_28_to_100cm (m³/m³)</th>\n",
       "      <th>direct_radiation (W/m²)</th>\n",
       "      <th>diffuse_radiation (W/m²)</th>\n",
       "    </tr>\n",
       "  </thead>\n",
       "  <tbody>\n",
       "    <tr>\n",
       "      <th>0</th>\n",
       "      <td>1990</td>\n",
       "      <td>ZAMBOANGA DEL NORTE</td>\n",
       "      <td>41.14</td>\n",
       "      <td>91.0</td>\n",
       "      <td>0.452088</td>\n",
       "      <td>3</td>\n",
       "      <td>23.486279</td>\n",
       "      <td>86.200457</td>\n",
       "      <td>20.899235</td>\n",
       "      <td>0.365126</td>\n",
       "      <td>...</td>\n",
       "      <td>70.154680</td>\n",
       "      <td>0.153233</td>\n",
       "      <td>0.435739</td>\n",
       "      <td>6.732808</td>\n",
       "      <td>144.312329</td>\n",
       "      <td>19.894932</td>\n",
       "      <td>25.227021</td>\n",
       "      <td>0.401853</td>\n",
       "      <td>151.119064</td>\n",
       "      <td>70.720548</td>\n",
       "    </tr>\n",
       "    <tr>\n",
       "      <th>1</th>\n",
       "      <td>1991</td>\n",
       "      <td>ZAMBOANGA DEL NORTE</td>\n",
       "      <td>53.28</td>\n",
       "      <td>108.0</td>\n",
       "      <td>0.493333</td>\n",
       "      <td>3</td>\n",
       "      <td>23.378607</td>\n",
       "      <td>86.403995</td>\n",
       "      <td>20.856210</td>\n",
       "      <td>0.292443</td>\n",
       "      <td>...</td>\n",
       "      <td>71.524658</td>\n",
       "      <td>0.153091</td>\n",
       "      <td>0.422427</td>\n",
       "      <td>6.505616</td>\n",
       "      <td>138.691096</td>\n",
       "      <td>19.141393</td>\n",
       "      <td>25.074669</td>\n",
       "      <td>0.404063</td>\n",
       "      <td>147.845890</td>\n",
       "      <td>75.080251</td>\n",
       "    </tr>\n",
       "    <tr>\n",
       "      <th>2</th>\n",
       "      <td>1992</td>\n",
       "      <td>ZAMBOANGA DEL NORTE</td>\n",
       "      <td>71.34</td>\n",
       "      <td>114.0</td>\n",
       "      <td>0.625789</td>\n",
       "      <td>3</td>\n",
       "      <td>23.253153</td>\n",
       "      <td>86.111225</td>\n",
       "      <td>20.664014</td>\n",
       "      <td>0.320560</td>\n",
       "      <td>...</td>\n",
       "      <td>66.843010</td>\n",
       "      <td>0.154016</td>\n",
       "      <td>0.430523</td>\n",
       "      <td>5.957605</td>\n",
       "      <td>143.278233</td>\n",
       "      <td>18.114481</td>\n",
       "      <td>25.086202</td>\n",
       "      <td>0.399902</td>\n",
       "      <td>149.374203</td>\n",
       "      <td>74.632628</td>\n",
       "    </tr>\n",
       "    <tr>\n",
       "      <th>3</th>\n",
       "      <td>1993</td>\n",
       "      <td>ZAMBOANGA DEL NORTE</td>\n",
       "      <td>78.88</td>\n",
       "      <td>123.0</td>\n",
       "      <td>0.641301</td>\n",
       "      <td>3</td>\n",
       "      <td>23.086187</td>\n",
       "      <td>88.171575</td>\n",
       "      <td>20.931313</td>\n",
       "      <td>0.413082</td>\n",
       "      <td>...</td>\n",
       "      <td>72.979110</td>\n",
       "      <td>0.147360</td>\n",
       "      <td>0.360022</td>\n",
       "      <td>5.702637</td>\n",
       "      <td>151.702854</td>\n",
       "      <td>17.351541</td>\n",
       "      <td>24.700765</td>\n",
       "      <td>0.450554</td>\n",
       "      <td>141.238014</td>\n",
       "      <td>75.799315</td>\n",
       "    </tr>\n",
       "    <tr>\n",
       "      <th>4</th>\n",
       "      <td>1994</td>\n",
       "      <td>ZAMBOANGA DEL NORTE</td>\n",
       "      <td>85.71</td>\n",
       "      <td>128.0</td>\n",
       "      <td>0.669609</td>\n",
       "      <td>3</td>\n",
       "      <td>23.100217</td>\n",
       "      <td>88.401142</td>\n",
       "      <td>20.990674</td>\n",
       "      <td>0.391427</td>\n",
       "      <td>...</td>\n",
       "      <td>76.482534</td>\n",
       "      <td>0.144709</td>\n",
       "      <td>0.352926</td>\n",
       "      <td>5.919954</td>\n",
       "      <td>154.063813</td>\n",
       "      <td>18.403128</td>\n",
       "      <td>24.679966</td>\n",
       "      <td>0.438253</td>\n",
       "      <td>139.645320</td>\n",
       "      <td>73.633562</td>\n",
       "    </tr>\n",
       "    <tr>\n",
       "      <th>...</th>\n",
       "      <td>...</td>\n",
       "      <td>...</td>\n",
       "      <td>...</td>\n",
       "      <td>...</td>\n",
       "      <td>...</td>\n",
       "      <td>...</td>\n",
       "      <td>...</td>\n",
       "      <td>...</td>\n",
       "      <td>...</td>\n",
       "      <td>...</td>\n",
       "      <td>...</td>\n",
       "      <td>...</td>\n",
       "      <td>...</td>\n",
       "      <td>...</td>\n",
       "      <td>...</td>\n",
       "      <td>...</td>\n",
       "      <td>...</td>\n",
       "      <td>...</td>\n",
       "      <td>...</td>\n",
       "      <td>...</td>\n",
       "      <td>...</td>\n",
       "    </tr>\n",
       "    <tr>\n",
       "      <th>952</th>\n",
       "      <td>2018</td>\n",
       "      <td>TAWI-TAWI</td>\n",
       "      <td>0.00</td>\n",
       "      <td>0.0</td>\n",
       "      <td>NaN</td>\n",
       "      <td>1</td>\n",
       "      <td>25.101781</td>\n",
       "      <td>81.959703</td>\n",
       "      <td>21.787637</td>\n",
       "      <td>0.180468</td>\n",
       "      <td>...</td>\n",
       "      <td>43.909932</td>\n",
       "      <td>0.164605</td>\n",
       "      <td>0.577837</td>\n",
       "      <td>13.415742</td>\n",
       "      <td>174.348288</td>\n",
       "      <td>21.051290</td>\n",
       "      <td>26.616324</td>\n",
       "      <td>0.000000</td>\n",
       "      <td>164.635959</td>\n",
       "      <td>71.210502</td>\n",
       "    </tr>\n",
       "    <tr>\n",
       "      <th>953</th>\n",
       "      <td>2019</td>\n",
       "      <td>TAWI-TAWI</td>\n",
       "      <td>0.00</td>\n",
       "      <td>0.0</td>\n",
       "      <td>NaN</td>\n",
       "      <td>1</td>\n",
       "      <td>25.174361</td>\n",
       "      <td>81.307420</td>\n",
       "      <td>21.708082</td>\n",
       "      <td>0.107192</td>\n",
       "      <td>...</td>\n",
       "      <td>36.225799</td>\n",
       "      <td>0.174063</td>\n",
       "      <td>0.600727</td>\n",
       "      <td>13.434920</td>\n",
       "      <td>150.258790</td>\n",
       "      <td>20.562249</td>\n",
       "      <td>26.571689</td>\n",
       "      <td>0.000000</td>\n",
       "      <td>184.635274</td>\n",
       "      <td>65.579452</td>\n",
       "    </tr>\n",
       "    <tr>\n",
       "      <th>954</th>\n",
       "      <td>2020</td>\n",
       "      <td>TAWI-TAWI</td>\n",
       "      <td>0.00</td>\n",
       "      <td>0.0</td>\n",
       "      <td>NaN</td>\n",
       "      <td>1</td>\n",
       "      <td>25.272291</td>\n",
       "      <td>80.921790</td>\n",
       "      <td>21.740745</td>\n",
       "      <td>0.174499</td>\n",
       "      <td>...</td>\n",
       "      <td>43.682491</td>\n",
       "      <td>0.165880</td>\n",
       "      <td>0.617793</td>\n",
       "      <td>12.067725</td>\n",
       "      <td>143.826617</td>\n",
       "      <td>19.564526</td>\n",
       "      <td>26.978802</td>\n",
       "      <td>0.000000</td>\n",
       "      <td>165.257628</td>\n",
       "      <td>68.485087</td>\n",
       "    </tr>\n",
       "    <tr>\n",
       "      <th>955</th>\n",
       "      <td>2021</td>\n",
       "      <td>TAWI-TAWI</td>\n",
       "      <td>0.00</td>\n",
       "      <td>0.0</td>\n",
       "      <td>NaN</td>\n",
       "      <td>1</td>\n",
       "      <td>25.110696</td>\n",
       "      <td>81.587671</td>\n",
       "      <td>21.717591</td>\n",
       "      <td>0.244247</td>\n",
       "      <td>...</td>\n",
       "      <td>47.829110</td>\n",
       "      <td>0.159237</td>\n",
       "      <td>0.591193</td>\n",
       "      <td>12.753904</td>\n",
       "      <td>179.280365</td>\n",
       "      <td>20.301929</td>\n",
       "      <td>26.899030</td>\n",
       "      <td>0.000000</td>\n",
       "      <td>150.401142</td>\n",
       "      <td>73.859817</td>\n",
       "    </tr>\n",
       "    <tr>\n",
       "      <th>956</th>\n",
       "      <td>2022</td>\n",
       "      <td>TAWI-TAWI</td>\n",
       "      <td>0.00</td>\n",
       "      <td>0.0</td>\n",
       "      <td>NaN</td>\n",
       "      <td>51</td>\n",
       "      <td>25.006564</td>\n",
       "      <td>81.811986</td>\n",
       "      <td>21.663824</td>\n",
       "      <td>0.265457</td>\n",
       "      <td>...</td>\n",
       "      <td>50.471461</td>\n",
       "      <td>0.156398</td>\n",
       "      <td>0.580019</td>\n",
       "      <td>11.906050</td>\n",
       "      <td>189.228539</td>\n",
       "      <td>18.717454</td>\n",
       "      <td>26.713881</td>\n",
       "      <td>0.000000</td>\n",
       "      <td>145.631735</td>\n",
       "      <td>75.376826</td>\n",
       "    </tr>\n",
       "  </tbody>\n",
       "</table>\n",
       "<p>957 rows × 21 columns</p>\n",
       "</div>"
      ],
      "text/plain": [
       "     Year             Location  Production (mt)  Area (ha)  Yield (mt/ha)  \\\n",
       "0    1990  ZAMBOANGA DEL NORTE            41.14       91.0       0.452088   \n",
       "1    1991  ZAMBOANGA DEL NORTE            53.28      108.0       0.493333   \n",
       "2    1992  ZAMBOANGA DEL NORTE            71.34      114.0       0.625789   \n",
       "3    1993  ZAMBOANGA DEL NORTE            78.88      123.0       0.641301   \n",
       "4    1994  ZAMBOANGA DEL NORTE            85.71      128.0       0.669609   \n",
       "..    ...                  ...              ...        ...            ...   \n",
       "952  2018            TAWI-TAWI             0.00        0.0            NaN   \n",
       "953  2019            TAWI-TAWI             0.00        0.0            NaN   \n",
       "954  2020            TAWI-TAWI             0.00        0.0            NaN   \n",
       "955  2021            TAWI-TAWI             0.00        0.0            NaN   \n",
       "956  2022            TAWI-TAWI             0.00        0.0            NaN   \n",
       "\n",
       "    weathercode (wmo code)  temperature_2m (°C)  relativehumidity_2m (%)  \\\n",
       "0                        3            23.486279                86.200457   \n",
       "1                        3            23.378607                86.403995   \n",
       "2                        3            23.253153                86.111225   \n",
       "3                        3            23.086187                88.171575   \n",
       "4                        3            23.100217                88.401142   \n",
       "..                     ...                  ...                      ...   \n",
       "952                      1            25.101781                81.959703   \n",
       "953                      1            25.174361                81.307420   \n",
       "954                      1            25.272291                80.921790   \n",
       "955                      1            25.110696                81.587671   \n",
       "956                     51            25.006564                81.811986   \n",
       "\n",
       "     dewpoint_2m (°C)  rain (mm)  ...  cloudcover (%)  \\\n",
       "0           20.899235   0.365126  ...       70.154680   \n",
       "1           20.856210   0.292443  ...       71.524658   \n",
       "2           20.664014   0.320560  ...       66.843010   \n",
       "3           20.931313   0.413082  ...       72.979110   \n",
       "4           20.990674   0.391427  ...       76.482534   \n",
       "..                ...        ...  ...             ...   \n",
       "952         21.787637   0.180468  ...       43.909932   \n",
       "953         21.708082   0.107192  ...       36.225799   \n",
       "954         21.740745   0.174499  ...       43.682491   \n",
       "955         21.717591   0.244247  ...       47.829110   \n",
       "956         21.663824   0.265457  ...       50.471461   \n",
       "\n",
       "     et0_fao_evapotranspiration (mm)  vapor_pressure_deficit (kPa)  \\\n",
       "0                           0.153233                      0.435739   \n",
       "1                           0.153091                      0.422427   \n",
       "2                           0.154016                      0.430523   \n",
       "3                           0.147360                      0.360022   \n",
       "4                           0.144709                      0.352926   \n",
       "..                               ...                           ...   \n",
       "952                         0.164605                      0.577837   \n",
       "953                         0.174063                      0.600727   \n",
       "954                         0.165880                      0.617793   \n",
       "955                         0.159237                      0.591193   \n",
       "956                         0.156398                      0.580019   \n",
       "\n",
       "     windspeed_10m (km/h)  winddirection_10m (°)  windgusts_10m (km/h)  \\\n",
       "0                6.732808             144.312329             19.894932   \n",
       "1                6.505616             138.691096             19.141393   \n",
       "2                5.957605             143.278233             18.114481   \n",
       "3                5.702637             151.702854             17.351541   \n",
       "4                5.919954             154.063813             18.403128   \n",
       "..                    ...                    ...                   ...   \n",
       "952             13.415742             174.348288             21.051290   \n",
       "953             13.434920             150.258790             20.562249   \n",
       "954             12.067725             143.826617             19.564526   \n",
       "955             12.753904             179.280365             20.301929   \n",
       "956             11.906050             189.228539             18.717454   \n",
       "\n",
       "     soil_temperature_28_to_100cm (°C)  soil_moisture_28_to_100cm (m³/m³)  \\\n",
       "0                            25.227021                           0.401853   \n",
       "1                            25.074669                           0.404063   \n",
       "2                            25.086202                           0.399902   \n",
       "3                            24.700765                           0.450554   \n",
       "4                            24.679966                           0.438253   \n",
       "..                                 ...                                ...   \n",
       "952                          26.616324                           0.000000   \n",
       "953                          26.571689                           0.000000   \n",
       "954                          26.978802                           0.000000   \n",
       "955                          26.899030                           0.000000   \n",
       "956                          26.713881                           0.000000   \n",
       "\n",
       "     direct_radiation (W/m²)  diffuse_radiation (W/m²)  \n",
       "0                 151.119064                 70.720548  \n",
       "1                 147.845890                 75.080251  \n",
       "2                 149.374203                 74.632628  \n",
       "3                 141.238014                 75.799315  \n",
       "4                 139.645320                 73.633562  \n",
       "..                       ...                       ...  \n",
       "952               164.635959                 71.210502  \n",
       "953               184.635274                 65.579452  \n",
       "954               165.257628                 68.485087  \n",
       "955               150.401142                 73.859817  \n",
       "956               145.631735                 75.376826  \n",
       "\n",
       "[957 rows x 21 columns]"
      ]
     },
     "execution_count": 3,
     "metadata": {},
     "output_type": "execute_result"
    }
   ],
   "source": [
    "df"
   ]
  },
  {
   "cell_type": "code",
   "execution_count": 4,
   "metadata": {},
   "outputs": [
    {
     "data": {
      "text/plain": [
       "Index(['Year', 'Location', 'Production (mt)', 'Area (ha)', 'Yield (mt/ha)',\n",
       "       'weathercode (wmo code)', 'temperature_2m (°C)',\n",
       "       'relativehumidity_2m (%)', 'dewpoint_2m (°C)', 'rain (mm)',\n",
       "       'surface_pressure (hPa)', 'cloudcover (%)',\n",
       "       'et0_fao_evapotranspiration (mm)', 'vapor_pressure_deficit (kPa)',\n",
       "       'windspeed_10m (km/h)', 'winddirection_10m (°)', 'windgusts_10m (km/h)',\n",
       "       'soil_temperature_28_to_100cm (°C)',\n",
       "       'soil_moisture_28_to_100cm (m³/m³)', 'direct_radiation (W/m²)',\n",
       "       'diffuse_radiation (W/m²)'],\n",
       "      dtype='object')"
      ]
     },
     "execution_count": 4,
     "metadata": {},
     "output_type": "execute_result"
    }
   ],
   "source": [
    "df.columns"
   ]
  },
  {
   "cell_type": "code",
   "execution_count": 5,
   "metadata": {},
   "outputs": [
    {
     "data": {
      "image/png": "[encoded data removed]",
      "text/plain": [
       "<Figure size 640x480 with 1 Axes>"
      ]
     },
     "metadata": {},
     "output_type": "display_data"
    }
   ],
   "source": [
    "plt.hist(df.drop(columns=['Location', 'Year', 'weathercode (wmo code)']))\n",
    "plt.show()"
   ]
  },
  {
   "cell_type": "markdown",
   "metadata": {},
   "source": [
    "## Outlier Detection Using Z-score value"
   ]
  },
  {
   "cell_type": "code",
   "execution_count": 6,
   "metadata": {},
   "outputs": [
    {
     "data": {
      "text/plain": [
       "Year                                   int64\n",
       "Location                              object\n",
       "Production (mt)                      float64\n",
       "Area (ha)                            float64\n",
       "Yield (mt/ha)                        float64\n",
       "weathercode (wmo code)                object\n",
       "temperature_2m (°C)                  float64\n",
       "relativehumidity_2m (%)              float64\n",
       "dewpoint_2m (°C)                     float64\n",
       "rain (mm)                            float64\n",
       "surface_pressure (hPa)               float64\n",
       "cloudcover (%)                       float64\n",
       "et0_fao_evapotranspiration (mm)      float64\n",
       "vapor_pressure_deficit (kPa)         float64\n",
       "windspeed_10m (km/h)                 float64\n",
       "winddirection_10m (°)                float64\n",
       "windgusts_10m (km/h)                 float64\n",
       "soil_temperature_28_to_100cm (°C)    float64\n",
       "soil_moisture_28_to_100cm (m³/m³)    float64\n",
       "direct_radiation (W/m²)              float64\n",
       "diffuse_radiation (W/m²)             float64\n",
       "dtype: object"
      ]
     },
     "execution_count": 6,
     "metadata": {},
     "output_type": "execute_result"
    }
   ],
   "source": [
    "df.dtypes"
   ]
  },
  {
   "cell_type": "code",
   "execution_count": 7,
   "metadata": {},
   "outputs": [],
   "source": [
    "df['Yield (mt/ha)'] = df['Yield (mt/ha)'].fillna(0)"
   ]
  },
  {
   "cell_type": "code",
   "execution_count": 8,
   "metadata": {},
   "outputs": [
    {
     "data": {
      "text/plain": [
       "0"
      ]
     },
     "execution_count": 8,
     "metadata": {},
     "output_type": "execute_result"
    }
   ],
   "source": [
    "df['Yield (mt/ha)'].isnull().sum()"
   ]
  },
  {
   "cell_type": "code",
   "execution_count": 9,
   "metadata": {},
   "outputs": [
    {
     "data": {
      "text/plain": [
       "False"
      ]
     },
     "execution_count": 9,
     "metadata": {},
     "output_type": "execute_result"
    }
   ],
   "source": [
    "df.isnull().values.any()"
   ]
  },
  {
   "cell_type": "code",
   "execution_count": 10,
   "metadata": {},
   "outputs": [
    {
     "data": {
      "text/html": [
       "<div>\n",
       "<style scoped>\n",
       "    .dataframe tbody tr th:only-of-type {\n",
       "        vertical-align: middle;\n",
       "    }\n",
       "\n",
       "    .dataframe tbody tr th {\n",
       "        vertical-align: top;\n",
       "    }\n",
       "\n",
       "    .dataframe thead th {\n",
       "        text-align: right;\n",
       "    }\n",
       "</style>\n",
       "<table border=\"1\" class=\"dataframe\">\n",
       "  <thead>\n",
       "    <tr style=\"text-align: right;\">\n",
       "      <th></th>\n",
       "      <th>Year</th>\n",
       "      <th>Production (mt)</th>\n",
       "      <th>Area (ha)</th>\n",
       "      <th>Yield (mt/ha)</th>\n",
       "      <th>temperature_2m (°C)</th>\n",
       "      <th>relativehumidity_2m (%)</th>\n",
       "      <th>dewpoint_2m (°C)</th>\n",
       "      <th>rain (mm)</th>\n",
       "      <th>surface_pressure (hPa)</th>\n",
       "      <th>cloudcover (%)</th>\n",
       "      <th>et0_fao_evapotranspiration (mm)</th>\n",
       "      <th>vapor_pressure_deficit (kPa)</th>\n",
       "      <th>windspeed_10m (km/h)</th>\n",
       "      <th>winddirection_10m (°)</th>\n",
       "      <th>windgusts_10m (km/h)</th>\n",
       "      <th>soil_temperature_28_to_100cm (°C)</th>\n",
       "      <th>soil_moisture_28_to_100cm (m³/m³)</th>\n",
       "      <th>direct_radiation (W/m²)</th>\n",
       "      <th>diffuse_radiation (W/m²)</th>\n",
       "    </tr>\n",
       "  </thead>\n",
       "  <tbody>\n",
       "    <tr>\n",
       "      <th>count</th>\n",
       "      <td>957.000000</td>\n",
       "      <td>957.000000</td>\n",
       "      <td>957.000000</td>\n",
       "      <td>957.000000</td>\n",
       "      <td>957.000000</td>\n",
       "      <td>957.000000</td>\n",
       "      <td>957.000000</td>\n",
       "      <td>957.000000</td>\n",
       "      <td>957.000000</td>\n",
       "      <td>957.000000</td>\n",
       "      <td>957.000000</td>\n",
       "      <td>957.000000</td>\n",
       "      <td>957.000000</td>\n",
       "      <td>957.000000</td>\n",
       "      <td>957.000000</td>\n",
       "      <td>957.000000</td>\n",
       "      <td>957.000000</td>\n",
       "      <td>957.000000</td>\n",
       "      <td>957.000000</td>\n",
       "    </tr>\n",
       "    <tr>\n",
       "      <th>mean</th>\n",
       "      <td>2006.000000</td>\n",
       "      <td>1569.145266</td>\n",
       "      <td>2049.406959</td>\n",
       "      <td>0.672988</td>\n",
       "      <td>24.991554</td>\n",
       "      <td>84.790970</td>\n",
       "      <td>22.126121</td>\n",
       "      <td>0.301119</td>\n",
       "      <td>971.342668</td>\n",
       "      <td>58.065295</td>\n",
       "      <td>0.152774</td>\n",
       "      <td>0.523420</td>\n",
       "      <td>6.706778</td>\n",
       "      <td>167.901813</td>\n",
       "      <td>18.107908</td>\n",
       "      <td>26.154387</td>\n",
       "      <td>0.376344</td>\n",
       "      <td>139.248642</td>\n",
       "      <td>72.933381</td>\n",
       "    </tr>\n",
       "    <tr>\n",
       "      <th>std</th>\n",
       "      <td>9.526883</td>\n",
       "      <td>2688.296257</td>\n",
       "      <td>3153.525205</td>\n",
       "      <td>0.546095</td>\n",
       "      <td>2.098423</td>\n",
       "      <td>2.782775</td>\n",
       "      <td>1.757050</td>\n",
       "      <td>0.113049</td>\n",
       "      <td>41.075035</td>\n",
       "      <td>9.047516</td>\n",
       "      <td>0.011968</td>\n",
       "      <td>0.134181</td>\n",
       "      <td>3.932277</td>\n",
       "      <td>25.848587</td>\n",
       "      <td>3.473441</td>\n",
       "      <td>1.969559</td>\n",
       "      <td>0.095617</td>\n",
       "      <td>15.195995</td>\n",
       "      <td>3.379131</td>\n",
       "    </tr>\n",
       "    <tr>\n",
       "      <th>min</th>\n",
       "      <td>1990.000000</td>\n",
       "      <td>0.000000</td>\n",
       "      <td>0.000000</td>\n",
       "      <td>0.000000</td>\n",
       "      <td>19.513037</td>\n",
       "      <td>74.418607</td>\n",
       "      <td>16.883071</td>\n",
       "      <td>0.079349</td>\n",
       "      <td>875.282320</td>\n",
       "      <td>32.043830</td>\n",
       "      <td>0.125298</td>\n",
       "      <td>0.240229</td>\n",
       "      <td>2.694820</td>\n",
       "      <td>102.151370</td>\n",
       "      <td>11.438721</td>\n",
       "      <td>20.910622</td>\n",
       "      <td>0.000000</td>\n",
       "      <td>102.877854</td>\n",
       "      <td>60.199886</td>\n",
       "    </tr>\n",
       "    <tr>\n",
       "      <th>25%</th>\n",
       "      <td>1998.000000</td>\n",
       "      <td>24.470000</td>\n",
       "      <td>80.000000</td>\n",
       "      <td>0.227895</td>\n",
       "      <td>23.408071</td>\n",
       "      <td>82.597603</td>\n",
       "      <td>20.821004</td>\n",
       "      <td>0.216883</td>\n",
       "      <td>940.075808</td>\n",
       "      <td>52.296804</td>\n",
       "      <td>0.144041</td>\n",
       "      <td>0.425146</td>\n",
       "      <td>4.373390</td>\n",
       "      <td>147.480305</td>\n",
       "      <td>16.027641</td>\n",
       "      <td>24.714754</td>\n",
       "      <td>0.358457</td>\n",
       "      <td>128.430442</td>\n",
       "      <td>70.765411</td>\n",
       "    </tr>\n",
       "    <tr>\n",
       "      <th>50%</th>\n",
       "      <td>2006.000000</td>\n",
       "      <td>320.340000</td>\n",
       "      <td>802.000000</td>\n",
       "      <td>0.650000</td>\n",
       "      <td>25.546221</td>\n",
       "      <td>84.784153</td>\n",
       "      <td>22.763559</td>\n",
       "      <td>0.290822</td>\n",
       "      <td>984.133733</td>\n",
       "      <td>57.572746</td>\n",
       "      <td>0.151785</td>\n",
       "      <td>0.536473</td>\n",
       "      <td>5.370148</td>\n",
       "      <td>167.572831</td>\n",
       "      <td>17.547374</td>\n",
       "      <td>26.615468</td>\n",
       "      <td>0.400144</td>\n",
       "      <td>138.774087</td>\n",
       "      <td>72.816438</td>\n",
       "    </tr>\n",
       "    <tr>\n",
       "      <th>75%</th>\n",
       "      <td>2014.000000</td>\n",
       "      <td>1780.810000</td>\n",
       "      <td>2650.000000</td>\n",
       "      <td>0.963192</td>\n",
       "      <td>26.629178</td>\n",
       "      <td>86.853425</td>\n",
       "      <td>23.504760</td>\n",
       "      <td>0.371826</td>\n",
       "      <td>1008.225422</td>\n",
       "      <td>63.645890</td>\n",
       "      <td>0.160162</td>\n",
       "      <td>0.614129</td>\n",
       "      <td>7.670365</td>\n",
       "      <td>185.453324</td>\n",
       "      <td>19.259085</td>\n",
       "      <td>27.446884</td>\n",
       "      <td>0.431587</td>\n",
       "      <td>147.594863</td>\n",
       "      <td>75.388014</td>\n",
       "    </tr>\n",
       "    <tr>\n",
       "      <th>max</th>\n",
       "      <td>2022.000000</td>\n",
       "      <td>14373.880000</td>\n",
       "      <td>15227.000000</td>\n",
       "      <td>3.033851</td>\n",
       "      <td>28.487750</td>\n",
       "      <td>91.361530</td>\n",
       "      <td>25.526416</td>\n",
       "      <td>0.777489</td>\n",
       "      <td>1010.695091</td>\n",
       "      <td>81.984817</td>\n",
       "      <td>0.195507</td>\n",
       "      <td>1.089404</td>\n",
       "      <td>20.040411</td>\n",
       "      <td>240.453995</td>\n",
       "      <td>29.767032</td>\n",
       "      <td>31.171849</td>\n",
       "      <td>0.481368</td>\n",
       "      <td>191.157420</td>\n",
       "      <td>81.203539</td>\n",
       "    </tr>\n",
       "  </tbody>\n",
       "</table>\n",
       "</div>"
      ],
      "text/plain": [
       "              Year  Production (mt)     Area (ha)  Yield (mt/ha)  \\\n",
       "count   957.000000       957.000000    957.000000     957.000000   \n",
       "mean   2006.000000      1569.145266   2049.406959       0.672988   \n",
       "std       9.526883      2688.296257   3153.525205       0.546095   \n",
       "min    1990.000000         0.000000      0.000000       0.000000   \n",
       "25%    1998.000000        24.470000     80.000000       0.227895   \n",
       "50%    2006.000000       320.340000    802.000000       0.650000   \n",
       "75%    2014.000000      1780.810000   2650.000000       0.963192   \n",
       "max    2022.000000     14373.880000  15227.000000       3.033851   \n",
       "\n",
       "       temperature_2m (°C)  relativehumidity_2m (%)  dewpoint_2m (°C)  \\\n",
       "count           957.000000               957.000000        957.000000   \n",
       "mean             24.991554                84.790970         22.126121   \n",
       "std               2.098423                 2.782775          1.757050   \n",
       "min              19.513037                74.418607         16.883071   \n",
       "25%              23.408071                82.597603         20.821004   \n",
       "50%              25.546221                84.784153         22.763559   \n",
       "75%              26.629178                86.853425         23.504760   \n",
       "max              28.487750                91.361530         25.526416   \n",
       "\n",
       "        rain (mm)  surface_pressure (hPa)  cloudcover (%)  \\\n",
       "count  957.000000              957.000000      957.000000   \n",
       "mean     0.301119              971.342668       58.065295   \n",
       "std      0.113049               41.075035        9.047516   \n",
       "min      0.079349              875.282320       32.043830   \n",
       "25%      0.216883              940.075808       52.296804   \n",
       "50%      0.290822              984.133733       57.572746   \n",
       "75%      0.371826             1008.225422       63.645890   \n",
       "max      0.777489             1010.695091       81.984817   \n",
       "\n",
       "       et0_fao_evapotranspiration (mm)  vapor_pressure_deficit (kPa)  \\\n",
       "count                       957.000000                    957.000000   \n",
       "mean                          0.152774                      0.523420   \n",
       "std                           0.011968                      0.134181   \n",
       "min                           0.125298                      0.240229   \n",
       "25%                           0.144041                      0.425146   \n",
       "50%                           0.151785                      0.536473   \n",
       "75%                           0.160162                      0.614129   \n",
       "max                           0.195507                      1.089404   \n",
       "\n",
       "       windspeed_10m (km/h)  winddirection_10m (°)  windgusts_10m (km/h)  \\\n",
       "count            957.000000             957.000000            957.000000   \n",
       "mean               6.706778             167.901813             18.107908   \n",
       "std                3.932277              25.848587              3.473441   \n",
       "min                2.694820             102.151370             11.438721   \n",
       "25%                4.373390             147.480305             16.027641   \n",
       "50%                5.370148             167.572831             17.547374   \n",
       "75%                7.670365             185.453324             19.259085   \n",
       "max               20.040411             240.453995             29.767032   \n",
       "\n",
       "       soil_temperature_28_to_100cm (°C)  soil_moisture_28_to_100cm (m³/m³)  \\\n",
       "count                         957.000000                         957.000000   \n",
       "mean                           26.154387                           0.376344   \n",
       "std                             1.969559                           0.095617   \n",
       "min                            20.910622                           0.000000   \n",
       "25%                            24.714754                           0.358457   \n",
       "50%                            26.615468                           0.400144   \n",
       "75%                            27.446884                           0.431587   \n",
       "max                            31.171849                           0.481368   \n",
       "\n",
       "       direct_radiation (W/m²)  diffuse_radiation (W/m²)  \n",
       "count               957.000000                957.000000  \n",
       "mean                139.248642                 72.933381  \n",
       "std                  15.195995                  3.379131  \n",
       "min                 102.877854                 60.199886  \n",
       "25%                 128.430442                 70.765411  \n",
       "50%                 138.774087                 72.816438  \n",
       "75%                 147.594863                 75.388014  \n",
       "max                 191.157420                 81.203539  "
      ]
     },
     "execution_count": 10,
     "metadata": {},
     "output_type": "execute_result"
    }
   ],
   "source": [
    "df.describe()"
   ]
  },
  {
   "cell_type": "markdown",
   "metadata": {},
   "source": [
    "### Production (mt)"
   ]
  },
  {
   "cell_type": "code",
   "execution_count": 11,
   "metadata": {},
   "outputs": [
    {
     "data": {
      "text/plain": [
       "count      957.000000\n",
       "mean      1569.145266\n",
       "std       2688.296257\n",
       "min          0.000000\n",
       "25%         24.470000\n",
       "50%        320.340000\n",
       "75%       1780.810000\n",
       "max      14373.880000\n",
       "Name: Production (mt), dtype: float64"
      ]
     },
     "execution_count": 11,
     "metadata": {},
     "output_type": "execute_result"
    }
   ],
   "source": [
    "df['Production (mt)'].describe()"
   ]
  },
  {
   "cell_type": "code",
   "execution_count": 12,
   "metadata": {},
   "outputs": [
    {
     "name": "stdout",
     "output_type": "stream",
     "text": [
      "Mean:  1569.1452664576802\n",
      "\n",
      "Standard deviation:  2686.891346634448\n",
      "\n",
      "Outliers  :  [11117.13, 13159.67, 14373.88, 13462.18, 13056.48, 11386.97, 10703.48, 10597.11, 9990.29, 10078.15, 10121.33, 10026.37, 11718.27, 11999.41, 11997.91, 11850.15, 12723.66, 12888.9, 12570.29, 12085.42, 11796.03, 10031.99, 10706.38, 11113.98, 11660.93, 11907.61, 12213.84, 12462.98, 12199.23, 12506.3, 13224.63, 12709.82, 12207.25, 11984.85, 10875.79, 10006.93, 10785.45, 11512.57]\n"
     ]
    }
   ],
   "source": [
    "mean = np.mean(df['Production (mt)'])\n",
    "std = np.std(df['Production (mt)'])\n",
    " \n",
    "threshold = 3\n",
    "outliers = []\n",
    "for x in df['Production (mt)']:\n",
    "    z_score = (x - mean) / std\n",
    "    if abs(z_score) > threshold:\n",
    "        outliers.append(x)\n",
    "        \n",
    "print(\"Mean: \",mean)\n",
    "print(\"\\nStandard deviation: \",std)\n",
    "print(\"\\nOutliers  : \", outliers)"
   ]
  },
  {
   "cell_type": "code",
   "execution_count": 13,
   "metadata": {},
   "outputs": [],
   "source": [
    "upper_limit = df['Production (mt)'].mean() + 3*df['Production (mt)'].std()\n",
    "lower_limit = df['Production (mt)'].mean() - 3*df['Production (mt)'].std()\n",
    "\n",
    "df['Production (mt)'] = np.where(\n",
    "    df['Production (mt)']>upper_limit,\n",
    "    upper_limit,\n",
    "    np.where(\n",
    "        df['Production (mt)']<lower_limit,\n",
    "        lower_limit,\n",
    "        df['Production (mt)']\n",
    "    )\n",
    ")"
   ]
  },
  {
   "cell_type": "code",
   "execution_count": 14,
   "metadata": {},
   "outputs": [
    {
     "data": {
      "text/plain": [
       "count     957.000000\n",
       "mean     1485.842950\n",
       "std      2377.530043\n",
       "min         0.000000\n",
       "25%        24.470000\n",
       "50%       320.340000\n",
       "75%      1780.810000\n",
       "max      9634.034038\n",
       "Name: Production (mt), dtype: float64"
      ]
     },
     "execution_count": 14,
     "metadata": {},
     "output_type": "execute_result"
    }
   ],
   "source": [
    "df['Production (mt)'].describe()"
   ]
  },
  {
   "cell_type": "markdown",
   "metadata": {},
   "source": [
    "### Area (ha)"
   ]
  },
  {
   "cell_type": "code",
   "execution_count": 15,
   "metadata": {},
   "outputs": [
    {
     "data": {
      "text/plain": [
       "count      957.000000\n",
       "mean      2049.406959\n",
       "std       3153.525205\n",
       "min          0.000000\n",
       "25%         80.000000\n",
       "50%        802.000000\n",
       "75%       2650.000000\n",
       "max      15227.000000\n",
       "Name: Area (ha), dtype: float64"
      ]
     },
     "execution_count": 15,
     "metadata": {},
     "output_type": "execute_result"
    }
   ],
   "source": [
    "df['Area (ha)'].describe()"
   ]
  },
  {
   "cell_type": "code",
   "execution_count": 16,
   "metadata": {},
   "outputs": [
    {
     "name": "stdout",
     "output_type": "stream",
     "text": [
      "Mean:  2049.406959247649\n",
      "\n",
      "Standard deviation:  3151.877164765096\n",
      "\n",
      "Outliers  :  [12752.0, 12752.0, 12720.0, 12715.0, 12135.0, 11867.0, 11650.0, 11660.0, 11660.0, 11543.0, 11513.0, 12280.0, 12284.0, 12288.0, 12303.0, 12312.0, 12349.0, 12344.0, 12484.0, 12484.0, 12360.0, 12360.0, 12375.0, 12375.0, 13025.0, 13225.0, 13300.0, 13300.0, 13370.0, 13370.0, 14707.0, 14727.0, 15227.0]\n"
     ]
    }
   ],
   "source": [
    "mean = np.mean(df['Area (ha)'])\n",
    "std = np.std(df['Area (ha)'])\n",
    " \n",
    "threshold = 3\n",
    "outliers = []\n",
    "for x in df['Area (ha)']:\n",
    "    z_score = (x - mean) / std\n",
    "    if abs(z_score) > threshold:\n",
    "        outliers.append(x)\n",
    "print(\"Mean: \",mean)\n",
    "print(\"\\nStandard deviation: \",std)\n",
    "print(\"\\nOutliers  : \", outliers)"
   ]
  },
  {
   "cell_type": "code",
   "execution_count": 17,
   "metadata": {},
   "outputs": [],
   "source": [
    "upper_limit = df['Area (ha)'].mean() + 3*df['Area (ha)'].std()\n",
    "lower_limit = df['Area (ha)'].mean() - 3*df['Area (ha)'].std()\n",
    "\n",
    "df['Area (ha)'] = np.where(\n",
    "    df['Area (ha)']>upper_limit,\n",
    "    upper_limit,\n",
    "    np.where(\n",
    "        df['Area (ha)']<lower_limit,\n",
    "        lower_limit,\n",
    "        df['Area (ha)']\n",
    "    )\n",
    ")"
   ]
  },
  {
   "cell_type": "code",
   "execution_count": 18,
   "metadata": {},
   "outputs": [
    {
     "data": {
      "text/plain": [
       "count      957.000000\n",
       "mean      2009.713568\n",
       "std       3019.818111\n",
       "min          0.000000\n",
       "25%         80.000000\n",
       "50%        802.000000\n",
       "75%       2650.000000\n",
       "max      11509.982575\n",
       "Name: Area (ha), dtype: float64"
      ]
     },
     "execution_count": 18,
     "metadata": {},
     "output_type": "execute_result"
    }
   ],
   "source": [
    "df['Area (ha)'].describe()"
   ]
  },
  {
   "cell_type": "markdown",
   "metadata": {},
   "source": [
    "### Yield (mt/ha)"
   ]
  },
  {
   "cell_type": "code",
   "execution_count": 19,
   "metadata": {},
   "outputs": [
    {
     "data": {
      "text/plain": [
       "count    957.000000\n",
       "mean       0.672988\n",
       "std        0.546095\n",
       "min        0.000000\n",
       "25%        0.227895\n",
       "50%        0.650000\n",
       "75%        0.963192\n",
       "max        3.033851\n",
       "Name: Yield (mt/ha), dtype: float64"
      ]
     },
     "execution_count": 19,
     "metadata": {},
     "output_type": "execute_result"
    }
   ],
   "source": [
    "df['Yield (mt/ha)'].describe()"
   ]
  },
  {
   "cell_type": "code",
   "execution_count": 20,
   "metadata": {},
   "outputs": [
    {
     "name": "stdout",
     "output_type": "stream",
     "text": [
      "Mean:  0.6729883603904365\n",
      "\n",
      "Standard deviation:  0.5458095954214344\n",
      "\n",
      "Outliers  :  [3.033851185609158, 2.6106721698113207, 2.5989411764705883, 2.460055555555556, 2.511278439869989, 2.410487012987013, 2.4969852216748767, 2.416433497536945, 2.314152791380999, 2.338139079333986, 2.4014103819784527, 2.408364348677767, 2.414779627815866, 2.496699314397649, 2.5269565217391303, 2.417729468599034, 2.4679710144927536, 2.568461538461538, 2.4684134615384616, 2.482941176470588, 2.40209756097561, 2.432436647173489, 2.389044834307992, 2.4140388349514565, 2.4462585034013604, 2.4337342386032974, 2.411309408341416, 2.418846899224806]\n"
     ]
    }
   ],
   "source": [
    "mean = np.mean(df['Yield (mt/ha)'])\n",
    "std = np.std(df['Yield (mt/ha)'])\n",
    " \n",
    "threshold = 3\n",
    "outliers = []\n",
    "for x in df['Yield (mt/ha)']:\n",
    "    z_score = (x - mean) / std\n",
    "    if abs(z_score) > threshold:\n",
    "        outliers.append(x)\n",
    "print(\"Mean: \",mean)\n",
    "print(\"\\nStandard deviation: \",std)\n",
    "print(\"\\nOutliers  : \", outliers)"
   ]
  },
  {
   "cell_type": "code",
   "execution_count": 21,
   "metadata": {},
   "outputs": [],
   "source": [
    "upper_limit = df['Yield (mt/ha)'].mean() + 3*df['Yield (mt/ha)'].std()\n",
    "lower_limit = df['Yield (mt/ha)'].mean() - 3*df['Yield (mt/ha)'].std()\n",
    "\n",
    "df['Yield (mt/ha)'] = np.where(\n",
    "    df['Yield (mt/ha)']>upper_limit,\n",
    "    upper_limit,\n",
    "    np.where(\n",
    "        df['Yield (mt/ha)']<lower_limit,\n",
    "        lower_limit,\n",
    "        df['Yield (mt/ha)']\n",
    "    )\n",
    ")"
   ]
  },
  {
   "cell_type": "code",
   "execution_count": 22,
   "metadata": {},
   "outputs": [
    {
     "data": {
      "text/plain": [
       "count    957.000000\n",
       "mean       0.668310\n",
       "std        0.530686\n",
       "min        0.000000\n",
       "25%        0.227895\n",
       "50%        0.650000\n",
       "75%        0.963192\n",
       "max        2.311273\n",
       "Name: Yield (mt/ha), dtype: float64"
      ]
     },
     "execution_count": 22,
     "metadata": {},
     "output_type": "execute_result"
    }
   ],
   "source": [
    "df['Yield (mt/ha)'].describe()"
   ]
  },
  {
   "cell_type": "code",
   "execution_count": 23,
   "metadata": {},
   "outputs": [
    {
     "data": {
      "text/plain": [
       "Year                                 0\n",
       "Location                             0\n",
       "Production (mt)                      0\n",
       "Area (ha)                            0\n",
       "Yield (mt/ha)                        0\n",
       "weathercode (wmo code)               0\n",
       "temperature_2m (°C)                  0\n",
       "relativehumidity_2m (%)              0\n",
       "dewpoint_2m (°C)                     0\n",
       "rain (mm)                            0\n",
       "surface_pressure (hPa)               0\n",
       "cloudcover (%)                       0\n",
       "et0_fao_evapotranspiration (mm)      0\n",
       "vapor_pressure_deficit (kPa)         0\n",
       "windspeed_10m (km/h)                 0\n",
       "winddirection_10m (°)                0\n",
       "windgusts_10m (km/h)                 0\n",
       "soil_temperature_28_to_100cm (°C)    0\n",
       "soil_moisture_28_to_100cm (m³/m³)    0\n",
       "direct_radiation (W/m²)              0\n",
       "diffuse_radiation (W/m²)             0\n",
       "dtype: int64"
      ]
     },
     "execution_count": 23,
     "metadata": {},
     "output_type": "execute_result"
    }
   ],
   "source": [
    "df.isnull().sum()"
   ]
  },
  {
   "cell_type": "markdown",
   "metadata": {},
   "source": [
    "### weathercode (wmo code)"
   ]
  },
  {
   "cell_type": "markdown",
   "metadata": {},
   "source": [
    "### temperature_2m (°C)"
   ]
  },
  {
   "cell_type": "code",
   "execution_count": 24,
   "metadata": {},
   "outputs": [
    {
     "data": {
      "text/plain": [
       "count    957.000000\n",
       "mean      24.991554\n",
       "std        2.098423\n",
       "min       19.513037\n",
       "25%       23.408071\n",
       "50%       25.546221\n",
       "75%       26.629178\n",
       "max       28.487750\n",
       "Name: temperature_2m (°C), dtype: float64"
      ]
     },
     "execution_count": 24,
     "metadata": {},
     "output_type": "execute_result"
    }
   ],
   "source": [
    "df['temperature_2m (°C)'].describe()"
   ]
  },
  {
   "cell_type": "code",
   "execution_count": 25,
   "metadata": {},
   "outputs": [
    {
     "name": "stdout",
     "output_type": "stream",
     "text": [
      "Mean:  24.991553992541874\n",
      "\n",
      "Standard deviation:  2.097326743430097\n",
      "\n",
      "Outliers  :  []\n"
     ]
    }
   ],
   "source": [
    "mean = np.mean(df['temperature_2m (°C)'])\n",
    "std = np.std(df['temperature_2m (°C)'])\n",
    " \n",
    "threshold = 3\n",
    "outliers = []\n",
    "for x in df['temperature_2m (°C)']:\n",
    "    z_score = (x - mean) / std\n",
    "    if abs(z_score) > threshold:\n",
    "        outliers.append(x)\n",
    "print(\"Mean: \",mean)\n",
    "print(\"\\nStandard deviation: \",std)\n",
    "print(\"\\nOutliers  : \", outliers)"
   ]
  },
  {
   "cell_type": "markdown",
   "metadata": {},
   "source": [
    "### relativehumidity_2m (%)"
   ]
  },
  {
   "cell_type": "code",
   "execution_count": 26,
   "metadata": {},
   "outputs": [
    {
     "data": {
      "text/plain": [
       "count    957.000000\n",
       "mean      84.790970\n",
       "std        2.782775\n",
       "min       74.418607\n",
       "25%       82.597603\n",
       "50%       84.784153\n",
       "75%       86.853425\n",
       "max       91.361530\n",
       "Name: relativehumidity_2m (%), dtype: float64"
      ]
     },
     "execution_count": 26,
     "metadata": {},
     "output_type": "execute_result"
    }
   ],
   "source": [
    "df['relativehumidity_2m (%)'].describe()"
   ]
  },
  {
   "cell_type": "code",
   "execution_count": 27,
   "metadata": {},
   "outputs": [
    {
     "name": "stdout",
     "output_type": "stream",
     "text": [
      "Mean:  84.7909702354295\n",
      "\n",
      "Standard deviation:  2.781320487188561\n",
      "\n",
      "Outliers  :  [75.36851092896175, 74.41860730593608, 75.34509132420091, 76.39970400728598]\n"
     ]
    }
   ],
   "source": [
    "mean = np.mean(df['relativehumidity_2m (%)'])\n",
    "std = np.std(df['relativehumidity_2m (%)'])\n",
    " \n",
    "threshold = 3\n",
    "outliers = []\n",
    "for x in df['relativehumidity_2m (%)']:\n",
    "    z_score = (x - mean) / std\n",
    "    if abs(z_score) > threshold:\n",
    "        outliers.append(x)\n",
    "print(\"Mean: \",mean)\n",
    "print(\"\\nStandard deviation: \",std)\n",
    "print(\"\\nOutliers  : \", outliers)"
   ]
  },
  {
   "cell_type": "code",
   "execution_count": 28,
   "metadata": {},
   "outputs": [],
   "source": [
    "upper_limit = df['relativehumidity_2m (%)'].mean() + 3*df['relativehumidity_2m (%)'].std()\n",
    "lower_limit = df['relativehumidity_2m (%)'].mean() - 3*df['relativehumidity_2m (%)'].std()\n",
    "\n",
    "df['relativehumidity_2m (%)'] = np.where(\n",
    "    df['relativehumidity_2m (%)']>upper_limit,\n",
    "    upper_limit,\n",
    "    np.where(\n",
    "        df['relativehumidity_2m (%)']<lower_limit,\n",
    "        lower_limit,\n",
    "        df['relativehumidity_2m (%)']\n",
    "    )\n",
    ")"
   ]
  },
  {
   "cell_type": "code",
   "execution_count": 29,
   "metadata": {},
   "outputs": [
    {
     "data": {
      "text/plain": [
       "count    957.000000\n",
       "mean      84.795399\n",
       "std        2.768218\n",
       "min       76.442646\n",
       "25%       82.597603\n",
       "50%       84.784153\n",
       "75%       86.853425\n",
       "max       91.361530\n",
       "Name: relativehumidity_2m (%), dtype: float64"
      ]
     },
     "execution_count": 29,
     "metadata": {},
     "output_type": "execute_result"
    }
   ],
   "source": [
    "df['relativehumidity_2m (%)'].describe()"
   ]
  },
  {
   "cell_type": "markdown",
   "metadata": {},
   "source": [
    "### dewpoint_2m (°C)"
   ]
  },
  {
   "cell_type": "code",
   "execution_count": 30,
   "metadata": {},
   "outputs": [
    {
     "data": {
      "text/plain": [
       "count    957.000000\n",
       "mean      22.126121\n",
       "std        1.757050\n",
       "min       16.883071\n",
       "25%       20.821004\n",
       "50%       22.763559\n",
       "75%       23.504760\n",
       "max       25.526416\n",
       "Name: dewpoint_2m (°C), dtype: float64"
      ]
     },
     "execution_count": 30,
     "metadata": {},
     "output_type": "execute_result"
    }
   ],
   "source": [
    "df['dewpoint_2m (°C)'].describe()"
   ]
  },
  {
   "cell_type": "code",
   "execution_count": 31,
   "metadata": {},
   "outputs": [
    {
     "name": "stdout",
     "output_type": "stream",
     "text": [
      "Mean:  22.12612115307271\n",
      "\n",
      "Standard deviation:  1.7561315848368257\n",
      "\n",
      "Outliers  :  []\n"
     ]
    }
   ],
   "source": [
    "mean = np.mean(df['dewpoint_2m (°C)'])\n",
    "std = np.std(df['dewpoint_2m (°C)'])\n",
    " \n",
    "threshold = 3\n",
    "outliers = []\n",
    "for x in df['dewpoint_2m (°C)']:\n",
    "    z_score = (x - mean) / std\n",
    "    if abs(z_score) > threshold:\n",
    "        outliers.append(x)\n",
    "print(\"Mean: \",mean)\n",
    "print(\"\\nStandard deviation: \",std)\n",
    "print(\"\\nOutliers  : \", outliers)"
   ]
  },
  {
   "cell_type": "markdown",
   "metadata": {},
   "source": [
    "### rain (mm)"
   ]
  },
  {
   "cell_type": "code",
   "execution_count": 32,
   "metadata": {},
   "outputs": [
    {
     "data": {
      "text/plain": [
       "count    957.000000\n",
       "mean       0.301119\n",
       "std        0.113049\n",
       "min        0.079349\n",
       "25%        0.216883\n",
       "50%        0.290822\n",
       "75%        0.371826\n",
       "max        0.777489\n",
       "Name: rain (mm), dtype: float64"
      ]
     },
     "execution_count": 32,
     "metadata": {},
     "output_type": "execute_result"
    }
   ],
   "source": [
    "df['rain (mm)'].describe()"
   ]
  },
  {
   "cell_type": "code",
   "execution_count": 33,
   "metadata": {},
   "outputs": [
    {
     "name": "stdout",
     "output_type": "stream",
     "text": [
      "Mean:  0.3011189907753717\n",
      "\n",
      "Standard deviation:  0.11298964708190931\n",
      "\n",
      "Outliers  :  [0.7528538812785388, 0.6510587431693988, 0.6884107468123861, 0.7463812785388128, 0.7159246575342466, 0.734703196347032, 0.7473059360730593, 0.7774885844748859]\n"
     ]
    }
   ],
   "source": [
    "mean = np.mean(df['rain (mm)'])\n",
    "std = np.std(df['rain (mm)'])\n",
    " \n",
    "threshold = 3\n",
    "outliers = []\n",
    "for x in df['rain (mm)']:\n",
    "    z_score = (x - mean) / std\n",
    "    if abs(z_score) > threshold:\n",
    "        outliers.append(x)\n",
    "print(\"Mean: \",mean)\n",
    "print(\"\\nStandard deviation: \",std)\n",
    "print(\"\\nOutliers  : \", outliers)"
   ]
  },
  {
   "cell_type": "code",
   "execution_count": 34,
   "metadata": {},
   "outputs": [],
   "source": [
    "upper_limit = df['rain (mm)'].mean() + 3*df['rain (mm)'].std()\n",
    "lower_limit = df['rain (mm)'].mean() - 3*df['rain (mm)'].std()\n",
    "\n",
    "df['rain (mm)'] = np.where(\n",
    "    df['rain (mm)']>upper_limit,\n",
    "    upper_limit,\n",
    "    np.where(\n",
    "        df['rain (mm)']<lower_limit,\n",
    "        lower_limit,\n",
    "        df['rain (mm)']\n",
    "    )\n",
    ")"
   ]
  },
  {
   "cell_type": "code",
   "execution_count": 35,
   "metadata": {},
   "outputs": [
    {
     "data": {
      "text/plain": [
       "count    957.000000\n",
       "mean       0.300396\n",
       "std        0.110517\n",
       "min        0.079349\n",
       "25%        0.216883\n",
       "50%        0.290822\n",
       "75%        0.371826\n",
       "max        0.640265\n",
       "Name: rain (mm), dtype: float64"
      ]
     },
     "execution_count": 35,
     "metadata": {},
     "output_type": "execute_result"
    }
   ],
   "source": [
    "df['rain (mm)'].describe()"
   ]
  },
  {
   "cell_type": "markdown",
   "metadata": {},
   "source": [
    "### surface_pressure (hPa)"
   ]
  },
  {
   "cell_type": "code",
   "execution_count": 36,
   "metadata": {},
   "outputs": [
    {
     "data": {
      "text/plain": [
       "count     957.000000\n",
       "mean      971.342668\n",
       "std        41.075035\n",
       "min       875.282320\n",
       "25%       940.075808\n",
       "50%       984.133733\n",
       "75%      1008.225422\n",
       "max      1010.695091\n",
       "Name: surface_pressure (hPa), dtype: float64"
      ]
     },
     "execution_count": 36,
     "metadata": {},
     "output_type": "execute_result"
    }
   ],
   "source": [
    "df['surface_pressure (hPa)'].describe()"
   ]
  },
  {
   "cell_type": "code",
   "execution_count": 37,
   "metadata": {},
   "outputs": [
    {
     "name": "stdout",
     "output_type": "stream",
     "text": [
      "Mean:  971.3426682532506\n",
      "\n",
      "Standard deviation:  41.053569459738945\n",
      "\n",
      "Outliers  :  []\n"
     ]
    }
   ],
   "source": [
    "mean = np.mean(df['surface_pressure (hPa)'])\n",
    "std = np.std(df['surface_pressure (hPa)'])\n",
    " \n",
    "threshold = 3\n",
    "outliers = []\n",
    "for x in df['surface_pressure (hPa)']:\n",
    "    z_score = (x - mean) / std\n",
    "    if abs(z_score) > threshold:\n",
    "        outliers.append(x)\n",
    "print(\"Mean: \",mean)\n",
    "print(\"\\nStandard deviation: \",std)\n",
    "print(\"\\nOutliers  : \", outliers)"
   ]
  },
  {
   "cell_type": "markdown",
   "metadata": {},
   "source": [
    "### cloudcover (%)"
   ]
  },
  {
   "cell_type": "code",
   "execution_count": 38,
   "metadata": {},
   "outputs": [
    {
     "data": {
      "text/plain": [
       "count    957.000000\n",
       "mean      58.065295\n",
       "std        9.047516\n",
       "min       32.043830\n",
       "25%       52.296804\n",
       "50%       57.572746\n",
       "75%       63.645890\n",
       "max       81.984817\n",
       "Name: cloudcover (%), dtype: float64"
      ]
     },
     "execution_count": 38,
     "metadata": {},
     "output_type": "execute_result"
    }
   ],
   "source": [
    "df['cloudcover (%)'].describe()"
   ]
  },
  {
   "cell_type": "code",
   "execution_count": 39,
   "metadata": {},
   "outputs": [
    {
     "name": "stdout",
     "output_type": "stream",
     "text": [
      "Mean:  58.065295196920566\n",
      "\n",
      "Standard deviation:  9.04278792057169\n",
      "\n",
      "Outliers  :  []\n"
     ]
    }
   ],
   "source": [
    "mean = np.mean(df['cloudcover (%)'])\n",
    "std = np.std(df['cloudcover (%)'])\n",
    " \n",
    "threshold = 3\n",
    "outliers = []\n",
    "for x in df['cloudcover (%)']:\n",
    "    z_score = (x - mean) / std\n",
    "    if abs(z_score) > threshold:\n",
    "        outliers.append(x)\n",
    "print(\"Mean: \",mean)\n",
    "print(\"\\nStandard deviation: \",std)\n",
    "print(\"\\nOutliers  : \", outliers)"
   ]
  },
  {
   "cell_type": "markdown",
   "metadata": {},
   "source": [
    "### et0_fao_evapotranspiration (mm)"
   ]
  },
  {
   "cell_type": "code",
   "execution_count": 40,
   "metadata": {},
   "outputs": [
    {
     "data": {
      "text/plain": [
       "count    957.000000\n",
       "mean       0.152774\n",
       "std        0.011968\n",
       "min        0.125298\n",
       "25%        0.144041\n",
       "50%        0.151785\n",
       "75%        0.160162\n",
       "max        0.195507\n",
       "Name: et0_fao_evapotranspiration (mm), dtype: float64"
      ]
     },
     "execution_count": 40,
     "metadata": {},
     "output_type": "execute_result"
    }
   ],
   "source": [
    "df['et0_fao_evapotranspiration (mm)'].describe()"
   ]
  },
  {
   "cell_type": "code",
   "execution_count": 41,
   "metadata": {},
   "outputs": [
    {
     "name": "stdout",
     "output_type": "stream",
     "text": [
      "Mean:  0.15277356168078673\n",
      "\n",
      "Standard deviation:  0.011962142926232069\n",
      "\n",
      "Outliers  :  [0.1931841985428051, 0.1955068493150685, 0.1907123287671233]\n"
     ]
    }
   ],
   "source": [
    "mean = np.mean(df['et0_fao_evapotranspiration (mm)'])\n",
    "std = np.std(df['et0_fao_evapotranspiration (mm)'])\n",
    " \n",
    "threshold = 3\n",
    "outliers = []\n",
    "for x in df['et0_fao_evapotranspiration (mm)']:\n",
    "    z_score = (x - mean) / std\n",
    "    if abs(z_score) > threshold:\n",
    "        outliers.append(x)\n",
    "print(\"Mean: \",mean)\n",
    "print(\"\\nStandard deviation: \",std)\n",
    "print(\"\\nOutliers  : \", outliers)"
   ]
  },
  {
   "cell_type": "code",
   "execution_count": 42,
   "metadata": {},
   "outputs": [],
   "source": [
    "upper_limit = df['et0_fao_evapotranspiration (mm)'].mean() + 3*df['et0_fao_evapotranspiration (mm)'].std()\n",
    "lower_limit = df['et0_fao_evapotranspiration (mm)'].mean() - 3*df['et0_fao_evapotranspiration (mm)'].std()\n",
    "\n",
    "df['et0_fao_evapotranspiration (mm)'] = np.where(\n",
    "    df['et0_fao_evapotranspiration (mm)']>upper_limit,\n",
    "    upper_limit,\n",
    "    np.where(\n",
    "        df['et0_fao_evapotranspiration (mm)']<lower_limit,\n",
    "        lower_limit,\n",
    "        df['et0_fao_evapotranspiration (mm)']\n",
    "    )\n",
    ")"
   ]
  },
  {
   "cell_type": "code",
   "execution_count": 43,
   "metadata": {},
   "outputs": [
    {
     "data": {
      "text/plain": [
       "count    957.000000\n",
       "mean       0.152760\n",
       "std        0.011923\n",
       "min        0.125298\n",
       "25%        0.144041\n",
       "50%        0.151785\n",
       "75%        0.160162\n",
       "max        0.188679\n",
       "Name: et0_fao_evapotranspiration (mm), dtype: float64"
      ]
     },
     "execution_count": 43,
     "metadata": {},
     "output_type": "execute_result"
    }
   ],
   "source": [
    "df['et0_fao_evapotranspiration (mm)'].describe()"
   ]
  },
  {
   "cell_type": "markdown",
   "metadata": {},
   "source": [
    "### vapor_pressure_deficit (kPa)"
   ]
  },
  {
   "cell_type": "code",
   "execution_count": 44,
   "metadata": {},
   "outputs": [
    {
     "data": {
      "text/plain": [
       "count    957.000000\n",
       "mean       0.523420\n",
       "std        0.134181\n",
       "min        0.240229\n",
       "25%        0.425146\n",
       "50%        0.536473\n",
       "75%        0.614129\n",
       "max        1.089404\n",
       "Name: vapor_pressure_deficit (kPa), dtype: float64"
      ]
     },
     "execution_count": 44,
     "metadata": {},
     "output_type": "execute_result"
    }
   ],
   "source": [
    "df['vapor_pressure_deficit (kPa)'].describe()"
   ]
  },
  {
   "cell_type": "code",
   "execution_count": 45,
   "metadata": {},
   "outputs": [
    {
     "name": "stdout",
     "output_type": "stream",
     "text": [
      "Mean:  0.5234202045500033\n",
      "\n",
      "Standard deviation:  0.1341113357174408\n",
      "\n",
      "Outliers  :  [0.9568340163934426, 0.9266221461187216, 1.0894041095890412, 0.984077868852459, 1.009369863013699, 0.9790482695810564]\n"
     ]
    }
   ],
   "source": [
    "mean = np.mean(df['vapor_pressure_deficit (kPa)'])\n",
    "std = np.std(df['vapor_pressure_deficit (kPa)'])\n",
    " \n",
    "threshold = 3\n",
    "outliers = []\n",
    "for x in df['vapor_pressure_deficit (kPa)']:\n",
    "    z_score = (x - mean) / std\n",
    "    if abs(z_score) > threshold:\n",
    "        outliers.append(x)\n",
    "print(\"Mean: \",mean)\n",
    "print(\"\\nStandard deviation: \",std)\n",
    "print(\"\\nOutliers  : \", outliers)"
   ]
  },
  {
   "cell_type": "code",
   "execution_count": 46,
   "metadata": {},
   "outputs": [],
   "source": [
    "upper_limit = df['vapor_pressure_deficit (kPa)'].mean() + 3*df['vapor_pressure_deficit (kPa)'].std()\n",
    "lower_limit = df['vapor_pressure_deficit (kPa)'].mean() - 3*df['vapor_pressure_deficit (kPa)'].std()\n",
    "\n",
    "df['vapor_pressure_deficit (kPa)'] = np.where(\n",
    "    df['vapor_pressure_deficit (kPa)']>upper_limit,\n",
    "    upper_limit,\n",
    "    np.where(\n",
    "        df['vapor_pressure_deficit (kPa)']<lower_limit,\n",
    "        lower_limit,\n",
    "        df['vapor_pressure_deficit (kPa)']\n",
    "    )\n",
    ")"
   ]
  },
  {
   "cell_type": "code",
   "execution_count": 47,
   "metadata": {},
   "outputs": [
    {
     "data": {
      "text/plain": [
       "count    957.000000\n",
       "mean       0.523013\n",
       "std        0.132792\n",
       "min        0.240229\n",
       "25%        0.425146\n",
       "50%        0.536473\n",
       "75%        0.614129\n",
       "max        0.925965\n",
       "Name: vapor_pressure_deficit (kPa), dtype: float64"
      ]
     },
     "execution_count": 47,
     "metadata": {},
     "output_type": "execute_result"
    }
   ],
   "source": [
    "df['vapor_pressure_deficit (kPa)'].describe()"
   ]
  },
  {
   "cell_type": "markdown",
   "metadata": {},
   "source": [
    "### windspeed_10m (km/h)"
   ]
  },
  {
   "cell_type": "code",
   "execution_count": 48,
   "metadata": {},
   "outputs": [
    {
     "data": {
      "text/plain": [
       "count    957.000000\n",
       "mean       6.706778\n",
       "std        3.932277\n",
       "min        2.694820\n",
       "25%        4.373390\n",
       "50%        5.370148\n",
       "75%        7.670365\n",
       "max       20.040411\n",
       "Name: windspeed_10m (km/h), dtype: float64"
      ]
     },
     "execution_count": 48,
     "metadata": {},
     "output_type": "execute_result"
    }
   ],
   "source": [
    "df['windspeed_10m (km/h)'].describe()"
   ]
  },
  {
   "cell_type": "code",
   "execution_count": 49,
   "metadata": {},
   "outputs": [
    {
     "name": "stdout",
     "output_type": "stream",
     "text": [
      "Mean:  6.706777619341979\n",
      "\n",
      "Standard deviation:  3.930221800037622\n",
      "\n",
      "Outliers  :  [19.233630136986303, 19.93014840182649, 19.020366575591986, 19.810650684931502, 19.256792237442923, 19.053310502283104, 18.62867579908676, 19.187306466302367, 18.56763698630137, 18.507796803652965, 19.18004566210045, 19.371026867030967, 20.04041095890411, 19.19715391621129, 18.85810502283105, 19.831130136986303, 19.40513698630137, 19.25642076502732, 18.7136301369863, 19.2362100456621, 18.55232876712329, 19.686164383561643, 19.08711187214612, 19.83657786885246, 19.25576484018265, 19.84117579908676, 19.097397260273976, 19.447340182648404, 19.132922374429224]\n"
     ]
    }
   ],
   "source": [
    "mean = np.mean(df['windspeed_10m (km/h)'])\n",
    "std = np.std(df['windspeed_10m (km/h)'])\n",
    " \n",
    "threshold = 3\n",
    "outliers = []\n",
    "for x in df['windspeed_10m (km/h)']:\n",
    "    z_score = (x - mean) / std\n",
    "    if abs(z_score) > threshold:\n",
    "        outliers.append(x)\n",
    "print(\"Mean: \",mean)\n",
    "print(\"\\nStandard deviation: \",std)\n",
    "print(\"\\nOutliers  : \", outliers)"
   ]
  },
  {
   "cell_type": "code",
   "execution_count": 50,
   "metadata": {},
   "outputs": [],
   "source": [
    "upper_limit = df['windspeed_10m (km/h)'].mean() + 3*df['windspeed_10m (km/h)'].std()\n",
    "lower_limit = df['windspeed_10m (km/h)'].mean() - 3*df['windspeed_10m (km/h)'].std()\n",
    "\n",
    "df['windspeed_10m (km/h)'] = np.where(\n",
    "    df['windspeed_10m (km/h)']>upper_limit,\n",
    "    upper_limit,\n",
    "    np.where(\n",
    "        df['windspeed_10m (km/h)']<lower_limit,\n",
    "        lower_limit,\n",
    "        df['windspeed_10m (km/h)']\n",
    "    )\n",
    ")"
   ]
  },
  {
   "cell_type": "code",
   "execution_count": 51,
   "metadata": {},
   "outputs": [
    {
     "data": {
      "text/plain": [
       "count    957.000000\n",
       "mean       6.684189\n",
       "std        3.860891\n",
       "min        2.694820\n",
       "25%        4.373390\n",
       "50%        5.370148\n",
       "75%        7.670365\n",
       "max       18.503608\n",
       "Name: windspeed_10m (km/h), dtype: float64"
      ]
     },
     "execution_count": 51,
     "metadata": {},
     "output_type": "execute_result"
    }
   ],
   "source": [
    "df['windspeed_10m (km/h)'].describe()"
   ]
  },
  {
   "cell_type": "markdown",
   "metadata": {},
   "source": [
    "### winddirection_10m (°)"
   ]
  },
  {
   "cell_type": "code",
   "execution_count": 52,
   "metadata": {},
   "outputs": [
    {
     "data": {
      "text/plain": [
       "count    957.000000\n",
       "mean     167.901813\n",
       "std       25.848587\n",
       "min      102.151370\n",
       "25%      147.480305\n",
       "50%      167.572831\n",
       "75%      185.453324\n",
       "max      240.453995\n",
       "Name: winddirection_10m (°), dtype: float64"
      ]
     },
     "execution_count": 52,
     "metadata": {},
     "output_type": "execute_result"
    }
   ],
   "source": [
    "df['winddirection_10m (°)'].describe()"
   ]
  },
  {
   "cell_type": "code",
   "execution_count": 53,
   "metadata": {},
   "outputs": [
    {
     "name": "stdout",
     "output_type": "stream",
     "text": [
      "Mean:  167.90181276735535\n",
      "\n",
      "Standard deviation:  25.835078761120528\n",
      "\n",
      "Outliers  :  []\n"
     ]
    }
   ],
   "source": [
    "mean = np.mean(df['winddirection_10m (°)'])\n",
    "std = np.std(df['winddirection_10m (°)'])\n",
    " \n",
    "threshold = 3\n",
    "outliers = []\n",
    "for x in df['winddirection_10m (°)']:\n",
    "    z_score = (x - mean) / std\n",
    "    if abs(z_score) > threshold:\n",
    "        outliers.append(x)\n",
    "print(\"Mean: \",mean)\n",
    "print(\"\\nStandard deviation: \",std)\n",
    "print(\"\\nOutliers  : \", outliers)"
   ]
  },
  {
   "cell_type": "markdown",
   "metadata": {},
   "source": [
    "### windgusts_10m (km/h)"
   ]
  },
  {
   "cell_type": "code",
   "execution_count": 54,
   "metadata": {},
   "outputs": [
    {
     "data": {
      "text/plain": [
       "count    957.000000\n",
       "mean      18.107908\n",
       "std        3.473441\n",
       "min       11.438721\n",
       "25%       16.027641\n",
       "50%       17.547374\n",
       "75%       19.259085\n",
       "max       29.767032\n",
       "Name: windgusts_10m (km/h), dtype: float64"
      ]
     },
     "execution_count": 54,
     "metadata": {},
     "output_type": "execute_result"
    }
   ],
   "source": [
    "df['windgusts_10m (km/h)'].describe()"
   ]
  },
  {
   "cell_type": "code",
   "execution_count": 55,
   "metadata": {},
   "outputs": [
    {
     "name": "stdout",
     "output_type": "stream",
     "text": [
      "Mean:  18.107907891381224\n",
      "\n",
      "Standard deviation:  3.4716255755403025\n",
      "\n",
      "Outliers  :  [28.61730593607306, 29.323082191780824, 29.76703196347032, 28.53336757990868, 29.47859589041096, 28.72324200913242, 29.312226027397266, 28.64623287671233, 29.591757741347905, 28.526883561643835, 29.339726027397266, 28.88730593607306]\n"
     ]
    }
   ],
   "source": [
    "mean = np.mean(df['windgusts_10m (km/h)'])\n",
    "std = np.std(df['windgusts_10m (km/h)'])\n",
    " \n",
    "threshold = 3\n",
    "outliers = []\n",
    "for x in df['windgusts_10m (km/h)']:\n",
    "    z_score = (x - mean) / std\n",
    "    if abs(z_score) > threshold:\n",
    "        outliers.append(x)\n",
    "print(\"Mean: \",mean)\n",
    "print(\"\\nStandard deviation: \",std)\n",
    "print(\"\\nOutliers  : \", outliers)"
   ]
  },
  {
   "cell_type": "code",
   "execution_count": 56,
   "metadata": {},
   "outputs": [],
   "source": [
    "upper_limit = df['windgusts_10m (km/h)'].mean() + 3*df['windgusts_10m (km/h)'].std()\n",
    "lower_limit = df['windgusts_10m (km/h)'].mean() - 3*df['windgusts_10m (km/h)'].std()\n",
    "\n",
    "df['windgusts_10m (km/h)'] = np.where(\n",
    "    df['windgusts_10m (km/h)']>upper_limit,\n",
    "    upper_limit,\n",
    "    np.where(\n",
    "        df['windgusts_10m (km/h)']<lower_limit,\n",
    "        lower_limit,\n",
    "        df['windgusts_10m (km/h)']\n",
    "    )\n",
    ")"
   ]
  },
  {
   "cell_type": "code",
   "execution_count": 57,
   "metadata": {},
   "outputs": [
    {
     "data": {
      "text/plain": [
       "count    957.000000\n",
       "mean      18.101211\n",
       "std        3.452405\n",
       "min       11.438721\n",
       "25%       16.027641\n",
       "50%       17.547374\n",
       "75%       19.259085\n",
       "max       28.528230\n",
       "Name: windgusts_10m (km/h), dtype: float64"
      ]
     },
     "execution_count": 57,
     "metadata": {},
     "output_type": "execute_result"
    }
   ],
   "source": [
    "df['windgusts_10m (km/h)'].describe()"
   ]
  },
  {
   "cell_type": "markdown",
   "metadata": {},
   "source": [
    "### soil_temperature_28_to_100cm (°C)"
   ]
  },
  {
   "cell_type": "code",
   "execution_count": 58,
   "metadata": {},
   "outputs": [
    {
     "data": {
      "text/plain": [
       "count    957.000000\n",
       "mean      26.154387\n",
       "std        1.969559\n",
       "min       20.910622\n",
       "25%       24.714754\n",
       "50%       26.615468\n",
       "75%       27.446884\n",
       "max       31.171849\n",
       "Name: soil_temperature_28_to_100cm (°C), dtype: float64"
      ]
     },
     "execution_count": 58,
     "metadata": {},
     "output_type": "execute_result"
    }
   ],
   "source": [
    "df['soil_temperature_28_to_100cm (°C)'].describe()"
   ]
  },
  {
   "cell_type": "code",
   "execution_count": 59,
   "metadata": {},
   "outputs": [
    {
     "name": "stdout",
     "output_type": "stream",
     "text": [
      "Mean:  26.154386806569722\n",
      "\n",
      "Standard deviation:  1.9685298290249793\n",
      "\n",
      "Outliers  :  []\n"
     ]
    }
   ],
   "source": [
    "mean = np.mean(df['soil_temperature_28_to_100cm (°C)'])\n",
    "std = np.std(df['soil_temperature_28_to_100cm (°C)'])\n",
    " \n",
    "threshold = 3\n",
    "outliers = []\n",
    "for x in df['soil_temperature_28_to_100cm (°C)']:\n",
    "    z_score = (x - mean) / std\n",
    "    if abs(z_score) > threshold:\n",
    "        outliers.append(x)\n",
    "print(\"Mean: \",mean)\n",
    "print(\"\\nStandard deviation: \",std)\n",
    "print(\"\\nOutliers  : \", outliers)"
   ]
  },
  {
   "cell_type": "markdown",
   "metadata": {},
   "source": [
    "### soil_moisture_28_to_100cm (m³/m³)"
   ]
  },
  {
   "cell_type": "code",
   "execution_count": 60,
   "metadata": {},
   "outputs": [
    {
     "data": {
      "text/plain": [
       "count    957.000000\n",
       "mean       0.376344\n",
       "std        0.095617\n",
       "min        0.000000\n",
       "25%        0.358457\n",
       "50%        0.400144\n",
       "75%        0.431587\n",
       "max        0.481368\n",
       "Name: soil_moisture_28_to_100cm (m³/m³), dtype: float64"
      ]
     },
     "execution_count": 60,
     "metadata": {},
     "output_type": "execute_result"
    }
   ],
   "source": [
    "df['soil_moisture_28_to_100cm (m³/m³)'].describe()"
   ]
  },
  {
   "cell_type": "code",
   "execution_count": 61,
   "metadata": {},
   "outputs": [
    {
     "name": "stdout",
     "output_type": "stream",
     "text": [
      "Mean:  0.3763435039259923\n",
      "\n",
      "Standard deviation:  0.09556743365571212\n",
      "\n",
      "Outliers  :  [0.0, 0.0, 0.0, 0.0, 0.0, 0.0, 0.0, 0.0, 0.0, 0.0, 0.0, 0.0, 0.0, 0.0, 0.0, 0.0, 0.0, 0.0, 0.0, 0.0, 0.0, 0.0, 0.0, 0.0, 0.0, 0.0, 0.0, 0.0, 0.0, 0.0, 0.0, 0.0, 0.0]\n"
     ]
    }
   ],
   "source": [
    "mean = np.mean(df['soil_moisture_28_to_100cm (m³/m³)'])\n",
    "std = np.std(df['soil_moisture_28_to_100cm (m³/m³)'])\n",
    " \n",
    "threshold = 3\n",
    "outliers = []\n",
    "for x in df['soil_moisture_28_to_100cm (m³/m³)']:\n",
    "    z_score = (x - mean) / std\n",
    "    if abs(z_score) > threshold:\n",
    "        outliers.append(x)\n",
    "print(\"Mean: \",mean)\n",
    "print(\"\\nStandard deviation: \",std)\n",
    "print(\"\\nOutliers  : \", outliers)"
   ]
  },
  {
   "cell_type": "code",
   "execution_count": 62,
   "metadata": {},
   "outputs": [],
   "source": [
    "upper_limit = df['soil_moisture_28_to_100cm (m³/m³)'].mean() + 3*df['soil_moisture_28_to_100cm (m³/m³)'].std()\n",
    "lower_limit = df['soil_moisture_28_to_100cm (m³/m³)'].mean() - 3*df['soil_moisture_28_to_100cm (m³/m³)'].std()\n",
    "\n",
    "df['soil_moisture_28_to_100cm (m³/m³)'] = np.where(\n",
    "    df['soil_moisture_28_to_100cm (m³/m³)']>upper_limit,\n",
    "    upper_limit,\n",
    "    np.where(\n",
    "        df['soil_moisture_28_to_100cm (m³/m³)']<lower_limit,\n",
    "        lower_limit,\n",
    "        df['soil_moisture_28_to_100cm (m³/m³)']\n",
    "    )\n",
    ")"
   ]
  },
  {
   "cell_type": "code",
   "execution_count": 63,
   "metadata": {},
   "outputs": [
    {
     "data": {
      "text/plain": [
       "count    957.000000\n",
       "mean       0.379429\n",
       "std        0.084169\n",
       "min        0.089491\n",
       "25%        0.358457\n",
       "50%        0.400144\n",
       "75%        0.431587\n",
       "max        0.481368\n",
       "Name: soil_moisture_28_to_100cm (m³/m³), dtype: float64"
      ]
     },
     "execution_count": 63,
     "metadata": {},
     "output_type": "execute_result"
    }
   ],
   "source": [
    "df['soil_moisture_28_to_100cm (m³/m³)'].describe()"
   ]
  },
  {
   "cell_type": "markdown",
   "metadata": {},
   "source": [
    "### direct_radiation (W/m²)"
   ]
  },
  {
   "cell_type": "code",
   "execution_count": 64,
   "metadata": {},
   "outputs": [
    {
     "data": {
      "text/plain": [
       "count    957.000000\n",
       "mean     139.248642\n",
       "std       15.195995\n",
       "min      102.877854\n",
       "25%      128.430442\n",
       "50%      138.774087\n",
       "75%      147.594863\n",
       "max      191.157420\n",
       "Name: direct_radiation (W/m²), dtype: float64"
      ]
     },
     "execution_count": 64,
     "metadata": {},
     "output_type": "execute_result"
    }
   ],
   "source": [
    "df['direct_radiation (W/m²)'].describe()"
   ]
  },
  {
   "cell_type": "code",
   "execution_count": 65,
   "metadata": {},
   "outputs": [
    {
     "name": "stdout",
     "output_type": "stream",
     "text": [
      "Mean:  139.24864172150902\n",
      "\n",
      "Standard deviation:  15.188053690196968\n",
      "\n",
      "Outliers  :  [191.1574200913242]\n"
     ]
    }
   ],
   "source": [
    "mean = np.mean(df['direct_radiation (W/m²)'])\n",
    "std = np.std(df['direct_radiation (W/m²)'])\n",
    " \n",
    "threshold = 3\n",
    "outliers = []\n",
    "for x in df['direct_radiation (W/m²)']:\n",
    "    z_score = (x - mean) / std\n",
    "    if abs(z_score) > threshold:\n",
    "        outliers.append(x)\n",
    "print(\"Mean: \",mean)\n",
    "print(\"\\nStandard deviation: \",std)\n",
    "print(\"\\nOutliers  : \", outliers)"
   ]
  },
  {
   "cell_type": "code",
   "execution_count": 66,
   "metadata": {},
   "outputs": [],
   "source": [
    "upper_limit = df['direct_radiation (W/m²)'].mean() + 3*df['direct_radiation (W/m²)'].std()\n",
    "lower_limit = df['direct_radiation (W/m²)'].mean() - 3*df['direct_radiation (W/m²)'].std()\n",
    "\n",
    "df['direct_radiation (W/m²)'] = np.where(\n",
    "    df['direct_radiation (W/m²)']>upper_limit,\n",
    "    upper_limit,\n",
    "    np.where(\n",
    "        df['direct_radiation (W/m²)']<lower_limit,\n",
    "        lower_limit,\n",
    "        df['direct_radiation (W/m²)']\n",
    "    )\n",
    ")"
   ]
  },
  {
   "cell_type": "code",
   "execution_count": 67,
   "metadata": {},
   "outputs": [
    {
     "data": {
      "text/plain": [
       "count    957.000000\n",
       "mean     139.242037\n",
       "std       15.174769\n",
       "min      102.877854\n",
       "25%      128.430442\n",
       "50%      138.774087\n",
       "75%      147.594863\n",
       "max      184.836627\n",
       "Name: direct_radiation (W/m²), dtype: float64"
      ]
     },
     "execution_count": 67,
     "metadata": {},
     "output_type": "execute_result"
    }
   ],
   "source": [
    "df['direct_radiation (W/m²)'].describe()"
   ]
  },
  {
   "cell_type": "markdown",
   "metadata": {},
   "source": [
    "### diffuse_radiation (W/m²)"
   ]
  },
  {
   "cell_type": "code",
   "execution_count": 68,
   "metadata": {},
   "outputs": [
    {
     "data": {
      "text/plain": [
       "count    957.000000\n",
       "mean      72.933381\n",
       "std        3.379131\n",
       "min       60.199886\n",
       "25%       70.765411\n",
       "50%       72.816438\n",
       "75%       75.388014\n",
       "max       81.203539\n",
       "Name: diffuse_radiation (W/m²), dtype: float64"
      ]
     },
     "execution_count": 68,
     "metadata": {},
     "output_type": "execute_result"
    }
   ],
   "source": [
    "df['diffuse_radiation (W/m²)'].describe()"
   ]
  },
  {
   "cell_type": "code",
   "execution_count": 69,
   "metadata": {},
   "outputs": [
    {
     "name": "stdout",
     "output_type": "stream",
     "text": [
      "Mean:  72.93338060526844\n",
      "\n",
      "Standard deviation:  3.3773650222017277\n",
      "\n",
      "Outliers  :  [62.56849315068493, 60.199885844748856]\n"
     ]
    }
   ],
   "source": [
    "mean = np.mean(df['diffuse_radiation (W/m²)'])\n",
    "std = np.std(df['diffuse_radiation (W/m²)'])\n",
    " \n",
    "threshold = 3\n",
    "outliers = []\n",
    "for x in df['diffuse_radiation (W/m²)']:\n",
    "    z_score = (x - mean) / std\n",
    "    if abs(z_score) > threshold:\n",
    "        outliers.append(x)\n",
    "print(\"Mean: \",mean)\n",
    "print(\"\\nStandard deviation: \",std)\n",
    "print(\"\\nOutliers  : \", outliers)"
   ]
  },
  {
   "cell_type": "code",
   "execution_count": 70,
   "metadata": {},
   "outputs": [],
   "source": [
    "upper_limit = df['diffuse_radiation (W/m²)'].mean() + 3*df['diffuse_radiation (W/m²)'].std()\n",
    "lower_limit = df['diffuse_radiation (W/m²)'].mean() - 3*df['diffuse_radiation (W/m²)'].std()\n",
    "\n",
    "df['diffuse_radiation (W/m²)'] = np.where(\n",
    "    df['diffuse_radiation (W/m²)']>upper_limit,\n",
    "    upper_limit,\n",
    "    np.where(\n",
    "        df['diffuse_radiation (W/m²)']<lower_limit,\n",
    "        lower_limit,\n",
    "        df['diffuse_radiation (W/m²)']\n",
    "    )\n",
    ")"
   ]
  },
  {
   "cell_type": "code",
   "execution_count": 71,
   "metadata": {},
   "outputs": [
    {
     "data": {
      "text/plain": [
       "count    957.000000\n",
       "mean      72.936331\n",
       "std        3.369203\n",
       "min       62.795988\n",
       "25%       70.765411\n",
       "50%       72.816438\n",
       "75%       75.388014\n",
       "max       81.203539\n",
       "Name: diffuse_radiation (W/m²), dtype: float64"
      ]
     },
     "execution_count": 71,
     "metadata": {},
     "output_type": "execute_result"
    }
   ],
   "source": [
    "df['diffuse_radiation (W/m²)'].describe()"
   ]
  },
  {
   "cell_type": "code",
   "execution_count": 74,
   "metadata": {},
   "outputs": [
    {
     "data": {
      "text/plain": [
       "Index(['Year', 'Location', 'Production (mt)', 'Area (ha)', 'Yield (mt/ha)',\n",
       "       'weathercode (wmo code)', 'temperature_2m (°C)',\n",
       "       'relativehumidity_2m (%)', 'dewpoint_2m (°C)', 'rain (mm)',\n",
       "       'surface_pressure (hPa)', 'cloudcover (%)',\n",
       "       'et0_fao_evapotranspiration (mm)', 'vapor_pressure_deficit (kPa)',\n",
       "       'windspeed_10m (km/h)', 'winddirection_10m (°)', 'windgusts_10m (km/h)',\n",
       "       'soil_temperature_28_to_100cm (°C)',\n",
       "       'soil_moisture_28_to_100cm (m³/m³)', 'direct_radiation (W/m²)',\n",
       "       'diffuse_radiation (W/m²)'],\n",
       "      dtype='object')"
      ]
     },
     "execution_count": 74,
     "metadata": {},
     "output_type": "execute_result"
    }
   ],
   "source": [
    "df.columns"
   ]
  },
  {
   "cell_type": "code",
   "execution_count": 75,
   "metadata": {},
   "outputs": [
    {
     "data": {
      "text/html": [
       "<div>\n",
       "<style scoped>\n",
       "    .dataframe tbody tr th:only-of-type {\n",
       "        vertical-align: middle;\n",
       "    }\n",
       "\n",
       "    .dataframe tbody tr th {\n",
       "        vertical-align: top;\n",
       "    }\n",
       "\n",
       "    .dataframe thead th {\n",
       "        text-align: right;\n",
       "    }\n",
       "</style>\n",
       "<table border=\"1\" class=\"dataframe\">\n",
       "  <thead>\n",
       "    <tr style=\"text-align: right;\">\n",
       "      <th></th>\n",
       "      <th>Year</th>\n",
       "      <th>Location</th>\n",
       "      <th>Production (mt)</th>\n",
       "      <th>Area (ha)</th>\n",
       "      <th>Yield (mt/ha)</th>\n",
       "      <th>weathercode (wmo code)</th>\n",
       "      <th>temperature_2m (°C)</th>\n",
       "      <th>relativehumidity_2m (%)</th>\n",
       "      <th>dewpoint_2m (°C)</th>\n",
       "      <th>rain (mm)</th>\n",
       "      <th>surface_pressure (hPa)</th>\n",
       "      <th>cloudcover (%)</th>\n",
       "      <th>et0_fao_evapotranspiration (mm)</th>\n",
       "      <th>vapor_pressure_deficit (kPa)</th>\n",
       "      <th>soil_temperature_28_to_100cm (°C)</th>\n",
       "      <th>soil_moisture_28_to_100cm (m³/m³)</th>\n",
       "      <th>direct_radiation (W/m²)</th>\n",
       "      <th>diffuse_radiation (W/m²)</th>\n",
       "    </tr>\n",
       "  </thead>\n",
       "  <tbody>\n",
       "    <tr>\n",
       "      <th>0</th>\n",
       "      <td>1990</td>\n",
       "      <td>ZAMBOANGA DEL NORTE</td>\n",
       "      <td>41.14</td>\n",
       "      <td>91.0</td>\n",
       "      <td>0.452088</td>\n",
       "      <td>3</td>\n",
       "      <td>23.486279</td>\n",
       "      <td>86.200457</td>\n",
       "      <td>20.899235</td>\n",
       "      <td>0.365126</td>\n",
       "      <td>947.709498</td>\n",
       "      <td>70.154680</td>\n",
       "      <td>0.153233</td>\n",
       "      <td>0.435739</td>\n",
       "      <td>25.227021</td>\n",
       "      <td>0.401853</td>\n",
       "      <td>151.119064</td>\n",
       "      <td>70.720548</td>\n",
       "    </tr>\n",
       "    <tr>\n",
       "      <th>1</th>\n",
       "      <td>1991</td>\n",
       "      <td>ZAMBOANGA DEL NORTE</td>\n",
       "      <td>53.28</td>\n",
       "      <td>108.0</td>\n",
       "      <td>0.493333</td>\n",
       "      <td>3</td>\n",
       "      <td>23.378607</td>\n",
       "      <td>86.403995</td>\n",
       "      <td>20.856210</td>\n",
       "      <td>0.292443</td>\n",
       "      <td>947.897831</td>\n",
       "      <td>71.524658</td>\n",
       "      <td>0.153091</td>\n",
       "      <td>0.422427</td>\n",
       "      <td>25.074669</td>\n",
       "      <td>0.404063</td>\n",
       "      <td>147.845890</td>\n",
       "      <td>75.080251</td>\n",
       "    </tr>\n",
       "    <tr>\n",
       "      <th>2</th>\n",
       "      <td>1992</td>\n",
       "      <td>ZAMBOANGA DEL NORTE</td>\n",
       "      <td>71.34</td>\n",
       "      <td>114.0</td>\n",
       "      <td>0.625789</td>\n",
       "      <td>3</td>\n",
       "      <td>23.253153</td>\n",
       "      <td>86.111225</td>\n",
       "      <td>20.664014</td>\n",
       "      <td>0.320560</td>\n",
       "      <td>948.140301</td>\n",
       "      <td>66.843010</td>\n",
       "      <td>0.154016</td>\n",
       "      <td>0.430523</td>\n",
       "      <td>25.086202</td>\n",
       "      <td>0.399902</td>\n",
       "      <td>149.374203</td>\n",
       "      <td>74.632628</td>\n",
       "    </tr>\n",
       "    <tr>\n",
       "      <th>3</th>\n",
       "      <td>1993</td>\n",
       "      <td>ZAMBOANGA DEL NORTE</td>\n",
       "      <td>78.88</td>\n",
       "      <td>123.0</td>\n",
       "      <td>0.641301</td>\n",
       "      <td>3</td>\n",
       "      <td>23.086187</td>\n",
       "      <td>88.171575</td>\n",
       "      <td>20.931313</td>\n",
       "      <td>0.413082</td>\n",
       "      <td>947.978059</td>\n",
       "      <td>72.979110</td>\n",
       "      <td>0.147360</td>\n",
       "      <td>0.360022</td>\n",
       "      <td>24.700765</td>\n",
       "      <td>0.450554</td>\n",
       "      <td>141.238014</td>\n",
       "      <td>75.799315</td>\n",
       "    </tr>\n",
       "    <tr>\n",
       "      <th>4</th>\n",
       "      <td>1994</td>\n",
       "      <td>ZAMBOANGA DEL NORTE</td>\n",
       "      <td>85.71</td>\n",
       "      <td>128.0</td>\n",
       "      <td>0.669609</td>\n",
       "      <td>3</td>\n",
       "      <td>23.100217</td>\n",
       "      <td>88.401142</td>\n",
       "      <td>20.990674</td>\n",
       "      <td>0.391427</td>\n",
       "      <td>947.781906</td>\n",
       "      <td>76.482534</td>\n",
       "      <td>0.144709</td>\n",
       "      <td>0.352926</td>\n",
       "      <td>24.679966</td>\n",
       "      <td>0.438253</td>\n",
       "      <td>139.645320</td>\n",
       "      <td>73.633562</td>\n",
       "    </tr>\n",
       "    <tr>\n",
       "      <th>...</th>\n",
       "      <td>...</td>\n",
       "      <td>...</td>\n",
       "      <td>...</td>\n",
       "      <td>...</td>\n",
       "      <td>...</td>\n",
       "      <td>...</td>\n",
       "      <td>...</td>\n",
       "      <td>...</td>\n",
       "      <td>...</td>\n",
       "      <td>...</td>\n",
       "      <td>...</td>\n",
       "      <td>...</td>\n",
       "      <td>...</td>\n",
       "      <td>...</td>\n",
       "      <td>...</td>\n",
       "      <td>...</td>\n",
       "      <td>...</td>\n",
       "      <td>...</td>\n",
       "    </tr>\n",
       "    <tr>\n",
       "      <th>952</th>\n",
       "      <td>2018</td>\n",
       "      <td>TAWI-TAWI</td>\n",
       "      <td>0.00</td>\n",
       "      <td>0.0</td>\n",
       "      <td>0.000000</td>\n",
       "      <td>1</td>\n",
       "      <td>25.101781</td>\n",
       "      <td>81.959703</td>\n",
       "      <td>21.787637</td>\n",
       "      <td>0.180468</td>\n",
       "      <td>970.402146</td>\n",
       "      <td>43.909932</td>\n",
       "      <td>0.164605</td>\n",
       "      <td>0.577837</td>\n",
       "      <td>26.616324</td>\n",
       "      <td>0.089491</td>\n",
       "      <td>164.635959</td>\n",
       "      <td>71.210502</td>\n",
       "    </tr>\n",
       "    <tr>\n",
       "      <th>953</th>\n",
       "      <td>2019</td>\n",
       "      <td>TAWI-TAWI</td>\n",
       "      <td>0.00</td>\n",
       "      <td>0.0</td>\n",
       "      <td>0.000000</td>\n",
       "      <td>1</td>\n",
       "      <td>25.174361</td>\n",
       "      <td>81.307420</td>\n",
       "      <td>21.708082</td>\n",
       "      <td>0.107192</td>\n",
       "      <td>971.181427</td>\n",
       "      <td>36.225799</td>\n",
       "      <td>0.174063</td>\n",
       "      <td>0.600727</td>\n",
       "      <td>26.571689</td>\n",
       "      <td>0.089491</td>\n",
       "      <td>184.635274</td>\n",
       "      <td>65.579452</td>\n",
       "    </tr>\n",
       "    <tr>\n",
       "      <th>954</th>\n",
       "      <td>2020</td>\n",
       "      <td>TAWI-TAWI</td>\n",
       "      <td>0.00</td>\n",
       "      <td>0.0</td>\n",
       "      <td>0.000000</td>\n",
       "      <td>1</td>\n",
       "      <td>25.272291</td>\n",
       "      <td>80.921790</td>\n",
       "      <td>21.740745</td>\n",
       "      <td>0.174499</td>\n",
       "      <td>970.776548</td>\n",
       "      <td>43.682491</td>\n",
       "      <td>0.165880</td>\n",
       "      <td>0.617793</td>\n",
       "      <td>26.978802</td>\n",
       "      <td>0.089491</td>\n",
       "      <td>165.257628</td>\n",
       "      <td>68.485087</td>\n",
       "    </tr>\n",
       "    <tr>\n",
       "      <th>955</th>\n",
       "      <td>2021</td>\n",
       "      <td>TAWI-TAWI</td>\n",
       "      <td>0.00</td>\n",
       "      <td>0.0</td>\n",
       "      <td>0.000000</td>\n",
       "      <td>1</td>\n",
       "      <td>25.110696</td>\n",
       "      <td>81.587671</td>\n",
       "      <td>21.717591</td>\n",
       "      <td>0.244247</td>\n",
       "      <td>970.380000</td>\n",
       "      <td>47.829110</td>\n",
       "      <td>0.159237</td>\n",
       "      <td>0.591193</td>\n",
       "      <td>26.899030</td>\n",
       "      <td>0.089491</td>\n",
       "      <td>150.401142</td>\n",
       "      <td>73.859817</td>\n",
       "    </tr>\n",
       "    <tr>\n",
       "      <th>956</th>\n",
       "      <td>2022</td>\n",
       "      <td>TAWI-TAWI</td>\n",
       "      <td>0.00</td>\n",
       "      <td>0.0</td>\n",
       "      <td>0.000000</td>\n",
       "      <td>51</td>\n",
       "      <td>25.006564</td>\n",
       "      <td>81.811986</td>\n",
       "      <td>21.663824</td>\n",
       "      <td>0.265457</td>\n",
       "      <td>970.019189</td>\n",
       "      <td>50.471461</td>\n",
       "      <td>0.156398</td>\n",
       "      <td>0.580019</td>\n",
       "      <td>26.713881</td>\n",
       "      <td>0.089491</td>\n",
       "      <td>145.631735</td>\n",
       "      <td>75.376826</td>\n",
       "    </tr>\n",
       "  </tbody>\n",
       "</table>\n",
       "<p>957 rows × 18 columns</p>\n",
       "</div>"
      ],
      "text/plain": [
       "     Year             Location  Production (mt)  Area (ha)  Yield (mt/ha)  \\\n",
       "0    1990  ZAMBOANGA DEL NORTE            41.14       91.0       0.452088   \n",
       "1    1991  ZAMBOANGA DEL NORTE            53.28      108.0       0.493333   \n",
       "2    1992  ZAMBOANGA DEL NORTE            71.34      114.0       0.625789   \n",
       "3    1993  ZAMBOANGA DEL NORTE            78.88      123.0       0.641301   \n",
       "4    1994  ZAMBOANGA DEL NORTE            85.71      128.0       0.669609   \n",
       "..    ...                  ...              ...        ...            ...   \n",
       "952  2018            TAWI-TAWI             0.00        0.0       0.000000   \n",
       "953  2019            TAWI-TAWI             0.00        0.0       0.000000   \n",
       "954  2020            TAWI-TAWI             0.00        0.0       0.000000   \n",
       "955  2021            TAWI-TAWI             0.00        0.0       0.000000   \n",
       "956  2022            TAWI-TAWI             0.00        0.0       0.000000   \n",
       "\n",
       "    weathercode (wmo code)  temperature_2m (°C)  relativehumidity_2m (%)  \\\n",
       "0                        3            23.486279                86.200457   \n",
       "1                        3            23.378607                86.403995   \n",
       "2                        3            23.253153                86.111225   \n",
       "3                        3            23.086187                88.171575   \n",
       "4                        3            23.100217                88.401142   \n",
       "..                     ...                  ...                      ...   \n",
       "952                      1            25.101781                81.959703   \n",
       "953                      1            25.174361                81.307420   \n",
       "954                      1            25.272291                80.921790   \n",
       "955                      1            25.110696                81.587671   \n",
       "956                     51            25.006564                81.811986   \n",
       "\n",
       "     dewpoint_2m (°C)  rain (mm)  surface_pressure (hPa)  cloudcover (%)  \\\n",
       "0           20.899235   0.365126              947.709498       70.154680   \n",
       "1           20.856210   0.292443              947.897831       71.524658   \n",
       "2           20.664014   0.320560              948.140301       66.843010   \n",
       "3           20.931313   0.413082              947.978059       72.979110   \n",
       "4           20.990674   0.391427              947.781906       76.482534   \n",
       "..                ...        ...                     ...             ...   \n",
       "952         21.787637   0.180468              970.402146       43.909932   \n",
       "953         21.708082   0.107192              971.181427       36.225799   \n",
       "954         21.740745   0.174499              970.776548       43.682491   \n",
       "955         21.717591   0.244247              970.380000       47.829110   \n",
       "956         21.663824   0.265457              970.019189       50.471461   \n",
       "\n",
       "     et0_fao_evapotranspiration (mm)  vapor_pressure_deficit (kPa)  \\\n",
       "0                           0.153233                      0.435739   \n",
       "1                           0.153091                      0.422427   \n",
       "2                           0.154016                      0.430523   \n",
       "3                           0.147360                      0.360022   \n",
       "4                           0.144709                      0.352926   \n",
       "..                               ...                           ...   \n",
       "952                         0.164605                      0.577837   \n",
       "953                         0.174063                      0.600727   \n",
       "954                         0.165880                      0.617793   \n",
       "955                         0.159237                      0.591193   \n",
       "956                         0.156398                      0.580019   \n",
       "\n",
       "     soil_temperature_28_to_100cm (°C)  soil_moisture_28_to_100cm (m³/m³)  \\\n",
       "0                            25.227021                           0.401853   \n",
       "1                            25.074669                           0.404063   \n",
       "2                            25.086202                           0.399902   \n",
       "3                            24.700765                           0.450554   \n",
       "4                            24.679966                           0.438253   \n",
       "..                                 ...                                ...   \n",
       "952                          26.616324                           0.089491   \n",
       "953                          26.571689                           0.089491   \n",
       "954                          26.978802                           0.089491   \n",
       "955                          26.899030                           0.089491   \n",
       "956                          26.713881                           0.089491   \n",
       "\n",
       "     direct_radiation (W/m²)  diffuse_radiation (W/m²)  \n",
       "0                 151.119064                 70.720548  \n",
       "1                 147.845890                 75.080251  \n",
       "2                 149.374203                 74.632628  \n",
       "3                 141.238014                 75.799315  \n",
       "4                 139.645320                 73.633562  \n",
       "..                       ...                       ...  \n",
       "952               164.635959                 71.210502  \n",
       "953               184.635274                 65.579452  \n",
       "954               165.257628                 68.485087  \n",
       "955               150.401142                 73.859817  \n",
       "956               145.631735                 75.376826  \n",
       "\n",
       "[957 rows x 18 columns]"
      ]
     },
     "execution_count": 75,
     "metadata": {},
     "output_type": "execute_result"
    }
   ],
   "source": [
    "df.drop(['winddirection_10m (°)', 'windspeed_10m (km/h)', 'windgusts_10m (km/h)'], axis=1)"
   ]
  },
  {
   "cell_type": "code",
   "execution_count": 76,
   "metadata": {},
   "outputs": [],
   "source": [
    "df.to_csv('Without_Outliers.csv')"
   ]
  },
  {
   "cell_type": "markdown",
   "metadata": {},
   "source": [
    "## Feature Selection"
   ]
  },
  {
   "cell_type": "code",
   "execution_count": 187,
   "metadata": {},
   "outputs": [
    {
     "data": {
      "text/html": [
       "<div>\n",
       "<style scoped>\n",
       "    .dataframe tbody tr th:only-of-type {\n",
       "        vertical-align: middle;\n",
       "    }\n",
       "\n",
       "    .dataframe tbody tr th {\n",
       "        vertical-align: top;\n",
       "    }\n",
       "\n",
       "    .dataframe thead th {\n",
       "        text-align: right;\n",
       "    }\n",
       "</style>\n",
       "<table border=\"1\" class=\"dataframe\">\n",
       "  <thead>\n",
       "    <tr style=\"text-align: right;\">\n",
       "      <th></th>\n",
       "      <th>Unnamed: 0</th>\n",
       "      <th>Year</th>\n",
       "      <th>Location</th>\n",
       "      <th>Production (mt)</th>\n",
       "      <th>Area (ha)</th>\n",
       "      <th>Yield (mt/ha)</th>\n",
       "      <th>weathercode (wmo code)</th>\n",
       "      <th>temperature_2m (°C)</th>\n",
       "      <th>relativehumidity_2m (%)</th>\n",
       "      <th>dewpoint_2m (°C)</th>\n",
       "      <th>...</th>\n",
       "      <th>cloudcover (%)</th>\n",
       "      <th>et0_fao_evapotranspiration (mm)</th>\n",
       "      <th>vapor_pressure_deficit (kPa)</th>\n",
       "      <th>windspeed_10m (km/h)</th>\n",
       "      <th>winddirection_10m (°)</th>\n",
       "      <th>windgusts_10m (km/h)</th>\n",
       "      <th>soil_temperature_28_to_100cm (°C)</th>\n",
       "      <th>soil_moisture_28_to_100cm (m³/m³)</th>\n",
       "      <th>direct_radiation (W/m²)</th>\n",
       "      <th>diffuse_radiation (W/m²)</th>\n",
       "    </tr>\n",
       "  </thead>\n",
       "  <tbody>\n",
       "    <tr>\n",
       "      <th>0</th>\n",
       "      <td>0</td>\n",
       "      <td>1990</td>\n",
       "      <td>ZAMBOANGA DEL NORTE</td>\n",
       "      <td>41.14</td>\n",
       "      <td>91.0</td>\n",
       "      <td>0.452088</td>\n",
       "      <td>3</td>\n",
       "      <td>23.486279</td>\n",
       "      <td>86.200457</td>\n",
       "      <td>20.899235</td>\n",
       "      <td>...</td>\n",
       "      <td>70.154680</td>\n",
       "      <td>0.153233</td>\n",
       "      <td>0.435739</td>\n",
       "      <td>6.732808</td>\n",
       "      <td>144.312329</td>\n",
       "      <td>19.894932</td>\n",
       "      <td>25.227021</td>\n",
       "      <td>0.401853</td>\n",
       "      <td>151.119064</td>\n",
       "      <td>70.720548</td>\n",
       "    </tr>\n",
       "    <tr>\n",
       "      <th>1</th>\n",
       "      <td>1</td>\n",
       "      <td>1991</td>\n",
       "      <td>ZAMBOANGA DEL NORTE</td>\n",
       "      <td>53.28</td>\n",
       "      <td>108.0</td>\n",
       "      <td>0.493333</td>\n",
       "      <td>3</td>\n",
       "      <td>23.378607</td>\n",
       "      <td>86.403995</td>\n",
       "      <td>20.856210</td>\n",
       "      <td>...</td>\n",
       "      <td>71.524658</td>\n",
       "      <td>0.153091</td>\n",
       "      <td>0.422427</td>\n",
       "      <td>6.505616</td>\n",
       "      <td>138.691096</td>\n",
       "      <td>19.141393</td>\n",
       "      <td>25.074669</td>\n",
       "      <td>0.404063</td>\n",
       "      <td>147.845890</td>\n",
       "      <td>75.080251</td>\n",
       "    </tr>\n",
       "    <tr>\n",
       "      <th>2</th>\n",
       "      <td>2</td>\n",
       "      <td>1992</td>\n",
       "      <td>ZAMBOANGA DEL NORTE</td>\n",
       "      <td>71.34</td>\n",
       "      <td>114.0</td>\n",
       "      <td>0.625789</td>\n",
       "      <td>3</td>\n",
       "      <td>23.253153</td>\n",
       "      <td>86.111225</td>\n",
       "      <td>20.664014</td>\n",
       "      <td>...</td>\n",
       "      <td>66.843010</td>\n",
       "      <td>0.154016</td>\n",
       "      <td>0.430523</td>\n",
       "      <td>5.957605</td>\n",
       "      <td>143.278233</td>\n",
       "      <td>18.114481</td>\n",
       "      <td>25.086202</td>\n",
       "      <td>0.399902</td>\n",
       "      <td>149.374203</td>\n",
       "      <td>74.632628</td>\n",
       "    </tr>\n",
       "  </tbody>\n",
       "</table>\n",
       "<p>3 rows × 22 columns</p>\n",
       "</div>"
      ],
      "text/plain": [
       "   Unnamed: 0  Year             Location  Production (mt)  Area (ha)  \\\n",
       "0           0  1990  ZAMBOANGA DEL NORTE            41.14       91.0   \n",
       "1           1  1991  ZAMBOANGA DEL NORTE            53.28      108.0   \n",
       "2           2  1992  ZAMBOANGA DEL NORTE            71.34      114.0   \n",
       "\n",
       "   Yield (mt/ha) weathercode (wmo code)  temperature_2m (°C)  \\\n",
       "0       0.452088                      3            23.486279   \n",
       "1       0.493333                      3            23.378607   \n",
       "2       0.625789                      3            23.253153   \n",
       "\n",
       "   relativehumidity_2m (%)  dewpoint_2m (°C)  ...  cloudcover (%)  \\\n",
       "0                86.200457         20.899235  ...       70.154680   \n",
       "1                86.403995         20.856210  ...       71.524658   \n",
       "2                86.111225         20.664014  ...       66.843010   \n",
       "\n",
       "   et0_fao_evapotranspiration (mm)  vapor_pressure_deficit (kPa)  \\\n",
       "0                         0.153233                      0.435739   \n",
       "1                         0.153091                      0.422427   \n",
       "2                         0.154016                      0.430523   \n",
       "\n",
       "   windspeed_10m (km/h)  winddirection_10m (°)  windgusts_10m (km/h)  \\\n",
       "0              6.732808             144.312329             19.894932   \n",
       "1              6.505616             138.691096             19.141393   \n",
       "2              5.957605             143.278233             18.114481   \n",
       "\n",
       "   soil_temperature_28_to_100cm (°C)  soil_moisture_28_to_100cm (m³/m³)  \\\n",
       "0                          25.227021                           0.401853   \n",
       "1                          25.074669                           0.404063   \n",
       "2                          25.086202                           0.399902   \n",
       "\n",
       "   direct_radiation (W/m²)  diffuse_radiation (W/m²)  \n",
       "0               151.119064                 70.720548  \n",
       "1               147.845890                 75.080251  \n",
       "2               149.374203                 74.632628  \n",
       "\n",
       "[3 rows x 22 columns]"
      ]
     },
     "execution_count": 187,
     "metadata": {},
     "output_type": "execute_result"
    }
   ],
   "source": [
    "# load the dataset\n",
    "df1 = pd.read_csv('Without_Outliers.csv')\n",
    "df1.head(3)"
   ]
  },
  {
   "cell_type": "code",
   "execution_count": 188,
   "metadata": {},
   "outputs": [],
   "source": [
    "df1.at[852, 'weathercode (wmo code)']=51"
   ]
  },
  {
   "cell_type": "code",
   "execution_count": 189,
   "metadata": {},
   "outputs": [
    {
     "data": {
      "text/plain": [
       "51"
      ]
     },
     "execution_count": 189,
     "metadata": {},
     "output_type": "execute_result"
    }
   ],
   "source": [
    "df1.at[852, 'weathercode (wmo code)']"
   ]
  },
  {
   "cell_type": "code",
   "execution_count": 190,
   "metadata": {},
   "outputs": [],
   "source": [
    "df1['weathercode (wmo code)'] = df1['weathercode (wmo code)'].astype(float)"
   ]
  },
  {
   "cell_type": "code",
   "execution_count": 191,
   "metadata": {},
   "outputs": [],
   "source": [
    "df1 = df1.drop(columns=['Unnamed: 0', 'Location', 'Year', 'Production (mt)', 'Area (ha)'])"
   ]
  },
  {
   "cell_type": "code",
   "execution_count": 192,
   "metadata": {},
   "outputs": [
    {
     "data": {
      "text/plain": [
       "Yield (mt/ha)                        float64\n",
       "weathercode (wmo code)               float64\n",
       "temperature_2m (°C)                  float64\n",
       "relativehumidity_2m (%)              float64\n",
       "dewpoint_2m (°C)                     float64\n",
       "rain (mm)                            float64\n",
       "surface_pressure (hPa)               float64\n",
       "cloudcover (%)                       float64\n",
       "et0_fao_evapotranspiration (mm)      float64\n",
       "vapor_pressure_deficit (kPa)         float64\n",
       "windspeed_10m (km/h)                 float64\n",
       "winddirection_10m (°)                float64\n",
       "windgusts_10m (km/h)                 float64\n",
       "soil_temperature_28_to_100cm (°C)    float64\n",
       "soil_moisture_28_to_100cm (m³/m³)    float64\n",
       "direct_radiation (W/m²)              float64\n",
       "diffuse_radiation (W/m²)             float64\n",
       "dtype: object"
      ]
     },
     "execution_count": 192,
     "metadata": {},
     "output_type": "execute_result"
    }
   ],
   "source": [
    "df1.dtypes"
   ]
  },
  {
   "cell_type": "code",
   "execution_count": 212,
   "metadata": {},
   "outputs": [
    {
     "data": {
      "image/png": "[encoded data removed]",
      "text/plain": [
       "<Figure size 1200x1000 with 2 Axes>"
      ]
     },
     "metadata": {},
     "output_type": "display_data"
    }
   ],
   "source": [
    "#Using Pearson Correlation\n",
    "\n",
    "plt.figure(figsize=(12,10))\n",
    "cor = df1.corr()\n",
    "sns.heatmap(cor, annot=True, cmap='RdBu')\n",
    "plt.show()"
   ]
  },
  {
   "cell_type": "code",
   "execution_count": 193,
   "metadata": {},
   "outputs": [],
   "source": [
    "import numpy as np\n",
    "\n",
    "# name of the label (can be seen in the dataframe)\n",
    "label = 'Yield (mt/ha)'\n",
    "\n",
    "# list with feature names (V1, V2, V3, ...)\n",
    "features = df1.columns.tolist()\n",
    "features.remove(label)"
   ]
  },
  {
   "cell_type": "code",
   "execution_count": 194,
   "metadata": {},
   "outputs": [],
   "source": [
    "from scipy.stats import pointbiserialr\n",
    "from math import sqrt\n",
    "\n",
    "def getMerit(subset, label):\n",
    "    k = len(subset)\n",
    "\n",
    "    # average feature-class correlation\n",
    "    rcf_all = []\n",
    "    for feature in subset:\n",
    "        coeff = pointbiserialr( df1[label], df1[feature] )\n",
    "        rcf_all.append( abs( coeff.correlation ) )\n",
    "    rcf = np.mean( rcf_all )\n",
    "\n",
    "    # average feature-feature correlation\n",
    "    corr = df1[subset].corr()\n",
    "    corr.values[np.tril_indices_from(corr.values)] = np.nan\n",
    "    corr = abs(corr)\n",
    "    rff = corr.unstack().mean()\n",
    "\n",
    "    return (k * rcf) / sqrt(k + k * (k-1) * rff)"
   ]
  },
  {
   "cell_type": "code",
   "execution_count": 195,
   "metadata": {},
   "outputs": [
    {
     "data": {
      "text/html": [
       "<div>\n",
       "<style scoped>\n",
       "    .dataframe tbody tr th:only-of-type {\n",
       "        vertical-align: middle;\n",
       "    }\n",
       "\n",
       "    .dataframe tbody tr th {\n",
       "        vertical-align: top;\n",
       "    }\n",
       "\n",
       "    .dataframe thead th {\n",
       "        text-align: right;\n",
       "    }\n",
       "</style>\n",
       "<table border=\"1\" class=\"dataframe\">\n",
       "  <thead>\n",
       "    <tr style=\"text-align: right;\">\n",
       "      <th></th>\n",
       "      <th>weathercode (wmo code)</th>\n",
       "      <th>temperature_2m (°C)</th>\n",
       "      <th>relativehumidity_2m (%)</th>\n",
       "      <th>dewpoint_2m (°C)</th>\n",
       "    </tr>\n",
       "  </thead>\n",
       "  <tbody>\n",
       "    <tr>\n",
       "      <th>weathercode (wmo code)</th>\n",
       "      <td>1.000000</td>\n",
       "      <td>-0.103810</td>\n",
       "      <td>0.171066</td>\n",
       "      <td>-0.065200</td>\n",
       "    </tr>\n",
       "    <tr>\n",
       "      <th>temperature_2m (°C)</th>\n",
       "      <td>-0.103810</td>\n",
       "      <td>1.000000</td>\n",
       "      <td>-0.690982</td>\n",
       "      <td>0.969706</td>\n",
       "    </tr>\n",
       "    <tr>\n",
       "      <th>relativehumidity_2m (%)</th>\n",
       "      <td>0.171066</td>\n",
       "      <td>-0.690982</td>\n",
       "      <td>1.000000</td>\n",
       "      <td>-0.496131</td>\n",
       "    </tr>\n",
       "    <tr>\n",
       "      <th>dewpoint_2m (°C)</th>\n",
       "      <td>-0.065200</td>\n",
       "      <td>0.969706</td>\n",
       "      <td>-0.496131</td>\n",
       "      <td>1.000000</td>\n",
       "    </tr>\n",
       "  </tbody>\n",
       "</table>\n",
       "</div>"
      ],
      "text/plain": [
       "                         weathercode (wmo code)  temperature_2m (°C)  \\\n",
       "weathercode (wmo code)                 1.000000            -0.103810   \n",
       "temperature_2m (°C)                   -0.103810             1.000000   \n",
       "relativehumidity_2m (%)                0.171066            -0.690982   \n",
       "dewpoint_2m (°C)                      -0.065200             0.969706   \n",
       "\n",
       "                         relativehumidity_2m (%)  dewpoint_2m (°C)  \n",
       "weathercode (wmo code)                  0.171066         -0.065200  \n",
       "temperature_2m (°C)                    -0.690982          0.969706  \n",
       "relativehumidity_2m (%)                 1.000000         -0.496131  \n",
       "dewpoint_2m (°C)                       -0.496131          1.000000  "
      ]
     },
     "execution_count": 195,
     "metadata": {},
     "output_type": "execute_result"
    }
   ],
   "source": [
    "subset = ['weathercode (wmo code)', 'temperature_2m (°C)', 'relativehumidity_2m (%)', 'dewpoint_2m (°C)']\n",
    "corr = df1[subset].corr()\n",
    "corr"
   ]
  },
  {
   "cell_type": "code",
   "execution_count": 196,
   "metadata": {},
   "outputs": [
    {
     "data": {
      "text/html": [
       "<div>\n",
       "<style scoped>\n",
       "    .dataframe tbody tr th:only-of-type {\n",
       "        vertical-align: middle;\n",
       "    }\n",
       "\n",
       "    .dataframe tbody tr th {\n",
       "        vertical-align: top;\n",
       "    }\n",
       "\n",
       "    .dataframe thead th {\n",
       "        text-align: right;\n",
       "    }\n",
       "</style>\n",
       "<table border=\"1\" class=\"dataframe\">\n",
       "  <thead>\n",
       "    <tr style=\"text-align: right;\">\n",
       "      <th></th>\n",
       "      <th>weathercode (wmo code)</th>\n",
       "      <th>temperature_2m (°C)</th>\n",
       "      <th>relativehumidity_2m (%)</th>\n",
       "      <th>dewpoint_2m (°C)</th>\n",
       "    </tr>\n",
       "  </thead>\n",
       "  <tbody>\n",
       "    <tr>\n",
       "      <th>weathercode (wmo code)</th>\n",
       "      <td>NaN</td>\n",
       "      <td>-0.10381</td>\n",
       "      <td>0.171066</td>\n",
       "      <td>-0.065200</td>\n",
       "    </tr>\n",
       "    <tr>\n",
       "      <th>temperature_2m (°C)</th>\n",
       "      <td>NaN</td>\n",
       "      <td>NaN</td>\n",
       "      <td>-0.690982</td>\n",
       "      <td>0.969706</td>\n",
       "    </tr>\n",
       "    <tr>\n",
       "      <th>relativehumidity_2m (%)</th>\n",
       "      <td>NaN</td>\n",
       "      <td>NaN</td>\n",
       "      <td>NaN</td>\n",
       "      <td>-0.496131</td>\n",
       "    </tr>\n",
       "    <tr>\n",
       "      <th>dewpoint_2m (°C)</th>\n",
       "      <td>NaN</td>\n",
       "      <td>NaN</td>\n",
       "      <td>NaN</td>\n",
       "      <td>NaN</td>\n",
       "    </tr>\n",
       "  </tbody>\n",
       "</table>\n",
       "</div>"
      ],
      "text/plain": [
       "                         weathercode (wmo code)  temperature_2m (°C)  \\\n",
       "weathercode (wmo code)                      NaN             -0.10381   \n",
       "temperature_2m (°C)                         NaN                  NaN   \n",
       "relativehumidity_2m (%)                     NaN                  NaN   \n",
       "dewpoint_2m (°C)                            NaN                  NaN   \n",
       "\n",
       "                         relativehumidity_2m (%)  dewpoint_2m (°C)  \n",
       "weathercode (wmo code)                  0.171066         -0.065200  \n",
       "temperature_2m (°C)                    -0.690982          0.969706  \n",
       "relativehumidity_2m (%)                      NaN         -0.496131  \n",
       "dewpoint_2m (°C)                             NaN               NaN  "
      ]
     },
     "execution_count": 196,
     "metadata": {},
     "output_type": "execute_result"
    }
   ],
   "source": [
    "corr.values[np.tril_indices_from(corr.values)] = np.nan\n",
    "corr"
   ]
  },
  {
   "cell_type": "code",
   "execution_count": 197,
   "metadata": {},
   "outputs": [
    {
     "name": "stdout",
     "output_type": "stream",
     "text": [
      "Feature soil_temperature_28_to_100cm (°C) with merit 0.3225\n"
     ]
    }
   ],
   "source": [
    "best_value = -1\n",
    "best_feature = ''\n",
    "for feature in features:\n",
    "    coeff = pointbiserialr( df1[label], df1[feature] )\n",
    "    abs_coeff = abs( coeff.correlation )\n",
    "    if abs_coeff > best_value:\n",
    "        best_value = abs_coeff\n",
    "        best_feature = feature\n",
    "\n",
    "print(\"Feature %s with merit %.4f\"%(best_feature, best_value))"
   ]
  },
  {
   "cell_type": "code",
   "execution_count": 198,
   "metadata": {},
   "outputs": [],
   "source": [
    "class PriorityQueue:\n",
    "    def  __init__(self):\n",
    "        self.queue = []\n",
    "\n",
    "    def isEmpty(self):\n",
    "        return len(self.queue) == 0\n",
    "    \n",
    "    def push(self, item, priority):\n",
    "        \"\"\"\n",
    "        item already in priority queue with smaller priority:\n",
    "        -> update its priority\n",
    "        item already in priority queue with higher priority:\n",
    "        -> do nothing\n",
    "        if item not in priority queue:\n",
    "        -> push it\n",
    "        \"\"\"\n",
    "        for index, (i, p) in enumerate(self.queue):\n",
    "            if (set(i) == set(item)):\n",
    "                if (p >= priority):\n",
    "                    break\n",
    "                del self.queue[index]\n",
    "                self.queue.append( (item, priority) )\n",
    "                break\n",
    "        else:\n",
    "            self.queue.append( (item, priority) )\n",
    "        \n",
    "    def pop(self):\n",
    "        # return item with highest priority and remove it from queue\n",
    "        max_idx = 0\n",
    "        for index, (i, p) in enumerate(self.queue):\n",
    "            if (self.queue[max_idx][1] < p):\n",
    "                max_idx = index\n",
    "        (item, priority) = self.queue[max_idx]\n",
    "        del self.queue[max_idx]\n",
    "        return (item, priority)"
   ]
  },
  {
   "cell_type": "code",
   "execution_count": 199,
   "metadata": {},
   "outputs": [],
   "source": [
    "# initialize queue\n",
    "queue = PriorityQueue()\n",
    "\n",
    "# push first tuple (subset, merit)\n",
    "queue.push([best_feature], best_value)"
   ]
  },
  {
   "cell_type": "code",
   "execution_count": 200,
   "metadata": {},
   "outputs": [],
   "source": [
    "# list for visited nodes\n",
    "visited = []\n",
    "\n",
    "# counter for backtracks\n",
    "n_backtrack = 0\n",
    "\n",
    "# limit of backtracks\n",
    "max_backtrack = 5"
   ]
  },
  {
   "cell_type": "code",
   "execution_count": 201,
   "metadata": {},
   "outputs": [],
   "source": [
    "# repeat until queue is empty\n",
    "# or the maximum number of backtracks is reached\n",
    "while not queue.isEmpty():\n",
    "    # get element of queue with highest merit\n",
    "    subset, priority = queue.pop()\n",
    "    \n",
    "    # check whether the priority of this subset\n",
    "    # is higher than the current best subset\n",
    "    if (priority < best_value):\n",
    "        n_backtrack += 1\n",
    "    else:\n",
    "        best_value = priority\n",
    "        best_subset = subset\n",
    "\n",
    "    # goal condition\n",
    "    if (n_backtrack == max_backtrack):\n",
    "        break\n",
    "    \n",
    "    # iterate through all features and look of one can\n",
    "    # increase the merit\n",
    "    for feature in features:\n",
    "        temp_subset = subset + [feature]\n",
    "        \n",
    "        # check if this subset has already been evaluated\n",
    "        for node in visited:\n",
    "            if (set(node) == set(temp_subset)):\n",
    "                break\n",
    "        # if not, ...\n",
    "        else:\n",
    "            # ... mark it as visited\n",
    "            visited.append( temp_subset )\n",
    "            # ... compute merit\n",
    "            merit = getMerit(temp_subset, label)\n",
    "            # and push it to the queue\n",
    "            queue.push(temp_subset, merit)"
   ]
  },
  {
   "cell_type": "code",
   "execution_count": 202,
   "metadata": {},
   "outputs": [
    {
     "name": "stdout",
     "output_type": "stream",
     "text": [
      "Score: nan% (Time: 0.4203 s)\n"
     ]
    },
    {
     "name": "stderr",
     "output_type": "stream",
     "text": [
      "C:\\Users\\Darah Manayaga\\AppData\\Roaming\\Python\\Python310\\site-packages\\sklearn\\model_selection\\_validation.py:372: FitFailedWarning: \n",
      "10 fits failed out of a total of 10.\n",
      "The score on these train-test partitions for these parameters will be set to nan.\n",
      "If these failures are not expected, you can try to debug them by setting error_score='raise'.\n",
      "\n",
      "Below are more details about the failures:\n",
      "--------------------------------------------------------------------------------\n",
      "9 fits failed with the following error:\n",
      "Traceback (most recent call last):\n",
      "  File \"C:\\Users\\Darah Manayaga\\AppData\\Roaming\\Python\\Python310\\site-packages\\sklearn\\model_selection\\_validation.py\", line 680, in _fit_and_score\n",
      "    estimator.fit(X_train, y_train, **fit_params)\n",
      "  File \"C:\\Users\\Darah Manayaga\\AppData\\Roaming\\Python\\Python310\\site-packages\\sklearn\\svm\\_base.py\", line 190, in fit\n",
      "    X, y = self._validate_data(\n",
      "  File \"C:\\Users\\Darah Manayaga\\AppData\\Roaming\\Python\\Python310\\site-packages\\sklearn\\base.py\", line 581, in _validate_data\n",
      "    X, y = check_X_y(X, y, **check_params)\n",
      "  File \"C:\\Users\\Darah Manayaga\\AppData\\Roaming\\Python\\Python310\\site-packages\\sklearn\\utils\\validation.py\", line 964, in check_X_y\n",
      "    X = check_array(\n",
      "  File \"C:\\Users\\Darah Manayaga\\AppData\\Roaming\\Python\\Python310\\site-packages\\sklearn\\utils\\validation.py\", line 746, in check_array\n",
      "    array = np.asarray(array, order=order, dtype=dtype)\n",
      "ValueError: could not convert string to float: '[ 3 51]'\n",
      "\n",
      "--------------------------------------------------------------------------------\n",
      "1 fits failed with the following error:\n",
      "Traceback (most recent call last):\n",
      "  File \"C:\\Users\\Darah Manayaga\\AppData\\Roaming\\Python\\Python310\\site-packages\\sklearn\\model_selection\\_validation.py\", line 680, in _fit_and_score\n",
      "    estimator.fit(X_train, y_train, **fit_params)\n",
      "  File \"C:\\Users\\Darah Manayaga\\AppData\\Roaming\\Python\\Python310\\site-packages\\sklearn\\svm\\_base.py\", line 199, in fit\n",
      "    y = self._validate_targets(y)\n",
      "  File \"C:\\Users\\Darah Manayaga\\AppData\\Roaming\\Python\\Python310\\site-packages\\sklearn\\svm\\_base.py\", line 716, in _validate_targets\n",
      "    check_classification_targets(y)\n",
      "  File \"C:\\Users\\Darah Manayaga\\AppData\\Roaming\\Python\\Python310\\site-packages\\sklearn\\utils\\multiclass.py\", line 197, in check_classification_targets\n",
      "    raise ValueError(\"Unknown label type: %r\" % y_type)\n",
      "ValueError: Unknown label type: 'continuous'\n",
      "\n",
      "  warnings.warn(some_fits_failed_message, FitFailedWarning)\n"
     ]
    }
   ],
   "source": [
    "from sklearn.model_selection import cross_val_score\n",
    "from sklearn import svm\n",
    "import time\n",
    "\n",
    "# predictors\n",
    "X = df[features].to_numpy()\n",
    "# target\n",
    "Y = df[label].to_numpy()\n",
    "\n",
    "# get timing\n",
    "t0 = time.time()\n",
    "\n",
    "# run SVM with 10-fold cross validation\n",
    "svc = svm.SVC(kernel='rbf', C=100, gamma=0.01, random_state=42)\n",
    "scores = cross_val_score(svc, X, Y, cv=10)\n",
    "best_score = np.mean( scores )\n",
    "\n",
    "print(\"Score: %.2f%% (Time: %.4f s)\"%(best_score*100, time.time() - t0))\n",
    "\n",
    "# Output\n",
    "# Score: 50.00% (Time: 40.1259 s)"
   ]
  },
  {
   "cell_type": "code",
   "execution_count": 204,
   "metadata": {},
   "outputs": [
    {
     "name": "stdout",
     "output_type": "stream",
     "text": [
      "Score: nan% (Time: 0.0514 s)\n"
     ]
    },
    {
     "name": "stderr",
     "output_type": "stream",
     "text": [
      "C:\\Users\\Darah Manayaga\\AppData\\Roaming\\Python\\Python310\\site-packages\\sklearn\\model_selection\\_validation.py:372: FitFailedWarning: \n",
      "10 fits failed out of a total of 10.\n",
      "The score on these train-test partitions for these parameters will be set to nan.\n",
      "If these failures are not expected, you can try to debug them by setting error_score='raise'.\n",
      "\n",
      "Below are more details about the failures:\n",
      "--------------------------------------------------------------------------------\n",
      "9 fits failed with the following error:\n",
      "Traceback (most recent call last):\n",
      "  File \"C:\\Users\\Darah Manayaga\\AppData\\Roaming\\Python\\Python310\\site-packages\\sklearn\\model_selection\\_validation.py\", line 680, in _fit_and_score\n",
      "    estimator.fit(X_train, y_train, **fit_params)\n",
      "  File \"C:\\Users\\Darah Manayaga\\AppData\\Roaming\\Python\\Python310\\site-packages\\sklearn\\svm\\_base.py\", line 190, in fit\n",
      "    X, y = self._validate_data(\n",
      "  File \"C:\\Users\\Darah Manayaga\\AppData\\Roaming\\Python\\Python310\\site-packages\\sklearn\\base.py\", line 581, in _validate_data\n",
      "    X, y = check_X_y(X, y, **check_params)\n",
      "  File \"C:\\Users\\Darah Manayaga\\AppData\\Roaming\\Python\\Python310\\site-packages\\sklearn\\utils\\validation.py\", line 964, in check_X_y\n",
      "    X = check_array(\n",
      "  File \"C:\\Users\\Darah Manayaga\\AppData\\Roaming\\Python\\Python310\\site-packages\\sklearn\\utils\\validation.py\", line 746, in check_array\n",
      "    array = np.asarray(array, order=order, dtype=dtype)\n",
      "ValueError: could not convert string to float: '[ 3 51]'\n",
      "\n",
      "--------------------------------------------------------------------------------\n",
      "1 fits failed with the following error:\n",
      "Traceback (most recent call last):\n",
      "  File \"C:\\Users\\Darah Manayaga\\AppData\\Roaming\\Python\\Python310\\site-packages\\sklearn\\model_selection\\_validation.py\", line 680, in _fit_and_score\n",
      "    estimator.fit(X_train, y_train, **fit_params)\n",
      "  File \"C:\\Users\\Darah Manayaga\\AppData\\Roaming\\Python\\Python310\\site-packages\\sklearn\\svm\\_base.py\", line 199, in fit\n",
      "    y = self._validate_targets(y)\n",
      "  File \"C:\\Users\\Darah Manayaga\\AppData\\Roaming\\Python\\Python310\\site-packages\\sklearn\\svm\\_base.py\", line 716, in _validate_targets\n",
      "    check_classification_targets(y)\n",
      "  File \"C:\\Users\\Darah Manayaga\\AppData\\Roaming\\Python\\Python310\\site-packages\\sklearn\\utils\\multiclass.py\", line 197, in check_classification_targets\n",
      "    raise ValueError(\"Unknown label type: %r\" % y_type)\n",
      "ValueError: Unknown label type: 'continuous'\n",
      "\n",
      "  warnings.warn(some_fits_failed_message, FitFailedWarning)\n"
     ]
    }
   ],
   "source": [
    "# predictors\n",
    "X = df[best_subset].to_numpy()\n",
    "\n",
    "# get timing\n",
    "t0 = time.time()\n",
    "\n",
    "# run SVM with 10-fold cross validation\n",
    "svc = svm.SVC(kernel='rbf', C=100, gamma=0.01, random_state=42)\n",
    "scores_subset = cross_val_score(svc, X, Y, cv=10)\n",
    "best_score = np.mean( scores_subset )\n",
    "\n",
    "print(\"Score: %.2f%% (Time: %.4f s)\"%(best_score*100, time.time() - t0))"
   ]
  }
 ],
 "metadata": {
  "kernelspec": {
   "display_name": "Python 3",
   "language": "python",
   "name": "python3"
  },
  "language_info": {
   "codemirror_mode": {
    "name": "ipython",
    "version": 3
   },
   "file_extension": ".py",
   "mimetype": "text/x-python",
   "name": "python",
   "nbconvert_exporter": "python",
   "pygments_lexer": "ipython3",
   "version": "3.10.2"
  },
  "orig_nbformat": 4
 },
 "nbformat": 4,
 "nbformat_minor": 2
}
