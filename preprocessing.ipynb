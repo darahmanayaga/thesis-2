{
 "cells": [
  {
   "cell_type": "code",
   "execution_count": 1,
   "metadata": {},
   "outputs": [
    {
     "name": "stdout",
     "output_type": "stream",
     "text": [
      "^C\n",
      "Note: you may need to restart the kernel to use updated packages.\n"
     ]
    },
    {
     "name": "stderr",
     "output_type": "stream",
     "text": [
      "WARNING: You are using pip version 21.2.4; however, version 23.2.1 is available.\n",
      "You should consider upgrading via the 'c:\\Program Files\\Python310\\python.exe -m pip install --upgrade pip' command.\n"
     ]
    },
    {
     "name": "stdout",
     "output_type": "stream",
     "text": [
      "Defaulting to user installation because normal site-packages is not writeable\n",
      "Requirement already satisfied: seaborn in c:\\users\\darah manayaga\\appdata\\roaming\\python\\python310\\site-packages (0.12.2)\n",
      "Requirement already satisfied: numpy!=1.24.0,>=1.17 in c:\\users\\darah manayaga\\appdata\\roaming\\python\\python310\\site-packages (from seaborn) (1.22.2)\n",
      "Requirement already satisfied: matplotlib!=3.6.1,>=3.1 in c:\\users\\darah manayaga\\appdata\\roaming\\python\\python310\\site-packages (from seaborn) (3.7.1)\n",
      "Requirement already satisfied: pandas>=0.25 in c:\\users\\darah manayaga\\appdata\\roaming\\python\\python310\\site-packages (from seaborn) (1.4.0)\n",
      "Requirement already satisfied: cycler>=0.10 in c:\\users\\darah manayaga\\appdata\\roaming\\python\\python310\\site-packages (from matplotlib!=3.6.1,>=3.1->seaborn) (0.11.0)\n",
      "Requirement already satisfied: kiwisolver>=1.0.1 in c:\\users\\darah manayaga\\appdata\\roaming\\python\\python310\\site-packages (from matplotlib!=3.6.1,>=3.1->seaborn) (1.4.4)\n",
      "Requirement already satisfied: pyparsing>=2.3.1 in c:\\users\\darah manayaga\\appdata\\roaming\\python\\python310\\site-packages (from matplotlib!=3.6.1,>=3.1->seaborn) (3.0.9)\n",
      "Requirement already satisfied: python-dateutil>=2.7 in c:\\users\\darah manayaga\\appdata\\roaming\\python\\python310\\site-packages (from matplotlib!=3.6.1,>=3.1->seaborn) (2.8.2)\n",
      "Requirement already satisfied: packaging>=20.0 in c:\\users\\darah manayaga\\appdata\\roaming\\python\\python310\\site-packages (from matplotlib!=3.6.1,>=3.1->seaborn) (21.3)\n",
      "Requirement already satisfied: fonttools>=4.22.0 in c:\\users\\darah manayaga\\appdata\\roaming\\python\\python310\\site-packages (from matplotlib!=3.6.1,>=3.1->seaborn) (4.39.0)\n",
      "Requirement already satisfied: contourpy>=1.0.1 in c:\\users\\darah manayaga\\appdata\\roaming\\python\\python310\\site-packages (from matplotlib!=3.6.1,>=3.1->seaborn) (1.0.7)\n",
      "Requirement already satisfied: pillow>=6.2.0 in c:\\users\\darah manayaga\\appdata\\roaming\\python\\python310\\site-packages (from matplotlib!=3.6.1,>=3.1->seaborn) (9.4.0)\n",
      "Requirement already satisfied: pytz>=2020.1 in c:\\users\\darah manayaga\\appdata\\roaming\\python\\python310\\site-packages (from pandas>=0.25->seaborn) (2021.3)\n",
      "Requirement already satisfied: six>=1.5 in c:\\users\\darah manayaga\\appdata\\roaming\\python\\python310\\site-packages (from python-dateutil>=2.7->matplotlib!=3.6.1,>=3.1->seaborn) (1.16.0)\n"
     ]
    }
   ],
   "source": [
    "pip install seaborn"
   ]
  },
  {
   "cell_type": "markdown",
   "metadata": {},
   "source": [
    "## Test for Normality\n",
    "\n",
    "- Automatically not normal since there is a categorical data type column (weathercode (wmo code))"
   ]
  },
  {
   "cell_type": "code",
   "execution_count": 3,
   "metadata": {},
   "outputs": [],
   "source": [
    "import numpy as np\n",
    "import pandas as pd\n",
    "import matplotlib.pyplot as plt\n",
    "import seaborn as sns"
   ]
  },
  {
   "cell_type": "code",
   "execution_count": 18,
   "metadata": {},
   "outputs": [],
   "source": [
    "df = pd.read_csv('Yield_Weather.csv')\n",
    "df = df.drop(columns=['Unnamed: 0'])"
   ]
  },
  {
   "cell_type": "code",
   "execution_count": 19,
   "metadata": {},
   "outputs": [
    {
     "data": {
      "text/plain": [
       "Index(['Year', 'Location', 'Production (mt)', 'Area (ha)', 'Yield (mt/ha)',\n",
       "       'weathercode (wmo code)', 'temperature_2m (°C)',\n",
       "       'relativehumidity_2m (%)', 'dewpoint_2m (°C)', 'rain (mm)',\n",
       "       'surface_pressure (hPa)', 'cloudcover (%)',\n",
       "       'et0_fao_evapotranspiration (mm)', 'vapor_pressure_deficit (kPa)',\n",
       "       'windspeed_10m (km/h)', 'winddirection_10m (°)', 'windgusts_10m (km/h)',\n",
       "       'soil_temperature_28_to_100cm (°C)',\n",
       "       'soil_moisture_28_to_100cm (m³/m³)', 'direct_radiation (W/m²)',\n",
       "       'diffuse_radiation (W/m²)'],\n",
       "      dtype='object')"
      ]
     },
     "execution_count": 19,
     "metadata": {},
     "output_type": "execute_result"
    }
   ],
   "source": [
    "df.columns"
   ]
  },
  {
   "cell_type": "code",
   "execution_count": 8,
   "metadata": {},
   "outputs": [
    {
     "data": {
      "image/png": "[encoded data removed]",
      "text/plain": [
       "<Figure size 640x480 with 1 Axes>"
      ]
     },
     "metadata": {},
     "output_type": "display_data"
    }
   ],
   "source": [
    "plt.hist(df.drop(columns=['Location', 'Year', 'weathercode (wmo code)']))\n",
    "plt.show()"
   ]
  },
  {
   "cell_type": "markdown",
   "metadata": {},
   "source": [
    "## Outlier Detection Using Z-score value"
   ]
  },
  {
   "cell_type": "code",
   "execution_count": 9,
   "metadata": {},
   "outputs": [
    {
     "data": {
      "text/plain": [
       "Year                                   int64\n",
       "Location                              object\n",
       "Production (mt)                      float64\n",
       "Area (ha)                            float64\n",
       "Yield (mt/ha)                        float64\n",
       "weathercode (wmo code)                object\n",
       "temperature_2m (°C)                  float64\n",
       "relativehumidity_2m (%)              float64\n",
       "dewpoint_2m (°C)                     float64\n",
       "rain (mm)                            float64\n",
       "surface_pressure (hPa)               float64\n",
       "cloudcover (%)                       float64\n",
       "et0_fao_evapotranspiration (mm)      float64\n",
       "vapor_pressure_deficit (kPa)         float64\n",
       "windspeed_10m (km/h)                 float64\n",
       "winddirection_10m (°)                float64\n",
       "windgusts_10m (km/h)                 float64\n",
       "soil_temperature_28_to_100cm (°C)    float64\n",
       "soil_moisture_28_to_100cm (m³/m³)    float64\n",
       "direct_radiation (W/m²)              float64\n",
       "diffuse_radiation (W/m²)             float64\n",
       "dtype: object"
      ]
     },
     "execution_count": 9,
     "metadata": {},
     "output_type": "execute_result"
    }
   ],
   "source": [
    "df.dtypes"
   ]
  },
  {
   "cell_type": "code",
   "execution_count": 10,
   "metadata": {},
   "outputs": [],
   "source": [
    "df['Yield (mt/ha)'] = df['Yield (mt/ha)'].fillna(0)"
   ]
  },
  {
   "cell_type": "code",
   "execution_count": 11,
   "metadata": {},
   "outputs": [
    {
     "data": {
      "text/plain": [
       "False"
      ]
     },
     "execution_count": 11,
     "metadata": {},
     "output_type": "execute_result"
    }
   ],
   "source": [
    "df.isnull().values.any()"
   ]
  },
  {
   "cell_type": "code",
   "execution_count": 90,
   "metadata": {},
   "outputs": [
    {
     "data": {
      "text/html": [
       "<div>\n",
       "<style scoped>\n",
       "    .dataframe tbody tr th:only-of-type {\n",
       "        vertical-align: middle;\n",
       "    }\n",
       "\n",
       "    .dataframe tbody tr th {\n",
       "        vertical-align: top;\n",
       "    }\n",
       "\n",
       "    .dataframe thead th {\n",
       "        text-align: right;\n",
       "    }\n",
       "</style>\n",
       "<table border=\"1\" class=\"dataframe\">\n",
       "  <thead>\n",
       "    <tr style=\"text-align: right;\">\n",
       "      <th></th>\n",
       "      <th>Year</th>\n",
       "      <th>Production (mt)</th>\n",
       "      <th>Area (ha)</th>\n",
       "      <th>Yield (mt/ha)</th>\n",
       "      <th>temperature_2m (°C)</th>\n",
       "      <th>relativehumidity_2m (%)</th>\n",
       "      <th>dewpoint_2m (°C)</th>\n",
       "      <th>rain (mm)</th>\n",
       "      <th>surface_pressure (hPa)</th>\n",
       "      <th>cloudcover (%)</th>\n",
       "      <th>et0_fao_evapotranspiration (mm)</th>\n",
       "      <th>vapor_pressure_deficit (kPa)</th>\n",
       "      <th>windspeed_10m (km/h)</th>\n",
       "      <th>winddirection_10m (°)</th>\n",
       "      <th>windgusts_10m (km/h)</th>\n",
       "      <th>soil_temperature_28_to_100cm (°C)</th>\n",
       "      <th>soil_moisture_28_to_100cm (m³/m³)</th>\n",
       "      <th>direct_radiation (W/m²)</th>\n",
       "      <th>diffuse_radiation (W/m²)</th>\n",
       "    </tr>\n",
       "  </thead>\n",
       "  <tbody>\n",
       "    <tr>\n",
       "      <th>count</th>\n",
       "      <td>957.000000</td>\n",
       "      <td>957.000000</td>\n",
       "      <td>957.000000</td>\n",
       "      <td>848.000000</td>\n",
       "      <td>957.000000</td>\n",
       "      <td>957.000000</td>\n",
       "      <td>957.000000</td>\n",
       "      <td>957.000000</td>\n",
       "      <td>957.000000</td>\n",
       "      <td>957.000000</td>\n",
       "      <td>957.000000</td>\n",
       "      <td>957.000000</td>\n",
       "      <td>957.000000</td>\n",
       "      <td>957.000000</td>\n",
       "      <td>957.000000</td>\n",
       "      <td>957.000000</td>\n",
       "      <td>957.000000</td>\n",
       "      <td>957.000000</td>\n",
       "      <td>957.000000</td>\n",
       "    </tr>\n",
       "    <tr>\n",
       "      <th>mean</th>\n",
       "      <td>2006.000000</td>\n",
       "      <td>1485.842950</td>\n",
       "      <td>2009.713568</td>\n",
       "      <td>0.754517</td>\n",
       "      <td>24.991554</td>\n",
       "      <td>84.795399</td>\n",
       "      <td>22.126121</td>\n",
       "      <td>0.300396</td>\n",
       "      <td>971.342668</td>\n",
       "      <td>58.065295</td>\n",
       "      <td>0.152759</td>\n",
       "      <td>0.523013</td>\n",
       "      <td>6.676062</td>\n",
       "      <td>167.901813</td>\n",
       "      <td>18.101211</td>\n",
       "      <td>26.154387</td>\n",
       "      <td>0.379429</td>\n",
       "      <td>139.242037</td>\n",
       "      <td>72.936331</td>\n",
       "    </tr>\n",
       "    <tr>\n",
       "      <th>std</th>\n",
       "      <td>9.526883</td>\n",
       "      <td>2377.530043</td>\n",
       "      <td>3019.818111</td>\n",
       "      <td>0.503938</td>\n",
       "      <td>2.098423</td>\n",
       "      <td>2.768218</td>\n",
       "      <td>1.757050</td>\n",
       "      <td>0.110517</td>\n",
       "      <td>41.075035</td>\n",
       "      <td>9.047516</td>\n",
       "      <td>0.011922</td>\n",
       "      <td>0.132792</td>\n",
       "      <td>3.836158</td>\n",
       "      <td>25.848587</td>\n",
       "      <td>3.452405</td>\n",
       "      <td>1.969559</td>\n",
       "      <td>0.084169</td>\n",
       "      <td>15.174769</td>\n",
       "      <td>3.369203</td>\n",
       "    </tr>\n",
       "    <tr>\n",
       "      <th>min</th>\n",
       "      <td>1990.000000</td>\n",
       "      <td>0.000000</td>\n",
       "      <td>0.000000</td>\n",
       "      <td>0.000000</td>\n",
       "      <td>19.513037</td>\n",
       "      <td>76.442646</td>\n",
       "      <td>16.883071</td>\n",
       "      <td>0.079349</td>\n",
       "      <td>875.282320</td>\n",
       "      <td>32.043830</td>\n",
       "      <td>0.125298</td>\n",
       "      <td>0.240229</td>\n",
       "      <td>2.694820</td>\n",
       "      <td>102.151370</td>\n",
       "      <td>11.438721</td>\n",
       "      <td>20.910622</td>\n",
       "      <td>0.089491</td>\n",
       "      <td>102.877854</td>\n",
       "      <td>62.795988</td>\n",
       "    </tr>\n",
       "    <tr>\n",
       "      <th>25%</th>\n",
       "      <td>1998.000000</td>\n",
       "      <td>24.470000</td>\n",
       "      <td>80.000000</td>\n",
       "      <td>0.418086</td>\n",
       "      <td>23.408071</td>\n",
       "      <td>82.597603</td>\n",
       "      <td>20.821004</td>\n",
       "      <td>0.216883</td>\n",
       "      <td>940.075808</td>\n",
       "      <td>52.296804</td>\n",
       "      <td>0.144041</td>\n",
       "      <td>0.425146</td>\n",
       "      <td>4.373390</td>\n",
       "      <td>147.480305</td>\n",
       "      <td>16.027641</td>\n",
       "      <td>24.714754</td>\n",
       "      <td>0.358457</td>\n",
       "      <td>128.430442</td>\n",
       "      <td>70.765411</td>\n",
       "    </tr>\n",
       "    <tr>\n",
       "      <th>50%</th>\n",
       "      <td>2006.000000</td>\n",
       "      <td>320.340000</td>\n",
       "      <td>802.000000</td>\n",
       "      <td>0.716335</td>\n",
       "      <td>25.546221</td>\n",
       "      <td>84.784153</td>\n",
       "      <td>22.763559</td>\n",
       "      <td>0.290822</td>\n",
       "      <td>984.133733</td>\n",
       "      <td>57.572746</td>\n",
       "      <td>0.151785</td>\n",
       "      <td>0.536473</td>\n",
       "      <td>5.370148</td>\n",
       "      <td>167.572831</td>\n",
       "      <td>17.547374</td>\n",
       "      <td>26.615468</td>\n",
       "      <td>0.400144</td>\n",
       "      <td>138.774087</td>\n",
       "      <td>72.816438</td>\n",
       "    </tr>\n",
       "    <tr>\n",
       "      <th>75%</th>\n",
       "      <td>2014.000000</td>\n",
       "      <td>1780.810000</td>\n",
       "      <td>2650.000000</td>\n",
       "      <td>0.995773</td>\n",
       "      <td>26.629178</td>\n",
       "      <td>86.853425</td>\n",
       "      <td>23.504760</td>\n",
       "      <td>0.371826</td>\n",
       "      <td>1008.225422</td>\n",
       "      <td>63.645890</td>\n",
       "      <td>0.160162</td>\n",
       "      <td>0.614129</td>\n",
       "      <td>7.670365</td>\n",
       "      <td>185.453324</td>\n",
       "      <td>19.259085</td>\n",
       "      <td>27.446884</td>\n",
       "      <td>0.431587</td>\n",
       "      <td>147.594863</td>\n",
       "      <td>75.388014</td>\n",
       "    </tr>\n",
       "    <tr>\n",
       "      <th>max</th>\n",
       "      <td>2022.000000</td>\n",
       "      <td>9634.034038</td>\n",
       "      <td>11509.982575</td>\n",
       "      <td>2.320705</td>\n",
       "      <td>28.487750</td>\n",
       "      <td>91.361530</td>\n",
       "      <td>25.526416</td>\n",
       "      <td>0.640265</td>\n",
       "      <td>1010.695091</td>\n",
       "      <td>81.984817</td>\n",
       "      <td>0.188529</td>\n",
       "      <td>0.925965</td>\n",
       "      <td>18.266862</td>\n",
       "      <td>240.453995</td>\n",
       "      <td>28.528230</td>\n",
       "      <td>31.171849</td>\n",
       "      <td>0.481368</td>\n",
       "      <td>184.836627</td>\n",
       "      <td>81.203539</td>\n",
       "    </tr>\n",
       "  </tbody>\n",
       "</table>\n",
       "</div>"
      ],
      "text/plain": [
       "              Year  Production (mt)     Area (ha)  Yield (mt/ha)  \\\n",
       "count   957.000000       957.000000    957.000000     848.000000   \n",
       "mean   2006.000000      1485.842950   2009.713568       0.754517   \n",
       "std       9.526883      2377.530043   3019.818111       0.503938   \n",
       "min    1990.000000         0.000000      0.000000       0.000000   \n",
       "25%    1998.000000        24.470000     80.000000       0.418086   \n",
       "50%    2006.000000       320.340000    802.000000       0.716335   \n",
       "75%    2014.000000      1780.810000   2650.000000       0.995773   \n",
       "max    2022.000000      9634.034038  11509.982575       2.320705   \n",
       "\n",
       "       temperature_2m (°C)  relativehumidity_2m (%)  dewpoint_2m (°C)  \\\n",
       "count           957.000000               957.000000        957.000000   \n",
       "mean             24.991554                84.795399         22.126121   \n",
       "std               2.098423                 2.768218          1.757050   \n",
       "min              19.513037                76.442646         16.883071   \n",
       "25%              23.408071                82.597603         20.821004   \n",
       "50%              25.546221                84.784153         22.763559   \n",
       "75%              26.629178                86.853425         23.504760   \n",
       "max              28.487750                91.361530         25.526416   \n",
       "\n",
       "        rain (mm)  surface_pressure (hPa)  cloudcover (%)  \\\n",
       "count  957.000000              957.000000      957.000000   \n",
       "mean     0.300396              971.342668       58.065295   \n",
       "std      0.110517               41.075035        9.047516   \n",
       "min      0.079349              875.282320       32.043830   \n",
       "25%      0.216883              940.075808       52.296804   \n",
       "50%      0.290822              984.133733       57.572746   \n",
       "75%      0.371826             1008.225422       63.645890   \n",
       "max      0.640265             1010.695091       81.984817   \n",
       "\n",
       "       et0_fao_evapotranspiration (mm)  vapor_pressure_deficit (kPa)  \\\n",
       "count                       957.000000                    957.000000   \n",
       "mean                          0.152759                      0.523013   \n",
       "std                           0.011922                      0.132792   \n",
       "min                           0.125298                      0.240229   \n",
       "25%                           0.144041                      0.425146   \n",
       "50%                           0.151785                      0.536473   \n",
       "75%                           0.160162                      0.614129   \n",
       "max                           0.188529                      0.925965   \n",
       "\n",
       "       windspeed_10m (km/h)  winddirection_10m (°)  windgusts_10m (km/h)  \\\n",
       "count            957.000000             957.000000            957.000000   \n",
       "mean               6.676062             167.901813             18.101211   \n",
       "std                3.836158              25.848587              3.452405   \n",
       "min                2.694820             102.151370             11.438721   \n",
       "25%                4.373390             147.480305             16.027641   \n",
       "50%                5.370148             167.572831             17.547374   \n",
       "75%                7.670365             185.453324             19.259085   \n",
       "max               18.266862             240.453995             28.528230   \n",
       "\n",
       "       soil_temperature_28_to_100cm (°C)  soil_moisture_28_to_100cm (m³/m³)  \\\n",
       "count                         957.000000                         957.000000   \n",
       "mean                           26.154387                           0.379429   \n",
       "std                             1.969559                           0.084169   \n",
       "min                            20.910622                           0.089491   \n",
       "25%                            24.714754                           0.358457   \n",
       "50%                            26.615468                           0.400144   \n",
       "75%                            27.446884                           0.431587   \n",
       "max                            31.171849                           0.481368   \n",
       "\n",
       "       direct_radiation (W/m²)  diffuse_radiation (W/m²)  \n",
       "count               957.000000                957.000000  \n",
       "mean                139.242037                 72.936331  \n",
       "std                  15.174769                  3.369203  \n",
       "min                 102.877854                 62.795988  \n",
       "25%                 128.430442                 70.765411  \n",
       "50%                 138.774087                 72.816438  \n",
       "75%                 147.594863                 75.388014  \n",
       "max                 184.836627                 81.203539  "
      ]
     },
     "execution_count": 90,
     "metadata": {},
     "output_type": "execute_result"
    }
   ],
   "source": [
    "df.describe()"
   ]
  },
  {
   "cell_type": "markdown",
   "metadata": {},
   "source": [
    "### Production (mt)"
   ]
  },
  {
   "cell_type": "code",
   "execution_count": 20,
   "metadata": {},
   "outputs": [
    {
     "data": {
      "text/plain": [
       "count      957.000000\n",
       "mean      1569.145266\n",
       "std       2688.296257\n",
       "min          0.000000\n",
       "25%         24.470000\n",
       "50%        320.340000\n",
       "75%       1780.810000\n",
       "max      14373.880000\n",
       "Name: Production (mt), dtype: float64"
      ]
     },
     "execution_count": 20,
     "metadata": {},
     "output_type": "execute_result"
    }
   ],
   "source": [
    "df['Production (mt)'].describe()"
   ]
  },
  {
   "cell_type": "code",
   "execution_count": 21,
   "metadata": {},
   "outputs": [
    {
     "name": "stdout",
     "output_type": "stream",
     "text": [
      "Mean:  1569.1452664576802\n",
      "\n",
      "Standard deviation:  2686.891346634448\n",
      "\n",
      "Outliers  :  [11117.13, 13159.67, 14373.88, 13462.18, 13056.48, 11386.97, 10703.48, 10597.11, 9990.29, 10078.15, 10121.33, 10026.37, 11718.27, 11999.41, 11997.91, 11850.15, 12723.66, 12888.9, 12570.29, 12085.42, 11796.03, 10031.99, 10706.38, 11113.98, 11660.93, 11907.61, 12213.84, 12462.98, 12199.23, 12506.3, 13224.63, 12709.82, 12207.25, 11984.85, 10875.79, 10006.93, 10785.45, 11512.57]\n"
     ]
    }
   ],
   "source": [
    "mean = np.mean(df['Production (mt)'])\n",
    "std = np.std(df['Production (mt)'])\n",
    " \n",
    "threshold = 3\n",
    "outliers = []\n",
    "for x in df['Production (mt)']:\n",
    "    z_score = (x - mean) / std\n",
    "    if abs(z_score) > threshold:\n",
    "        outliers.append(x)\n",
    "print(\"Mean: \",mean)\n",
    "print(\"\\nStandard deviation: \",std)\n",
    "print(\"\\nOutliers  : \", outliers)"
   ]
  },
  {
   "cell_type": "code",
   "execution_count": 22,
   "metadata": {},
   "outputs": [],
   "source": [
    "upper_limit = df['Production (mt)'].mean() + 3*df['Production (mt)'].std()\n",
    "lower_limit = df['Production (mt)'].mean() - 3*df['Production (mt)'].std()\n",
    "\n",
    "df['Production (mt)'] = np.where(\n",
    "    df['Production (mt)']>upper_limit,\n",
    "    upper_limit,\n",
    "    np.where(\n",
    "        df['Production (mt)']<lower_limit,\n",
    "        lower_limit,\n",
    "        df['Production (mt)']\n",
    "    )\n",
    ")"
   ]
  },
  {
   "cell_type": "code",
   "execution_count": 23,
   "metadata": {},
   "outputs": [
    {
     "data": {
      "text/plain": [
       "count     957.000000\n",
       "mean     1485.842950\n",
       "std      2377.530043\n",
       "min         0.000000\n",
       "25%        24.470000\n",
       "50%       320.340000\n",
       "75%      1780.810000\n",
       "max      9634.034038\n",
       "Name: Production (mt), dtype: float64"
      ]
     },
     "execution_count": 23,
     "metadata": {},
     "output_type": "execute_result"
    }
   ],
   "source": [
    "df['Production (mt)'].describe()"
   ]
  },
  {
   "cell_type": "markdown",
   "metadata": {},
   "source": [
    "### Area (ha)"
   ]
  },
  {
   "cell_type": "code",
   "execution_count": 24,
   "metadata": {},
   "outputs": [
    {
     "data": {
      "text/plain": [
       "count      957.000000\n",
       "mean      2049.406959\n",
       "std       3153.525205\n",
       "min          0.000000\n",
       "25%         80.000000\n",
       "50%        802.000000\n",
       "75%       2650.000000\n",
       "max      15227.000000\n",
       "Name: Area (ha), dtype: float64"
      ]
     },
     "execution_count": 24,
     "metadata": {},
     "output_type": "execute_result"
    }
   ],
   "source": [
    "df['Area (ha)'].describe()"
   ]
  },
  {
   "cell_type": "code",
   "execution_count": 25,
   "metadata": {},
   "outputs": [
    {
     "name": "stdout",
     "output_type": "stream",
     "text": [
      "Mean:  2049.406959247649\n",
      "\n",
      "Standard deviation:  3151.877164765096\n",
      "\n",
      "Outliers  :  [12752.0, 12752.0, 12720.0, 12715.0, 12135.0, 11867.0, 11650.0, 11660.0, 11660.0, 11543.0, 11513.0, 12280.0, 12284.0, 12288.0, 12303.0, 12312.0, 12349.0, 12344.0, 12484.0, 12484.0, 12360.0, 12360.0, 12375.0, 12375.0, 13025.0, 13225.0, 13300.0, 13300.0, 13370.0, 13370.0, 14707.0, 14727.0, 15227.0]\n"
     ]
    }
   ],
   "source": [
    "mean = np.mean(df['Area (ha)'])\n",
    "std = np.std(df['Area (ha)'])\n",
    " \n",
    "threshold = 3\n",
    "outliers = []\n",
    "for x in df['Area (ha)']:\n",
    "    z_score = (x - mean) / std\n",
    "    if abs(z_score) > threshold:\n",
    "        outliers.append(x)\n",
    "print(\"Mean: \",mean)\n",
    "print(\"\\nStandard deviation: \",std)\n",
    "print(\"\\nOutliers  : \", outliers)"
   ]
  },
  {
   "cell_type": "code",
   "execution_count": 26,
   "metadata": {},
   "outputs": [],
   "source": [
    "upper_limit = df['Area (ha)'].mean() + 3*df['Area (ha)'].std()\n",
    "lower_limit = df['Area (ha)'].mean() - 3*df['Area (ha)'].std()\n",
    "\n",
    "df['Area (ha)'] = np.where(\n",
    "    df['Area (ha)']>upper_limit,\n",
    "    upper_limit,\n",
    "    np.where(\n",
    "        df['Area (ha)']<lower_limit,\n",
    "        lower_limit,\n",
    "        df['Area (ha)']\n",
    "    )\n",
    ")"
   ]
  },
  {
   "cell_type": "code",
   "execution_count": 27,
   "metadata": {},
   "outputs": [
    {
     "data": {
      "text/plain": [
       "count      957.000000\n",
       "mean      2009.713568\n",
       "std       3019.818111\n",
       "min          0.000000\n",
       "25%         80.000000\n",
       "50%        802.000000\n",
       "75%       2650.000000\n",
       "max      11509.982575\n",
       "Name: Area (ha), dtype: float64"
      ]
     },
     "execution_count": 27,
     "metadata": {},
     "output_type": "execute_result"
    }
   ],
   "source": [
    "df['Area (ha)'].describe()"
   ]
  },
  {
   "cell_type": "markdown",
   "metadata": {},
   "source": [
    "### Yield (mt/ha)"
   ]
  },
  {
   "cell_type": "code",
   "execution_count": 28,
   "metadata": {},
   "outputs": [
    {
     "data": {
      "text/plain": [
       "count    848.000000\n",
       "mean       0.759493\n",
       "std        0.520404\n",
       "min        0.000000\n",
       "25%        0.418086\n",
       "50%        0.716335\n",
       "75%        0.995773\n",
       "max        3.033851\n",
       "Name: Yield (mt/ha), dtype: float64"
      ]
     },
     "execution_count": 28,
     "metadata": {},
     "output_type": "execute_result"
    }
   ],
   "source": [
    "df['Yield (mt/ha)'].describe()"
   ]
  },
  {
   "cell_type": "code",
   "execution_count": 29,
   "metadata": {},
   "outputs": [
    {
     "name": "stdout",
     "output_type": "stream",
     "text": [
      "Mean:  0.7594927604877921\n",
      "\n",
      "Standard deviation:  0.5200971864496304\n",
      "\n",
      "Outliers  :  [3.033851185609158, 2.6106721698113207, 2.5989411764705883, 2.460055555555556, 2.511278439869989, 2.410487012987013, 2.4969852216748767, 2.416433497536945, 2.338139079333986, 2.4014103819784527, 2.408364348677767, 2.414779627815866, 2.496699314397649, 2.5269565217391303, 2.417729468599034, 2.4679710144927536, 2.568461538461538, 2.4684134615384616, 2.482941176470588, 2.40209756097561, 2.432436647173489, 2.389044834307992, 2.4140388349514565, 2.4462585034013604, 2.4337342386032974, 2.411309408341416, 2.418846899224806]\n"
     ]
    }
   ],
   "source": [
    "mean = np.mean(df['Yield (mt/ha)'])\n",
    "std = np.std(df['Yield (mt/ha)'])\n",
    " \n",
    "threshold = 3\n",
    "outliers = []\n",
    "for x in df['Yield (mt/ha)']:\n",
    "    z_score = (x - mean) / std\n",
    "    if abs(z_score) > threshold:\n",
    "        outliers.append(x)\n",
    "print(\"Mean: \",mean)\n",
    "print(\"\\nStandard deviation: \",std)\n",
    "print(\"\\nOutliers  : \", outliers)"
   ]
  },
  {
   "cell_type": "code",
   "execution_count": 30,
   "metadata": {},
   "outputs": [],
   "source": [
    "upper_limit = df['Yield (mt/ha)'].mean() + 3*df['Yield (mt/ha)'].std()\n",
    "lower_limit = df['Yield (mt/ha)'].mean() - 3*df['Yield (mt/ha)'].std()\n",
    "\n",
    "df['Yield (mt/ha)'] = np.where(\n",
    "    df['Yield (mt/ha)']>upper_limit,\n",
    "    upper_limit,\n",
    "    np.where(\n",
    "        df['Yield (mt/ha)']<lower_limit,\n",
    "        lower_limit,\n",
    "        df['Yield (mt/ha)']\n",
    "    )\n",
    ")"
   ]
  },
  {
   "cell_type": "code",
   "execution_count": 31,
   "metadata": {},
   "outputs": [
    {
     "data": {
      "text/plain": [
       "count    848.000000\n",
       "mean       0.754517\n",
       "std        0.503938\n",
       "min        0.000000\n",
       "25%        0.418086\n",
       "50%        0.716335\n",
       "75%        0.995773\n",
       "max        2.320705\n",
       "Name: Yield (mt/ha), dtype: float64"
      ]
     },
     "execution_count": 31,
     "metadata": {},
     "output_type": "execute_result"
    }
   ],
   "source": [
    "df['Yield (mt/ha)'].describe()"
   ]
  },
  {
   "cell_type": "markdown",
   "metadata": {},
   "source": [
    "### weathercode (wmo code)"
   ]
  },
  {
   "cell_type": "markdown",
   "metadata": {},
   "source": [
    "### temperature_2m (°C)"
   ]
  },
  {
   "cell_type": "code",
   "execution_count": 32,
   "metadata": {},
   "outputs": [
    {
     "data": {
      "text/plain": [
       "count    957.000000\n",
       "mean      24.991554\n",
       "std        2.098423\n",
       "min       19.513037\n",
       "25%       23.408071\n",
       "50%       25.546221\n",
       "75%       26.629178\n",
       "max       28.487750\n",
       "Name: temperature_2m (°C), dtype: float64"
      ]
     },
     "execution_count": 32,
     "metadata": {},
     "output_type": "execute_result"
    }
   ],
   "source": [
    "df['temperature_2m (°C)'].describe()"
   ]
  },
  {
   "cell_type": "code",
   "execution_count": 33,
   "metadata": {},
   "outputs": [
    {
     "name": "stdout",
     "output_type": "stream",
     "text": [
      "Mean:  24.991553992541874\n",
      "\n",
      "Standard deviation:  2.097326743430097\n",
      "\n",
      "Outliers  :  []\n"
     ]
    }
   ],
   "source": [
    "mean = np.mean(df['temperature_2m (°C)'])\n",
    "std = np.std(df['temperature_2m (°C)'])\n",
    " \n",
    "threshold = 3\n",
    "outliers = []\n",
    "for x in df['temperature_2m (°C)']:\n",
    "    z_score = (x - mean) / std\n",
    "    if abs(z_score) > threshold:\n",
    "        outliers.append(x)\n",
    "print(\"Mean: \",mean)\n",
    "print(\"\\nStandard deviation: \",std)\n",
    "print(\"\\nOutliers  : \", outliers)"
   ]
  },
  {
   "cell_type": "markdown",
   "metadata": {},
   "source": [
    "### relativehumidity_2m (%)"
   ]
  },
  {
   "cell_type": "code",
   "execution_count": null,
   "metadata": {},
   "outputs": [],
   "source": [
    "df['relativehumidity_2m (%)'].describe()"
   ]
  },
  {
   "cell_type": "code",
   "execution_count": 34,
   "metadata": {},
   "outputs": [
    {
     "name": "stdout",
     "output_type": "stream",
     "text": [
      "Mean:  84.7909702354295\n",
      "\n",
      "Standard deviation:  2.781320487188561\n",
      "\n",
      "Outliers  :  [75.36851092896175, 74.41860730593608, 75.34509132420091, 76.39970400728598]\n"
     ]
    }
   ],
   "source": [
    "mean = np.mean(df['relativehumidity_2m (%)'])\n",
    "std = np.std(df['relativehumidity_2m (%)'])\n",
    " \n",
    "threshold = 3\n",
    "outliers = []\n",
    "for x in df['relativehumidity_2m (%)']:\n",
    "    z_score = (x - mean) / std\n",
    "    if abs(z_score) > threshold:\n",
    "        outliers.append(x)\n",
    "print(\"Mean: \",mean)\n",
    "print(\"\\nStandard deviation: \",std)\n",
    "print(\"\\nOutliers  : \", outliers)"
   ]
  },
  {
   "cell_type": "code",
   "execution_count": 35,
   "metadata": {},
   "outputs": [],
   "source": [
    "upper_limit = df['relativehumidity_2m (%)'].mean() + 3*df['relativehumidity_2m (%)'].std()\n",
    "lower_limit = df['relativehumidity_2m (%)'].mean() - 3*df['relativehumidity_2m (%)'].std()\n",
    "\n",
    "df['relativehumidity_2m (%)'] = np.where(\n",
    "    df['relativehumidity_2m (%)']>upper_limit,\n",
    "    upper_limit,\n",
    "    np.where(\n",
    "        df['relativehumidity_2m (%)']<lower_limit,\n",
    "        lower_limit,\n",
    "        df['relativehumidity_2m (%)']\n",
    "    )\n",
    ")"
   ]
  },
  {
   "cell_type": "code",
   "execution_count": 36,
   "metadata": {},
   "outputs": [
    {
     "data": {
      "text/plain": [
       "count    957.000000\n",
       "mean      84.795399\n",
       "std        2.768218\n",
       "min       76.442646\n",
       "25%       82.597603\n",
       "50%       84.784153\n",
       "75%       86.853425\n",
       "max       91.361530\n",
       "Name: relativehumidity_2m (%), dtype: float64"
      ]
     },
     "execution_count": 36,
     "metadata": {},
     "output_type": "execute_result"
    }
   ],
   "source": [
    "df['relativehumidity_2m (%)'].describe()"
   ]
  },
  {
   "cell_type": "markdown",
   "metadata": {},
   "source": [
    "### dewpoint_2m (°C)"
   ]
  },
  {
   "cell_type": "code",
   "execution_count": 37,
   "metadata": {},
   "outputs": [
    {
     "data": {
      "text/plain": [
       "count    957.000000\n",
       "mean      22.126121\n",
       "std        1.757050\n",
       "min       16.883071\n",
       "25%       20.821004\n",
       "50%       22.763559\n",
       "75%       23.504760\n",
       "max       25.526416\n",
       "Name: dewpoint_2m (°C), dtype: float64"
      ]
     },
     "execution_count": 37,
     "metadata": {},
     "output_type": "execute_result"
    }
   ],
   "source": [
    "df['dewpoint_2m (°C)'].describe()"
   ]
  },
  {
   "cell_type": "code",
   "execution_count": 38,
   "metadata": {},
   "outputs": [
    {
     "name": "stdout",
     "output_type": "stream",
     "text": [
      "Mean:  22.12612115307271\n",
      "\n",
      "Standard deviation:  1.7561315848368257\n",
      "\n",
      "Outliers  :  []\n"
     ]
    }
   ],
   "source": [
    "mean = np.mean(df['dewpoint_2m (°C)'])\n",
    "std = np.std(df['dewpoint_2m (°C)'])\n",
    " \n",
    "threshold = 3\n",
    "outliers = []\n",
    "for x in df['dewpoint_2m (°C)']:\n",
    "    z_score = (x - mean) / std\n",
    "    if abs(z_score) > threshold:\n",
    "        outliers.append(x)\n",
    "print(\"Mean: \",mean)\n",
    "print(\"\\nStandard deviation: \",std)\n",
    "print(\"\\nOutliers  : \", outliers)"
   ]
  },
  {
   "cell_type": "markdown",
   "metadata": {},
   "source": [
    "### rain (mm)"
   ]
  },
  {
   "cell_type": "code",
   "execution_count": 39,
   "metadata": {},
   "outputs": [
    {
     "data": {
      "text/plain": [
       "count    957.000000\n",
       "mean       0.301119\n",
       "std        0.113049\n",
       "min        0.079349\n",
       "25%        0.216883\n",
       "50%        0.290822\n",
       "75%        0.371826\n",
       "max        0.777489\n",
       "Name: rain (mm), dtype: float64"
      ]
     },
     "execution_count": 39,
     "metadata": {},
     "output_type": "execute_result"
    }
   ],
   "source": [
    "df['rain (mm)'].describe()"
   ]
  },
  {
   "cell_type": "code",
   "execution_count": 40,
   "metadata": {},
   "outputs": [
    {
     "name": "stdout",
     "output_type": "stream",
     "text": [
      "Mean:  0.3011189907753717\n",
      "\n",
      "Standard deviation:  0.11298964708190931\n",
      "\n",
      "Outliers  :  [0.7528538812785388, 0.6510587431693988, 0.6884107468123861, 0.7463812785388128, 0.7159246575342466, 0.734703196347032, 0.7473059360730593, 0.7774885844748859]\n"
     ]
    }
   ],
   "source": [
    "mean = np.mean(df['rain (mm)'])\n",
    "std = np.std(df['rain (mm)'])\n",
    " \n",
    "threshold = 3\n",
    "outliers = []\n",
    "for x in df['rain (mm)']:\n",
    "    z_score = (x - mean) / std\n",
    "    if abs(z_score) > threshold:\n",
    "        outliers.append(x)\n",
    "print(\"Mean: \",mean)\n",
    "print(\"\\nStandard deviation: \",std)\n",
    "print(\"\\nOutliers  : \", outliers)"
   ]
  },
  {
   "cell_type": "code",
   "execution_count": 41,
   "metadata": {},
   "outputs": [],
   "source": [
    "upper_limit = df['rain (mm)'].mean() + 3*df['rain (mm)'].std()\n",
    "lower_limit = df['rain (mm)'].mean() - 3*df['rain (mm)'].std()\n",
    "\n",
    "df['rain (mm)'] = np.where(\n",
    "    df['rain (mm)']>upper_limit,\n",
    "    upper_limit,\n",
    "    np.where(\n",
    "        df['rain (mm)']<lower_limit,\n",
    "        lower_limit,\n",
    "        df['rain (mm)']\n",
    "    )\n",
    ")"
   ]
  },
  {
   "cell_type": "code",
   "execution_count": 42,
   "metadata": {},
   "outputs": [
    {
     "data": {
      "text/plain": [
       "count    957.000000\n",
       "mean       0.300396\n",
       "std        0.110517\n",
       "min        0.079349\n",
       "25%        0.216883\n",
       "50%        0.290822\n",
       "75%        0.371826\n",
       "max        0.640265\n",
       "Name: rain (mm), dtype: float64"
      ]
     },
     "execution_count": 42,
     "metadata": {},
     "output_type": "execute_result"
    }
   ],
   "source": [
    "df['rain (mm)'].describe()"
   ]
  },
  {
   "cell_type": "markdown",
   "metadata": {},
   "source": [
    "### surface_pressure (hPa)"
   ]
  },
  {
   "cell_type": "code",
   "execution_count": 43,
   "metadata": {},
   "outputs": [
    {
     "data": {
      "text/plain": [
       "count     957.000000\n",
       "mean      971.342668\n",
       "std        41.075035\n",
       "min       875.282320\n",
       "25%       940.075808\n",
       "50%       984.133733\n",
       "75%      1008.225422\n",
       "max      1010.695091\n",
       "Name: surface_pressure (hPa), dtype: float64"
      ]
     },
     "execution_count": 43,
     "metadata": {},
     "output_type": "execute_result"
    }
   ],
   "source": [
    "df['surface_pressure (hPa)'].describe()"
   ]
  },
  {
   "cell_type": "code",
   "execution_count": 44,
   "metadata": {},
   "outputs": [
    {
     "name": "stdout",
     "output_type": "stream",
     "text": [
      "Mean:  971.3426682532506\n",
      "\n",
      "Standard deviation:  41.053569459738945\n",
      "\n",
      "Outliers  :  []\n"
     ]
    }
   ],
   "source": [
    "mean = np.mean(df['surface_pressure (hPa)'])\n",
    "std = np.std(df['surface_pressure (hPa)'])\n",
    " \n",
    "threshold = 3\n",
    "outliers = []\n",
    "for x in df['surface_pressure (hPa)']:\n",
    "    z_score = (x - mean) / std\n",
    "    if abs(z_score) > threshold:\n",
    "        outliers.append(x)\n",
    "print(\"Mean: \",mean)\n",
    "print(\"\\nStandard deviation: \",std)\n",
    "print(\"\\nOutliers  : \", outliers)"
   ]
  },
  {
   "cell_type": "markdown",
   "metadata": {},
   "source": [
    "### cloudcover (%)"
   ]
  },
  {
   "cell_type": "code",
   "execution_count": null,
   "metadata": {},
   "outputs": [],
   "source": [
    "df['cloudcover (%)'].describe()"
   ]
  },
  {
   "cell_type": "code",
   "execution_count": 45,
   "metadata": {},
   "outputs": [
    {
     "name": "stdout",
     "output_type": "stream",
     "text": [
      "Mean:  58.065295196920566\n",
      "\n",
      "Standard deviation:  9.04278792057169\n",
      "\n",
      "Outliers  :  []\n"
     ]
    }
   ],
   "source": [
    "mean = np.mean(df['cloudcover (%)'])\n",
    "std = np.std(df['cloudcover (%)'])\n",
    " \n",
    "threshold = 3\n",
    "outliers = []\n",
    "for x in df['cloudcover (%)']:\n",
    "    z_score = (x - mean) / std\n",
    "    if abs(z_score) > threshold:\n",
    "        outliers.append(x)\n",
    "print(\"Mean: \",mean)\n",
    "print(\"\\nStandard deviation: \",std)\n",
    "print(\"\\nOutliers  : \", outliers)"
   ]
  },
  {
   "cell_type": "markdown",
   "metadata": {},
   "source": [
    "### et0_fao_evapotranspiration (mm)"
   ]
  },
  {
   "cell_type": "code",
   "execution_count": 46,
   "metadata": {},
   "outputs": [
    {
     "data": {
      "text/plain": [
       "count    957.000000\n",
       "mean       0.152774\n",
       "std        0.011968\n",
       "min        0.125298\n",
       "25%        0.144041\n",
       "50%        0.151785\n",
       "75%        0.160162\n",
       "max        0.195507\n",
       "Name: et0_fao_evapotranspiration (mm), dtype: float64"
      ]
     },
     "execution_count": 46,
     "metadata": {},
     "output_type": "execute_result"
    }
   ],
   "source": [
    "df['et0_fao_evapotranspiration (mm)'].describe()"
   ]
  },
  {
   "cell_type": "code",
   "execution_count": 51,
   "metadata": {},
   "outputs": [
    {
     "name": "stdout",
     "output_type": "stream",
     "text": [
      "Mean:  0.1527595939558072\n",
      "\n",
      "Standard deviation:  0.011917021040944347\n",
      "\n",
      "Outliers  :  [0.1885833333333333, 0.18867875460653177, 0.18867875460653177, 0.18867875460653177]\n"
     ]
    }
   ],
   "source": [
    "mean = np.mean(df['et0_fao_evapotranspiration (mm)'])\n",
    "std = np.std(df['et0_fao_evapotranspiration (mm)'])\n",
    " \n",
    "threshold = 3\n",
    "outliers = []\n",
    "for x in df['et0_fao_evapotranspiration (mm)']:\n",
    "    z_score = (x - mean) / std\n",
    "    if abs(z_score) > threshold:\n",
    "        outliers.append(x)\n",
    "print(\"Mean: \",mean)\n",
    "print(\"\\nStandard deviation: \",std)\n",
    "print(\"\\nOutliers  : \", outliers)"
   ]
  },
  {
   "cell_type": "code",
   "execution_count": 52,
   "metadata": {},
   "outputs": [],
   "source": [
    "upper_limit = df['et0_fao_evapotranspiration (mm)'].mean() + 3*df['et0_fao_evapotranspiration (mm)'].std()\n",
    "lower_limit = df['et0_fao_evapotranspiration (mm)'].mean() - 3*df['et0_fao_evapotranspiration (mm)'].std()\n",
    "\n",
    "df['et0_fao_evapotranspiration (mm)'] = np.where(\n",
    "    df['et0_fao_evapotranspiration (mm)']>upper_limit,\n",
    "    upper_limit,\n",
    "    np.where(\n",
    "        df['et0_fao_evapotranspiration (mm)']<lower_limit,\n",
    "        lower_limit,\n",
    "        df['et0_fao_evapotranspiration (mm)']\n",
    "    )\n",
    ")"
   ]
  },
  {
   "cell_type": "code",
   "execution_count": 53,
   "metadata": {},
   "outputs": [
    {
     "data": {
      "text/plain": [
       "count    957.000000\n",
       "mean       0.152759\n",
       "std        0.011922\n",
       "min        0.125298\n",
       "25%        0.144041\n",
       "50%        0.151785\n",
       "75%        0.160162\n",
       "max        0.188529\n",
       "Name: et0_fao_evapotranspiration (mm), dtype: float64"
      ]
     },
     "execution_count": 53,
     "metadata": {},
     "output_type": "execute_result"
    }
   ],
   "source": [
    "df['et0_fao_evapotranspiration (mm)'].describe()"
   ]
  },
  {
   "cell_type": "markdown",
   "metadata": {},
   "source": [
    "### vapor_pressure_deficit (kPa)"
   ]
  },
  {
   "cell_type": "code",
   "execution_count": 50,
   "metadata": {},
   "outputs": [
    {
     "data": {
      "text/plain": [
       "count    957.000000\n",
       "mean       0.152760\n",
       "std        0.011923\n",
       "min        0.125298\n",
       "25%        0.144041\n",
       "50%        0.151785\n",
       "75%        0.160162\n",
       "max        0.188679\n",
       "Name: et0_fao_evapotranspiration (mm), dtype: float64"
      ]
     },
     "execution_count": 50,
     "metadata": {},
     "output_type": "execute_result"
    }
   ],
   "source": [
    "df['vapor_pressure_deficit (kPa)'].describe()"
   ]
  },
  {
   "cell_type": "code",
   "execution_count": 54,
   "metadata": {},
   "outputs": [
    {
     "name": "stdout",
     "output_type": "stream",
     "text": [
      "Mean:  0.5234202045500033\n",
      "\n",
      "Standard deviation:  0.1341113357174408\n",
      "\n",
      "Outliers  :  [0.9568340163934426, 0.9266221461187216, 1.0894041095890412, 0.984077868852459, 1.009369863013699, 0.9790482695810564]\n"
     ]
    }
   ],
   "source": [
    "mean = np.mean(df['vapor_pressure_deficit (kPa)'])\n",
    "std = np.std(df['vapor_pressure_deficit (kPa)'])\n",
    " \n",
    "threshold = 3\n",
    "outliers = []\n",
    "for x in df['vapor_pressure_deficit (kPa)']:\n",
    "    z_score = (x - mean) / std\n",
    "    if abs(z_score) > threshold:\n",
    "        outliers.append(x)\n",
    "print(\"Mean: \",mean)\n",
    "print(\"\\nStandard deviation: \",std)\n",
    "print(\"\\nOutliers  : \", outliers)"
   ]
  },
  {
   "cell_type": "code",
   "execution_count": 55,
   "metadata": {},
   "outputs": [],
   "source": [
    "upper_limit = df['vapor_pressure_deficit (kPa)'].mean() + 3*df['vapor_pressure_deficit (kPa)'].std()\n",
    "lower_limit = df['vapor_pressure_deficit (kPa)'].mean() - 3*df['vapor_pressure_deficit (kPa)'].std()\n",
    "\n",
    "df['vapor_pressure_deficit (kPa)'] = np.where(\n",
    "    df['vapor_pressure_deficit (kPa)']>upper_limit,\n",
    "    upper_limit,\n",
    "    np.where(\n",
    "        df['vapor_pressure_deficit (kPa)']<lower_limit,\n",
    "        lower_limit,\n",
    "        df['vapor_pressure_deficit (kPa)']\n",
    "    )\n",
    ")"
   ]
  },
  {
   "cell_type": "code",
   "execution_count": 56,
   "metadata": {},
   "outputs": [
    {
     "data": {
      "text/plain": [
       "count    957.000000\n",
       "mean       0.523013\n",
       "std        0.132792\n",
       "min        0.240229\n",
       "25%        0.425146\n",
       "50%        0.536473\n",
       "75%        0.614129\n",
       "max        0.925965\n",
       "Name: vapor_pressure_deficit (kPa), dtype: float64"
      ]
     },
     "execution_count": 56,
     "metadata": {},
     "output_type": "execute_result"
    }
   ],
   "source": [
    "df['vapor_pressure_deficit (kPa)'].describe()"
   ]
  },
  {
   "cell_type": "markdown",
   "metadata": {},
   "source": [
    "### windspeed_10m (km/h)"
   ]
  },
  {
   "cell_type": "code",
   "execution_count": 64,
   "metadata": {},
   "outputs": [
    {
     "data": {
      "text/plain": [
       "count    957.000000\n",
       "mean       6.684189\n",
       "std        3.860891\n",
       "min        2.694820\n",
       "25%        4.373390\n",
       "50%        5.370148\n",
       "75%        7.670365\n",
       "max       18.503608\n",
       "Name: windspeed_10m (km/h), dtype: float64"
      ]
     },
     "execution_count": 64,
     "metadata": {},
     "output_type": "execute_result"
    }
   ],
   "source": [
    "df['windspeed_10m (km/h)'].describe()"
   ]
  },
  {
   "cell_type": "code",
   "execution_count": 65,
   "metadata": {},
   "outputs": [
    {
     "name": "stdout",
     "output_type": "stream",
     "text": [
      "Mean:  6.684188555283434\n",
      "\n",
      "Standard deviation:  3.858873351961938\n",
      "\n",
      "Outliers  :  [18.5036080736801, 18.5036080736801, 18.5036080736801, 18.5036080736801, 18.5036080736801, 18.49433789954338, 18.5036080736801, 18.5036080736801, 18.5036080736801, 18.5036080736801, 18.5036080736801, 18.5036080736801, 18.5036080736801, 18.35655251141553, 18.5036080736801, 18.5036080736801, 18.456312785388125, 18.460490867579907, 18.26866438356164, 18.5036080736801, 18.5036080736801, 18.5036080736801, 18.5036080736801, 18.5036080736801, 18.5036080736801, 18.5036080736801, 18.5036080736801, 18.5036080736801, 18.5036080736801, 18.5036080736801, 18.5036080736801, 18.5036080736801, 18.38070776255708, 18.5036080736801, 18.5036080736801, 18.36211187214612]\n"
     ]
    }
   ],
   "source": [
    "mean = np.mean(df['windspeed_10m (km/h)'])\n",
    "std = np.std(df['windspeed_10m (km/h)'])\n",
    " \n",
    "threshold = 3\n",
    "outliers = []\n",
    "for x in df['windspeed_10m (km/h)']:\n",
    "    z_score = (x - mean) / std\n",
    "    if abs(z_score) > threshold:\n",
    "        outliers.append(x)\n",
    "print(\"Mean: \",mean)\n",
    "print(\"\\nStandard deviation: \",std)\n",
    "print(\"\\nOutliers  : \", outliers)"
   ]
  },
  {
   "cell_type": "code",
   "execution_count": 66,
   "metadata": {},
   "outputs": [],
   "source": [
    "upper_limit = df['windspeed_10m (km/h)'].mean() + 3*df['windspeed_10m (km/h)'].std()\n",
    "lower_limit = df['windspeed_10m (km/h)'].mean() - 3*df['windspeed_10m (km/h)'].std()\n",
    "\n",
    "df['windspeed_10m (km/h)'] = np.where(\n",
    "    df['windspeed_10m (km/h)']>upper_limit,\n",
    "    upper_limit,\n",
    "    np.where(\n",
    "        df['windspeed_10m (km/h)']<lower_limit,\n",
    "        lower_limit,\n",
    "        df['windspeed_10m (km/h)']\n",
    "    )\n",
    ")"
   ]
  },
  {
   "cell_type": "code",
   "execution_count": 67,
   "metadata": {},
   "outputs": [
    {
     "data": {
      "text/plain": [
       "count    957.000000\n",
       "mean       6.676062\n",
       "std        3.836158\n",
       "min        2.694820\n",
       "25%        4.373390\n",
       "50%        5.370148\n",
       "75%        7.670365\n",
       "max       18.266862\n",
       "Name: windspeed_10m (km/h), dtype: float64"
      ]
     },
     "execution_count": 67,
     "metadata": {},
     "output_type": "execute_result"
    }
   ],
   "source": [
    "df['windspeed_10m (km/h)'].describe()"
   ]
  },
  {
   "cell_type": "markdown",
   "metadata": {},
   "source": [
    "### winddirection_10m (°)"
   ]
  },
  {
   "cell_type": "code",
   "execution_count": 68,
   "metadata": {},
   "outputs": [
    {
     "data": {
      "text/plain": [
       "count    957.000000\n",
       "mean     167.901813\n",
       "std       25.848587\n",
       "min      102.151370\n",
       "25%      147.480305\n",
       "50%      167.572831\n",
       "75%      185.453324\n",
       "max      240.453995\n",
       "Name: winddirection_10m (°), dtype: float64"
      ]
     },
     "execution_count": 68,
     "metadata": {},
     "output_type": "execute_result"
    }
   ],
   "source": [
    "df['winddirection_10m (°)'].describe()"
   ]
  },
  {
   "cell_type": "code",
   "execution_count": 69,
   "metadata": {},
   "outputs": [
    {
     "name": "stdout",
     "output_type": "stream",
     "text": [
      "Mean:  167.90181276735535\n",
      "\n",
      "Standard deviation:  25.835078761120528\n",
      "\n",
      "Outliers  :  []\n"
     ]
    }
   ],
   "source": [
    "mean = np.mean(df['winddirection_10m (°)'])\n",
    "std = np.std(df['winddirection_10m (°)'])\n",
    " \n",
    "threshold = 3\n",
    "outliers = []\n",
    "for x in df['winddirection_10m (°)']:\n",
    "    z_score = (x - mean) / std\n",
    "    if abs(z_score) > threshold:\n",
    "        outliers.append(x)\n",
    "print(\"Mean: \",mean)\n",
    "print(\"\\nStandard deviation: \",std)\n",
    "print(\"\\nOutliers  : \", outliers)"
   ]
  },
  {
   "cell_type": "markdown",
   "metadata": {},
   "source": [
    "### windgusts_10m (km/h)"
   ]
  },
  {
   "cell_type": "code",
   "execution_count": 72,
   "metadata": {},
   "outputs": [
    {
     "data": {
      "text/plain": [
       "count    957.000000\n",
       "mean      18.107908\n",
       "std        3.473441\n",
       "min       11.438721\n",
       "25%       16.027641\n",
       "50%       17.547374\n",
       "75%       19.259085\n",
       "max       29.767032\n",
       "Name: windgusts_10m (km/h), dtype: float64"
      ]
     },
     "execution_count": 72,
     "metadata": {},
     "output_type": "execute_result"
    }
   ],
   "source": [
    "df['windgusts_10m (km/h)'].describe()"
   ]
  },
  {
   "cell_type": "code",
   "execution_count": 73,
   "metadata": {},
   "outputs": [
    {
     "name": "stdout",
     "output_type": "stream",
     "text": [
      "Mean:  18.107907891381224\n",
      "\n",
      "Standard deviation:  3.4716255755403025\n",
      "\n",
      "Outliers  :  [28.61730593607306, 29.323082191780824, 29.76703196347032, 28.53336757990868, 29.47859589041096, 28.72324200913242, 29.312226027397266, 28.64623287671233, 29.591757741347905, 28.526883561643835, 29.339726027397266, 28.88730593607306]\n"
     ]
    }
   ],
   "source": [
    "mean = np.mean(df['windgusts_10m (km/h)'])\n",
    "std = np.std(df['windgusts_10m (km/h)'])\n",
    " \n",
    "threshold = 3\n",
    "outliers = []\n",
    "for x in df['windgusts_10m (km/h)']:\n",
    "    z_score = (x - mean) / std\n",
    "    if abs(z_score) > threshold:\n",
    "        outliers.append(x)\n",
    "print(\"Mean: \",mean)\n",
    "print(\"\\nStandard deviation: \",std)\n",
    "print(\"\\nOutliers  : \", outliers)"
   ]
  },
  {
   "cell_type": "code",
   "execution_count": 74,
   "metadata": {},
   "outputs": [],
   "source": [
    "upper_limit = df['windgusts_10m (km/h)'].mean() + 3*df['windgusts_10m (km/h)'].std()\n",
    "lower_limit = df['windgusts_10m (km/h)'].mean() - 3*df['windgusts_10m (km/h)'].std()\n",
    "\n",
    "df['windgusts_10m (km/h)'] = np.where(\n",
    "    df['windgusts_10m (km/h)']>upper_limit,\n",
    "    upper_limit,\n",
    "    np.where(\n",
    "        df['windgusts_10m (km/h)']<lower_limit,\n",
    "        lower_limit,\n",
    "        df['windgusts_10m (km/h)']\n",
    "    )\n",
    ")"
   ]
  },
  {
   "cell_type": "code",
   "execution_count": 75,
   "metadata": {},
   "outputs": [
    {
     "data": {
      "text/plain": [
       "count    957.000000\n",
       "mean      18.101211\n",
       "std        3.452405\n",
       "min       11.438721\n",
       "25%       16.027641\n",
       "50%       17.547374\n",
       "75%       19.259085\n",
       "max       28.528230\n",
       "Name: windgusts_10m (km/h), dtype: float64"
      ]
     },
     "execution_count": 75,
     "metadata": {},
     "output_type": "execute_result"
    }
   ],
   "source": [
    "df['windgusts_10m (km/h)'].describe()"
   ]
  },
  {
   "cell_type": "markdown",
   "metadata": {},
   "source": [
    "### soil_temperature_28_to_100cm (°C)"
   ]
  },
  {
   "cell_type": "code",
   "execution_count": 76,
   "metadata": {},
   "outputs": [
    {
     "data": {
      "text/plain": [
       "count    957.000000\n",
       "mean      26.154387\n",
       "std        1.969559\n",
       "min       20.910622\n",
       "25%       24.714754\n",
       "50%       26.615468\n",
       "75%       27.446884\n",
       "max       31.171849\n",
       "Name: soil_temperature_28_to_100cm (°C), dtype: float64"
      ]
     },
     "execution_count": 76,
     "metadata": {},
     "output_type": "execute_result"
    }
   ],
   "source": [
    "df['soil_temperature_28_to_100cm (°C)'].describe()"
   ]
  },
  {
   "cell_type": "code",
   "execution_count": 77,
   "metadata": {},
   "outputs": [
    {
     "name": "stdout",
     "output_type": "stream",
     "text": [
      "Mean:  26.154386806569722\n",
      "\n",
      "Standard deviation:  1.9685298290249793\n",
      "\n",
      "Outliers  :  []\n"
     ]
    }
   ],
   "source": [
    "mean = np.mean(df['soil_temperature_28_to_100cm (°C)'])\n",
    "std = np.std(df['soil_temperature_28_to_100cm (°C)'])\n",
    " \n",
    "threshold = 3\n",
    "outliers = []\n",
    "for x in df['soil_temperature_28_to_100cm (°C)']:\n",
    "    z_score = (x - mean) / std\n",
    "    if abs(z_score) > threshold:\n",
    "        outliers.append(x)\n",
    "print(\"Mean: \",mean)\n",
    "print(\"\\nStandard deviation: \",std)\n",
    "print(\"\\nOutliers  : \", outliers)"
   ]
  },
  {
   "cell_type": "markdown",
   "metadata": {},
   "source": [
    "### soil_moisture_28_to_100cm (m³/m³)"
   ]
  },
  {
   "cell_type": "code",
   "execution_count": 78,
   "metadata": {},
   "outputs": [
    {
     "data": {
      "text/plain": [
       "count    957.000000\n",
       "mean       0.376344\n",
       "std        0.095617\n",
       "min        0.000000\n",
       "25%        0.358457\n",
       "50%        0.400144\n",
       "75%        0.431587\n",
       "max        0.481368\n",
       "Name: soil_moisture_28_to_100cm (m³/m³), dtype: float64"
      ]
     },
     "execution_count": 78,
     "metadata": {},
     "output_type": "execute_result"
    }
   ],
   "source": [
    "df['soil_moisture_28_to_100cm (m³/m³)'].describe()"
   ]
  },
  {
   "cell_type": "code",
   "execution_count": 79,
   "metadata": {},
   "outputs": [
    {
     "name": "stdout",
     "output_type": "stream",
     "text": [
      "Mean:  0.3763435039259923\n",
      "\n",
      "Standard deviation:  0.09556743365571212\n",
      "\n",
      "Outliers  :  [0.0, 0.0, 0.0, 0.0, 0.0, 0.0, 0.0, 0.0, 0.0, 0.0, 0.0, 0.0, 0.0, 0.0, 0.0, 0.0, 0.0, 0.0, 0.0, 0.0, 0.0, 0.0, 0.0, 0.0, 0.0, 0.0, 0.0, 0.0, 0.0, 0.0, 0.0, 0.0, 0.0]\n"
     ]
    }
   ],
   "source": [
    "mean = np.mean(df['soil_moisture_28_to_100cm (m³/m³)'])\n",
    "std = np.std(df['soil_moisture_28_to_100cm (m³/m³)'])\n",
    " \n",
    "threshold = 3\n",
    "outliers = []\n",
    "for x in df['soil_moisture_28_to_100cm (m³/m³)']:\n",
    "    z_score = (x - mean) / std\n",
    "    if abs(z_score) > threshold:\n",
    "        outliers.append(x)\n",
    "print(\"Mean: \",mean)\n",
    "print(\"\\nStandard deviation: \",std)\n",
    "print(\"\\nOutliers  : \", outliers)"
   ]
  },
  {
   "cell_type": "code",
   "execution_count": 80,
   "metadata": {},
   "outputs": [],
   "source": [
    "upper_limit = df['soil_moisture_28_to_100cm (m³/m³)'].mean() + 3*df['soil_moisture_28_to_100cm (m³/m³)'].std()\n",
    "lower_limit = df['soil_moisture_28_to_100cm (m³/m³)'].mean() - 3*df['soil_moisture_28_to_100cm (m³/m³)'].std()\n",
    "\n",
    "df['soil_moisture_28_to_100cm (m³/m³)'] = np.where(\n",
    "    df['soil_moisture_28_to_100cm (m³/m³)']>upper_limit,\n",
    "    upper_limit,\n",
    "    np.where(\n",
    "        df['soil_moisture_28_to_100cm (m³/m³)']<lower_limit,\n",
    "        lower_limit,\n",
    "        df['soil_moisture_28_to_100cm (m³/m³)']\n",
    "    )\n",
    ")"
   ]
  },
  {
   "cell_type": "code",
   "execution_count": 81,
   "metadata": {},
   "outputs": [
    {
     "data": {
      "text/plain": [
       "count    957.000000\n",
       "mean       0.379429\n",
       "std        0.084169\n",
       "min        0.089491\n",
       "25%        0.358457\n",
       "50%        0.400144\n",
       "75%        0.431587\n",
       "max        0.481368\n",
       "Name: soil_moisture_28_to_100cm (m³/m³), dtype: float64"
      ]
     },
     "execution_count": 81,
     "metadata": {},
     "output_type": "execute_result"
    }
   ],
   "source": [
    "df['soil_moisture_28_to_100cm (m³/m³)'].describe()"
   ]
  },
  {
   "cell_type": "markdown",
   "metadata": {},
   "source": [
    "### direct_radiation (W/m²)"
   ]
  },
  {
   "cell_type": "code",
   "execution_count": 82,
   "metadata": {},
   "outputs": [
    {
     "data": {
      "text/plain": [
       "count    957.000000\n",
       "mean     139.248642\n",
       "std       15.195995\n",
       "min      102.877854\n",
       "25%      128.430442\n",
       "50%      138.774087\n",
       "75%      147.594863\n",
       "max      191.157420\n",
       "Name: direct_radiation (W/m²), dtype: float64"
      ]
     },
     "execution_count": 82,
     "metadata": {},
     "output_type": "execute_result"
    }
   ],
   "source": [
    "df['direct_radiation (W/m²)'].describe()"
   ]
  },
  {
   "cell_type": "code",
   "execution_count": 83,
   "metadata": {},
   "outputs": [
    {
     "name": "stdout",
     "output_type": "stream",
     "text": [
      "Mean:  139.24864172150902\n",
      "\n",
      "Standard deviation:  15.188053690196968\n",
      "\n",
      "Outliers  :  [191.1574200913242]\n"
     ]
    }
   ],
   "source": [
    "mean = np.mean(df['direct_radiation (W/m²)'])\n",
    "std = np.std(df['direct_radiation (W/m²)'])\n",
    " \n",
    "threshold = 3\n",
    "outliers = []\n",
    "for x in df['direct_radiation (W/m²)']:\n",
    "    z_score = (x - mean) / std\n",
    "    if abs(z_score) > threshold:\n",
    "        outliers.append(x)\n",
    "print(\"Mean: \",mean)\n",
    "print(\"\\nStandard deviation: \",std)\n",
    "print(\"\\nOutliers  : \", outliers)"
   ]
  },
  {
   "cell_type": "code",
   "execution_count": 84,
   "metadata": {},
   "outputs": [],
   "source": [
    "upper_limit = df['direct_radiation (W/m²)'].mean() + 3*df['direct_radiation (W/m²)'].std()\n",
    "lower_limit = df['direct_radiation (W/m²)'].mean() - 3*df['direct_radiation (W/m²)'].std()\n",
    "\n",
    "df['direct_radiation (W/m²)'] = np.where(\n",
    "    df['direct_radiation (W/m²)']>upper_limit,\n",
    "    upper_limit,\n",
    "    np.where(\n",
    "        df['direct_radiation (W/m²)']<lower_limit,\n",
    "        lower_limit,\n",
    "        df['direct_radiation (W/m²)']\n",
    "    )\n",
    ")"
   ]
  },
  {
   "cell_type": "code",
   "execution_count": 85,
   "metadata": {},
   "outputs": [
    {
     "data": {
      "text/plain": [
       "count    957.000000\n",
       "mean     139.242037\n",
       "std       15.174769\n",
       "min      102.877854\n",
       "25%      128.430442\n",
       "50%      138.774087\n",
       "75%      147.594863\n",
       "max      184.836627\n",
       "Name: direct_radiation (W/m²), dtype: float64"
      ]
     },
     "execution_count": 85,
     "metadata": {},
     "output_type": "execute_result"
    }
   ],
   "source": [
    "df['direct_radiation (W/m²)'].describe()"
   ]
  },
  {
   "cell_type": "markdown",
   "metadata": {},
   "source": [
    "### diffuse_radiation (W/m²)"
   ]
  },
  {
   "cell_type": "code",
   "execution_count": 86,
   "metadata": {},
   "outputs": [
    {
     "data": {
      "text/plain": [
       "count    957.000000\n",
       "mean      72.933381\n",
       "std        3.379131\n",
       "min       60.199886\n",
       "25%       70.765411\n",
       "50%       72.816438\n",
       "75%       75.388014\n",
       "max       81.203539\n",
       "Name: diffuse_radiation (W/m²), dtype: float64"
      ]
     },
     "execution_count": 86,
     "metadata": {},
     "output_type": "execute_result"
    }
   ],
   "source": [
    "df['diffuse_radiation (W/m²)'].describe()"
   ]
  },
  {
   "cell_type": "code",
   "execution_count": 87,
   "metadata": {},
   "outputs": [
    {
     "name": "stdout",
     "output_type": "stream",
     "text": [
      "Mean:  72.93338060526844\n",
      "\n",
      "Standard deviation:  3.3773650222017277\n",
      "\n",
      "Outliers  :  [62.56849315068493, 60.199885844748856]\n"
     ]
    }
   ],
   "source": [
    "mean = np.mean(df['diffuse_radiation (W/m²)'])\n",
    "std = np.std(df['diffuse_radiation (W/m²)'])\n",
    " \n",
    "threshold = 3\n",
    "outliers = []\n",
    "for x in df['diffuse_radiation (W/m²)']:\n",
    "    z_score = (x - mean) / std\n",
    "    if abs(z_score) > threshold:\n",
    "        outliers.append(x)\n",
    "print(\"Mean: \",mean)\n",
    "print(\"\\nStandard deviation: \",std)\n",
    "print(\"\\nOutliers  : \", outliers)"
   ]
  },
  {
   "cell_type": "code",
   "execution_count": 88,
   "metadata": {},
   "outputs": [],
   "source": [
    "upper_limit = df['diffuse_radiation (W/m²)'].mean() + 3*df['diffuse_radiation (W/m²)'].std()\n",
    "lower_limit = df['diffuse_radiation (W/m²)'].mean() - 3*df['diffuse_radiation (W/m²)'].std()\n",
    "\n",
    "df['diffuse_radiation (W/m²)'] = np.where(\n",
    "    df['diffuse_radiation (W/m²)']>upper_limit,\n",
    "    upper_limit,\n",
    "    np.where(\n",
    "        df['diffuse_radiation (W/m²)']<lower_limit,\n",
    "        lower_limit,\n",
    "        df['diffuse_radiation (W/m²)']\n",
    "    )\n",
    ")"
   ]
  },
  {
   "cell_type": "code",
   "execution_count": 89,
   "metadata": {},
   "outputs": [
    {
     "data": {
      "text/plain": [
       "count    957.000000\n",
       "mean      72.936331\n",
       "std        3.369203\n",
       "min       62.795988\n",
       "25%       70.765411\n",
       "50%       72.816438\n",
       "75%       75.388014\n",
       "max       81.203539\n",
       "Name: diffuse_radiation (W/m²), dtype: float64"
      ]
     },
     "execution_count": 89,
     "metadata": {},
     "output_type": "execute_result"
    }
   ],
   "source": [
    "df['diffuse_radiation (W/m²)'].describe()"
   ]
  }
 ],
 "metadata": {
  "kernelspec": {
   "display_name": "Python 3",
   "language": "python",
   "name": "python3"
  },
  "language_info": {
   "codemirror_mode": {
    "name": "ipython",
    "version": 3
   },
   "file_extension": ".py",
   "mimetype": "text/x-python",
   "name": "python",
   "nbconvert_exporter": "python",
   "pygments_lexer": "ipython3",
   "version": "3.10.2"
  },
  "orig_nbformat": 4
 },
 "nbformat": 4,
 "nbformat_minor": 2
}
